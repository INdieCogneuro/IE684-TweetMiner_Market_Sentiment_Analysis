{
 "cells": [
  {
   "cell_type": "markdown",
   "id": "3cf23b904340b8e4",
   "metadata": {
    "collapsed": false
   },
   "source": [
    "## Fin-bert/Bert/Vader Model Evaluation"
   ]
  },
  {
   "cell_type": "code",
   "execution_count": 2,
   "id": "367b5a78",
   "metadata": {},
   "outputs": [],
   "source": [
    "import pandas as pd\n",
    "import numpy as np\n",
    "import ast\n",
    "import re\n",
    "import torch\n",
    "import gc\n",
    "import sys\n",
    "import matplotlib.pyplot as plt\n",
    "import seaborn as sns\n",
    "import os\n",
    "os.environ[\"KMP_DUPLICATE_LIB_OK\"]=\"TRUE\"\n",
    "\n",
    "from transformers import pipeline, AutoTokenizer, AutoModelForSequenceClassification\n",
    "from datetime import datetime\n",
    "from collections import Counter\n",
    "from tqdm import tqdm"
   ]
  },
  {
   "cell_type": "code",
   "execution_count": 4,
   "id": "aebce870",
   "metadata": {},
   "outputs": [],
   "source": [
    "# Split tweets into financial and non-financial\n",
    "\n",
    "def classify_financial_text(text):\n",
    "    \"\"\"\n",
    "    Determine if text contains financial terms\n",
    "    \n",
    "    Args:\n",
    "        text (str): Input text\n",
    "        \n",
    "    Returns:\n",
    "        bool: If text contains financial terms, return True, otherwise return False\n",
    "    \"\"\"\n",
    "    try:\n",
    "        # Predefined financial terms regex\n",
    "        financial_pattern = r'\\b(?:\\$[A-Z]{1,5}\\b|stock(?:\\s*price|s?)|price\\s*target|market\\s*(?:cap|value)|' \\\n",
    "                          r'shares|share\\s*price|earnings(?:\\s*report|per\\s*share|call)|semiconductor|chip\\s*industry|' \\\n",
    "                          r'invest(?:ing|ment)|trading|portfolio|dividend|buyback|' \\\n",
    "                          r'\\b(?:bull|bear)(?:ish|market)\\b|valuation|P/E|price-to-earnings|' \\\n",
    "                          r'analyst\\s*rating|upgrade|downgrade|(?:financial|quarterly)\\s*results|' \\\n",
    "                          r'volume|liquidity|SEC\\s*filing|10-[KQ]|IPO|FPO|secondary\\s*offering)'\n",
    "        \n",
    "        # Convert input to string and check if it contains financial terms\n",
    "        return bool(re.search(financial_pattern, str(text), flags=re.IGNORECASE))\n",
    "    except Exception as e:\n",
    "        print(f\"Error in classify_financial_text: {str(e)}\")\n",
    "        return False"
   ]
  },
  {
   "cell_type": "code",
   "execution_count": 5,
   "id": "21e52175f82b93c9",
   "metadata": {
    "ExecuteTime": {
     "end_time": "2025-05-15T19:08:10.751295Z",
     "start_time": "2025-05-15T19:07:51.938937Z"
    },
    "collapsed": false
   },
   "outputs": [
    {
     "name": "stdout",
     "output_type": "stream",
     "text": [
      "Loading cleaned tweet data...\n",
      "Classifying tweets as financial or non-financial...\n"
     ]
    },
    {
     "name": "stderr",
     "output_type": "stream",
     "text": [
      "Classifying: 100%|██████████| 501908/501908 [00:02<00:00, 219042.29it/s]\n"
     ]
    },
    {
     "name": "stdout",
     "output_type": "stream",
     "text": [
      "Saving new file with financial classification...\n",
      "Done. File saved to: ../2_data/cleaned_nvda_with_financial_flag.csv\n"
     ]
    }
   ],
   "source": [
    "def main():\n",
    "    print(\"Loading cleaned tweet data...\")\n",
    "    df = pd.read_csv(\"../2_data/cleaned_nvda.csv\")\n",
    "\n",
    "    if 'Cleaned_Tweet' not in df.columns:\n",
    "        print(\"Error: Missing 'Cleaned_Tweet' column in the data.\")\n",
    "        return\n",
    "\n",
    "    print(\"Classifying tweets as financial or non-financial...\")\n",
    "    tqdm.pandas(desc=\"Classifying\")\n",
    "    df['is_financial'] = df['Cleaned_Tweet'].progress_apply(classify_financial_text)\n",
    "\n",
    "    print(\"Saving new file with financial classification...\")\n",
    "    output_path = \"../2_data/cleaned_nvda_with_financial_flag.csv\"\n",
    "    df.to_csv(output_path, index=False)\n",
    "\n",
    "    print(f\"Done. File saved to: {output_path}\")\n",
    "\n",
    "\n",
    "if __name__ == \"__main__\":\n",
    "    main()"
   ]
  },
  {
   "cell_type": "code",
   "execution_count": 6,
   "id": "1f47f22805bcd640",
   "metadata": {
    "ExecuteTime": {
     "end_time": "2025-05-15T14:47:05.923554Z",
     "start_time": "2025-05-15T14:47:00.675137Z"
    },
    "collapsed": false
   },
   "outputs": [
    {
     "name": "stdout",
     "output_type": "stream",
     "text": [
      "Total number of tweets: 501908\n",
      "Number of financial tweets: 65921\n",
      "Proportion of financial tweets: 13.13%\n"
     ]
    }
   ],
   "source": [
    "import pandas as pd\n",
    "\n",
    "# Load the file that contains the 'is_financial' column\n",
    "df = pd.read_csv(\"../2_data/cleaned_nvda_with_financial_flag.csv\")\n",
    "\n",
    "# Check if the 'is_financial' column exists\n",
    "if 'is_financial' not in df.columns:\n",
    "    print(\"Error: 'is_financial' column not found.\")\n",
    "else:\n",
    "    total = len(df)  # Total number of tweets\n",
    "    financial = df['is_financial'].sum()  # Number of financial tweets (is_financial == 1)\n",
    "    proportion = financial / total  # Proportion of financial tweets\n",
    "\n",
    "    print(f\"Total number of tweets: {total}\")\n",
    "    print(f\"Number of financial tweets: {financial}\")\n",
    "    print(f\"Proportion of financial tweets: {proportion:.2%}\")"
   ]
  },
  {
   "cell_type": "code",
   "execution_count": 7,
   "id": "1a14256211fc2b74",
   "metadata": {
    "ExecuteTime": {
     "end_time": "2025-05-15T14:44:29.791453Z",
     "start_time": "2025-05-15T14:44:23.990654Z"
    },
    "collapsed": false
   },
   "outputs": [
    {
     "name": "stdout",
     "output_type": "stream",
     "text": [
      "✅ Sampling complete.\n",
      "Saved to: ../2_data/sample_300_for_manual.csv\n",
      "Final sample size: 300\n",
      "Financial counts:\n",
      " is_financial\n",
      "False    260\n",
      "True      40\n",
      "Name: count, dtype: int64\n"
     ]
    }
   ],
   "source": [
    "import pandas as pd\n",
    "\n",
    "# Load original CSV\n",
    "df = pd.read_csv(\"../2_data/cleaned_nvda_with_financial_flag.csv\")\n",
    "\n",
    "# Convert 'created_at' to datetime\n",
    "df['created_at'] = pd.to_datetime(df['created_at'], errors='coerce')\n",
    "\n",
    "# Filter for years 2017–2022\n",
    "df = df[df['created_at'].dt.year.between(2017, 2022)]\n",
    "\n",
    "# Ensure is_financial is actually boolean\n",
    "df = df[df['is_financial'].isin([True, False])]\n",
    "\n",
    "# Count available samples\n",
    "n_fin_available = df[df['is_financial'] == True].shape[0]\n",
    "n_nonfin_available = df[df['is_financial'] == False].shape[0]\n",
    "\n",
    "# Define required numbers\n",
    "n_fin_required = 40\n",
    "n_nonfin_required = 260\n",
    "\n",
    "# Adjust if not enough data\n",
    "if n_fin_available < n_fin_required:\n",
    "    print(f\"⚠️ Only {n_fin_available} financial tweets available (needed {n_fin_required})\")\n",
    "    n_fin_required = n_fin_available\n",
    "\n",
    "if n_nonfin_available < n_nonfin_required:\n",
    "    print(f\"⚠️ Only {n_nonfin_available} non-financial tweets available (needed {n_nonfin_required})\")\n",
    "    n_nonfin_required = n_nonfin_available\n",
    "\n",
    "# Safe sampling\n",
    "df_fin = df[df['is_financial'] == True].sample(n=n_fin_required, random_state=42)\n",
    "df_nonfin = df[df['is_financial'] == False].sample(n=n_nonfin_required, random_state=42)\n",
    "\n",
    "# Combine and shuffle\n",
    "df_sampled = pd.concat([df_fin, df_nonfin]).sample(frac=1, random_state=42).reset_index(drop=True)\n",
    "\n",
    "# Save to CSV\n",
    "output_path = \"../2_data/sample_300_for_manual.csv\"\n",
    "df_sampled.to_csv(output_path, index=False)\n",
    "\n",
    "# Print summary\n",
    "print(\"✅ Sampling complete.\")\n",
    "print(f\"Saved to: {output_path}\")\n",
    "print(\"Final sample size:\", len(df_sampled))\n",
    "print(\"Financial counts:\\n\", df_sampled['is_financial'].value_counts())"
   ]
  },
  {
   "cell_type": "code",
   "execution_count": 8,
   "id": "c2b0bdcd822f57bf",
   "metadata": {
    "ExecuteTime": {
     "end_time": "2025-05-15T19:06:03.030261Z",
     "start_time": "2025-05-15T19:05:35.953790Z"
    },
    "collapsed": false
   },
   "outputs": [
    {
     "ename": "ModuleNotFoundError",
     "evalue": "No module named 'vaderSentiment'",
     "output_type": "error",
     "traceback": [
      "\u001b[31m---------------------------------------------------------------------------\u001b[39m",
      "\u001b[31mModuleNotFoundError\u001b[39m                       Traceback (most recent call last)",
      "\u001b[36mCell\u001b[39m\u001b[36m \u001b[39m\u001b[32mIn[8]\u001b[39m\u001b[32m, line 4\u001b[39m\n\u001b[32m      2\u001b[39m \u001b[38;5;28;01mfrom\u001b[39;00m\u001b[38;5;250m \u001b[39m\u001b[34;01mtqdm\u001b[39;00m\u001b[38;5;250m \u001b[39m\u001b[38;5;28;01mimport\u001b[39;00m tqdm\n\u001b[32m      3\u001b[39m \u001b[38;5;28;01mfrom\u001b[39;00m\u001b[38;5;250m \u001b[39m\u001b[34;01mtransformers\u001b[39;00m\u001b[38;5;250m \u001b[39m\u001b[38;5;28;01mimport\u001b[39;00m pipeline\n\u001b[32m----> \u001b[39m\u001b[32m4\u001b[39m \u001b[38;5;28;01mfrom\u001b[39;00m\u001b[38;5;250m \u001b[39m\u001b[34;01mvaderSentiment\u001b[39;00m\u001b[34;01m.\u001b[39;00m\u001b[34;01mvaderSentiment\u001b[39;00m\u001b[38;5;250m \u001b[39m\u001b[38;5;28;01mimport\u001b[39;00m SentimentIntensityAnalyzer\n\u001b[32m      6\u001b[39m \u001b[38;5;66;03m# === Load data ===\u001b[39;00m\n\u001b[32m      7\u001b[39m df = pd.read_csv(\u001b[33m\"\u001b[39m\u001b[33m../2_data/sample_300_for_manual.csv\u001b[39m\u001b[33m\"\u001b[39m)\n",
      "\u001b[31mModuleNotFoundError\u001b[39m: No module named 'vaderSentiment'"
     ]
    }
   ],
   "source": [
    "import pandas as pd\n",
    "from tqdm import tqdm\n",
    "from transformers import pipeline\n",
    "from vaderSentiment.vaderSentiment import SentimentIntensityAnalyzer\n",
    "\n",
    "# === Load data ===\n",
    "df = pd.read_csv(\"../2_data/sample_300_for_manual.csv\")\n",
    "text_column = \"Processed_Tweet\" if \"Processed_Tweet\" in df.columns else df.columns[-1]\n",
    "\n",
    "# === Define model list (model name : output column) ===\n",
    "model_list = {\n",
    "    # Financial models (FinBERT)\n",
    "    \"yiyanghkust/finbert-tone\": \"label_fin_finbert-tone\",\n",
    "    \"ProsusAI/finbert\": \"label_fin_finbert\",\n",
    "\n",
    "    # Non-financial models (BERT variants)\n",
    "    \"cardiffnlp/twitter-roberta-base-sentiment\": \"label_nonfin_roberta\",\n",
    "    \"finiteautomata/bertweet-base-sentiment-analysis\": \"label_nonfin_bertweet\"\n",
    "}\n",
    "\n",
    "# === Load transformer models ===\n",
    "print(\"Loading transformer models...\")\n",
    "transformer_pipelines = {\n",
    "    model_name: pipeline(\"sentiment-analysis\", model=model_name, truncation=True, max_length=512)\n",
    "    for model_name in model_list\n",
    "}\n",
    "\n",
    "# === Load VADER ===\n",
    "vader = SentimentIntensityAnalyzer()\n",
    "\n",
    "# === Initialize result columns ===\n",
    "for col_name in model_list.values():\n",
    "    df[col_name] = \"\"\n",
    "# df[\"score_nonfin_vader\"] = 0.0\n",
    "\n",
    "# === Scoring ===\n",
    "print(\"Scoring tweets...\")\n",
    "for idx, row in tqdm(df.iterrows(), total=len(df)):\n",
    "    text = str(row[text_column])[:512]\n",
    "\n",
    "    if row['is_financial'] == True:\n",
    "        for model_name, col in model_list.items():\n",
    "            if col.startswith(\"label_fin\"):\n",
    "                result = transformer_pipelines[model_name](text)[0]\n",
    "                df.at[idx, col] = result['label']\n",
    "    else:\n",
    "        for model_name, col in model_list.items():\n",
    "            if col.startswith(\"label_nonfin\"):\n",
    "                result = transformer_pipelines[model_name](text)[0]\n",
    "                df.at[idx, col] = result['label']\n",
    "        df.at[idx, \"score_nonfin_vader\"] = vader.polarity_scores(text)[\"compound\"]\n",
    "\n",
    "# === Save result ===\n",
    "output_path = \"../2_data/515sample_300_with_model_labels.csv\"\n",
    "df.to_csv(output_path, index=False)\n",
    "print(f\"✅ Done. File saved to: {output_path}\")"
   ]
  },
  {
   "cell_type": "code",
   "execution_count": 9,
   "id": "c465ffef1f4daae8",
   "metadata": {
    "ExecuteTime": {
     "end_time": "2025-05-15T19:44:56.256345Z",
     "start_time": "2025-05-15T19:44:56.186510Z"
    },
    "collapsed": false
   },
   "outputs": [
    {
     "name": "stdout",
     "output_type": "stream",
     "text": [
      "✅ Saved standardized labels to: ../2_data/sample_300_labels_standardized.csv\n"
     ]
    }
   ],
   "source": [
    "import pandas as pd\n",
    "\n",
    "# Load the annotated result file\n",
    "df = pd.read_csv(\"../2_data/515sample_300_with_model_labels.csv\")\n",
    "\n",
    "# Label columns\n",
    "label_cols = [col for col in df.columns if col.startswith(\"label_\")]\n",
    "\n",
    "# Label mapping function\n",
    "def standardize_label(label):\n",
    "    if not isinstance(label, str):\n",
    "        return \"\"\n",
    "    label = label.strip().lower()\n",
    "    if label in [\"label_2\", \"pos\", \"positive\"]:\n",
    "        return \"positive\"\n",
    "    elif label in [\"label_1\", \"neu\", \"neutral\"]:\n",
    "        return \"neutral\"\n",
    "    elif label in [\"label_0\", \"neg\", \"negative\"]:\n",
    "        return \"negative\"\n",
    "    else:\n",
    "        return \"\"\n",
    "\n",
    "# Apply mapping\n",
    "for col in label_cols:\n",
    "    df[col] = df[col].apply(standardize_label)\n",
    "\n",
    "# Optional: Create vader label column\n",
    "if \"score_nonfin_vader\" in df.columns:\n",
    "    def vader_to_label(score):\n",
    "        if pd.isna(score):\n",
    "            return \"\"\n",
    "        elif score >= 0.05:\n",
    "            return \"positive\"\n",
    "        elif score <= -0.05:\n",
    "            return \"negative\"\n",
    "        else:\n",
    "            return \"neutral\"\n",
    "    df[\"label_nonfin_vader\"] = df[\"score_nonfin_vader\"].apply(vader_to_label)\n",
    "\n",
    "# Save standardized file\n",
    "output_path = \"../2_data/sample_300_labels_standardized.csv\"\n",
    "df.to_csv(output_path, index=False)\n",
    "print(f\"✅ Saved standardized labels to: {output_path}\")"
   ]
  },
  {
   "cell_type": "code",
   "execution_count": 10,
   "id": "b4a12f1c2dbea9da",
   "metadata": {
    "ExecuteTime": {
     "end_time": "2025-05-15T19:49:47.839988Z",
     "start_time": "2025-05-15T19:49:47.077405Z"
    },
    "collapsed": false
   },
   "outputs": [
    {
     "name": "stdout",
     "output_type": "stream",
     "text": [
      "✅ Evaluation Summary:\n",
      "                    Model  Accuracy  Precision  Recall  F1 Score\n",
      "0  label_fin_finbert-tone    0.6250     0.7321  0.5516    0.5634\n",
      "1       label_fin_finbert    0.4250     0.1532  0.2982    0.2024\n",
      "2    label_nonfin_roberta    0.6192     0.3338  0.3275    0.3236\n",
      "3   label_nonfin_bertweet    0.6077     0.3743  0.3562    0.3593\n",
      "4      label_nonfin_vader    0.5423     0.4243  0.4568    0.4145\n"
     ]
    },
    {
     "data": {
      "image/png": "[encoded data removed]",
      "text/plain": [
       "<Figure size 1000x500 with 1 Axes>"
      ]
     },
     "metadata": {},
     "output_type": "display_data"
    }
   ],
   "source": [
    "import pandas as pd\n",
    "import matplotlib.pyplot as plt\n",
    "from sklearn.metrics import accuracy_score, precision_recall_fscore_support\n",
    "\n",
    "# === Step 1: Load the labeled data ===\n",
    "df = pd.read_csv(\"../2_data/sample_300_labels_standardized_mannualscore.csv\")\n",
    "\n",
    "# === Step 2: Define model columns ===\n",
    "true_labels = df[\"mannual_sentiment_label\"]\n",
    "\n",
    "# Financial sentiment models\n",
    "finbert_models = [\"label_fin_finbert-tone\", \"label_fin_finbert\"]\n",
    "\n",
    "# Non-financial sentiment models\n",
    "nonfin_models = [\"label_nonfin_roberta\", \"label_nonfin_bertweet\", \"label_nonfin_vader\"]\n",
    "\n",
    "all_models = finbert_models + nonfin_models\n",
    "\n",
    "# === Step 3: Evaluate all models ===\n",
    "metrics_summary = []\n",
    "\n",
    "for model in all_models:\n",
    "    valid = df[model].notna()\n",
    "    y_true = true_labels[valid]\n",
    "    y_pred = df[model][valid]\n",
    "\n",
    "    # Accuracy\n",
    "    acc = accuracy_score(y_true, y_pred)\n",
    "\n",
    "    # Precision, Recall, F1 (macro average)\n",
    "    precision, recall, f1, _ = precision_recall_fscore_support(\n",
    "        y_true, y_pred, labels=[\"positive\", \"neutral\", \"negative\"], average=\"macro\", zero_division=0\n",
    "    )\n",
    "\n",
    "    metrics_summary.append({\n",
    "        \"Model\": model,\n",
    "        \"Accuracy\": round(acc, 4),\n",
    "        \"Precision\": round(precision, 4),\n",
    "        \"Recall\": round(recall, 4),\n",
    "        \"F1 Score\": round(f1, 4)\n",
    "    })\n",
    "\n",
    "# Convert to DataFrame\n",
    "metrics_df = pd.DataFrame(metrics_summary)\n",
    "\n",
    "# === Step 4: Print summary ===\n",
    "print(\"✅ Evaluation Summary:\")\n",
    "print(metrics_df)\n",
    "\n",
    "# === Step 5: Plot Accuracy Bar Chart ===\n",
    "plt.figure(figsize=(10, 5))\n",
    "plt.bar(metrics_df[\"Model\"], metrics_df[\"Accuracy\"], color='royalblue')\n",
    "plt.title(\"Model Accuracy Compared to Manual Labels\", fontsize=14)\n",
    "plt.ylabel(\"Accuracy\", fontsize=12)\n",
    "plt.xticks(rotation=30, ha='right')\n",
    "plt.ylim(0, 1)\n",
    "for i, val in enumerate(metrics_df[\"Accuracy\"]):\n",
    "    plt.text(i, val + 0.02, f\"{val:.2%}\", ha='center', fontsize=10)\n",
    "plt.grid(axis='y', linestyle='--', alpha=0.4)\n",
    "plt.tight_layout()\n",
    "plt.show()"
   ]
  }
 ],
 "metadata": {
  "kernelspec": {
   "display_name": "Python 3",
   "language": "python",
   "name": "python3"
  },
  "language_info": {
   "codemirror_mode": {
    "name": "ipython",
    "version": 3
   },
   "file_extension": ".py",
   "mimetype": "text/x-python",
   "name": "python",
   "nbconvert_exporter": "python",
   "pygments_lexer": "ipython3",
   "version": "3.13.3"
  }
 },
 "nbformat": 4,
 "nbformat_minor": 5
}
