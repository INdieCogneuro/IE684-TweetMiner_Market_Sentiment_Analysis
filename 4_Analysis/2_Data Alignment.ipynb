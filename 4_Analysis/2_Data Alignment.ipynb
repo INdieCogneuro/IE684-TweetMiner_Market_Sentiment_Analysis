{
 "cells": [
  {
   "cell_type": "markdown",
   "id": "b266ef61",
   "metadata": {},
   "source": [
    "# Calculates daily average sentiment indicators\n"
   ]
  },
  {
   "cell_type": "code",
   "execution_count": 1,
   "id": "48723f44",
   "metadata": {},
   "outputs": [
    {
     "name": "stderr",
     "output_type": "stream",
     "text": [
      "/var/folders/rn/lc8n68_d7ld6yymqc_lsnrr00000gn/T/ipykernel_71263/3102573388.py:4: DtypeWarning: Columns (14) have mixed types. Specify dtype option on import or set low_memory=False.\n",
      "  tweets = pd.read_csv(\"../2_data/finbert_scored_tweets.csv\", parse_dates=[\"created_at\"])\n"
     ]
    },
    {
     "name": "stdout",
     "output_type": "stream",
     "text": [
      "  created_at  daily_finbert\n",
      "0 2013-04-11       0.105690\n",
      "1 2013-04-12       0.208949\n",
      "2 2013-04-13       0.709719\n",
      "3 2013-04-14       0.357927\n",
      "4 2013-04-15      -0.107966\n",
      "Index(['created_at', 'daily_finbert'], dtype='object')\n"
     ]
    }
   ],
   "source": [
    "import pandas as pd\n",
    "\n",
    "# read tweet file containing finbert_score\n",
    "tweets = pd.read_csv(\"../2_data/finbert_scored_tweets.csv\", parse_dates=[\"created_at\"])\n",
    "\n",
    "# keep ddmmyyyy only\n",
    "tweets[\"Date\"] = tweets[\"created_at\"].dt.date\n",
    "\n",
    "# day, mean\n",
    "daily_sent = (\n",
    "    tweets\n",
    "      .groupby(\"Date\")[\"finbert_score\"]\n",
    "      .mean()\n",
    "      .reset_index()\n",
    "      .rename(columns={\"finbert_score\": \"daily_finbert\"})\n",
    ")\n",
    "\n",
    "# transfer Date to datetime type\n",
    "daily_sent[\"created_at\"] = pd.to_datetime(daily_sent[\"Date\"])\n",
    "daily_sent = daily_sent[[\"created_at\", \"daily_finbert\"]]\n",
    "\n",
    "print(daily_sent.head())\n",
    "print(daily_sent.columns)"
   ]
  },
  {
   "cell_type": "markdown",
   "id": "1db381af",
   "metadata": {},
   "source": [
    "# VIX and Price"
   ]
  },
  {
   "cell_type": "code",
   "execution_count": 2,
   "id": "d903ccc2",
   "metadata": {},
   "outputs": [
    {
     "name": "stdout",
     "output_type": "stream",
     "text": [
      "  created_at       Open       High        Low  vix_close  Adj Close\n",
      "0 2012-01-03  22.950001  23.100000  22.540001  22.969999  22.969999\n",
      "1 2012-01-04  23.440001  23.730000  22.219999  22.219999  22.219999\n",
      "2 2012-01-05  22.750000  23.090000  21.340000  21.480000  21.480000\n",
      "3 2012-01-06  21.240000  21.719999  20.580000  20.629999  20.629999\n",
      "4 2012-01-09  21.670000  21.780001  21.000000  21.070000  21.070000\n",
      "            vix_close\n",
      "created_at           \n",
      "2012-01-03  22.969999\n",
      "2012-01-04  22.219999\n",
      "2012-01-05  21.480000\n",
      "2012-01-06  20.629999\n",
      "2012-01-09  21.070000\n",
      "            nvda_close  nvda_return\n",
      "created_at                         \n",
      "2004-01-05    0.198583     0.032496\n",
      "2004-01-06    0.206667     0.040708\n",
      "2004-01-07    0.208500     0.008869\n",
      "2004-01-08    0.209250     0.003597\n",
      "2004-01-09    0.212250     0.014337\n"
     ]
    }
   ],
   "source": [
    "import pandas as pd\n",
    "\n",
    "#read Price\n",
    "price = pd.read_csv(\"../2_data/nvidia_stock_prices.csv\", parse_dates=[\"Date\"])\n",
    "price = price.rename(columns={\"Date\": \"created_at\", \"Close\": \"nvda_close\"})\n",
    "price = price.sort_values(\"created_at\")\n",
    "price[\"nvda_return\"] = price[\"nvda_close\"].pct_change()\n",
    "nvda_close = price[[\"created_at\", \"nvda_close\", \"nvda_return\"]].set_index(\"created_at\")\n",
    "nvda_close = nvda_close.dropna(subset=[\"nvda_return\"])\n",
    "\n",
    "\n",
    "\n",
    "\n",
    "# read vix\n",
    "vix = pd.read_csv(\"../2_data/vix_data.csv\", parse_dates=[\"Date\"])\n",
    "vix = vix.rename(columns={\"Date\": \"created_at\", \"Close\": \"vix_close\"})\n",
    "vix_close = vix[[\"created_at\", \"vix_close\"]].set_index(\"created_at\")\n",
    "\n",
    "print(vix.head())\n",
    "\n",
    "\n",
    "\n",
    "print(vix_close.head())\n",
    "print(nvda_close.head())"
   ]
  },
  {
   "cell_type": "markdown",
   "id": "6a66a66c",
   "metadata": {},
   "source": [
    "# Alignment"
   ]
  },
  {
   "cell_type": "code",
   "execution_count": 3,
   "id": "69cc69ab",
   "metadata": {
    "scrolled": true
   },
   "outputs": [
    {
     "name": "stdout",
     "output_type": "stream",
     "text": [
      "  created_at  daily_finbert  nvda_close  nvda_return  vix_close\n",
      "0 2013-04-11       0.105690     0.31925    -0.004677      12.24\n",
      "1 2013-04-12       0.208949     0.32725     0.025059      12.06\n",
      "2 2013-04-15      -0.107966     0.32050    -0.020626      17.27\n",
      "3 2013-04-16      -0.000069     0.32400     0.010920      13.96\n",
      "4 2013-04-17       0.281768     0.31975    -0.013117      16.51\n",
      "After alighment there are data of 2171 days\n"
     ]
    }
   ],
   "source": [
    "# change index name of nvda_close and vix_close to Datetime\n",
    "vix_close.index.name = \"created_at\"\n",
    "nvda_close.index.name = \"created_at\"\n",
    "\n",
    "# merge\n",
    "merged = (\n",
    "    daily_sent\n",
    "      .set_index(\"created_at\")\n",
    "      .join(nvda_close[[\"nvda_close\", \"nvda_return\"]], how=\"inner\")\n",
    "      .join(vix_close, how=\"inner\")\n",
    "      .reset_index()\n",
    ")\n",
    "\n",
    "print(merged.head())\n",
    "print(f\"After alighment there are data of {len(merged)} days\")\n",
    "\n",
    "merged.to_csv(\"../2_data/sentiment_price_vix_aligned.csv\", index=False)"
   ]
  },
  {
   "cell_type": "code",
   "execution_count": null,
   "id": "bcbe71e1",
   "metadata": {},
   "outputs": [
    {
     "name": "stdout",
     "output_type": "stream",
     "text": [
      "Index(['created_at', 'daily_finbert'], dtype='object')\n",
      "Sentiment data: 2013-04-11 00:00:00 to 2022-02-28 00:00:00 days: 3106\n",
      "NVDA data: 2004-01-05 00:00:00 to 2023-12-29 00:00:00 days: 5032\n",
      "VIX data: 2012-01-03 00:00:00 to 2021-12-31 00:00:00 days: 2517\n",
      "Sentiment only dates: 896\n",
      "NVDA only dates: 2476\n",
      "VIX only dates: 0\n",
      "All overlap dates: 2171\n"
     ]
    },
    {
     "data": {
      "image/png": "[encoded data removed]",
      "text/plain": [
       "<Figure size 1200x300 with 1 Axes>"
      ]
     },
     "metadata": {},
     "output_type": "display_data"
    },
    {
     "name": "stdout",
     "output_type": "stream",
     "text": [
      "After inner join, total days: 2171\n",
      "created_at       0\n",
      "daily_finbert    0\n",
      "nvda_close       0\n",
      "nvda_return      0\n",
      "vix_close        0\n",
      "dtype: int64\n"
     ]
    }
   ],
   "source": [
    "import pandas as pd\n",
    "import matplotlib.pyplot as plt\n",
    "\n",
    "# read data\n",
    "nvda = pd.read_csv(\"../2_data/nvidia_stock_prices.csv\", parse_dates=[\"Date\"])\n",
    "nvda = nvda.rename(columns={\"Date\": \"created_at\", \"Close\": \"nvda_close\"})\n",
    "nvda = nvda.sort_values(\"created_at\")\n",
    "nvda[\"nvda_return\"] = nvda[\"nvda_close\"].pct_change()\n",
    "nvda_close = nvda[[\"created_at\", \"nvda_close\", \"nvda_return\"]].set_index(\"created_at\")\n",
    "nvda_close = nvda_close.dropna(subset=[\"nvda_return\"])\n",
    "\n",
    "vix = pd.read_csv(\"../2_data/vix_data.csv\", parse_dates=[\"Date\"])\n",
    "vix = vix.rename(columns={\"Date\": \"created_at\", \"Close\": \"vix_close\"})\n",
    "vix = vix.sort_values(\"created_at\")\n",
    "vix_close = vix[[\"created_at\", \"vix_close\"]].set_index(\"created_at\")\n",
    "\n",
    "\n",
    "print(daily_sent.columns)\n",
    "daily_sent[\"created_at\"] = pd.to_datetime(daily_sent[\"created_at\"])\n",
    "daily_sent = daily_sent[[\"created_at\", \"daily_finbert\"]].set_index(\"created_at\")\n",
    "\n",
    "\n",
    "print(\"Sentiment data:\", daily_sent.index.min(), \"to\", daily_sent.index.max(), \"days:\", daily_sent.index.nunique())\n",
    "print(\"NVDA data:\", nvda_close.index.min(), \"to\", nvda_close.index.max(), \"days:\", nvda_close.index.nunique())\n",
    "print(\"VIX data:\", vix_close.index.min(), \"to\", vix_close.index.max(), \"days:\", vix_close.index.nunique())\n",
    "\n",
    "\n",
    "sent_dates = set(daily_sent.index.date)\n",
    "nvda_dates = set(nvda_close.index.date)\n",
    "vix_dates = set(vix_close.index.date)\n",
    "\n",
    "print(\"Sentiment only dates:\", len(sent_dates - nvda_dates - vix_dates))\n",
    "print(\"NVDA only dates:\", len(nvda_dates - sent_dates - vix_dates))\n",
    "print(\"VIX only dates:\", len(vix_dates - sent_dates - nvda_dates))\n",
    "print(\"All overlap dates:\", len(sent_dates & nvda_dates & vix_dates))\n",
    "\n",
    "\n",
    "plt.figure(figsize=(12, 3))\n",
    "plt.plot(sorted(sent_dates), [1]*len(sent_dates), '|', label='Sentiment')\n",
    "plt.plot(sorted(nvda_dates), [2]*len(nvda_dates), '|', label='NVDA')\n",
    "plt.plot(sorted(vix_dates), [3]*len(vix_dates), '|', label='VIX')\n",
    "plt.yticks([1,2,3], ['Sentiment', 'NVDA', 'VIX'])\n",
    "plt.title(\"Date Coverage of Each Dataset\")\n",
    "plt.legend()\n",
    "plt.show()\n",
    "\n",
    "#Inner Merge\n",
    "merged_inner = (daily_sent\n",
    "    .join(nvda_close[[\"nvda_close\", \"nvda_return\"]], how=\"inner\")\n",
    "    .join(vix_close, how=\"inner\")\n",
    "    .reset_index()\n",
    ")\n",
    "print(\"After inner join, total days:\", len(merged_inner))\n",
    "print(merged_inner.isnull().sum())\n",
    "\n",
    "\n",
    "merged_inner.to_csv(\"../2_data/sentiment_price_vix_inner_aligned.csv\", index=False)"
   ]
  }
 ],
 "metadata": {
  "kernelspec": {
   "display_name": "Python 3",
   "language": "python",
   "name": "python3"
  },
  "language_info": {
   "codemirror_mode": {
    "name": "ipython",
    "version": 3
   },
   "file_extension": ".py",
   "mimetype": "text/x-python",
   "name": "python",
   "nbconvert_exporter": "python",
   "pygments_lexer": "ipython3",
   "version": "3.13.3"
  }
 },
 "nbformat": 4,
 "nbformat_minor": 5
}
