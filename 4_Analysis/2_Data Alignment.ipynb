{
 "cells": [
  {
   "cell_type": "code",
   "execution_count": 1,
   "id": "48723f44",
   "metadata": {},
   "outputs": [
    {
     "name": "stderr",
     "output_type": "stream",
     "text": [
      "/var/folders/rn/lc8n68_d7ld6yymqc_lsnrr00000gn/T/ipykernel_37417/3451837175.py:4: DtypeWarning: Columns (14) have mixed types. Specify dtype option on import or set low_memory=False.\n",
      "  tweets = pd.read_csv(\"../2_data/finbert_scored_tweets.csv\", parse_dates=[\"created_at\"])\n"
     ]
    },
    {
     "name": "stdout",
     "output_type": "stream",
     "text": [
      "  created_at  daily_finbert\n",
      "0 2013-04-11       0.105690\n",
      "1 2013-04-12       0.208949\n",
      "2 2013-04-13       0.709719\n",
      "3 2013-04-14       0.357927\n",
      "4 2013-04-15      -0.107966\n"
     ]
    }
   ],
   "source": [
    "import pandas as pd\n",
    "\n",
    "# read tweet file containing finbert_score\n",
    "tweets = pd.read_csv(\"../2_data/finbert_scored_tweets.csv\", parse_dates=[\"created_at\"])\n",
    "\n",
    "# keep ddmmyyyy only\n",
    "tweets[\"Date\"] = tweets[\"created_at\"].dt.date\n",
    "\n",
    "# day, mean\n",
    "daily_sent = (\n",
    "    tweets\n",
    "      .groupby(\"Date\")[\"finbert_score\"]\n",
    "      .mean()\n",
    "      .reset_index()\n",
    "      .rename(columns={\"finbert_score\": \"daily_finbert\"})\n",
    ")\n",
    "\n",
    "# transfer Date to datetime type\n",
    "daily_sent[\"created_at\"] = pd.to_datetime(daily_sent[\"Date\"])\n",
    "daily_sent = daily_sent[[\"created_at\", \"daily_finbert\"]]\n",
    "\n",
    "print(daily_sent.head())"
   ]
  },
  {
   "cell_type": "markdown",
   "id": "1db381af",
   "metadata": {},
   "source": [
    "- VIX and Price"
   ]
  },
  {
   "cell_type": "code",
   "execution_count": 2,
   "id": "0265c16a",
   "metadata": {},
   "outputs": [],
   "source": [
    "# read vix data\n",
    "vix = pd.read_csv(\n",
    "    \"../2_data/vix_data.csv\",\n",
    "    header=[0,1],      # header\n",
    "    index_col=0,       # take date as index\n",
    "    parse_dates=True\n",
    ")\n",
    "vix_close = vix[(\"Close\",\"^VIX\")].to_frame(name=\"vix_close\")\n",
    "\n",
    "# read nvidia price data\n",
    "price = pd.read_csv(\n",
    "    \"../2_data/nvda_price_volume.csv\",\n",
    "    header=[0,1],\n",
    "    index_col=0,\n",
    "    parse_dates=True\n",
    ")\n",
    "nvda_close = price[(\"Close\",\"NVDA\")].to_frame(name=\"nvda_close\")\n",
    "# return (each day)\n",
    "nvda_close[\"nvda_return\"] = nvda_close[\"nvda_close\"].pct_change()\n",
    "nvda_close = nvda_close.dropna(subset=[\"nvda_return\"])"
   ]
  },
  {
   "cell_type": "markdown",
   "id": "6a66a66c",
   "metadata": {},
   "source": [
    "- Alignment"
   ]
  },
  {
   "cell_type": "code",
   "execution_count": 4,
   "id": "69cc69ab",
   "metadata": {
    "scrolled": true
   },
   "outputs": [
    {
     "name": "stdout",
     "output_type": "stream",
     "text": [
      "  created_at  daily_finbert  nvda_close  nvda_return  vix_close\n",
      "0 2022-01-04       0.135383   29.238680    -0.027589  16.910000\n",
      "1 2022-01-05       0.124786   27.555632    -0.057562  19.730000\n",
      "2 2022-01-06       0.127680   28.128624     0.020794  19.610001\n",
      "3 2022-01-07       0.118334   27.199259    -0.033040  18.760000\n",
      "4 2022-01-10       0.125386   27.351990     0.005615  19.400000\n",
      "After alighment there are data of 38 days\n"
     ]
    }
   ],
   "source": [
    "# change index name of nvda_close and vix_close to Datetime\n",
    "vix_close.index.name = \"created_at\"\n",
    "nvda_close.index.name = \"created_at\"\n",
    "\n",
    "# merge\n",
    "merged = (\n",
    "    daily_sent\n",
    "      .set_index(\"created_at\")\n",
    "      .join(nvda_close[[\"nvda_close\", \"nvda_return\"]], how=\"inner\")\n",
    "      .join(vix_close, how=\"inner\")\n",
    "      .reset_index()\n",
    ")\n",
    "\n",
    "print(merged.head())\n",
    "print(f\"After alighment there are data of {len(merged)} days\")\n",
    "\n",
    "merged.to_csv(\"../2_data/sentiment_price_vix_aligned.csv\", index=False)"
   ]
  },
  {
   "cell_type": "markdown",
   "id": "9cd82a7a",
   "metadata": {},
   "source": [
    "Not bad, cuz 78 days in total in our dataset"
   ]
  },
  {
   "cell_type": "code",
   "execution_count": null,
   "id": "ff624c34",
   "metadata": {},
   "outputs": [],
   "source": []
  }
 ],
 "metadata": {
  "kernelspec": {
   "display_name": "venv",
   "language": "python",
   "name": "python3"
  },
  "language_info": {
   "codemirror_mode": {
    "name": "ipython",
    "version": 3
   },
   "file_extension": ".py",
   "mimetype": "text/x-python",
   "name": "python",
   "nbconvert_exporter": "python",
   "pygments_lexer": "ipython3",
   "version": "3.13.3"
  }
 },
 "nbformat": 4,
 "nbformat_minor": 5
}
