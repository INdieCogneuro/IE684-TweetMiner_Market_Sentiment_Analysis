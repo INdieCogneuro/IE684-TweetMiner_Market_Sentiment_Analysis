{
 "cells": [
  {
   "cell_type": "markdown",
   "metadata": {},
   "source": [
    "# Topic - BERTopic modelling and Trading Strategies\n",
    "\n",
    "This notebook accomplishes the following tasks:\n",
    "1. perform LDA theme modeling on tweets\n",
    "2. Analyze the sentiment distribution under each topic\n",
    "3. Identify extreme sentiment topics\n",
    "4. Visualize the analysis results"
   ]
  },
  {
   "cell_type": "markdown",
   "metadata": {},
   "source": [
    "## BERTopic modeling"
   ]
  },
  {
   "cell_type": "code",
   "execution_count": 1,
   "metadata": {},
   "outputs": [],
   "source": [
    "import pandas as pd\n",
    "import numpy as np\n",
    "import matplotlib.pyplot as plt\n",
    "import seaborn as sns\n",
    "from bertopic import BERTopic\n",
    "from sklearn.feature_extraction.text import CountVectorizer\n",
    "from sentence_transformers import SentenceTransformer\n",
    "from nltk.corpus import stopwords\n",
    "from nltk.tokenize import word_tokenize\n",
    "import nltk\n",
    "import warnings\n",
    "import os\n",
    "from tqdm import tqdm\n",
    "from hdbscan import HDBSCAN\n",
    "warnings.filterwarnings('ignore')"
   ]
  },
  {
   "cell_type": "code",
   "execution_count": null,
   "metadata": {},
   "outputs": [
    {
     "name": "stdout",
     "output_type": "stream",
     "text": [
      "Loading data...\n",
      "Total tweets to process: 501,890\n"
     ]
    },
    {
     "name": "stderr",
     "output_type": "stream",
     "text": [
      "Preparing texts: 100%|████████████████████████████████| 501890/501890 [00:00<00:00, 10049885.82it/s]"
     ]
    },
    {
     "name": "stdout",
     "output_type": "stream",
     "text": [
      "\n",
      "Loading embedding model...\n"
     ]
    },
    {
     "name": "stderr",
     "output_type": "stream",
     "text": [
      "\n"
     ]
    },
    {
     "name": "stdout",
     "output_type": "stream",
     "text": [
      "\n",
      "Initializing BERTopic model...\n",
      "\n",
      "Starting topic modeling...\n"
     ]
    },
    {
     "name": "stderr",
     "output_type": "stream",
     "text": [
      "Computing embeddings:   0%|                                                   | 0/3 [00:00<?, ?it/s]"
     ]
    },
    {
     "data": {
      "application/vnd.jupyter.widget-view+json": {
       "model_id": "00981bfc695847bf86464f90dd2e2635",
       "version_major": 2,
       "version_minor": 0
      },
      "text/plain": [
       "Batches:   0%|          | 0/3922 [00:00<?, ?it/s]"
      ]
     },
     "metadata": {},
     "output_type": "display_data"
    },
    {
     "name": "stderr",
     "output_type": "stream",
     "text": [
      "Modeling topics:  33%|███████████████▋                               | 1/3 [05:37<11:14, 337.31s/it]2025-05-18 10:44:51,868 - BERTopic - Dimensionality - Fitting the dimensionality reduction algorithm\n"
     ]
    }
   ],
   "source": [
    "# 设置环境变量，避免 tokenizer 并行死锁问题\n",
    "os.environ[\"TOKENIZERS_PARALLELISM\"] = \"false\"\n",
    "\n",
    "# Step 1: 读取数据\n",
    "print(\"Loading data...\")\n",
    "df = pd.read_csv(\"../2_data/cleaned_nvda.csv\", parse_dates=[\"Date\"])\n",
    "df = df.dropna(subset=['Processed_Tweet'])  # 去掉空推文\n",
    "\n",
    "# 显示数据加载信息\n",
    "print(f\"Total tweets to process: {len(df):,}\")\n",
    "\n",
    "# 转换文本并显示进度\n",
    "texts = df[\"Processed_Tweet\"].astype(str).tolist()\n",
    "texts = list(tqdm(texts, desc=\"Preparing texts\", ncols=100))\n",
    "\n",
    "# Step 2: 加载嵌入模型\n",
    "print(\"\\nLoading embedding model...\")\n",
    "embedding_model = SentenceTransformer(\"paraphrase-MiniLM-L6-v2\")\n",
    "\n",
    "# Step 3: 定义 BERTopic 模型（添加进度显示参数）\n",
    "print(\"\\nInitializing BERTopic model...\")\n",
    "\n",
    "hdbscan_model = HDBSCAN(\n",
    "    min_cluster_size=30, \n",
    "    min_samples=10, \n",
    "    metric='euclidean',\n",
    "    prediction_data=True,\n",
    "    core_dist_n_jobs=-1,\n",
    "    algorithm='best',  # 添加算法选择\n",
    "    cluster_selection_method='eom'  # 使用 EOM 方法提高效率\n",
    ")\n",
    "\n",
    "# 2. 优化 BERTopic 参数\n",
    "topic_model = BERTopic(\n",
    "    embedding_model=embedding_model,\n",
    "    hdbscan_model=hdbscan_model,\n",
    "    language=\"english\",\n",
    "    calculate_probabilities=True,\n",
    "    verbose=True,\n",
    "    nr_topics=10,\n",
    "    min_topic_size=20,  # 添加最小主题大小\n",
    "    low_memory=True,    # 启用低内存模式\n",
    "    umap_model=UMAP(    # 自定义 UMAP 参数\n",
    "        n_neighbors=15,\n",
    "        n_components=5,  # 降低维度\n",
    "        min_dist=0.0,\n",
    "        metric='cosine',\n",
    "        random_state=42\n",
    "    )\n",
    ")\n",
    "\n",
    "topic_model.embedding_model.max_seq_length = 512  # 设置最大序列长度\n",
    "\n",
    "\n",
    "# Step 4: 模型训练（使用tqdm包装）\n",
    "print(\"\\nStarting topic modeling...\")\n",
    "with tqdm(total=3, desc=\"Topic modeling progress\", ncols=100) as pbar:\n",
    "    # 步骤1：文本嵌入 - 优化参数配置\n",
    "    pbar.set_description(\"Computing embeddings\")\n",
    "    embeddings = embedding_model.encode(\n",
    "        texts,\n",
    "        batch_size=128,  # 增大批处理大小\n",
    "        show_progress_bar=True,\n",
    "        convert_to_tensor=False,  # 使用numpy数组减少内存\n",
    "        normalize_embeddings=True  # 添加归一化\n",
    "    )\n",
    "    pbar.update(1)\n",
    "    \n",
    "    # 步骤2：主题建模\n",
    "    pbar.set_description(\"Modeling topics\")\n",
    "    topics, probs = topic_model.fit_transform(\n",
    "        texts,\n",
    "        embeddings=embeddings\n",
    "    )\n",
    "    pbar.update(2)\n",
    "\n",
    "# Step 5: 合并结果到原始数据\n",
    "print(\"\\nMerging results with original data...\")\n",
    "df[\"topic\"] = topics\n",
    "df[\"topic_prob\"] = [prob[topic] if topic != -1 else None \n",
    "                    for topic, prob in zip(topics, probs)]\n",
    "\n",
    "# 保存结果\n",
    "print(\"\\nSaving results...\")\n",
    "df.to_csv(\"../2_data/with_topics.csv\", index=False)\n",
    "print(\"Done! Results saved to 'with_topics.csv'\")\n",
    "\n",
    "# 输出基本统计信息\n",
    "n_topics = len(set(topics)) - (1 if -1 in topics else 0)\n",
    "print(f\"\\nSummary:\")\n",
    "print(f\"- Total documents processed: {len(texts):,}\")\n",
    "print(f\"- Number of topics discovered: {n_topics}\")\n",
    "print(f\"- Documents without topic (-1): {sum(1 for t in topics if t == -1):,}\")"
   ]
  },
  {
   "cell_type": "code",
   "execution_count": null,
   "metadata": {},
   "outputs": [
    {
     "name": "stderr",
     "output_type": "stream",
     "text": [
      "Preparing texts: 100%|██████████| 501890/501890 [00:00<00:00, 10638698.31it/s]\n",
      "2025-05-18 09:47:10,153 - BERTopic - Embedding - Transforming documents to embeddings.\n"
     ]
    },
    {
     "data": {
      "application/vnd.jupyter.widget-view+json": {
       "model_id": "aba00a6c90f14ad1b0e35da378689ae1",
       "version_major": 2,
       "version_minor": 0
      },
      "text/plain": [
       "Batches:   0%|          | 0/15685 [00:00<?, ?it/s]"
      ]
     },
     "metadata": {},
     "output_type": "display_data"
    },
    {
     "name": "stderr",
     "output_type": "stream",
     "text": [
      "2025-05-18 09:51:52,678 - BERTopic - Embedding - Completed ✓\n",
      "2025-05-18 09:51:52,679 - BERTopic - Dimensionality - Fitting the dimensionality reduction algorithm\n"
     ]
    },
    {
     "ename": "KeyboardInterrupt",
     "evalue": "",
     "output_type": "error",
     "traceback": [
      "\u001b[31m---------------------------------------------------------------------------\u001b[39m",
      "\u001b[31mKeyboardInterrupt\u001b[39m                         Traceback (most recent call last)",
      "\u001b[36mCell\u001b[39m\u001b[36m \u001b[39m\u001b[32mIn[2]\u001b[39m\u001b[32m, line 27\u001b[39m\n\u001b[32m     18\u001b[39m topic_model = BERTopic(\n\u001b[32m     19\u001b[39m     embedding_model=embedding_model,\n\u001b[32m     20\u001b[39m     language=\u001b[33m\"\u001b[39m\u001b[33menglish\u001b[39m\u001b[33m\"\u001b[39m,\n\u001b[32m   (...)\u001b[39m\u001b[32m     23\u001b[39m     nr_topics = \u001b[32m10\u001b[39m\n\u001b[32m     24\u001b[39m )\n\u001b[32m     26\u001b[39m \u001b[38;5;66;03m# Step 4: 模型训练\u001b[39;00m\n\u001b[32m---> \u001b[39m\u001b[32m27\u001b[39m topics, probs = \u001b[43mtopic_model\u001b[49m\u001b[43m.\u001b[49m\u001b[43mfit_transform\u001b[49m\u001b[43m(\u001b[49m\u001b[43mtexts\u001b[49m\u001b[43m)\u001b[49m\n\u001b[32m     29\u001b[39m \u001b[38;5;66;03m# Step 5: 合并回原数据（只对前 500 条）\u001b[39;00m\n\u001b[32m     30\u001b[39m df_sample = df.iloc.copy()\n",
      "\u001b[36mFile \u001b[39m\u001b[32m/Library/Frameworks/Python.framework/Versions/3.13/lib/python3.13/site-packages/bertopic/_bertopic.py:472\u001b[39m, in \u001b[36mBERTopic.fit_transform\u001b[39m\u001b[34m(self, documents, embeddings, images, y)\u001b[39m\n\u001b[32m    469\u001b[39m     y, embeddings = \u001b[38;5;28mself\u001b[39m._guided_topic_modeling(embeddings)\n\u001b[32m    471\u001b[39m \u001b[38;5;66;03m# Reduce dimensionality and fit UMAP model\u001b[39;00m\n\u001b[32m--> \u001b[39m\u001b[32m472\u001b[39m umap_embeddings = \u001b[38;5;28;43mself\u001b[39;49m\u001b[43m.\u001b[49m\u001b[43m_reduce_dimensionality\u001b[49m\u001b[43m(\u001b[49m\u001b[43membeddings\u001b[49m\u001b[43m,\u001b[49m\u001b[43m \u001b[49m\u001b[43my\u001b[49m\u001b[43m)\u001b[49m\n\u001b[32m    474\u001b[39m \u001b[38;5;66;03m# Zero-shot Topic Modeling\u001b[39;00m\n\u001b[32m    475\u001b[39m \u001b[38;5;28;01mif\u001b[39;00m \u001b[38;5;28mself\u001b[39m._is_zeroshot():\n",
      "\u001b[36mFile \u001b[39m\u001b[32m/Library/Frameworks/Python.framework/Versions/3.13/lib/python3.13/site-packages/bertopic/_bertopic.py:3776\u001b[39m, in \u001b[36mBERTopic._reduce_dimensionality\u001b[39m\u001b[34m(self, embeddings, y, partial_fit)\u001b[39m\n\u001b[32m   3773\u001b[39m \u001b[38;5;28;01mtry\u001b[39;00m:\n\u001b[32m   3774\u001b[39m     \u001b[38;5;66;03m# cuml umap needs y to be an numpy array\u001b[39;00m\n\u001b[32m   3775\u001b[39m     y = np.array(y) \u001b[38;5;28;01mif\u001b[39;00m y \u001b[38;5;129;01mis\u001b[39;00m \u001b[38;5;129;01mnot\u001b[39;00m \u001b[38;5;28;01mNone\u001b[39;00m \u001b[38;5;28;01melse\u001b[39;00m \u001b[38;5;28;01mNone\u001b[39;00m\n\u001b[32m-> \u001b[39m\u001b[32m3776\u001b[39m     \u001b[38;5;28;43mself\u001b[39;49m\u001b[43m.\u001b[49m\u001b[43mumap_model\u001b[49m\u001b[43m.\u001b[49m\u001b[43mfit\u001b[49m\u001b[43m(\u001b[49m\u001b[43membeddings\u001b[49m\u001b[43m,\u001b[49m\u001b[43m \u001b[49m\u001b[43my\u001b[49m\u001b[43m=\u001b[49m\u001b[43my\u001b[49m\u001b[43m)\u001b[49m\n\u001b[32m   3777\u001b[39m \u001b[38;5;28;01mexcept\u001b[39;00m \u001b[38;5;167;01mTypeError\u001b[39;00m:\n\u001b[32m   3778\u001b[39m     \u001b[38;5;28mself\u001b[39m.umap_model.fit(embeddings)\n",
      "\u001b[36mFile \u001b[39m\u001b[32m/Library/Frameworks/Python.framework/Versions/3.13/lib/python3.13/site-packages/umap/umap_.py:2817\u001b[39m, in \u001b[36mUMAP.fit\u001b[39m\u001b[34m(self, X, y, force_all_finite, **kwargs)\u001b[39m\n\u001b[32m   2813\u001b[39m \u001b[38;5;28;01mif\u001b[39;00m \u001b[38;5;28mself\u001b[39m.transform_mode == \u001b[33m\"\u001b[39m\u001b[33membedding\u001b[39m\u001b[33m\"\u001b[39m:\n\u001b[32m   2814\u001b[39m     epochs = (\n\u001b[32m   2815\u001b[39m         \u001b[38;5;28mself\u001b[39m.n_epochs_list \u001b[38;5;28;01mif\u001b[39;00m \u001b[38;5;28mself\u001b[39m.n_epochs_list \u001b[38;5;129;01mis\u001b[39;00m \u001b[38;5;129;01mnot\u001b[39;00m \u001b[38;5;28;01mNone\u001b[39;00m \u001b[38;5;28;01melse\u001b[39;00m \u001b[38;5;28mself\u001b[39m.n_epochs\n\u001b[32m   2816\u001b[39m     )\n\u001b[32m-> \u001b[39m\u001b[32m2817\u001b[39m     \u001b[38;5;28mself\u001b[39m.embedding_, aux_data = \u001b[38;5;28;43mself\u001b[39;49m\u001b[43m.\u001b[49m\u001b[43m_fit_embed_data\u001b[49m\u001b[43m(\u001b[49m\n\u001b[32m   2818\u001b[39m \u001b[43m        \u001b[49m\u001b[38;5;28;43mself\u001b[39;49m\u001b[43m.\u001b[49m\u001b[43m_raw_data\u001b[49m\u001b[43m[\u001b[49m\u001b[43mindex\u001b[49m\u001b[43m]\u001b[49m\u001b[43m,\u001b[49m\n\u001b[32m   2819\u001b[39m \u001b[43m        \u001b[49m\u001b[43mepochs\u001b[49m\u001b[43m,\u001b[49m\n\u001b[32m   2820\u001b[39m \u001b[43m        \u001b[49m\u001b[43minit\u001b[49m\u001b[43m,\u001b[49m\n\u001b[32m   2821\u001b[39m \u001b[43m        \u001b[49m\u001b[43mrandom_state\u001b[49m\u001b[43m,\u001b[49m\u001b[43m  \u001b[49m\u001b[38;5;66;43;03m# JH why raw data?\u001b[39;49;00m\n\u001b[32m   2822\u001b[39m \u001b[43m        \u001b[49m\u001b[43m*\u001b[49m\u001b[43m*\u001b[49m\u001b[43mkwargs\u001b[49m\u001b[43m,\u001b[49m\n\u001b[32m   2823\u001b[39m \u001b[43m    \u001b[49m\u001b[43m)\u001b[49m\n\u001b[32m   2825\u001b[39m     \u001b[38;5;28;01mif\u001b[39;00m \u001b[38;5;28mself\u001b[39m.n_epochs_list \u001b[38;5;129;01mis\u001b[39;00m \u001b[38;5;129;01mnot\u001b[39;00m \u001b[38;5;28;01mNone\u001b[39;00m:\n\u001b[32m   2826\u001b[39m         \u001b[38;5;28;01mif\u001b[39;00m \u001b[33m\"\u001b[39m\u001b[33membedding_list\u001b[39m\u001b[33m\"\u001b[39m \u001b[38;5;129;01mnot\u001b[39;00m \u001b[38;5;129;01min\u001b[39;00m aux_data:\n",
      "\u001b[36mFile \u001b[39m\u001b[32m/Library/Frameworks/Python.framework/Versions/3.13/lib/python3.13/site-packages/umap/umap_.py:2865\u001b[39m, in \u001b[36mUMAP._fit_embed_data\u001b[39m\u001b[34m(self, X, n_epochs, init, random_state, **kwargs)\u001b[39m\n\u001b[32m   2860\u001b[39m \u001b[38;5;28;01mdef\u001b[39;00m\u001b[38;5;250m \u001b[39m\u001b[34m_fit_embed_data\u001b[39m(\u001b[38;5;28mself\u001b[39m, X, n_epochs, init, random_state, **kwargs):\n\u001b[32m   2861\u001b[39m \u001b[38;5;250m    \u001b[39m\u001b[33;03m\"\"\"A method wrapper for simplicial_set_embedding that can be\u001b[39;00m\n\u001b[32m   2862\u001b[39m \u001b[33;03m    replaced by subclasses. Arbitrary keyword arguments can be passed\u001b[39;00m\n\u001b[32m   2863\u001b[39m \u001b[33;03m    through .fit() and .fit_transform().\u001b[39;00m\n\u001b[32m   2864\u001b[39m \u001b[33;03m    \"\"\"\u001b[39;00m\n\u001b[32m-> \u001b[39m\u001b[32m2865\u001b[39m     \u001b[38;5;28;01mreturn\u001b[39;00m \u001b[43msimplicial_set_embedding\u001b[49m\u001b[43m(\u001b[49m\n\u001b[32m   2866\u001b[39m \u001b[43m        \u001b[49m\u001b[43mX\u001b[49m\u001b[43m,\u001b[49m\n\u001b[32m   2867\u001b[39m \u001b[43m        \u001b[49m\u001b[38;5;28;43mself\u001b[39;49m\u001b[43m.\u001b[49m\u001b[43mgraph_\u001b[49m\u001b[43m,\u001b[49m\n\u001b[32m   2868\u001b[39m \u001b[43m        \u001b[49m\u001b[38;5;28;43mself\u001b[39;49m\u001b[43m.\u001b[49m\u001b[43mn_components\u001b[49m\u001b[43m,\u001b[49m\n\u001b[32m   2869\u001b[39m \u001b[43m        \u001b[49m\u001b[38;5;28;43mself\u001b[39;49m\u001b[43m.\u001b[49m\u001b[43m_initial_alpha\u001b[49m\u001b[43m,\u001b[49m\n\u001b[32m   2870\u001b[39m \u001b[43m        \u001b[49m\u001b[38;5;28;43mself\u001b[39;49m\u001b[43m.\u001b[49m\u001b[43m_a\u001b[49m\u001b[43m,\u001b[49m\n\u001b[32m   2871\u001b[39m \u001b[43m        \u001b[49m\u001b[38;5;28;43mself\u001b[39;49m\u001b[43m.\u001b[49m\u001b[43m_b\u001b[49m\u001b[43m,\u001b[49m\n\u001b[32m   2872\u001b[39m \u001b[43m        \u001b[49m\u001b[38;5;28;43mself\u001b[39;49m\u001b[43m.\u001b[49m\u001b[43mrepulsion_strength\u001b[49m\u001b[43m,\u001b[49m\n\u001b[32m   2873\u001b[39m \u001b[43m        \u001b[49m\u001b[38;5;28;43mself\u001b[39;49m\u001b[43m.\u001b[49m\u001b[43mnegative_sample_rate\u001b[49m\u001b[43m,\u001b[49m\n\u001b[32m   2874\u001b[39m \u001b[43m        \u001b[49m\u001b[43mn_epochs\u001b[49m\u001b[43m,\u001b[49m\n\u001b[32m   2875\u001b[39m \u001b[43m        \u001b[49m\u001b[43minit\u001b[49m\u001b[43m,\u001b[49m\n\u001b[32m   2876\u001b[39m \u001b[43m        \u001b[49m\u001b[43mrandom_state\u001b[49m\u001b[43m,\u001b[49m\n\u001b[32m   2877\u001b[39m \u001b[43m        \u001b[49m\u001b[38;5;28;43mself\u001b[39;49m\u001b[43m.\u001b[49m\u001b[43m_input_distance_func\u001b[49m\u001b[43m,\u001b[49m\n\u001b[32m   2878\u001b[39m \u001b[43m        \u001b[49m\u001b[38;5;28;43mself\u001b[39;49m\u001b[43m.\u001b[49m\u001b[43m_metric_kwds\u001b[49m\u001b[43m,\u001b[49m\n\u001b[32m   2879\u001b[39m \u001b[43m        \u001b[49m\u001b[38;5;28;43mself\u001b[39;49m\u001b[43m.\u001b[49m\u001b[43mdensmap\u001b[49m\u001b[43m,\u001b[49m\n\u001b[32m   2880\u001b[39m \u001b[43m        \u001b[49m\u001b[38;5;28;43mself\u001b[39;49m\u001b[43m.\u001b[49m\u001b[43m_densmap_kwds\u001b[49m\u001b[43m,\u001b[49m\n\u001b[32m   2881\u001b[39m \u001b[43m        \u001b[49m\u001b[38;5;28;43mself\u001b[39;49m\u001b[43m.\u001b[49m\u001b[43moutput_dens\u001b[49m\u001b[43m,\u001b[49m\n\u001b[32m   2882\u001b[39m \u001b[43m        \u001b[49m\u001b[38;5;28;43mself\u001b[39;49m\u001b[43m.\u001b[49m\u001b[43m_output_distance_func\u001b[49m\u001b[43m,\u001b[49m\n\u001b[32m   2883\u001b[39m \u001b[43m        \u001b[49m\u001b[38;5;28;43mself\u001b[39;49m\u001b[43m.\u001b[49m\u001b[43m_output_metric_kwds\u001b[49m\u001b[43m,\u001b[49m\n\u001b[32m   2884\u001b[39m \u001b[43m        \u001b[49m\u001b[38;5;28;43mself\u001b[39;49m\u001b[43m.\u001b[49m\u001b[43moutput_metric\u001b[49m\u001b[43m \u001b[49m\u001b[38;5;129;43;01min\u001b[39;49;00m\u001b[43m \u001b[49m\u001b[43m(\u001b[49m\u001b[33;43m\"\u001b[39;49m\u001b[33;43meuclidean\u001b[39;49m\u001b[33;43m\"\u001b[39;49m\u001b[43m,\u001b[49m\u001b[43m \u001b[49m\u001b[33;43m\"\u001b[39;49m\u001b[33;43ml2\u001b[39;49m\u001b[33;43m\"\u001b[39;49m\u001b[43m)\u001b[49m\u001b[43m,\u001b[49m\n\u001b[32m   2885\u001b[39m \u001b[43m        \u001b[49m\u001b[38;5;28;43mself\u001b[39;49m\u001b[43m.\u001b[49m\u001b[43mrandom_state\u001b[49m\u001b[43m \u001b[49m\u001b[38;5;129;43;01mis\u001b[39;49;00m\u001b[43m \u001b[49m\u001b[38;5;28;43;01mNone\u001b[39;49;00m\u001b[43m,\u001b[49m\n\u001b[32m   2886\u001b[39m \u001b[43m        \u001b[49m\u001b[38;5;28;43mself\u001b[39;49m\u001b[43m.\u001b[49m\u001b[43mverbose\u001b[49m\u001b[43m,\u001b[49m\n\u001b[32m   2887\u001b[39m \u001b[43m        \u001b[49m\u001b[43mtqdm_kwds\u001b[49m\u001b[43m=\u001b[49m\u001b[38;5;28;43mself\u001b[39;49m\u001b[43m.\u001b[49m\u001b[43mtqdm_kwds\u001b[49m\u001b[43m,\u001b[49m\n\u001b[32m   2888\u001b[39m \u001b[43m    \u001b[49m\u001b[43m)\u001b[49m\n",
      "\u001b[36mFile \u001b[39m\u001b[32m/Library/Frameworks/Python.framework/Versions/3.13/lib/python3.13/site-packages/umap/umap_.py:1109\u001b[39m, in \u001b[36msimplicial_set_embedding\u001b[39m\u001b[34m(data, graph, n_components, initial_alpha, a, b, gamma, negative_sample_rate, n_epochs, init, random_state, metric, metric_kwds, densmap, densmap_kwds, output_dens, output_metric, output_metric_kwds, euclidean_output, parallel, verbose, tqdm_kwds)\u001b[39m\n\u001b[32m   1105\u001b[39m     embedding = noisy_scale_coords(\n\u001b[32m   1106\u001b[39m         embedding, random_state, max_coord=\u001b[32m10\u001b[39m, noise=\u001b[32m0.0001\u001b[39m\n\u001b[32m   1107\u001b[39m     )\n\u001b[32m   1108\u001b[39m \u001b[38;5;28;01melif\u001b[39;00m \u001b[38;5;28misinstance\u001b[39m(init, \u001b[38;5;28mstr\u001b[39m) \u001b[38;5;129;01mand\u001b[39;00m init == \u001b[33m\"\u001b[39m\u001b[33mspectral\u001b[39m\u001b[33m\"\u001b[39m:\n\u001b[32m-> \u001b[39m\u001b[32m1109\u001b[39m     embedding = \u001b[43mspectral_layout\u001b[49m\u001b[43m(\u001b[49m\n\u001b[32m   1110\u001b[39m \u001b[43m        \u001b[49m\u001b[43mdata\u001b[49m\u001b[43m,\u001b[49m\n\u001b[32m   1111\u001b[39m \u001b[43m        \u001b[49m\u001b[43mgraph\u001b[49m\u001b[43m,\u001b[49m\n\u001b[32m   1112\u001b[39m \u001b[43m        \u001b[49m\u001b[43mn_components\u001b[49m\u001b[43m,\u001b[49m\n\u001b[32m   1113\u001b[39m \u001b[43m        \u001b[49m\u001b[43mrandom_state\u001b[49m\u001b[43m,\u001b[49m\n\u001b[32m   1114\u001b[39m \u001b[43m        \u001b[49m\u001b[43mmetric\u001b[49m\u001b[43m=\u001b[49m\u001b[43mmetric\u001b[49m\u001b[43m,\u001b[49m\n\u001b[32m   1115\u001b[39m \u001b[43m        \u001b[49m\u001b[43mmetric_kwds\u001b[49m\u001b[43m=\u001b[49m\u001b[43mmetric_kwds\u001b[49m\u001b[43m,\u001b[49m\n\u001b[32m   1116\u001b[39m \u001b[43m    \u001b[49m\u001b[43m)\u001b[49m\n\u001b[32m   1117\u001b[39m     \u001b[38;5;66;03m# We add a little noise to avoid local minima for optimization to come\u001b[39;00m\n\u001b[32m   1118\u001b[39m     embedding = noisy_scale_coords(\n\u001b[32m   1119\u001b[39m         embedding, random_state, max_coord=\u001b[32m10\u001b[39m, noise=\u001b[32m0.0001\u001b[39m\n\u001b[32m   1120\u001b[39m     )\n",
      "\u001b[36mFile \u001b[39m\u001b[32m/Library/Frameworks/Python.framework/Versions/3.13/lib/python3.13/site-packages/umap/spectral.py:304\u001b[39m, in \u001b[36mspectral_layout\u001b[39m\u001b[34m(data, graph, dim, random_state, metric, metric_kwds, tol, maxiter)\u001b[39m\n\u001b[32m    263\u001b[39m \u001b[38;5;28;01mdef\u001b[39;00m\u001b[38;5;250m \u001b[39m\u001b[34mspectral_layout\u001b[39m(\n\u001b[32m    264\u001b[39m     data,\n\u001b[32m    265\u001b[39m     graph,\n\u001b[32m   (...)\u001b[39m\u001b[32m    271\u001b[39m     maxiter=\u001b[32m0\u001b[39m,\n\u001b[32m    272\u001b[39m ):\n\u001b[32m    273\u001b[39m \u001b[38;5;250m    \u001b[39m\u001b[33;03m\"\"\"\u001b[39;00m\n\u001b[32m    274\u001b[39m \u001b[33;03m    Given a graph compute the spectral embedding of the graph. This is\u001b[39;00m\n\u001b[32m    275\u001b[39m \u001b[33;03m    simply the eigenvectors of the laplacian of the graph. Here we use the\u001b[39;00m\n\u001b[32m   (...)\u001b[39m\u001b[32m    302\u001b[39m \u001b[33;03m        The spectral embedding of the graph.\u001b[39;00m\n\u001b[32m    303\u001b[39m \u001b[33;03m    \"\"\"\u001b[39;00m\n\u001b[32m--> \u001b[39m\u001b[32m304\u001b[39m     \u001b[38;5;28;01mreturn\u001b[39;00m \u001b[43m_spectral_layout\u001b[49m\u001b[43m(\u001b[49m\n\u001b[32m    305\u001b[39m \u001b[43m        \u001b[49m\u001b[43mdata\u001b[49m\u001b[43m=\u001b[49m\u001b[43mdata\u001b[49m\u001b[43m,\u001b[49m\n\u001b[32m    306\u001b[39m \u001b[43m        \u001b[49m\u001b[43mgraph\u001b[49m\u001b[43m=\u001b[49m\u001b[43mgraph\u001b[49m\u001b[43m,\u001b[49m\n\u001b[32m    307\u001b[39m \u001b[43m        \u001b[49m\u001b[43mdim\u001b[49m\u001b[43m=\u001b[49m\u001b[43mdim\u001b[49m\u001b[43m,\u001b[49m\n\u001b[32m    308\u001b[39m \u001b[43m        \u001b[49m\u001b[43mrandom_state\u001b[49m\u001b[43m=\u001b[49m\u001b[43mrandom_state\u001b[49m\u001b[43m,\u001b[49m\n\u001b[32m    309\u001b[39m \u001b[43m        \u001b[49m\u001b[43mmetric\u001b[49m\u001b[43m=\u001b[49m\u001b[43mmetric\u001b[49m\u001b[43m,\u001b[49m\n\u001b[32m    310\u001b[39m \u001b[43m        \u001b[49m\u001b[43mmetric_kwds\u001b[49m\u001b[43m=\u001b[49m\u001b[43mmetric_kwds\u001b[49m\u001b[43m,\u001b[49m\n\u001b[32m    311\u001b[39m \u001b[43m        \u001b[49m\u001b[43minit\u001b[49m\u001b[43m=\u001b[49m\u001b[33;43m\"\u001b[39;49m\u001b[33;43mrandom\u001b[39;49m\u001b[33;43m\"\u001b[39;49m\u001b[43m,\u001b[49m\n\u001b[32m    312\u001b[39m \u001b[43m        \u001b[49m\u001b[43mtol\u001b[49m\u001b[43m=\u001b[49m\u001b[43mtol\u001b[49m\u001b[43m,\u001b[49m\n\u001b[32m    313\u001b[39m \u001b[43m        \u001b[49m\u001b[43mmaxiter\u001b[49m\u001b[43m=\u001b[49m\u001b[43mmaxiter\u001b[49m\u001b[43m,\u001b[49m\n\u001b[32m    314\u001b[39m \u001b[43m    \u001b[49m\u001b[43m)\u001b[49m\n",
      "\u001b[36mFile \u001b[39m\u001b[32m/Library/Frameworks/Python.framework/Versions/3.13/lib/python3.13/site-packages/umap/spectral.py:467\u001b[39m, in \u001b[36m_spectral_layout\u001b[39m\u001b[34m(data, graph, dim, random_state, metric, metric_kwds, init, method, tol, maxiter)\u001b[39m\n\u001b[32m    464\u001b[39m n_components, labels = scipy.sparse.csgraph.connected_components(graph)\n\u001b[32m    466\u001b[39m \u001b[38;5;28;01mif\u001b[39;00m n_components > \u001b[32m1\u001b[39m:\n\u001b[32m--> \u001b[39m\u001b[32m467\u001b[39m     \u001b[38;5;28;01mreturn\u001b[39;00m \u001b[43mmulti_component_layout\u001b[49m\u001b[43m(\u001b[49m\n\u001b[32m    468\u001b[39m \u001b[43m        \u001b[49m\u001b[43mdata\u001b[49m\u001b[43m,\u001b[49m\n\u001b[32m    469\u001b[39m \u001b[43m        \u001b[49m\u001b[43mgraph\u001b[49m\u001b[43m,\u001b[49m\n\u001b[32m    470\u001b[39m \u001b[43m        \u001b[49m\u001b[43mn_components\u001b[49m\u001b[43m,\u001b[49m\n\u001b[32m    471\u001b[39m \u001b[43m        \u001b[49m\u001b[43mlabels\u001b[49m\u001b[43m,\u001b[49m\n\u001b[32m    472\u001b[39m \u001b[43m        \u001b[49m\u001b[43mdim\u001b[49m\u001b[43m,\u001b[49m\n\u001b[32m    473\u001b[39m \u001b[43m        \u001b[49m\u001b[43mrandom_state\u001b[49m\u001b[43m,\u001b[49m\n\u001b[32m    474\u001b[39m \u001b[43m        \u001b[49m\u001b[43mmetric\u001b[49m\u001b[43m=\u001b[49m\u001b[43mmetric\u001b[49m\u001b[43m,\u001b[49m\n\u001b[32m    475\u001b[39m \u001b[43m        \u001b[49m\u001b[43mmetric_kwds\u001b[49m\u001b[43m=\u001b[49m\u001b[43mmetric_kwds\u001b[49m\u001b[43m,\u001b[49m\n\u001b[32m    476\u001b[39m \u001b[43m    \u001b[49m\u001b[43m)\u001b[49m\n\u001b[32m    478\u001b[39m sqrt_deg = np.sqrt(np.asarray(graph.sum(axis=\u001b[32m0\u001b[39m)).squeeze())\n\u001b[32m    479\u001b[39m \u001b[38;5;66;03m# standard Laplacian\u001b[39;00m\n\u001b[32m    480\u001b[39m \u001b[38;5;66;03m# D = scipy.sparse.spdiags(diag_data, 0, graph.shape[0], graph.shape[0])\u001b[39;00m\n\u001b[32m    481\u001b[39m \u001b[38;5;66;03m# L = D - graph\u001b[39;00m\n\u001b[32m    482\u001b[39m \u001b[38;5;66;03m# Normalized Laplacian\u001b[39;00m\n",
      "\u001b[36mFile \u001b[39m\u001b[32m/Library/Frameworks/Python.framework/Versions/3.13/lib/python3.13/site-packages/umap/spectral.py:243\u001b[39m, in \u001b[36mmulti_component_layout\u001b[39m\u001b[34m(data, graph, n_components, component_labels, dim, random_state, metric, metric_kwds, init, tol, maxiter)\u001b[39m\n\u001b[32m    234\u001b[39m     result[component_labels == label] = (\n\u001b[32m    235\u001b[39m         random_state.uniform(\n\u001b[32m    236\u001b[39m             low=-data_range,\n\u001b[32m   (...)\u001b[39m\u001b[32m    240\u001b[39m         + meta_embedding[label]\n\u001b[32m    241\u001b[39m     )\n\u001b[32m    242\u001b[39m \u001b[38;5;28;01melse\u001b[39;00m:\n\u001b[32m--> \u001b[39m\u001b[32m243\u001b[39m     component_embedding = \u001b[43m_spectral_layout\u001b[49m\u001b[43m(\u001b[49m\n\u001b[32m    244\u001b[39m \u001b[43m        \u001b[49m\u001b[43mdata\u001b[49m\u001b[43m=\u001b[49m\u001b[38;5;28;43;01mNone\u001b[39;49;00m\u001b[43m,\u001b[49m\n\u001b[32m    245\u001b[39m \u001b[43m        \u001b[49m\u001b[43mgraph\u001b[49m\u001b[43m=\u001b[49m\u001b[43mcomponent_graph\u001b[49m\u001b[43m,\u001b[49m\n\u001b[32m    246\u001b[39m \u001b[43m        \u001b[49m\u001b[43mdim\u001b[49m\u001b[43m=\u001b[49m\u001b[43mdim\u001b[49m\u001b[43m,\u001b[49m\n\u001b[32m    247\u001b[39m \u001b[43m        \u001b[49m\u001b[43mrandom_state\u001b[49m\u001b[43m=\u001b[49m\u001b[43mrandom_state\u001b[49m\u001b[43m,\u001b[49m\n\u001b[32m    248\u001b[39m \u001b[43m        \u001b[49m\u001b[43mmetric\u001b[49m\u001b[43m=\u001b[49m\u001b[43mmetric\u001b[49m\u001b[43m,\u001b[49m\n\u001b[32m    249\u001b[39m \u001b[43m        \u001b[49m\u001b[43mmetric_kwds\u001b[49m\u001b[43m=\u001b[49m\u001b[43mmetric_kwds\u001b[49m\u001b[43m,\u001b[49m\n\u001b[32m    250\u001b[39m \u001b[43m        \u001b[49m\u001b[43minit\u001b[49m\u001b[43m=\u001b[49m\u001b[43minit\u001b[49m\u001b[43m,\u001b[49m\n\u001b[32m    251\u001b[39m \u001b[43m        \u001b[49m\u001b[43mtol\u001b[49m\u001b[43m=\u001b[49m\u001b[43mtol\u001b[49m\u001b[43m,\u001b[49m\n\u001b[32m    252\u001b[39m \u001b[43m        \u001b[49m\u001b[43mmaxiter\u001b[49m\u001b[43m=\u001b[49m\u001b[43mmaxiter\u001b[49m\u001b[43m,\u001b[49m\n\u001b[32m    253\u001b[39m \u001b[43m    \u001b[49m\u001b[43m)\u001b[49m\n\u001b[32m    254\u001b[39m     expansion = data_range / np.max(np.abs(component_embedding))\n\u001b[32m    255\u001b[39m     component_embedding *= expansion\n",
      "\u001b[36mFile \u001b[39m\u001b[32m/Library/Frameworks/Python.framework/Versions/3.13/lib/python3.13/site-packages/umap/spectral.py:519\u001b[39m, in \u001b[36m_spectral_layout\u001b[39m\u001b[34m(data, graph, dim, random_state, metric, metric_kwds, init, method, tol, maxiter)\u001b[39m\n\u001b[32m    516\u001b[39m X[:, \u001b[32m0\u001b[39m] = sqrt_deg / np.linalg.norm(sqrt_deg)\n\u001b[32m    518\u001b[39m \u001b[38;5;28;01mif\u001b[39;00m method == \u001b[33m\"\u001b[39m\u001b[33meigsh\u001b[39m\u001b[33m\"\u001b[39m:\n\u001b[32m--> \u001b[39m\u001b[32m519\u001b[39m     eigenvalues, eigenvectors = \u001b[43mscipy\u001b[49m\u001b[43m.\u001b[49m\u001b[43msparse\u001b[49m\u001b[43m.\u001b[49m\u001b[43mlinalg\u001b[49m\u001b[43m.\u001b[49m\u001b[43meigsh\u001b[49m\u001b[43m(\u001b[49m\n\u001b[32m    520\u001b[39m \u001b[43m        \u001b[49m\u001b[43mL\u001b[49m\u001b[43m,\u001b[49m\n\u001b[32m    521\u001b[39m \u001b[43m        \u001b[49m\u001b[43mk\u001b[49m\u001b[43m,\u001b[49m\n\u001b[32m    522\u001b[39m \u001b[43m        \u001b[49m\u001b[43mwhich\u001b[49m\u001b[43m=\u001b[49m\u001b[33;43m\"\u001b[39;49m\u001b[33;43mSM\u001b[39;49m\u001b[33;43m\"\u001b[39;49m\u001b[43m,\u001b[49m\n\u001b[32m    523\u001b[39m \u001b[43m        \u001b[49m\u001b[43mncv\u001b[49m\u001b[43m=\u001b[49m\u001b[43mnum_lanczos_vectors\u001b[49m\u001b[43m,\u001b[49m\n\u001b[32m    524\u001b[39m \u001b[43m        \u001b[49m\u001b[43mtol\u001b[49m\u001b[43m=\u001b[49m\u001b[43mtol\u001b[49m\u001b[43m \u001b[49m\u001b[38;5;129;43;01mor\u001b[39;49;00m\u001b[43m \u001b[49m\u001b[32;43m1e-4\u001b[39;49m\u001b[43m,\u001b[49m\n\u001b[32m    525\u001b[39m \u001b[43m        \u001b[49m\u001b[43mv0\u001b[49m\u001b[43m=\u001b[49m\u001b[43mnp\u001b[49m\u001b[43m.\u001b[49m\u001b[43mones\u001b[49m\u001b[43m(\u001b[49m\u001b[43mL\u001b[49m\u001b[43m.\u001b[49m\u001b[43mshape\u001b[49m\u001b[43m[\u001b[49m\u001b[32;43m0\u001b[39;49m\u001b[43m]\u001b[49m\u001b[43m)\u001b[49m\u001b[43m,\u001b[49m\n\u001b[32m    526\u001b[39m \u001b[43m        \u001b[49m\u001b[43mmaxiter\u001b[49m\u001b[43m=\u001b[49m\u001b[43mmaxiter\u001b[49m\u001b[43m \u001b[49m\u001b[38;5;129;43;01mor\u001b[39;49;00m\u001b[43m \u001b[49m\u001b[43mgraph\u001b[49m\u001b[43m.\u001b[49m\u001b[43mshape\u001b[49m\u001b[43m[\u001b[49m\u001b[32;43m0\u001b[39;49m\u001b[43m]\u001b[49m\u001b[43m \u001b[49m\u001b[43m*\u001b[49m\u001b[43m \u001b[49m\u001b[32;43m5\u001b[39;49m\u001b[43m,\u001b[49m\n\u001b[32m    527\u001b[39m \u001b[43m    \u001b[49m\u001b[43m)\u001b[49m\n\u001b[32m    528\u001b[39m \u001b[38;5;28;01melif\u001b[39;00m method == \u001b[33m\"\u001b[39m\u001b[33mlobpcg\u001b[39m\u001b[33m\"\u001b[39m:\n\u001b[32m    529\u001b[39m     \u001b[38;5;28;01mwith\u001b[39;00m warnings.catch_warnings():\n",
      "\u001b[36mFile \u001b[39m\u001b[32m/Library/Frameworks/Python.framework/Versions/3.13/lib/python3.13/site-packages/scipy/sparse/linalg/_eigen/arpack/arpack.py:1696\u001b[39m, in \u001b[36meigsh\u001b[39m\u001b[34m(A, k, M, sigma, which, v0, ncv, maxiter, tol, return_eigenvectors, Minv, OPinv, mode)\u001b[39m\n\u001b[32m   1694\u001b[39m \u001b[38;5;28;01mwith\u001b[39;00m _ARPACK_LOCK:\n\u001b[32m   1695\u001b[39m     \u001b[38;5;28;01mwhile\u001b[39;00m \u001b[38;5;129;01mnot\u001b[39;00m params.converged:\n\u001b[32m-> \u001b[39m\u001b[32m1696\u001b[39m         \u001b[43mparams\u001b[49m\u001b[43m.\u001b[49m\u001b[43miterate\u001b[49m\u001b[43m(\u001b[49m\u001b[43m)\u001b[49m\n\u001b[32m   1698\u001b[39m     \u001b[38;5;28;01mreturn\u001b[39;00m params.extract(return_eigenvectors)\n",
      "\u001b[36mFile \u001b[39m\u001b[32m/Library/Frameworks/Python.framework/Versions/3.13/lib/python3.13/site-packages/scipy/sparse/linalg/_eigen/arpack/arpack.py:542\u001b[39m, in \u001b[36m_SymmetricArpackParams.iterate\u001b[39m\u001b[34m(self)\u001b[39m\n\u001b[32m    540\u001b[39m \u001b[38;5;28;01mdef\u001b[39;00m\u001b[38;5;250m \u001b[39m\u001b[34miterate\u001b[39m(\u001b[38;5;28mself\u001b[39m):\n\u001b[32m    541\u001b[39m     \u001b[38;5;28mself\u001b[39m.ido, \u001b[38;5;28mself\u001b[39m.tol, \u001b[38;5;28mself\u001b[39m.resid, \u001b[38;5;28mself\u001b[39m.v, \u001b[38;5;28mself\u001b[39m.iparam, \u001b[38;5;28mself\u001b[39m.ipntr, \u001b[38;5;28mself\u001b[39m.info = \\\n\u001b[32m--> \u001b[39m\u001b[32m542\u001b[39m         \u001b[38;5;28;43mself\u001b[39;49m\u001b[43m.\u001b[49m\u001b[43m_arpack_solver\u001b[49m\u001b[43m(\u001b[49m\u001b[38;5;28;43mself\u001b[39;49m\u001b[43m.\u001b[49m\u001b[43mido\u001b[49m\u001b[43m,\u001b[49m\u001b[43m \u001b[49m\u001b[38;5;28;43mself\u001b[39;49m\u001b[43m.\u001b[49m\u001b[43mbmat\u001b[49m\u001b[43m,\u001b[49m\u001b[43m \u001b[49m\u001b[38;5;28;43mself\u001b[39;49m\u001b[43m.\u001b[49m\u001b[43mwhich\u001b[49m\u001b[43m,\u001b[49m\u001b[43m \u001b[49m\u001b[38;5;28;43mself\u001b[39;49m\u001b[43m.\u001b[49m\u001b[43mk\u001b[49m\u001b[43m,\u001b[49m\n\u001b[32m    543\u001b[39m \u001b[43m                            \u001b[49m\u001b[38;5;28;43mself\u001b[39;49m\u001b[43m.\u001b[49m\u001b[43mtol\u001b[49m\u001b[43m,\u001b[49m\u001b[43m \u001b[49m\u001b[38;5;28;43mself\u001b[39;49m\u001b[43m.\u001b[49m\u001b[43mresid\u001b[49m\u001b[43m,\u001b[49m\u001b[43m \u001b[49m\u001b[38;5;28;43mself\u001b[39;49m\u001b[43m.\u001b[49m\u001b[43mv\u001b[49m\u001b[43m,\u001b[49m\u001b[43m \u001b[49m\u001b[38;5;28;43mself\u001b[39;49m\u001b[43m.\u001b[49m\u001b[43miparam\u001b[49m\u001b[43m,\u001b[49m\n\u001b[32m    544\u001b[39m \u001b[43m                            \u001b[49m\u001b[38;5;28;43mself\u001b[39;49m\u001b[43m.\u001b[49m\u001b[43mipntr\u001b[49m\u001b[43m,\u001b[49m\u001b[43m \u001b[49m\u001b[38;5;28;43mself\u001b[39;49m\u001b[43m.\u001b[49m\u001b[43mworkd\u001b[49m\u001b[43m,\u001b[49m\u001b[43m \u001b[49m\u001b[38;5;28;43mself\u001b[39;49m\u001b[43m.\u001b[49m\u001b[43mworkl\u001b[49m\u001b[43m,\u001b[49m\u001b[43m \u001b[49m\u001b[38;5;28;43mself\u001b[39;49m\u001b[43m.\u001b[49m\u001b[43minfo\u001b[49m\u001b[43m)\u001b[49m\n\u001b[32m    546\u001b[39m     xslice = \u001b[38;5;28mslice\u001b[39m(\u001b[38;5;28mself\u001b[39m.ipntr[\u001b[32m0\u001b[39m] - \u001b[32m1\u001b[39m, \u001b[38;5;28mself\u001b[39m.ipntr[\u001b[32m0\u001b[39m] - \u001b[32m1\u001b[39m + \u001b[38;5;28mself\u001b[39m.n)\n\u001b[32m    547\u001b[39m     yslice = \u001b[38;5;28mslice\u001b[39m(\u001b[38;5;28mself\u001b[39m.ipntr[\u001b[32m1\u001b[39m] - \u001b[32m1\u001b[39m, \u001b[38;5;28mself\u001b[39m.ipntr[\u001b[32m1\u001b[39m] - \u001b[32m1\u001b[39m + \u001b[38;5;28mself\u001b[39m.n)\n",
      "\u001b[31mKeyboardInterrupt\u001b[39m: "
     ]
    }
   ],
   "source": [
    "# 设置环境变量，避免 tokenizer 并行死锁问题\n",
    "os.environ[\"TOKENIZERS_PARALLELISM\"] = \"false\"\n",
    "\n",
    "# Step 1: 读取数据\n",
    "df = pd.read_csv(\"../2_data/cleaned_nvda.csv\", parse_dates=[\"Date\"])\n",
    "df = df.dropna(subset=['Processed_Tweet'])  # 去掉空推文\n",
    "\n",
    "# \n",
    "texts = df[\"Processed_Tweet\"].astype(str).tolist()\n",
    "# 可选：加进度条显示加载文本的处理（不是必须）\n",
    "texts = list(tqdm(texts, desc=\"Preparing texts\"))\n",
    "\n",
    "# Step 2: 加载嵌入模型（建议测试用小模型）\n",
    "embedding_model = SentenceTransformer(\"paraphrase-MiniLM-L6-v2\")\n",
    "\n",
    "# Step 3: 定义 BERTopic 模型\n",
    "hdbscan_model = HDBSCAN(min_cluster_size=30, min_samples=10, metric='euclidean')\n",
    "topic_model = BERTopic(\n",
    "    embedding_model=embedding_model,\n",
    "    language=\"english\",\n",
    "    calculate_probabilities=True,\n",
    "    verbose=True,\n",
    "    nr_topics = 10\n",
    ")\n",
    "\n",
    "# Step 4: 模型训练\n",
    "topics, probs = topic_model.fit_transform(texts)\n",
    "\n",
    "# Step 5: 合并回原数据（只对前 500 条）\n",
    "df_sample = df.iloc.copy()\n",
    "df_sample[\"topic\"] = topics\n",
    "df_sample[\"topic_prob\"] = [prob[topic] if topic != -1 else None \n",
    "                           for topic, prob in zip(topics, probs)]\n",
    "\n",
    "# 保存结果\n",
    "df_sample.to_csv(\"../2_data/with_topics_sample.csv\", index=False)"
   ]
  },
  {
   "cell_type": "code",
   "execution_count": null,
   "metadata": {},
   "outputs": [
    {
     "name": "stdout",
     "output_type": "stream",
     "text": [
      "   Topic  Count                               Name  \\\n",
      "0     -1    742              -1_nvda_look_call_buy   \n",
      "1      0    693              0_nvda_move_long_look   \n",
      "2      1    201              1_nvda_put_call_stock   \n",
      "3      2    165             2_amd_nvidia_nvda_intc   \n",
      "4      3     93        3_qcom_watch_premarket_nvda   \n",
      "5      4     26                 4_vs_ep_est_report   \n",
      "6      5     23                5_earn_bell_mnst_cb   \n",
      "7      6     22            6_game_pc_shield_tablet   \n",
      "8      7     19       7_downgrad_street_upgrad_amp   \n",
      "9      8     16  8_swing_trade_long_swingingthenys   \n",
      "\n",
      "                                      Representation  \\\n",
      "0  [nvda, look, call, buy, earn, amd, short, good...   \n",
      "1  [nvda, move, long, look, go, breakout, volum, ...   \n",
      "2  [nvda, put, call, stock, trade, buyer, sell, p...   \n",
      "3  [amd, nvidia, nvda, intc, card, go, buy, share...   \n",
      "4  [qcom, watch, premarket, nvda, intc, list, par...   \n",
      "5  [vs, ep, est, report, revenu, estim, rev, nvid...   \n",
      "6  [earn, bell, mnst, cb, ed, pcln, mdvn, bnni, n...   \n",
      "7  [game, pc, shield, tablet, consol, android, gr...   \n",
      "8  [downgrad, street, upgrad, amp, mea, notabl, e...   \n",
      "9  [swing, trade, long, swingingthenys, ffiv, loo...   \n",
      "\n",
      "                                 Representative_Docs  \n",
      "0  [nvda look like close chunk jun call earlier t...  \n",
      "1                                 [nvda, nvda, nvda]  \n",
      "2  [nvda big trade today march put option strike ...  \n",
      "3  [amd look posit goe intc amp nvda direct yet g...  \n",
      "4  [long watch list part kmx kr lb lii low lrcx m...  \n",
      "5  [nvda report ep vs est revenu vs est, nvda nvi...  \n",
      "6  [quotlinvestresearch quotmitchellkwarren earn ...  \n",
      "7  [nvda call overal game market sure grow global...  \n",
      "8  [notabl morn upgrad cv nvda pot amp rht amp do...  \n",
      "9  [new swing trade short nvda target, nvda short...  \n",
      "[('nvda', 0.13291016140813292), ('move', 0.04030896703534943), ('long', 0.039227581134511656), ('look', 0.036080373968381776), ('go', 0.02996351549071963), ('breakout', 0.029718139467293236), ('volum', 0.029328233683603433), ('break', 0.02913041041288604), ('close', 0.02719790372265731), ('higher', 0.026981974988915157)]\n"
     ]
    },
    {
     "data": {
      "application/vnd.plotly.v1+json": {
       "config": {
        "plotlyServerURL": "https://plot.ly"
       },
       "data": [
        {
         "hoverinfo": "text",
         "marker": {
          "color": "rgb(61,153,112)"
         },
         "mode": "lines",
         "type": "scatter",
         "x": [
          0,
          0.7982374293902822,
          0.7982374293902822,
          0
         ],
         "xaxis": "x",
         "y": [
          -15,
          -15,
          -25,
          -25
         ],
         "yaxis": "y"
        },
        {
         "hoverinfo": "text",
         "marker": {
          "color": "rgb(61,153,112)"
         },
         "mode": "lines",
         "type": "scatter",
         "x": [
          0,
          0.9399371630387802,
          0.9399371630387802,
          0.7982374293902822
         ],
         "xaxis": "x",
         "y": [
          -5,
          -5,
          -20,
          -20
         ],
         "yaxis": "y"
        },
        {
         "hoverinfo": "text",
         "marker": {
          "color": "rgb(255,65,54)"
         },
         "mode": "lines",
         "type": "scatter",
         "x": [
          0,
          0.538701989754283,
          0.538701989754283,
          0
         ],
         "xaxis": "x",
         "y": [
          -45,
          -45,
          -55,
          -55
         ],
         "yaxis": "y"
        },
        {
         "hoverinfo": "text",
         "marker": {
          "color": "rgb(255,65,54)"
         },
         "mode": "lines",
         "type": "scatter",
         "x": [
          0.538701989754283,
          0.7367713529718607,
          0.7367713529718607,
          0
         ],
         "xaxis": "x",
         "y": [
          -50,
          -50,
          -65,
          -65
         ],
         "yaxis": "y"
        },
        {
         "hoverinfo": "text",
         "marker": {
          "color": "rgb(255,65,54)"
         },
         "mode": "lines",
         "type": "scatter",
         "x": [
          0,
          0.8882532942907645,
          0.8882532942907645,
          0.7367713529718607
         ],
         "xaxis": "x",
         "y": [
          -35,
          -35,
          -57.5,
          -57.5
         ],
         "yaxis": "y"
        },
        {
         "hoverinfo": "text",
         "marker": {
          "color": "rgb(255,65,54)"
         },
         "mode": "lines",
         "type": "scatter",
         "x": [
          0.8882532942907645,
          0.9345518120584804,
          0.9345518120584804,
          0
         ],
         "xaxis": "x",
         "y": [
          -46.25,
          -46.25,
          -75,
          -75
         ],
         "yaxis": "y"
        },
        {
         "hoverinfo": "text",
         "marker": {
          "color": "rgb(0,116,217)"
         },
         "mode": "lines",
         "type": "scatter",
         "x": [
          0.9345518120584804,
          1.0157952859313575,
          1.0157952859313575,
          0
         ],
         "xaxis": "x",
         "y": [
          -60.625,
          -60.625,
          -85,
          -85
         ],
         "yaxis": "y"
        },
        {
         "hoverinfo": "text",
         "marker": {
          "color": "rgb(0,116,217)"
         },
         "mode": "lines",
         "type": "scatter",
         "x": [
          0.9399371630387802,
          1.1083978770973384,
          1.1083978770973384,
          1.0157952859313575
         ],
         "xaxis": "x",
         "y": [
          -12.5,
          -12.5,
          -72.8125,
          -72.8125
         ],
         "yaxis": "y"
        }
       ],
       "layout": {
        "autosize": false,
        "height": 335,
        "hoverlabel": {
         "bgcolor": "white",
         "font": {
          "family": "Rockwell",
          "size": 16
         }
        },
        "hovermode": "closest",
        "plot_bgcolor": "#ECEFF1",
        "showlegend": false,
        "template": {
         "data": {
          "bar": [
           {
            "error_x": {
             "color": "#2a3f5f"
            },
            "error_y": {
             "color": "#2a3f5f"
            },
            "marker": {
             "line": {
              "color": "white",
              "width": 0.5
             },
             "pattern": {
              "fillmode": "overlay",
              "size": 10,
              "solidity": 0.2
             }
            },
            "type": "bar"
           }
          ],
          "barpolar": [
           {
            "marker": {
             "line": {
              "color": "white",
              "width": 0.5
             },
             "pattern": {
              "fillmode": "overlay",
              "size": 10,
              "solidity": 0.2
             }
            },
            "type": "barpolar"
           }
          ],
          "carpet": [
           {
            "aaxis": {
             "endlinecolor": "#2a3f5f",
             "gridcolor": "#C8D4E3",
             "linecolor": "#C8D4E3",
             "minorgridcolor": "#C8D4E3",
             "startlinecolor": "#2a3f5f"
            },
            "baxis": {
             "endlinecolor": "#2a3f5f",
             "gridcolor": "#C8D4E3",
             "linecolor": "#C8D4E3",
             "minorgridcolor": "#C8D4E3",
             "startlinecolor": "#2a3f5f"
            },
            "type": "carpet"
           }
          ],
          "choropleth": [
           {
            "colorbar": {
             "outlinewidth": 0,
             "ticks": ""
            },
            "type": "choropleth"
           }
          ],
          "contour": [
           {
            "colorbar": {
             "outlinewidth": 0,
             "ticks": ""
            },
            "colorscale": [
             [
              0,
              "#0d0887"
             ],
             [
              0.1111111111111111,
              "#46039f"
             ],
             [
              0.2222222222222222,
              "#7201a8"
             ],
             [
              0.3333333333333333,
              "#9c179e"
             ],
             [
              0.4444444444444444,
              "#bd3786"
             ],
             [
              0.5555555555555556,
              "#d8576b"
             ],
             [
              0.6666666666666666,
              "#ed7953"
             ],
             [
              0.7777777777777778,
              "#fb9f3a"
             ],
             [
              0.8888888888888888,
              "#fdca26"
             ],
             [
              1,
              "#f0f921"
             ]
            ],
            "type": "contour"
           }
          ],
          "contourcarpet": [
           {
            "colorbar": {
             "outlinewidth": 0,
             "ticks": ""
            },
            "type": "contourcarpet"
           }
          ],
          "heatmap": [
           {
            "colorbar": {
             "outlinewidth": 0,
             "ticks": ""
            },
            "colorscale": [
             [
              0,
              "#0d0887"
             ],
             [
              0.1111111111111111,
              "#46039f"
             ],
             [
              0.2222222222222222,
              "#7201a8"
             ],
             [
              0.3333333333333333,
              "#9c179e"
             ],
             [
              0.4444444444444444,
              "#bd3786"
             ],
             [
              0.5555555555555556,
              "#d8576b"
             ],
             [
              0.6666666666666666,
              "#ed7953"
             ],
             [
              0.7777777777777778,
              "#fb9f3a"
             ],
             [
              0.8888888888888888,
              "#fdca26"
             ],
             [
              1,
              "#f0f921"
             ]
            ],
            "type": "heatmap"
           }
          ],
          "heatmapgl": [
           {
            "colorbar": {
             "outlinewidth": 0,
             "ticks": ""
            },
            "colorscale": [
             [
              0,
              "#0d0887"
             ],
             [
              0.1111111111111111,
              "#46039f"
             ],
             [
              0.2222222222222222,
              "#7201a8"
             ],
             [
              0.3333333333333333,
              "#9c179e"
             ],
             [
              0.4444444444444444,
              "#bd3786"
             ],
             [
              0.5555555555555556,
              "#d8576b"
             ],
             [
              0.6666666666666666,
              "#ed7953"
             ],
             [
              0.7777777777777778,
              "#fb9f3a"
             ],
             [
              0.8888888888888888,
              "#fdca26"
             ],
             [
              1,
              "#f0f921"
             ]
            ],
            "type": "heatmapgl"
           }
          ],
          "histogram": [
           {
            "marker": {
             "pattern": {
              "fillmode": "overlay",
              "size": 10,
              "solidity": 0.2
             }
            },
            "type": "histogram"
           }
          ],
          "histogram2d": [
           {
            "colorbar": {
             "outlinewidth": 0,
             "ticks": ""
            },
            "colorscale": [
             [
              0,
              "#0d0887"
             ],
             [
              0.1111111111111111,
              "#46039f"
             ],
             [
              0.2222222222222222,
              "#7201a8"
             ],
             [
              0.3333333333333333,
              "#9c179e"
             ],
             [
              0.4444444444444444,
              "#bd3786"
             ],
             [
              0.5555555555555556,
              "#d8576b"
             ],
             [
              0.6666666666666666,
              "#ed7953"
             ],
             [
              0.7777777777777778,
              "#fb9f3a"
             ],
             [
              0.8888888888888888,
              "#fdca26"
             ],
             [
              1,
              "#f0f921"
             ]
            ],
            "type": "histogram2d"
           }
          ],
          "histogram2dcontour": [
           {
            "colorbar": {
             "outlinewidth": 0,
             "ticks": ""
            },
            "colorscale": [
             [
              0,
              "#0d0887"
             ],
             [
              0.1111111111111111,
              "#46039f"
             ],
             [
              0.2222222222222222,
              "#7201a8"
             ],
             [
              0.3333333333333333,
              "#9c179e"
             ],
             [
              0.4444444444444444,
              "#bd3786"
             ],
             [
              0.5555555555555556,
              "#d8576b"
             ],
             [
              0.6666666666666666,
              "#ed7953"
             ],
             [
              0.7777777777777778,
              "#fb9f3a"
             ],
             [
              0.8888888888888888,
              "#fdca26"
             ],
             [
              1,
              "#f0f921"
             ]
            ],
            "type": "histogram2dcontour"
           }
          ],
          "mesh3d": [
           {
            "colorbar": {
             "outlinewidth": 0,
             "ticks": ""
            },
            "type": "mesh3d"
           }
          ],
          "parcoords": [
           {
            "line": {
             "colorbar": {
              "outlinewidth": 0,
              "ticks": ""
             }
            },
            "type": "parcoords"
           }
          ],
          "pie": [
           {
            "automargin": true,
            "type": "pie"
           }
          ],
          "scatter": [
           {
            "fillpattern": {
             "fillmode": "overlay",
             "size": 10,
             "solidity": 0.2
            },
            "type": "scatter"
           }
          ],
          "scatter3d": [
           {
            "line": {
             "colorbar": {
              "outlinewidth": 0,
              "ticks": ""
             }
            },
            "marker": {
             "colorbar": {
              "outlinewidth": 0,
              "ticks": ""
             }
            },
            "type": "scatter3d"
           }
          ],
          "scattercarpet": [
           {
            "marker": {
             "colorbar": {
              "outlinewidth": 0,
              "ticks": ""
             }
            },
            "type": "scattercarpet"
           }
          ],
          "scattergeo": [
           {
            "marker": {
             "colorbar": {
              "outlinewidth": 0,
              "ticks": ""
             }
            },
            "type": "scattergeo"
           }
          ],
          "scattergl": [
           {
            "marker": {
             "colorbar": {
              "outlinewidth": 0,
              "ticks": ""
             }
            },
            "type": "scattergl"
           }
          ],
          "scattermapbox": [
           {
            "marker": {
             "colorbar": {
              "outlinewidth": 0,
              "ticks": ""
             }
            },
            "type": "scattermapbox"
           }
          ],
          "scatterpolar": [
           {
            "marker": {
             "colorbar": {
              "outlinewidth": 0,
              "ticks": ""
             }
            },
            "type": "scatterpolar"
           }
          ],
          "scatterpolargl": [
           {
            "marker": {
             "colorbar": {
              "outlinewidth": 0,
              "ticks": ""
             }
            },
            "type": "scatterpolargl"
           }
          ],
          "scatterternary": [
           {
            "marker": {
             "colorbar": {
              "outlinewidth": 0,
              "ticks": ""
             }
            },
            "type": "scatterternary"
           }
          ],
          "surface": [
           {
            "colorbar": {
             "outlinewidth": 0,
             "ticks": ""
            },
            "colorscale": [
             [
              0,
              "#0d0887"
             ],
             [
              0.1111111111111111,
              "#46039f"
             ],
             [
              0.2222222222222222,
              "#7201a8"
             ],
             [
              0.3333333333333333,
              "#9c179e"
             ],
             [
              0.4444444444444444,
              "#bd3786"
             ],
             [
              0.5555555555555556,
              "#d8576b"
             ],
             [
              0.6666666666666666,
              "#ed7953"
             ],
             [
              0.7777777777777778,
              "#fb9f3a"
             ],
             [
              0.8888888888888888,
              "#fdca26"
             ],
             [
              1,
              "#f0f921"
             ]
            ],
            "type": "surface"
           }
          ],
          "table": [
           {
            "cells": {
             "fill": {
              "color": "#EBF0F8"
             },
             "line": {
              "color": "white"
             }
            },
            "header": {
             "fill": {
              "color": "#C8D4E3"
             },
             "line": {
              "color": "white"
             }
            },
            "type": "table"
           }
          ]
         },
         "layout": {
          "annotationdefaults": {
           "arrowcolor": "#2a3f5f",
           "arrowhead": 0,
           "arrowwidth": 1
          },
          "autotypenumbers": "strict",
          "coloraxis": {
           "colorbar": {
            "outlinewidth": 0,
            "ticks": ""
           }
          },
          "colorscale": {
           "diverging": [
            [
             0,
             "#8e0152"
            ],
            [
             0.1,
             "#c51b7d"
            ],
            [
             0.2,
             "#de77ae"
            ],
            [
             0.3,
             "#f1b6da"
            ],
            [
             0.4,
             "#fde0ef"
            ],
            [
             0.5,
             "#f7f7f7"
            ],
            [
             0.6,
             "#e6f5d0"
            ],
            [
             0.7,
             "#b8e186"
            ],
            [
             0.8,
             "#7fbc41"
            ],
            [
             0.9,
             "#4d9221"
            ],
            [
             1,
             "#276419"
            ]
           ],
           "sequential": [
            [
             0,
             "#0d0887"
            ],
            [
             0.1111111111111111,
             "#46039f"
            ],
            [
             0.2222222222222222,
             "#7201a8"
            ],
            [
             0.3333333333333333,
             "#9c179e"
            ],
            [
             0.4444444444444444,
             "#bd3786"
            ],
            [
             0.5555555555555556,
             "#d8576b"
            ],
            [
             0.6666666666666666,
             "#ed7953"
            ],
            [
             0.7777777777777778,
             "#fb9f3a"
            ],
            [
             0.8888888888888888,
             "#fdca26"
            ],
            [
             1,
             "#f0f921"
            ]
           ],
           "sequentialminus": [
            [
             0,
             "#0d0887"
            ],
            [
             0.1111111111111111,
             "#46039f"
            ],
            [
             0.2222222222222222,
             "#7201a8"
            ],
            [
             0.3333333333333333,
             "#9c179e"
            ],
            [
             0.4444444444444444,
             "#bd3786"
            ],
            [
             0.5555555555555556,
             "#d8576b"
            ],
            [
             0.6666666666666666,
             "#ed7953"
            ],
            [
             0.7777777777777778,
             "#fb9f3a"
            ],
            [
             0.8888888888888888,
             "#fdca26"
            ],
            [
             1,
             "#f0f921"
            ]
           ]
          },
          "colorway": [
           "#636efa",
           "#EF553B",
           "#00cc96",
           "#ab63fa",
           "#FFA15A",
           "#19d3f3",
           "#FF6692",
           "#B6E880",
           "#FF97FF",
           "#FECB52"
          ],
          "font": {
           "color": "#2a3f5f"
          },
          "geo": {
           "bgcolor": "white",
           "lakecolor": "white",
           "landcolor": "white",
           "showlakes": true,
           "showland": true,
           "subunitcolor": "#C8D4E3"
          },
          "hoverlabel": {
           "align": "left"
          },
          "hovermode": "closest",
          "mapbox": {
           "style": "light"
          },
          "paper_bgcolor": "white",
          "plot_bgcolor": "white",
          "polar": {
           "angularaxis": {
            "gridcolor": "#EBF0F8",
            "linecolor": "#EBF0F8",
            "ticks": ""
           },
           "bgcolor": "white",
           "radialaxis": {
            "gridcolor": "#EBF0F8",
            "linecolor": "#EBF0F8",
            "ticks": ""
           }
          },
          "scene": {
           "xaxis": {
            "backgroundcolor": "white",
            "gridcolor": "#DFE8F3",
            "gridwidth": 2,
            "linecolor": "#EBF0F8",
            "showbackground": true,
            "ticks": "",
            "zerolinecolor": "#EBF0F8"
           },
           "yaxis": {
            "backgroundcolor": "white",
            "gridcolor": "#DFE8F3",
            "gridwidth": 2,
            "linecolor": "#EBF0F8",
            "showbackground": true,
            "ticks": "",
            "zerolinecolor": "#EBF0F8"
           },
           "zaxis": {
            "backgroundcolor": "white",
            "gridcolor": "#DFE8F3",
            "gridwidth": 2,
            "linecolor": "#EBF0F8",
            "showbackground": true,
            "ticks": "",
            "zerolinecolor": "#EBF0F8"
           }
          },
          "shapedefaults": {
           "line": {
            "color": "#2a3f5f"
           }
          },
          "ternary": {
           "aaxis": {
            "gridcolor": "#DFE8F3",
            "linecolor": "#A2B1C6",
            "ticks": ""
           },
           "baxis": {
            "gridcolor": "#DFE8F3",
            "linecolor": "#A2B1C6",
            "ticks": ""
           },
           "bgcolor": "white",
           "caxis": {
            "gridcolor": "#DFE8F3",
            "linecolor": "#A2B1C6",
            "ticks": ""
           }
          },
          "title": {
           "x": 0.05
          },
          "xaxis": {
           "automargin": true,
           "gridcolor": "#EBF0F8",
           "linecolor": "#EBF0F8",
           "ticks": "",
           "title": {
            "standoff": 15
           },
           "zerolinecolor": "#EBF0F8",
           "zerolinewidth": 2
          },
          "yaxis": {
           "automargin": true,
           "gridcolor": "#EBF0F8",
           "linecolor": "#EBF0F8",
           "ticks": "",
           "title": {
            "standoff": 15
           },
           "zerolinecolor": "#EBF0F8",
           "zerolinewidth": 2
          }
         }
        },
        "title": {
         "font": {
          "color": "Black",
          "size": 22
         },
         "text": "<b>Hierarchical Clustering</b>",
         "x": 0.5,
         "xanchor": "center",
         "yanchor": "top"
        },
        "width": 1000,
        "xaxis": {
         "mirror": "allticks",
         "rangemode": "tozero",
         "showgrid": false,
         "showline": true,
         "showticklabels": true,
         "ticks": "outside",
         "type": "linear",
         "zeroline": false
        },
        "yaxis": {
         "mirror": "allticks",
         "range": [
          -90,
          0
         ],
         "rangemode": "tozero",
         "showgrid": false,
         "showline": true,
         "showticklabels": true,
         "tickmode": "array",
         "ticks": "outside",
         "ticktext": [
          "7_downgrad_street_upgrad",
          "3_qcom_watch_premarket",
          "5_earn_bell_mnst",
          "8_swing_trade_long",
          "1_nvda_put_call",
          "0_nvda_move_long",
          "2_amd_nvidia_nvda",
          "6_game_pc_shield",
          "4_vs_ep_est"
         ],
         "tickvals": [
          -5,
          -15,
          -25,
          -35,
          -45,
          -55,
          -65,
          -75,
          -85
         ],
         "type": "linear",
         "zeroline": false
        }
       }
      }
     },
     "metadata": {},
     "output_type": "display_data"
    },
    {
     "data": {
      "application/vnd.plotly.v1+json": {
       "config": {
        "plotlyServerURL": "https://plot.ly"
       },
       "data": [
        {
         "marker": {
          "color": "#D55E00"
         },
         "orientation": "h",
         "type": "bar",
         "x": [
          0.02996351549071963,
          0.036080373968381776,
          0.039227581134511656,
          0.04030896703534943,
          0.13291016140813292
         ],
         "xaxis": "x",
         "y": [
          "go  ",
          "look  ",
          "long  ",
          "move  ",
          "nvda  "
         ],
         "yaxis": "y"
        },
        {
         "marker": {
          "color": "#0072B2"
         },
         "orientation": "h",
         "type": "bar",
         "x": [
          0.05527999990951665,
          0.05756554232340894,
          0.07062451704577315,
          0.07070406334974749,
          0.07879447110630199
         ],
         "xaxis": "x2",
         "y": [
          "trade  ",
          "stock  ",
          "call  ",
          "put  ",
          "nvda  "
         ],
         "yaxis": "y2"
        },
        {
         "marker": {
          "color": "#CC79A7"
         },
         "orientation": "h",
         "type": "bar",
         "x": [
          0.03346854610144508,
          0.050415009258859195,
          0.0612040346995198,
          0.09097703026556488,
          0.1511872737436389
         ],
         "xaxis": "x3",
         "y": [
          "card  ",
          "intc  ",
          "nvda  ",
          "nvidia  ",
          "amd  "
         ],
         "yaxis": "y3"
        },
        {
         "marker": {
          "color": "#E69F00"
         },
         "orientation": "h",
         "type": "bar",
         "x": [
          0.03428604526999401,
          0.036688021664887244,
          0.03687121632079307,
          0.052711230588762925,
          0.060942553862573405
         ],
         "xaxis": "x4",
         "y": [
          "intc  ",
          "nvda  ",
          "premarket  ",
          "watch  ",
          "qcom  "
         ],
         "yaxis": "y4"
        },
        {
         "marker": {
          "color": "#56B4E9"
         },
         "orientation": "h",
         "type": "bar",
         "x": [
          0.16922850400468928,
          0.23872637173371528,
          0.3943364533779805,
          0.39491161675414826,
          0.4296889354529085
         ],
         "xaxis": "x5",
         "y": [
          "revenu  ",
          "report  ",
          "est  ",
          "ep  ",
          "vs  "
         ],
         "yaxis": "y5"
        },
        {
         "marker": {
          "color": "#009E73"
         },
         "orientation": "h",
         "type": "bar",
         "x": [
          0.0852001587699582,
          0.09584552003414348,
          0.11172451475340674,
          0.16486644266182016,
          0.16533254507548995
         ],
         "xaxis": "x6",
         "y": [
          "ed  ",
          "cb  ",
          "mnst  ",
          "bell  ",
          "earn  "
         ],
         "yaxis": "y6"
        },
        {
         "marker": {
          "color": "#F0E442"
         },
         "orientation": "h",
         "type": "bar",
         "x": [
          0.060116677726955364,
          0.07947693674968496,
          0.09393537903100511,
          0.11135342943686595,
          0.2685500190498354
         ],
         "xaxis": "x7",
         "y": [
          "consol  ",
          "tablet  ",
          "shield  ",
          "pc  ",
          "game  "
         ],
         "yaxis": "y7"
        },
        {
         "marker": {
          "color": "#D55E00"
         },
         "orientation": "h",
         "type": "bar",
         "x": [
          0.06491835464567663,
          0.07409052720068185,
          0.1472753099072488,
          0.14989404521459357,
          0.1813276048671763
         ],
         "xaxis": "x8",
         "y": [
          "mea  ",
          "amp  ",
          "upgrad  ",
          "street  ",
          "downgrad  "
         ],
         "yaxis": "y8"
        },
        {
         "marker": {
          "color": "#0072B2"
         },
         "orientation": "h",
         "type": "bar",
         "x": [
          0.08967799922982858,
          0.09992942739976834,
          0.12185185830671978,
          0.1263092875425423,
          0.46707058032766285
         ],
         "xaxis": "x9",
         "y": [
          "ffiv  ",
          "swingingthenys  ",
          "long  ",
          "trade  ",
          "swing  "
         ],
         "yaxis": "y9"
        }
       ],
       "layout": {
        "annotations": [
         {
          "font": {
           "size": 16
          },
          "showarrow": false,
          "text": "Topic 0",
          "x": 0.0875,
          "xanchor": "center",
          "xref": "paper",
          "y": 1,
          "yanchor": "bottom",
          "yref": "paper"
         },
         {
          "font": {
           "size": 16
          },
          "showarrow": false,
          "text": "Topic 1",
          "x": 0.36250000000000004,
          "xanchor": "center",
          "xref": "paper",
          "y": 1,
          "yanchor": "bottom",
          "yref": "paper"
         },
         {
          "font": {
           "size": 16
          },
          "showarrow": false,
          "text": "Topic 2",
          "x": 0.6375000000000001,
          "xanchor": "center",
          "xref": "paper",
          "y": 1,
          "yanchor": "bottom",
          "yref": "paper"
         },
         {
          "font": {
           "size": 16
          },
          "showarrow": false,
          "text": "Topic 3",
          "x": 0.9125,
          "xanchor": "center",
          "xref": "paper",
          "y": 1,
          "yanchor": "bottom",
          "yref": "paper"
         },
         {
          "font": {
           "size": 16
          },
          "showarrow": false,
          "text": "Topic 4",
          "x": 0.0875,
          "xanchor": "center",
          "xref": "paper",
          "y": 0.6222222222222222,
          "yanchor": "bottom",
          "yref": "paper"
         },
         {
          "font": {
           "size": 16
          },
          "showarrow": false,
          "text": "Topic 5",
          "x": 0.36250000000000004,
          "xanchor": "center",
          "xref": "paper",
          "y": 0.6222222222222222,
          "yanchor": "bottom",
          "yref": "paper"
         },
         {
          "font": {
           "size": 16
          },
          "showarrow": false,
          "text": "Topic 6",
          "x": 0.6375000000000001,
          "xanchor": "center",
          "xref": "paper",
          "y": 0.6222222222222222,
          "yanchor": "bottom",
          "yref": "paper"
         },
         {
          "font": {
           "size": 16
          },
          "showarrow": false,
          "text": "Topic 7",
          "x": 0.9125,
          "xanchor": "center",
          "xref": "paper",
          "y": 0.6222222222222222,
          "yanchor": "bottom",
          "yref": "paper"
         },
         {
          "font": {
           "size": 16
          },
          "showarrow": false,
          "text": "Topic 8",
          "x": 0.0875,
          "xanchor": "center",
          "xref": "paper",
          "y": 0.24444444444444446,
          "yanchor": "bottom",
          "yref": "paper"
         }
        ],
        "height": 750,
        "hoverlabel": {
         "bgcolor": "white",
         "font": {
          "family": "Rockwell",
          "size": 16
         }
        },
        "showlegend": false,
        "template": {
         "data": {
          "bar": [
           {
            "error_x": {
             "color": "#2a3f5f"
            },
            "error_y": {
             "color": "#2a3f5f"
            },
            "marker": {
             "line": {
              "color": "white",
              "width": 0.5
             },
             "pattern": {
              "fillmode": "overlay",
              "size": 10,
              "solidity": 0.2
             }
            },
            "type": "bar"
           }
          ],
          "barpolar": [
           {
            "marker": {
             "line": {
              "color": "white",
              "width": 0.5
             },
             "pattern": {
              "fillmode": "overlay",
              "size": 10,
              "solidity": 0.2
             }
            },
            "type": "barpolar"
           }
          ],
          "carpet": [
           {
            "aaxis": {
             "endlinecolor": "#2a3f5f",
             "gridcolor": "#C8D4E3",
             "linecolor": "#C8D4E3",
             "minorgridcolor": "#C8D4E3",
             "startlinecolor": "#2a3f5f"
            },
            "baxis": {
             "endlinecolor": "#2a3f5f",
             "gridcolor": "#C8D4E3",
             "linecolor": "#C8D4E3",
             "minorgridcolor": "#C8D4E3",
             "startlinecolor": "#2a3f5f"
            },
            "type": "carpet"
           }
          ],
          "choropleth": [
           {
            "colorbar": {
             "outlinewidth": 0,
             "ticks": ""
            },
            "type": "choropleth"
           }
          ],
          "contour": [
           {
            "colorbar": {
             "outlinewidth": 0,
             "ticks": ""
            },
            "colorscale": [
             [
              0,
              "#0d0887"
             ],
             [
              0.1111111111111111,
              "#46039f"
             ],
             [
              0.2222222222222222,
              "#7201a8"
             ],
             [
              0.3333333333333333,
              "#9c179e"
             ],
             [
              0.4444444444444444,
              "#bd3786"
             ],
             [
              0.5555555555555556,
              "#d8576b"
             ],
             [
              0.6666666666666666,
              "#ed7953"
             ],
             [
              0.7777777777777778,
              "#fb9f3a"
             ],
             [
              0.8888888888888888,
              "#fdca26"
             ],
             [
              1,
              "#f0f921"
             ]
            ],
            "type": "contour"
           }
          ],
          "contourcarpet": [
           {
            "colorbar": {
             "outlinewidth": 0,
             "ticks": ""
            },
            "type": "contourcarpet"
           }
          ],
          "heatmap": [
           {
            "colorbar": {
             "outlinewidth": 0,
             "ticks": ""
            },
            "colorscale": [
             [
              0,
              "#0d0887"
             ],
             [
              0.1111111111111111,
              "#46039f"
             ],
             [
              0.2222222222222222,
              "#7201a8"
             ],
             [
              0.3333333333333333,
              "#9c179e"
             ],
             [
              0.4444444444444444,
              "#bd3786"
             ],
             [
              0.5555555555555556,
              "#d8576b"
             ],
             [
              0.6666666666666666,
              "#ed7953"
             ],
             [
              0.7777777777777778,
              "#fb9f3a"
             ],
             [
              0.8888888888888888,
              "#fdca26"
             ],
             [
              1,
              "#f0f921"
             ]
            ],
            "type": "heatmap"
           }
          ],
          "heatmapgl": [
           {
            "colorbar": {
             "outlinewidth": 0,
             "ticks": ""
            },
            "colorscale": [
             [
              0,
              "#0d0887"
             ],
             [
              0.1111111111111111,
              "#46039f"
             ],
             [
              0.2222222222222222,
              "#7201a8"
             ],
             [
              0.3333333333333333,
              "#9c179e"
             ],
             [
              0.4444444444444444,
              "#bd3786"
             ],
             [
              0.5555555555555556,
              "#d8576b"
             ],
             [
              0.6666666666666666,
              "#ed7953"
             ],
             [
              0.7777777777777778,
              "#fb9f3a"
             ],
             [
              0.8888888888888888,
              "#fdca26"
             ],
             [
              1,
              "#f0f921"
             ]
            ],
            "type": "heatmapgl"
           }
          ],
          "histogram": [
           {
            "marker": {
             "pattern": {
              "fillmode": "overlay",
              "size": 10,
              "solidity": 0.2
             }
            },
            "type": "histogram"
           }
          ],
          "histogram2d": [
           {
            "colorbar": {
             "outlinewidth": 0,
             "ticks": ""
            },
            "colorscale": [
             [
              0,
              "#0d0887"
             ],
             [
              0.1111111111111111,
              "#46039f"
             ],
             [
              0.2222222222222222,
              "#7201a8"
             ],
             [
              0.3333333333333333,
              "#9c179e"
             ],
             [
              0.4444444444444444,
              "#bd3786"
             ],
             [
              0.5555555555555556,
              "#d8576b"
             ],
             [
              0.6666666666666666,
              "#ed7953"
             ],
             [
              0.7777777777777778,
              "#fb9f3a"
             ],
             [
              0.8888888888888888,
              "#fdca26"
             ],
             [
              1,
              "#f0f921"
             ]
            ],
            "type": "histogram2d"
           }
          ],
          "histogram2dcontour": [
           {
            "colorbar": {
             "outlinewidth": 0,
             "ticks": ""
            },
            "colorscale": [
             [
              0,
              "#0d0887"
             ],
             [
              0.1111111111111111,
              "#46039f"
             ],
             [
              0.2222222222222222,
              "#7201a8"
             ],
             [
              0.3333333333333333,
              "#9c179e"
             ],
             [
              0.4444444444444444,
              "#bd3786"
             ],
             [
              0.5555555555555556,
              "#d8576b"
             ],
             [
              0.6666666666666666,
              "#ed7953"
             ],
             [
              0.7777777777777778,
              "#fb9f3a"
             ],
             [
              0.8888888888888888,
              "#fdca26"
             ],
             [
              1,
              "#f0f921"
             ]
            ],
            "type": "histogram2dcontour"
           }
          ],
          "mesh3d": [
           {
            "colorbar": {
             "outlinewidth": 0,
             "ticks": ""
            },
            "type": "mesh3d"
           }
          ],
          "parcoords": [
           {
            "line": {
             "colorbar": {
              "outlinewidth": 0,
              "ticks": ""
             }
            },
            "type": "parcoords"
           }
          ],
          "pie": [
           {
            "automargin": true,
            "type": "pie"
           }
          ],
          "scatter": [
           {
            "fillpattern": {
             "fillmode": "overlay",
             "size": 10,
             "solidity": 0.2
            },
            "type": "scatter"
           }
          ],
          "scatter3d": [
           {
            "line": {
             "colorbar": {
              "outlinewidth": 0,
              "ticks": ""
             }
            },
            "marker": {
             "colorbar": {
              "outlinewidth": 0,
              "ticks": ""
             }
            },
            "type": "scatter3d"
           }
          ],
          "scattercarpet": [
           {
            "marker": {
             "colorbar": {
              "outlinewidth": 0,
              "ticks": ""
             }
            },
            "type": "scattercarpet"
           }
          ],
          "scattergeo": [
           {
            "marker": {
             "colorbar": {
              "outlinewidth": 0,
              "ticks": ""
             }
            },
            "type": "scattergeo"
           }
          ],
          "scattergl": [
           {
            "marker": {
             "colorbar": {
              "outlinewidth": 0,
              "ticks": ""
             }
            },
            "type": "scattergl"
           }
          ],
          "scattermapbox": [
           {
            "marker": {
             "colorbar": {
              "outlinewidth": 0,
              "ticks": ""
             }
            },
            "type": "scattermapbox"
           }
          ],
          "scatterpolar": [
           {
            "marker": {
             "colorbar": {
              "outlinewidth": 0,
              "ticks": ""
             }
            },
            "type": "scatterpolar"
           }
          ],
          "scatterpolargl": [
           {
            "marker": {
             "colorbar": {
              "outlinewidth": 0,
              "ticks": ""
             }
            },
            "type": "scatterpolargl"
           }
          ],
          "scatterternary": [
           {
            "marker": {
             "colorbar": {
              "outlinewidth": 0,
              "ticks": ""
             }
            },
            "type": "scatterternary"
           }
          ],
          "surface": [
           {
            "colorbar": {
             "outlinewidth": 0,
             "ticks": ""
            },
            "colorscale": [
             [
              0,
              "#0d0887"
             ],
             [
              0.1111111111111111,
              "#46039f"
             ],
             [
              0.2222222222222222,
              "#7201a8"
             ],
             [
              0.3333333333333333,
              "#9c179e"
             ],
             [
              0.4444444444444444,
              "#bd3786"
             ],
             [
              0.5555555555555556,
              "#d8576b"
             ],
             [
              0.6666666666666666,
              "#ed7953"
             ],
             [
              0.7777777777777778,
              "#fb9f3a"
             ],
             [
              0.8888888888888888,
              "#fdca26"
             ],
             [
              1,
              "#f0f921"
             ]
            ],
            "type": "surface"
           }
          ],
          "table": [
           {
            "cells": {
             "fill": {
              "color": "#EBF0F8"
             },
             "line": {
              "color": "white"
             }
            },
            "header": {
             "fill": {
              "color": "#C8D4E3"
             },
             "line": {
              "color": "white"
             }
            },
            "type": "table"
           }
          ]
         },
         "layout": {
          "annotationdefaults": {
           "arrowcolor": "#2a3f5f",
           "arrowhead": 0,
           "arrowwidth": 1
          },
          "autotypenumbers": "strict",
          "coloraxis": {
           "colorbar": {
            "outlinewidth": 0,
            "ticks": ""
           }
          },
          "colorscale": {
           "diverging": [
            [
             0,
             "#8e0152"
            ],
            [
             0.1,
             "#c51b7d"
            ],
            [
             0.2,
             "#de77ae"
            ],
            [
             0.3,
             "#f1b6da"
            ],
            [
             0.4,
             "#fde0ef"
            ],
            [
             0.5,
             "#f7f7f7"
            ],
            [
             0.6,
             "#e6f5d0"
            ],
            [
             0.7,
             "#b8e186"
            ],
            [
             0.8,
             "#7fbc41"
            ],
            [
             0.9,
             "#4d9221"
            ],
            [
             1,
             "#276419"
            ]
           ],
           "sequential": [
            [
             0,
             "#0d0887"
            ],
            [
             0.1111111111111111,
             "#46039f"
            ],
            [
             0.2222222222222222,
             "#7201a8"
            ],
            [
             0.3333333333333333,
             "#9c179e"
            ],
            [
             0.4444444444444444,
             "#bd3786"
            ],
            [
             0.5555555555555556,
             "#d8576b"
            ],
            [
             0.6666666666666666,
             "#ed7953"
            ],
            [
             0.7777777777777778,
             "#fb9f3a"
            ],
            [
             0.8888888888888888,
             "#fdca26"
            ],
            [
             1,
             "#f0f921"
            ]
           ],
           "sequentialminus": [
            [
             0,
             "#0d0887"
            ],
            [
             0.1111111111111111,
             "#46039f"
            ],
            [
             0.2222222222222222,
             "#7201a8"
            ],
            [
             0.3333333333333333,
             "#9c179e"
            ],
            [
             0.4444444444444444,
             "#bd3786"
            ],
            [
             0.5555555555555556,
             "#d8576b"
            ],
            [
             0.6666666666666666,
             "#ed7953"
            ],
            [
             0.7777777777777778,
             "#fb9f3a"
            ],
            [
             0.8888888888888888,
             "#fdca26"
            ],
            [
             1,
             "#f0f921"
            ]
           ]
          },
          "colorway": [
           "#636efa",
           "#EF553B",
           "#00cc96",
           "#ab63fa",
           "#FFA15A",
           "#19d3f3",
           "#FF6692",
           "#B6E880",
           "#FF97FF",
           "#FECB52"
          ],
          "font": {
           "color": "#2a3f5f"
          },
          "geo": {
           "bgcolor": "white",
           "lakecolor": "white",
           "landcolor": "white",
           "showlakes": true,
           "showland": true,
           "subunitcolor": "#C8D4E3"
          },
          "hoverlabel": {
           "align": "left"
          },
          "hovermode": "closest",
          "mapbox": {
           "style": "light"
          },
          "paper_bgcolor": "white",
          "plot_bgcolor": "white",
          "polar": {
           "angularaxis": {
            "gridcolor": "#EBF0F8",
            "linecolor": "#EBF0F8",
            "ticks": ""
           },
           "bgcolor": "white",
           "radialaxis": {
            "gridcolor": "#EBF0F8",
            "linecolor": "#EBF0F8",
            "ticks": ""
           }
          },
          "scene": {
           "xaxis": {
            "backgroundcolor": "white",
            "gridcolor": "#DFE8F3",
            "gridwidth": 2,
            "linecolor": "#EBF0F8",
            "showbackground": true,
            "ticks": "",
            "zerolinecolor": "#EBF0F8"
           },
           "yaxis": {
            "backgroundcolor": "white",
            "gridcolor": "#DFE8F3",
            "gridwidth": 2,
            "linecolor": "#EBF0F8",
            "showbackground": true,
            "ticks": "",
            "zerolinecolor": "#EBF0F8"
           },
           "zaxis": {
            "backgroundcolor": "white",
            "gridcolor": "#DFE8F3",
            "gridwidth": 2,
            "linecolor": "#EBF0F8",
            "showbackground": true,
            "ticks": "",
            "zerolinecolor": "#EBF0F8"
           }
          },
          "shapedefaults": {
           "line": {
            "color": "#2a3f5f"
           }
          },
          "ternary": {
           "aaxis": {
            "gridcolor": "#DFE8F3",
            "linecolor": "#A2B1C6",
            "ticks": ""
           },
           "baxis": {
            "gridcolor": "#DFE8F3",
            "linecolor": "#A2B1C6",
            "ticks": ""
           },
           "bgcolor": "white",
           "caxis": {
            "gridcolor": "#DFE8F3",
            "linecolor": "#A2B1C6",
            "ticks": ""
           }
          },
          "title": {
           "x": 0.05
          },
          "xaxis": {
           "automargin": true,
           "gridcolor": "#EBF0F8",
           "linecolor": "#EBF0F8",
           "ticks": "",
           "title": {
            "standoff": 15
           },
           "zerolinecolor": "#EBF0F8",
           "zerolinewidth": 2
          },
          "yaxis": {
           "automargin": true,
           "gridcolor": "#EBF0F8",
           "linecolor": "#EBF0F8",
           "ticks": "",
           "title": {
            "standoff": 15
           },
           "zerolinecolor": "#EBF0F8",
           "zerolinewidth": 2
          }
         }
        },
        "title": {
         "font": {
          "color": "Black",
          "size": 22
         },
         "text": "Topic Word Scores",
         "x": 0.5,
         "xanchor": "center",
         "yanchor": "top"
        },
        "width": 1000,
        "xaxis": {
         "anchor": "y",
         "domain": [
          0,
          0.175
         ],
         "showgrid": true
        },
        "xaxis10": {
         "anchor": "y10",
         "domain": [
          0.275,
          0.45
         ],
         "showgrid": true
        },
        "xaxis11": {
         "anchor": "y11",
         "domain": [
          0.55,
          0.7250000000000001
         ],
         "showgrid": true
        },
        "xaxis12": {
         "anchor": "y12",
         "domain": [
          0.825,
          1
         ],
         "showgrid": true
        },
        "xaxis2": {
         "anchor": "y2",
         "domain": [
          0.275,
          0.45
         ],
         "showgrid": true
        },
        "xaxis3": {
         "anchor": "y3",
         "domain": [
          0.55,
          0.7250000000000001
         ],
         "showgrid": true
        },
        "xaxis4": {
         "anchor": "y4",
         "domain": [
          0.825,
          1
         ],
         "showgrid": true
        },
        "xaxis5": {
         "anchor": "y5",
         "domain": [
          0,
          0.175
         ],
         "showgrid": true
        },
        "xaxis6": {
         "anchor": "y6",
         "domain": [
          0.275,
          0.45
         ],
         "showgrid": true
        },
        "xaxis7": {
         "anchor": "y7",
         "domain": [
          0.55,
          0.7250000000000001
         ],
         "showgrid": true
        },
        "xaxis8": {
         "anchor": "y8",
         "domain": [
          0.825,
          1
         ],
         "showgrid": true
        },
        "xaxis9": {
         "anchor": "y9",
         "domain": [
          0,
          0.175
         ],
         "showgrid": true
        },
        "yaxis": {
         "anchor": "x",
         "domain": [
          0.7555555555555555,
          1
         ],
         "showgrid": true
        },
        "yaxis10": {
         "anchor": "x10",
         "domain": [
          0,
          0.24444444444444446
         ],
         "showgrid": true
        },
        "yaxis11": {
         "anchor": "x11",
         "domain": [
          0,
          0.24444444444444446
         ],
         "showgrid": true
        },
        "yaxis12": {
         "anchor": "x12",
         "domain": [
          0,
          0.24444444444444446
         ],
         "showgrid": true
        },
        "yaxis2": {
         "anchor": "x2",
         "domain": [
          0.7555555555555555,
          1
         ],
         "showgrid": true
        },
        "yaxis3": {
         "anchor": "x3",
         "domain": [
          0.7555555555555555,
          1
         ],
         "showgrid": true
        },
        "yaxis4": {
         "anchor": "x4",
         "domain": [
          0.7555555555555555,
          1
         ],
         "showgrid": true
        },
        "yaxis5": {
         "anchor": "x5",
         "domain": [
          0.37777777777777777,
          0.6222222222222222
         ],
         "showgrid": true
        },
        "yaxis6": {
         "anchor": "x6",
         "domain": [
          0.37777777777777777,
          0.6222222222222222
         ],
         "showgrid": true
        },
        "yaxis7": {
         "anchor": "x7",
         "domain": [
          0.37777777777777777,
          0.6222222222222222
         ],
         "showgrid": true
        },
        "yaxis8": {
         "anchor": "x8",
         "domain": [
          0.37777777777777777,
          0.6222222222222222
         ],
         "showgrid": true
        },
        "yaxis9": {
         "anchor": "x9",
         "domain": [
          0,
          0.24444444444444446
         ],
         "showgrid": true
        }
       }
      }
     },
     "metadata": {},
     "output_type": "display_data"
    },
    {
     "data": {
      "application/vnd.plotly.v1+json": {
       "config": {
        "plotlyServerURL": "https://plot.ly"
       },
       "data": [
        {
         "customdata": [
          [
           0,
           "nvda | move | long | look | go",
           693
          ],
          [
           1,
           "nvda | put | call | stock | trade",
           201
          ],
          [
           2,
           "amd | nvidia | nvda | intc | card",
           165
          ],
          [
           3,
           "qcom | watch | premarket | nvda | intc",
           93
          ],
          [
           4,
           "vs | ep | est | report | revenu",
           26
          ],
          [
           5,
           "earn | bell | mnst | cb | ed",
           23
          ],
          [
           6,
           "game | pc | shield | tablet | consol",
           22
          ],
          [
           7,
           "downgrad | street | upgrad | amp | mea",
           19
          ],
          [
           8,
           "swing | trade | long | swingingthenys | ffiv",
           16
          ]
         ],
         "hovertemplate": "<b>Topic %{customdata[0]}</b><br>%{customdata[1]}<br>Size: %{customdata[2]}",
         "legendgroup": "",
         "marker": {
          "color": "#B0BEC5",
          "line": {
           "color": "DarkSlateGrey",
           "width": 2
          },
          "size": [
           693,
           201,
           165,
           93,
           26,
           23,
           22,
           19,
           16
          ],
          "sizemode": "area",
          "sizeref": 0.433125,
          "symbol": "circle"
         },
         "mode": "markers",
         "name": "",
         "orientation": "v",
         "showlegend": false,
         "type": "scatter",
         "x": [
          -2.7446539402008057,
          -2.9811019897460938,
          -3.3479909896850586,
          -5.8046088218688965,
          -3.12884259223938,
          -4.213219165802002,
          -5.367193698883057,
          -5.345839023590088,
          -2.286761999130249
         ],
         "xaxis": "x",
         "y": [
          -2.533168077468872,
          -1.7563269138336182,
          -1.0472511053085327,
          1.6975136995315552,
          -2.9998161792755127,
          1.3434051275253296,
          2.1238303184509277,
          1.408713936805725,
          -2.882115125656128
         ],
         "yaxis": "y"
        }
       ],
       "layout": {
        "annotations": [
         {
          "showarrow": false,
          "text": "D1",
          "x": -6.675300145149231,
          "y": -0.5036918699741364,
          "yshift": 10
         },
         {
          "showarrow": false,
          "text": "D2",
          "x": -4.3095239222049715,
          "xshift": 10,
          "y": 2.442404866218567
         }
        ],
        "height": 650,
        "hoverlabel": {
         "bgcolor": "white",
         "font": {
          "family": "Rockwell",
          "size": 16
         }
        },
        "legend": {
         "itemsizing": "constant",
         "tracegroupgap": 0
        },
        "margin": {
         "t": 60
        },
        "shapes": [
         {
          "line": {
           "color": "#CFD8DC",
           "width": 2
          },
          "type": "line",
          "x0": -4.3095239222049715,
          "x1": -4.3095239222049715,
          "y0": -3.4497886061668397,
          "y1": 2.442404866218567
         },
         {
          "line": {
           "color": "#9E9E9E",
           "width": 2
          },
          "type": "line",
          "x0": -6.675300145149231,
          "x1": -1.9437476992607117,
          "y0": -0.5036918699741364,
          "y1": -0.5036918699741364
         }
        ],
        "sliders": [
         {
          "active": 0,
          "pad": {
           "t": 50
          },
          "steps": [
           {
            "args": [
             {
              "marker.color": [
               [
                "red",
                "#B0BEC5",
                "#B0BEC5",
                "#B0BEC5",
                "#B0BEC5",
                "#B0BEC5",
                "#B0BEC5",
                "#B0BEC5",
                "#B0BEC5"
               ]
              ]
             }
            ],
            "label": "Topic 0",
            "method": "update"
           },
           {
            "args": [
             {
              "marker.color": [
               [
                "#B0BEC5",
                "red",
                "#B0BEC5",
                "#B0BEC5",
                "#B0BEC5",
                "#B0BEC5",
                "#B0BEC5",
                "#B0BEC5",
                "#B0BEC5"
               ]
              ]
             }
            ],
            "label": "Topic 1",
            "method": "update"
           },
           {
            "args": [
             {
              "marker.color": [
               [
                "#B0BEC5",
                "#B0BEC5",
                "red",
                "#B0BEC5",
                "#B0BEC5",
                "#B0BEC5",
                "#B0BEC5",
                "#B0BEC5",
                "#B0BEC5"
               ]
              ]
             }
            ],
            "label": "Topic 2",
            "method": "update"
           },
           {
            "args": [
             {
              "marker.color": [
               [
                "#B0BEC5",
                "#B0BEC5",
                "#B0BEC5",
                "red",
                "#B0BEC5",
                "#B0BEC5",
                "#B0BEC5",
                "#B0BEC5",
                "#B0BEC5"
               ]
              ]
             }
            ],
            "label": "Topic 3",
            "method": "update"
           },
           {
            "args": [
             {
              "marker.color": [
               [
                "#B0BEC5",
                "#B0BEC5",
                "#B0BEC5",
                "#B0BEC5",
                "red",
                "#B0BEC5",
                "#B0BEC5",
                "#B0BEC5",
                "#B0BEC5"
               ]
              ]
             }
            ],
            "label": "Topic 4",
            "method": "update"
           },
           {
            "args": [
             {
              "marker.color": [
               [
                "#B0BEC5",
                "#B0BEC5",
                "#B0BEC5",
                "#B0BEC5",
                "#B0BEC5",
                "red",
                "#B0BEC5",
                "#B0BEC5",
                "#B0BEC5"
               ]
              ]
             }
            ],
            "label": "Topic 5",
            "method": "update"
           },
           {
            "args": [
             {
              "marker.color": [
               [
                "#B0BEC5",
                "#B0BEC5",
                "#B0BEC5",
                "#B0BEC5",
                "#B0BEC5",
                "#B0BEC5",
                "red",
                "#B0BEC5",
                "#B0BEC5"
               ]
              ]
             }
            ],
            "label": "Topic 6",
            "method": "update"
           },
           {
            "args": [
             {
              "marker.color": [
               [
                "#B0BEC5",
                "#B0BEC5",
                "#B0BEC5",
                "#B0BEC5",
                "#B0BEC5",
                "#B0BEC5",
                "#B0BEC5",
                "red",
                "#B0BEC5"
               ]
              ]
             }
            ],
            "label": "Topic 7",
            "method": "update"
           },
           {
            "args": [
             {
              "marker.color": [
               [
                "#B0BEC5",
                "#B0BEC5",
                "#B0BEC5",
                "#B0BEC5",
                "#B0BEC5",
                "#B0BEC5",
                "#B0BEC5",
                "#B0BEC5",
                "red"
               ]
              ]
             }
            ],
            "label": "Topic 8",
            "method": "update"
           }
          ]
         }
        ],
        "template": {
         "data": {
          "bar": [
           {
            "error_x": {
             "color": "rgb(36,36,36)"
            },
            "error_y": {
             "color": "rgb(36,36,36)"
            },
            "marker": {
             "line": {
              "color": "white",
              "width": 0.5
             },
             "pattern": {
              "fillmode": "overlay",
              "size": 10,
              "solidity": 0.2
             }
            },
            "type": "bar"
           }
          ],
          "barpolar": [
           {
            "marker": {
             "line": {
              "color": "white",
              "width": 0.5
             },
             "pattern": {
              "fillmode": "overlay",
              "size": 10,
              "solidity": 0.2
             }
            },
            "type": "barpolar"
           }
          ],
          "carpet": [
           {
            "aaxis": {
             "endlinecolor": "rgb(36,36,36)",
             "gridcolor": "white",
             "linecolor": "white",
             "minorgridcolor": "white",
             "startlinecolor": "rgb(36,36,36)"
            },
            "baxis": {
             "endlinecolor": "rgb(36,36,36)",
             "gridcolor": "white",
             "linecolor": "white",
             "minorgridcolor": "white",
             "startlinecolor": "rgb(36,36,36)"
            },
            "type": "carpet"
           }
          ],
          "choropleth": [
           {
            "colorbar": {
             "outlinewidth": 1,
             "tickcolor": "rgb(36,36,36)",
             "ticks": "outside"
            },
            "type": "choropleth"
           }
          ],
          "contour": [
           {
            "colorbar": {
             "outlinewidth": 1,
             "tickcolor": "rgb(36,36,36)",
             "ticks": "outside"
            },
            "colorscale": [
             [
              0,
              "#440154"
             ],
             [
              0.1111111111111111,
              "#482878"
             ],
             [
              0.2222222222222222,
              "#3e4989"
             ],
             [
              0.3333333333333333,
              "#31688e"
             ],
             [
              0.4444444444444444,
              "#26828e"
             ],
             [
              0.5555555555555556,
              "#1f9e89"
             ],
             [
              0.6666666666666666,
              "#35b779"
             ],
             [
              0.7777777777777778,
              "#6ece58"
             ],
             [
              0.8888888888888888,
              "#b5de2b"
             ],
             [
              1,
              "#fde725"
             ]
            ],
            "type": "contour"
           }
          ],
          "contourcarpet": [
           {
            "colorbar": {
             "outlinewidth": 1,
             "tickcolor": "rgb(36,36,36)",
             "ticks": "outside"
            },
            "type": "contourcarpet"
           }
          ],
          "heatmap": [
           {
            "colorbar": {
             "outlinewidth": 1,
             "tickcolor": "rgb(36,36,36)",
             "ticks": "outside"
            },
            "colorscale": [
             [
              0,
              "#440154"
             ],
             [
              0.1111111111111111,
              "#482878"
             ],
             [
              0.2222222222222222,
              "#3e4989"
             ],
             [
              0.3333333333333333,
              "#31688e"
             ],
             [
              0.4444444444444444,
              "#26828e"
             ],
             [
              0.5555555555555556,
              "#1f9e89"
             ],
             [
              0.6666666666666666,
              "#35b779"
             ],
             [
              0.7777777777777778,
              "#6ece58"
             ],
             [
              0.8888888888888888,
              "#b5de2b"
             ],
             [
              1,
              "#fde725"
             ]
            ],
            "type": "heatmap"
           }
          ],
          "heatmapgl": [
           {
            "colorbar": {
             "outlinewidth": 1,
             "tickcolor": "rgb(36,36,36)",
             "ticks": "outside"
            },
            "colorscale": [
             [
              0,
              "#440154"
             ],
             [
              0.1111111111111111,
              "#482878"
             ],
             [
              0.2222222222222222,
              "#3e4989"
             ],
             [
              0.3333333333333333,
              "#31688e"
             ],
             [
              0.4444444444444444,
              "#26828e"
             ],
             [
              0.5555555555555556,
              "#1f9e89"
             ],
             [
              0.6666666666666666,
              "#35b779"
             ],
             [
              0.7777777777777778,
              "#6ece58"
             ],
             [
              0.8888888888888888,
              "#b5de2b"
             ],
             [
              1,
              "#fde725"
             ]
            ],
            "type": "heatmapgl"
           }
          ],
          "histogram": [
           {
            "marker": {
             "line": {
              "color": "white",
              "width": 0.6
             }
            },
            "type": "histogram"
           }
          ],
          "histogram2d": [
           {
            "colorbar": {
             "outlinewidth": 1,
             "tickcolor": "rgb(36,36,36)",
             "ticks": "outside"
            },
            "colorscale": [
             [
              0,
              "#440154"
             ],
             [
              0.1111111111111111,
              "#482878"
             ],
             [
              0.2222222222222222,
              "#3e4989"
             ],
             [
              0.3333333333333333,
              "#31688e"
             ],
             [
              0.4444444444444444,
              "#26828e"
             ],
             [
              0.5555555555555556,
              "#1f9e89"
             ],
             [
              0.6666666666666666,
              "#35b779"
             ],
             [
              0.7777777777777778,
              "#6ece58"
             ],
             [
              0.8888888888888888,
              "#b5de2b"
             ],
             [
              1,
              "#fde725"
             ]
            ],
            "type": "histogram2d"
           }
          ],
          "histogram2dcontour": [
           {
            "colorbar": {
             "outlinewidth": 1,
             "tickcolor": "rgb(36,36,36)",
             "ticks": "outside"
            },
            "colorscale": [
             [
              0,
              "#440154"
             ],
             [
              0.1111111111111111,
              "#482878"
             ],
             [
              0.2222222222222222,
              "#3e4989"
             ],
             [
              0.3333333333333333,
              "#31688e"
             ],
             [
              0.4444444444444444,
              "#26828e"
             ],
             [
              0.5555555555555556,
              "#1f9e89"
             ],
             [
              0.6666666666666666,
              "#35b779"
             ],
             [
              0.7777777777777778,
              "#6ece58"
             ],
             [
              0.8888888888888888,
              "#b5de2b"
             ],
             [
              1,
              "#fde725"
             ]
            ],
            "type": "histogram2dcontour"
           }
          ],
          "mesh3d": [
           {
            "colorbar": {
             "outlinewidth": 1,
             "tickcolor": "rgb(36,36,36)",
             "ticks": "outside"
            },
            "type": "mesh3d"
           }
          ],
          "parcoords": [
           {
            "line": {
             "colorbar": {
              "outlinewidth": 1,
              "tickcolor": "rgb(36,36,36)",
              "ticks": "outside"
             }
            },
            "type": "parcoords"
           }
          ],
          "pie": [
           {
            "automargin": true,
            "type": "pie"
           }
          ],
          "scatter": [
           {
            "fillpattern": {
             "fillmode": "overlay",
             "size": 10,
             "solidity": 0.2
            },
            "type": "scatter"
           }
          ],
          "scatter3d": [
           {
            "line": {
             "colorbar": {
              "outlinewidth": 1,
              "tickcolor": "rgb(36,36,36)",
              "ticks": "outside"
             }
            },
            "marker": {
             "colorbar": {
              "outlinewidth": 1,
              "tickcolor": "rgb(36,36,36)",
              "ticks": "outside"
             }
            },
            "type": "scatter3d"
           }
          ],
          "scattercarpet": [
           {
            "marker": {
             "colorbar": {
              "outlinewidth": 1,
              "tickcolor": "rgb(36,36,36)",
              "ticks": "outside"
             }
            },
            "type": "scattercarpet"
           }
          ],
          "scattergeo": [
           {
            "marker": {
             "colorbar": {
              "outlinewidth": 1,
              "tickcolor": "rgb(36,36,36)",
              "ticks": "outside"
             }
            },
            "type": "scattergeo"
           }
          ],
          "scattergl": [
           {
            "marker": {
             "colorbar": {
              "outlinewidth": 1,
              "tickcolor": "rgb(36,36,36)",
              "ticks": "outside"
             }
            },
            "type": "scattergl"
           }
          ],
          "scattermapbox": [
           {
            "marker": {
             "colorbar": {
              "outlinewidth": 1,
              "tickcolor": "rgb(36,36,36)",
              "ticks": "outside"
             }
            },
            "type": "scattermapbox"
           }
          ],
          "scatterpolar": [
           {
            "marker": {
             "colorbar": {
              "outlinewidth": 1,
              "tickcolor": "rgb(36,36,36)",
              "ticks": "outside"
             }
            },
            "type": "scatterpolar"
           }
          ],
          "scatterpolargl": [
           {
            "marker": {
             "colorbar": {
              "outlinewidth": 1,
              "tickcolor": "rgb(36,36,36)",
              "ticks": "outside"
             }
            },
            "type": "scatterpolargl"
           }
          ],
          "scatterternary": [
           {
            "marker": {
             "colorbar": {
              "outlinewidth": 1,
              "tickcolor": "rgb(36,36,36)",
              "ticks": "outside"
             }
            },
            "type": "scatterternary"
           }
          ],
          "surface": [
           {
            "colorbar": {
             "outlinewidth": 1,
             "tickcolor": "rgb(36,36,36)",
             "ticks": "outside"
            },
            "colorscale": [
             [
              0,
              "#440154"
             ],
             [
              0.1111111111111111,
              "#482878"
             ],
             [
              0.2222222222222222,
              "#3e4989"
             ],
             [
              0.3333333333333333,
              "#31688e"
             ],
             [
              0.4444444444444444,
              "#26828e"
             ],
             [
              0.5555555555555556,
              "#1f9e89"
             ],
             [
              0.6666666666666666,
              "#35b779"
             ],
             [
              0.7777777777777778,
              "#6ece58"
             ],
             [
              0.8888888888888888,
              "#b5de2b"
             ],
             [
              1,
              "#fde725"
             ]
            ],
            "type": "surface"
           }
          ],
          "table": [
           {
            "cells": {
             "fill": {
              "color": "rgb(237,237,237)"
             },
             "line": {
              "color": "white"
             }
            },
            "header": {
             "fill": {
              "color": "rgb(217,217,217)"
             },
             "line": {
              "color": "white"
             }
            },
            "type": "table"
           }
          ]
         },
         "layout": {
          "annotationdefaults": {
           "arrowhead": 0,
           "arrowwidth": 1
          },
          "autotypenumbers": "strict",
          "coloraxis": {
           "colorbar": {
            "outlinewidth": 1,
            "tickcolor": "rgb(36,36,36)",
            "ticks": "outside"
           }
          },
          "colorscale": {
           "diverging": [
            [
             0,
             "rgb(103,0,31)"
            ],
            [
             0.1,
             "rgb(178,24,43)"
            ],
            [
             0.2,
             "rgb(214,96,77)"
            ],
            [
             0.3,
             "rgb(244,165,130)"
            ],
            [
             0.4,
             "rgb(253,219,199)"
            ],
            [
             0.5,
             "rgb(247,247,247)"
            ],
            [
             0.6,
             "rgb(209,229,240)"
            ],
            [
             0.7,
             "rgb(146,197,222)"
            ],
            [
             0.8,
             "rgb(67,147,195)"
            ],
            [
             0.9,
             "rgb(33,102,172)"
            ],
            [
             1,
             "rgb(5,48,97)"
            ]
           ],
           "sequential": [
            [
             0,
             "#440154"
            ],
            [
             0.1111111111111111,
             "#482878"
            ],
            [
             0.2222222222222222,
             "#3e4989"
            ],
            [
             0.3333333333333333,
             "#31688e"
            ],
            [
             0.4444444444444444,
             "#26828e"
            ],
            [
             0.5555555555555556,
             "#1f9e89"
            ],
            [
             0.6666666666666666,
             "#35b779"
            ],
            [
             0.7777777777777778,
             "#6ece58"
            ],
            [
             0.8888888888888888,
             "#b5de2b"
            ],
            [
             1,
             "#fde725"
            ]
           ],
           "sequentialminus": [
            [
             0,
             "#440154"
            ],
            [
             0.1111111111111111,
             "#482878"
            ],
            [
             0.2222222222222222,
             "#3e4989"
            ],
            [
             0.3333333333333333,
             "#31688e"
            ],
            [
             0.4444444444444444,
             "#26828e"
            ],
            [
             0.5555555555555556,
             "#1f9e89"
            ],
            [
             0.6666666666666666,
             "#35b779"
            ],
            [
             0.7777777777777778,
             "#6ece58"
            ],
            [
             0.8888888888888888,
             "#b5de2b"
            ],
            [
             1,
             "#fde725"
            ]
           ]
          },
          "colorway": [
           "#1F77B4",
           "#FF7F0E",
           "#2CA02C",
           "#D62728",
           "#9467BD",
           "#8C564B",
           "#E377C2",
           "#7F7F7F",
           "#BCBD22",
           "#17BECF"
          ],
          "font": {
           "color": "rgb(36,36,36)"
          },
          "geo": {
           "bgcolor": "white",
           "lakecolor": "white",
           "landcolor": "white",
           "showlakes": true,
           "showland": true,
           "subunitcolor": "white"
          },
          "hoverlabel": {
           "align": "left"
          },
          "hovermode": "closest",
          "mapbox": {
           "style": "light"
          },
          "paper_bgcolor": "white",
          "plot_bgcolor": "white",
          "polar": {
           "angularaxis": {
            "gridcolor": "rgb(232,232,232)",
            "linecolor": "rgb(36,36,36)",
            "showgrid": false,
            "showline": true,
            "ticks": "outside"
           },
           "bgcolor": "white",
           "radialaxis": {
            "gridcolor": "rgb(232,232,232)",
            "linecolor": "rgb(36,36,36)",
            "showgrid": false,
            "showline": true,
            "ticks": "outside"
           }
          },
          "scene": {
           "xaxis": {
            "backgroundcolor": "white",
            "gridcolor": "rgb(232,232,232)",
            "gridwidth": 2,
            "linecolor": "rgb(36,36,36)",
            "showbackground": true,
            "showgrid": false,
            "showline": true,
            "ticks": "outside",
            "zeroline": false,
            "zerolinecolor": "rgb(36,36,36)"
           },
           "yaxis": {
            "backgroundcolor": "white",
            "gridcolor": "rgb(232,232,232)",
            "gridwidth": 2,
            "linecolor": "rgb(36,36,36)",
            "showbackground": true,
            "showgrid": false,
            "showline": true,
            "ticks": "outside",
            "zeroline": false,
            "zerolinecolor": "rgb(36,36,36)"
           },
           "zaxis": {
            "backgroundcolor": "white",
            "gridcolor": "rgb(232,232,232)",
            "gridwidth": 2,
            "linecolor": "rgb(36,36,36)",
            "showbackground": true,
            "showgrid": false,
            "showline": true,
            "ticks": "outside",
            "zeroline": false,
            "zerolinecolor": "rgb(36,36,36)"
           }
          },
          "shapedefaults": {
           "fillcolor": "black",
           "line": {
            "width": 0
           },
           "opacity": 0.3
          },
          "ternary": {
           "aaxis": {
            "gridcolor": "rgb(232,232,232)",
            "linecolor": "rgb(36,36,36)",
            "showgrid": false,
            "showline": true,
            "ticks": "outside"
           },
           "baxis": {
            "gridcolor": "rgb(232,232,232)",
            "linecolor": "rgb(36,36,36)",
            "showgrid": false,
            "showline": true,
            "ticks": "outside"
           },
           "bgcolor": "white",
           "caxis": {
            "gridcolor": "rgb(232,232,232)",
            "linecolor": "rgb(36,36,36)",
            "showgrid": false,
            "showline": true,
            "ticks": "outside"
           }
          },
          "title": {
           "x": 0.05
          },
          "xaxis": {
           "automargin": true,
           "gridcolor": "rgb(232,232,232)",
           "linecolor": "rgb(36,36,36)",
           "showgrid": false,
           "showline": true,
           "ticks": "outside",
           "title": {
            "standoff": 15
           },
           "zeroline": false,
           "zerolinecolor": "rgb(36,36,36)"
          },
          "yaxis": {
           "automargin": true,
           "gridcolor": "rgb(232,232,232)",
           "linecolor": "rgb(36,36,36)",
           "showgrid": false,
           "showline": true,
           "ticks": "outside",
           "title": {
            "standoff": 15
           },
           "zeroline": false,
           "zerolinecolor": "rgb(36,36,36)"
          }
         }
        },
        "title": {
         "font": {
          "color": "Black",
          "size": 22
         },
         "text": "<b>Intertopic Distance Map</b>",
         "x": 0.5,
         "xanchor": "center",
         "y": 0.95,
         "yanchor": "top"
        },
        "width": 650,
        "xaxis": {
         "anchor": "y",
         "domain": [
          0,
          1
         ],
         "range": [
          -6.675300145149231,
          -1.9437476992607117
         ],
         "title": {
          "text": ""
         },
         "visible": false
        },
        "yaxis": {
         "anchor": "x",
         "domain": [
          0,
          1
         ],
         "range": [
          -3.4497886061668397,
          2.442404866218567
         ],
         "title": {
          "text": ""
         },
         "visible": false
        }
       }
      }
     },
     "metadata": {},
     "output_type": "display_data"
    },
    {
     "name": "stderr",
     "output_type": "stream",
     "text": [
      "2025-05-17 20:38:34,718 - BERTopic - WARNING: There are more than 100 unique timestamps (i.e., 460) which significantly slows down the application. Consider setting `nr_bins` to a value lower than 100 to speed up calculation. \n"
     ]
    },
    {
     "name": "stdout",
     "output_type": "stream",
     "text": [
      "-1    742\n",
      " 0    693\n",
      " 1    201\n",
      " 2    165\n",
      " 3     93\n",
      " 4     26\n",
      " 5     23\n",
      " 6     22\n",
      " 7     19\n",
      " 8     16\n",
      "Name: topic, dtype: int64\n"
     ]
    },
    {
     "name": "stderr",
     "output_type": "stream",
     "text": [
      "460it [00:01, 267.53it/s]\n"
     ]
    },
    {
     "data": {
      "application/vnd.plotly.v1+json": {
       "config": {
        "plotlyServerURL": "https://plot.ly"
       },
       "data": [
        {
         "hoverinfo": "text",
         "hovertext": [
          "<b>Topic 0</b><br>Words: hardli, die, vz, quit, fight",
          "<b>Topic 0</b><br>Words: nvda, kabooom, long, stop, want",
          "<b>Topic 0</b><br>Words: revert, volatil, mean, impli, rise",
          "<b>Topic 0</b><br>Words: head, low, nvda, move, long",
          "<b>Topic 0</b><br>Words: posrev, rare, rsi, also, interest",
          "<b>Topic 0</b><br>Words: territori, reach, familiar, feel, far",
          "<b>Topic 0</b><br>Words: partial, arrhh, fill, break, good",
          "<b>Topic 0</b><br>Words: tgatv, gappop, nvda, move, long",
          "<b>Topic 0</b><br>Words: nvda, wow, break, breakout, breath",
          "<b>Topic 0</b><br>Words: parabol, go, nvda, move, long",
          "<b>Topic 0</b><br>Words: nvda, move, long, look, go",
          "<b>Topic 0</b><br>Words: leg, start, next, nvda, move",
          "<b>Topic 0</b><br>Words: cup, handl, go, form, parabol",
          "<b>Topic 0</b><br>Words: omg, never, nvda, lower, resist",
          "<b>Topic 0</b><br>Words: gooddaili, look, nvda, move, long",
          "<b>Topic 0</b><br>Words: tradethembi, april, semi, daili, huge",
          "<b>Topic 0</b><br>Words: breakthrough, race, resist, strong, tomorrow",
          "<b>Topic 0</b><br>Words: opp, bacon, yesssssssss, antonzalutski, nvda",
          "<b>Topic 0</b><br>Words: mcp, nvda, heisenberg, flag, fio",
          "<b>Topic 0</b><br>Words: soon, nvda, move, long, look",
          "<b>Topic 0</b><br>Words: grace, seriou, stay, goog, need",
          "<b>Topic 0</b><br>Words: assault, outta, bux, belov, ac",
          "<b>Topic 0</b><br>Words: alterego, told, vnda, well, day",
          "<b>Topic 0</b><br>Words: realli, posit, good, look, nvda",
          "<b>Topic 0</b><br>Words: gut, tell, feel, short, nvda",
          "<b>Topic 0</b><br>Words: crox, stop, got, today, nvda",
          "<b>Topic 0</b><br>Words: bore, nvdq, went, vnda, wow",
          "<b>Topic 0</b><br>Words: nvda, weekli, week, rsi, move",
          "<b>Topic 0</b><br>Words: nvda, move, long, look, go",
          "<b>Topic 0</b><br>Words: gor, gapfil, hmmm, test, pullback",
          "<b>Topic 0</b><br>Words: teeve, jun, entri, stop, nvda",
          "<b>Topic 0</b><br>Words: nvda, move, long, look, go",
          "<b>Topic 0</b><br>Words: monday, look, nvda, move, long",
          "<b>Topic 0</b><br>Words: monday, bullish, nvda, move, long",
          "<b>Topic 0</b><br>Words: pp, nvda, move, long, look",
          "<b>Topic 0</b><br>Words: nvda, move, long, look, go",
          "<b>Topic 0</b><br>Words: sinc, tmh, nvda, move, long",
          "<b>Topic 0</b><br>Words: happen, shield, nvda, move, long",
          "<b>Topic 0</b><br>Words: min, real, good, look, nvda",
          "<b>Topic 0</b><br>Words: januari, huge, oi, well, volum",
          "<b>Topic 0</b><br>Words: breakout, week, next, watch, nvda",
          "<b>Topic 0</b><br>Words: transcript, thank, share, nvda, move",
          "<b>Topic 0</b><br>Words: hodb, clsn, dime, dndn, took",
          "<b>Topic 0</b><br>Words: acinvestorblog, tomorrow, see, nvda, move",
          "<b>Topic 0</b><br>Words: nvda, good, result, idix, opxa",
          "<b>Topic 0</b><br>Words: nvda, buzz, logan, unwarr, bracket",
          "<b>Topic 0</b><br>Words: move, jcp, septemb, level, volum",
          "<b>Topic 0</b><br>Words: nvda, strong, bobtrahan, larger, confid",
          "<b>Topic 0</b><br>Words: catalyst, nvda, offici, accomplish, magnet",
          "<b>Topic 0</b><br>Words: move, friend, oda, xma, colour",
          "<b>Topic 0</b><br>Words: daddi, grind, print, bag, holder",
          "<b>Topic 0</b><br>Words: stop, ntri, lod, nvda, move",
          "<b>Topic 0</b><br>Words: rcl, mcp, soon, stop, back",
          "<b>Topic 0</b><br>Words: stalk, nvda, move, long, look",
          "<b>Topic 0</b><br>Words: mrin, egl, stalk, dndn, day",
          "<b>Topic 0</b><br>Words: higher, nvda, move, long, look",
          "<b>Topic 0</b><br>Words: novemb, spread, volum, big, put",
          "<b>Topic 0</b><br>Words: ush, lumberjax, decent, loser, includ",
          "<b>Topic 0</b><br>Words: mid, happen, format, saucer, sept",
          "<b>Topic 0</b><br>Words: broken, nvda, move, long, look",
          "<b>Topic 0</b><br>Words: small, much, er, posit, long",
          "<b>Topic 0</b><br>Words: er, cors, nvda, lumberjax, liquid",
          "<b>Topic 0</b><br>Words: gudianc, uh, nvda, go, live",
          "<b>Topic 0</b><br>Words: battlefield, scream, gtx, review, machin",
          "<b>Topic 0</b><br>Words: perk, nvda, move, long, look",
          "<b>Topic 0</b><br>Words: lunch, yep, theinvertor, folk, vnda",
          "<b>Topic 0</b><br>Words: reguid, clearli, mile, deliv, imo",
          "<b>Topic 0</b><br>Words: lod, remain, weak, nvda, move",
          "<b>Topic 0</b><br>Words: cover, nvda, move, long, look",
          "<b>Topic 0</b><br>Words: print, paper, larg, mani, pm",
          "<b>Topic 0</b><br>Words: written, letrrid, owner, piec, note",
          "<b>Topic 0</b><br>Words: nvda, move, long, look, go",
          "<b>Topic 0</b><br>Words: start, year, new, like, nvda",
          "<b>Topic 0</b><br>Words: ugh, hate, optimu, immin, press",
          "<b>Topic 0</b><br>Words: press, conf, monday, post, expect",
          "<b>Topic 0</b><br>Words: multiyear, auto, convict, allianc, lie",
          "<b>Topic 0</b><br>Words: pois, fli, readi, could, tri",
          "<b>Topic 0</b><br>Words: heat, posn, closequot, abc, quotacinvestorblog",
          "<b>Topic 0</b><br>Words: fill, cover, nvda, move, long",
          "<b>Topic 0</b><br>Words: brilliant, greennnn, blow, kaveri, perk",
          "<b>Topic 0</b><br>Words: radar, appear, readi, hod, start",
          "<b>Topic 0</b><br>Words: starter, amaz, nvda, sweet, nhod",
          "<b>Topic 0</b><br>Words: train, sheâ, folk, dont, lose",
          "<b>Topic 0</b><br>Words: perk, morn, volum, higher, close",
          "<b>Topic 0</b><br>Words: expir, nvda, ta, eventu, rel",
          "<b>Topic 0</b><br>Words: lotto, briguy, stretch, ticket, that",
          "<b>Topic 0</b><br>Words: green, back, nvda, move, long",
          "<b>Topic 0</b><br>Words: greennn, recoveri, nice, nvda, move",
          "<b>Topic 0</b><br>Words: perk, nvda, move, long, look",
          "<b>Topic 0</b><br>Words: nhod, red, perk, green, hod",
          "<b>Topic 0</b><br>Words: grid, use, move, nvda, long",
          "<b>Topic 0</b><br>Words: move, ownership, file, blackrock, nvda",
          "<b>Topic 0</b><br>Words: bounc, red, green, strong, move",
          "<b>Topic 0</b><br>Words: strong, amp, long, nvda, move",
          "<b>Topic 0</b><br>Words: nhod, higher, close, get, nvda",
          "<b>Topic 0</b><br>Words: hug, drag, find, lod, sector",
          "<b>Topic 0</b><br>Words: move, nvda, long, look, go",
          "<b>Topic 0</b><br>Words: nvda, close, volum, bullish, move",
          "<b>Topic 0</b><br>Words: back, sharpli, comfort, amaz, nvda",
          "<b>Topic 0</b><br>Words: nhod, nvda, tomorrow, girl, hawkey",
          "<b>Topic 0</b><br>Words: nvda, tomorrow, room, daili, chart",
          "<b>Topic 0</b><br>Words: ad, slv, stop, nvda, cb",
          "<b>Topic 0</b><br>Words: yda, book, room, daili, weekli",
          "<b>Topic 0</b><br>Words: fade, monday, interest, expect, strong",
          "<b>Topic 0</b><br>Words: next, day, signal, stay, plug",
          "<b>Topic 0</b><br>Words: thu, far, cb, short, nvda",
          "<b>Topic 0</b><br>Words: beauti, consolid, resist, pullback, tomorrow",
          "<b>Topic 0</b><br>Words: short, sustain, third, els, ever",
          "<b>Topic 0</b><br>Words: dip, add, hold, amp, nvda",
          "<b>Topic 0</b><br>Words: scale, tight, score, akam, adb",
          "<b>Topic 0</b><br>Words: quit, consolid, quick, fall, pretti",
          "<b>Topic 0</b><br>Words: june, bot, paid, anoth, wait",
          "<b>Topic 0</b><br>Words: largest, chang, weak, oi, soon",
          "<b>Topic 0</b><br>Words: apr, support, even, bullish, nvda",
          "<b>Topic 0</b><br>Words: togeth, usual, two, compar, thought",
          "<b>Topic 0</b><br>Words: gpor, xyl, tsm, nhod, breakout",
          "<b>Topic 0</b><br>Words: watchlist, hod, make, move, long",
          "<b>Topic 0</b><br>Words: matter, overbought, oversold, stochast, otherwis",
          "<b>Topic 0</b><br>Words: investor, confer, news, good, nvda",
          "<b>Topic 0</b><br>Words: attempt, come, teas, green, bo",
          "<b>Topic 0</b><br>Words: qlgc, rb, ash, mon, dlph",
          "<b>Topic 0</b><br>Words: dime, flml, bracket, gdx, lost",
          "<b>Topic 0</b><br>Words: onward, heat, alandelmz, vol, nvda",
          "<b>Topic 0</b><br>Words: boost, vmware, alright, wonder, seem",
          "<b>Topic 0</b><br>Words: nvda, breakout, gap, break, beckyhiu",
          "<b>Topic 0</b><br>Words: gap, experienc, poick, gather, nvda",
          "<b>Topic 0</b><br>Words: scale, score, sentiment, other, green",
          "<b>Topic 0</b><br>Words: push, challeng, back, nvda, knew",
          "<b>Topic 0</b><br>Words: quotupsidetrad, nvda, guy, thetechnicalroom, look",
          "<b>Topic 0</b><br>Words: anyway, fight, live, lod, anoth",
          "<b>Topic 0</b><br>Words: suck, day, candid, though, test",
          "<b>Topic 0</b><br>Words: nasti, possibl, tri, weekli, still",
          "<b>Topic 0</b><br>Words: momentum, ill, rather, though, perk",
          "<b>Topic 0</b><br>Words: stop, nyni, shapin, mpet, kndi",
          "<b>Topic 0</b><br>Words: breakout, nvda, need, want, meaning",
          "<b>Topic 0</b><br>Words: gate, nvda, shift, alandelmz, push",
          "<b>Topic 0</b><br>Words: hold, see, nvda, move, long",
          "<b>Topic 0</b><br>Words: mio, facebook, vs, like, amd",
          "<b>Topic 0</b><br>Words: prudent, sweep, jboorman, enter, seem",
          "<b>Topic 0</b><br>Words: rock, bounc, way, time, nvda",
          "<b>Topic 0</b><br>Words: reaction, sorta, sideway, info, tuesday",
          "<b>Topic 0</b><br>Words: bump, rbc, outlook, guess, capit",
          "<b>Topic 0</b><br>Words: hold, nvda, move, long, look",
          "<b>Topic 0</b><br>Words: descend, wedg, solid, top, move",
          "<b>Topic 0</b><br>Words: ndx, midmorn, expd, symc, green",
          "<b>Topic 0</b><br>Words: spike, higher, nvda, move, long",
          "<b>Topic 0</b><br>Words: stalk, soon, short, nvda, move",
          "<b>Topic 0</b><br>Words: sign, month, hope, time, close",
          "<b>Topic 0</b><br>Words: mobe, nvda, move, long, look",
          "<b>Topic 0</b><br>Words: nvda, lot, still, expand, callsquot",
          "<b>Topic 0</b><br>Words: fake, tgt, promis, head, need",
          "<b>Topic 0</b><br>Words: watch, nvda, move, long, look",
          "<b>Topic 0</b><br>Words: construct, pay, back, watch, nvda",
          "<b>Topic 0</b><br>Words: finish, strong, day, nvda, move",
          "<b>Topic 0</b><br>Words: well, stop, contest, macroeconom, patapuf",
          "<b>Topic 0</b><br>Words: nvda, move, long, look, go",
          "<b>Topic 0</b><br>Words: hammer, could, nice, today, nvda",
          "<b>Topic 0</b><br>Words: wake, happi, rise, make, downgrad",
          "<b>Topic 0</b><br>Words: sma, opportun, risk, low, hold",
          "<b>Topic 0</b><br>Words: dma, decent, volum, move, nice",
          "<b>Topic 0</b><br>Words: highlight, night, setup, coupl, ibm",
          "<b>Topic 0</b><br>Words: ad, day, nvda, move, long",
          "<b>Topic 0</b><br>Words: hod, new, score, goe, anoth",
          "<b>Topic 0</b><br>Words: longhold, nvda, move, long, look",
          "<b>Topic 0</b><br>Words: timequot, womarmd, unusualact, quotgam, actual",
          "<b>Topic 0</b><br>Words: nvda, call, increas, volum, syy",
          "<b>Topic 0</b><br>Words: nvda, move, long, look, go",
          "<b>Topic 0</b><br>Words: squeez, stochasticss, bbkc, cross, ttm",
          "<b>Topic 0</b><br>Words: positon, moment, professorht, consid, jan",
          "<b>Topic 0</b><br>Words: way, start, take, look, nvda",
          "<b>Topic 0</b><br>Words: signal, area, weekli, close, get",
          "<b>Topic 0</b><br>Words: choppi, glad, realli, higher, week",
          "<b>Topic 0</b><br>Words: defend, heavili, side, could, break",
          "<b>Topic 0</b><br>Words: flush, what, nvda, move, long",
          "<b>Topic 0</b><br>Words: time, long, rang, readi, test",
          "<b>Topic 0</b><br>Words: aca, dma, crossov, okay, nvda",
          "<b>Topic 0</b><br>Words: tnx, postingchart, behind, caus, awhil",
          "<b>Topic 0</b><br>Words: steal, extr, switch, rumor, busi",
          "<b>Topic 0</b><br>Words: take, posit, long, nvda, move",
          "<b>Topic 0</b><br>Words: somr, rg, would, action, come",
          "<b>Topic 0</b><br>Words: fill, gap, want, hold, like",
          "<b>Topic 0</b><br>Words: perk, volum, nvda, move, long",
          "<b>Topic 0</b><br>Words: explos, much, soon, higher, go",
          "<b>Topic 0</b><br>Words: pretti, chart, look, nvda, move",
          "<b>Topic 0</b><br>Words: weak, bearish, perform, good, look",
          "<b>Topic 0</b><br>Words: lower, go, nvda, move, long",
          "<b>Topic 0</b><br>Words: plenti, ok, provid, nasti, ouch",
          "<b>Topic 0</b><br>Words: cnbc, tesla, never, talk, sinc",
          "<b>Topic 0</b><br>Words: rotten, lnkd, amzn, lol, nvda",
          "<b>Topic 0</b><br>Words: told, bottom, green, goe, low",
          "<b>Topic 0</b><br>Words: fri, wkli, line, flow, bid",
          "<b>Topic 0</b><br>Words: tfcab, oct, nvda, move, long",
          "<b>Topic 0</b><br>Words: thursday, next, nvda, move, long",
          "<b>Topic 0</b><br>Words: sweep, put, nvda, move, long",
          "<b>Topic 0</b><br>Words: activ, open, bullish, amp, nvda",
          "<b>Topic 0</b><br>Words: strattonit, er, nvda, move, long",
          "<b>Topic 0</b><br>Words: nvda, engulf, care, resist, bullish",
          "<b>Topic 0</b><br>Words: afgapistan, chartgasm, son, lol, nvda",
          "<b>Topic 0</b><br>Words: nvda, sweep, call, pile, bummer",
          "<b>Topic 0</b><br>Words: nut, damm, congrat, went, ah",
          "<b>Topic 0</b><br>Words: strong, today, look, nvda, move",
          "<b>Topic 0</b><br>Words: rang, back, nvda, move, long",
          "<b>Topic 0</b><br>Words: plu, week, next, nvda, move",
          "<b>Topic 0</b><br>Words: nvda, move, long, look, go",
          "<b>Topic 0</b><br>Words: got, nvda, move, long, look",
          "<b>Topic 0</b><br>Words: relat, theta, initi, less, let",
          "<b>Topic 0</b><br>Words: legitimaci, countersuit, itc, die, come",
          "<b>Topic 0</b><br>Words: valu, open, call, nvda, move",
          "<b>Topic 0</b><br>Words: long, nvda, move, look, go",
          "<b>Topic 0</b><br>Words: paint, least, dri, free, watch",
          "<b>Topic 0</b><br>Words: needham, other, lot, upgrad, nvda",
          "<b>Topic 0</b><br>Words: ebola, also, nvda, move, long",
          "<b>Topic 0</b><br>Words: ear, music, drop, watch, nvda",
          "<b>Topic 0</b><br>Words: time, hold, get, long, nvda",
          "<b>Topic 0</b><br>Words: hit, add, target, nvda, move",
          "<b>Topic 0</b><br>Words: could, er, beat, go, nvda",
          "<b>Topic 0</b><br>Words: death, tax, kill, estim, beat",
          "<b>Topic 0</b><br>Words: pullbackgap, buyabl, fill, broke, could",
          "<b>Topic 0</b><br>Words: chanc, analysi, portfolio, technic, trend",
          "<b>Topic 0</b><br>Words: jet, cool, build, flag, gap",
          "<b>Topic 0</b><br>Words: mysteri, vuzi, trashcanman, ip, cant",
          "<b>Topic 0</b><br>Words: quotproject, gdc, morpheusquot, reserv, schedul",
          "<b>Topic 0</b><br>Words: strength, trail, nice, rel, final",
          "<b>Topic 0</b><br>Words: notic, quit, strength, small, break",
          "<b>Topic 0</b><br>Words: resum, period, consolid, uptrend, potenti",
          "<b>Topic 0</b><br>Words: extrem, catch, sweeper, nickel, collect",
          "<b>Topic 0</b><br>Words: hode, still, long, nvda, move",
          "<b>Topic 0</b><br>Words: nvda, legal, liquid, resum, forc",
          "<b>Topic 0</b><br>Words: uptrend, continu, potenti, chart, weeklydailyhourli",
          "<b>Topic 0</b><br>Words: earli, cover, hope, use, low",
          "<b>Topic 0</b><br>Words: doin, tattoo, sweeper, intermedi, weeklydailyhourli",
          "<b>Topic 0</b><br>Words: what, intermedi, downtrend, bottom, cc",
          "<b>Topic 0</b><br>Words: finish, way, week, nvda, move",
          "<b>Topic 0</b><br>Words: twitter, pinedurbi, fan, prefer, analyst",
          "<b>Topic 0</b><br>Words: downtrend, pullback, potenti, chart, nvda",
          "<b>Topic 0</b><br>Words: normal, tripl, area, support, strong",
          "<b>Topic 0</b><br>Words: nvda, move, long, look, go",
          "<b>Topic 0</b><br>Words: downtrend, pullback, potenti, chart, nvda",
          "<b>Topic 0</b><br>Words: kick, favor, rule, upsid, area",
          "<b>Topic 0</b><br>Words: inevit, confid, domin, favorit, develop",
          "<b>Topic 0</b><br>Words: load, happi, like, nvda, move",
          "<b>Topic 0</b><br>Words: shall, weeklydailyhourli, uptrend, continu, potenti",
          "<b>Topic 0</b><br>Words: weeklydailyhourli, uptrend, continu, potenti, chart",
          "<b>Topic 0</b><br>Words: intermedi, weeklydailyhourli, uptrend, top, potenti",
          "<b>Topic 0</b><br>Words: exit, long, nvda, move, look",
          "<b>Topic 0</b><br>Words: mark, break, week, nvda, move",
          "<b>Topic 0</b><br>Words: weeklydailyhourli, uptrend, continu, potenti, chart",
          "<b>Topic 0</b><br>Words: downtrend, uptrend, pullback, continu, potenti",
          "<b>Topic 0</b><br>Words: tsm, cru, day, good, nvda",
          "<b>Topic 0</b><br>Words: weeklydailyhourli, uptrend, continu, potenti, chart",
          "<b>Topic 0</b><br>Words: countdown, commenc, likey, bnkinvest, nvda",
          "<b>Topic 0</b><br>Words: long, fav, pot, outr, downtrend"
         ],
         "marker": {
          "color": "#E69F00"
         },
         "mode": "lines",
         "name": "0_nvda_move_long_look",
         "type": "scatter",
         "x": [
          "2013-04-11T00:00:00",
          "2013-04-12T00:00:00",
          "2013-04-14T00:00:00",
          "2013-04-15T00:00:00",
          "2013-04-17T00:00:00",
          "2013-04-18T00:00:00",
          "2013-04-19T00:00:00",
          "2013-04-22T00:00:00",
          "2013-04-24T00:00:00",
          "2013-04-26T00:00:00",
          "2013-04-28T00:00:00",
          "2013-04-29T00:00:00",
          "2013-04-30T00:00:00",
          "2013-05-01T00:00:00",
          "2013-05-02T00:00:00",
          "2013-05-03T00:00:00",
          "2013-05-08T00:00:00",
          "2013-05-09T00:00:00",
          "2013-05-10T00:00:00",
          "2013-05-15T00:00:00",
          "2013-05-20T00:00:00",
          "2013-05-21T00:00:00",
          "2013-05-24T00:00:00",
          "2013-05-30T00:00:00",
          "2013-06-03T00:00:00",
          "2013-06-05T00:00:00",
          "2013-06-11T00:00:00",
          "2013-06-19T00:00:00",
          "2013-06-20T00:00:00",
          "2013-06-21T00:00:00",
          "2013-06-24T00:00:00",
          "2013-07-02T00:00:00",
          "2013-07-06T00:00:00",
          "2013-07-07T00:00:00",
          "2013-07-10T00:00:00",
          "2013-07-11T00:00:00",
          "2013-07-12T00:00:00",
          "2013-07-19T00:00:00",
          "2013-07-30T00:00:00",
          "2013-08-01T00:00:00",
          "2013-08-02T00:00:00",
          "2013-08-03T00:00:00",
          "2013-08-05T00:00:00",
          "2013-08-07T00:00:00",
          "2013-08-08T00:00:00",
          "2013-08-14T00:00:00",
          "2013-08-15T00:00:00",
          "2013-08-16T00:00:00",
          "2013-09-10T00:00:00",
          "2013-09-11T00:00:00",
          "2013-09-12T00:00:00",
          "2013-09-13T00:00:00",
          "2013-09-16T00:00:00",
          "2013-09-17T00:00:00",
          "2013-09-18T00:00:00",
          "2013-09-19T00:00:00",
          "2013-09-23T00:00:00",
          "2013-10-04T00:00:00",
          "2013-10-20T00:00:00",
          "2013-10-25T00:00:00",
          "2013-11-04T00:00:00",
          "2013-11-07T00:00:00",
          "2013-11-08T00:00:00",
          "2013-11-09T00:00:00",
          "2013-11-11T00:00:00",
          "2013-11-13T00:00:00",
          "2013-11-14T00:00:00",
          "2013-11-18T00:00:00",
          "2013-11-19T00:00:00",
          "2013-11-26T00:00:00",
          "2013-12-11T00:00:00",
          "2013-12-20T00:00:00",
          "2013-12-31T00:00:00",
          "2014-01-02T00:00:00",
          "2014-01-03T00:00:00",
          "2014-01-06T00:00:00",
          "2014-01-07T00:00:00",
          "2014-01-08T00:00:00",
          "2014-01-09T00:00:00",
          "2014-01-10T00:00:00",
          "2014-01-13T00:00:00",
          "2014-01-14T00:00:00",
          "2014-01-15T00:00:00",
          "2014-01-16T00:00:00",
          "2014-01-17T00:00:00",
          "2014-01-18T00:00:00",
          "2014-01-21T00:00:00",
          "2014-01-22T00:00:00",
          "2014-01-27T00:00:00",
          "2014-01-28T00:00:00",
          "2014-01-29T00:00:00",
          "2014-01-30T00:00:00",
          "2014-01-31T00:00:00",
          "2014-02-03T00:00:00",
          "2014-02-04T00:00:00",
          "2014-02-05T00:00:00",
          "2014-02-06T00:00:00",
          "2014-02-07T00:00:00",
          "2014-02-10T00:00:00",
          "2014-02-11T00:00:00",
          "2014-02-12T00:00:00",
          "2014-02-13T00:00:00",
          "2014-02-14T00:00:00",
          "2014-02-15T00:00:00",
          "2014-02-19T00:00:00",
          "2014-02-20T00:00:00",
          "2014-02-24T00:00:00",
          "2014-02-25T00:00:00",
          "2014-02-26T00:00:00",
          "2014-02-27T00:00:00",
          "2014-02-28T00:00:00",
          "2014-03-05T00:00:00",
          "2014-03-06T00:00:00",
          "2014-03-11T00:00:00",
          "2014-03-13T00:00:00",
          "2014-03-18T00:00:00",
          "2014-03-19T00:00:00",
          "2014-03-21T00:00:00",
          "2014-03-25T00:00:00",
          "2014-03-26T00:00:00",
          "2014-03-28T00:00:00",
          "2014-03-31T00:00:00",
          "2014-04-01T00:00:00",
          "2014-04-02T00:00:00",
          "2014-04-03T00:00:00",
          "2014-04-04T00:00:00",
          "2014-04-07T00:00:00",
          "2014-04-08T00:00:00",
          "2014-04-09T00:00:00",
          "2014-04-10T00:00:00",
          "2014-04-11T00:00:00",
          "2014-04-14T00:00:00",
          "2014-04-15T00:00:00",
          "2014-04-22T00:00:00",
          "2014-04-23T00:00:00",
          "2014-04-24T00:00:00",
          "2014-04-28T00:00:00",
          "2014-05-01T00:00:00",
          "2014-05-05T00:00:00",
          "2014-05-06T00:00:00",
          "2014-05-08T00:00:00",
          "2014-05-09T00:00:00",
          "2014-05-10T00:00:00",
          "2014-05-12T00:00:00",
          "2014-05-15T00:00:00",
          "2014-05-19T00:00:00",
          "2014-05-29T00:00:00",
          "2014-06-06T00:00:00",
          "2014-06-10T00:00:00",
          "2014-06-11T00:00:00",
          "2014-06-12T00:00:00",
          "2014-06-13T00:00:00",
          "2014-06-17T00:00:00",
          "2014-06-18T00:00:00",
          "2014-06-19T00:00:00",
          "2014-06-20T00:00:00",
          "2014-06-27T00:00:00",
          "2014-06-30T00:00:00",
          "2014-07-06T00:00:00",
          "2014-07-09T00:00:00",
          "2014-07-14T00:00:00",
          "2014-07-21T00:00:00",
          "2014-07-30T00:00:00",
          "2014-08-04T00:00:00",
          "2014-08-06T00:00:00",
          "2014-08-07T00:00:00",
          "2014-08-08T00:00:00",
          "2014-08-09T00:00:00",
          "2014-08-11T00:00:00",
          "2014-08-12T00:00:00",
          "2014-08-13T00:00:00",
          "2014-08-15T00:00:00",
          "2014-08-18T00:00:00",
          "2014-08-21T00:00:00",
          "2014-08-25T00:00:00",
          "2014-08-28T00:00:00",
          "2014-09-04T00:00:00",
          "2014-09-15T00:00:00",
          "2014-09-17T00:00:00",
          "2014-09-22T00:00:00",
          "2014-09-26T00:00:00",
          "2014-10-01T00:00:00",
          "2014-10-06T00:00:00",
          "2014-10-07T00:00:00",
          "2014-10-08T00:00:00",
          "2014-10-09T00:00:00",
          "2014-10-10T00:00:00",
          "2014-10-14T00:00:00",
          "2014-10-15T00:00:00",
          "2014-10-20T00:00:00",
          "2014-10-21T00:00:00",
          "2014-10-24T00:00:00",
          "2014-10-28T00:00:00",
          "2014-10-30T00:00:00",
          "2014-10-31T00:00:00",
          "2014-11-02T00:00:00",
          "2014-11-04T00:00:00",
          "2014-11-05T00:00:00",
          "2014-11-06T00:00:00",
          "2014-11-07T00:00:00",
          "2014-11-10T00:00:00",
          "2014-11-12T00:00:00",
          "2014-11-21T00:00:00",
          "2014-11-28T00:00:00",
          "2014-12-18T00:00:00",
          "2014-12-24T00:00:00",
          "2014-12-26T00:00:00",
          "2015-01-05T00:00:00",
          "2015-01-06T00:00:00",
          "2015-01-07T00:00:00",
          "2015-01-08T00:00:00",
          "2015-01-13T00:00:00",
          "2015-01-27T00:00:00",
          "2015-01-28T00:00:00",
          "2015-01-29T00:00:00",
          "2015-02-10T00:00:00",
          "2015-02-11T00:00:00",
          "2015-02-12T00:00:00",
          "2015-02-13T00:00:00",
          "2015-02-20T00:00:00",
          "2015-02-25T00:00:00",
          "2015-02-27T00:00:00",
          "2015-03-10T00:00:00",
          "2015-03-11T00:00:00",
          "2015-03-16T00:00:00",
          "2015-03-17T00:00:00",
          "2015-03-19T00:00:00",
          "2015-03-20T00:00:00",
          "2015-03-23T00:00:00",
          "2015-03-24T00:00:00",
          "2015-03-25T00:00:00",
          "2015-03-27T00:00:00",
          "2015-03-28T00:00:00",
          "2015-03-30T00:00:00",
          "2015-03-31T00:00:00",
          "2015-04-01T00:00:00",
          "2015-04-02T00:00:00",
          "2015-04-03T00:00:00",
          "2015-04-06T00:00:00",
          "2015-04-08T00:00:00",
          "2015-04-12T00:00:00",
          "2015-04-15T00:00:00",
          "2015-04-16T00:00:00",
          "2015-04-21T00:00:00",
          "2015-04-22T00:00:00",
          "2015-04-23T00:00:00",
          "2015-04-28T00:00:00",
          "2015-04-29T00:00:00",
          "2015-05-01T00:00:00",
          "2015-05-06T00:00:00",
          "2015-05-07T00:00:00",
          "2015-05-08T00:00:00"
         ],
         "y": [
          4,
          16,
          1,
          1,
          1,
          1,
          2,
          1,
          15,
          1,
          1,
          2,
          3,
          6,
          1,
          2,
          3,
          7,
          13,
          1,
          1,
          3,
          1,
          1,
          1,
          1,
          1,
          22,
          1,
          1,
          2,
          1,
          1,
          1,
          1,
          1,
          1,
          1,
          1,
          2,
          1,
          1,
          3,
          2,
          11,
          8,
          2,
          7,
          10,
          4,
          4,
          2,
          3,
          1,
          3,
          1,
          1,
          1,
          1,
          1,
          2,
          5,
          7,
          1,
          1,
          3,
          1,
          2,
          1,
          2,
          1,
          1,
          1,
          2,
          1,
          4,
          3,
          6,
          1,
          3,
          4,
          7,
          4,
          3,
          6,
          1,
          1,
          1,
          1,
          3,
          3,
          6,
          4,
          1,
          2,
          2,
          1,
          10,
          6,
          8,
          10,
          5,
          2,
          1,
          3,
          1,
          2,
          4,
          1,
          2,
          1,
          2,
          2,
          2,
          1,
          2,
          2,
          2,
          1,
          3,
          1,
          2,
          4,
          2,
          15,
          5,
          4,
          6,
          14,
          4,
          4,
          1,
          1,
          4,
          10,
          6,
          1,
          1,
          2,
          3,
          4,
          3,
          1,
          2,
          1,
          1,
          1,
          1,
          1,
          6,
          4,
          1,
          2,
          1,
          4,
          1,
          1,
          1,
          1,
          1,
          1,
          1,
          3,
          1,
          1,
          19,
          2,
          1,
          3,
          1,
          2,
          1,
          3,
          1,
          2,
          4,
          2,
          2,
          1,
          2,
          2,
          1,
          1,
          1,
          2,
          1,
          2,
          1,
          1,
          2,
          4,
          1,
          1,
          1,
          1,
          1,
          15,
          3,
          14,
          2,
          1,
          1,
          1,
          1,
          1,
          1,
          2,
          1,
          1,
          1,
          1,
          1,
          1,
          2,
          1,
          1,
          2,
          1,
          2,
          1,
          1,
          2,
          3,
          2,
          1,
          4,
          1,
          5,
          3,
          2,
          4,
          4,
          1,
          1,
          1,
          1,
          1,
          1,
          4,
          1,
          1,
          2,
          1,
          1,
          1,
          2,
          1,
          3,
          1,
          1,
          5,
          4
         ]
        },
        {
         "hoverinfo": "text",
         "hovertext": [
          "<b>Topic 1</b><br>Words: chp, float, return, point, said",
          "<b>Topic 1</b><br>Words: goe, sold, sell, pb, never",
          "<b>Topic 1</b><br>Words: tomorrow, back, buy, today, nvda",
          "<b>Topic 1</b><br>Words: sold, today, nvda, put, call",
          "<b>Topic 1</b><br>Words: lot, bought, sold, today, nvda",
          "<b>Topic 1</b><br>Words: goe, took, profit, sell, higher",
          "<b>Topic 1</b><br>Words: duh, prior, acceler, buyback, compani",
          "<b>Topic 1</b><br>Words: entir, recent, took, cash, loss",
          "<b>Topic 1</b><br>Words: someon, invest, plan, pretti, quarter",
          "<b>Topic 1</b><br>Words: exdat, jun, catalyst, sale, use",
          "<b>Topic 1</b><br>Words: voc, dtv, gave, load, gain",
          "<b>Topic 1</b><br>Words: evga, newegg, asu, msi, stock",
          "<b>Topic 1</b><br>Words: million, share, april, compar, increas",
          "<b>Topic 1</b><br>Words: livetrad, shoot, june, current, work",
          "<b>Topic 1</b><br>Words: took, nice, disappoint, tini, consid",
          "<b>Topic 1</b><br>Words: trade, transit, countertrend, aggress, hedg",
          "<b>Topic 1</b><br>Words: stocktwit, biotech, amus, vanda, symbol",
          "<b>Topic 1</b><br>Words: januari, alert, block, current, contract",
          "<b>Topic 1</b><br>Words: minu, plu, sale, see, nvda",
          "<b>Topic 1</b><br>Words: trade, unimpress, bw, hmmm, done",
          "<b>Topic 1</b><br>Words: septemb, call, huge, bought, get",
          "<b>Topic 1</b><br>Words: th, block, call, trade, askquot",
          "<b>Topic 1</b><br>Words: bought, seekingalpha, ashraff, someth, month",
          "<b>Topic 1</b><br>Words: frm, call, beauti, bearish, bid",
          "<b>Topic 1</b><br>Words: frm, sell, yesterday, call, bingo",
          "<b>Topic 1</b><br>Words: problem, nobodi, care, two, buyer",
          "<b>Topic 1</b><br>Words: twit, funni, came, trend, vnda",
          "<b>Topic 1</b><br>Words: dec, cdw, spreadopen, invent, meanwhil",
          "<b>Topic 1</b><br>Words: pressur, increas, start, sell, nvda",
          "<b>Topic 1</b><br>Words: paper, invest, pm, money, pick",
          "<b>Topic 1</b><br>Words: clean, trade, nice, nvda, put",
          "<b>Topic 1</b><br>Words: million, recov, sharp, case, increas",
          "<b>Topic 1</b><br>Words: piti, struggl, massiv, ema, drive",
          "<b>Topic 1</b><br>Words: poor, wednesday, upsid, ask, cover",
          "<b>Topic 1</b><br>Words: contract, march, strike, interest, open",
          "<b>Topic 1</b><br>Words: insid, trade, tran, tonit, absolut",
          "<b>Topic 1</b><br>Words: financialjuic, sens, make, stock, nvda",
          "<b>Topic 1</b><br>Words: becom, drive, momo, year, stock",
          "<b>Topic 1</b><br>Words: bak, pulll, bot, march, contract",
          "<b>Topic 1</b><br>Words: ghm, exdividend, hon, gxp, tomorrow",
          "<b>Topic 1</b><br>Words: third, sold, short, nvda, put",
          "<b>Topic 1</b><br>Words: june, far, fire, problem, purchas",
          "<b>Topic 1</b><br>Words: reiter, stifel, kevin, pray, nicolau",
          "<b>Topic 1</b><br>Words: relentless, sell, buy, nvda, put",
          "<b>Topic 1</b><br>Words: could, doesnt, mark, tripl, doubl",
          "<b>Topic 1</b><br>Words: juicer, sens, greater, heavili, size",
          "<b>Topic 1</b><br>Words: hold, reject, otherwis, qqq, rest",
          "<b>Topic 1</b><br>Words: ebay, acad, ddd, eye, keep",
          "<b>Topic 1</b><br>Words: stoop, sold, nvda, put, call",
          "<b>Topic 1</b><br>Words: institut, via, aggress, contract, oi",
          "<b>Topic 1</b><br>Words: momo, goe, way, stock, nvda",
          "<b>Topic 1</b><br>Words: interest, beat, tgh, requir, hedgesauc",
          "<b>Topic 1</b><br>Words: ah, jumpin, transact, info, addit",
          "<b>Topic 1</b><br>Words: illog, sir, market, nvda, put",
          "<b>Topic 1</b><br>Words: interest, compani, stock, mud, strangl",
          "<b>Topic 1</b><br>Words: dividend, sell, tomorrow, analystratingsnetwork, exdiv",
          "<b>Topic 1</b><br>Words: jan, buyer, bought, call, rcap",
          "<b>Topic 1</b><br>Words: help, sell, hold, buy, nvda",
          "<b>Topic 1</b><br>Words: weak, continu, ad, great, share",
          "<b>Topic 1</b><br>Words: trader, aug, ask, sell, put",
          "<b>Topic 1</b><br>Words: put, expert, shi, fonsi, overnight",
          "<b>Topic 1</b><br>Words: observ, put, bw, chase, fill",
          "<b>Topic 1</b><br>Words: aug, monthli, weekli, put, buyer",
          "<b>Topic 1</b><br>Words: buyhold, winner, continu, nvda, put",
          "<b>Topic 1</b><br>Words: wont, reg, neutral, easili, dec",
          "<b>Topic 1</b><br>Words: regquot, dec, ask, oi, put",
          "<b>Topic 1</b><br>Words: mil, ino, common, ceo, invest",
          "<b>Topic 1</b><br>Words: ex, date, dividend, tomorrow, nvda",
          "<b>Topic 1</b><br>Words: fals, seen, fundament, never, mani",
          "<b>Topic 1</b><br>Words: buyhold, nvda, put, call, stock",
          "<b>Topic 1</b><br>Words: dividend, increas, txn, csco, aapl",
          "<b>Topic 1</b><br>Words: way, sold, nvda, put, call",
          "<b>Topic 1</b><br>Words: eat, babi, believ, guess, pop",
          "<b>Topic 1</b><br>Words: invest, solid, nvda, put, call",
          "<b>Topic 1</b><br>Words: share, anymor, maxwel, coupl, cheap",
          "<b>Topic 1</b><br>Words: idk, gfx, maker, largest, man",
          "<b>Topic 1</b><br>Words: si, atc, chipmak, otm, nov",
          "<b>Topic 1</b><br>Words: guarante, wall, algo, seriou, profit",
          "<b>Topic 1</b><br>Words: profit, sold, take, shortterm, seller",
          "<b>Topic 1</b><br>Words: profit, stranglehold, basic, fundi, taker",
          "<b>Topic 1</b><br>Words: mmm, whr, ccl, cce, exdividend",
          "<b>Topic 1</b><br>Words: dec, call, buyer, high, big",
          "<b>Topic 1</b><br>Words: dec, bounc, yesterday, seem, big",
          "<b>Topic 1</b><br>Words: dec, trade, put, nvda, call",
          "<b>Topic 1</b><br>Words: put, feb, buyer, februari, late",
          "<b>Topic 1</b><br>Words: abl, feb, mention, sold, put",
          "<b>Topic 1</b><br>Words: taken, feb, profit, still, call",
          "<b>Topic 1</b><br>Words: add, share, look, nvda, put",
          "<b>Topic 1</b><br>Words: fiberton, ground, specif, lie, lawsuit",
          "<b>Topic 1</b><br>Words: buyer, feb, call, recap, adt",
          "<b>Topic 1</b><br>Words: oi, contract, add, call, nvda",
          "<b>Topic 1</b><br>Words: point, entri, stock, good, nvda",
          "<b>Topic 1</b><br>Words: brutal, alert, feb, done, ask",
          "<b>Topic 1</b><br>Words: epscc, whuge, stockpil, embrac, undervalu",
          "<b>Topic 1</b><br>Words: vac, exdividend, hon, tomorrow, stock",
          "<b>Topic 1</b><br>Words: buyer, may, put, nvda, call",
          "<b>Topic 1</b><br>Words: atm, bought, liveandtrad, tradewithjo, itm",
          "<b>Topic 1</b><br>Words: quik, sold, like, stock, nvda",
          "<b>Topic 1</b><br>Words: mar, trade, call, buyer, nvda",
          "<b>Topic 1</b><br>Words: fellaz, seller, rmb, ya, oc",
          "<b>Topic 1</b><br>Words: share, short, see, nvda, put",
          "<b>Topic 1</b><br>Words: apr, put, offer, buyer, bought",
          "<b>Topic 1</b><br>Words: qs, cc, gme, shield, sell",
          "<b>Topic 1</b><br>Words: thing, first, morn, tomorrow, buy",
          "<b>Topic 1</b><br>Words: leverag, buy, nvda, put, call",
          "<b>Topic 1</b><br>Words: apr, bought, like, call, nvda",
          "<b>Topic 1</b><br>Words: expans, lead, contract, day, nvda",
          "<b>Topic 1</b><br>Words: tcb, itm, marri, three, etfc",
          "<b>Topic 1</b><br>Words: reengag, pair, converg, took, profit",
          "<b>Topic 1</b><br>Words: portfolio, perfom, short, decent, per",
          "<b>Topic 1</b><br>Words: smart, block, offer, trade, like",
          "<b>Topic 1</b><br>Words: mobilepr, dwnside, signfurth, repric, modem",
          "<b>Topic 1</b><br>Words: tie, buyer, weekli, sell, put",
          "<b>Topic 1</b><br>Words: qampa, profit, cfo, cash, nvda",
          "<b>Topic 1</b><br>Words: hand, selloff, quarterli, rais, sharehold"
         ],
         "marker": {
          "color": "#56B4E9"
         },
         "mode": "lines",
         "name": "1_nvda_put_call_stock",
         "type": "scatter",
         "x": [
          "2013-04-11T00:00:00",
          "2013-04-12T00:00:00",
          "2013-04-18T00:00:00",
          "2013-04-23T00:00:00",
          "2013-04-24T00:00:00",
          "2013-04-30T00:00:00",
          "2013-05-01T00:00:00",
          "2013-05-02T00:00:00",
          "2013-05-09T00:00:00",
          "2013-05-11T00:00:00",
          "2013-05-22T00:00:00",
          "2013-05-24T00:00:00",
          "2013-05-25T00:00:00",
          "2013-05-31T00:00:00",
          "2013-06-03T00:00:00",
          "2013-06-13T00:00:00",
          "2013-06-19T00:00:00",
          "2013-08-01T00:00:00",
          "2013-08-08T00:00:00",
          "2013-08-09T00:00:00",
          "2013-08-15T00:00:00",
          "2013-08-16T00:00:00",
          "2013-09-11T00:00:00",
          "2013-09-12T00:00:00",
          "2013-09-13T00:00:00",
          "2013-10-25T00:00:00",
          "2013-11-13T00:00:00",
          "2013-11-15T00:00:00",
          "2013-11-18T00:00:00",
          "2013-11-26T00:00:00",
          "2013-12-03T00:00:00",
          "2014-02-04T00:00:00",
          "2014-02-06T00:00:00",
          "2014-02-07T00:00:00",
          "2014-02-08T00:00:00",
          "2014-02-12T00:00:00",
          "2014-02-14T00:00:00",
          "2014-02-20T00:00:00",
          "2014-02-21T00:00:00",
          "2014-02-24T00:00:00",
          "2014-02-25T00:00:00",
          "2014-03-05T00:00:00",
          "2014-03-19T00:00:00",
          "2014-03-26T00:00:00",
          "2014-04-01T00:00:00",
          "2014-04-03T00:00:00",
          "2014-04-13T00:00:00",
          "2014-04-21T00:00:00",
          "2014-04-22T00:00:00",
          "2014-04-24T00:00:00",
          "2014-04-25T00:00:00",
          "2014-05-06T00:00:00",
          "2014-05-08T00:00:00",
          "2014-05-09T00:00:00",
          "2014-05-12T00:00:00",
          "2014-05-19T00:00:00",
          "2014-06-09T00:00:00",
          "2014-06-20T00:00:00",
          "2014-06-30T00:00:00",
          "2014-07-17T00:00:00",
          "2014-07-18T00:00:00",
          "2014-08-04T00:00:00",
          "2014-08-07T00:00:00",
          "2014-08-08T00:00:00",
          "2014-08-11T00:00:00",
          "2014-08-12T00:00:00",
          "2014-08-13T00:00:00",
          "2014-08-18T00:00:00",
          "2014-08-22T00:00:00",
          "2014-08-29T00:00:00",
          "2014-09-19T00:00:00",
          "2014-09-26T00:00:00",
          "2014-09-30T00:00:00",
          "2014-10-01T00:00:00",
          "2014-10-20T00:00:00",
          "2014-10-24T00:00:00",
          "2014-11-04T00:00:00",
          "2014-11-05T00:00:00",
          "2014-11-06T00:00:00",
          "2014-11-07T00:00:00",
          "2014-11-18T00:00:00",
          "2014-12-08T00:00:00",
          "2014-12-09T00:00:00",
          "2014-12-15T00:00:00",
          "2014-12-24T00:00:00",
          "2014-12-29T00:00:00",
          "2015-01-08T00:00:00",
          "2015-01-20T00:00:00",
          "2015-01-27T00:00:00",
          "2015-01-29T00:00:00",
          "2015-01-30T00:00:00",
          "2015-02-05T00:00:00",
          "2015-02-11T00:00:00",
          "2015-02-12T00:00:00",
          "2015-02-23T00:00:00",
          "2015-02-24T00:00:00",
          "2015-03-05T00:00:00",
          "2015-03-10T00:00:00",
          "2015-03-17T00:00:00",
          "2015-03-20T00:00:00",
          "2015-03-23T00:00:00",
          "2015-03-25T00:00:00",
          "2015-03-26T00:00:00",
          "2015-03-31T00:00:00",
          "2015-04-06T00:00:00",
          "2015-04-08T00:00:00",
          "2015-04-11T00:00:00",
          "2015-04-15T00:00:00",
          "2015-04-28T00:00:00",
          "2015-05-01T00:00:00",
          "2015-05-04T00:00:00",
          "2015-05-05T00:00:00",
          "2015-05-06T00:00:00",
          "2015-05-07T00:00:00",
          "2015-05-08T00:00:00"
         ],
         "y": [
          1,
          4,
          1,
          1,
          2,
          2,
          1,
          1,
          4,
          1,
          1,
          1,
          1,
          1,
          1,
          1,
          2,
          1,
          1,
          2,
          2,
          5,
          3,
          3,
          3,
          1,
          2,
          3,
          1,
          1,
          1,
          1,
          1,
          1,
          1,
          4,
          1,
          1,
          1,
          1,
          1,
          2,
          2,
          2,
          1,
          4,
          1,
          1,
          1,
          3,
          1,
          3,
          2,
          1,
          2,
          3,
          4,
          1,
          1,
          2,
          2,
          2,
          6,
          1,
          2,
          1,
          2,
          1,
          1,
          1,
          1,
          1,
          2,
          1,
          1,
          1,
          1,
          1,
          4,
          3,
          1,
          2,
          1,
          1,
          6,
          1,
          1,
          1,
          2,
          1,
          1,
          1,
          2,
          1,
          1,
          1,
          1,
          1,
          7,
          2,
          1,
          2,
          1,
          1,
          1,
          1,
          1,
          1,
          1,
          1,
          1,
          1,
          2,
          8,
          3
         ]
        },
        {
         "hoverinfo": "text",
         "hovertext": [
          "<b>Topic 2</b><br>Words: energyeffici, trigat, ultra, ammo, hp",
          "<b>Topic 2</b><br>Words: graphic, abazaba, fourth, quotcompar, kepler",
          "<b>Topic 2</b><br>Words: execut, sibl, midterm, safe, bcoin",
          "<b>Topic 2</b><br>Words: compet, amd, nvda, nvidia, intc",
          "<b>Topic 2</b><br>Words: crysi, match, holi, max, hd",
          "<b>Topic 2</b><br>Words: intc, amd, combin, stephenelkin, aapl",
          "<b>Topic 2</b><br>Words: em, ran, amp, outperform, kill",
          "<b>Topic 2</b><br>Words: pp, avg, up, favorit, gtat",
          "<b>Topic 2</b><br>Words: topbottom, street, beat, nvidia, nvda",
          "<b>Topic 2</b><br>Words: sach, acceler, goldman, nvidia, repurchas",
          "<b>Topic 2</b><br>Words: competitor, alongsid, amd, least, imo",
          "<b>Topic 2</b><br>Words: rather, everyth, tv, stream, believ",
          "<b>Topic 2</b><br>Words: old, apu, compar, graphic, even",
          "<b>Topic 2</b><br>Words: optim, amd, adob, frostbit, begin",
          "<b>Topic 2</b><br>Words: deutsch, bank, neg, take, nvidia",
          "<b>Topic 2</b><br>Words: shipment, delay, devic, shield, game",
          "<b>Topic 2</b><br>Words: loyalti, rebuilt, neat, commun, chrisbdumlao",
          "<b>Topic 2</b><br>Words: fargo, outperform, perform, downgrad, well",
          "<b>Topic 2</b><br>Words: amd, want, intelbart, ill, instead",
          "<b>Topic 2</b><br>Words: maintain, nomura, rais, corpor, pt",
          "<b>Topic 2</b><br>Words: macbook, boot, die, video, card",
          "<b>Topic 2</b><br>Words: tank, futtur, hahaaah, whooo, lol",
          "<b>Topic 2</b><br>Words: public, scrap, amd, origin, sound",
          "<b>Topic 2</b><br>Words: amd, fiasco, screw, scare, whole",
          "<b>Topic 2</b><br>Words: steambox, thing, amd, nvda, nvidia",
          "<b>Topic 2</b><br>Words: suggest, titankil, radeon, leak, perform",
          "<b>Topic 2</b><br>Words: amd, dissapear, advantag, lgood, middl",
          "<b>Topic 2</b><br>Words: amd, server, diversifi, complet, track",
          "<b>Topic 2</b><br>Words: overh, person, bloat, singl, driver",
          "<b>Topic 2</b><br>Words: provid, begin, leg, anoth, hope",
          "<b>Topic 2</b><br>Words: nvidia, div, boost, rev, top",
          "<b>Topic 2</b><br>Words: amd, drop, musthav, rub, thoughquot",
          "<b>Topic 2</b><br>Words: heyday, woopi, amd, compet, mention",
          "<b>Topic 2</b><br>Words: video, amd, card, lol, separ",
          "<b>Topic 2</b><br>Words: indytrad, amd, net, cash, deathwish",
          "<b>Topic 2</b><br>Words: float, int, theinvertor, littlereddot, imalaserpewpewpewpew",
          "<b>Topic 2</b><br>Words: nvidia, clip, morgan, stanley, underweight",
          "<b>Topic 2</b><br>Words: amd, run, offic, obsolet, kaveri",
          "<b>Topic 2</b><br>Words: convert, primarili, proce, senior, return",
          "<b>Topic 2</b><br>Words: trash, hurt, cheaper, cut, margin",
          "<b>Topic 2</b><br>Words: demo, combo, crush, apu, cpu",
          "<b>Topic 2</b><br>Words: mantel, domin, obsolet, kaveri, dedic",
          "<b>Topic 2</b><br>Words: mx, aer, klic, tank, plug",
          "<b>Topic 2</b><br>Words: name, shannon, administr, counsel, chief",
          "<b>Topic 2</b><br>Words: gevo, nok, spechigh, soda, risk",
          "<b>Topic 2</b><br>Words: correl, amd, bug, mor, wana",
          "<b>Topic 2</b><br>Words: equalweight, partner, evercor, corpor, pt",
          "<b>Topic 2</b><br>Words: pt, susquehanna, spend, memori, rbc",
          "<b>Topic 2</b><br>Words: stole, wednesday, amd, show, report",
          "<b>Topic 2</b><br>Words: amd, opinion, effect, sure, show",
          "<b>Topic 2</b><br>Words: nvidia, amd, invidia, group, bite",
          "<b>Topic 2</b><br>Words: upfront, payment, receiv, buyback, nvidia",
          "<b>Topic 2</b><br>Words: iv, overpr, offset, imo, valu",
          "<b>Topic 2</b><br>Words: littl, sold, short, amd, nvda",
          "<b>Topic 2</b><br>Words: bed, question, amd, imalaserpewpewpewpew, huge",
          "<b>Topic 2</b><br>Words: fbr, accord, detail, updat, return",
          "<b>Topic 2</b><br>Words: dual, announc, pascal, quick, card",
          "<b>Topic 2</b><br>Words: amd, better, alo, skyrocket, baaaaammmmmm",
          "<b>Topic 2</b><br>Words: spokesperson, meet, einhorn, comment, rumor",
          "<b>Topic 2</b><br>Words: compar, wow, mu, great, amd",
          "<b>Topic 2</b><br>Words: direct, amd, seriou, yet, happen",
          "<b>Topic 2</b><br>Words: premarket, amd, nvda, nvidia, intc",
          "<b>Topic 2</b><br>Words: gla, gtat, touch, might, earn",
          "<b>Topic 2</b><br>Words: properli, eventu, compet, compani, amd",
          "<b>Topic 2</b><br>Words: lag, gld, hedg, nugt, broke",
          "<b>Topic 2</b><br>Words: jeez, left, rise, name, much",
          "<b>Topic 2</b><br>Words: nvidia, disregard, trim, weaken, scream",
          "<b>Topic 2</b><br>Words: rais, rbc, outperform, corpor, capit",
          "<b>Topic 2</b><br>Words: good, ipo, amba, mchp, gpro",
          "<b>Topic 2</b><br>Words: dudweis, expertis, alpha, destroy, ignor",
          "<b>Topic 2</b><br>Words: amd, nvda, nvidia, intc, card",
          "<b>Topic 2</b><br>Words: amd, desper, ftw, tmfaeassa, offic",
          "<b>Topic 2</b><br>Words: good, look, amd, nvda, nvidia",
          "<b>Topic 2</b><br>Words: nvidia, ajtrd, impact, store, direct",
          "<b>Topic 2</b><br>Words: tmfaeassa, amd, pump, knock, panic",
          "<b>Topic 2</b><br>Words: underpr, autumn, compar, seem, lot",
          "<b>Topic 2</b><br>Words: pac, underperform, crest, downgrad, nvidia",
          "<b>Topic 2</b><br>Words: nividea, leader, promis, industri, semiconductor",
          "<b>Topic 2</b><br>Words: pacif, crest, neg, nvidia, nvda",
          "<b>Topic 2</b><br>Words: amd, video, card, wilfriedkais, twice",
          "<b>Topic 2</b><br>Words: miss, corpor, estim, revenu, beat",
          "<b>Topic 2</b><br>Words: member, coil, cooper, cern, readi",
          "<b>Topic 2</b><br>Words: newli, product, releas, bad, beat",
          "<b>Topic 2</b><br>Words: amd, ralli, taken, control, system",
          "<b>Topic 2</b><br>Words: fall, love, hard, nvidia, good",
          "<b>Topic 2</b><br>Words: weird, candl, let, last, want",
          "<b>Topic 2</b><br>Words: amd, imac, lev, pwr, tdp",
          "<b>Topic 2</b><br>Words: chatter, intc, intel, amd, dip",
          "<b>Topic 2</b><br>Words: consum, holiday, season, offer, quarter",
          "<b>Topic 2</b><br>Words: someth, final, nvidia, nvda, amd",
          "<b>Topic 2</b><br>Words: special, within, quiet, forward, someth",
          "<b>Topic 2</b><br>Words: pacif, crest, upgrad, nvidia, corp",
          "<b>Topic 2</b><br>Words: think, gon, na, nvidia, advanc",
          "<b>Topic 2</b><br>Words: engin, bro, optim, ubi, worth",
          "<b>Topic 2</b><br>Words: ram, duplic, neither, killer, fulli",
          "<b>Topic 2</b><br>Words: smelli, troll, behav, marri, except",
          "<b>Topic 2</b><br>Words: assum, bk, hire, profession, within",
          "<b>Topic 2</b><br>Words: hbm, round, automat, nvida, noth",
          "<b>Topic 2</b><br>Words: make, zen, stomp, quotbut, igpu",
          "<b>Topic 2</b><br>Words: aquir, oppos, prepar, intel, rumor",
          "<b>Topic 2</b><br>Words: blow, jump, result, nvidia, nvda",
          "<b>Topic 2</b><br>Words: mbli, quotse, daytrad, fargo, defend",
          "<b>Topic 2</b><br>Words: goe, let, consol, announc, hope",
          "<b>Topic 2</b><br>Words: avt, arw, adi, glw, notabl",
          "<b>Topic 2</b><br>Words: desmondmil, poweruhvon, tv, digit, stream",
          "<b>Topic 2</b><br>Words: ton, yr, boom, product, use",
          "<b>Topic 2</b><br>Words: vnq, hk, tck, unusu, invn",
          "<b>Topic 2</b><br>Words: client, acct, qq, drastic, stole",
          "<b>Topic 2</b><br>Words: chamber, ellison, steve, john, larri",
          "<b>Topic 2</b><br>Words: extent, inform, nasdaq, gain, nvidia",
          "<b>Topic 2</b><br>Words: fx, concern, therer, qampasanjay, cours",
          "<b>Topic 2</b><br>Words: amba, regret, drag, today, rock"
         ],
         "marker": {
          "color": "#009E73"
         },
         "mode": "lines",
         "name": "2_amd_nvidia_nvda_intc",
         "type": "scatter",
         "x": [
          "2013-04-11T00:00:00",
          "2013-04-12T00:00:00",
          "2013-04-15T00:00:00",
          "2013-04-23T00:00:00",
          "2013-04-24T00:00:00",
          "2013-04-25T00:00:00",
          "2013-04-30T00:00:00",
          "2013-05-04T00:00:00",
          "2013-05-09T00:00:00",
          "2013-05-14T00:00:00",
          "2013-05-16T00:00:00",
          "2013-05-21T00:00:00",
          "2013-06-10T00:00:00",
          "2013-06-18T00:00:00",
          "2013-06-19T00:00:00",
          "2013-06-26T00:00:00",
          "2013-07-25T00:00:00",
          "2013-07-31T00:00:00",
          "2013-08-08T00:00:00",
          "2013-08-09T00:00:00",
          "2013-09-09T00:00:00",
          "2013-09-29T00:00:00",
          "2013-10-05T00:00:00",
          "2013-10-07T00:00:00",
          "2013-10-10T00:00:00",
          "2013-10-15T00:00:00",
          "2013-10-19T00:00:00",
          "2013-10-20T00:00:00",
          "2013-10-24T00:00:00",
          "2013-10-31T00:00:00",
          "2013-11-07T00:00:00",
          "2013-11-08T00:00:00",
          "2013-11-11T00:00:00",
          "2013-11-13T00:00:00",
          "2013-11-14T00:00:00",
          "2013-11-15T00:00:00",
          "2013-11-18T00:00:00",
          "2013-11-20T00:00:00",
          "2013-11-26T00:00:00",
          "2013-12-05T00:00:00",
          "2013-12-08T00:00:00",
          "2014-01-07T00:00:00",
          "2014-01-13T00:00:00",
          "2014-01-14T00:00:00",
          "2014-01-15T00:00:00",
          "2014-01-17T00:00:00",
          "2014-01-21T00:00:00",
          "2014-02-03T00:00:00",
          "2014-02-10T00:00:00",
          "2014-02-12T00:00:00",
          "2014-02-13T00:00:00",
          "2014-02-14T00:00:00",
          "2014-03-05T00:00:00",
          "2014-03-08T00:00:00",
          "2014-03-19T00:00:00",
          "2014-03-24T00:00:00",
          "2014-03-25T00:00:00",
          "2014-03-27T00:00:00",
          "2014-04-03T00:00:00",
          "2014-04-04T00:00:00",
          "2014-04-08T00:00:00",
          "2014-04-10T00:00:00",
          "2014-04-16T00:00:00",
          "2014-04-17T00:00:00",
          "2014-04-25T00:00:00",
          "2014-05-06T00:00:00",
          "2014-05-08T00:00:00",
          "2014-05-19T00:00:00",
          "2014-05-20T00:00:00",
          "2014-05-22T00:00:00",
          "2014-05-28T00:00:00",
          "2014-06-06T00:00:00",
          "2014-06-11T00:00:00",
          "2014-06-17T00:00:00",
          "2014-06-19T00:00:00",
          "2014-06-20T00:00:00",
          "2014-06-23T00:00:00",
          "2014-06-30T00:00:00",
          "2014-07-22T00:00:00",
          "2014-08-07T00:00:00",
          "2014-08-09T00:00:00",
          "2014-09-01T00:00:00",
          "2014-09-18T00:00:00",
          "2014-10-01T00:00:00",
          "2014-10-10T00:00:00",
          "2014-10-15T00:00:00",
          "2014-10-16T00:00:00",
          "2014-10-21T00:00:00",
          "2014-10-28T00:00:00",
          "2014-10-29T00:00:00",
          "2014-11-02T00:00:00",
          "2014-11-03T00:00:00",
          "2014-11-06T00:00:00",
          "2014-11-14T00:00:00",
          "2014-11-18T00:00:00",
          "2014-11-20T00:00:00",
          "2015-01-13T00:00:00",
          "2015-01-21T00:00:00",
          "2015-01-27T00:00:00",
          "2015-02-02T00:00:00",
          "2015-02-11T00:00:00",
          "2015-03-02T00:00:00",
          "2015-03-04T00:00:00",
          "2015-03-25T00:00:00",
          "2015-03-26T00:00:00",
          "2015-03-27T00:00:00",
          "2015-03-31T00:00:00",
          "2015-04-28T00:00:00",
          "2015-05-04T00:00:00",
          "2015-05-05T00:00:00",
          "2015-05-07T00:00:00",
          "2015-05-08T00:00:00"
         ],
         "y": [
          2,
          1,
          2,
          1,
          1,
          3,
          1,
          1,
          1,
          2,
          2,
          1,
          1,
          2,
          2,
          1,
          1,
          1,
          2,
          1,
          1,
          1,
          1,
          2,
          1,
          1,
          3,
          1,
          1,
          1,
          4,
          4,
          1,
          4,
          2,
          1,
          2,
          1,
          1,
          1,
          1,
          1,
          1,
          1,
          1,
          2,
          1,
          1,
          1,
          2,
          4,
          2,
          1,
          1,
          1,
          1,
          2,
          3,
          1,
          1,
          1,
          1,
          1,
          1,
          1,
          1,
          2,
          1,
          1,
          1,
          1,
          2,
          1,
          2,
          3,
          1,
          1,
          1,
          1,
          3,
          1,
          1,
          1,
          2,
          1,
          2,
          2,
          5,
          1,
          1,
          1,
          2,
          4,
          1,
          1,
          1,
          1,
          2,
          2,
          1,
          1,
          1,
          1,
          1,
          1,
          1,
          1,
          1,
          1,
          1,
          2,
          1
         ]
        },
        {
         "hoverinfo": "text",
         "hovertext": [
          "<b>Topic 3</b><br>Words: qcom, remind, caution, sister, attack",
          "<b>Topic 3</b><br>Words: chip, silvermont, consumpt, unveil, electr",
          "<b>Topic 3</b><br>Words: premarket, mcp, ubnt, xin, cali",
          "<b>Topic 3</b><br>Words: fcx, earli, fslr, premarket, mover",
          "<b>Topic 3</b><br>Words: mpu, supllier, fsl, samsung, txn",
          "<b>Topic 3</b><br>Words: usdjpi, upl, gbpusd, audusd, ssi",
          "<b>Topic 3</b><br>Words: supplier, said, rt, surfac, remain",
          "<b>Topic 3</b><br>Words: specul, newer, stupidstock, surfac, contract",
          "<b>Topic 3</b><br>Words: vendor, subsidi, attract, ic, impli",
          "<b>Topic 3</b><br>Words: uvxi, ambc, ceco, anr, hk",
          "<b>Topic 3</b><br>Words: easi, watchstudi, difficulti, scraper, med",
          "<b>Topic 3</b><br>Words: rptp, sluggish, jcp, amrn, demand",
          "<b>Topic 3</b><br>Words: lgf, yoku, rax, watch, loke",
          "<b>Topic 3</b><br>Words: gg, epay, srpt, imgn, tue",
          "<b>Topic 3</b><br>Words: fu, flex, mpel, aig, kog",
          "<b>Topic 3</b><br>Words: cop, ulta, cur, nq, vphm",
          "<b>Topic 3</b><br>Words: boil, lfe, sso, edz, efii",
          "<b>Topic 3</b><br>Words: season, wyn, esv, gnw, amt",
          "<b>Topic 3</b><br>Words: ci, cmi, fti, unh, ctx",
          "<b>Topic 3</b><br>Words: trmr, cvc, premkt, lgf, unxl",
          "<b>Topic 3</b><br>Words: ti, eventu, zero, luck, rock",
          "<b>Topic 3</b><br>Words: icld, jk, bax, penn, mobi",
          "<b>Topic 3</b><br>Words: armh, txn, qcom, simultan, octa",
          "<b>Topic 3</b><br>Words: manag, confirm, partnership, squeez, neon",
          "<b>Topic 3</b><br>Words: lnvgf, relationship, ongo, found, web",
          "<b>Topic 3</b><br>Words: mip, manufactur, wdesign, hardrowtoho, atom",
          "<b>Topic 3</b><br>Words: angi, gt, csco, gnrc, avp",
          "<b>Topic 3</b><br>Words: apa, bsmx, grmn, lsi, cbl",
          "<b>Topic 3</b><br>Words: xray, foxa, cmcsa, spl, ddd",
          "<b>Topic 3</b><br>Words: acquir, predict, within, amba, per",
          "<b>Topic 3</b><br>Words: mbt, ftr, pva, jaso, obv",
          "<b>Topic 3</b><br>Words: quothertcapit, gbx, abf, saia, newp",
          "<b>Topic 3</b><br>Words: exel, disclosur, etrd, kmda, usg",
          "<b>Topic 3</b><br>Words: br, dbd, ggp, cit, bmr",
          "<b>Topic 3</b><br>Words: crazi, fli, space, sndk, smh",
          "<b>Topic 3</b><br>Words: rsg, cstm, cnp, bah, cpn",
          "<b>Topic 3</b><br>Words: suitor, logicalreason, mix, hmmm, qcom",
          "<b>Topic 3</b><br>Words: gui, review, phone, compar, technic",
          "<b>Topic 3</b><br>Words: pxlw, gen, aapl, bid, qcom",
          "<b>Topic 3</b><br>Words: sphone, yoy, global, app, processor",
          "<b>Topic 3</b><br>Words: tkmr, scti, mcd, alright, bcrx",
          "<b>Topic 3</b><br>Words: woof, amx, rg, pnk, peg",
          "<b>Topic 3</b><br>Words: instrument, texa, altera, model, stmicroelectron",
          "<b>Topic 3</b><br>Words: rexr, nnn, pcg, scg, mwv",
          "<b>Topic 3</b><br>Words: stm, rlj, categori, smci, seic",
          "<b>Topic 3</b><br>Words: rprx, mrc, loco, rmti, tkmr",
          "<b>Topic 3</b><br>Words: weeklystockchart, xsd, hey, jd, rfmd",
          "<b>Topic 3</b><br>Words: ivz, jah, lm, hig, rhp",
          "<b>Topic 3</b><br>Words: energi, cray, depart, supercomput, mlnx",
          "<b>Topic 3</b><br>Words: spr, snp, stwd, pgr, petm",
          "<b>Topic 3</b><br>Words: lbti, pacw, len, mwv, lii",
          "<b>Topic 3</b><br>Words: lho, hcn, kmi, hiw, hsp",
          "<b>Topic 3</b><br>Words: qvca, mkc, nv, pld, pgr",
          "<b>Topic 3</b><br>Words: krc, hrb, itw, mscc, hsp",
          "<b>Topic 3</b><br>Words: pkg, mscc, lii, ppc, md",
          "<b>Topic 3</b><br>Words: rmd, pnc, pld, rjf, pcg",
          "<b>Topic 3</b><br>Words: rockstarfish, tho, imagin, tdp, scari",
          "<b>Topic 3</b><br>Words: trip, fey, csco, wwe, lgci",
          "<b>Topic 3</b><br>Words: svu, scmp, hptx, gy, hammer",
          "<b>Topic 3</b><br>Words: disca, jbt, zinc, decreas, ftk",
          "<b>Topic 3</b><br>Words: teva, thc, prta, dvax, imgn",
          "<b>Topic 3</b><br>Words: vip, ashr, lvlt, dax, shortwatch",
          "<b>Topic 3</b><br>Words: cnat, cmcm, chr, nmbl, mxpt",
          "<b>Topic 3</b><br>Words: logi, amzn, msft, aapl, roundup",
          "<b>Topic 3</b><br>Words: lake, dgli, va, wix, newr",
          "<b>Topic 3</b><br>Words: ckec, ua, lmt, rave, ftnt",
          "<b>Topic 3</b><br>Words: fcau, vsto, va, wix, mxpt",
          "<b>Topic 3</b><br>Words: crush, xiaomi, googl, gpro, competit",
          "<b>Topic 3</b><br>Words: data, cybr, aol, hznp, ubnt"
         ],
         "marker": {
          "color": "#F0E442"
         },
         "mode": "lines",
         "name": "3_qcom_watch_premarket_nvda",
         "type": "scatter",
         "x": [
          "2013-04-24T00:00:00",
          "2013-05-07T00:00:00",
          "2013-05-10T00:00:00",
          "2013-05-14T00:00:00",
          "2013-05-23T00:00:00",
          "2013-05-30T00:00:00",
          "2013-06-18T00:00:00",
          "2013-06-19T00:00:00",
          "2013-06-24T00:00:00",
          "2013-07-14T00:00:00",
          "2013-07-19T00:00:00",
          "2013-08-08T00:00:00",
          "2013-08-09T00:00:00",
          "2013-08-16T00:00:00",
          "2013-09-12T00:00:00",
          "2013-09-15T00:00:00",
          "2013-10-21T00:00:00",
          "2013-10-28T00:00:00",
          "2013-10-29T00:00:00",
          "2013-11-08T00:00:00",
          "2013-11-13T00:00:00",
          "2013-11-18T00:00:00",
          "2013-11-22T00:00:00",
          "2014-01-14T00:00:00",
          "2014-01-17T00:00:00",
          "2014-01-18T00:00:00",
          "2014-02-13T00:00:00",
          "2014-02-20T00:00:00",
          "2014-02-24T00:00:00",
          "2014-03-09T00:00:00",
          "2014-03-19T00:00:00",
          "2014-03-27T00:00:00",
          "2014-04-01T00:00:00",
          "2014-04-02T00:00:00",
          "2014-04-03T00:00:00",
          "2014-04-14T00:00:00",
          "2014-04-15T00:00:00",
          "2014-06-18T00:00:00",
          "2014-07-29T00:00:00",
          "2014-08-07T00:00:00",
          "2014-08-08T00:00:00",
          "2014-09-24T00:00:00",
          "2014-10-31T00:00:00",
          "2014-11-05T00:00:00",
          "2014-11-06T00:00:00",
          "2014-11-07T00:00:00",
          "2014-11-08T00:00:00",
          "2014-11-09T00:00:00",
          "2014-11-17T00:00:00",
          "2014-11-24T00:00:00",
          "2014-11-26T00:00:00",
          "2014-11-28T00:00:00",
          "2014-11-30T00:00:00",
          "2014-12-04T00:00:00",
          "2014-12-05T00:00:00",
          "2014-12-08T00:00:00",
          "2015-01-28T00:00:00",
          "2015-02-12T00:00:00",
          "2015-03-11T00:00:00",
          "2015-03-20T00:00:00",
          "2015-03-23T00:00:00",
          "2015-03-24T00:00:00",
          "2015-03-28T00:00:00",
          "2015-03-30T00:00:00",
          "2015-04-09T00:00:00",
          "2015-04-20T00:00:00",
          "2015-04-23T00:00:00",
          "2015-04-30T00:00:00",
          "2015-05-08T00:00:00"
         ],
         "y": [
          1,
          1,
          3,
          1,
          1,
          1,
          2,
          1,
          1,
          1,
          1,
          2,
          3,
          1,
          1,
          1,
          1,
          1,
          1,
          1,
          1,
          1,
          2,
          1,
          1,
          1,
          4,
          1,
          1,
          1,
          1,
          1,
          3,
          1,
          1,
          1,
          1,
          1,
          2,
          1,
          2,
          1,
          1,
          1,
          2,
          1,
          1,
          1,
          1,
          1,
          1,
          1,
          1,
          1,
          1,
          1,
          1,
          4,
          1,
          2,
          1,
          1,
          1,
          2,
          1,
          1,
          1,
          1,
          5
         ]
        },
        {
         "hoverinfo": "text",
         "hovertext": [
          "<b>Topic 4</b><br>Words: ep, report, versu, estim, vs",
          "<b>Topic 4</b><br>Words: vs, ep, est, rev, estim",
          "<b>Topic 4</b><br>Words: est, ep, privat, revenu, vs",
          "<b>Topic 4</b><br>Words: ep, versu, estim, report, quarter",
          "<b>Topic 4</b><br>Words: vs, est, ep, report, nvidia",
          "<b>Topic 4</b><br>Words: ep, vs, versu, report, estim",
          "<b>Topic 4</b><br>Words: est, vs, corpor, ep, report",
          "<b>Topic 4</b><br>Words: fidel, vs, report, ep, est",
          "<b>Topic 4</b><br>Words: est, vs, ep, report, sale",
          "<b>Topic 4</b><br>Words: ep, est, vs, revenu, sale"
         ],
         "marker": {
          "color": "#D55E00"
         },
         "mode": "lines",
         "name": "4_vs_ep_est_report",
         "type": "scatter",
         "x": [
          "2013-05-09T00:00:00",
          "2013-08-08T00:00:00",
          "2013-08-09T00:00:00",
          "2013-11-07T00:00:00",
          "2014-02-12T00:00:00",
          "2014-05-08T00:00:00",
          "2014-08-07T00:00:00",
          "2014-11-06T00:00:00",
          "2015-02-11T00:00:00",
          "2015-05-07T00:00:00"
         ],
         "y": [
          2,
          6,
          1,
          1,
          6,
          3,
          3,
          1,
          1,
          2
         ]
        },
        {
         "hoverinfo": "text",
         "hovertext": [
          "<b>Topic 5</b><br>Words: sol, mela, timber, lift, kndi",
          "<b>Topic 5</b><br>Words: dv, ndl, rax, pcln, bell",
          "<b>Topic 5</b><br>Words: bell, bcei, bnni, bebe, atl",
          "<b>Topic 5</b><br>Words: pcln, earn, grpn, bnni, xtex",
          "<b>Topic 5</b><br>Words: cv, dp, rax, rai, de",
          "<b>Topic 5</b><br>Words: mdlz, ntap, wfm, amat, earn",
          "<b>Topic 5</b><br>Words: csc, nwsa, mdrx, znga, notabl",
          "<b>Topic 5</b><br>Words: bell, nwsa, ed, slxp, cfn",
          "<b>Topic 5</b><br>Words: vvu, sppi, elx, meli, mdvn",
          "<b>Topic 5</b><br>Words: bell, csc, igt, ed, rig",
          "<b>Topic 5</b><br>Words: bell, pnra, bidu, earn, ntap",
          "<b>Topic 5</b><br>Words: bell, earn, moh, mnst, lbtya"
         ],
         "marker": {
          "color": "#0072B2"
         },
         "mode": "lines",
         "name": "5_earn_bell_mnst_cb",
         "type": "scatter",
         "x": [
          "2013-07-22T00:00:00",
          "2013-08-08T00:00:00",
          "2013-11-06T00:00:00",
          "2013-11-07T00:00:00",
          "2014-02-07T00:00:00",
          "2014-02-12T00:00:00",
          "2014-08-06T00:00:00",
          "2014-08-07T00:00:00",
          "2014-08-08T00:00:00",
          "2014-11-06T00:00:00",
          "2015-02-11T00:00:00",
          "2015-05-07T00:00:00"
         ],
         "y": [
          1,
          3,
          1,
          3,
          1,
          2,
          1,
          4,
          1,
          1,
          2,
          3
         ]
        },
        {
         "hoverinfo": "text",
         "hovertext": [
          "<b>Topic 6</b><br>Words: game, decid, intl, killer, abl",
          "<b>Topic 6</b><br>Words: truecharttrad, hasona, snap, dragon, xbox",
          "<b>Topic 6</b><br>Words: game, graphicchip, retail, os, handheld",
          "<b>Topic 6</b><br>Words: toptier, anddroid, version, choos, tablet",
          "<b>Topic 6</b><br>Words: game, crowd, wawa, changerquot, ouya",
          "<b>Topic 6</b><br>Words: gamer, switch, tablet, consol, play",
          "<b>Topic 6</b><br>Words: game, pc, cloud, consol, amzn",
          "<b>Topic 6</b><br>Words: game, mattrick, choic, android, platform",
          "<b>Topic 6</b><br>Words: googogogo, oculu, crappi, tablet, pc",
          "<b>Topic 6</b><br>Words: game, call, grow, launch, platform",
          "<b>Topic 6</b><br>Words: game, pc, socigpu, mainstream, laptop",
          "<b>Topic 6</b><br>Words: digitalcloud, andor, soni, game, look",
          "<b>Topic 6</b><br>Words: awesom, realli, game, portabl, googl",
          "<b>Topic 6</b><br>Words: game, yoveri, cfo, shield, revenu"
         ],
         "marker": {
          "color": "#CC79A7"
         },
         "mode": "lines",
         "name": "6_game_pc_shield_tablet",
         "type": "scatter",
         "x": [
          "2013-04-15T00:00:00",
          "2013-04-24T00:00:00",
          "2013-05-15T00:00:00",
          "2013-05-31T00:00:00",
          "2013-06-02T00:00:00",
          "2013-11-01T00:00:00",
          "2013-11-15T00:00:00",
          "2014-02-01T00:00:00",
          "2014-03-25T00:00:00",
          "2014-08-07T00:00:00",
          "2014-09-08T00:00:00",
          "2014-11-22T00:00:00",
          "2014-12-01T00:00:00",
          "2015-05-07T00:00:00"
         ],
         "y": [
          1,
          2,
          1,
          1,
          1,
          1,
          2,
          1,
          1,
          5,
          1,
          1,
          1,
          3
         ]
        },
        {
         "hoverinfo": "text",
         "hovertext": [
          "<b>Topic 7</b><br>Words: kpluf, irg, adc, bc, jec",
          "<b>Topic 7</b><br>Words: amdquot, quotstockoptionexpert, rht, akam, inform",
          "<b>Topic 7</b><br>Words: voya, rvbd, enoc, bwld, slgt",
          "<b>Topic 7</b><br>Words: bnpqi, cma, cenx, blmn, ssl",
          "<b>Topic 7</b><br>Words: lea, mat, gs, ne, nsc",
          "<b>Topic 7</b><br>Words: osgiq, wdr, ual, dnn, cfr",
          "<b>Topic 7</b><br>Words: street, itmn, arex, bin, apog",
          "<b>Topic 7</b><br>Words: ag, quotboerja, ub, outperform, upgrad",
          "<b>Topic 7</b><br>Words: jnpr, eog, downgrad, ango, ppo",
          "<b>Topic 7</b><br>Words: mea, caj, brgyy, aflyy, gabc",
          "<b>Topic 7</b><br>Words: performquot, quotsector, downgrad, street, quotunderperformquot",
          "<b>Topic 7</b><br>Words: agn, upgrad, downgrad, street, mnst",
          "<b>Topic 7</b><br>Words: amp, pot, cv, rht, downgrad",
          "<b>Topic 7</b><br>Words: leco, azo, ziop, downgrad, mpel",
          "<b>Topic 7</b><br>Words: ak, dov, wcc, gww, biib",
          "<b>Topic 7</b><br>Words: epe, ubnt, ale, fldm, hii"
         ],
         "marker": {
          "color": "#E69F00"
         },
         "mode": "lines",
         "name": "7_downgrad_street_upgrad_amp",
         "type": "scatter",
         "x": [
          "2013-07-31T00:00:00",
          "2013-11-13T00:00:00",
          "2014-01-09T00:00:00",
          "2014-01-21T00:00:00",
          "2014-02-03T00:00:00",
          "2014-04-01T00:00:00",
          "2014-05-19T00:00:00",
          "2014-06-10T00:00:00",
          "2014-06-19T00:00:00",
          "2014-06-20T00:00:00",
          "2014-06-23T00:00:00",
          "2014-08-08T00:00:00",
          "2014-12-19T00:00:00",
          "2015-03-10T00:00:00",
          "2015-03-23T00:00:00",
          "2015-05-08T00:00:00"
         ],
         "y": [
          1,
          1,
          1,
          1,
          1,
          1,
          1,
          1,
          2,
          1,
          2,
          2,
          1,
          1,
          1,
          1
         ]
        },
        {
         "hoverinfo": "text",
         "hovertext": [
          "<b>Topic 8</b><br>Words: swing, area, target, bought, trade",
          "<b>Topic 8</b><br>Words: swing, target, trade, new, short",
          "<b>Topic 8</b><br>Words: wild, swing, nvda, trade, long",
          "<b>Topic 8</b><br>Words: swing, nvda, trade, long, swingingthenys",
          "<b>Topic 8</b><br>Words: swing, short, nvda, trade, long",
          "<b>Topic 8</b><br>Words: swingingthenys, swing, present, biz, recommend",
          "<b>Topic 8</b><br>Words: swing, quick, short, see, nvda",
          "<b>Topic 8</b><br>Words: swing, ffiv, idea, pullback, long",
          "<b>Topic 8</b><br>Words: swing, look, revers, could, posit",
          "<b>Topic 8</b><br>Words: swing, look, enter, might, keep",
          "<b>Topic 8</b><br>Words: swing, breakeven, decid, might, start",
          "<b>Topic 8</b><br>Words: swing, week, mild, act, hcp",
          "<b>Topic 8</b><br>Words: swing, straight, kill, cheap, jump",
          "<b>Topic 8</b><br>Words: swing, nvax, possibl, long, today"
         ],
         "marker": {
          "color": "#56B4E9"
         },
         "mode": "lines",
         "name": "8_swing_trade_long_swingingthenys",
         "type": "scatter",
         "x": [
          "2013-05-30T00:00:00",
          "2013-06-13T00:00:00",
          "2013-08-08T00:00:00",
          "2013-09-11T00:00:00",
          "2014-01-08T00:00:00",
          "2014-02-12T00:00:00",
          "2014-02-14T00:00:00",
          "2014-08-19T00:00:00",
          "2014-12-15T00:00:00",
          "2014-12-17T00:00:00",
          "2015-02-09T00:00:00",
          "2015-03-20T00:00:00",
          "2015-03-25T00:00:00",
          "2015-03-30T00:00:00"
         ],
         "y": [
          1,
          1,
          1,
          1,
          1,
          2,
          1,
          2,
          1,
          1,
          1,
          1,
          1,
          1
         ]
        }
       ],
       "layout": {
        "height": 450,
        "hoverlabel": {
         "bgcolor": "white",
         "font": {
          "family": "Rockwell",
          "size": 16
         }
        },
        "legend": {
         "title": {
          "text": "<b>Global Topic Representation"
         }
        },
        "template": {
         "data": {
          "bar": [
           {
            "error_x": {
             "color": "rgb(36,36,36)"
            },
            "error_y": {
             "color": "rgb(36,36,36)"
            },
            "marker": {
             "line": {
              "color": "white",
              "width": 0.5
             },
             "pattern": {
              "fillmode": "overlay",
              "size": 10,
              "solidity": 0.2
             }
            },
            "type": "bar"
           }
          ],
          "barpolar": [
           {
            "marker": {
             "line": {
              "color": "white",
              "width": 0.5
             },
             "pattern": {
              "fillmode": "overlay",
              "size": 10,
              "solidity": 0.2
             }
            },
            "type": "barpolar"
           }
          ],
          "carpet": [
           {
            "aaxis": {
             "endlinecolor": "rgb(36,36,36)",
             "gridcolor": "white",
             "linecolor": "white",
             "minorgridcolor": "white",
             "startlinecolor": "rgb(36,36,36)"
            },
            "baxis": {
             "endlinecolor": "rgb(36,36,36)",
             "gridcolor": "white",
             "linecolor": "white",
             "minorgridcolor": "white",
             "startlinecolor": "rgb(36,36,36)"
            },
            "type": "carpet"
           }
          ],
          "choropleth": [
           {
            "colorbar": {
             "outlinewidth": 1,
             "tickcolor": "rgb(36,36,36)",
             "ticks": "outside"
            },
            "type": "choropleth"
           }
          ],
          "contour": [
           {
            "colorbar": {
             "outlinewidth": 1,
             "tickcolor": "rgb(36,36,36)",
             "ticks": "outside"
            },
            "colorscale": [
             [
              0,
              "#440154"
             ],
             [
              0.1111111111111111,
              "#482878"
             ],
             [
              0.2222222222222222,
              "#3e4989"
             ],
             [
              0.3333333333333333,
              "#31688e"
             ],
             [
              0.4444444444444444,
              "#26828e"
             ],
             [
              0.5555555555555556,
              "#1f9e89"
             ],
             [
              0.6666666666666666,
              "#35b779"
             ],
             [
              0.7777777777777778,
              "#6ece58"
             ],
             [
              0.8888888888888888,
              "#b5de2b"
             ],
             [
              1,
              "#fde725"
             ]
            ],
            "type": "contour"
           }
          ],
          "contourcarpet": [
           {
            "colorbar": {
             "outlinewidth": 1,
             "tickcolor": "rgb(36,36,36)",
             "ticks": "outside"
            },
            "type": "contourcarpet"
           }
          ],
          "heatmap": [
           {
            "colorbar": {
             "outlinewidth": 1,
             "tickcolor": "rgb(36,36,36)",
             "ticks": "outside"
            },
            "colorscale": [
             [
              0,
              "#440154"
             ],
             [
              0.1111111111111111,
              "#482878"
             ],
             [
              0.2222222222222222,
              "#3e4989"
             ],
             [
              0.3333333333333333,
              "#31688e"
             ],
             [
              0.4444444444444444,
              "#26828e"
             ],
             [
              0.5555555555555556,
              "#1f9e89"
             ],
             [
              0.6666666666666666,
              "#35b779"
             ],
             [
              0.7777777777777778,
              "#6ece58"
             ],
             [
              0.8888888888888888,
              "#b5de2b"
             ],
             [
              1,
              "#fde725"
             ]
            ],
            "type": "heatmap"
           }
          ],
          "heatmapgl": [
           {
            "colorbar": {
             "outlinewidth": 1,
             "tickcolor": "rgb(36,36,36)",
             "ticks": "outside"
            },
            "colorscale": [
             [
              0,
              "#440154"
             ],
             [
              0.1111111111111111,
              "#482878"
             ],
             [
              0.2222222222222222,
              "#3e4989"
             ],
             [
              0.3333333333333333,
              "#31688e"
             ],
             [
              0.4444444444444444,
              "#26828e"
             ],
             [
              0.5555555555555556,
              "#1f9e89"
             ],
             [
              0.6666666666666666,
              "#35b779"
             ],
             [
              0.7777777777777778,
              "#6ece58"
             ],
             [
              0.8888888888888888,
              "#b5de2b"
             ],
             [
              1,
              "#fde725"
             ]
            ],
            "type": "heatmapgl"
           }
          ],
          "histogram": [
           {
            "marker": {
             "line": {
              "color": "white",
              "width": 0.6
             }
            },
            "type": "histogram"
           }
          ],
          "histogram2d": [
           {
            "colorbar": {
             "outlinewidth": 1,
             "tickcolor": "rgb(36,36,36)",
             "ticks": "outside"
            },
            "colorscale": [
             [
              0,
              "#440154"
             ],
             [
              0.1111111111111111,
              "#482878"
             ],
             [
              0.2222222222222222,
              "#3e4989"
             ],
             [
              0.3333333333333333,
              "#31688e"
             ],
             [
              0.4444444444444444,
              "#26828e"
             ],
             [
              0.5555555555555556,
              "#1f9e89"
             ],
             [
              0.6666666666666666,
              "#35b779"
             ],
             [
              0.7777777777777778,
              "#6ece58"
             ],
             [
              0.8888888888888888,
              "#b5de2b"
             ],
             [
              1,
              "#fde725"
             ]
            ],
            "type": "histogram2d"
           }
          ],
          "histogram2dcontour": [
           {
            "colorbar": {
             "outlinewidth": 1,
             "tickcolor": "rgb(36,36,36)",
             "ticks": "outside"
            },
            "colorscale": [
             [
              0,
              "#440154"
             ],
             [
              0.1111111111111111,
              "#482878"
             ],
             [
              0.2222222222222222,
              "#3e4989"
             ],
             [
              0.3333333333333333,
              "#31688e"
             ],
             [
              0.4444444444444444,
              "#26828e"
             ],
             [
              0.5555555555555556,
              "#1f9e89"
             ],
             [
              0.6666666666666666,
              "#35b779"
             ],
             [
              0.7777777777777778,
              "#6ece58"
             ],
             [
              0.8888888888888888,
              "#b5de2b"
             ],
             [
              1,
              "#fde725"
             ]
            ],
            "type": "histogram2dcontour"
           }
          ],
          "mesh3d": [
           {
            "colorbar": {
             "outlinewidth": 1,
             "tickcolor": "rgb(36,36,36)",
             "ticks": "outside"
            },
            "type": "mesh3d"
           }
          ],
          "parcoords": [
           {
            "line": {
             "colorbar": {
              "outlinewidth": 1,
              "tickcolor": "rgb(36,36,36)",
              "ticks": "outside"
             }
            },
            "type": "parcoords"
           }
          ],
          "pie": [
           {
            "automargin": true,
            "type": "pie"
           }
          ],
          "scatter": [
           {
            "fillpattern": {
             "fillmode": "overlay",
             "size": 10,
             "solidity": 0.2
            },
            "type": "scatter"
           }
          ],
          "scatter3d": [
           {
            "line": {
             "colorbar": {
              "outlinewidth": 1,
              "tickcolor": "rgb(36,36,36)",
              "ticks": "outside"
             }
            },
            "marker": {
             "colorbar": {
              "outlinewidth": 1,
              "tickcolor": "rgb(36,36,36)",
              "ticks": "outside"
             }
            },
            "type": "scatter3d"
           }
          ],
          "scattercarpet": [
           {
            "marker": {
             "colorbar": {
              "outlinewidth": 1,
              "tickcolor": "rgb(36,36,36)",
              "ticks": "outside"
             }
            },
            "type": "scattercarpet"
           }
          ],
          "scattergeo": [
           {
            "marker": {
             "colorbar": {
              "outlinewidth": 1,
              "tickcolor": "rgb(36,36,36)",
              "ticks": "outside"
             }
            },
            "type": "scattergeo"
           }
          ],
          "scattergl": [
           {
            "marker": {
             "colorbar": {
              "outlinewidth": 1,
              "tickcolor": "rgb(36,36,36)",
              "ticks": "outside"
             }
            },
            "type": "scattergl"
           }
          ],
          "scattermapbox": [
           {
            "marker": {
             "colorbar": {
              "outlinewidth": 1,
              "tickcolor": "rgb(36,36,36)",
              "ticks": "outside"
             }
            },
            "type": "scattermapbox"
           }
          ],
          "scatterpolar": [
           {
            "marker": {
             "colorbar": {
              "outlinewidth": 1,
              "tickcolor": "rgb(36,36,36)",
              "ticks": "outside"
             }
            },
            "type": "scatterpolar"
           }
          ],
          "scatterpolargl": [
           {
            "marker": {
             "colorbar": {
              "outlinewidth": 1,
              "tickcolor": "rgb(36,36,36)",
              "ticks": "outside"
             }
            },
            "type": "scatterpolargl"
           }
          ],
          "scatterternary": [
           {
            "marker": {
             "colorbar": {
              "outlinewidth": 1,
              "tickcolor": "rgb(36,36,36)",
              "ticks": "outside"
             }
            },
            "type": "scatterternary"
           }
          ],
          "surface": [
           {
            "colorbar": {
             "outlinewidth": 1,
             "tickcolor": "rgb(36,36,36)",
             "ticks": "outside"
            },
            "colorscale": [
             [
              0,
              "#440154"
             ],
             [
              0.1111111111111111,
              "#482878"
             ],
             [
              0.2222222222222222,
              "#3e4989"
             ],
             [
              0.3333333333333333,
              "#31688e"
             ],
             [
              0.4444444444444444,
              "#26828e"
             ],
             [
              0.5555555555555556,
              "#1f9e89"
             ],
             [
              0.6666666666666666,
              "#35b779"
             ],
             [
              0.7777777777777778,
              "#6ece58"
             ],
             [
              0.8888888888888888,
              "#b5de2b"
             ],
             [
              1,
              "#fde725"
             ]
            ],
            "type": "surface"
           }
          ],
          "table": [
           {
            "cells": {
             "fill": {
              "color": "rgb(237,237,237)"
             },
             "line": {
              "color": "white"
             }
            },
            "header": {
             "fill": {
              "color": "rgb(217,217,217)"
             },
             "line": {
              "color": "white"
             }
            },
            "type": "table"
           }
          ]
         },
         "layout": {
          "annotationdefaults": {
           "arrowhead": 0,
           "arrowwidth": 1
          },
          "autotypenumbers": "strict",
          "coloraxis": {
           "colorbar": {
            "outlinewidth": 1,
            "tickcolor": "rgb(36,36,36)",
            "ticks": "outside"
           }
          },
          "colorscale": {
           "diverging": [
            [
             0,
             "rgb(103,0,31)"
            ],
            [
             0.1,
             "rgb(178,24,43)"
            ],
            [
             0.2,
             "rgb(214,96,77)"
            ],
            [
             0.3,
             "rgb(244,165,130)"
            ],
            [
             0.4,
             "rgb(253,219,199)"
            ],
            [
             0.5,
             "rgb(247,247,247)"
            ],
            [
             0.6,
             "rgb(209,229,240)"
            ],
            [
             0.7,
             "rgb(146,197,222)"
            ],
            [
             0.8,
             "rgb(67,147,195)"
            ],
            [
             0.9,
             "rgb(33,102,172)"
            ],
            [
             1,
             "rgb(5,48,97)"
            ]
           ],
           "sequential": [
            [
             0,
             "#440154"
            ],
            [
             0.1111111111111111,
             "#482878"
            ],
            [
             0.2222222222222222,
             "#3e4989"
            ],
            [
             0.3333333333333333,
             "#31688e"
            ],
            [
             0.4444444444444444,
             "#26828e"
            ],
            [
             0.5555555555555556,
             "#1f9e89"
            ],
            [
             0.6666666666666666,
             "#35b779"
            ],
            [
             0.7777777777777778,
             "#6ece58"
            ],
            [
             0.8888888888888888,
             "#b5de2b"
            ],
            [
             1,
             "#fde725"
            ]
           ],
           "sequentialminus": [
            [
             0,
             "#440154"
            ],
            [
             0.1111111111111111,
             "#482878"
            ],
            [
             0.2222222222222222,
             "#3e4989"
            ],
            [
             0.3333333333333333,
             "#31688e"
            ],
            [
             0.4444444444444444,
             "#26828e"
            ],
            [
             0.5555555555555556,
             "#1f9e89"
            ],
            [
             0.6666666666666666,
             "#35b779"
            ],
            [
             0.7777777777777778,
             "#6ece58"
            ],
            [
             0.8888888888888888,
             "#b5de2b"
            ],
            [
             1,
             "#fde725"
            ]
           ]
          },
          "colorway": [
           "#1F77B4",
           "#FF7F0E",
           "#2CA02C",
           "#D62728",
           "#9467BD",
           "#8C564B",
           "#E377C2",
           "#7F7F7F",
           "#BCBD22",
           "#17BECF"
          ],
          "font": {
           "color": "rgb(36,36,36)"
          },
          "geo": {
           "bgcolor": "white",
           "lakecolor": "white",
           "landcolor": "white",
           "showlakes": true,
           "showland": true,
           "subunitcolor": "white"
          },
          "hoverlabel": {
           "align": "left"
          },
          "hovermode": "closest",
          "mapbox": {
           "style": "light"
          },
          "paper_bgcolor": "white",
          "plot_bgcolor": "white",
          "polar": {
           "angularaxis": {
            "gridcolor": "rgb(232,232,232)",
            "linecolor": "rgb(36,36,36)",
            "showgrid": false,
            "showline": true,
            "ticks": "outside"
           },
           "bgcolor": "white",
           "radialaxis": {
            "gridcolor": "rgb(232,232,232)",
            "linecolor": "rgb(36,36,36)",
            "showgrid": false,
            "showline": true,
            "ticks": "outside"
           }
          },
          "scene": {
           "xaxis": {
            "backgroundcolor": "white",
            "gridcolor": "rgb(232,232,232)",
            "gridwidth": 2,
            "linecolor": "rgb(36,36,36)",
            "showbackground": true,
            "showgrid": false,
            "showline": true,
            "ticks": "outside",
            "zeroline": false,
            "zerolinecolor": "rgb(36,36,36)"
           },
           "yaxis": {
            "backgroundcolor": "white",
            "gridcolor": "rgb(232,232,232)",
            "gridwidth": 2,
            "linecolor": "rgb(36,36,36)",
            "showbackground": true,
            "showgrid": false,
            "showline": true,
            "ticks": "outside",
            "zeroline": false,
            "zerolinecolor": "rgb(36,36,36)"
           },
           "zaxis": {
            "backgroundcolor": "white",
            "gridcolor": "rgb(232,232,232)",
            "gridwidth": 2,
            "linecolor": "rgb(36,36,36)",
            "showbackground": true,
            "showgrid": false,
            "showline": true,
            "ticks": "outside",
            "zeroline": false,
            "zerolinecolor": "rgb(36,36,36)"
           }
          },
          "shapedefaults": {
           "fillcolor": "black",
           "line": {
            "width": 0
           },
           "opacity": 0.3
          },
          "ternary": {
           "aaxis": {
            "gridcolor": "rgb(232,232,232)",
            "linecolor": "rgb(36,36,36)",
            "showgrid": false,
            "showline": true,
            "ticks": "outside"
           },
           "baxis": {
            "gridcolor": "rgb(232,232,232)",
            "linecolor": "rgb(36,36,36)",
            "showgrid": false,
            "showline": true,
            "ticks": "outside"
           },
           "bgcolor": "white",
           "caxis": {
            "gridcolor": "rgb(232,232,232)",
            "linecolor": "rgb(36,36,36)",
            "showgrid": false,
            "showline": true,
            "ticks": "outside"
           }
          },
          "title": {
           "x": 0.05
          },
          "xaxis": {
           "automargin": true,
           "gridcolor": "rgb(232,232,232)",
           "linecolor": "rgb(36,36,36)",
           "showgrid": false,
           "showline": true,
           "ticks": "outside",
           "title": {
            "standoff": 15
           },
           "zeroline": false,
           "zerolinecolor": "rgb(36,36,36)"
          },
          "yaxis": {
           "automargin": true,
           "gridcolor": "rgb(232,232,232)",
           "linecolor": "rgb(36,36,36)",
           "showgrid": false,
           "showline": true,
           "ticks": "outside",
           "title": {
            "standoff": 15
           },
           "zeroline": false,
           "zerolinecolor": "rgb(36,36,36)"
          }
         }
        },
        "title": {
         "font": {
          "color": "Black",
          "size": 22
         },
         "text": "<b>Topics over Time</b>",
         "x": 0.4,
         "xanchor": "center",
         "y": 0.95,
         "yanchor": "top"
        },
        "width": 1250,
        "xaxis": {
         "showgrid": true
        },
        "yaxis": {
         "showgrid": true,
         "title": {
          "text": "Frequency"
         }
        }
       }
      }
     },
     "metadata": {},
     "output_type": "display_data"
    },
    {
     "name": "stdout",
     "output_type": "stream",
     "text": [
      "\n",
      "Top 5 Topics:\n",
      "\n",
      "Topic 0:\n",
      "[('nvda', 0.13291016140813292), ('move', 0.04030896703534943), ('long', 0.039227581134511656), ('look', 0.036080373968381776), ('go', 0.02996351549071963), ('breakout', 0.029718139467293236), ('volum', 0.029328233683603433), ('break', 0.02913041041288604), ('close', 0.02719790372265731), ('higher', 0.026981974988915157)]\n",
      "\n",
      "Topic 1:\n",
      "[('nvda', 0.07879447110630199), ('put', 0.07070406334974749), ('call', 0.07062451704577315), ('stock', 0.05756554232340894), ('trade', 0.05527999990951665), ('buyer', 0.052178638270279985), ('sell', 0.05139953606502459), ('profit', 0.04842456262162283), ('bought', 0.047633986497983005), ('sold', 0.04656032401846519)]\n",
      "\n",
      "Topic 2:\n",
      "[('amd', 0.1511872737436389), ('nvidia', 0.09097703026556488), ('nvda', 0.0612040346995198), ('intc', 0.050415009258859195), ('card', 0.03346854610144508), ('go', 0.03166986852439994), ('buy', 0.026204353758648696), ('share', 0.0242787892438721), ('drop', 0.0236909559772171), ('video', 0.023592137511711138)]\n",
      "\n",
      "Topic 3:\n",
      "[('qcom', 0.060942553862573405), ('watch', 0.052711230588762925), ('premarket', 0.03687121632079307), ('nvda', 0.036688021664887244), ('intc', 0.03428604526999401), ('list', 0.03427996550707725), ('part', 0.03164645860201464), ('long', 0.030225898704487886), ('mover', 0.027653412240594807), ('chip', 0.026727349944670364)]\n",
      "\n",
      "Topic 4:\n",
      "[('vs', 0.4296889354529085), ('ep', 0.39491161675414826), ('est', 0.3943364533779805), ('report', 0.23872637173371528), ('revenu', 0.16922850400468928), ('estim', 0.1643200077636386), ('rev', 0.15397931219593283), ('nvidia', 0.14634860569471764), ('corpor', 0.12937867718762103), ('iq', 0.10347461449595606)]\n"
     ]
    }
   ],
   "source": [
    "# Step 6: Results Evaluation\n",
    "import matplotlib.pyplot as plt\n",
    "\n",
    "# ---- 使用样本数据 df_sample，而不是 df ----\n",
    "# 如果你在试运行阶段只用了 500 条样本，记得保持一致！\n",
    "\n",
    "# 1. 查看主题信息（关键词和频率）\n",
    "print(topic_model.get_topic_info().head(10))     # top 10 topic 概览\n",
    "print(topic_model.get_topic(0))                  # 查看 topic 0 的关键词列表\n",
    "\n",
    "# 2. 可视化主题层级（有时帮助判断主题冗余）\n",
    "fig_hierarchy = topic_model.visualize_hierarchy()\n",
    "fig_hierarchy.show()\n",
    "\n",
    "# 3. 可视化主题分布（如主题频率柱状图）\n",
    "fig_barchart = topic_model.visualize_barchart(top_n_topics=10)\n",
    "fig_barchart.show()\n",
    "\n",
    "# 4. 可视化主题点云图（UMAP 降维后）\n",
    "fig_topics = topic_model.visualize_topics()\n",
    "fig_topics.show()\n",
    "\n",
    "# 5. 查看主题数量分布（即每个主题多少条）\n",
    "topic_counts = df_sample[\"topic\"].value_counts()\n",
    "print(topic_counts.head(10))\n",
    "\n",
    "# 6. 可视化主题随时间演化\n",
    "df_sample[\"Date\"] = pd.to_datetime(df_sample[\"Date\"])\n",
    "topics_over_time = topic_model.topics_over_time(texts, df_sample[\"Date\"])\n",
    "fig = topic_model.visualize_topics_over_time(topics_over_time)\n",
    "fig.show()\n",
    "\n",
    "# 7. 打印前 5 个主题关键词（可选）\n",
    "print(\"\\nTop 5 Topics:\")\n",
    "for topic_num in range(5):\n",
    "    print(f\"\\nTopic {topic_num}:\")\n",
    "    print(topic_model.get_topic(topic_num))\n",
    "\n",
    "\n"
   ]
  },
  {
   "cell_type": "markdown",
   "metadata": {},
   "source": [
    "情绪因子\n",
    "daily average of sentiment_score, topic-wise 情绪（加权 or 选主话题）\n",
    "主题因子\n",
    "BERTopic 输出的 dominant topic per day 或主题强度向量\n",
    "波动因子\n",
    "vix_open, vix_high, vix_low, vix_close\n",
    "技术因子\n",
    "nvda_open, nvda_high, nvda_low, nvda_close, nvda_volume, 可派生指标（return、volatility、RSI、MACD等）"
   ]
  },
  {
   "cell_type": "code",
   "execution_count": null,
   "metadata": {},
   "outputs": [],
   "source": [
    "# topic_model.transform 返回的 DataFrame，包含每条推文的主题编号\n",
    "# 假设数据中有列：date, topic\n",
    "topic_df = pd.read_csv(\"bertopic_results.csv\", parse_dates=[\"date\"])  # 包含 topic 列\n",
    "topic_df[\"count\"] = 1\n",
    "\n",
    "# 每天每个 topic 出现频次\n",
    "daily_topic_dist = topic_df.groupby([\"date\", \"topic\"]).count().reset_index()\n",
    "\n",
    "# 主题分布矩阵（每天的主题频率分布）\n",
    "daily_topic_pivot = daily_topic_dist.pivot(index=\"date\", columns=\"topic\", values=\"count\").fillna(0)\n",
    "daily_topic_pct = daily_topic_pivot.div(daily_topic_pivot.sum(axis=1), axis=0)\n",
    "daily_topic_pct = daily_topic_pct.reset_index()\n",
    "\n",
    "# 选择感兴趣的主题（例如主题 3 是“hype”，主题 7 是“fear”）\n",
    "bullish_topics = [3, 5]\n",
    "bearish_topics = [7, 11]\n",
    "\n",
    "# 构建主题因子（正向主题 - 负向主题）\n",
    "daily_topic_pct[\"topic_factor\"] = daily_topic_pct[bullish_topics].sum(axis=1) - daily_topic_pct[bearish_topics].sum(axis=1)\n",
    "\n",
    "print(daily_topic_pct[[\"date\", \"topic_factor\"]].head())"
   ]
  },
  {
   "cell_type": "code",
   "execution_count": null,
   "metadata": {},
   "outputs": [],
   "source": [
    "# 原始数据已有 sentiment_score, vix 等\n",
    "price_df = pd.read_csv(\"factor_data.csv\", parse_dates=[\"date\"])\n",
    "\n",
    "# 合并主题因子\n",
    "df = price_df.merge(daily_topic_pct[[\"date\", \"topic_factor\"]], on=\"date\", how=\"left\")\n",
    "df[\"topic_factor\"] = df[\"topic_factor\"].fillna(0)"
   ]
  },
  {
   "cell_type": "code",
   "execution_count": null,
   "metadata": {},
   "outputs": [],
   "source": [
    "from sklearn.preprocessing import StandardScaler\n",
    "\n",
    "df[\"nvda_return\"] = df[\"nvda_close\"].pct_change()\n",
    "df[\"nvda_volatility\"] = df[\"nvda_high\"] - df[\"nvda_low\"]\n",
    "df = df.fillna(0)\n",
    "\n",
    "scaler = StandardScaler()\n",
    "factors = [\"sentiment_score\", \"vix_close\", \"nvda_return\", \"nvda_volatility\", \"nvda_volume\", \"topic_factor\"]\n",
    "df_scaled = pd.DataFrame(scaler.fit_transform(df[factors]), columns=[f\"{c}_z\" for c in factors])\n",
    "\n",
    "df[\"composite_factor\"] = (\n",
    "    + df_scaled[\"sentiment_score_z\"]\n",
    "    - df_scaled[\"vix_close_z\"]\n",
    "    + df_scaled[\"nvda_return_z\"]\n",
    "    + df_scaled[\"nvda_volatility_z\"]\n",
    "    + df_scaled[\"nvda_volume_z\"]\n",
    "    + df_scaled[\"topic_factor_z\"]  # 融入主题因子\n",
    ")\n",
    "\n",
    "# 生成信号\n",
    "# 某天的 composite_factor 是 0.1，只要大于 75% 分位就买入。它不管是突然大幅上涨还是缓慢增长。\n",
    "df[\"signal\"] = 0\n",
    "df.loc[df[\"composite_factor\"] > df[\"composite_factor\"].quantile(0.75), \"signal\"] = 1\n",
    "df.loc[df[\"composite_factor\"] < df[\"composite_factor\"].quantile(0.25), \"signal\"] = -1"
   ]
  },
  {
   "cell_type": "code",
   "execution_count": null,
   "metadata": {},
   "outputs": [],
   "source": [
    "import numpy as np\n",
    "import matplotlib.pyplot as plt\n",
    "\n",
    "# 确保日期列为索引 & 排序\n",
    "df = df.copy()\n",
    "df[\"Date\"] = pd.to_datetime(df[\"Date\"])\n",
    "df = df.set_index(\"Date\").sort_index()\n",
    "\n",
    "# 构造策略持仓（下一天开盘买入）\n",
    "df[\"position\"] = df[\"signal\"].shift(1).fillna(0)  # 滞后一天避免未来信息\n",
    "df[\"daily_return\"] = df[\"nvda_close\"].pct_change().fillna(0)\n",
    "\n",
    "# 策略收益\n",
    "df[\"strategy_return\"] = df[\"position\"] * df[\"daily_return\"]\n",
    "\n",
    "# 累计收益\n",
    "df[\"cum_strategy_return\"] = (1 + df[\"strategy_return\"]).cumprod()\n",
    "df[\"cum_buy_and_hold\"] = (1 + df[\"daily_return\"]).cumprod()\n",
    "\n",
    "# 绘图\n",
    "plt.figure(figsize=(12, 6))\n",
    "plt.plot(df[\"cum_strategy_return\"], label=\"Composite Factor Strategy\")\n",
    "plt.plot(df[\"cum_buy_and_hold\"], label=\"Buy & Hold\")\n",
    "plt.legend()\n",
    "plt.title(\"Strategy vs Buy-and-Hold\")\n",
    "plt.grid(True)\n",
    "plt.show()\n",
    "\n",
    "# ------------------\n",
    "# 指标计算\n",
    "# ------------------\n",
    "\n",
    "def max_drawdown(cum_returns):\n",
    "    peak = np.maximum.accumulate(cum_returns)\n",
    "    drawdown = (cum_returns - peak) / peak\n",
    "    return drawdown.min()\n",
    "\n",
    "# 总收益\n",
    "total_return = df[\"cum_strategy_return\"].iloc[-1] - 1\n",
    "\n",
    "# 年化收益 & 年化波动率\n",
    "annual_return = (df[\"cum_strategy_return\"].iloc[-1]) ** (252 / len(df)) - 1\n",
    "annual_vol = df[\"strategy_return\"].std() * np.sqrt(252)\n",
    "\n",
    "# 夏普比率（无风险利率为0）\n",
    "sharpe = annual_return / annual_vol\n",
    "\n",
    "# 最大回撤\n",
    "mdd = max_drawdown(df[\"cum_strategy_return\"])\n",
    "\n",
    "print(f\"📈 策略总收益: {total_return:.2%}\")\n",
    "print(f\"📊 年化收益: {annual_return:.2%}\")\n",
    "print(f\"📉 年化波动率: {annual_vol:.2%}\")\n",
    "print(f\"⚖️ 夏普比率: {sharpe:.2f}\")\n",
    "print(f\"📉 最大回撤: {mdd:.2%}\")"
   ]
  },
  {
   "cell_type": "code",
   "execution_count": null,
   "metadata": {},
   "outputs": [],
   "source": [
    "# Trading Strategy Advanced\n",
    "# 所需的数据结构\n",
    "df.columns = [\n",
    "    \"Date\", \"nvda_open\", \"nvda_high\", \"nvda_low\", \"nvda_close\", \"nvda_volume\",\n",
    "    \"vix_open\", \"vix_high\", \"vix_low\", \"vix_close\",\n",
    "    \"sentiment_score\", \"topic_factor\", \"composite_index\", \"volatility_20\"\n",
    "]\n",
    "\n",
    "from backtesting import Backtest, Strategy\n",
    "from backtesting.test import GOOG\n",
    "import pandas as pd\n",
    "import numpy as np\n",
    "from sklearn.preprocessing import StandardScaler\n",
    "import matplotlib.pyplot as plt\n",
    "\n",
    "# === 假设你已有 DataFrame ===\n",
    "df = pd.read_csv(\"your_final_data.csv\", parse_dates=[\"Date\"])  # 替换为你的最终融合数据\n",
    "df = df.set_index(\"Date\").sort_index()\n",
    "\n",
    "# Backtesting 需要 OHLCV 命名格式\n",
    "df_bt = df[[\"nvda_open\", \"nvda_high\", \"nvda_low\", \"nvda_close\", \"nvda_volume\",\n",
    "            \"composite_index\", \"volatility_20\", \"topic_factor\"]].copy()\n",
    "df_bt.columns = [\"Open\", \"High\", \"Low\", \"Close\", \"Volume\", \"composite_index\", \"volatility_20\", \"topic_factor\"]\n",
    "\n",
    "# ========== 策略类 ==========\n",
    "class TopicAwareStrategy(Strategy):\n",
    "    ma_short = 20\n",
    "    ma_long = 50\n",
    "    volatility_threshold = 0.02\n",
    "    confirm_window = 3\n",
    "    stop_loss_pct = 0.03\n",
    "    take_profit_pct = 0.06\n",
    "\n",
    "    def init(self):\n",
    "        self.composite = self.data.composite_index\n",
    "        self.topic = self.data.topic_factor\n",
    "        self.volatility = self.data.volatility_20\n",
    "\n",
    "        self.ma_short_series = self.I(lambda: pd.Series(self.composite).rolling(self.ma_short).mean().to_numpy())\n",
    "        self.ma_long_series = self.I(lambda: pd.Series(self.composite).rolling(self.ma_long).mean().to_numpy())\n",
    "        self.signal = self.I(self._generate_signals, name=\"Signal\")\n",
    "\n",
    "    def _generate_signals(self):\n",
    "        index = pd.Series(self.composite, index=self.data.index)\n",
    "        topic = pd.Series(self.topic, index=self.data.index)\n",
    "        signals = pd.Series(0.0, index=index.index)\n",
    "\n",
    "        cond1 = (self.ma_short_series > self.ma_long_series)\n",
    "        cond2 = index > 0\n",
    "        cond3 = self.volatility < self.volatility_threshold\n",
    "        cond4 = topic.diff().rolling(self.confirm_window).mean() > 0  # 主题因子上升趋势确认\n",
    "\n",
    "        buy_signal = (cond1 & cond2 & cond3 & cond4).rolling(self.confirm_window).sum() == self.confirm_window\n",
    "        signals[buy_signal] = 1.0\n",
    "\n",
    "        return signals\n",
    "\n",
    "    def next(self):\n",
    "        if not self.signal[-1]:\n",
    "            return\n",
    "        try:\n",
    "            if not self.position:\n",
    "                self.buy(size=1)\n",
    "            elif self.position:\n",
    "                price = self.data.Close[-1]\n",
    "                entry_price = self.trades[-1].entry_price\n",
    "                if price >= entry_price * (1 + self.take_profit_pct) or \\\n",
    "                   price <= entry_price * (1 - self.stop_loss_pct):\n",
    "                    self.position.close()\n",
    "        except Exception as e:\n",
    "            print(f\"❌ Error: {str(e)}\")\n",
    "\n",
    "# ========== 回测执行 ==========\n",
    "bt = Backtest(df_bt, TopicAwareStrategy, cash=100_000, commission=0.001, exclusive_orders=True)\n",
    "result = bt.run()\n",
    "bt.plot()\n",
    "\n",
    "# ========== 输出指标 ==========\n",
    "print(result)"
   ]
  },
  {
   "cell_type": "code",
   "execution_count": null,
   "metadata": {},
   "outputs": [],
   "source": [
    "# Comparison\n",
    "from backtesting import Backtest\n",
    "import pandas as pd\n",
    "\n",
    "bt = Backtest(df_bt, TopicAwareStrategy, cash=100_000, commission=0.001)\n",
    "result = bt.run()\n",
    "\n",
    "# 拿到 equity curve（注意回测数据可能比 df 短）\n",
    "topic_equity = result[\"_equity_curve\"][\"Equity\"]\n",
    "topic_equity.name = \"TopicAwareStrategy\"\n",
    "\n",
    "composite_equity = df[\"cum_strategy_return\"] * 100_000  # 与 backtest 初始现金对齐\n",
    "composite_equity.name = \"CompositeFactorStrategy\"\n",
    "\n",
    "# 对齐时间索引\n",
    "equity_df = pd.concat([composite_equity, topic_equity], axis=1).dropna()\n",
    "\n",
    "# 绘图\n",
    "import matplotlib.pyplot as plt\n",
    "\n",
    "plt.figure(figsize=(12, 6))\n",
    "plt.plot(equity_df[\"CompositeFactorStrategy\"], label=\"Composite Factor Strategy\")\n",
    "plt.plot(equity_df[\"TopicAwareStrategy\"], label=\"Topic-Aware Strategy\")\n",
    "plt.title(\"策略累计收益对比\")\n",
    "plt.xlabel(\"时间\")\n",
    "plt.ylabel(\"账户净值\")\n",
    "plt.legend()\n",
    "plt.grid(True)\n",
    "plt.tight_layout()\n",
    "plt.show()\n",
    "\n",
    "\n",
    "def calc_metrics(series):\n",
    "    daily_return = series.pct_change().dropna()\n",
    "    total_return = series.iloc[-1] / series.iloc[0] - 1\n",
    "    annual_return = (1 + total_return) ** (252 / len(series)) - 1\n",
    "    annual_vol = daily_return.std() * np.sqrt(252)\n",
    "    sharpe = annual_return / annual_vol if annual_vol != 0 else 0\n",
    "    peak = np.maximum.accumulate(series)\n",
    "    mdd = ((series - peak) / peak).min()\n",
    "    return [total_return, annual_return, annual_vol, sharpe, mdd]\n",
    "\n",
    "metrics = pd.DataFrame(columns=[\"Total Return\", \"Annual Return\", \"Annual Volatility\", \"Sharpe\", \"Max Drawdown\"])\n",
    "\n",
    "for name in equity_df.columns:\n",
    "    metrics.loc[name] = calc_metrics(equity_df[name])\n",
    "\n",
    "print(metrics.applymap(lambda x: f\"{x:.2%}\" if isinstance(x, float) else x))\n"
   ]
  },
  {
   "cell_type": "code",
   "execution_count": null,
   "metadata": {},
   "outputs": [],
   "source": []
  }
 ],
 "metadata": {
  "kernelspec": {
   "display_name": "Python 3",
   "language": "python",
   "name": "python3"
  },
  "language_info": {
   "codemirror_mode": {
    "name": "ipython",
    "version": 3
   },
   "file_extension": ".py",
   "mimetype": "text/x-python",
   "name": "python",
   "nbconvert_exporter": "python",
   "pygments_lexer": "ipython3",
   "version": "3.13.3"
  }
 },
 "nbformat": 4,
 "nbformat_minor": 4
}
