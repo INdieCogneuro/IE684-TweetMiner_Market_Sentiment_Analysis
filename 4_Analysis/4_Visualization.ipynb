{
 "cells": [
  {
   "cell_type": "markdown",
   "id": "89347457",
   "metadata": {},
   "source": [
    "1. Signal Plotting with Stock Price\n",
    "\n",
    "Purpose: Visualize generated trading signals (buy/sell) on top of NVDA stock price chart."
   ]
  },
  {
   "cell_type": "code",
   "execution_count": 1,
   "id": "d0437a5b",
   "metadata": {},
   "outputs": [
    {
     "ename": "NameError",
     "evalue": "name 'merged' is not defined",
     "output_type": "error",
     "traceback": [
      "\u001b[31m---------------------------------------------------------------------------\u001b[39m",
      "\u001b[31mNameError\u001b[39m                                 Traceback (most recent call last)",
      "\u001b[36mCell\u001b[39m\u001b[36m \u001b[39m\u001b[32mIn[1]\u001b[39m\u001b[32m, line 4\u001b[39m\n\u001b[32m      1\u001b[39m \u001b[38;5;28;01mimport\u001b[39;00m\u001b[38;5;250m \u001b[39m\u001b[34;01mmatplotlib\u001b[39;00m\u001b[34;01m.\u001b[39;00m\u001b[34;01mpyplot\u001b[39;00m\u001b[38;5;250m \u001b[39m\u001b[38;5;28;01mas\u001b[39;00m\u001b[38;5;250m \u001b[39m\u001b[34;01mplt\u001b[39;00m\n\u001b[32m      3\u001b[39m \u001b[38;5;66;03m# select buy/sell col\u001b[39;00m\n\u001b[32m----> \u001b[39m\u001b[32m4\u001b[39m buy_signals = \u001b[43mmerged\u001b[49m[merged[\u001b[33m\"\u001b[39m\u001b[33msignal\u001b[39m\u001b[33m\"\u001b[39m] == \u001b[32m1\u001b[39m]\n\u001b[32m      5\u001b[39m sell_signals = merged[merged[\u001b[33m\"\u001b[39m\u001b[33msignal\u001b[39m\u001b[33m\"\u001b[39m] == -\u001b[32m1\u001b[39m]\n\u001b[32m      7\u001b[39m plt.figure(figsize=(\u001b[32m14\u001b[39m, \u001b[32m6\u001b[39m))\n",
      "\u001b[31mNameError\u001b[39m: name 'merged' is not defined"
     ]
    }
   ],
   "source": [
    "import matplotlib.pyplot as plt\n",
    "\n",
    "# select buy/sell col\n",
    "buy_signals = merged[merged[\"signal\"] == 1]\n",
    "sell_signals = merged[merged[\"signal\"] == -1]\n",
    "\n",
    "plt.figure(figsize=(14, 6))\n",
    "\n",
    "# NVDA price movement\n",
    "plt.plot(merged[\"created_at\"], merged[\"nvda_close\"], label=\"NVDA Close\", color=\"blue\")\n",
    "\n",
    "# buy signal (green tri)\n",
    "plt.scatter(buy_signals[\"created_at\"], buy_signals[\"nvda_close\"], \n",
    "            marker=\"^\", color=\"green\", label=\"Buy Signal\", s=100)\n",
    "\n",
    "# sell signal (red tri)\n",
    "plt.scatter(sell_signals[\"created_at\"], sell_signals[\"nvda_close\"], \n",
    "            marker=\"v\", color=\"red\", label=\"Sell Signal\", s=100)\n",
    "\n",
    "plt.title(\"NVDA Stock Price with Sentiment-Based Trading Signals\")\n",
    "plt.xlabel(\"Date\")\n",
    "plt.ylabel(\"Stock Price (USD)\")\n",
    "plt.legend()\n",
    "plt.grid(True)\n",
    "plt.tight_layout()\n",
    "plt.show()"
   ]
  },
  {
   "cell_type": "code",
   "execution_count": null,
   "id": "b83d8f99",
   "metadata": {},
   "outputs": [],
   "source": [
    "import numpy as np\n",
    "\n",
    "df = merged.copy()\n",
    "\n",
    "# move signal to +1 day\n",
    "df[\"trade_signal\"] = df[\"signal\"].shift(1).fillna(0)\n",
    "\n",
    "# strategy return：hold signal=1 then nvda_return，otherwise 0\n",
    "df[\"strategy_return\"] = df[\"trade_signal\"] * df[\"nvda_return\"]\n",
    "\n",
    "# return\n",
    "df[\"cum_strategy\"] = (1 + df[\"strategy_return\"]).cumprod() - 1\n",
    "df[\"cum_bnh\"]      = (1 + df[\"nvda_return\"]).cumprod() - 1\n",
    "\n",
    "# viz\n",
    "import matplotlib.pyplot as plt\n",
    "plt.figure(figsize=(10,5))\n",
    "plt.plot(df[\"created_at\"], df[\"cum_bnh\"], label=\"Buy & Hold\", color=\"gray\")\n",
    "plt.plot(df[\"created_at\"], df[\"cum_strategy\"], label=\"Sentiment Strategy\", color=\"blue\")\n",
    "plt.title(\"Cumulative Return: Strategy vs Buy & Hold\")\n",
    "plt.xlabel(\"Date\")\n",
    "plt.ylabel(\"Cumulative Return\")\n",
    "plt.legend()\n",
    "plt.grid(True)\n",
    "plt.show()"
   ]
  }
 ],
 "metadata": {
  "kernelspec": {
   "display_name": "venv",
   "language": "python",
   "name": "python3"
  },
  "language_info": {
   "codemirror_mode": {
    "name": "ipython",
    "version": 3
   },
   "file_extension": ".py",
   "mimetype": "text/x-python",
   "name": "python",
   "nbconvert_exporter": "python",
   "pygments_lexer": "ipython3",
   "version": "3.13.3"
  }
 },
 "nbformat": 4,
 "nbformat_minor": 5
}
