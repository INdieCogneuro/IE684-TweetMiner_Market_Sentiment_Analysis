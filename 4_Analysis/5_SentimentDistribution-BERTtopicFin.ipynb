{
 "cells": [
  {
   "cell_type": "markdown",
   "metadata": {},
   "source": [
    "Topic - BERTopic Modelling Only Financial Text\n",
    "\n",
    "#### **1. Research Background**\n",
    "\n",
    "- This study aims to apply the **BERTopic** model to financial texts (such as tweets) for topic modelling, and to explore the relationship between topics and market performance by combining sentiment analysis and market data.\n",
    "    \n",
    "- The goal is to test whether the sentiment of different topics can serve as trading signals and thereby build effective trading strategies.\n",
    "    \n",
    "\n",
    "---\n",
    "\n",
    "#### **2. Data and Methodology**\n",
    "\n",
    "##### **Data Sources**\n",
    "\n",
    "1. **Financial Tweet Data**:\n",
    "    \n",
    "    - Includes tweet texts and their sentiment scores from 2019 to 2022.\n",
    "        \n",
    "    - After preprocessing (e.g., removing empty tweets and time filtering), valid data was retained.\n",
    "        \n",
    "2. **Market Data**:\n",
    "    \n",
    "    - Includes technical indicators of Nvidia (NVDA), such as opening price, closing price, and trading volume.\n",
    "        \n",
    "    - Contains the VIX index as a market volatility factor.\n",
    "        \n",
    "\n",
    "##### **Methodology**\n",
    "\n",
    "1. **BERTopic Model**:\n",
    "    \n",
    "    - Uses `SentenceTransformer` to extract text embeddings.\n",
    "        \n",
    "    - Applies `HDBSCAN` clustering to generate topics.\n",
    "        \n",
    "    - Outputs the dominant daily topic and its sentiment score.\n",
    "        \n",
    "2. **Sentiment and Topic Analysis**:\n",
    "    \n",
    "    - Calculates the average sentiment score of each daily topic.\n",
    "        \n",
    "    - Classifies topics into sentiment categories based on a keyword lexicon (e.g., bullish and bearish vocabularies).\n",
    "        \n",
    "3. **Trading Strategy**:\n",
    "    \n",
    "    - Generates trading signals based on topic sentiment:\n",
    "        \n",
    "        - use grid search to find the optimal performance\n",
    "            \n",
    "    - Compares the performance of topic-based strategies with the market benchmark (Buy & Hold)."
   ]
  },
  {
   "cell_type": "markdown",
   "metadata": {},
   "source": [
    "## BERTopic modeling"
   ]
  },
  {
   "cell_type": "code",
   "execution_count": 1,
   "metadata": {},
   "outputs": [],
   "source": [
    "import pandas as pd\n",
    "import numpy as np\n",
    "import matplotlib.pyplot as plt\n",
    "import seaborn as sns\n",
    "from bertopic import BERTopic\n",
    "from sklearn.feature_extraction.text import CountVectorizer\n",
    "from sentence_transformers import SentenceTransformer\n",
    "from nltk.corpus import stopwords\n",
    "from nltk.tokenize import word_tokenize\n",
    "import nltk\n",
    "import warnings\n",
    "import os\n",
    "from tqdm import tqdm\n",
    "from hdbscan import HDBSCAN\n",
    "warnings.filterwarnings('ignore')"
   ]
  },
  {
   "cell_type": "markdown",
   "metadata": {},
   "source": [
    "SAMPLE!!!-->too much data for CPU to handle with in HDBSCAN step...almost 1GB and 500000+ data!"
   ]
  },
  {
   "cell_type": "code",
   "execution_count": 2,
   "metadata": {},
   "outputs": [
    {
     "name": "stderr",
     "output_type": "stream",
     "text": [
      "Preparing texts: 100%|██████████| 40557/40557 [00:00<00:00, 9807909.79it/s]\n",
      "2025-05-24 14:04:22,473 - BERTopic - Embedding - Transforming documents to embeddings.\n"
     ]
    },
    {
     "data": {
      "application/vnd.jupyter.widget-view+json": {
       "model_id": "f895b3d0ed28488e874159107ebec990",
       "version_major": 2,
       "version_minor": 0
      },
      "text/plain": [
       "Batches:   0%|          | 0/1268 [00:00<?, ?it/s]"
      ]
     },
     "metadata": {},
     "output_type": "display_data"
    },
    {
     "name": "stderr",
     "output_type": "stream",
     "text": [
      "2025-05-24 14:04:56,328 - BERTopic - Embedding - Completed ✓\n",
      "2025-05-24 14:04:56,329 - BERTopic - Dimensionality - Fitting the dimensionality reduction algorithm\n",
      "2025-05-24 14:05:11,656 - BERTopic - Dimensionality - Completed ✓\n",
      "2025-05-24 14:05:11,657 - BERTopic - Cluster - Start clustering the reduced embeddings\n",
      "2025-05-24 14:05:14,364 - BERTopic - Cluster - Completed ✓\n",
      "2025-05-24 14:05:14,364 - BERTopic - Representation - Extracting topics using c-TF-IDF for topic reduction.\n",
      "2025-05-24 14:05:14,669 - BERTopic - Representation - Completed ✓\n",
      "2025-05-24 14:05:14,670 - BERTopic - Topic reduction - Reducing number of topics\n",
      "2025-05-24 14:05:14,684 - BERTopic - Representation - Fine-tuning topics using representation models.\n",
      "2025-05-24 14:05:14,856 - BERTopic - Representation - Completed ✓\n",
      "2025-05-24 14:05:14,858 - BERTopic - Topic reduction - Reduced number of topics from 398 to 30\n"
     ]
    },
    {
     "name": "stdout",
     "output_type": "stream",
     "text": [
      "❗ Number of tweets that could not be categorized: 19941 (49.17%)\n"
     ]
    }
   ],
   "source": [
    "import os\n",
    "import pandas as pd\n",
    "from tqdm import tqdm\n",
    "from sentence_transformers import SentenceTransformer\n",
    "from hdbscan import HDBSCAN\n",
    "from bertopic import BERTopic\n",
    "\n",
    "# avoid warnings\n",
    "os.environ[\"TOKENIZERS_PARALLELISM\"] = \"false\"\n",
    "\n",
    "# read data\n",
    "df = pd.read_csv(\"../2_data/financial_tweets_with_sentiment.csv\", parse_dates=[\"Date\"])\n",
    "df = df.dropna(subset=['Processed_Tweet'])  \n",
    "df = df[(df[\"Date\"] >= \"2019-01-01\") & (df[\"Date\"] <= \"2022-12-31\")].copy()\n",
    "df[\"YearMonth\"] = df[\"Date\"].dt.to_period(\"M\")\n",
    "\n",
    "texts = df[\"Processed_Tweet\"].astype(str).tolist()\n",
    "\n",
    "texts = df[\"Processed_Tweet\"].astype(str).tolist()\n",
    "texts = list(tqdm(texts, desc=\"Preparing texts\"))\n",
    "\n",
    "# Step 2: Load embedded model IF YOU DON'T HAVE GPU, DROP 'DEVICE=CUDA'\n",
    "embedding_model = SentenceTransformer(\"paraphrase-MiniLM-L6-v2\")\n",
    "\n",
    "# Step 3: Define BERTopic \n",
    "hdbscan_model = HDBSCAN(min_cluster_size=30, min_samples=5, metric='euclidean')\n",
    "topic_model = BERTopic(\n",
    "    embedding_model=embedding_model,\n",
    "    language=\"english\",\n",
    "    calculate_probabilities=False, # initially not produce prob (too slow)\n",
    "    verbose=True,\n",
    "    nr_topics = 30\n",
    ")\n",
    "\n",
    "# Step 4: model training\n",
    "topics, _ = topic_model.fit_transform(texts)\n",
    "df[\"topic\"] = topics\n",
    "\n",
    "# check the number of topics\n",
    "n_noise = (df[\"topic\"] == -1).sum()\n",
    "print(f\"❗ Number of tweets that could not be categorized: {n_noise} ({n_noise / len(df):.2%})\")\n",
    "\n",
    "# filter out noise\n",
    "df = df[df[\"topic\"] != -1].reset_index(drop=True)\n",
    "\n",
    "# store the topic model\n",
    "df.to_csv(\"../2_data/with_BERTtopics.csv\", index=False)\n"
   ]
  },
  {
   "cell_type": "code",
   "execution_count": 3,
   "metadata": {},
   "outputs": [
    {
     "name": "stdout",
     "output_type": "stream",
     "text": [
      "   Topic  Count                             Name  \\\n",
      "0     -1  19941            -1_nvda_stock_amd_buy   \n",
      "1      0  13206         0_nvda_stock_share_split   \n",
      "2      1   2552        1_trade_stock_market_nvda   \n",
      "3      2   2210     2_bullish_green_nvda_bearish   \n",
      "4      3   1173      3_elliottwav_updat_box_blue   \n",
      "5      4    339  4_sentiment_paid_strike_premium   \n",
      "6      5    110           5_time_trade_close_day   \n",
      "7      6    103    6_star_freedom_watchlist_roku   \n",
      "8      7     87           7_put_option_lynk_bayo   \n",
      "9      8     83        8_scan_track_gainer_loser   \n",
      "\n",
      "                                      Representation  \\\n",
      "0  [nvda, stock, amd, buy, market, go, share, pri...   \n",
      "1  [nvda, stock, share, split, min, last, price, ...   \n",
      "2  [trade, stock, market, nvda, day, like, amd, s...   \n",
      "3  [bullish, green, nvda, bearish, flow, top, cha...   \n",
      "4  [elliottwav, updat, box, blue, view, area, pla...   \n",
      "5  [sentiment, paid, strike, premium, call, bulli...   \n",
      "6  [time, trade, close, day, coinflip, higher, la...   \n",
      "7  [star, freedom, watchlist, roku, tomorrow, sna...   \n",
      "8  [put, option, lynk, bayo, volum, intraday, ide...   \n",
      "9  [scan, track, gainer, loser, premarket, et, li...   \n",
      "\n",
      "                                 Representative_Docs  \n",
      "0  [nvda grand im probabl go buy call realli love...  \n",
      "1  [move happen nvda last min stock last min top ...  \n",
      "2  [watchlist today april nvda stock form bull fl...  \n",
      "3         [nvda bullish, nvda bullish, nvda bullish]  \n",
      "4  [nvda view weekend updat show reaction higher ...  \n",
      "5  [bullish sentiment nvda call strike price prem...  \n",
      "6  [nvda time nvda trade day time trade higher ma...  \n",
      "7  [star freedom stock watchlist tomorrow star ab...  \n",
      "8  [intraday option volum f put tsla put aapl put...  \n",
      "9  [premarket gainer amzn googl tsla shop nvda tr...  \n",
      "[('nvda', np.float64(0.04064991725869733)), ('stock', np.float64(0.032447948736335)), ('share', np.float64(0.029741519480513866)), ('split', np.float64(0.02264642584892377)), ('min', np.float64(0.020712839021477688)), ('last', np.float64(0.01999081402372119)), ('price', np.float64(0.017578811761796095)), ('nvidia', np.float64(0.01626775465130065)), ('move', np.float64(0.01618730982623291)), ('target', np.float64(0.016145526675843364))]\n"
     ]
    },
    {
     "data": {
      "application/vnd.plotly.v1+json": {
       "config": {
        "plotlyServerURL": "https://plot.ly"
       },
       "data": [
        {
         "hoverinfo": "text",
         "marker": {
          "color": "rgb(61,153,112)"
         },
         "mode": "lines",
         "type": "scatter",
         "x": {
          "bdata": "AAAAAAAAAABK1hZ5UermP0rWFnlR6uY/AAAAAAAAAAA=",
          "dtype": "f8"
         },
         "xaxis": "x",
         "y": {
          "bdata": "AAAAAAAAFMAAAAAAAAAUwAAAAAAAAC7AAAAAAAAALsA=",
          "dtype": "f8"
         },
         "yaxis": "y"
        },
        {
         "hoverinfo": "text",
         "marker": {
          "color": "rgb(61,153,112)"
         },
         "mode": "lines",
         "type": "scatter",
         "x": {
          "bdata": "StYWeVHq5j9K3E79GpvqP0rcTv0am+o/AAAAAAAAAAA=",
          "dtype": "f8"
         },
         "xaxis": "x",
         "y": {
          "bdata": "AAAAAAAAJMAAAAAAAAAkwAAAAAAAADnAAAAAAAAAOcA=",
          "dtype": "f8"
         },
         "yaxis": "y"
        },
        {
         "hoverinfo": "text",
         "marker": {
          "color": "rgb(255,65,54)"
         },
         "mode": "lines",
         "type": "scatter",
         "x": {
          "bdata": "AAAAAAAAAACMmXHB1LLqP4yZccHUsuo/AAAAAAAAAAA=",
          "dtype": "f8"
         },
         "xaxis": "x",
         "y": {
          "bdata": "AAAAAACAQcAAAAAAAIBBwAAAAAAAgEbAAAAAAACARsA=",
          "dtype": "f8"
         },
         "yaxis": "y"
        },
        {
         "hoverinfo": "text",
         "marker": {
          "color": "rgb(35,205,205)"
         },
         "mode": "lines",
         "type": "scatter",
         "x": {
          "bdata": "AAAAAAAAAADJqhjxLz7vP8mqGPEvPu8/AAAAAAAAAAA=",
          "dtype": "f8"
         },
         "xaxis": "x",
         "y": {
          "bdata": "AAAAAABAUMAAAAAAAEBQwAAAAAAAwFLAAAAAAADAUsA=",
          "dtype": "f8"
         },
         "yaxis": "y"
        },
        {
         "hoverinfo": "text",
         "marker": {
          "color": "rgb(0,116,217)"
         },
         "mode": "lines",
         "type": "scatter",
         "x": {
          "bdata": "AAAAAAAAAACrFWFlgBvwP6sVYWWAG/A/yaoY8S8+7z8=",
          "dtype": "f8"
         },
         "xaxis": "x",
         "y": {
          "bdata": "AAAAAACAS8AAAAAAAIBLwAAAAAAAgFHAAAAAAACAUcA=",
          "dtype": "f8"
         },
         "yaxis": "y"
        },
        {
         "hoverinfo": "text",
         "marker": {
          "color": "rgb(133,20,75)"
         },
         "mode": "lines",
         "type": "scatter",
         "x": {
          "bdata": "AAAAAAAAAADmFJl+qOjtP+YUmX6o6O0/AAAAAAAAAAA=",
          "dtype": "f8"
         },
         "xaxis": "x",
         "y": {
          "bdata": "AAAAAADAV8AAAAAAAMBXwAAAAAAAQFrAAAAAAABAWsA=",
          "dtype": "f8"
         },
         "yaxis": "y"
        },
        {
         "hoverinfo": "text",
         "marker": {
          "color": "rgb(133,20,75)"
         },
         "mode": "lines",
         "type": "scatter",
         "x": {
          "bdata": "AAAAAAAAAACvQLrfu0DvP69Aut+7QO8/5hSZfqjo7T8=",
          "dtype": "f8"
         },
         "xaxis": "x",
         "y": {
          "bdata": "AAAAAABAVcAAAAAAAEBVwAAAAAAAAFnAAAAAAAAAWcA=",
          "dtype": "f8"
         },
         "yaxis": "y"
        },
        {
         "hoverinfo": "text",
         "marker": {
          "color": "rgb(133,20,75)"
         },
         "mode": "lines",
         "type": "scatter",
         "x": {
          "bdata": "AAAAAAAAAADC/rSkBb/tP8L+tKQFv+0/AAAAAAAAAAA=",
          "dtype": "f8"
         },
         "xaxis": "x",
         "y": {
          "bdata": "AAAAAADAXMAAAAAAAMBcwAAAAAAAQF/AAAAAAABAX8A=",
          "dtype": "f8"
         },
         "yaxis": "y"
        },
        {
         "hoverinfo": "text",
         "marker": {
          "color": "rgb(133,20,75)"
         },
         "mode": "lines",
         "type": "scatter",
         "x": {
          "bdata": "r0C637tA7z9R1z0R5crvP1HXPRHlyu8/wv60pAW/7T8=",
          "dtype": "f8"
         },
         "xaxis": "x",
         "y": {
          "bdata": "AAAAAAAgV8AAAAAAACBXwAAAAAAAAF7AAAAAAAAAXsA=",
          "dtype": "f8"
         },
         "yaxis": "y"
        },
        {
         "hoverinfo": "text",
         "marker": {
          "color": "rgb(0,116,217)"
         },
         "mode": "lines",
         "type": "scatter",
         "x": {
          "bdata": "qxVhZYAb8D8gNiIVnaHwPyA2IhWdofA/Udc9EeXK7z8=",
          "dtype": "f8"
         },
         "xaxis": "x",
         "y": {
          "bdata": "AAAAAABAT8AAAAAAAEBPwAAAAAAAkFrAAAAAAACQWsA=",
          "dtype": "f8"
         },
         "yaxis": "y"
        },
        {
         "hoverinfo": "text",
         "marker": {
          "color": "rgb(255,220,0)"
         },
         "mode": "lines",
         "type": "scatter",
         "x": {
          "bdata": "AAAAAAAAAACE6sesH/3tP4Tqx6wf/e0/AAAAAAAAAAA=",
          "dtype": "f8"
         },
         "xaxis": "x",
         "y": {
          "bdata": "AAAAAADgYMAAAAAAAOBgwAAAAAAAIGLAAAAAAAAgYsA=",
          "dtype": "f8"
         },
         "yaxis": "y"
        },
        {
         "hoverinfo": "text",
         "marker": {
          "color": "rgb(255,220,0)"
         },
         "mode": "lines",
         "type": "scatter",
         "x": {
          "bdata": "AAAAAAAAAAC8yIV5yJ/uP7zIhXnIn+4/AAAAAAAAAAA=",
          "dtype": "f8"
         },
         "xaxis": "x",
         "y": {
          "bdata": "AAAAAABgY8AAAAAAAGBjwAAAAAAAoGTAAAAAAACgZMA=",
          "dtype": "f8"
         },
         "yaxis": "y"
        },
        {
         "hoverinfo": "text",
         "marker": {
          "color": "rgb(255,220,0)"
         },
         "mode": "lines",
         "type": "scatter",
         "x": {
          "bdata": "hOrHrB/97T+n1NFJcArvP6fU0UlwCu8/vMiFecif7j8=",
          "dtype": "f8"
         },
         "xaxis": "x",
         "y": {
          "bdata": "AAAAAACAYcAAAAAAAIBhwAAAAAAAAGTAAAAAAAAAZMA=",
          "dtype": "f8"
         },
         "yaxis": "y"
        },
        {
         "hoverinfo": "text",
         "marker": {
          "color": "rgb(40,35,35)"
         },
         "mode": "lines",
         "type": "scatter",
         "x": {
          "bdata": "AAAAAAAAAABA++htJKTsP0D76G0kpOw/AAAAAAAAAAA=",
          "dtype": "f8"
         },
         "xaxis": "x",
         "y": {
          "bdata": "AAAAAADgZcAAAAAAAOBlwAAAAAAAIGfAAAAAAAAgZ8A=",
          "dtype": "f8"
         },
         "yaxis": "y"
        },
        {
         "hoverinfo": "text",
         "marker": {
          "color": "rgb(0,116,217)"
         },
         "mode": "lines",
         "type": "scatter",
         "x": {
          "bdata": "p9TRSXAK7z+97rip5lLwP73uuKnmUvA/QPvobSSk7D8=",
          "dtype": "f8"
         },
         "xaxis": "x",
         "y": {
          "bdata": "AAAAAADAYsAAAAAAAMBiwAAAAAAAgGbAAAAAAACAZsA=",
          "dtype": "f8"
         },
         "yaxis": "y"
        },
        {
         "hoverinfo": "text",
         "marker": {
          "color": "rgb(0,116,217)"
         },
         "mode": "lines",
         "type": "scatter",
         "x": {
          "bdata": "IDYiFZ2h8D8xC6Jxy+nwPzELonHL6fA/ve64qeZS8D8=",
          "dtype": "f8"
         },
         "xaxis": "x",
         "y": {
          "bdata": "AAAAAAAYVcAAAAAAABhVwAAAAAAAoGTAAAAAAACgZMA=",
          "dtype": "f8"
         },
         "yaxis": "y"
        },
        {
         "hoverinfo": "text",
         "marker": {
          "color": "rgb(61,153,112)"
         },
         "mode": "lines",
         "type": "scatter",
         "x": {
          "bdata": "AAAAAAAAAAD7Mvk4MzDrP/sy+TgzMOs/AAAAAAAAAAA=",
          "dtype": "f8"
         },
         "xaxis": "x",
         "y": {
          "bdata": "AAAAAABgaMAAAAAAAGBowAAAAAAAoGnAAAAAAACgacA=",
          "dtype": "f8"
         },
         "yaxis": "y"
        },
        {
         "hoverinfo": "text",
         "marker": {
          "color": "rgb(255,65,54)"
         },
         "mode": "lines",
         "type": "scatter",
         "x": {
          "bdata": "AAAAAAAAAADIDaRW7kjuP8gNpFbuSO4/AAAAAAAAAAA=",
          "dtype": "f8"
         },
         "xaxis": "x",
         "y": {
          "bdata": "AAAAAADgasAAAAAAAOBqwAAAAAAAIGzAAAAAAAAgbMA=",
          "dtype": "f8"
         },
         "yaxis": "y"
        },
        {
         "hoverinfo": "text",
         "marker": {
          "color": "rgb(0,116,217)"
         },
         "mode": "lines",
         "type": "scatter",
         "x": {
          "bdata": "+zL5ODMw6z8asoZYHwnwPxqyhlgfCfA/yA2kVu5I7j8=",
          "dtype": "f8"
         },
         "xaxis": "x",
         "y": {
          "bdata": "AAAAAAAAacAAAAAAAABpwAAAAAAAgGvAAAAAAACAa8A=",
          "dtype": "f8"
         },
         "yaxis": "y"
        },
        {
         "hoverinfo": "text",
         "marker": {
          "color": "rgb(0,116,217)"
         },
         "mode": "lines",
         "type": "scatter",
         "x": {
          "bdata": "MQuiccvp8D9aGA9i0TbxP1oYD2LRNvE/GrKGWB8J8D8=",
          "dtype": "f8"
         },
         "xaxis": "x",
         "y": {
          "bdata": "AAAAAAAsX8AAAAAAACxfwAAAAAAAQGrAAAAAAABAasA=",
          "dtype": "f8"
         },
         "yaxis": "y"
        },
        {
         "hoverinfo": "text",
         "marker": {
          "color": "rgb(0,116,217)"
         },
         "mode": "lines",
         "type": "scatter",
         "x": {
          "bdata": "jJlxwdSy6j8grk5BCpjxPyCuTkEKmPE/WhgPYtE28T8=",
          "dtype": "f8"
         },
         "xaxis": "x",
         "y": {
          "bdata": "AAAAAAAARMAAAAAAAABEwAAAAAAA62TAAAAAAADrZMA=",
          "dtype": "f8"
         },
         "yaxis": "y"
        },
        {
         "hoverinfo": "text",
         "marker": {
          "color": "rgb(35,205,205)"
         },
         "mode": "lines",
         "type": "scatter",
         "x": {
          "bdata": "AAAAAAAAAAD4/4lKh4HQP/j/iUqHgdA/AAAAAAAAAAA=",
          "dtype": "f8"
         },
         "xaxis": "x",
         "y": {
          "bdata": "AAAAAACgbsAAAAAAAKBuwAAAAAAA4G/AAAAAAADgb8A=",
          "dtype": "f8"
         },
         "yaxis": "y"
        },
        {
         "hoverinfo": "text",
         "marker": {
          "color": "rgb(35,205,205)"
         },
         "mode": "lines",
         "type": "scatter",
         "x": {
          "bdata": "+P+JSoeB0D85Fgm/G0vlPzkWCb8bS+U/AAAAAAAAAAA=",
          "dtype": "f8"
         },
         "xaxis": "x",
         "y": {
          "bdata": "AAAAAABAb8AAAAAAAEBvwAAAAAAAkHDAAAAAAACQcMA=",
          "dtype": "f8"
         },
         "yaxis": "y"
        },
        {
         "hoverinfo": "text",
         "marker": {
          "color": "rgb(35,205,205)"
         },
         "mode": "lines",
         "type": "scatter",
         "x": {
          "bdata": "AAAAAAAAAACGcbs7f+7tP4Zxuzt/7u0/ORYJvxtL5T8=",
          "dtype": "f8"
         },
         "xaxis": "x",
         "y": {
          "bdata": "AAAAAABgbcAAAAAAAGBtwAAAAAAAGHDAAAAAAAAYcMA=",
          "dtype": "f8"
         },
         "yaxis": "y"
        },
        {
         "hoverinfo": "text",
         "marker": {
          "color": "rgb(61,153,112)"
         },
         "mode": "lines",
         "type": "scatter",
         "x": {
          "bdata": "AAAAAAAAAABn+2CEgOjrP2f7YISA6Os/AAAAAAAAAAA=",
          "dtype": "f8"
         },
         "xaxis": "x",
         "y": {
          "bdata": "AAAAAAAwccAAAAAAADBxwAAAAAAA0HHAAAAAAADQccA=",
          "dtype": "f8"
         },
         "yaxis": "y"
        },
        {
         "hoverinfo": "text",
         "marker": {
          "color": "rgb(0,116,217)"
         },
         "mode": "lines",
         "type": "scatter",
         "x": {
          "bdata": "hnG7O3/u7T8urtgbNcXwPy6u2Bs1xfA/Z/tghIDo6z8=",
          "dtype": "f8"
         },
         "xaxis": "x",
         "y": {
          "bdata": "AAAAAADIbsAAAAAAAMhuwAAAAAAAgHHAAAAAAACAccA=",
          "dtype": "f8"
         },
         "yaxis": "y"
        },
        {
         "hoverinfo": "text",
         "marker": {
          "color": "rgb(0,116,217)"
         },
         "mode": "lines",
         "type": "scatter",
         "x": {
          "bdata": "IK5OQQqY8T98gU+YWcHyP3yBT5hZwfI/Lq7YGzXF8D8=",
          "dtype": "f8"
         },
         "xaxis": "x",
         "y": {
          "bdata": "AAAAAADrWcAAAAAAAOtZwAAAAAAAcnDAAAAAAABycMA=",
          "dtype": "f8"
         },
         "yaxis": "y"
        },
        {
         "hoverinfo": "text",
         "marker": {
          "color": "rgb(0,116,217)"
         },
         "mode": "lines",
         "type": "scatter",
         "x": {
          "bdata": "StxO/Rqb6j+9BYuiLafzP70Fi6Itp/M/fIFPmFnB8j8=",
          "dtype": "f8"
         },
         "xaxis": "x",
         "y": {
          "bdata": "AAAAAACAMcAAAAAAAIAxwAAAAADA7GbAAAAAAMDsZsA=",
          "dtype": "f8"
         },
         "yaxis": "y"
        }
       ],
       "layout": {
        "autosize": false,
        "height": 635,
        "hoverlabel": {
         "bgcolor": "white",
         "font": {
          "family": "Rockwell",
          "size": 16
         }
        },
        "hovermode": "closest",
        "plot_bgcolor": "#ECEFF1",
        "showlegend": false,
        "template": {
         "data": {
          "bar": [
           {
            "error_x": {
             "color": "#2a3f5f"
            },
            "error_y": {
             "color": "#2a3f5f"
            },
            "marker": {
             "line": {
              "color": "white",
              "width": 0.5
             },
             "pattern": {
              "fillmode": "overlay",
              "size": 10,
              "solidity": 0.2
             }
            },
            "type": "bar"
           }
          ],
          "barpolar": [
           {
            "marker": {
             "line": {
              "color": "white",
              "width": 0.5
             },
             "pattern": {
              "fillmode": "overlay",
              "size": 10,
              "solidity": 0.2
             }
            },
            "type": "barpolar"
           }
          ],
          "carpet": [
           {
            "aaxis": {
             "endlinecolor": "#2a3f5f",
             "gridcolor": "#C8D4E3",
             "linecolor": "#C8D4E3",
             "minorgridcolor": "#C8D4E3",
             "startlinecolor": "#2a3f5f"
            },
            "baxis": {
             "endlinecolor": "#2a3f5f",
             "gridcolor": "#C8D4E3",
             "linecolor": "#C8D4E3",
             "minorgridcolor": "#C8D4E3",
             "startlinecolor": "#2a3f5f"
            },
            "type": "carpet"
           }
          ],
          "choropleth": [
           {
            "colorbar": {
             "outlinewidth": 0,
             "ticks": ""
            },
            "type": "choropleth"
           }
          ],
          "contour": [
           {
            "colorbar": {
             "outlinewidth": 0,
             "ticks": ""
            },
            "colorscale": [
             [
              0,
              "#0d0887"
             ],
             [
              0.1111111111111111,
              "#46039f"
             ],
             [
              0.2222222222222222,
              "#7201a8"
             ],
             [
              0.3333333333333333,
              "#9c179e"
             ],
             [
              0.4444444444444444,
              "#bd3786"
             ],
             [
              0.5555555555555556,
              "#d8576b"
             ],
             [
              0.6666666666666666,
              "#ed7953"
             ],
             [
              0.7777777777777778,
              "#fb9f3a"
             ],
             [
              0.8888888888888888,
              "#fdca26"
             ],
             [
              1,
              "#f0f921"
             ]
            ],
            "type": "contour"
           }
          ],
          "contourcarpet": [
           {
            "colorbar": {
             "outlinewidth": 0,
             "ticks": ""
            },
            "type": "contourcarpet"
           }
          ],
          "heatmap": [
           {
            "colorbar": {
             "outlinewidth": 0,
             "ticks": ""
            },
            "colorscale": [
             [
              0,
              "#0d0887"
             ],
             [
              0.1111111111111111,
              "#46039f"
             ],
             [
              0.2222222222222222,
              "#7201a8"
             ],
             [
              0.3333333333333333,
              "#9c179e"
             ],
             [
              0.4444444444444444,
              "#bd3786"
             ],
             [
              0.5555555555555556,
              "#d8576b"
             ],
             [
              0.6666666666666666,
              "#ed7953"
             ],
             [
              0.7777777777777778,
              "#fb9f3a"
             ],
             [
              0.8888888888888888,
              "#fdca26"
             ],
             [
              1,
              "#f0f921"
             ]
            ],
            "type": "heatmap"
           }
          ],
          "histogram": [
           {
            "marker": {
             "pattern": {
              "fillmode": "overlay",
              "size": 10,
              "solidity": 0.2
             }
            },
            "type": "histogram"
           }
          ],
          "histogram2d": [
           {
            "colorbar": {
             "outlinewidth": 0,
             "ticks": ""
            },
            "colorscale": [
             [
              0,
              "#0d0887"
             ],
             [
              0.1111111111111111,
              "#46039f"
             ],
             [
              0.2222222222222222,
              "#7201a8"
             ],
             [
              0.3333333333333333,
              "#9c179e"
             ],
             [
              0.4444444444444444,
              "#bd3786"
             ],
             [
              0.5555555555555556,
              "#d8576b"
             ],
             [
              0.6666666666666666,
              "#ed7953"
             ],
             [
              0.7777777777777778,
              "#fb9f3a"
             ],
             [
              0.8888888888888888,
              "#fdca26"
             ],
             [
              1,
              "#f0f921"
             ]
            ],
            "type": "histogram2d"
           }
          ],
          "histogram2dcontour": [
           {
            "colorbar": {
             "outlinewidth": 0,
             "ticks": ""
            },
            "colorscale": [
             [
              0,
              "#0d0887"
             ],
             [
              0.1111111111111111,
              "#46039f"
             ],
             [
              0.2222222222222222,
              "#7201a8"
             ],
             [
              0.3333333333333333,
              "#9c179e"
             ],
             [
              0.4444444444444444,
              "#bd3786"
             ],
             [
              0.5555555555555556,
              "#d8576b"
             ],
             [
              0.6666666666666666,
              "#ed7953"
             ],
             [
              0.7777777777777778,
              "#fb9f3a"
             ],
             [
              0.8888888888888888,
              "#fdca26"
             ],
             [
              1,
              "#f0f921"
             ]
            ],
            "type": "histogram2dcontour"
           }
          ],
          "mesh3d": [
           {
            "colorbar": {
             "outlinewidth": 0,
             "ticks": ""
            },
            "type": "mesh3d"
           }
          ],
          "parcoords": [
           {
            "line": {
             "colorbar": {
              "outlinewidth": 0,
              "ticks": ""
             }
            },
            "type": "parcoords"
           }
          ],
          "pie": [
           {
            "automargin": true,
            "type": "pie"
           }
          ],
          "scatter": [
           {
            "fillpattern": {
             "fillmode": "overlay",
             "size": 10,
             "solidity": 0.2
            },
            "type": "scatter"
           }
          ],
          "scatter3d": [
           {
            "line": {
             "colorbar": {
              "outlinewidth": 0,
              "ticks": ""
             }
            },
            "marker": {
             "colorbar": {
              "outlinewidth": 0,
              "ticks": ""
             }
            },
            "type": "scatter3d"
           }
          ],
          "scattercarpet": [
           {
            "marker": {
             "colorbar": {
              "outlinewidth": 0,
              "ticks": ""
             }
            },
            "type": "scattercarpet"
           }
          ],
          "scattergeo": [
           {
            "marker": {
             "colorbar": {
              "outlinewidth": 0,
              "ticks": ""
             }
            },
            "type": "scattergeo"
           }
          ],
          "scattergl": [
           {
            "marker": {
             "colorbar": {
              "outlinewidth": 0,
              "ticks": ""
             }
            },
            "type": "scattergl"
           }
          ],
          "scattermap": [
           {
            "marker": {
             "colorbar": {
              "outlinewidth": 0,
              "ticks": ""
             }
            },
            "type": "scattermap"
           }
          ],
          "scattermapbox": [
           {
            "marker": {
             "colorbar": {
              "outlinewidth": 0,
              "ticks": ""
             }
            },
            "type": "scattermapbox"
           }
          ],
          "scatterpolar": [
           {
            "marker": {
             "colorbar": {
              "outlinewidth": 0,
              "ticks": ""
             }
            },
            "type": "scatterpolar"
           }
          ],
          "scatterpolargl": [
           {
            "marker": {
             "colorbar": {
              "outlinewidth": 0,
              "ticks": ""
             }
            },
            "type": "scatterpolargl"
           }
          ],
          "scatterternary": [
           {
            "marker": {
             "colorbar": {
              "outlinewidth": 0,
              "ticks": ""
             }
            },
            "type": "scatterternary"
           }
          ],
          "surface": [
           {
            "colorbar": {
             "outlinewidth": 0,
             "ticks": ""
            },
            "colorscale": [
             [
              0,
              "#0d0887"
             ],
             [
              0.1111111111111111,
              "#46039f"
             ],
             [
              0.2222222222222222,
              "#7201a8"
             ],
             [
              0.3333333333333333,
              "#9c179e"
             ],
             [
              0.4444444444444444,
              "#bd3786"
             ],
             [
              0.5555555555555556,
              "#d8576b"
             ],
             [
              0.6666666666666666,
              "#ed7953"
             ],
             [
              0.7777777777777778,
              "#fb9f3a"
             ],
             [
              0.8888888888888888,
              "#fdca26"
             ],
             [
              1,
              "#f0f921"
             ]
            ],
            "type": "surface"
           }
          ],
          "table": [
           {
            "cells": {
             "fill": {
              "color": "#EBF0F8"
             },
             "line": {
              "color": "white"
             }
            },
            "header": {
             "fill": {
              "color": "#C8D4E3"
             },
             "line": {
              "color": "white"
             }
            },
            "type": "table"
           }
          ]
         },
         "layout": {
          "annotationdefaults": {
           "arrowcolor": "#2a3f5f",
           "arrowhead": 0,
           "arrowwidth": 1
          },
          "autotypenumbers": "strict",
          "coloraxis": {
           "colorbar": {
            "outlinewidth": 0,
            "ticks": ""
           }
          },
          "colorscale": {
           "diverging": [
            [
             0,
             "#8e0152"
            ],
            [
             0.1,
             "#c51b7d"
            ],
            [
             0.2,
             "#de77ae"
            ],
            [
             0.3,
             "#f1b6da"
            ],
            [
             0.4,
             "#fde0ef"
            ],
            [
             0.5,
             "#f7f7f7"
            ],
            [
             0.6,
             "#e6f5d0"
            ],
            [
             0.7,
             "#b8e186"
            ],
            [
             0.8,
             "#7fbc41"
            ],
            [
             0.9,
             "#4d9221"
            ],
            [
             1,
             "#276419"
            ]
           ],
           "sequential": [
            [
             0,
             "#0d0887"
            ],
            [
             0.1111111111111111,
             "#46039f"
            ],
            [
             0.2222222222222222,
             "#7201a8"
            ],
            [
             0.3333333333333333,
             "#9c179e"
            ],
            [
             0.4444444444444444,
             "#bd3786"
            ],
            [
             0.5555555555555556,
             "#d8576b"
            ],
            [
             0.6666666666666666,
             "#ed7953"
            ],
            [
             0.7777777777777778,
             "#fb9f3a"
            ],
            [
             0.8888888888888888,
             "#fdca26"
            ],
            [
             1,
             "#f0f921"
            ]
           ],
           "sequentialminus": [
            [
             0,
             "#0d0887"
            ],
            [
             0.1111111111111111,
             "#46039f"
            ],
            [
             0.2222222222222222,
             "#7201a8"
            ],
            [
             0.3333333333333333,
             "#9c179e"
            ],
            [
             0.4444444444444444,
             "#bd3786"
            ],
            [
             0.5555555555555556,
             "#d8576b"
            ],
            [
             0.6666666666666666,
             "#ed7953"
            ],
            [
             0.7777777777777778,
             "#fb9f3a"
            ],
            [
             0.8888888888888888,
             "#fdca26"
            ],
            [
             1,
             "#f0f921"
            ]
           ]
          },
          "colorway": [
           "#636efa",
           "#EF553B",
           "#00cc96",
           "#ab63fa",
           "#FFA15A",
           "#19d3f3",
           "#FF6692",
           "#B6E880",
           "#FF97FF",
           "#FECB52"
          ],
          "font": {
           "color": "#2a3f5f"
          },
          "geo": {
           "bgcolor": "white",
           "lakecolor": "white",
           "landcolor": "white",
           "showlakes": true,
           "showland": true,
           "subunitcolor": "#C8D4E3"
          },
          "hoverlabel": {
           "align": "left"
          },
          "hovermode": "closest",
          "mapbox": {
           "style": "light"
          },
          "paper_bgcolor": "white",
          "plot_bgcolor": "white",
          "polar": {
           "angularaxis": {
            "gridcolor": "#EBF0F8",
            "linecolor": "#EBF0F8",
            "ticks": ""
           },
           "bgcolor": "white",
           "radialaxis": {
            "gridcolor": "#EBF0F8",
            "linecolor": "#EBF0F8",
            "ticks": ""
           }
          },
          "scene": {
           "xaxis": {
            "backgroundcolor": "white",
            "gridcolor": "#DFE8F3",
            "gridwidth": 2,
            "linecolor": "#EBF0F8",
            "showbackground": true,
            "ticks": "",
            "zerolinecolor": "#EBF0F8"
           },
           "yaxis": {
            "backgroundcolor": "white",
            "gridcolor": "#DFE8F3",
            "gridwidth": 2,
            "linecolor": "#EBF0F8",
            "showbackground": true,
            "ticks": "",
            "zerolinecolor": "#EBF0F8"
           },
           "zaxis": {
            "backgroundcolor": "white",
            "gridcolor": "#DFE8F3",
            "gridwidth": 2,
            "linecolor": "#EBF0F8",
            "showbackground": true,
            "ticks": "",
            "zerolinecolor": "#EBF0F8"
           }
          },
          "shapedefaults": {
           "line": {
            "color": "#2a3f5f"
           }
          },
          "ternary": {
           "aaxis": {
            "gridcolor": "#DFE8F3",
            "linecolor": "#A2B1C6",
            "ticks": ""
           },
           "baxis": {
            "gridcolor": "#DFE8F3",
            "linecolor": "#A2B1C6",
            "ticks": ""
           },
           "bgcolor": "white",
           "caxis": {
            "gridcolor": "#DFE8F3",
            "linecolor": "#A2B1C6",
            "ticks": ""
           }
          },
          "title": {
           "x": 0.05
          },
          "xaxis": {
           "automargin": true,
           "gridcolor": "#EBF0F8",
           "linecolor": "#EBF0F8",
           "ticks": "",
           "title": {
            "standoff": 15
           },
           "zerolinecolor": "#EBF0F8",
           "zerolinewidth": 2
          },
          "yaxis": {
           "automargin": true,
           "gridcolor": "#EBF0F8",
           "linecolor": "#EBF0F8",
           "ticks": "",
           "title": {
            "standoff": 15
           },
           "zerolinecolor": "#EBF0F8",
           "zerolinewidth": 2
          }
         }
        },
        "title": {
         "font": {
          "color": "Black",
          "size": 22
         },
         "text": "<b>Hierarchical Clustering</b>",
         "x": 0.5,
         "xanchor": "center",
         "yanchor": "top"
        },
        "width": 1000,
        "xaxis": {
         "mirror": "allticks",
         "rangemode": "tozero",
         "showgrid": false,
         "showline": true,
         "showticklabels": true,
         "ticks": "outside",
         "type": "linear",
         "zeroline": false
        },
        "yaxis": {
         "mirror": "allticks",
         "range": [
          -290,
          0
         ],
         "rangemode": "tozero",
         "showgrid": false,
         "showline": true,
         "showticklabels": true,
         "tickmode": "array",
         "ticks": "outside",
         "ticktext": [
          "12_ret_therefor_fib",
          "3_elliottwav_updat_box",
          "15_session_group_analysi",
          "10_consistentprofit_al_stra...",
          "8_scan_track_gainer",
          "28_finviz_courtesi_abovecloud",
          "9_return_sampp_total",
          "24_fourforon_stockhold_pend",
          "18_moon_alreadi_piec",
          "14_clown_roller_coaster",
          "7_put_option_lynk",
          "22_balanc_start_challeng",
          "20_uptrend_breakout_mini",
          "21_mrna_flow_top",
          "25_robinhood_relationship_c...",
          "27_heatmap_tmu_msft",
          "6_star_freedom_watchlist",
          "26_megacap_growthstock_gg",
          "23_file_form_llc",
          "17_open_manual_posit",
          "5_time_trade_close",
          "16_chat_profit_realli",
          "13_ai_robot_pro",
          "19_whale_shark_big",
          "1_trade_stock_market",
          "0_nvda_stock_share",
          "2_bullish_green_nvda",
          "4_sentiment_paid_strike",
          "11_alert_sweep_ox"
         ],
         "tickvals": [
          -5,
          -15,
          -25,
          -35,
          -45,
          -55,
          -65,
          -75,
          -85,
          -95,
          -105,
          -115,
          -125,
          -135,
          -145,
          -155,
          -165,
          -175,
          -185,
          -195,
          -205,
          -215,
          -225,
          -235,
          -245,
          -255,
          -265,
          -275,
          -285
         ],
         "type": "linear",
         "zeroline": false
        }
       }
      }
     },
     "metadata": {},
     "output_type": "display_data"
    },
    {
     "data": {
      "application/vnd.plotly.v1+json": {
       "config": {
        "plotlyServerURL": "https://plot.ly"
       },
       "data": [
        {
         "marker": {
          "color": "#D55E00"
         },
         "orientation": "h",
         "type": "bar",
         "x": [
          0.020712839021477688,
          0.02264642584892377,
          0.029741519480513866,
          0.032447948736335,
          0.04064991725869733
         ],
         "xaxis": "x",
         "y": [
          "min  ",
          "split  ",
          "share  ",
          "stock  ",
          "nvda  "
         ],
         "yaxis": "y"
        },
        {
         "marker": {
          "color": "#0072B2"
         },
         "orientation": "h",
         "type": "bar",
         "x": [
          0.013202241831364848,
          0.013546797820766787,
          0.01578219480332602,
          0.01607299336312297,
          0.01949056741031948
         ],
         "xaxis": "x2",
         "y": [
          "day  ",
          "nvda  ",
          "market  ",
          "stock  ",
          "trade  "
         ],
         "yaxis": "y2"
        },
        {
         "marker": {
          "color": "#CC79A7"
         },
         "orientation": "h",
         "type": "bar",
         "x": [
          0.040155624446198475,
          0.05158880373724781,
          0.052509931191873145,
          0.060152519486740906,
          0.15735486920016473
         ],
         "xaxis": "x3",
         "y": [
          "flow  ",
          "bearish  ",
          "nvda  ",
          "green  ",
          "bullish  "
         ],
         "yaxis": "y3"
        },
        {
         "marker": {
          "color": "#E69F00"
         },
         "orientation": "h",
         "type": "bar",
         "x": [
          0.1126541743128589,
          0.11585457699220149,
          0.11744654702355302,
          0.13637922047179626,
          0.1952685167843253
         ],
         "xaxis": "x4",
         "y": [
          "view  ",
          "blue  ",
          "box  ",
          "updat  ",
          "elliottwav  "
         ],
         "yaxis": "y4"
        },
        {
         "marker": {
          "color": "#56B4E9"
         },
         "orientation": "h",
         "type": "bar",
         "x": [
          0.18696931707212658,
          0.33618511457177264,
          0.3611479498512309,
          0.36967337992187693,
          0.4468170167770892
         ],
         "xaxis": "x5",
         "y": [
          "call  ",
          "premium  ",
          "strike  ",
          "paid  ",
          "sentiment  "
         ],
         "yaxis": "y5"
        },
        {
         "marker": {
          "color": "#009E73"
         },
         "orientation": "h",
         "type": "bar",
         "x": [
          0.17938014176026176,
          0.18048301169417771,
          0.19197814084358036,
          0.2291008567956724,
          0.2835206225486271
         ],
         "xaxis": "x6",
         "y": [
          "coinflip  ",
          "day  ",
          "close  ",
          "trade  ",
          "time  "
         ],
         "yaxis": "y6"
        },
        {
         "marker": {
          "color": "#F0E442"
         },
         "orientation": "h",
         "type": "bar",
         "x": [
          0.14983998392556883,
          0.20725969318462398,
          0.21853520800628692,
          0.28109585118134695,
          0.45826068241273804
         ],
         "xaxis": "x7",
         "y": [
          "tomorrow  ",
          "roku  ",
          "watchlist  ",
          "freedom  ",
          "star  "
         ],
         "yaxis": "y7"
        },
        {
         "marker": {
          "color": "#D55E00"
         },
         "orientation": "h",
         "type": "bar",
         "x": [
          0.153381482630964,
          0.17724081312772166,
          0.17724081312772166,
          0.2536477431727585,
          0.6476855364628398
         ],
         "xaxis": "x8",
         "y": [
          "volum  ",
          "bayo  ",
          "lynk  ",
          "option  ",
          "put  "
         ],
         "yaxis": "y8"
        },
        {
         "marker": {
          "color": "#0072B2"
         },
         "orientation": "h",
         "type": "bar",
         "x": [
          0.279723866896121,
          0.28252021605685357,
          0.2840632364368166,
          0.2974192645532379,
          0.38847227541934065
         ],
         "xaxis": "x9",
         "y": [
          "premarket  ",
          "loser  ",
          "gainer  ",
          "track  ",
          "scan  "
         ],
         "yaxis": "y9"
        },
        {
         "marker": {
          "color": "#CC79A7"
         },
         "orientation": "h",
         "type": "bar",
         "x": [
          0.1447754793551951,
          0.1982788285953071,
          0.20503026582363662,
          0.20773115401226563,
          0.34554027462324655
         ],
         "xaxis": "x10",
         "y": [
          "averag  ",
          "index  ",
          "total  ",
          "sampp  ",
          "return  "
         ],
         "yaxis": "y10"
        }
       ],
       "layout": {
        "annotations": [
         {
          "font": {
           "size": 16
          },
          "showarrow": false,
          "text": "Topic 0",
          "x": 0.0875,
          "xanchor": "center",
          "xref": "paper",
          "y": 1,
          "yanchor": "bottom",
          "yref": "paper"
         },
         {
          "font": {
           "size": 16
          },
          "showarrow": false,
          "text": "Topic 1",
          "x": 0.36250000000000004,
          "xanchor": "center",
          "xref": "paper",
          "y": 1,
          "yanchor": "bottom",
          "yref": "paper"
         },
         {
          "font": {
           "size": 16
          },
          "showarrow": false,
          "text": "Topic 2",
          "x": 0.6375000000000001,
          "xanchor": "center",
          "xref": "paper",
          "y": 1,
          "yanchor": "bottom",
          "yref": "paper"
         },
         {
          "font": {
           "size": 16
          },
          "showarrow": false,
          "text": "Topic 3",
          "x": 0.9125,
          "xanchor": "center",
          "xref": "paper",
          "y": 1,
          "yanchor": "bottom",
          "yref": "paper"
         },
         {
          "font": {
           "size": 16
          },
          "showarrow": false,
          "text": "Topic 4",
          "x": 0.0875,
          "xanchor": "center",
          "xref": "paper",
          "y": 0.6222222222222222,
          "yanchor": "bottom",
          "yref": "paper"
         },
         {
          "font": {
           "size": 16
          },
          "showarrow": false,
          "text": "Topic 5",
          "x": 0.36250000000000004,
          "xanchor": "center",
          "xref": "paper",
          "y": 0.6222222222222222,
          "yanchor": "bottom",
          "yref": "paper"
         },
         {
          "font": {
           "size": 16
          },
          "showarrow": false,
          "text": "Topic 6",
          "x": 0.6375000000000001,
          "xanchor": "center",
          "xref": "paper",
          "y": 0.6222222222222222,
          "yanchor": "bottom",
          "yref": "paper"
         },
         {
          "font": {
           "size": 16
          },
          "showarrow": false,
          "text": "Topic 7",
          "x": 0.9125,
          "xanchor": "center",
          "xref": "paper",
          "y": 0.6222222222222222,
          "yanchor": "bottom",
          "yref": "paper"
         },
         {
          "font": {
           "size": 16
          },
          "showarrow": false,
          "text": "Topic 8",
          "x": 0.0875,
          "xanchor": "center",
          "xref": "paper",
          "y": 0.24444444444444446,
          "yanchor": "bottom",
          "yref": "paper"
         },
         {
          "font": {
           "size": 16
          },
          "showarrow": false,
          "text": "Topic 9",
          "x": 0.36250000000000004,
          "xanchor": "center",
          "xref": "paper",
          "y": 0.24444444444444446,
          "yanchor": "bottom",
          "yref": "paper"
         }
        ],
        "height": 750,
        "hoverlabel": {
         "bgcolor": "white",
         "font": {
          "family": "Rockwell",
          "size": 16
         }
        },
        "showlegend": false,
        "template": {
         "data": {
          "bar": [
           {
            "error_x": {
             "color": "#2a3f5f"
            },
            "error_y": {
             "color": "#2a3f5f"
            },
            "marker": {
             "line": {
              "color": "white",
              "width": 0.5
             },
             "pattern": {
              "fillmode": "overlay",
              "size": 10,
              "solidity": 0.2
             }
            },
            "type": "bar"
           }
          ],
          "barpolar": [
           {
            "marker": {
             "line": {
              "color": "white",
              "width": 0.5
             },
             "pattern": {
              "fillmode": "overlay",
              "size": 10,
              "solidity": 0.2
             }
            },
            "type": "barpolar"
           }
          ],
          "carpet": [
           {
            "aaxis": {
             "endlinecolor": "#2a3f5f",
             "gridcolor": "#C8D4E3",
             "linecolor": "#C8D4E3",
             "minorgridcolor": "#C8D4E3",
             "startlinecolor": "#2a3f5f"
            },
            "baxis": {
             "endlinecolor": "#2a3f5f",
             "gridcolor": "#C8D4E3",
             "linecolor": "#C8D4E3",
             "minorgridcolor": "#C8D4E3",
             "startlinecolor": "#2a3f5f"
            },
            "type": "carpet"
           }
          ],
          "choropleth": [
           {
            "colorbar": {
             "outlinewidth": 0,
             "ticks": ""
            },
            "type": "choropleth"
           }
          ],
          "contour": [
           {
            "colorbar": {
             "outlinewidth": 0,
             "ticks": ""
            },
            "colorscale": [
             [
              0,
              "#0d0887"
             ],
             [
              0.1111111111111111,
              "#46039f"
             ],
             [
              0.2222222222222222,
              "#7201a8"
             ],
             [
              0.3333333333333333,
              "#9c179e"
             ],
             [
              0.4444444444444444,
              "#bd3786"
             ],
             [
              0.5555555555555556,
              "#d8576b"
             ],
             [
              0.6666666666666666,
              "#ed7953"
             ],
             [
              0.7777777777777778,
              "#fb9f3a"
             ],
             [
              0.8888888888888888,
              "#fdca26"
             ],
             [
              1,
              "#f0f921"
             ]
            ],
            "type": "contour"
           }
          ],
          "contourcarpet": [
           {
            "colorbar": {
             "outlinewidth": 0,
             "ticks": ""
            },
            "type": "contourcarpet"
           }
          ],
          "heatmap": [
           {
            "colorbar": {
             "outlinewidth": 0,
             "ticks": ""
            },
            "colorscale": [
             [
              0,
              "#0d0887"
             ],
             [
              0.1111111111111111,
              "#46039f"
             ],
             [
              0.2222222222222222,
              "#7201a8"
             ],
             [
              0.3333333333333333,
              "#9c179e"
             ],
             [
              0.4444444444444444,
              "#bd3786"
             ],
             [
              0.5555555555555556,
              "#d8576b"
             ],
             [
              0.6666666666666666,
              "#ed7953"
             ],
             [
              0.7777777777777778,
              "#fb9f3a"
             ],
             [
              0.8888888888888888,
              "#fdca26"
             ],
             [
              1,
              "#f0f921"
             ]
            ],
            "type": "heatmap"
           }
          ],
          "histogram": [
           {
            "marker": {
             "pattern": {
              "fillmode": "overlay",
              "size": 10,
              "solidity": 0.2
             }
            },
            "type": "histogram"
           }
          ],
          "histogram2d": [
           {
            "colorbar": {
             "outlinewidth": 0,
             "ticks": ""
            },
            "colorscale": [
             [
              0,
              "#0d0887"
             ],
             [
              0.1111111111111111,
              "#46039f"
             ],
             [
              0.2222222222222222,
              "#7201a8"
             ],
             [
              0.3333333333333333,
              "#9c179e"
             ],
             [
              0.4444444444444444,
              "#bd3786"
             ],
             [
              0.5555555555555556,
              "#d8576b"
             ],
             [
              0.6666666666666666,
              "#ed7953"
             ],
             [
              0.7777777777777778,
              "#fb9f3a"
             ],
             [
              0.8888888888888888,
              "#fdca26"
             ],
             [
              1,
              "#f0f921"
             ]
            ],
            "type": "histogram2d"
           }
          ],
          "histogram2dcontour": [
           {
            "colorbar": {
             "outlinewidth": 0,
             "ticks": ""
            },
            "colorscale": [
             [
              0,
              "#0d0887"
             ],
             [
              0.1111111111111111,
              "#46039f"
             ],
             [
              0.2222222222222222,
              "#7201a8"
             ],
             [
              0.3333333333333333,
              "#9c179e"
             ],
             [
              0.4444444444444444,
              "#bd3786"
             ],
             [
              0.5555555555555556,
              "#d8576b"
             ],
             [
              0.6666666666666666,
              "#ed7953"
             ],
             [
              0.7777777777777778,
              "#fb9f3a"
             ],
             [
              0.8888888888888888,
              "#fdca26"
             ],
             [
              1,
              "#f0f921"
             ]
            ],
            "type": "histogram2dcontour"
           }
          ],
          "mesh3d": [
           {
            "colorbar": {
             "outlinewidth": 0,
             "ticks": ""
            },
            "type": "mesh3d"
           }
          ],
          "parcoords": [
           {
            "line": {
             "colorbar": {
              "outlinewidth": 0,
              "ticks": ""
             }
            },
            "type": "parcoords"
           }
          ],
          "pie": [
           {
            "automargin": true,
            "type": "pie"
           }
          ],
          "scatter": [
           {
            "fillpattern": {
             "fillmode": "overlay",
             "size": 10,
             "solidity": 0.2
            },
            "type": "scatter"
           }
          ],
          "scatter3d": [
           {
            "line": {
             "colorbar": {
              "outlinewidth": 0,
              "ticks": ""
             }
            },
            "marker": {
             "colorbar": {
              "outlinewidth": 0,
              "ticks": ""
             }
            },
            "type": "scatter3d"
           }
          ],
          "scattercarpet": [
           {
            "marker": {
             "colorbar": {
              "outlinewidth": 0,
              "ticks": ""
             }
            },
            "type": "scattercarpet"
           }
          ],
          "scattergeo": [
           {
            "marker": {
             "colorbar": {
              "outlinewidth": 0,
              "ticks": ""
             }
            },
            "type": "scattergeo"
           }
          ],
          "scattergl": [
           {
            "marker": {
             "colorbar": {
              "outlinewidth": 0,
              "ticks": ""
             }
            },
            "type": "scattergl"
           }
          ],
          "scattermap": [
           {
            "marker": {
             "colorbar": {
              "outlinewidth": 0,
              "ticks": ""
             }
            },
            "type": "scattermap"
           }
          ],
          "scattermapbox": [
           {
            "marker": {
             "colorbar": {
              "outlinewidth": 0,
              "ticks": ""
             }
            },
            "type": "scattermapbox"
           }
          ],
          "scatterpolar": [
           {
            "marker": {
             "colorbar": {
              "outlinewidth": 0,
              "ticks": ""
             }
            },
            "type": "scatterpolar"
           }
          ],
          "scatterpolargl": [
           {
            "marker": {
             "colorbar": {
              "outlinewidth": 0,
              "ticks": ""
             }
            },
            "type": "scatterpolargl"
           }
          ],
          "scatterternary": [
           {
            "marker": {
             "colorbar": {
              "outlinewidth": 0,
              "ticks": ""
             }
            },
            "type": "scatterternary"
           }
          ],
          "surface": [
           {
            "colorbar": {
             "outlinewidth": 0,
             "ticks": ""
            },
            "colorscale": [
             [
              0,
              "#0d0887"
             ],
             [
              0.1111111111111111,
              "#46039f"
             ],
             [
              0.2222222222222222,
              "#7201a8"
             ],
             [
              0.3333333333333333,
              "#9c179e"
             ],
             [
              0.4444444444444444,
              "#bd3786"
             ],
             [
              0.5555555555555556,
              "#d8576b"
             ],
             [
              0.6666666666666666,
              "#ed7953"
             ],
             [
              0.7777777777777778,
              "#fb9f3a"
             ],
             [
              0.8888888888888888,
              "#fdca26"
             ],
             [
              1,
              "#f0f921"
             ]
            ],
            "type": "surface"
           }
          ],
          "table": [
           {
            "cells": {
             "fill": {
              "color": "#EBF0F8"
             },
             "line": {
              "color": "white"
             }
            },
            "header": {
             "fill": {
              "color": "#C8D4E3"
             },
             "line": {
              "color": "white"
             }
            },
            "type": "table"
           }
          ]
         },
         "layout": {
          "annotationdefaults": {
           "arrowcolor": "#2a3f5f",
           "arrowhead": 0,
           "arrowwidth": 1
          },
          "autotypenumbers": "strict",
          "coloraxis": {
           "colorbar": {
            "outlinewidth": 0,
            "ticks": ""
           }
          },
          "colorscale": {
           "diverging": [
            [
             0,
             "#8e0152"
            ],
            [
             0.1,
             "#c51b7d"
            ],
            [
             0.2,
             "#de77ae"
            ],
            [
             0.3,
             "#f1b6da"
            ],
            [
             0.4,
             "#fde0ef"
            ],
            [
             0.5,
             "#f7f7f7"
            ],
            [
             0.6,
             "#e6f5d0"
            ],
            [
             0.7,
             "#b8e186"
            ],
            [
             0.8,
             "#7fbc41"
            ],
            [
             0.9,
             "#4d9221"
            ],
            [
             1,
             "#276419"
            ]
           ],
           "sequential": [
            [
             0,
             "#0d0887"
            ],
            [
             0.1111111111111111,
             "#46039f"
            ],
            [
             0.2222222222222222,
             "#7201a8"
            ],
            [
             0.3333333333333333,
             "#9c179e"
            ],
            [
             0.4444444444444444,
             "#bd3786"
            ],
            [
             0.5555555555555556,
             "#d8576b"
            ],
            [
             0.6666666666666666,
             "#ed7953"
            ],
            [
             0.7777777777777778,
             "#fb9f3a"
            ],
            [
             0.8888888888888888,
             "#fdca26"
            ],
            [
             1,
             "#f0f921"
            ]
           ],
           "sequentialminus": [
            [
             0,
             "#0d0887"
            ],
            [
             0.1111111111111111,
             "#46039f"
            ],
            [
             0.2222222222222222,
             "#7201a8"
            ],
            [
             0.3333333333333333,
             "#9c179e"
            ],
            [
             0.4444444444444444,
             "#bd3786"
            ],
            [
             0.5555555555555556,
             "#d8576b"
            ],
            [
             0.6666666666666666,
             "#ed7953"
            ],
            [
             0.7777777777777778,
             "#fb9f3a"
            ],
            [
             0.8888888888888888,
             "#fdca26"
            ],
            [
             1,
             "#f0f921"
            ]
           ]
          },
          "colorway": [
           "#636efa",
           "#EF553B",
           "#00cc96",
           "#ab63fa",
           "#FFA15A",
           "#19d3f3",
           "#FF6692",
           "#B6E880",
           "#FF97FF",
           "#FECB52"
          ],
          "font": {
           "color": "#2a3f5f"
          },
          "geo": {
           "bgcolor": "white",
           "lakecolor": "white",
           "landcolor": "white",
           "showlakes": true,
           "showland": true,
           "subunitcolor": "#C8D4E3"
          },
          "hoverlabel": {
           "align": "left"
          },
          "hovermode": "closest",
          "mapbox": {
           "style": "light"
          },
          "paper_bgcolor": "white",
          "plot_bgcolor": "white",
          "polar": {
           "angularaxis": {
            "gridcolor": "#EBF0F8",
            "linecolor": "#EBF0F8",
            "ticks": ""
           },
           "bgcolor": "white",
           "radialaxis": {
            "gridcolor": "#EBF0F8",
            "linecolor": "#EBF0F8",
            "ticks": ""
           }
          },
          "scene": {
           "xaxis": {
            "backgroundcolor": "white",
            "gridcolor": "#DFE8F3",
            "gridwidth": 2,
            "linecolor": "#EBF0F8",
            "showbackground": true,
            "ticks": "",
            "zerolinecolor": "#EBF0F8"
           },
           "yaxis": {
            "backgroundcolor": "white",
            "gridcolor": "#DFE8F3",
            "gridwidth": 2,
            "linecolor": "#EBF0F8",
            "showbackground": true,
            "ticks": "",
            "zerolinecolor": "#EBF0F8"
           },
           "zaxis": {
            "backgroundcolor": "white",
            "gridcolor": "#DFE8F3",
            "gridwidth": 2,
            "linecolor": "#EBF0F8",
            "showbackground": true,
            "ticks": "",
            "zerolinecolor": "#EBF0F8"
           }
          },
          "shapedefaults": {
           "line": {
            "color": "#2a3f5f"
           }
          },
          "ternary": {
           "aaxis": {
            "gridcolor": "#DFE8F3",
            "linecolor": "#A2B1C6",
            "ticks": ""
           },
           "baxis": {
            "gridcolor": "#DFE8F3",
            "linecolor": "#A2B1C6",
            "ticks": ""
           },
           "bgcolor": "white",
           "caxis": {
            "gridcolor": "#DFE8F3",
            "linecolor": "#A2B1C6",
            "ticks": ""
           }
          },
          "title": {
           "x": 0.05
          },
          "xaxis": {
           "automargin": true,
           "gridcolor": "#EBF0F8",
           "linecolor": "#EBF0F8",
           "ticks": "",
           "title": {
            "standoff": 15
           },
           "zerolinecolor": "#EBF0F8",
           "zerolinewidth": 2
          },
          "yaxis": {
           "automargin": true,
           "gridcolor": "#EBF0F8",
           "linecolor": "#EBF0F8",
           "ticks": "",
           "title": {
            "standoff": 15
           },
           "zerolinecolor": "#EBF0F8",
           "zerolinewidth": 2
          }
         }
        },
        "title": {
         "font": {
          "color": "Black",
          "size": 22
         },
         "text": "Topic Word Scores",
         "x": 0.5,
         "xanchor": "center",
         "yanchor": "top"
        },
        "width": 1000,
        "xaxis": {
         "anchor": "y",
         "domain": [
          0,
          0.175
         ],
         "showgrid": true
        },
        "xaxis10": {
         "anchor": "y10",
         "domain": [
          0.275,
          0.45
         ],
         "showgrid": true
        },
        "xaxis11": {
         "anchor": "y11",
         "domain": [
          0.55,
          0.7250000000000001
         ],
         "showgrid": true
        },
        "xaxis12": {
         "anchor": "y12",
         "domain": [
          0.825,
          1
         ],
         "showgrid": true
        },
        "xaxis2": {
         "anchor": "y2",
         "domain": [
          0.275,
          0.45
         ],
         "showgrid": true
        },
        "xaxis3": {
         "anchor": "y3",
         "domain": [
          0.55,
          0.7250000000000001
         ],
         "showgrid": true
        },
        "xaxis4": {
         "anchor": "y4",
         "domain": [
          0.825,
          1
         ],
         "showgrid": true
        },
        "xaxis5": {
         "anchor": "y5",
         "domain": [
          0,
          0.175
         ],
         "showgrid": true
        },
        "xaxis6": {
         "anchor": "y6",
         "domain": [
          0.275,
          0.45
         ],
         "showgrid": true
        },
        "xaxis7": {
         "anchor": "y7",
         "domain": [
          0.55,
          0.7250000000000001
         ],
         "showgrid": true
        },
        "xaxis8": {
         "anchor": "y8",
         "domain": [
          0.825,
          1
         ],
         "showgrid": true
        },
        "xaxis9": {
         "anchor": "y9",
         "domain": [
          0,
          0.175
         ],
         "showgrid": true
        },
        "yaxis": {
         "anchor": "x",
         "domain": [
          0.7555555555555555,
          1
         ],
         "showgrid": true
        },
        "yaxis10": {
         "anchor": "x10",
         "domain": [
          0,
          0.24444444444444446
         ],
         "showgrid": true
        },
        "yaxis11": {
         "anchor": "x11",
         "domain": [
          0,
          0.24444444444444446
         ],
         "showgrid": true
        },
        "yaxis12": {
         "anchor": "x12",
         "domain": [
          0,
          0.24444444444444446
         ],
         "showgrid": true
        },
        "yaxis2": {
         "anchor": "x2",
         "domain": [
          0.7555555555555555,
          1
         ],
         "showgrid": true
        },
        "yaxis3": {
         "anchor": "x3",
         "domain": [
          0.7555555555555555,
          1
         ],
         "showgrid": true
        },
        "yaxis4": {
         "anchor": "x4",
         "domain": [
          0.7555555555555555,
          1
         ],
         "showgrid": true
        },
        "yaxis5": {
         "anchor": "x5",
         "domain": [
          0.37777777777777777,
          0.6222222222222222
         ],
         "showgrid": true
        },
        "yaxis6": {
         "anchor": "x6",
         "domain": [
          0.37777777777777777,
          0.6222222222222222
         ],
         "showgrid": true
        },
        "yaxis7": {
         "anchor": "x7",
         "domain": [
          0.37777777777777777,
          0.6222222222222222
         ],
         "showgrid": true
        },
        "yaxis8": {
         "anchor": "x8",
         "domain": [
          0.37777777777777777,
          0.6222222222222222
         ],
         "showgrid": true
        },
        "yaxis9": {
         "anchor": "x9",
         "domain": [
          0,
          0.24444444444444446
         ],
         "showgrid": true
        }
       }
      }
     },
     "metadata": {},
     "output_type": "display_data"
    },
    {
     "data": {
      "application/vnd.plotly.v1+json": {
       "config": {
        "plotlyServerURL": "https://plot.ly"
       },
       "data": [
        {
         "customdata": [
          [
           0,
           "nvda | stock | share | split | min",
           13206
          ],
          [
           1,
           "trade | stock | market | nvda | day",
           2552
          ],
          [
           2,
           "bullish | green | nvda | bearish | flow",
           2210
          ],
          [
           3,
           "elliottwav | updat | box | blue | view",
           1173
          ],
          [
           4,
           "sentiment | paid | strike | premium | call",
           339
          ],
          [
           5,
           "time | trade | close | day | coinflip",
           110
          ],
          [
           6,
           "star | freedom | watchlist | roku | tomorrow",
           103
          ],
          [
           7,
           "put | option | lynk | bayo | volum",
           87
          ],
          [
           8,
           "scan | track | gainer | loser | premarket",
           83
          ],
          [
           9,
           "return | sampp | total | index | averag",
           82
          ],
          [
           10,
           "consistentprofit | al | strangl | et | result",
           81
          ],
          [
           11,
           "alert | sweep | ox | daytrad | beta",
           80
          ],
          [
           12,
           "ret | therefor | fib | reach | manag",
           69
          ],
          [
           13,
           "ai | robot | pro | dead | perform",
           57
          ],
          [
           14,
           "clown | roller | coaster | ride | bearish",
           52
          ],
          [
           15,
           "session | group | analysi | live | elliottwav",
           50
          ],
          [
           16,
           "chat | profit | realli | huge | want",
           41
          ],
          [
           17,
           "open | manual | posit | gain | close",
           32
          ],
          [
           18,
           "moon | alreadi | piec | weight | price",
           26
          ],
          [
           19,
           "whale | shark | big | softbank | call",
           25
          ],
          [
           20,
           "uptrend | breakout | mini | break | parabol",
           25
          ],
          [
           21,
           "mrna | flow | top | inmd | bullish",
           22
          ],
          [
           22,
           "balanc | start | challeng | goal | strategi",
           21
          ],
          [
           23,
           "file | form | llc | posit | invest",
           18
          ],
          [
           24,
           "fourforon | stockhold | pend | annual | meet",
           17
          ],
          [
           25,
           "robinhood | relationship | chang | popular | effect",
           16
          ],
          [
           26,
           "megacap | growthstock | gg | unh | financ",
           15
          ],
          [
           27,
           "heatmap | tmu | msft | nasdaq | aapl",
           13
          ],
          [
           28,
           "finviz | courtesi | abovecloud | supersetup | activesequ",
           11
          ]
         ],
         "hovertemplate": "<b>Topic %{customdata[0]}</b><br>%{customdata[1]}<br>Size: %{customdata[2]}",
         "legendgroup": "",
         "marker": {
          "color": "#B0BEC5",
          "line": {
           "color": "DarkSlateGrey",
           "width": 2
          },
          "size": {
           "bdata": "ljP4CaIIlQRTAW4AZwBXAFMAUgBRAFAARQA5ADQAMgApACAAGgAZABkAFgAVABIAEQAQAA8ADQALAA==",
           "dtype": "i2"
          },
          "sizemode": "area",
          "sizeref": 8.25375,
          "symbol": "circle"
         },
         "mode": "markers",
         "name": "",
         "orientation": "v",
         "showlegend": false,
         "type": "scatter",
         "x": {
          "bdata": "X5XavvF+JUDTm17AP+A8QPA+YsDNJCRAMijaP4CPGEBtndg/LshxPzIVNECk2Kg/3yo3QBK95z9Cve2+cmQdQJ3JKEAjslS/BKVvvycqFb/QsbK/XR1wwLfI/D9mEzBAUrx/vzEIBEA77DZA45jpvt+yUsA=",
          "dtype": "f4"
         },
         "xaxis": "x",
         "y": {
          "bdata": "bgVYQHtJd0Bfwt1AGrijPzOe30CFsoE/rwaNQMXNaUDv+KBAkfmkQDdG5z+aiYBA1dCRP98+e0DqKpBAgJKKQGU+gkBQnYlAO4VjQM32ZkCO0oZAxLHmQIW3a0C6M7ZABk9oQEetiED+SK5ATP54QPUo2EA=",
          "dtype": "f4"
         },
         "yaxis": "y"
        }
       ],
       "layout": {
        "annotations": [
         {
          "showarrow": false,
          "text": "D1",
          "x": -4.314560890197754,
          "y": 4.575925827026367,
          "yshift": 10
         },
         {
          "showarrow": false,
          "text": "D2",
          "x": -0.4603480100631714,
          "xshift": 10,
          "y": 8.290579795837402
         }
        ],
        "height": 650,
        "hoverlabel": {
         "bgcolor": "white",
         "font": {
          "family": "Rockwell",
          "size": 16
         }
        },
        "legend": {
         "itemsizing": "constant",
         "tracegroupgap": 0
        },
        "margin": {
         "t": 60
        },
        "shapes": [
         {
          "line": {
           "color": "#CFD8DC",
           "width": 2
          },
          "type": "line",
          "x0": -0.4603480100631714,
          "x1": -0.4603480100631714,
          "y0": 0.8612713813781738,
          "y1": 8.290579795837402
         },
         {
          "line": {
           "color": "#9E9E9E",
           "width": 2
          },
          "type": "line",
          "x0": -4.314560890197754,
          "x1": 3.393864870071411,
          "y0": 4.575925827026367,
          "y1": 4.575925827026367
         }
        ],
        "sliders": [
         {
          "active": 0,
          "pad": {
           "t": 50
          },
          "steps": [
           {
            "args": [
             {
              "marker.color": [
               [
                "red",
                "#B0BEC5",
                "#B0BEC5",
                "#B0BEC5",
                "#B0BEC5",
                "#B0BEC5",
                "#B0BEC5",
                "#B0BEC5",
                "#B0BEC5",
                "#B0BEC5",
                "#B0BEC5",
                "#B0BEC5",
                "#B0BEC5",
                "#B0BEC5",
                "#B0BEC5",
                "#B0BEC5",
                "#B0BEC5",
                "#B0BEC5",
                "#B0BEC5",
                "#B0BEC5",
                "#B0BEC5",
                "#B0BEC5",
                "#B0BEC5",
                "#B0BEC5",
                "#B0BEC5",
                "#B0BEC5",
                "#B0BEC5",
                "#B0BEC5",
                "#B0BEC5"
               ]
              ]
             }
            ],
            "label": "Topic 0",
            "method": "update"
           },
           {
            "args": [
             {
              "marker.color": [
               [
                "#B0BEC5",
                "red",
                "#B0BEC5",
                "#B0BEC5",
                "#B0BEC5",
                "#B0BEC5",
                "#B0BEC5",
                "#B0BEC5",
                "#B0BEC5",
                "#B0BEC5",
                "#B0BEC5",
                "#B0BEC5",
                "#B0BEC5",
                "#B0BEC5",
                "#B0BEC5",
                "#B0BEC5",
                "#B0BEC5",
                "#B0BEC5",
                "#B0BEC5",
                "#B0BEC5",
                "#B0BEC5",
                "#B0BEC5",
                "#B0BEC5",
                "#B0BEC5",
                "#B0BEC5",
                "#B0BEC5",
                "#B0BEC5",
                "#B0BEC5",
                "#B0BEC5"
               ]
              ]
             }
            ],
            "label": "Topic 1",
            "method": "update"
           },
           {
            "args": [
             {
              "marker.color": [
               [
                "#B0BEC5",
                "#B0BEC5",
                "red",
                "#B0BEC5",
                "#B0BEC5",
                "#B0BEC5",
                "#B0BEC5",
                "#B0BEC5",
                "#B0BEC5",
                "#B0BEC5",
                "#B0BEC5",
                "#B0BEC5",
                "#B0BEC5",
                "#B0BEC5",
                "#B0BEC5",
                "#B0BEC5",
                "#B0BEC5",
                "#B0BEC5",
                "#B0BEC5",
                "#B0BEC5",
                "#B0BEC5",
                "#B0BEC5",
                "#B0BEC5",
                "#B0BEC5",
                "#B0BEC5",
                "#B0BEC5",
                "#B0BEC5",
                "#B0BEC5",
                "#B0BEC5"
               ]
              ]
             }
            ],
            "label": "Topic 2",
            "method": "update"
           },
           {
            "args": [
             {
              "marker.color": [
               [
                "#B0BEC5",
                "#B0BEC5",
                "#B0BEC5",
                "red",
                "#B0BEC5",
                "#B0BEC5",
                "#B0BEC5",
                "#B0BEC5",
                "#B0BEC5",
                "#B0BEC5",
                "#B0BEC5",
                "#B0BEC5",
                "#B0BEC5",
                "#B0BEC5",
                "#B0BEC5",
                "#B0BEC5",
                "#B0BEC5",
                "#B0BEC5",
                "#B0BEC5",
                "#B0BEC5",
                "#B0BEC5",
                "#B0BEC5",
                "#B0BEC5",
                "#B0BEC5",
                "#B0BEC5",
                "#B0BEC5",
                "#B0BEC5",
                "#B0BEC5",
                "#B0BEC5"
               ]
              ]
             }
            ],
            "label": "Topic 3",
            "method": "update"
           },
           {
            "args": [
             {
              "marker.color": [
               [
                "#B0BEC5",
                "#B0BEC5",
                "#B0BEC5",
                "#B0BEC5",
                "red",
                "#B0BEC5",
                "#B0BEC5",
                "#B0BEC5",
                "#B0BEC5",
                "#B0BEC5",
                "#B0BEC5",
                "#B0BEC5",
                "#B0BEC5",
                "#B0BEC5",
                "#B0BEC5",
                "#B0BEC5",
                "#B0BEC5",
                "#B0BEC5",
                "#B0BEC5",
                "#B0BEC5",
                "#B0BEC5",
                "#B0BEC5",
                "#B0BEC5",
                "#B0BEC5",
                "#B0BEC5",
                "#B0BEC5",
                "#B0BEC5",
                "#B0BEC5",
                "#B0BEC5"
               ]
              ]
             }
            ],
            "label": "Topic 4",
            "method": "update"
           },
           {
            "args": [
             {
              "marker.color": [
               [
                "#B0BEC5",
                "#B0BEC5",
                "#B0BEC5",
                "#B0BEC5",
                "#B0BEC5",
                "red",
                "#B0BEC5",
                "#B0BEC5",
                "#B0BEC5",
                "#B0BEC5",
                "#B0BEC5",
                "#B0BEC5",
                "#B0BEC5",
                "#B0BEC5",
                "#B0BEC5",
                "#B0BEC5",
                "#B0BEC5",
                "#B0BEC5",
                "#B0BEC5",
                "#B0BEC5",
                "#B0BEC5",
                "#B0BEC5",
                "#B0BEC5",
                "#B0BEC5",
                "#B0BEC5",
                "#B0BEC5",
                "#B0BEC5",
                "#B0BEC5",
                "#B0BEC5"
               ]
              ]
             }
            ],
            "label": "Topic 5",
            "method": "update"
           },
           {
            "args": [
             {
              "marker.color": [
               [
                "#B0BEC5",
                "#B0BEC5",
                "#B0BEC5",
                "#B0BEC5",
                "#B0BEC5",
                "#B0BEC5",
                "red",
                "#B0BEC5",
                "#B0BEC5",
                "#B0BEC5",
                "#B0BEC5",
                "#B0BEC5",
                "#B0BEC5",
                "#B0BEC5",
                "#B0BEC5",
                "#B0BEC5",
                "#B0BEC5",
                "#B0BEC5",
                "#B0BEC5",
                "#B0BEC5",
                "#B0BEC5",
                "#B0BEC5",
                "#B0BEC5",
                "#B0BEC5",
                "#B0BEC5",
                "#B0BEC5",
                "#B0BEC5",
                "#B0BEC5",
                "#B0BEC5"
               ]
              ]
             }
            ],
            "label": "Topic 6",
            "method": "update"
           },
           {
            "args": [
             {
              "marker.color": [
               [
                "#B0BEC5",
                "#B0BEC5",
                "#B0BEC5",
                "#B0BEC5",
                "#B0BEC5",
                "#B0BEC5",
                "#B0BEC5",
                "red",
                "#B0BEC5",
                "#B0BEC5",
                "#B0BEC5",
                "#B0BEC5",
                "#B0BEC5",
                "#B0BEC5",
                "#B0BEC5",
                "#B0BEC5",
                "#B0BEC5",
                "#B0BEC5",
                "#B0BEC5",
                "#B0BEC5",
                "#B0BEC5",
                "#B0BEC5",
                "#B0BEC5",
                "#B0BEC5",
                "#B0BEC5",
                "#B0BEC5",
                "#B0BEC5",
                "#B0BEC5",
                "#B0BEC5"
               ]
              ]
             }
            ],
            "label": "Topic 7",
            "method": "update"
           },
           {
            "args": [
             {
              "marker.color": [
               [
                "#B0BEC5",
                "#B0BEC5",
                "#B0BEC5",
                "#B0BEC5",
                "#B0BEC5",
                "#B0BEC5",
                "#B0BEC5",
                "#B0BEC5",
                "red",
                "#B0BEC5",
                "#B0BEC5",
                "#B0BEC5",
                "#B0BEC5",
                "#B0BEC5",
                "#B0BEC5",
                "#B0BEC5",
                "#B0BEC5",
                "#B0BEC5",
                "#B0BEC5",
                "#B0BEC5",
                "#B0BEC5",
                "#B0BEC5",
                "#B0BEC5",
                "#B0BEC5",
                "#B0BEC5",
                "#B0BEC5",
                "#B0BEC5",
                "#B0BEC5",
                "#B0BEC5"
               ]
              ]
             }
            ],
            "label": "Topic 8",
            "method": "update"
           },
           {
            "args": [
             {
              "marker.color": [
               [
                "#B0BEC5",
                "#B0BEC5",
                "#B0BEC5",
                "#B0BEC5",
                "#B0BEC5",
                "#B0BEC5",
                "#B0BEC5",
                "#B0BEC5",
                "#B0BEC5",
                "red",
                "#B0BEC5",
                "#B0BEC5",
                "#B0BEC5",
                "#B0BEC5",
                "#B0BEC5",
                "#B0BEC5",
                "#B0BEC5",
                "#B0BEC5",
                "#B0BEC5",
                "#B0BEC5",
                "#B0BEC5",
                "#B0BEC5",
                "#B0BEC5",
                "#B0BEC5",
                "#B0BEC5",
                "#B0BEC5",
                "#B0BEC5",
                "#B0BEC5",
                "#B0BEC5"
               ]
              ]
             }
            ],
            "label": "Topic 9",
            "method": "update"
           },
           {
            "args": [
             {
              "marker.color": [
               [
                "#B0BEC5",
                "#B0BEC5",
                "#B0BEC5",
                "#B0BEC5",
                "#B0BEC5",
                "#B0BEC5",
                "#B0BEC5",
                "#B0BEC5",
                "#B0BEC5",
                "#B0BEC5",
                "red",
                "#B0BEC5",
                "#B0BEC5",
                "#B0BEC5",
                "#B0BEC5",
                "#B0BEC5",
                "#B0BEC5",
                "#B0BEC5",
                "#B0BEC5",
                "#B0BEC5",
                "#B0BEC5",
                "#B0BEC5",
                "#B0BEC5",
                "#B0BEC5",
                "#B0BEC5",
                "#B0BEC5",
                "#B0BEC5",
                "#B0BEC5",
                "#B0BEC5"
               ]
              ]
             }
            ],
            "label": "Topic 10",
            "method": "update"
           },
           {
            "args": [
             {
              "marker.color": [
               [
                "#B0BEC5",
                "#B0BEC5",
                "#B0BEC5",
                "#B0BEC5",
                "#B0BEC5",
                "#B0BEC5",
                "#B0BEC5",
                "#B0BEC5",
                "#B0BEC5",
                "#B0BEC5",
                "#B0BEC5",
                "red",
                "#B0BEC5",
                "#B0BEC5",
                "#B0BEC5",
                "#B0BEC5",
                "#B0BEC5",
                "#B0BEC5",
                "#B0BEC5",
                "#B0BEC5",
                "#B0BEC5",
                "#B0BEC5",
                "#B0BEC5",
                "#B0BEC5",
                "#B0BEC5",
                "#B0BEC5",
                "#B0BEC5",
                "#B0BEC5",
                "#B0BEC5"
               ]
              ]
             }
            ],
            "label": "Topic 11",
            "method": "update"
           },
           {
            "args": [
             {
              "marker.color": [
               [
                "#B0BEC5",
                "#B0BEC5",
                "#B0BEC5",
                "#B0BEC5",
                "#B0BEC5",
                "#B0BEC5",
                "#B0BEC5",
                "#B0BEC5",
                "#B0BEC5",
                "#B0BEC5",
                "#B0BEC5",
                "#B0BEC5",
                "red",
                "#B0BEC5",
                "#B0BEC5",
                "#B0BEC5",
                "#B0BEC5",
                "#B0BEC5",
                "#B0BEC5",
                "#B0BEC5",
                "#B0BEC5",
                "#B0BEC5",
                "#B0BEC5",
                "#B0BEC5",
                "#B0BEC5",
                "#B0BEC5",
                "#B0BEC5",
                "#B0BEC5",
                "#B0BEC5"
               ]
              ]
             }
            ],
            "label": "Topic 12",
            "method": "update"
           },
           {
            "args": [
             {
              "marker.color": [
               [
                "#B0BEC5",
                "#B0BEC5",
                "#B0BEC5",
                "#B0BEC5",
                "#B0BEC5",
                "#B0BEC5",
                "#B0BEC5",
                "#B0BEC5",
                "#B0BEC5",
                "#B0BEC5",
                "#B0BEC5",
                "#B0BEC5",
                "#B0BEC5",
                "red",
                "#B0BEC5",
                "#B0BEC5",
                "#B0BEC5",
                "#B0BEC5",
                "#B0BEC5",
                "#B0BEC5",
                "#B0BEC5",
                "#B0BEC5",
                "#B0BEC5",
                "#B0BEC5",
                "#B0BEC5",
                "#B0BEC5",
                "#B0BEC5",
                "#B0BEC5",
                "#B0BEC5"
               ]
              ]
             }
            ],
            "label": "Topic 13",
            "method": "update"
           },
           {
            "args": [
             {
              "marker.color": [
               [
                "#B0BEC5",
                "#B0BEC5",
                "#B0BEC5",
                "#B0BEC5",
                "#B0BEC5",
                "#B0BEC5",
                "#B0BEC5",
                "#B0BEC5",
                "#B0BEC5",
                "#B0BEC5",
                "#B0BEC5",
                "#B0BEC5",
                "#B0BEC5",
                "#B0BEC5",
                "red",
                "#B0BEC5",
                "#B0BEC5",
                "#B0BEC5",
                "#B0BEC5",
                "#B0BEC5",
                "#B0BEC5",
                "#B0BEC5",
                "#B0BEC5",
                "#B0BEC5",
                "#B0BEC5",
                "#B0BEC5",
                "#B0BEC5",
                "#B0BEC5",
                "#B0BEC5"
               ]
              ]
             }
            ],
            "label": "Topic 14",
            "method": "update"
           },
           {
            "args": [
             {
              "marker.color": [
               [
                "#B0BEC5",
                "#B0BEC5",
                "#B0BEC5",
                "#B0BEC5",
                "#B0BEC5",
                "#B0BEC5",
                "#B0BEC5",
                "#B0BEC5",
                "#B0BEC5",
                "#B0BEC5",
                "#B0BEC5",
                "#B0BEC5",
                "#B0BEC5",
                "#B0BEC5",
                "#B0BEC5",
                "red",
                "#B0BEC5",
                "#B0BEC5",
                "#B0BEC5",
                "#B0BEC5",
                "#B0BEC5",
                "#B0BEC5",
                "#B0BEC5",
                "#B0BEC5",
                "#B0BEC5",
                "#B0BEC5",
                "#B0BEC5",
                "#B0BEC5",
                "#B0BEC5"
               ]
              ]
             }
            ],
            "label": "Topic 15",
            "method": "update"
           },
           {
            "args": [
             {
              "marker.color": [
               [
                "#B0BEC5",
                "#B0BEC5",
                "#B0BEC5",
                "#B0BEC5",
                "#B0BEC5",
                "#B0BEC5",
                "#B0BEC5",
                "#B0BEC5",
                "#B0BEC5",
                "#B0BEC5",
                "#B0BEC5",
                "#B0BEC5",
                "#B0BEC5",
                "#B0BEC5",
                "#B0BEC5",
                "#B0BEC5",
                "red",
                "#B0BEC5",
                "#B0BEC5",
                "#B0BEC5",
                "#B0BEC5",
                "#B0BEC5",
                "#B0BEC5",
                "#B0BEC5",
                "#B0BEC5",
                "#B0BEC5",
                "#B0BEC5",
                "#B0BEC5",
                "#B0BEC5"
               ]
              ]
             }
            ],
            "label": "Topic 16",
            "method": "update"
           },
           {
            "args": [
             {
              "marker.color": [
               [
                "#B0BEC5",
                "#B0BEC5",
                "#B0BEC5",
                "#B0BEC5",
                "#B0BEC5",
                "#B0BEC5",
                "#B0BEC5",
                "#B0BEC5",
                "#B0BEC5",
                "#B0BEC5",
                "#B0BEC5",
                "#B0BEC5",
                "#B0BEC5",
                "#B0BEC5",
                "#B0BEC5",
                "#B0BEC5",
                "#B0BEC5",
                "red",
                "#B0BEC5",
                "#B0BEC5",
                "#B0BEC5",
                "#B0BEC5",
                "#B0BEC5",
                "#B0BEC5",
                "#B0BEC5",
                "#B0BEC5",
                "#B0BEC5",
                "#B0BEC5",
                "#B0BEC5"
               ]
              ]
             }
            ],
            "label": "Topic 17",
            "method": "update"
           },
           {
            "args": [
             {
              "marker.color": [
               [
                "#B0BEC5",
                "#B0BEC5",
                "#B0BEC5",
                "#B0BEC5",
                "#B0BEC5",
                "#B0BEC5",
                "#B0BEC5",
                "#B0BEC5",
                "#B0BEC5",
                "#B0BEC5",
                "#B0BEC5",
                "#B0BEC5",
                "#B0BEC5",
                "#B0BEC5",
                "#B0BEC5",
                "#B0BEC5",
                "#B0BEC5",
                "#B0BEC5",
                "red",
                "#B0BEC5",
                "#B0BEC5",
                "#B0BEC5",
                "#B0BEC5",
                "#B0BEC5",
                "#B0BEC5",
                "#B0BEC5",
                "#B0BEC5",
                "#B0BEC5",
                "#B0BEC5"
               ]
              ]
             }
            ],
            "label": "Topic 18",
            "method": "update"
           },
           {
            "args": [
             {
              "marker.color": [
               [
                "#B0BEC5",
                "#B0BEC5",
                "#B0BEC5",
                "#B0BEC5",
                "#B0BEC5",
                "#B0BEC5",
                "#B0BEC5",
                "#B0BEC5",
                "#B0BEC5",
                "#B0BEC5",
                "#B0BEC5",
                "#B0BEC5",
                "#B0BEC5",
                "#B0BEC5",
                "#B0BEC5",
                "#B0BEC5",
                "#B0BEC5",
                "#B0BEC5",
                "#B0BEC5",
                "red",
                "#B0BEC5",
                "#B0BEC5",
                "#B0BEC5",
                "#B0BEC5",
                "#B0BEC5",
                "#B0BEC5",
                "#B0BEC5",
                "#B0BEC5",
                "#B0BEC5"
               ]
              ]
             }
            ],
            "label": "Topic 19",
            "method": "update"
           },
           {
            "args": [
             {
              "marker.color": [
               [
                "#B0BEC5",
                "#B0BEC5",
                "#B0BEC5",
                "#B0BEC5",
                "#B0BEC5",
                "#B0BEC5",
                "#B0BEC5",
                "#B0BEC5",
                "#B0BEC5",
                "#B0BEC5",
                "#B0BEC5",
                "#B0BEC5",
                "#B0BEC5",
                "#B0BEC5",
                "#B0BEC5",
                "#B0BEC5",
                "#B0BEC5",
                "#B0BEC5",
                "#B0BEC5",
                "#B0BEC5",
                "red",
                "#B0BEC5",
                "#B0BEC5",
                "#B0BEC5",
                "#B0BEC5",
                "#B0BEC5",
                "#B0BEC5",
                "#B0BEC5",
                "#B0BEC5"
               ]
              ]
             }
            ],
            "label": "Topic 20",
            "method": "update"
           },
           {
            "args": [
             {
              "marker.color": [
               [
                "#B0BEC5",
                "#B0BEC5",
                "#B0BEC5",
                "#B0BEC5",
                "#B0BEC5",
                "#B0BEC5",
                "#B0BEC5",
                "#B0BEC5",
                "#B0BEC5",
                "#B0BEC5",
                "#B0BEC5",
                "#B0BEC5",
                "#B0BEC5",
                "#B0BEC5",
                "#B0BEC5",
                "#B0BEC5",
                "#B0BEC5",
                "#B0BEC5",
                "#B0BEC5",
                "#B0BEC5",
                "#B0BEC5",
                "red",
                "#B0BEC5",
                "#B0BEC5",
                "#B0BEC5",
                "#B0BEC5",
                "#B0BEC5",
                "#B0BEC5",
                "#B0BEC5"
               ]
              ]
             }
            ],
            "label": "Topic 21",
            "method": "update"
           },
           {
            "args": [
             {
              "marker.color": [
               [
                "#B0BEC5",
                "#B0BEC5",
                "#B0BEC5",
                "#B0BEC5",
                "#B0BEC5",
                "#B0BEC5",
                "#B0BEC5",
                "#B0BEC5",
                "#B0BEC5",
                "#B0BEC5",
                "#B0BEC5",
                "#B0BEC5",
                "#B0BEC5",
                "#B0BEC5",
                "#B0BEC5",
                "#B0BEC5",
                "#B0BEC5",
                "#B0BEC5",
                "#B0BEC5",
                "#B0BEC5",
                "#B0BEC5",
                "#B0BEC5",
                "red",
                "#B0BEC5",
                "#B0BEC5",
                "#B0BEC5",
                "#B0BEC5",
                "#B0BEC5",
                "#B0BEC5"
               ]
              ]
             }
            ],
            "label": "Topic 22",
            "method": "update"
           },
           {
            "args": [
             {
              "marker.color": [
               [
                "#B0BEC5",
                "#B0BEC5",
                "#B0BEC5",
                "#B0BEC5",
                "#B0BEC5",
                "#B0BEC5",
                "#B0BEC5",
                "#B0BEC5",
                "#B0BEC5",
                "#B0BEC5",
                "#B0BEC5",
                "#B0BEC5",
                "#B0BEC5",
                "#B0BEC5",
                "#B0BEC5",
                "#B0BEC5",
                "#B0BEC5",
                "#B0BEC5",
                "#B0BEC5",
                "#B0BEC5",
                "#B0BEC5",
                "#B0BEC5",
                "#B0BEC5",
                "red",
                "#B0BEC5",
                "#B0BEC5",
                "#B0BEC5",
                "#B0BEC5",
                "#B0BEC5"
               ]
              ]
             }
            ],
            "label": "Topic 23",
            "method": "update"
           },
           {
            "args": [
             {
              "marker.color": [
               [
                "#B0BEC5",
                "#B0BEC5",
                "#B0BEC5",
                "#B0BEC5",
                "#B0BEC5",
                "#B0BEC5",
                "#B0BEC5",
                "#B0BEC5",
                "#B0BEC5",
                "#B0BEC5",
                "#B0BEC5",
                "#B0BEC5",
                "#B0BEC5",
                "#B0BEC5",
                "#B0BEC5",
                "#B0BEC5",
                "#B0BEC5",
                "#B0BEC5",
                "#B0BEC5",
                "#B0BEC5",
                "#B0BEC5",
                "#B0BEC5",
                "#B0BEC5",
                "#B0BEC5",
                "red",
                "#B0BEC5",
                "#B0BEC5",
                "#B0BEC5",
                "#B0BEC5"
               ]
              ]
             }
            ],
            "label": "Topic 24",
            "method": "update"
           },
           {
            "args": [
             {
              "marker.color": [
               [
                "#B0BEC5",
                "#B0BEC5",
                "#B0BEC5",
                "#B0BEC5",
                "#B0BEC5",
                "#B0BEC5",
                "#B0BEC5",
                "#B0BEC5",
                "#B0BEC5",
                "#B0BEC5",
                "#B0BEC5",
                "#B0BEC5",
                "#B0BEC5",
                "#B0BEC5",
                "#B0BEC5",
                "#B0BEC5",
                "#B0BEC5",
                "#B0BEC5",
                "#B0BEC5",
                "#B0BEC5",
                "#B0BEC5",
                "#B0BEC5",
                "#B0BEC5",
                "#B0BEC5",
                "#B0BEC5",
                "red",
                "#B0BEC5",
                "#B0BEC5",
                "#B0BEC5"
               ]
              ]
             }
            ],
            "label": "Topic 25",
            "method": "update"
           },
           {
            "args": [
             {
              "marker.color": [
               [
                "#B0BEC5",
                "#B0BEC5",
                "#B0BEC5",
                "#B0BEC5",
                "#B0BEC5",
                "#B0BEC5",
                "#B0BEC5",
                "#B0BEC5",
                "#B0BEC5",
                "#B0BEC5",
                "#B0BEC5",
                "#B0BEC5",
                "#B0BEC5",
                "#B0BEC5",
                "#B0BEC5",
                "#B0BEC5",
                "#B0BEC5",
                "#B0BEC5",
                "#B0BEC5",
                "#B0BEC5",
                "#B0BEC5",
                "#B0BEC5",
                "#B0BEC5",
                "#B0BEC5",
                "#B0BEC5",
                "#B0BEC5",
                "red",
                "#B0BEC5",
                "#B0BEC5"
               ]
              ]
             }
            ],
            "label": "Topic 26",
            "method": "update"
           },
           {
            "args": [
             {
              "marker.color": [
               [
                "#B0BEC5",
                "#B0BEC5",
                "#B0BEC5",
                "#B0BEC5",
                "#B0BEC5",
                "#B0BEC5",
                "#B0BEC5",
                "#B0BEC5",
                "#B0BEC5",
                "#B0BEC5",
                "#B0BEC5",
                "#B0BEC5",
                "#B0BEC5",
                "#B0BEC5",
                "#B0BEC5",
                "#B0BEC5",
                "#B0BEC5",
                "#B0BEC5",
                "#B0BEC5",
                "#B0BEC5",
                "#B0BEC5",
                "#B0BEC5",
                "#B0BEC5",
                "#B0BEC5",
                "#B0BEC5",
                "#B0BEC5",
                "#B0BEC5",
                "red",
                "#B0BEC5"
               ]
              ]
             }
            ],
            "label": "Topic 27",
            "method": "update"
           },
           {
            "args": [
             {
              "marker.color": [
               [
                "#B0BEC5",
                "#B0BEC5",
                "#B0BEC5",
                "#B0BEC5",
                "#B0BEC5",
                "#B0BEC5",
                "#B0BEC5",
                "#B0BEC5",
                "#B0BEC5",
                "#B0BEC5",
                "#B0BEC5",
                "#B0BEC5",
                "#B0BEC5",
                "#B0BEC5",
                "#B0BEC5",
                "#B0BEC5",
                "#B0BEC5",
                "#B0BEC5",
                "#B0BEC5",
                "#B0BEC5",
                "#B0BEC5",
                "#B0BEC5",
                "#B0BEC5",
                "#B0BEC5",
                "#B0BEC5",
                "#B0BEC5",
                "#B0BEC5",
                "#B0BEC5",
                "red"
               ]
              ]
             }
            ],
            "label": "Topic 28",
            "method": "update"
           }
          ]
         }
        ],
        "template": {
         "data": {
          "bar": [
           {
            "error_x": {
             "color": "rgb(36,36,36)"
            },
            "error_y": {
             "color": "rgb(36,36,36)"
            },
            "marker": {
             "line": {
              "color": "white",
              "width": 0.5
             },
             "pattern": {
              "fillmode": "overlay",
              "size": 10,
              "solidity": 0.2
             }
            },
            "type": "bar"
           }
          ],
          "barpolar": [
           {
            "marker": {
             "line": {
              "color": "white",
              "width": 0.5
             },
             "pattern": {
              "fillmode": "overlay",
              "size": 10,
              "solidity": 0.2
             }
            },
            "type": "barpolar"
           }
          ],
          "carpet": [
           {
            "aaxis": {
             "endlinecolor": "rgb(36,36,36)",
             "gridcolor": "white",
             "linecolor": "white",
             "minorgridcolor": "white",
             "startlinecolor": "rgb(36,36,36)"
            },
            "baxis": {
             "endlinecolor": "rgb(36,36,36)",
             "gridcolor": "white",
             "linecolor": "white",
             "minorgridcolor": "white",
             "startlinecolor": "rgb(36,36,36)"
            },
            "type": "carpet"
           }
          ],
          "choropleth": [
           {
            "colorbar": {
             "outlinewidth": 1,
             "tickcolor": "rgb(36,36,36)",
             "ticks": "outside"
            },
            "type": "choropleth"
           }
          ],
          "contour": [
           {
            "colorbar": {
             "outlinewidth": 1,
             "tickcolor": "rgb(36,36,36)",
             "ticks": "outside"
            },
            "colorscale": [
             [
              0,
              "#440154"
             ],
             [
              0.1111111111111111,
              "#482878"
             ],
             [
              0.2222222222222222,
              "#3e4989"
             ],
             [
              0.3333333333333333,
              "#31688e"
             ],
             [
              0.4444444444444444,
              "#26828e"
             ],
             [
              0.5555555555555556,
              "#1f9e89"
             ],
             [
              0.6666666666666666,
              "#35b779"
             ],
             [
              0.7777777777777778,
              "#6ece58"
             ],
             [
              0.8888888888888888,
              "#b5de2b"
             ],
             [
              1,
              "#fde725"
             ]
            ],
            "type": "contour"
           }
          ],
          "contourcarpet": [
           {
            "colorbar": {
             "outlinewidth": 1,
             "tickcolor": "rgb(36,36,36)",
             "ticks": "outside"
            },
            "type": "contourcarpet"
           }
          ],
          "heatmap": [
           {
            "colorbar": {
             "outlinewidth": 1,
             "tickcolor": "rgb(36,36,36)",
             "ticks": "outside"
            },
            "colorscale": [
             [
              0,
              "#440154"
             ],
             [
              0.1111111111111111,
              "#482878"
             ],
             [
              0.2222222222222222,
              "#3e4989"
             ],
             [
              0.3333333333333333,
              "#31688e"
             ],
             [
              0.4444444444444444,
              "#26828e"
             ],
             [
              0.5555555555555556,
              "#1f9e89"
             ],
             [
              0.6666666666666666,
              "#35b779"
             ],
             [
              0.7777777777777778,
              "#6ece58"
             ],
             [
              0.8888888888888888,
              "#b5de2b"
             ],
             [
              1,
              "#fde725"
             ]
            ],
            "type": "heatmap"
           }
          ],
          "histogram": [
           {
            "marker": {
             "line": {
              "color": "white",
              "width": 0.6
             }
            },
            "type": "histogram"
           }
          ],
          "histogram2d": [
           {
            "colorbar": {
             "outlinewidth": 1,
             "tickcolor": "rgb(36,36,36)",
             "ticks": "outside"
            },
            "colorscale": [
             [
              0,
              "#440154"
             ],
             [
              0.1111111111111111,
              "#482878"
             ],
             [
              0.2222222222222222,
              "#3e4989"
             ],
             [
              0.3333333333333333,
              "#31688e"
             ],
             [
              0.4444444444444444,
              "#26828e"
             ],
             [
              0.5555555555555556,
              "#1f9e89"
             ],
             [
              0.6666666666666666,
              "#35b779"
             ],
             [
              0.7777777777777778,
              "#6ece58"
             ],
             [
              0.8888888888888888,
              "#b5de2b"
             ],
             [
              1,
              "#fde725"
             ]
            ],
            "type": "histogram2d"
           }
          ],
          "histogram2dcontour": [
           {
            "colorbar": {
             "outlinewidth": 1,
             "tickcolor": "rgb(36,36,36)",
             "ticks": "outside"
            },
            "colorscale": [
             [
              0,
              "#440154"
             ],
             [
              0.1111111111111111,
              "#482878"
             ],
             [
              0.2222222222222222,
              "#3e4989"
             ],
             [
              0.3333333333333333,
              "#31688e"
             ],
             [
              0.4444444444444444,
              "#26828e"
             ],
             [
              0.5555555555555556,
              "#1f9e89"
             ],
             [
              0.6666666666666666,
              "#35b779"
             ],
             [
              0.7777777777777778,
              "#6ece58"
             ],
             [
              0.8888888888888888,
              "#b5de2b"
             ],
             [
              1,
              "#fde725"
             ]
            ],
            "type": "histogram2dcontour"
           }
          ],
          "mesh3d": [
           {
            "colorbar": {
             "outlinewidth": 1,
             "tickcolor": "rgb(36,36,36)",
             "ticks": "outside"
            },
            "type": "mesh3d"
           }
          ],
          "parcoords": [
           {
            "line": {
             "colorbar": {
              "outlinewidth": 1,
              "tickcolor": "rgb(36,36,36)",
              "ticks": "outside"
             }
            },
            "type": "parcoords"
           }
          ],
          "pie": [
           {
            "automargin": true,
            "type": "pie"
           }
          ],
          "scatter": [
           {
            "fillpattern": {
             "fillmode": "overlay",
             "size": 10,
             "solidity": 0.2
            },
            "type": "scatter"
           }
          ],
          "scatter3d": [
           {
            "line": {
             "colorbar": {
              "outlinewidth": 1,
              "tickcolor": "rgb(36,36,36)",
              "ticks": "outside"
             }
            },
            "marker": {
             "colorbar": {
              "outlinewidth": 1,
              "tickcolor": "rgb(36,36,36)",
              "ticks": "outside"
             }
            },
            "type": "scatter3d"
           }
          ],
          "scattercarpet": [
           {
            "marker": {
             "colorbar": {
              "outlinewidth": 1,
              "tickcolor": "rgb(36,36,36)",
              "ticks": "outside"
             }
            },
            "type": "scattercarpet"
           }
          ],
          "scattergeo": [
           {
            "marker": {
             "colorbar": {
              "outlinewidth": 1,
              "tickcolor": "rgb(36,36,36)",
              "ticks": "outside"
             }
            },
            "type": "scattergeo"
           }
          ],
          "scattergl": [
           {
            "marker": {
             "colorbar": {
              "outlinewidth": 1,
              "tickcolor": "rgb(36,36,36)",
              "ticks": "outside"
             }
            },
            "type": "scattergl"
           }
          ],
          "scattermap": [
           {
            "marker": {
             "colorbar": {
              "outlinewidth": 1,
              "tickcolor": "rgb(36,36,36)",
              "ticks": "outside"
             }
            },
            "type": "scattermap"
           }
          ],
          "scattermapbox": [
           {
            "marker": {
             "colorbar": {
              "outlinewidth": 1,
              "tickcolor": "rgb(36,36,36)",
              "ticks": "outside"
             }
            },
            "type": "scattermapbox"
           }
          ],
          "scatterpolar": [
           {
            "marker": {
             "colorbar": {
              "outlinewidth": 1,
              "tickcolor": "rgb(36,36,36)",
              "ticks": "outside"
             }
            },
            "type": "scatterpolar"
           }
          ],
          "scatterpolargl": [
           {
            "marker": {
             "colorbar": {
              "outlinewidth": 1,
              "tickcolor": "rgb(36,36,36)",
              "ticks": "outside"
             }
            },
            "type": "scatterpolargl"
           }
          ],
          "scatterternary": [
           {
            "marker": {
             "colorbar": {
              "outlinewidth": 1,
              "tickcolor": "rgb(36,36,36)",
              "ticks": "outside"
             }
            },
            "type": "scatterternary"
           }
          ],
          "surface": [
           {
            "colorbar": {
             "outlinewidth": 1,
             "tickcolor": "rgb(36,36,36)",
             "ticks": "outside"
            },
            "colorscale": [
             [
              0,
              "#440154"
             ],
             [
              0.1111111111111111,
              "#482878"
             ],
             [
              0.2222222222222222,
              "#3e4989"
             ],
             [
              0.3333333333333333,
              "#31688e"
             ],
             [
              0.4444444444444444,
              "#26828e"
             ],
             [
              0.5555555555555556,
              "#1f9e89"
             ],
             [
              0.6666666666666666,
              "#35b779"
             ],
             [
              0.7777777777777778,
              "#6ece58"
             ],
             [
              0.8888888888888888,
              "#b5de2b"
             ],
             [
              1,
              "#fde725"
             ]
            ],
            "type": "surface"
           }
          ],
          "table": [
           {
            "cells": {
             "fill": {
              "color": "rgb(237,237,237)"
             },
             "line": {
              "color": "white"
             }
            },
            "header": {
             "fill": {
              "color": "rgb(217,217,217)"
             },
             "line": {
              "color": "white"
             }
            },
            "type": "table"
           }
          ]
         },
         "layout": {
          "annotationdefaults": {
           "arrowhead": 0,
           "arrowwidth": 1
          },
          "autotypenumbers": "strict",
          "coloraxis": {
           "colorbar": {
            "outlinewidth": 1,
            "tickcolor": "rgb(36,36,36)",
            "ticks": "outside"
           }
          },
          "colorscale": {
           "diverging": [
            [
             0,
             "rgb(103,0,31)"
            ],
            [
             0.1,
             "rgb(178,24,43)"
            ],
            [
             0.2,
             "rgb(214,96,77)"
            ],
            [
             0.3,
             "rgb(244,165,130)"
            ],
            [
             0.4,
             "rgb(253,219,199)"
            ],
            [
             0.5,
             "rgb(247,247,247)"
            ],
            [
             0.6,
             "rgb(209,229,240)"
            ],
            [
             0.7,
             "rgb(146,197,222)"
            ],
            [
             0.8,
             "rgb(67,147,195)"
            ],
            [
             0.9,
             "rgb(33,102,172)"
            ],
            [
             1,
             "rgb(5,48,97)"
            ]
           ],
           "sequential": [
            [
             0,
             "#440154"
            ],
            [
             0.1111111111111111,
             "#482878"
            ],
            [
             0.2222222222222222,
             "#3e4989"
            ],
            [
             0.3333333333333333,
             "#31688e"
            ],
            [
             0.4444444444444444,
             "#26828e"
            ],
            [
             0.5555555555555556,
             "#1f9e89"
            ],
            [
             0.6666666666666666,
             "#35b779"
            ],
            [
             0.7777777777777778,
             "#6ece58"
            ],
            [
             0.8888888888888888,
             "#b5de2b"
            ],
            [
             1,
             "#fde725"
            ]
           ],
           "sequentialminus": [
            [
             0,
             "#440154"
            ],
            [
             0.1111111111111111,
             "#482878"
            ],
            [
             0.2222222222222222,
             "#3e4989"
            ],
            [
             0.3333333333333333,
             "#31688e"
            ],
            [
             0.4444444444444444,
             "#26828e"
            ],
            [
             0.5555555555555556,
             "#1f9e89"
            ],
            [
             0.6666666666666666,
             "#35b779"
            ],
            [
             0.7777777777777778,
             "#6ece58"
            ],
            [
             0.8888888888888888,
             "#b5de2b"
            ],
            [
             1,
             "#fde725"
            ]
           ]
          },
          "colorway": [
           "#1F77B4",
           "#FF7F0E",
           "#2CA02C",
           "#D62728",
           "#9467BD",
           "#8C564B",
           "#E377C2",
           "#7F7F7F",
           "#BCBD22",
           "#17BECF"
          ],
          "font": {
           "color": "rgb(36,36,36)"
          },
          "geo": {
           "bgcolor": "white",
           "lakecolor": "white",
           "landcolor": "white",
           "showlakes": true,
           "showland": true,
           "subunitcolor": "white"
          },
          "hoverlabel": {
           "align": "left"
          },
          "hovermode": "closest",
          "mapbox": {
           "style": "light"
          },
          "paper_bgcolor": "white",
          "plot_bgcolor": "white",
          "polar": {
           "angularaxis": {
            "gridcolor": "rgb(232,232,232)",
            "linecolor": "rgb(36,36,36)",
            "showgrid": false,
            "showline": true,
            "ticks": "outside"
           },
           "bgcolor": "white",
           "radialaxis": {
            "gridcolor": "rgb(232,232,232)",
            "linecolor": "rgb(36,36,36)",
            "showgrid": false,
            "showline": true,
            "ticks": "outside"
           }
          },
          "scene": {
           "xaxis": {
            "backgroundcolor": "white",
            "gridcolor": "rgb(232,232,232)",
            "gridwidth": 2,
            "linecolor": "rgb(36,36,36)",
            "showbackground": true,
            "showgrid": false,
            "showline": true,
            "ticks": "outside",
            "zeroline": false,
            "zerolinecolor": "rgb(36,36,36)"
           },
           "yaxis": {
            "backgroundcolor": "white",
            "gridcolor": "rgb(232,232,232)",
            "gridwidth": 2,
            "linecolor": "rgb(36,36,36)",
            "showbackground": true,
            "showgrid": false,
            "showline": true,
            "ticks": "outside",
            "zeroline": false,
            "zerolinecolor": "rgb(36,36,36)"
           },
           "zaxis": {
            "backgroundcolor": "white",
            "gridcolor": "rgb(232,232,232)",
            "gridwidth": 2,
            "linecolor": "rgb(36,36,36)",
            "showbackground": true,
            "showgrid": false,
            "showline": true,
            "ticks": "outside",
            "zeroline": false,
            "zerolinecolor": "rgb(36,36,36)"
           }
          },
          "shapedefaults": {
           "fillcolor": "black",
           "line": {
            "width": 0
           },
           "opacity": 0.3
          },
          "ternary": {
           "aaxis": {
            "gridcolor": "rgb(232,232,232)",
            "linecolor": "rgb(36,36,36)",
            "showgrid": false,
            "showline": true,
            "ticks": "outside"
           },
           "baxis": {
            "gridcolor": "rgb(232,232,232)",
            "linecolor": "rgb(36,36,36)",
            "showgrid": false,
            "showline": true,
            "ticks": "outside"
           },
           "bgcolor": "white",
           "caxis": {
            "gridcolor": "rgb(232,232,232)",
            "linecolor": "rgb(36,36,36)",
            "showgrid": false,
            "showline": true,
            "ticks": "outside"
           }
          },
          "title": {
           "x": 0.05
          },
          "xaxis": {
           "automargin": true,
           "gridcolor": "rgb(232,232,232)",
           "linecolor": "rgb(36,36,36)",
           "showgrid": false,
           "showline": true,
           "ticks": "outside",
           "title": {
            "standoff": 15
           },
           "zeroline": false,
           "zerolinecolor": "rgb(36,36,36)"
          },
          "yaxis": {
           "automargin": true,
           "gridcolor": "rgb(232,232,232)",
           "linecolor": "rgb(36,36,36)",
           "showgrid": false,
           "showline": true,
           "ticks": "outside",
           "title": {
            "standoff": 15
           },
           "zeroline": false,
           "zerolinecolor": "rgb(36,36,36)"
          }
         }
        },
        "title": {
         "font": {
          "color": "Black",
          "size": 22
         },
         "text": "<b>Intertopic Distance Map</b>",
         "x": 0.5,
         "xanchor": "center",
         "y": 0.95,
         "yanchor": "top"
        },
        "width": 650,
        "xaxis": {
         "anchor": "y",
         "domain": [
          0,
          1
         ],
         "range": [
          -4.314560890197754,
          3.393864870071411
         ],
         "title": {
          "text": ""
         },
         "visible": false
        },
        "yaxis": {
         "anchor": "x",
         "domain": [
          0,
          1
         ],
         "range": [
          0.8612713813781738,
          8.290579795837402
         ],
         "title": {
          "text": ""
         },
         "visible": false
        }
       }
      }
     },
     "metadata": {},
     "output_type": "display_data"
    },
    {
     "name": "stderr",
     "output_type": "stream",
     "text": [
      "2025-05-24 14:05:17,394 - BERTopic - WARNING: There are more than 100 unique timestamps (i.e., 1096) which significantly slows down the application. Consider setting `nr_bins` to a value lower than 100 to speed up calculation. \n"
     ]
    },
    {
     "name": "stdout",
     "output_type": "stream",
     "text": [
      "topic\n",
      "0    13206\n",
      "1     2552\n",
      "2     2210\n",
      "3     1173\n",
      "4      339\n",
      "5      110\n",
      "6      103\n",
      "7       87\n",
      "8       83\n",
      "9       82\n",
      "Name: count, dtype: int64\n"
     ]
    },
    {
     "name": "stderr",
     "output_type": "stream",
     "text": [
      "1096it [00:15, 71.93it/s]\n"
     ]
    },
    {
     "data": {
      "application/vnd.plotly.v1+json": {
       "config": {
        "plotlyServerURL": "https://plot.ly"
       },
       "data": [
        {
         "hoverinfo": "text",
         "hovertext": [
          "<b>Topic 0</b><br>Words: kristit, altogeth, xxii, pyx, nbev",
          "<b>Topic 0</b><br>Words: spend, researchchartingtradinglos, freaken, kaoyassa, cramer",
          "<b>Topic 0</b><br>Words: fa, wash, reject, adb, trash",
          "<b>Topic 0</b><br>Words: flexibl, cnbc, wrong, fed, actual",
          "<b>Topic 0</b><br>Words: adb, sq, though, gon, feel",
          "<b>Topic 0</b><br>Words: fleec, roast, ce, sad, oversold",
          "<b>Topic 0</b><br>Words: gap, gold, spamjam, pumpin, ming",
          "<b>Topic 0</b><br>Words: resolv, virtu, measur, meaning, inventori",
          "<b>Topic 0</b><br>Words: dean, oversuppli, port, analog, thx",
          "<b>Topic 0</b><br>Words: idea, afraid, peopl, delay, confid",
          "<b>Topic 0</b><br>Words: monthlychart, fibonnacilevel, psi, recognit, ndx",
          "<b>Topic 0</b><br>Words: eur, eastern, wth, treat, europ",
          "<b>Topic 0</b><br>Words: aushark, resist, volum, cup, afraid",
          "<b>Topic 0</b><br>Words: camhack, resist, delusion, feed, tip",
          "<b>Topic 0</b><br>Words: paddingtonbear, citizen, fb, refer, pathet",
          "<b>Topic 0</b><br>Words: wihl, loook, rode, mchp, constantli",
          "<b>Topic 0</b><br>Words: mke, dsnt, gover, ohhh, mama",
          "<b>Topic 0</b><br>Words: fb, fcau, mdwd, shakedown, low",
          "<b>Topic 0</b><br>Words: lolol, diversityquot, bigne, compañía, lolololol",
          "<b>Topic 0</b><br>Words: nvda, xlnx, rip, chip, semi",
          "<b>Topic 0</b><br>Words: mu, nvda, million, call, today",
          "<b>Topic 0</b><br>Words: ralli, alway, bear, tech, market",
          "<b>Topic 0</b><br>Words: neanderth, doin, lolol, came, penni",
          "<b>Topic 0</b><br>Words: nvda, share, stock, cheap, downgrad",
          "<b>Topic 0</b><br>Words: nvda, stock, price, buy, get",
          "<b>Topic 0</b><br>Words: jcobjcob, oversuppli, put, volum, let",
          "<b>Topic 0</b><br>Words: irrat, share, nvda, longhamm, frm",
          "<b>Topic 0</b><br>Words: nflx, dom, compititor, fb, governor",
          "<b>Topic 0</b><br>Words: overpr, subst, prob, proof, revis",
          "<b>Topic 0</b><br>Words: trc, unsolicit, offer, receiv, quotminitenderquot",
          "<b>Topic 0</b><br>Words: fight, shiiit, damn, trump, chd",
          "<b>Topic 0</b><br>Words: softbank, fund, vision, dump, nvda",
          "<b>Topic 0</b><br>Words: stake, buyback, proce, billion, directli",
          "<b>Topic 0</b><br>Words: poss, greater, bear, market, bullsey",
          "<b>Topic 0</b><br>Words: bipolar, she, good, buy, amd",
          "<b>Topic 0</b><br>Words: collaps, forget, recov, institut, buyer",
          "<b>Topic 0</b><br>Words: downgrad, bernstein, er, ssl, nnn",
          "<b>Topic 0</b><br>Words: ipo, vaporsfum, sinc, ralli, buy",
          "<b>Topic 0</b><br>Words: ec, closest, hdb, xiaci, tcehi",
          "<b>Topic 0</b><br>Words: nvda, er, stock, buyback, guidanc",
          "<b>Topic 0</b><br>Words: nvda, swing, share, stock, long",
          "<b>Topic 0</b><br>Words: gorilla, pound, overhead, iot, soxx",
          "<b>Topic 0</b><br>Words: downtown, avgo, ibd, six, semiconductor",
          "<b>Topic 0</b><br>Words: wfe, ttnp, gigafactori, gasolin, gallon",
          "<b>Topic 0</b><br>Words: tomorrowfriday, syf, nbl, cig, xop",
          "<b>Topic 0</b><br>Words: burn, semiconductor, dog, sky, rule",
          "<b>Topic 0</b><br>Words: arghhhh, mdgl, dlph, derm, intc",
          "<b>Topic 0</b><br>Words: pew, plu, lock, team, bottom",
          "<b>Topic 0</b><br>Words: gap, decemb, heatsink, torn, av",
          "<b>Topic 0</b><br>Words: kelli, tricki, peter, nxp, weaker",
          "<b>Topic 0</b><br>Words: dividend, green, tradealik, tomorrow, close",
          "<b>Topic 0</b><br>Words: intraday, whew, dung, uncommon, comin",
          "<b>Topic 0</b><br>Words: row, fav, print, ride, volatil",
          "<b>Topic 0</b><br>Words: invidia, warrior, rage, nerv, grew",
          "<b>Topic 0</b><br>Words: volum, huya, economi, stori, wave",
          "<b>Topic 0</b><br>Words: trap, putti, byron, glutton, dicki",
          "<b>Topic 0</b><br>Words: supr, rcii, unsold, mantra, stockpil",
          "<b>Topic 0</b><br>Words: mtn, pal, passiv, volum, darl",
          "<b>Topic 0</b><br>Words: smack, ter, brand, headlin, tend",
          "<b>Topic 0</b><br>Words: cashstocksloan, depend, discount, alreadi, drop",
          "<b>Topic 0</b><br>Words: stock, nvda, volum, thisni, casi",
          "<b>Topic 0</b><br>Words: eod, volum, gtc, bo, mlnx",
          "<b>Topic 0</b><br>Words: bo, lt, brexit, exce, bzun",
          "<b>Topic 0</b><br>Words: aktx, ntra, espr, distinguish, term",
          "<b>Topic 0</b><br>Words: portfol, ccciti, avgo, gl, mrvl",
          "<b>Topic 0</b><br>Words: chrisvermeulen, bear, iwm, roll, pull",
          "<b>Topic 0</b><br>Words: wayyyyy, backward, cld, siri, black",
          "<b>Topic 0</b><br>Words: analyst, zyne, tyht, scheplick, pha",
          "<b>Topic 0</b><br>Words: mu, upgrad, typic, growin, earnin",
          "<b>Topic 0</b><br>Words: aapl, mu, anoth, amd, ckyder",
          "<b>Topic 0</b><br>Words: ba, nflx, contact, amzn, gs",
          "<b>Topic 0</b><br>Words: scari, gs, jpm, debt, goog",
          "<b>Topic 0</b><br>Words: fall, sale, billion, apart, unreal",
          "<b>Topic 0</b><br>Words: bbbi, upgrad, pump, analyst, faang",
          "<b>Topic 0</b><br>Words: rang, clean, outsid, respect, mind",
          "<b>Topic 0</b><br>Words: cover, stocktraderpro, dreamer, bear, period",
          "<b>Topic 0</b><br>Words: aytu, jealou, savag, buyer, swing",
          "<b>Topic 0</b><br>Words: ypf, bt, obv, coti, celg",
          "<b>Topic 0</b><br>Words: alltim, detail, yr, sound, healthi",
          "<b>Topic 0</b><br>Words: construct, handl, space, leader, within",
          "<b>Topic 0</b><br>Words: instinet, nomura, amd, neutral, twtr",
          "<b>Topic 0</b><br>Words: nte, everyday, hype, bs, overbought",
          "<b>Topic 0</b><br>Words: ahpm, lull, lyft, wan, ppl",
          "<b>Topic 0</b><br>Words: wi, bia, technic, nvidia, analysi",
          "<b>Topic 0</b><br>Words: finscreen, jbht, sourc, ctsh, pfg",
          "<b>Topic 0</b><br>Words: med, cnc, vmw, bipolar, realli",
          "<b>Topic 0</b><br>Words: shortterm, irrevoc, db, tcehi, mcd",
          "<b>Topic 0</b><br>Words: eca, scare, goog, kr, coti",
          "<b>Topic 0</b><br>Words: downgrad, boo, awi, rgld, pch",
          "<b>Topic 0</b><br>Words: nxt, stm, mchp, nxpi, none",
          "<b>Topic 0</b><br>Words: afloat, asian, downgrad, cautious, central",
          "<b>Topic 0</b><br>Words: analysi, drip, conclus, timefram, weight",
          "<b>Topic 0</b><br>Words: needham, tunr, computex, hmm, low",
          "<b>Topic 0</b><br>Words: pin, die, ipo, pop, downgrad",
          "<b>Topic 0</b><br>Words: shaft, dismal, bogu, barclay, mouth",
          "<b>Topic 0</b><br>Words: ae, xlu, vs, smh, util",
          "<b>Topic 0</b><br>Words: unusu, whydidibuysnap, tomw, fjscapit, lcrx",
          "<b>Topic 0</b><br>Words: discount, trashi, arci, offens, stne",
          "<b>Topic 0</b><br>Words: pro, share, nvda, clearli, qualiti",
          "<b>Topic 0</b><br>Words: modifieddarvasbox, loweri, nick, draft, champion",
          "<b>Topic 0</b><br>Words: newbienick, rx, beat, tech, new",
          "<b>Topic 0</b><br>Words: nanddram, underneath, heck, floor, mu",
          "<b>Topic 0</b><br>Words: bshit, monopol, outsmart, luxuri, rise",
          "<b>Topic 0</b><br>Words: sellinmay, mantra, particularli, ground, chip",
          "<b>Topic 0</b><br>Words: gpro, ge, znga, di, activ",
          "<b>Topic 0</b><br>Words: whosgotthechees, who, xlk, initi, becom",
          "<b>Topic 0</b><br>Words: tarrif, qcom, particularli, nxpi, hurt",
          "<b>Topic 0</b><br>Words: ru, saint, pete, bloodbath, whenev",
          "<b>Topic 0</b><br>Words: teum, char, obsolet, di, live",
          "<b>Topic 0</b><br>Words: revolut, iron, discount, sever, fire",
          "<b>Topic 0</b><br>Words: grab, agre, lower, low, share",
          "<b>Topic 0</b><br>Words: vding, eve, seven, wipe, btfd",
          "<b>Topic 0</b><br>Words: cautious, retest, simpl, discount, march",
          "<b>Topic 0</b><br>Words: dec, er, satur, come, actual",
          "<b>Topic 0</b><br>Words: becam, overli, grant, anybodi, bare",
          "<b>Topic 0</b><br>Words: fook, technolog, finscreen, asid, btd",
          "<b>Topic 0</b><br>Words: guidanc, nvda, share, stock, sold",
          "<b>Topic 0</b><br>Words: nvda, stock, schafer, nvidia, guidanc",
          "<b>Topic 0</b><br>Words: likr, cup, datacent, handl, tax",
          "<b>Topic 0</b><br>Words: yoi, galleri, aggrav, thx, remark",
          "<b>Topic 0</b><br>Words: male, noon, never, treat, shitti",
          "<b>Topic 0</b><br>Words: head, invent, nte, succeed, travel",
          "<b>Topic 0</b><br>Words: fk, assss, time, low, cheap",
          "<b>Topic 0</b><br>Words: vrtx, cheap, finscreen, support, regn",
          "<b>Topic 0</b><br>Words: magnumpl, winter, spring, get, nio",
          "<b>Topic 0</b><br>Words: buyback, tariff, etf, slop, sfet",
          "<b>Topic 0</b><br>Words: rumour, dividend, bear, site, anybodi",
          "<b>Topic 0</b><br>Words: put, januari, open, purport, chrw",
          "<b>Topic 0</b><br>Words: orderli, wad, myl, deni, khc",
          "<b>Topic 0</b><br>Words: columbin, investar, dean, privat, corpor",
          "<b>Topic 0</b><br>Words: wail, control, cypress, infineon, mgr",
          "<b>Topic 0</b><br>Words: fest, prop, steal, share, nvda",
          "<b>Topic 0</b><br>Words: fitch, mexico, broken, selfmad, fff",
          "<b>Topic 0</b><br>Words: stocktowncali, anem, barclay, tag, whatev",
          "<b>Topic 0</b><br>Words: abnorm, spring, commit, confus, individu",
          "<b>Topic 0</b><br>Words: poverti, stamped, bull, lowest, mil",
          "<b>Topic 0</b><br>Words: dram, destroythecoin, mu, due, overblown",
          "<b>Topic 0</b><br>Words: avgo, tradingprofessor, salmanaziz, dataquot, quotbig",
          "<b>Topic 0</b><br>Words: overvalu, avgo, aa, sector, rdfn",
          "<b>Topic 0</b><br>Words: eyebal, nvdia, welcom, enough, load",
          "<b>Topic 0</b><br>Words: okay, cent, share, pop, worth",
          "<b>Topic 0</b><br>Words: flip, warmingtrend, ctrv, retailtrad, swinger",
          "<b>Topic 0</b><br>Words: multipl, newbienick, myl, khc, finscreen",
          "<b>Topic 0</b><br>Words: increas, two, arena, oracl, trim",
          "<b>Topic 0</b><br>Words: summit, explain, boost, usual, sector",
          "<b>Topic 0</b><br>Words: war, far, thank, target, year",
          "<b>Topic 0</b><br>Words: sucker, recess, worth, mu, chip",
          "<b>Topic 0</b><br>Words: dpw, gbtc, result, week, summit",
          "<b>Topic 0</b><br>Words: quotoutperformquot, upgrad, price, kbh, kb",
          "<b>Topic 0</b><br>Words: symc, jun, volum, oi, fomo",
          "<b>Topic 0</b><br>Words: broke, trend, bearish, money, make",
          "<b>Topic 0</b><br>Words: gap, uwt, halfday, gaptrad, grass",
          "<b>Topic 0</b><br>Words: nuff, goin, callput, anywher, warn",
          "<b>Topic 0</b><br>Words: myl, khc, finscreen, ndx, atvi",
          "<b>Topic 0</b><br>Words: sigu, planteo, no, gráfico, escenario",
          "<b>Topic 0</b><br>Words: superrr, nbr, chk, result, cei",
          "<b>Topic 0</b><br>Words: game, effici, manufactur, pricest, within",
          "<b>Topic 0</b><br>Words: die, leg, red, daili, volum",
          "<b>Topic 0</b><br>Words: status, erron, blatantli, phenomenon, ipgp",
          "<b>Topic 0</b><br>Words: upgrad, ci, ww, anf, ctl",
          "<b>Topic 0</b><br>Words: apc, shariy, rvlt, fama, lase",
          "<b>Topic 0</b><br>Words: huwai, spotlight, sint, barron, rs",
          "<b>Topic 0</b><br>Words: never, faang, consist, worst, pt",
          "<b>Topic 0</b><br>Words: drell, director, determin, bloomberg, taiwan",
          "<b>Topic 0</b><br>Words: hold, argu, klac, stand, top",
          "<b>Topic 0</b><br>Words: hang, januari, avg, moment, flat",
          "<b>Topic 0</b><br>Words: unsold, downcycl, stx, draw, nowher",
          "<b>Topic 0</b><br>Words: distant, anet, finscreen, somewher, rank",
          "<b>Topic 0</b><br>Words: upvot, fiasco, ak, lovin, ls",
          "<b>Topic 0</b><br>Words: weung, tomorrow, sharpli, daili, open",
          "<b>Topic 0</b><br>Words: mil, downonli, puzzl, avg, usual",
          "<b>Topic 0</b><br>Words: omg, crap, away, pump, go",
          "<b>Topic 0</b><br>Words: vff, mj, nk, tlsa, ogi",
          "<b>Topic 0</b><br>Words: sim, purchas, later, stocktwit, sold",
          "<b>Topic 0</b><br>Words: tk, reenter, mine, detect, glta",
          "<b>Topic 0</b><br>Words: importantli, met, beat, inlin, nxpi",
          "<b>Topic 0</b><br>Words: lengthi, tumbl, flash, unh, powel",
          "<b>Topic 0</b><br>Words: trumpfu, quotnoisequot, ed, irbt, understood",
          "<b>Topic 0</b><br>Words: fuck, fine, tarif, chikof, ie",
          "<b>Topic 0</b><br>Words: reallyl, gap, eod, detect, burn",
          "<b>Topic 0</b><br>Words: enclavestock, ralli, practic, desper, middl",
          "<b>Topic 0</b><br>Words: hungri, relief, bear, anyth, give",
          "<b>Topic 0</b><br>Words: cocki, eat, hate, left, center",
          "<b>Topic 0</b><br>Words: processor, po, histori, hate, estim",
          "<b>Topic 0</b><br>Words: homeinvsn, gap, earn, break, movement",
          "<b>Topic 0</b><br>Words: shlt, imho, csco, broken, garbag",
          "<b>Topic 0</b><br>Words: chip, back, may, earn, whatev",
          "<b>Topic 0</b><br>Words: toprat, smarteranalyst, earn, report, onto",
          "<b>Topic 0</b><br>Words: nvda, tomorrow, inventori, invest, upgrad",
          "<b>Topic 0</b><br>Words: ep, guid, nvda, game, said",
          "<b>Topic 0</b><br>Words: latest, dd, sinatra, charli, ewe",
          "<b>Topic 0</b><br>Words: wb, bidu, result, vip, trace",
          "<b>Topic 0</b><br>Words: di, overweight, ifnni, infineon, mxim",
          "<b>Topic 0</b><br>Words: command, hottest, replac, tonight, buy",
          "<b>Topic 0</b><br>Words: tothemoon, bac, target, resist, show",
          "<b>Topic 0</b><br>Words: jah, short, trump, pleas, sell",
          "<b>Topic 0</b><br>Words: quotmpga, againquot, portray, blown, directli",
          "<b>Topic 0</b><br>Words: hearbi, order, baba, everyon, stop",
          "<b>Topic 0</b><br>Words: fri, small, dividend, payment, narrow",
          "<b>Topic 0</b><br>Words: pay, veev, dividend, tonight, short",
          "<b>Topic 0</b><br>Words: favor, bond, especi, ralli, soon",
          "<b>Topic 0</b><br>Words: fsli, ggn, corral, stamped, nickel",
          "<b>Topic 0</b><br>Words: pinner, where, payment, pypl, idea",
          "<b>Topic 0</b><br>Words: nov, farther, hv, humbl, bu",
          "<b>Topic 0</b><br>Words: sin, phoni, void, trim, leav",
          "<b>Topic 0</b><br>Words: gdamn, captainplanet, bisexu, checkback, dirti",
          "<b>Topic 0</b><br>Words: cramer, pick, grand, bankrupt, yearend",
          "<b>Topic 0</b><br>Words: dnr, mik, daq, alli, convict",
          "<b>Topic 0</b><br>Words: longjbish, interest, id, notic, net",
          "<b>Topic 0</b><br>Words: complain, comparison, domin, matter, least",
          "<b>Topic 0</b><br>Words: jagx, sint, awhil, detect, warn",
          "<b>Topic 0</b><br>Words: secondti, jagx, hrl, dz, fu",
          "<b>Topic 0</b><br>Words: rmb, snap, weak, sq, monday",
          "<b>Topic 0</b><br>Words: websit, steadi, straight, dump, nasdaq",
          "<b>Topic 0</b><br>Words: becom, pump, wait, strong, stock",
          "<b>Topic 0</b><br>Words: ntap, ctl, dxc, trip, finscreen",
          "<b>Topic 0</b><br>Words: nail, disappoint, selloff, pleas, semi",
          "<b>Topic 0</b><br>Words: payment, septemb, dividend, day, nvda",
          "<b>Topic 0</b><br>Words: basic, build, roku, larg, sq",
          "<b>Topic 0</b><br>Words: úp, reaffirm, conclus, draw, item",
          "<b>Topic 0</b><br>Words: temporali, ystd, repo, oct, detect",
          "<b>Topic 0</b><br>Words: biz, goldman, ppl, hot, grow",
          "<b>Topic 0</b><br>Words: peloton, bail, ttwo, whoever, tini",
          "<b>Topic 0</b><br>Words: breakdown, wveri, side, alway, nervou",
          "<b>Topic 0</b><br>Words: fs, anet, finscreen, rank, sourc",
          "<b>Topic 0</b><br>Words: tank, ju, fuckin, random, crack",
          "<b>Topic 0</b><br>Words: long, share, nvda, stock, amd",
          "<b>Topic 0</b><br>Words: chipsamp, reevalu, fastest, autom, serious",
          "<b>Topic 0</b><br>Words: gold, walk, semi, hite, getsom",
          "<b>Topic 0</b><br>Words: upgrad, avya, pcg, rbc, tnk",
          "<b>Topic 0</b><br>Words: selllllll, robotttttt, conundrum, evil, yesterday",
          "<b>Topic 0</b><br>Words: bidu, dennismccain, bloat, justifi, avg",
          "<b>Topic 0</b><br>Words: detect, unusu, volum, nvda, stock",
          "<b>Topic 0</b><br>Words: cod, rear, spec, bmi, bbbi",
          "<b>Topic 0</b><br>Words: say, price, stock, nvda, amd",
          "<b>Topic 0</b><br>Words: oprah, close, breakout, resist, rais",
          "<b>Topic 0</b><br>Words: target, manicguest, swn, jpm, america",
          "<b>Topic 0</b><br>Words: patten, tday, bout, bmi, ship",
          "<b>Topic 0</b><br>Words: despit, beast, dtea, epect, price",
          "<b>Topic 0</b><br>Words: adher, tsem, giddi, pb, gem",
          "<b>Topic 0</b><br>Words: resist, nvee, target, week, uptrend",
          "<b>Topic 0</b><br>Words: rice, cisn, trov, hog, bil",
          "<b>Topic 0</b><br>Words: overreact, txn, detect, send, unusu",
          "<b>Topic 0</b><br>Words: narrow, confus, rip, seen, rang",
          "<b>Topic 0</b><br>Words: tightrang, hl, flex, perk, vip",
          "<b>Topic 0</b><br>Words: weekend, also, upgrad, expect, nvda",
          "<b>Topic 0</b><br>Words: crimsonghost, faang, besid, lotto, repres",
          "<b>Topic 0</b><br>Words: earn, ultim, light, gave, rocket",
          "<b>Topic 0</b><br>Words: mess, fool, bear, one, bullish",
          "<b>Topic 0</b><br>Words: max, pain, number, imho, forc",
          "<b>Topic 0</b><br>Words: year, ish, level, bear, oct",
          "<b>Topic 0</b><br>Words: harvest, de, garbag, still, entir",
          "<b>Topic 0</b><br>Words: tarrif, cancel, terrifi, pump, inclin",
          "<b>Topic 0</b><br>Words: xavier, nx, liter, mindblow, spec",
          "<b>Topic 0</b><br>Words: dollar, resist, support, howev, away",
          "<b>Topic 0</b><br>Words: eye, larg, baba, fb, watch",
          "<b>Topic 0</b><br>Words: product, ub, arcuri, cycl, target",
          "<b>Topic 0</b><br>Words: macro, oppenheim, outperform, maintain, breakout",
          "<b>Topic 0</b><br>Words: nvda, guidanc, likey, share, buy",
          "<b>Topic 0</b><br>Words: rais, target, price, nvda, nvidia",
          "<b>Topic 0</b><br>Words: denver, raytrac, concur, catalyz, ob",
          "<b>Topic 0</b><br>Words: firm, increas, mani, continu, er",
          "<b>Topic 0</b><br>Words: vrsk, session, foxa, kneed, estim",
          "<b>Topic 0</b><br>Words: thewallstreetstag, askingpay, cashquot, sellingbuy, redicul",
          "<b>Topic 0</b><br>Words: supercomput, lipaci, quot, nvda, buy",
          "<b>Topic 0</b><br>Words: green, downgrad, fookin, tda, cy",
          "<b>Topic 0</b><br>Words: impati, tough, detect, gl, unusu",
          "<b>Topic 0</b><br>Words: essenc, spin, citron, suit, follow",
          "<b>Topic 0</b><br>Words: morgan, stanley, upgrad, nvda, oxi",
          "<b>Topic 0</b><br>Words: although, fuckkg, fuckkng, fuckkgn, within",
          "<b>Topic 0</b><br>Words: overbought, char, amd, qqq, mu",
          "<b>Topic 0</b><br>Words: bear, shop, ah, sure, mani",
          "<b>Topic 0</b><br>Words: hong, kong, fsli, screw, pin",
          "<b>Topic 0</b><br>Words: ui, optionsflow, ten, omg, trash",
          "<b>Topic 0</b><br>Words: volum, amd, unresolv, tomm, lod",
          "<b>Topic 0</b><br>Words: charg, lead, forward, stock, nvda",
          "<b>Topic 0</b><br>Words: fulfil, abrupt, four, climb, nearli",
          "<b>Topic 0</b><br>Words: letsc, hergt, pend, upper, jan",
          "<b>Topic 0</b><br>Words: pivotpoint, acb, goog, monday, bearish",
          "<b>Topic 0</b><br>Words: gpro, citron, chwi, construct, marketsmith",
          "<b>Topic 0</b><br>Words: citron, statement, pton, nobodi, easili",
          "<b>Topic 0</b><br>Words: googth, conting, caveat, con, amd",
          "<b>Topic 0</b><br>Words: stockxtwit, come, buyer, tlsa, volum",
          "<b>Topic 0</b><br>Words: fsli, januaryfebruari, snap, eye, fvrr",
          "<b>Topic 0</b><br>Words: cc, anticip, swk, highli, pin",
          "<b>Topic 0</b><br>Words: jim, cramer, lightn, thumb, prefer",
          "<b>Topic 0</b><br>Words: cag, siri, result, dbx, rad",
          "<b>Topic 0</b><br>Words: closer, jd, amd, incomefund, pstg",
          "<b>Topic 0</b><br>Words: esb, lucid, motor, electr, tract",
          "<b>Topic 0</b><br>Words: forefront, wday, biib, fargo, face",
          "<b>Topic 0</b><br>Words: fvrr, semiconductor, tariff, consum, phone",
          "<b>Topic 0</b><br>Words: slowno, noseble, combo, greedi, perfect",
          "<b>Topic 0</b><br>Words: finom, tvix, uvxi, offici, spx",
          "<b>Topic 0</b><br>Words: inmod, inmd, ipo, nva, inexpens",
          "<b>Topic 0</b><br>Words: saturday, nrz, amt, ntnx, result",
          "<b>Topic 0</b><br>Words: briankk, firework, year, theme, rais",
          "<b>Topic 0</b><br>Words: mustown, rollout, asid, favorit, play",
          "<b>Topic 0</b><br>Words: mlnx, traderevers, ltltltshould, gtgtcurrentltltlt, glordphil",
          "<b>Topic 0</b><br>Words: stiill, motiv, tripl, catch, entri",
          "<b>Topic 0</b><br>Words: iphi, ibdpartn, ce, marketsmith, amper",
          "<b>Topic 0</b><br>Words: rvlv, weather, storm, brief, progress",
          "<b>Topic 0</b><br>Words: mideast, tension, optim, okay, mellanox",
          "<b>Topic 0</b><br>Words: ching, quotsound, gettinf, hahhahahahahahajaja, hothand",
          "<b>Topic 0</b><br>Words: sogo, newr, guesstim, wayyy, upgrad",
          "<b>Topic 0</b><br>Words: rvol, chg, jpm, sort, scan",
          "<b>Topic 0</b><br>Words: pstg, combo, anet, excel, amd",
          "<b>Topic 0</b><br>Words: semi, nxp, mizuho, quotstabil, jona",
          "<b>Topic 0</b><br>Words: upgrad, bs, fall, move, week",
          "<b>Topic 0</b><br>Words: thor, blow, kill, xlnx, perform",
          "<b>Topic 0</b><br>Words: ebitda, largest, intuit, roic, indebt",
          "<b>Topic 0</b><br>Words: sq, best, invest, term, aapl",
          "<b>Topic 0</b><br>Words: momofomo, yah, caveat, widen, potenti",
          "<b>Topic 0</b><br>Words: sucker, babi, morn, hit, let",
          "<b>Topic 0</b><br>Words: ub, chang, dog, target, furiousstyless",
          "<b>Topic 0</b><br>Words: dal, purchas, tri, portfolio, amzn",
          "<b>Topic 0</b><br>Words: love, semi, rodger, cnnc, tj",
          "<b>Topic 0</b><br>Words: consider, curiou, requir, graphic, soxx",
          "<b>Topic 0</b><br>Words: channel, fire, cru, hurri, btd",
          "<b>Topic 0</b><br>Words: asml, among, soxl, pay, dividend",
          "<b>Topic 0</b><br>Words: undervalu, becom, head, great, invest",
          "<b>Topic 0</b><br>Words: billion, gaf, cuzzinunclegrandpa, rev, hitech",
          "<b>Topic 0</b><br>Words: sma, recov, sign, bull, close",
          "<b>Topic 0</b><br>Words: teva, asia, significantli, bidu, congrat",
          "<b>Topic 0</b><br>Words: tesla, catch, tsla, pessim, tndm",
          "<b>Topic 0</b><br>Words: trend, rise, wide, middl, shortterm",
          "<b>Topic 0</b><br>Words: mck, vol, result, abbv, fcel",
          "<b>Topic 0</b><br>Words: tmu, result, uber, hot, exc",
          "<b>Topic 0</b><br>Words: thecult, stockmarketl, scene, shadi, hold",
          "<b>Topic 0</b><br>Words: nvda, report, earn, good, er",
          "<b>Topic 0</b><br>Words: nvda, spce, target, rais, high",
          "<b>Topic 0</b><br>Words: float, infamouslegato, snd, actual, prev",
          "<b>Topic 0</b><br>Words: cleanup, support, coronaviru, beaten, oct",
          "<b>Topic 0</b><br>Words: lam, amat, nvidia, cornoviru, xilinix",
          "<b>Topic 0</b><br>Words: inst, ft, cog, pay, bad",
          "<b>Topic 0</b><br>Words: love, nvda, result, enph, tsla",
          "<b>Topic 0</b><br>Words: holdout, volum, fundamentaltechn, huge, analyst",
          "<b>Topic 0</b><br>Words: go, broke, rekt, shud, load",
          "<b>Topic 0</b><br>Words: dumap, react, act, qualiti, happi",
          "<b>Topic 0</b><br>Words: wchina, ttmtrade, amd, mu, semiconductor",
          "<b>Topic 0</b><br>Words: downgrad, silli, nomura, ouchi, dayum",
          "<b>Topic 0</b><br>Words: sandbag, manag, resist, guidanc, finger",
          "<b>Topic 0</b><br>Words: yesterday, quotmust, right, damnit, rumour",
          "<b>Topic 0</b><br>Words: mxim, maxim, largest, stock, texa",
          "<b>Topic 0</b><br>Words: sea, career, rough, xlk, ya",
          "<b>Topic 0</b><br>Words: outta, remot, tv, alway, lol",
          "<b>Topic 0</b><br>Words: anyon, race, bear, explain, trap",
          "<b>Topic 0</b><br>Words: guid, fridaymonday, theori, msft, enph",
          "<b>Topic 0</b><br>Words: yday, quotgoldquot, ihamp, decim, ot",
          "<b>Topic 0</b><br>Words: eva, fire, gap, yday, ter",
          "<b>Topic 0</b><br>Words: postion, larri, rofl, kudlow, overtak",
          "<b>Topic 0</b><br>Words: gl, upsid, potenti, bull, sell",
          "<b>Topic 0</b><br>Words: ibm, qualcomm, profit, boat, anytim",
          "<b>Topic 0</b><br>Words: mastercard, microsoft, largest, cisco, ebitda",
          "<b>Topic 0</b><br>Words: stay, urg, bang, dang, ouch",
          "<b>Topic 0</b><br>Words: spi, tbc, bear, chillax, kit",
          "<b>Topic 0</b><br>Words: oppurtun, instea, besr, foolish, tvix",
          "<b>Topic 0</b><br>Words: limit, threshold, cme, futur, exchang",
          "<b>Topic 0</b><br>Words: human, maneuv, keshiu, egoodnight, apdn",
          "<b>Topic 0</b><br>Words: debttoebitda, melt, fine, high, issu",
          "<b>Topic 0</b><br>Words: quotanchor, vbp, pump, brace, bath",
          "<b>Topic 0</b><br>Words: epidem, spiderman, shortest, chrisgradyyyy, errand",
          "<b>Topic 0</b><br>Words: compet, fuel, step, amazon, fire",
          "<b>Topic 0</b><br>Words: abubn, proof, overpr, bloat, recess",
          "<b>Topic 0</b><br>Words: unsur, ration, detect, still, price",
          "<b>Topic 0</b><br>Words: situat, vol, unusu, volum, nvda",
          "<b>Topic 0</b><br>Words: vix, unexpect, price, bloodi, elev",
          "<b>Topic 0</b><br>Words: unemploy, steril, irrationalvolatil, opinion, overal",
          "<b>Topic 0</b><br>Words: clv, grpn, cv, afternoon, sec",
          "<b>Topic 0</b><br>Words: tri, post, lot, bear, make",
          "<b>Topic 0</b><br>Words: hologram, laptop, gpu, vr, sunar",
          "<b>Topic 0</b><br>Words: microsoft, zero, algo, sit, asteroid",
          "<b>Topic 0</b><br>Words: anecdot, quater, abrupt, drawn, turnaround",
          "<b>Topic 0</b><br>Words: yesterday, uhoh, surrend, shi, parasit",
          "<b>Topic 0</b><br>Words: usag, amazon, largest, lk, sign",
          "<b>Topic 0</b><br>Words: needham, quottheyquot, cut, semi, microchip",
          "<b>Topic 0</b><br>Words: jina, sore, trader, wait, mindset",
          "<b>Topic 0</b><br>Words: yardwork, rachelstock, high, suspend, dt",
          "<b>Topic 0</b><br>Words: rightwrong, tact, shield, unknown, opex",
          "<b>Topic 0</b><br>Words: utl, static, shallow, steeper, backtest",
          "<b>Topic 0</b><br>Words: mlnx, fix, acquisit, someon, given",
          "<b>Topic 0</b><br>Words: downgrad, craighallum, syk, ash, okta",
          "<b>Topic 0</b><br>Words: wall, street, airlinescasino, fuke, tesla",
          "<b>Topic 0</b><br>Words: lilli, lli, ebitda, asml, novo",
          "<b>Topic 0</b><br>Words: tick, abysm, buoy, tge, gmbl",
          "<b>Topic 0</b><br>Words: rocket, ba, caught, ub, nvda",
          "<b>Topic 0</b><br>Words: sidebysid, comparison, histor, hot, longterm",
          "<b>Topic 0</b><br>Words: oil, that, accordingli, danger, great",
          "<b>Topic 0</b><br>Words: attractor, ma, internet, netflix, stronger",
          "<b>Topic 0</b><br>Words: oop, textbook, rug, exhaust, iwm",
          "<b>Topic 0</b><br>Words: coe, wane, semi, hmmm, automot",
          "<b>Topic 0</b><br>Words: fail, whipsaw, subpar, camp, intel",
          "<b>Topic 0</b><br>Words: trust, uso, jnug, lk, ytd",
          "<b>Topic 0</b><br>Words: iphi, fcf, bare, incred, scan",
          "<b>Topic 0</b><br>Words: hod, fang, overpr, rather, beast",
          "<b>Topic 0</b><br>Words: shooter, lionk, rode, djia, sub",
          "<b>Topic 0</b><br>Words: codx, within, easi, check, love",
          "<b>Topic 0</b><br>Words: resn, extrem, upto, name, lscc",
          "<b>Topic 0</b><br>Words: servic, officialflowtrad, raid, bastard, spam",
          "<b>Topic 0</b><br>Words: retest, came, gt, aggrav, indian",
          "<b>Topic 0</b><br>Words: network, cumulu, undisclos, sum, oper",
          "<b>Topic 0</b><br>Words: wewillmakeit, brick, snapshot, noob, xom",
          "<b>Topic 0</b><br>Words: cherri, highsquot, opinion, quotbubbl, protract",
          "<b>Topic 0</b><br>Words: ride, puppi, invit, lowest, profit",
          "<b>Topic 0</b><br>Words: line, trend, resist, dissolv, test",
          "<b>Topic 0</b><br>Words: mgnx, new, high, taught, time",
          "<b>Topic 0</b><br>Words: poo, overbot, stocktrickswithnick, bcrx, work",
          "<b>Topic 0</b><br>Words: mellanox, cumulu, tencent, amid, shortterm",
          "<b>Topic 0</b><br>Words: domin, commun, lrcx, manuf, competitionpredecessor",
          "<b>Topic 0</b><br>Words: messag, subscrib, unusu, time, nvda",
          "<b>Topic 0</b><br>Words: applic, quotepicenterquot, jhh, donna, doestn",
          "<b>Topic 0</b><br>Words: bulltraderyt, congress, sorri, insid, penni",
          "<b>Topic 0</b><br>Words: network, nvidia, nvda, gpu, er",
          "<b>Topic 0</b><br>Words: intel, approach, earn, fast, investinglong",
          "<b>Topic 0</b><br>Words: high, ballooon, vbiv, like, sex",
          "<b>Topic 0</b><br>Words: nvda, billion, profit, stock, valuat",
          "<b>Topic 0</b><br>Words: rais, target, nvda, price, nvidia",
          "<b>Topic 0</b><br>Words: geoffreyport, wwtech, vtiq, reaffirm, darl",
          "<b>Topic 0</b><br>Words: ᴛʀᴀᴅɪɴɢ, ᴡᴇ, ʟᴇᴀʀɴ, ᴛᴏ, ʏᴏᴜ",
          "<b>Topic 0</b><br>Words: tp, yearend, european, rais, blowout",
          "<b>Topic 0</b><br>Words: profit, nvda, save, skii, yf",
          "<b>Topic 0</b><br>Words: base, day, mellanox, segment, game",
          "<b>Topic 0</b><br>Words: eeuu, gentlemen, call, dg, weekli",
          "<b>Topic 0</b><br>Words: stocksfor, waterfal, fxi, dividend, ouch",
          "<b>Topic 0</b><br>Words: resist, uptrend, intersect, technic, ext",
          "<b>Topic 0</b><br>Words: buyback, cheap, announc, level, need",
          "<b>Topic 0</b><br>Words: justif, great, categori, shine, club",
          "<b>Topic 0</b><br>Words: momentum, qrvo, bofa, swk, absolut",
          "<b>Topic 0</b><br>Words: answer, sanctuari, weeklymonthli, today, recognit",
          "<b>Topic 0</b><br>Words: prais, suiss, ipo, credit, synchron",
          "<b>Topic 0</b><br>Words: armandflooringproduct, cmg, klac, chip, unlik",
          "<b>Topic 0</b><br>Words: wjgesq, fo, asbezo, randrcapit, per",
          "<b>Topic 0</b><br>Words: intel, djia, energi, make, avgo",
          "<b>Topic 0</b><br>Words: xli, nem, optionsflow, steam, lag",
          "<b>Topic 0</b><br>Words: swaggystock, small, slice, nkla, rare",
          "<b>Topic 0</b><br>Words: pgen, ziop, ttoo, ring, valuat",
          "<b>Topic 0</b><br>Words: antm, cloud, buyback, aapl, selfmadethousandair",
          "<b>Topic 0</b><br>Words: fill, gap, peripher, ipod, fastgrow",
          "<b>Topic 0</b><br>Words: adb, best, want, could, invest",
          "<b>Topic 0</b><br>Words: thomaskristiansen, diversifi, regret, certain, auto",
          "<b>Topic 0</b><br>Words: grudg, abus, seller, ssorrento, grit",
          "<b>Topic 0</b><br>Words: stanley, wretch, kalamazoo, calif, rais",
          "<b>Topic 0</b><br>Words: jefferi, 𝐚𝐭, 𝐬𝐮𝐜𝐜𝐞𝐬𝐬, 𝐉𝐨𝐢𝐧, 𝐥𝐚𝐬𝐭",
          "<b>Topic 0</b><br>Words: didi, autonom, drive, nvidia, ture",
          "<b>Topic 0</b><br>Words: psi, repost, gnu, lfg, regret",
          "<b>Topic 0</b><br>Words: endtoend, drive, tesla, automot, collect",
          "<b>Topic 0</b><br>Words: zenshark, werent, offset, nvdia, alon",
          "<b>Topic 0</b><br>Words: srivasta, million, whop, note, analyst",
          "<b>Topic 0</b><br>Words: rasgon, merced, hardwar, annual, 𝐰𝐢𝐧𝐧𝐢𝐧𝐠",
          "<b>Topic 0</b><br>Words: sach, goldman, sportifi, gmgi, ah",
          "<b>Topic 0</b><br>Words: zoox, av, fantast, partnership, amazon",
          "<b>Topic 0</b><br>Words: paid, dividend, billion, est, sharehold",
          "<b>Topic 0</b><br>Words: anyon, know, split, stock, nvda",
          "<b>Topic 0</b><br>Words: pump, weeeeee, half, thin, stonk",
          "<b>Topic 0</b><br>Words: tie, hernia, retrospect, stayathom, that",
          "<b>Topic 0</b><br>Words: amgn, path, servic, qualiti, amzn",
          "<b>Topic 0</b><br>Words: baidu, intellig, train, ai, airel",
          "<b>Topic 0</b><br>Words: jul, expiri, notic, prior, els",
          "<b>Topic 0</b><br>Words: bestcas, israel, scenario, ezch, payrol",
          "<b>Topic 0</b><br>Words: sne, soni, robust, america, consol",
          "<b>Topic 0</b><br>Words: bookstor, dilli, known, tsla, valuat",
          "<b>Topic 0</b><br>Words: shop, nvda, ip, patent, stock",
          "<b>Topic 0</b><br>Words: comment, rosenblatt, rais, momentumtechn, gshari",
          "<b>Topic 0</b><br>Words: mustang, car, quintessenti, detroitbas, mach",
          "<b>Topic 0</b><br>Words: infiniband, ethernet, lenovo, hpc, supercomput",
          "<b>Topic 0</b><br>Words: tsla, fb, life, continuessssss, kass",
          "<b>Topic 0</b><br>Words: softwar, margin, tesla, driver, partnership",
          "<b>Topic 0</b><br>Words: trt, nich, insid, uniqu, influenc",
          "<b>Topic 0</b><br>Words: fenixx, around, suiss, corner, microsoft",
          "<b>Topic 0</b><br>Words: alot, wayyyi, setback, imbal, rainbow",
          "<b>Topic 0</b><br>Words: stock, nvda, amd, buy, market",
          "<b>Topic 0</b><br>Words: yryr, ibm, ub, system, pm",
          "<b>Topic 0</b><br>Words: premium, love, exercis, august, mind",
          "<b>Topic 0</b><br>Words: escal, cowen, barclay, target, price",
          "<b>Topic 0</b><br>Words: abu, gapup, honesti, amd, quoton",
          "<b>Topic 0</b><br>Words: bar, amd, daydreamingfund, whippi, woe",
          "<b>Topic 0</b><br>Words: fe, logofirstenergi, firstenergi, option, megaphon",
          "<b>Topic 0</b><br>Words: buyout, su, man, said, cap",
          "<b>Topic 0</b><br>Words: healthi, lalipirouli, mummrah, semiconductor, led",
          "<b>Topic 0</b><br>Words: powermov, foreshadow, blowout, remind, ran",
          "<b>Topic 0</b><br>Words: amd, actech, outlin, kingscat, shrink",
          "<b>Topic 0</b><br>Words: behemoth, conceiv, recoveri, waysid, ourtradingedg",
          "<b>Topic 0</b><br>Words: buckl, billion, organ, bull, best",
          "<b>Topic 0</b><br>Words: trt, ebitda, valuetoadj, dirt, enterpris",
          "<b>Topic 0</b><br>Words: rprx, inkl, costbasi, footstep, power",
          "<b>Topic 0</b><br>Words: espo, contempl, tcehi, phlx, atvi",
          "<b>Topic 0</b><br>Words: yoy, articl, jlinvest, ipobox, relev",
          "<b>Topic 0</b><br>Words: yuuuug, investingtip, investingforbeginn, gao, bours",
          "<b>Topic 0</b><br>Words: tictok, venu, keeper, gate, optionsflow",
          "<b>Topic 0</b><br>Words: sampp, best, year, stock, nvda",
          "<b>Topic 0</b><br>Words: anchorsaweigh, brk, swk, id, decad",
          "<b>Topic 0</b><br>Words: unfi, porsch, carrera, audi, turbo",
          "<b>Topic 0</b><br>Words: wack, dump, cheeeeeep, tank, bass",
          "<b>Topic 0</b><br>Words: superpod, dgx, deploy, regist, stock",
          "<b>Topic 0</b><br>Words: split, bar, wide, ignit, nvda",
          "<b>Topic 0</b><br>Words: nvidia, marketwatch, sale, stock, datacent",
          "<b>Topic 0</b><br>Words: listen, sector, somehow, cc, outsid",
          "<b>Topic 0</b><br>Words: coincid, upcom, pre, thought, anyon",
          "<b>Topic 0</b><br>Words: earn, stock, nvda, target, go",
          "<b>Topic 0</b><br>Words: split, stock, nvda, earn, sell",
          "<b>Topic 0</b><br>Words: split, nvda, stock, earn, quarter",
          "<b>Topic 0</b><br>Words: upgrad, rais, target, price, nvda",
          "<b>Topic 0</b><br>Words: came, today, stock, nvda, split",
          "<b>Topic 0</b><br>Words: instagram, lobe, frontal, incom, callout",
          "<b>Topic 0</b><br>Words: arya, split, unassail, semistech, architecturequot",
          "<b>Topic 0</b><br>Words: split, nvda, stock, aapl, come",
          "<b>Topic 0</b><br>Words: autonomi, em, amp, event, intc",
          "<b>Topic 0</b><br>Words: nosepick, happyyi, greenn, getr, pleas",
          "<b>Topic 0</b><br>Words: best, million, flat, oroblem, tsla",
          "<b>Topic 0</b><br>Words: ran, split, sep, stock, strongest",
          "<b>Topic 0</b><br>Words: realist, what, everyon, target, week",
          "<b>Topic 0</b><br>Words: resistancesupport, imo, deck, week, anoth",
          "<b>Topic 0</b><br>Words: dividend, split, stock, nvda, yku",
          "<b>Topic 0</b><br>Words: fire, upgrad, nvda, dividend, announc",
          "<b>Topic 0</b><br>Words: target, rais, nvda, price, nvidia",
          "<b>Topic 0</b><br>Words: nvda, stock, buy, sell, bought",
          "<b>Topic 0</b><br>Words: nvda, stock, target, rais, tsla",
          "<b>Topic 0</b><br>Words: elect, septemb, preelect, drum, stat",
          "<b>Topic 0</b><br>Words: brutal, pure, monster, strength, uptrend",
          "<b>Topic 0</b><br>Words: shamrock, hr, summer, term, fomo",
          "<b>Topic 0</b><br>Words: tsla, aapl, nvda, stock, dbag",
          "<b>Topic 0</b><br>Words: tsla, bear, whenev, sherri, nvda",
          "<b>Topic 0</b><br>Words: soon, illuminati, astound, incom, buffer",
          "<b>Topic 0</b><br>Words: cd, stay, disappear, broad, repeat",
          "<b>Topic 0</b><br>Words: muster, regulatori, uber, size, reduc",
          "<b>Topic 0</b><br>Words: arm, deal, giddyup, bugsmunni, litig",
          "<b>Topic 0</b><br>Words: nvda, nvidia, stock, dilut, go",
          "<b>Topic 0</b><br>Words: craighallum, rais, target, needham, price",
          "<b>Topic 0</b><br>Words: xd, nvda, stock, look, tsla",
          "<b>Topic 0</b><br>Words: tsla, spx, sold, share, buy",
          "<b>Topic 0</b><br>Words: headlin, nasdaq, stock, succesu, scissor",
          "<b>Topic 0</b><br>Words: dragonfli, doji, bear, candl, pattern",
          "<b>Topic 0</b><br>Words: fasten, belt, tesla, gosh, earth",
          "<b>Topic 0</b><br>Words: glt, tsla, aapl, stock, puppi",
          "<b>Topic 0</b><br>Words: exemplari, goin, stole, particip, fcf",
          "<b>Topic 0</b><br>Words: pound, clean, prime, larger, chart",
          "<b>Topic 0</b><br>Words: share, purchas, neal, stephen, million",
          "<b>Topic 0</b><br>Words: neal, stephen, cascend, director, openmarket",
          "<b>Topic 0</b><br>Words: atm, scale, face, movement, gener",
          "<b>Topic 0</b><br>Words: samrt, pmvp, happend, ipo, zm",
          "<b>Topic 0</b><br>Words: cleveland, optionspread, brown, gear, profit",
          "<b>Topic 0</b><br>Words: dayskinda, smi, thought, warrior, backbon",
          "<b>Topic 0</b><br>Words: sittin, kidophil, bullssss, psychopath, sspalpha",
          "<b>Topic 0</b><br>Words: ye, rkt, kinda, needham, whatev",
          "<b>Topic 0</b><br>Words: bryson, wedbush, unabashedli, premiumshort, ideasquot",
          "<b>Topic 0</b><br>Words: weeklong, sun, confer, insid, purchas",
          "<b>Topic 0</b><br>Words: underscor, host, bofa, confer, oppti",
          "<b>Topic 0</b><br>Words: nvidia, announc, twlo, partnership, robot",
          "<b>Topic 0</b><br>Words: wwr, nvidia, target, price, arcuri",
          "<b>Topic 0</b><br>Words: two, fizz, split, best, optt",
          "<b>Topic 0</b><br>Words: downgrad, upgrad, nvda, analyst, firm",
          "<b>Topic 0</b><br>Words: downgrad, loss, british, want, stimilu",
          "<b>Topic 0</b><br>Words: twlo, jet, restaur, ship, earn",
          "<b>Topic 0</b><br>Words: dtilmtradersnvda, ilmtrad, thur, tini, retrac",
          "<b>Topic 0</b><br>Words: stock, app, tsla, dealin, nvda",
          "<b>Topic 0</b><br>Words: sympathi, asml, soxx, eye, smh",
          "<b>Topic 0</b><br>Words: conner, fish, shark, profit, nov",
          "<b>Topic 0</b><br>Words: relat, vwagi, ticker, thrill, gm",
          "<b>Topic 0</b><br>Words: dtilmtradersnvda, ilmtrad, contain, ai, callput",
          "<b>Topic 0</b><br>Words: signaljump, chartcheck, fcel, dri, dd",
          "<b>Topic 0</b><br>Words: anyon, ai, could, know, invest",
          "<b>Topic 0</b><br>Words: respond, say, ridicul, evebitdia, without",
          "<b>Topic 0</b><br>Words: begin, forward, manipul, look, stock",
          "<b>Topic 0</b><br>Words: intel, sale, standard, actual, nvidia",
          "<b>Topic 0</b><br>Words: ribbon, callput, spent, symbol, bid",
          "<b>Topic 0</b><br>Words: summari, accuraci, playbook, cheer, downtrend",
          "<b>Topic 0</b><br>Words: construct, prime, decreas, seller, leg",
          "<b>Topic 0</b><br>Words: zero, left, list, took, account",
          "<b>Topic 0</b><br>Words: lead, goooo, abt, unveil, revisit",
          "<b>Topic 0</b><br>Words: sayan, bignavi, iefa, target, semiconductor",
          "<b>Topic 0</b><br>Words: fb, strongest, pronoun, meniton, commentsm",
          "<b>Topic 0</b><br>Words: ai, etf, longterm, meteor, buysel",
          "<b>Topic 0</b><br>Words: peg, age, golden, bump, team",
          "<b>Topic 0</b><br>Words: amd, elect, card, build, pushback",
          "<b>Topic 0</b><br>Words: previous, sr, eom, shorter, timefram",
          "<b>Topic 0</b><br>Words: txi, opt, ai, storm, nxpi",
          "<b>Topic 0</b><br>Words: etc, propel, kinda, still, share",
          "<b>Topic 0</b><br>Words: radeon, ti, compet, rt, nvidia",
          "<b>Topic 0</b><br>Words: facebooktwitterlinkedinshar, lagger, weari, landslid, ed",
          "<b>Topic 0</b><br>Words: buysel, callput, overextend, boe, shortli",
          "<b>Topic 0</b><br>Words: smashingli, agi, share, come, get",
          "<b>Topic 0</b><br>Words: equat, cmon, suppos, crsr, dream",
          "<b>Topic 0</b><br>Words: crack, friend, longterm, import, pltr",
          "<b>Topic 0</b><br>Words: citron, scream, lookinf, stuf, nio",
          "<b>Topic 0</b><br>Words: split, nvidia, histori, thatguywhotoldmeishould, honeywel",
          "<b>Topic 0</b><br>Words: corsair, ipod, awar, crsr, undervalu",
          "<b>Topic 0</b><br>Words: profit, earn, gpu, stayathom, presidenti",
          "<b>Topic 0</b><br>Words: outperform, quotrisk, inlinequot, quotmethod, handili",
          "<b>Topic 0</b><br>Words: earn, nvda, report, share, stock",
          "<b>Topic 0</b><br>Words: data, center, revenu, quotdeclin, cenetr",
          "<b>Topic 0</b><br>Words: next, dump, nice, beauti, nvda",
          "<b>Topic 0</b><br>Words: monday, hospit, zero, tuesday, close",
          "<b>Topic 0</b><br>Words: ok, normaci, lowkey, recoup, maxpain",
          "<b>Topic 0</b><br>Words: stock, fe, benz, trvn, kia",
          "<b>Topic 0</b><br>Words: push, fib, ribbon, ad, reject",
          "<b>Topic 0</b><br>Words: event, share, januari, inform, type",
          "<b>Topic 0</b><br>Words: runfoo, badmouth, famou, also, percentag",
          "<b>Topic 0</b><br>Words: updown, boa, dma, august, ratio",
          "<b>Topic 0</b><br>Words: veriton, veri, shopifi, open, combin",
          "<b>Topic 0</b><br>Words: garbag, maktrad, sf, wastebasket, atr",
          "<b>Topic 0</b><br>Words: portfolio, handsom, regularli, dress, tf",
          "<b>Topic 0</b><br>Words: outta, absurd, race, shouldnt, skyrocket",
          "<b>Topic 0</b><br>Words: dffn, ppsi, luckili, slap, til",
          "<b>Topic 0</b><br>Words: airbmb, debut, shouldv, fyi, gotten",
          "<b>Topic 0</b><br>Words: etc, qcom, breach, post, sl",
          "<b>Topic 0</b><br>Words: deeper, mute, lam, broadcom, nvdia",
          "<b>Topic 0</b><br>Words: cfo, bol, kurwa, npluson, tmt",
          "<b>Topic 0</b><br>Words: fulli, recov, tol, og, nutshel",
          "<b>Topic 0</b><br>Words: portfolio, director, bought, dma, know",
          "<b>Topic 0</b><br>Words: evpcfo, plummet, news, sec, worst",
          "<b>Topic 0</b><br>Words: disney, cancel, netflix, offer, doesnt",
          "<b>Topic 0</b><br>Words: una, en, wheavi, ejemplo, cada",
          "<b>Topic 0</b><br>Words: med, stare, faith, dive, diversifi",
          "<b>Topic 0</b><br>Words: strike, volum, amd, asleep, honeybe",
          "<b>Topic 0</b><br>Words: fire, starstruck, ball, honestli, suck",
          "<b>Topic 0</b><br>Words: viri, nividiatradeidea, stockstobuy, blast, winner",
          "<b>Topic 0</b><br>Words: maxpain, ev, tesla, bidu, januari",
          "<b>Topic 0</b><br>Words: scummi, arri, oddli, whop, sudden",
          "<b>Topic 0</b><br>Words: bac, trash, greatshort, america, buyback",
          "<b>Topic 0</b><br>Words: dilllzz, milk, similarli, eem, sector",
          "<b>Topic 0</b><br>Words: ina, joseph, moor, portfolio, today",
          "<b>Topic 0</b><br>Words: dead, fuck, huh, water, spot",
          "<b>Topic 0</b><br>Words: formula, year, wise, profit, trash",
          "<b>Topic 0</b><br>Words: pictur, bring, billion, deal, split",
          "<b>Topic 0</b><br>Words: goddam, flier, toast, point, safeti",
          "<b>Topic 0</b><br>Words: tesla, dividend, tweetgtgtgt, cater, laoz",
          "<b>Topic 0</b><br>Words: nation, greatest, segment, wan, corpor",
          "<b>Topic 0</b><br>Words: teladoc, similar, erlichman, pinterest, zillow",
          "<b>Topic 0</b><br>Words: cathi, ran, stockkkk, flgt, lame",
          "<b>Topic 0</b><br>Words: cvx, tigr, stocktrickswithnick, stocksplit, intl",
          "<b>Topic 0</b><br>Words: thank, cheap, nvda, faster, stock",
          "<b>Topic 0</b><br>Words: condiverg, bear, notifi, grnq, today",
          "<b>Topic 0</b><br>Words: mrvl, winner, tiresmok, mu, key",
          "<b>Topic 0</b><br>Words: nio, partnership, ye, sedan, adam",
          "<b>Topic 0</b><br>Words: merced, gabrga, vault, roi, latter",
          "<b>Topic 0</b><br>Words: tesla, nio, worth, revenu, hype",
          "<b>Topic 0</b><br>Words: nio, nvda, love, whistl, stockhey",
          "<b>Topic 0</b><br>Words: memori, crsr, storag, semiconductor, faster",
          "<b>Topic 0</b><br>Words: boom, soon, consolid, randomaccess, come",
          "<b>Topic 0</b><br>Words: ot, fing, textbook, rolland, christoph",
          "<b>Topic 0</b><br>Words: inder, ty, profession, tsla, aapl",
          "<b>Topic 0</b><br>Words: corsair, logitech, pe, enjoy, half",
          "<b>Topic 0</b><br>Words: vulcan, sluggish, dump, jerk, huh",
          "<b>Topic 0</b><br>Words: nndm, rpeat, buld, asseblmi, share",
          "<b>Topic 0</b><br>Words: nga, blackbox, fintech, exp, mad",
          "<b>Topic 0</b><br>Words: gsx, fraud, citron, wake, spot",
          "<b>Topic 0</b><br>Words: psight, tailwind, replac, cmg, hous",
          "<b>Topic 0</b><br>Words: stockwitzzzz, frikkin, cramer, fkd, drawn",
          "<b>Topic 0</b><br>Words: barclay, taxsenst, blayn, curti, fwiw",
          "<b>Topic 0</b><br>Words: pump, rang, shorter, everi, look",
          "<b>Topic 0</b><br>Words: unattain, reliabl, mini, wood, cathi",
          "<b>Topic 0</b><br>Words: hcmc, volat, cage, justcannot, pent",
          "<b>Topic 0</b><br>Words: qtr, ev, abl, fire, number",
          "<b>Topic 0</b><br>Words: quotspotlightquot, supportresist, recent, locat, chao",
          "<b>Topic 0</b><br>Words: gamestop, gme, would, acev, dividend",
          "<b>Topic 0</b><br>Words: shortag, aunt, worm, cream, clock",
          "<b>Topic 0</b><br>Words: exclusivegener, boner, award, kss, mmm",
          "<b>Topic 0</b><br>Words: thbr, mil, bore, indi, af",
          "<b>Topic 0</b><br>Words: fteg, checken, vend, cbd, eye",
          "<b>Topic 0</b><br>Words: februari, favorit, sq, far, updat",
          "<b>Topic 0</b><br>Words: tsnp, centuri, buy, stock, nvda",
          "<b>Topic 0</b><br>Words: hope, buy, nvda, truthidea, thevideo",
          "<b>Topic 0</b><br>Words: one, adm, belt, pop, ride",
          "<b>Topic 0</b><br>Words: choo, strugl, bike, nvidiacorp, alyi",
          "<b>Topic 0</b><br>Words: semiconductor, acev, thbr, amd, nvda",
          "<b>Topic 0</b><br>Words: nvda, share, think, dumbass, volum",
          "<b>Topic 0</b><br>Words: warp, meltup, administr, tlri, gambler",
          "<b>Topic 0</b><br>Words: envi, benzinga, worth, ago, green",
          "<b>Topic 0</b><br>Words: turbotrad, merica, apl, paradigm, underway",
          "<b>Topic 0</b><br>Words: bb, lube, sold, hyenacorp, small",
          "<b>Topic 0</b><br>Words: expect, rev, next, wednesday, ep",
          "<b>Topic 0</b><br>Words: epsom, bathtub, salt, soak, easiest",
          "<b>Topic 0</b><br>Words: miner, driver, cmp, ture, card",
          "<b>Topic 0</b><br>Words: ytd, bullsey, goog, momentum, nflx",
          "<b>Topic 0</b><br>Words: wkh, airlin, bless, scalp, america",
          "<b>Topic 0</b><br>Words: total, share, huge, big, trade",
          "<b>Topic 0</b><br>Words: total, big, share, trade, nvda",
          "<b>Topic 0</b><br>Words: big, share, trade, nvda, stock",
          "<b>Topic 0</b><br>Words: share, big, trade, nvda, huge",
          "<b>Topic 0</b><br>Words: big, share, trade, nvda, huge",
          "<b>Topic 0</b><br>Words: umc, dividend, taiwan, rank, maker",
          "<b>Topic 0</b><br>Words: dell, ai, nio, rtr, disappear",
          "<b>Topic 0</b><br>Words: big, share, trade, nvda, huge",
          "<b>Topic 0</b><br>Words: rkt, share, huge, seem, nvda",
          "<b>Topic 0</b><br>Words: big, share, trade, nvda, stratospher",
          "<b>Topic 0</b><br>Words: big, share, trade, nvda, rebasis",
          "<b>Topic 0</b><br>Words: big, share, trade, nvda, tute",
          "<b>Topic 0</b><br>Words: kmph, crmd, trxc, tag, twice",
          "<b>Topic 0</b><br>Words: big, share, trade, nvda, price",
          "<b>Topic 0</b><br>Words: big, share, trade, nvda, lifecycl",
          "<b>Topic 0</b><br>Words: big, share, trade, sinc, nvda",
          "<b>Topic 0</b><br>Words: big, share, trade, dunno, children",
          "<b>Topic 0</b><br>Words: smallest, big, billion, thbr, known",
          "<b>Topic 0</b><br>Words: travel, qs, rblx, winner, pltr",
          "<b>Topic 0</b><br>Words: thinkorswimnividia, dnmr, scalabl, stockstobuy, tradeidea",
          "<b>Topic 0</b><br>Words: shelf, match, exceed, pois, soar",
          "<b>Topic 0</b><br>Words: kpiff, vuzi, eoy, way, giggl",
          "<b>Topic 0</b><br>Words: thumb, bulk, turn, pathet, fulli",
          "<b>Topic 0</b><br>Words: smartmoneyboy, chin, bless, kinda, shot",
          "<b>Topic 0</b><br>Words: malfunct, fix, problem, till, lot",
          "<b>Topic 0</b><br>Words: big, share, trade, nvda, premerg",
          "<b>Topic 0</b><br>Words: lrcx, manipul, worth, big, share",
          "<b>Topic 0</b><br>Words: suck, big, share, averag, ad",
          "<b>Topic 0</b><br>Words: big, azn, share, constantli, trade",
          "<b>Topic 0</b><br>Words: big, share, trade, stop, loss",
          "<b>Topic 0</b><br>Words: tggi, flag, similar, includ, averag",
          "<b>Topic 0</b><br>Words: etf, semiconductor, good, amd, nvda",
          "<b>Topic 0</b><br>Words: big, trade, share, weirdli, nvda",
          "<b>Topic 0</b><br>Words: big, share, trade, fsr, nvda",
          "<b>Topic 0</b><br>Words: amoroso, reopen, privat, big, trade",
          "<b>Topic 0</b><br>Words: huge, share, trade, nvda, aabb",
          "<b>Topic 0</b><br>Words: chip, practic, path, wan, retir",
          "<b>Topic 0</b><br>Words: uberbullish, foundri, semiconductor, explain, largest",
          "<b>Topic 0</b><br>Words: huge, share, trade, nvda, auto",
          "<b>Topic 0</b><br>Words: huge, share, trade, nvda, chip",
          "<b>Topic 0</b><br>Words: huge, share, trade, nasdaq, nvda",
          "<b>Topic 0</b><br>Words: huge, share, trade, nvda, exc",
          "<b>Topic 0</b><br>Words: alright, strike, theverg, offmarket, inaccur",
          "<b>Topic 0</b><br>Words: nvda, upgrad, dgli, amd, go",
          "<b>Topic 0</b><br>Words: suiss, target, credit, rais, corp",
          "<b>Topic 0</b><br>Words: definetli, momentum, feel, pfe, ytd",
          "<b>Topic 0</b><br>Words: ardx, dell, bomb, nvda, result",
          "<b>Topic 0</b><br>Words: cruza, ahora, sobr, sigua, salida",
          "<b>Topic 0</b><br>Words: so, dmggf, overr, coin, top",
          "<b>Topic 0</b><br>Words: recaf, visa, wmt, pypl, board",
          "<b>Topic 0</b><br>Words: otcpk, secretari, nation, concern, notic",
          "<b>Topic 0</b><br>Words: coinbig, tsp, arkk, cathi, sooner",
          "<b>Topic 0</b><br>Words: nano, connect, buyyyyyyy, deepcub, aerospac",
          "<b>Topic 0</b><br>Words: sld, reit, gain, biden, rhi",
          "<b>Topic 0</b><br>Words: compani, strang, semiconductor, intc, competitor",
          "<b>Topic 0</b><br>Words: recogn, necessari, address, theyll, capac",
          "<b>Topic 0</b><br>Words: lunch, scalp, must, premarket, sector",
          "<b>Topic 0</b><br>Words: youngster, killer, sold, bought, downward",
          "<b>Topic 0</b><br>Words: si, tree, billion, item, propos",
          "<b>Topic 0</b><br>Words: vote, proxi, riski, dilut, meet",
          "<b>Topic 0</b><br>Words: arkw, dump, ark, decreas, hammer",
          "<b>Topic 0</b><br>Words: handl, cup, dri, volum, uptrend",
          "<b>Topic 0</b><br>Words: fourweek, smtc, slab, cree, laggard",
          "<b>Topic 0</b><br>Words: raimondo, commerc, secretari, possib, dealership",
          "<b>Topic 0</b><br>Words: ipof, aftermarket, baird, target, mosi",
          "<b>Topic 0</b><br>Words: preview, drink, semiconductor, rkt, garbag",
          "<b>Topic 0</b><br>Words: increas, billion, rockstar, proxi, associ",
          "<b>Topic 0</b><br>Words: brainer, handl, cup, heavi, swing",
          "<b>Topic 0</b><br>Words: atrium, alf, partnership, coupl, support",
          "<b>Topic 0</b><br>Words: america, verizon, coalit, atampt, qcom",
          "<b>Topic 0</b><br>Words: shortag, semiconductor, draft, amp, hyperinfl",
          "<b>Topic 0</b><br>Words: gent, ladi, volum, roar, long",
          "<b>Topic 0</b><br>Words: quotr, candlequot, uctt, outright, mchp",
          "<b>Topic 0</b><br>Words: downtrend, rsi, turn, correct, low",
          "<b>Topic 0</b><br>Words: nano, nndm, bigirishbal, quotr, fabrica",
          "<b>Topic 0</b><br>Words: trash, seemingli, shame, hasnt, repres",
          "<b>Topic 0</b><br>Words: gtgtgt, deduct, close, cover, citadel",
          "<b>Topic 0</b><br>Words: gtgtgt, current, gp, uncl, price",
          "<b>Topic 0</b><br>Words: split, announc, stock, nvda, share",
          "<b>Topic 0</b><br>Words: split, stock, think, ton, yingyang",
          "<b>Topic 0</b><br>Words: tgtx, herb, tool, access, earn",
          "<b>Topic 0</b><br>Words: split, wednesday, nvda, stock, announc",
          "<b>Topic 0</b><br>Words: report, research, weekli, earn, smh",
          "<b>Topic 0</b><br>Words: split, nvda, upgrad, tomorrow, stock",
          "<b>Topic 0</b><br>Words: rais, maintain, target, gt, price",
          "<b>Topic 0</b><br>Words: split, exdat, payabl, sharehold, june",
          "<b>Topic 0</b><br>Words: chill, tend, control, split, thursday",
          "<b>Topic 0</b><br>Words: qtrli, overhead, class, split, incom",
          "<b>Topic 0</b><br>Words: trillion, cap, next, market, nvda",
          "<b>Topic 0</b><br>Words: decis, split, stz, shaki, ward",
          "<b>Topic 0</b><br>Words: ti, jump, nvda, lucki, stock",
          "<b>Topic 0</b><br>Words: split, stock, nvda, approv, meme",
          "<b>Topic 0</b><br>Words: split, stock, nvda, share, nndm",
          "<b>Topic 0</b><br>Words: split, xtra, tia, juli, ac",
          "<b>Topic 0</b><br>Words: comb, presplit, shortli, sharehold, split",
          "<b>Topic 0</b><br>Words: split, evercor, stock, confer, overbought",
          "<b>Topic 0</b><br>Words: bill, semiconductor, nvda, senat, approv",
          "<b>Topic 0</b><br>Words: afterhour, billion, bill, pm, manufactur",
          "<b>Topic 0</b><br>Words: ad, lego, compani, thought, cob",
          "<b>Topic 0</b><br>Words: split, dividend, cash, stock, share",
          "<b>Topic 0</b><br>Words: amongst, logi, crsr, favorit, might",
          "<b>Topic 0</b><br>Words: june, split, vsqtf, newli, tsla",
          "<b>Topic 0</b><br>Words: split, nvda, ds, stock, qfin",
          "<b>Topic 0</b><br>Words: june, juli, date, addit, record",
          "<b>Topic 0</b><br>Words: share, juli, june, record, receiv",
          "<b>Topic 0</b><br>Words: split, june, share, nvda, date",
          "<b>Topic 0</b><br>Words: split, nvda, stock, price, target",
          "<b>Topic 0</b><br>Words: split, bull, quotby, feliciaquot, pshhhhhh",
          "<b>Topic 0</b><br>Words: split, volum, foxwel, date, money",
          "<b>Topic 0</b><br>Words: share, split, juli, june, stock",
          "<b>Topic 0</b><br>Words: juli, split, share, addit, date",
          "<b>Topic 0</b><br>Words: upgrad, nvda, sld, price, stock",
          "<b>Topic 0</b><br>Words: split, dow, share, squeezi, nvda",
          "<b>Topic 0</b><br>Words: split, fall, home, crapto, volum",
          "<b>Topic 0</b><br>Words: hendsoldt, yoav, nndm, excit, type",
          "<b>Topic 0</b><br>Words: split, stock, nvda, tesla, chase",
          "<b>Topic 0</b><br>Words: indi, nvda, split, stock, share",
          "<b>Topic 0</b><br>Words: split, nvda, need, stock, director",
          "<b>Topic 0</b><br>Words: split, mrin, nvda, price, stock",
          "<b>Topic 0</b><br>Words: split, stock, nvda, day, fidel",
          "<b>Topic 0</b><br>Words: split, loat, elonbuffet, coach, get",
          "<b>Topic 0</b><br>Words: monday, pp, match, holiday, come",
          "<b>Topic 0</b><br>Words: frankfurt, split, europ, shortli, closer",
          "<b>Topic 0</b><br>Words: split, nvda, share, stock, danc",
          "<b>Topic 0</b><br>Words: split, nvda, huge, stock, go",
          "<b>Topic 0</b><br>Words: split, protein, nvda, stock, buy",
          "<b>Topic 0</b><br>Words: split, runup, june, share, volum",
          "<b>Topic 0</b><br>Words: split, wise, znga, anytim, garbag",
          "<b>Topic 0</b><br>Words: indi, tell, due, rise, lidar",
          "<b>Topic 0</b><br>Words: site, stock, nvda, split, zzz",
          "<b>Topic 0</b><br>Words: split, million, fallen, pdd, run",
          "<b>Topic 0</b><br>Words: split, stock, toolset, chancd, nvda",
          "<b>Topic 0</b><br>Words: split, price, maintain, nvda, buy",
          "<b>Topic 0</b><br>Words: stock, nvda, split, shit, proport",
          "<b>Topic 0</b><br>Words: slaughter, crap, doubt, fatass, fanng",
          "<b>Topic 0</b><br>Words: keepingitkept, attrack, hbuenano, dome, broke",
          "<b>Topic 0</b><br>Words: split, stock, nvda, tomorrow, today",
          "<b>Topic 0</b><br>Words: split, stock, nvda, share, price",
          "<b>Topic 0</b><br>Words: split, nvda, stock, go, wall",
          "<b>Topic 0</b><br>Words: nvda, invest, price, target, stock",
          "<b>Topic 0</b><br>Words: britney, daddi, nvidia, babi, argu",
          "<b>Topic 0</b><br>Words: nvda, waythi, valhalla, ratchet, hlta",
          "<b>Topic 0</b><br>Words: star, chipotl, cheat, billion, sadli",
          "<b>Topic 0</b><br>Words: guid, hold, period, cap, last",
          "<b>Topic 0</b><br>Words: min, last, move, cloud, top",
          "<b>Topic 0</b><br>Words: huge, share, trade, nvda, leap",
          "<b>Topic 0</b><br>Words: revsharegtgt, peggtgtgtamd, pricegtgtgtgt, instead, amd",
          "<b>Topic 0</b><br>Words: crash, low, go, market, stock",
          "<b>Topic 0</b><br>Words: min, last, move, gainer, happen",
          "<b>Topic 0</b><br>Words: min, last, amd, stock, move",
          "<b>Topic 0</b><br>Words: revers, split, rosenblatt, nvda, stock",
          "<b>Topic 0</b><br>Words: region, period, nvda, rise, stock",
          "<b>Topic 0</b><br>Words: min, last, move, stock, gainer",
          "<b>Topic 0</b><br>Words: pp, plug, dark, domin, global",
          "<b>Topic 0</b><br>Words: candid, shortterm, august, bullsey, period",
          "<b>Topic 0</b><br>Words: min, micro, last, move, microelectron",
          "<b>Topic 0</b><br>Words: min, last, move, gainer, stock",
          "<b>Topic 0</b><br>Words: huge, share, trade, nvda, stock",
          "<b>Topic 0</b><br>Words: rais, maintain, price, ub, fargo",
          "<b>Topic 0</b><br>Words: number, collis, data, portfolioa, morderna",
          "<b>Topic 0</b><br>Words: shortterm, up, period, given, probabl",
          "<b>Topic 0</b><br>Words: snipe, kevin, digit, moderna, said",
          "<b>Topic 0</b><br>Words: mrna, ongkyu, whole, condol, prolifer",
          "<b>Topic 0</b><br>Words: buy, earn, premay, amazonai, comingseeya",
          "<b>Topic 0</b><br>Words: nvda, yy, est, share, stock",
          "<b>Topic 0</b><br>Words: target, nvda, price, buy, volum",
          "<b>Topic 0</b><br>Words: nvda, stock, buy, come, volum",
          "<b>Topic 0</b><br>Words: juvenil, forth, target, declar, word",
          "<b>Topic 0</b><br>Words: mixuho, detroit, boogaloo, build, readi",
          "<b>Topic 0</b><br>Words: min, nvda, last, move, pxlw",
          "<b>Topic 0</b><br>Words: nvda, stock, bring, target, bear",
          "<b>Topic 0</b><br>Words: min, last, stock, nvda, move",
          "<b>Topic 0</b><br>Words: deepmap, min, last, map, move",
          "<b>Topic 0</b><br>Words: argu, adjust, maintain, rate, nom",
          "<b>Topic 0</b><br>Words: jacobtheswingtrad, feb, chase, biggest, learn",
          "<b>Topic 0</b><br>Words: hatchinggain, tesla, musk, juici, bodi",
          "<b>Topic 0</b><br>Words: min, last, dividend, move, nvda",
          "<b>Topic 0</b><br>Words: gorilla, consolidationrest, min, low, dhr",
          "<b>Topic 0</b><br>Words: min, last, broadcom, move, via",
          "<b>Topic 0</b><br>Words: notic, intt, dividend, jen, hsun",
          "<b>Topic 0</b><br>Words: cap, nvda, high, market, volum",
          "<b>Topic 0</b><br>Words: clutch, breakout, born, printer, loom",
          "<b>Topic 0</b><br>Words: wonder, look, slightest, like, haul",
          "<b>Topic 0</b><br>Words: trex, list, guess, celh, russel",
          "<b>Topic 0</b><br>Words: engaulf, refer, hatersbear, signal, sell",
          "<b>Topic 0</b><br>Words: yall, nvidia, cloud, devop, must",
          "<b>Topic 0</b><br>Words: told, denton, father, rocket, jack",
          "<b>Topic 0</b><br>Words: cpu, center, chip, nvidia, data",
          "<b>Topic 0</b><br>Words: disastr, save, morn, analyst, great",
          "<b>Topic 0</b><br>Words: gthx, ethic, invest, good, aapl",
          "<b>Topic 0</b><br>Words: ever, fuck, utter, ate, hedgefund",
          "<b>Topic 0</b><br>Words: semiconductor, helluva, passion, airplan, share",
          "<b>Topic 0</b><br>Words: volumeee, marktesmith, suggestiondelayedcan, volum, inchartitrust",
          "<b>Topic 0</b><br>Words: jinx, overtak, poetf, lot, shorti",
          "<b>Topic 0</b><br>Words: stuck, lift, corpor, secur, nasdaq",
          "<b>Topic 0</b><br>Words: nasdaq, hex, evgo, nxpi, electrif",
          "<b>Topic 0</b><br>Words: comn, see, min, ralli, jpow",
          "<b>Topic 0</b><br>Words: min, last, move, wallstreetodd, via",
          "<b>Topic 0</b><br>Words: put, bless, gap, last, min",
          "<b>Topic 0</b><br>Words: min, last, move, wallstreetodd, via",
          "<b>Topic 0</b><br>Words: min, last, aehr, move, wallstreetodd",
          "<b>Topic 0</b><br>Words: pathet, capit, billion, bull, market",
          "<b>Topic 0</b><br>Words: sectorindustri, buy, portfolio, planet, fantast",
          "<b>Topic 0</b><br>Words: min, last, move, wallstreetodd, via",
          "<b>Topic 0</b><br>Words: nvda, nndm, buy, stock, nvidia",
          "<b>Topic 0</b><br>Words: min, last, move, wallstreetodd, via",
          "<b>Topic 0</b><br>Words: min, last, move, wallstreetodd, via",
          "<b>Topic 0</b><br>Words: iposbeforeho, five, slvo, min, orc",
          "<b>Topic 0</b><br>Words: first, love, bought, see, stock",
          "<b>Topic 0</b><br>Words: calib, split, teeth, sink, explod",
          "<b>Topic 0</b><br>Words: min, last, move, stock, nvda",
          "<b>Topic 0</b><br>Words: min, last, move, wallstreetodd, via",
          "<b>Topic 0</b><br>Words: min, last, worst, move, wallstreetodd",
          "<b>Topic 0</b><br>Words: min, last, move, wallstreetodd, via",
          "<b>Topic 0</b><br>Words: min, last, move, wallstreetodd, right",
          "<b>Topic 0</b><br>Words: sepoct, febmar, asml, black, enjoy",
          "<b>Topic 0</b><br>Words: min, last, move, wallstreetodd, via",
          "<b>Topic 0</b><br>Words: min, last, move, wallstreetodd, via",
          "<b>Topic 0</b><br>Words: video, card, min, ati, last",
          "<b>Topic 0</b><br>Words: min, last, move, wallstreetodd, via",
          "<b>Topic 0</b><br>Words: insourc, buggi, berlin, amidst, thrower",
          "<b>Topic 0</b><br>Words: min, last, move, wallstreetodd, via",
          "<b>Topic 0</b><br>Words: min, last, move, wallstreetodd, via",
          "<b>Topic 0</b><br>Words: min, woodsh, disturb, volvo, xpeng",
          "<b>Topic 0</b><br>Words: min, last, move, gainer, wallstreetodd",
          "<b>Topic 0</b><br>Words: tph, sharesopt, ivz, downrad, amd",
          "<b>Topic 0</b><br>Words: min, last, volum, move, wallstreetodd",
          "<b>Topic 0</b><br>Words: nvda, stock, price, target, result",
          "<b>Topic 0</b><br>Words: min, last, move, wallstreetodd, via",
          "<b>Topic 0</b><br>Words: min, last, move, via, wallstreetodd",
          "<b>Topic 0</b><br>Words: stock, matur, nvda, afrm, tech",
          "<b>Topic 0</b><br>Words: yuss, moaaar, rskd, concentr, beauti",
          "<b>Topic 0</b><br>Words: knockout, eoy, green, love, say",
          "<b>Topic 0</b><br>Words: stockindexguruadam, gatechecon, min, last, via",
          "<b>Topic 0</b><br>Words: min, last, stock, move, wallstreetodd",
          "<b>Topic 0</b><br>Words: stock, last, nvda, so, bear",
          "<b>Topic 0</b><br>Words: nvda, cap, stock, market, fargo",
          "<b>Topic 0</b><br>Words: nvda, stock, min, volum, move",
          "<b>Topic 0</b><br>Words: redbox, becom, intel, nvidia, fact",
          "<b>Topic 0</b><br>Words: elon, tweet, burtgumm, nvidianair, infam",
          "<b>Topic 0</b><br>Words: btig, min, nvda, stock, cathi",
          "<b>Topic 0</b><br>Words: nvda, stock, min, share, last",
          "<b>Topic 0</b><br>Words: target, nvda, price, stock, buy",
          "<b>Topic 0</b><br>Words: min, upgrad, last, move, nvda",
          "<b>Topic 0</b><br>Words: downgrad, wedbush, nvda, price, bear",
          "<b>Topic 0</b><br>Words: consolid, buyin, unaffect, downgrad, noth",
          "<b>Topic 0</b><br>Words: pricey, spring, earth, self, remind",
          "<b>Topic 0</b><br>Words: cohu, nvda, sell, stock, share",
          "<b>Topic 0</b><br>Words: min, nvda, last, stock, move",
          "<b>Topic 0</b><br>Words: nvda, stock, earn, market, share",
          "<b>Topic 0</b><br>Words: nvda, upgrad, target, price, stock",
          "<b>Topic 0</b><br>Words: nvda, min, stock, last, share",
          "<b>Topic 0</b><br>Words: split, oki, dubal, tsla, famp",
          "<b>Topic 0</b><br>Words: mc, tecl, atomera, zero, himx",
          "<b>Topic 0</b><br>Words: trillion, nvda, incom, stock, one",
          "<b>Topic 0</b><br>Words: min, last, stock, nvda, move",
          "<b>Topic 0</b><br>Words: min, last, nvda, dell, stock",
          "<b>Topic 0</b><br>Words: mkt, cooper, thru, roll, discord",
          "<b>Topic 0</b><br>Words: black, nvda, buy, stock, friday",
          "<b>Topic 0</b><br>Words: uo, iep, fam, safe, sit",
          "<b>Topic 0</b><br>Words: holdin, adapt, yo, tsla, exponenti",
          "<b>Topic 0</b><br>Words: min, last, nvda, stock, move",
          "<b>Topic 0</b><br>Words: dividend, nvda, thru, call, mkt",
          "<b>Topic 0</b><br>Words: ex, dividend, thru, nvda, accid",
          "<b>Topic 0</b><br>Words: min, last, stock, nvda, move",
          "<b>Topic 0</b><br>Words: nvda, stock, share, bear, nvidia",
          "<b>Topic 0</b><br>Words: gap, fill, omicron, news, arm",
          "<b>Topic 0</b><br>Words: kelt, hourli, mid, savnhga, downstrend",
          "<b>Topic 0</b><br>Words: min, last, nvda, stock, share",
          "<b>Topic 0</b><br>Words: eoy, ad, nvda, share, stock",
          "<b>Topic 0</b><br>Words: min, last, nvda, move, bio",
          "<b>Topic 0</b><br>Words: touch, nvda, go, stock, intermedi",
          "<b>Topic 0</b><br>Words: min, last, nvda, stock, move",
          "<b>Topic 0</b><br>Words: forcast, tenettradingacad, member, bio, link",
          "<b>Topic 0</b><br>Words: cecilrhod, vgt, make, vanguard, ownership",
          "<b>Topic 0</b><br>Words: min, last, nvda, stock, like",
          "<b>Topic 0</b><br>Words: min, last, stock, nvda, buy",
          "<b>Topic 0</b><br>Words: nvda, stock, next, cap, move",
          "<b>Topic 0</b><br>Words: nvda, stock, horni, share, got",
          "<b>Topic 0</b><br>Words: fungu, parasit, nvda, share, buy",
          "<b>Topic 0</b><br>Words: ultim, max, pain, kill, mm",
          "<b>Topic 0</b><br>Words: alon, decis, fair, hell, pump",
          "<b>Topic 0</b><br>Words: stock, nvda, retail, gap, buy",
          "<b>Topic 0</b><br>Words: min, last, bullsey, move, nvda",
          "<b>Topic 0</b><br>Words: stock, tesla, nvda, hold, type",
          "<b>Topic 0</b><br>Words: cramer, stock, dividend, nvda, call",
          "<b>Topic 0</b><br>Words: min, last, eoy, move, wallstreetodd",
          "<b>Topic 0</b><br>Words: possibbl, venar, break, forget, discord",
          "<b>Topic 0</b><br>Words: overvalu, possibbl, clip, break, youtub",
          "<b>Topic 0</b><br>Words: min, last, bio, link, move",
          "<b>Topic 0</b><br>Words: nvda, stock, today, year, volum",
          "<b>Topic 0</b><br>Words: nvda, volum, bear, trillion, need",
          "<b>Topic 0</b><br>Words: nvda, day, stock, wont, say",
          "<b>Topic 0</b><br>Words: mmtlp, mightiest, volum, best, month",
          "<b>Topic 0</b><br>Words: preearn, aehr, holiday, tsla, earli",
          "<b>Topic 0</b><br>Words: seem, around, januari, abl, sometim",
          "<b>Topic 0</b><br>Words: monthovermonth, unit, dane, note, tsla",
          "<b>Topic 0</b><br>Words: nvda, stock, semiconductor, share, amd",
          "<b>Topic 0</b><br>Words: origin, nvda, stock, share, wtf",
          "<b>Topic 0</b><br>Words: analyst, bear, stock, nvda, buy",
          "<b>Topic 0</b><br>Words: analyst, game, nvda, stock, malik",
          "<b>Topic 0</b><br>Words: umbasa, indirect, conductor, exposur, fan",
          "<b>Topic 0</b><br>Words: mkt, pre, broke, kelt, knew",
          "<b>Topic 0</b><br>Words: iron, nvda, stock, buy, dip",
          "<b>Topic 0</b><br>Words: billion, dividend, pe, revenu, intel",
          "<b>Topic 0</b><br>Words: abovetrend, major, global, semisth, chicagosean",
          "<b>Topic 0</b><br>Words: stock, nvda, narr, inflat, share",
          "<b>Topic 0</b><br>Words: love, nvda, stock, growth, doubledigit",
          "<b>Topic 0</b><br>Words: hors, club, ball, rblx, flag",
          "<b>Topic 0</b><br>Words: fsd, recalcitrantscumbag, latecom, theme, surpass",
          "<b>Topic 0</b><br>Words: cross, love, buy, wedg, stock",
          "<b>Topic 0</b><br>Words: market, fear, nvda, nvidia, everythign",
          "<b>Topic 0</b><br>Words: min, last, stock, nvda, market",
          "<b>Topic 0</b><br>Words: nvda, stock, share, amd, get",
          "<b>Topic 0</b><br>Words: deceit, smg, arkf, ut, trickeri",
          "<b>Topic 0</b><br>Words: charg, half, lead, ralli, monday",
          "<b>Topic 0</b><br>Words: min, last, stock, move, nvda",
          "<b>Topic 0</b><br>Words: arm, nvda, valuat, amd, deal",
          "<b>Topic 0</b><br>Words: min, last, nvda, stock, move",
          "<b>Topic 0</b><br>Words: share, nvda, coin, amd, tsla",
          "<b>Topic 0</b><br>Words: min, last, afterhour, move, pm",
          "<b>Topic 0</b><br>Words: thru, cost, outstrip, distort, option",
          "<b>Topic 0</b><br>Words: stockpick, ttm, hey, adjust, yall",
          "<b>Topic 0</b><br>Words: min, last, move, wallstreetodd, via",
          "<b>Topic 0</b><br>Words: jame, raymond, reiter, set, rate",
          "<b>Topic 0</b><br>Words: min, last, move, gainer, tsla",
          "<b>Topic 0</b><br>Words: min, last, gap, move, stock",
          "<b>Topic 0</b><br>Words: fuck, nvda, bill, pass, faker",
          "<b>Topic 0</b><br>Words: callsput, er, run, pattern, readi",
          "<b>Topic 0</b><br>Words: campaign, good, yahoo, week, alpha",
          "<b>Topic 0</b><br>Words: min, last, move, wallstreetodd, via",
          "<b>Topic 0</b><br>Words: holograph, nvda, resist, bear, ar",
          "<b>Topic 0</b><br>Words: nvda, earn, cpi, stock, rockefel",
          "<b>Topic 0</b><br>Words: min, last, move, stock, tear",
          "<b>Topic 0</b><br>Words: pummel, nvda, stock, mental, brutal",
          "<b>Topic 0</b><br>Words: trick, mini, agre, thursday, wednesday",
          "<b>Topic 0</b><br>Words: sp, rise, make, prognost, predict",
          "<b>Topic 0</b><br>Words: min, last, earn, stock, move",
          "<b>Topic 0</b><br>Words: nvda, stock, earn, best, amd",
          "<b>Topic 0</b><br>Words: nvda, stock, earn, beat, share",
          "<b>Topic 0</b><br>Words: nvda, stock, share, buy, price",
          "<b>Topic 0</b><br>Words: stock, nvda, buy, share, analyst",
          "<b>Topic 0</b><br>Words: psr, account, sit, sale, danc",
          "<b>Topic 0</b><br>Words: wk, sma, sonyk, blowoff, ftv",
          "<b>Topic 0</b><br>Words: autonom, orin, vehicl, huang, systemonachip",
          "<b>Topic 0</b><br>Words: line, min, last, stock, tesla",
          "<b>Topic 0</b><br>Words: comedown, gap, nvda, stock, buy",
          "<b>Topic 0</b><br>Words: min, last, move, stock, entri",
          "<b>Topic 0</b><br>Words: fye, nvda, buuuuurn, last, min",
          "<b>Topic 0</b><br>Words: ixic, divvi, dabbl, solar, price",
          "<b>Topic 0</b><br>Words: ibrx, webcast, grandchildren, fraction, lowest"
         ],
         "marker": {
          "color": "#E69F00"
         },
         "mode": "lines",
         "name": "0_nvda_stock_share_split",
         "type": "scatter",
         "x": [
          "2019-01-02T00:00:00.000000000",
          "2019-01-03T00:00:00.000000000",
          "2019-01-04T00:00:00.000000000",
          "2019-01-05T00:00:00.000000000",
          "2019-01-06T00:00:00.000000000",
          "2019-01-07T00:00:00.000000000",
          "2019-01-08T00:00:00.000000000",
          "2019-01-09T00:00:00.000000000",
          "2019-01-10T00:00:00.000000000",
          "2019-01-11T00:00:00.000000000",
          "2019-01-12T00:00:00.000000000",
          "2019-01-13T00:00:00.000000000",
          "2019-01-14T00:00:00.000000000",
          "2019-01-15T00:00:00.000000000",
          "2019-01-16T00:00:00.000000000",
          "2019-01-17T00:00:00.000000000",
          "2019-01-18T00:00:00.000000000",
          "2019-01-22T00:00:00.000000000",
          "2019-01-23T00:00:00.000000000",
          "2019-01-24T00:00:00.000000000",
          "2019-01-25T00:00:00.000000000",
          "2019-01-26T00:00:00.000000000",
          "2019-01-27T00:00:00.000000000",
          "2019-01-28T00:00:00.000000000",
          "2019-01-29T00:00:00.000000000",
          "2019-01-30T00:00:00.000000000",
          "2019-01-31T00:00:00.000000000",
          "2019-02-01T00:00:00.000000000",
          "2019-02-02T00:00:00.000000000",
          "2019-02-04T00:00:00.000000000",
          "2019-02-05T00:00:00.000000000",
          "2019-02-06T00:00:00.000000000",
          "2019-02-07T00:00:00.000000000",
          "2019-02-08T00:00:00.000000000",
          "2019-02-09T00:00:00.000000000",
          "2019-02-10T00:00:00.000000000",
          "2019-02-11T00:00:00.000000000",
          "2019-02-12T00:00:00.000000000",
          "2019-02-13T00:00:00.000000000",
          "2019-02-14T00:00:00.000000000",
          "2019-02-15T00:00:00.000000000",
          "2019-02-16T00:00:00.000000000",
          "2019-02-17T00:00:00.000000000",
          "2019-02-19T00:00:00.000000000",
          "2019-02-20T00:00:00.000000000",
          "2019-02-21T00:00:00.000000000",
          "2019-02-22T00:00:00.000000000",
          "2019-02-23T00:00:00.000000000",
          "2019-02-25T00:00:00.000000000",
          "2019-02-26T00:00:00.000000000",
          "2019-02-27T00:00:00.000000000",
          "2019-02-28T00:00:00.000000000",
          "2019-03-01T00:00:00.000000000",
          "2019-03-04T00:00:00.000000000",
          "2019-03-05T00:00:00.000000000",
          "2019-03-06T00:00:00.000000000",
          "2019-03-07T00:00:00.000000000",
          "2019-03-08T00:00:00.000000000",
          "2019-03-09T00:00:00.000000000",
          "2019-03-10T00:00:00.000000000",
          "2019-03-11T00:00:00.000000000",
          "2019-03-12T00:00:00.000000000",
          "2019-03-13T00:00:00.000000000",
          "2019-03-14T00:00:00.000000000",
          "2019-03-15T00:00:00.000000000",
          "2019-03-16T00:00:00.000000000",
          "2019-03-18T00:00:00.000000000",
          "2019-03-19T00:00:00.000000000",
          "2019-03-20T00:00:00.000000000",
          "2019-03-21T00:00:00.000000000",
          "2019-03-22T00:00:00.000000000",
          "2019-03-23T00:00:00.000000000",
          "2019-03-25T00:00:00.000000000",
          "2019-03-26T00:00:00.000000000",
          "2019-03-27T00:00:00.000000000",
          "2019-03-28T00:00:00.000000000",
          "2019-03-29T00:00:00.000000000",
          "2019-03-30T00:00:00.000000000",
          "2019-04-01T00:00:00.000000000",
          "2019-04-02T00:00:00.000000000",
          "2019-04-03T00:00:00.000000000",
          "2019-04-04T00:00:00.000000000",
          "2019-04-05T00:00:00.000000000",
          "2019-04-07T00:00:00.000000000",
          "2019-04-08T00:00:00.000000000",
          "2019-04-09T00:00:00.000000000",
          "2019-04-10T00:00:00.000000000",
          "2019-04-11T00:00:00.000000000",
          "2019-04-12T00:00:00.000000000",
          "2019-04-14T00:00:00.000000000",
          "2019-04-15T00:00:00.000000000",
          "2019-04-16T00:00:00.000000000",
          "2019-04-17T00:00:00.000000000",
          "2019-04-18T00:00:00.000000000",
          "2019-04-22T00:00:00.000000000",
          "2019-04-23T00:00:00.000000000",
          "2019-04-24T00:00:00.000000000",
          "2019-04-25T00:00:00.000000000",
          "2019-04-26T00:00:00.000000000",
          "2019-04-27T00:00:00.000000000",
          "2019-04-28T00:00:00.000000000",
          "2019-04-29T00:00:00.000000000",
          "2019-04-30T00:00:00.000000000",
          "2019-05-01T00:00:00.000000000",
          "2019-05-02T00:00:00.000000000",
          "2019-05-03T00:00:00.000000000",
          "2019-05-05T00:00:00.000000000",
          "2019-05-06T00:00:00.000000000",
          "2019-05-07T00:00:00.000000000",
          "2019-05-08T00:00:00.000000000",
          "2019-05-09T00:00:00.000000000",
          "2019-05-10T00:00:00.000000000",
          "2019-05-11T00:00:00.000000000",
          "2019-05-13T00:00:00.000000000",
          "2019-05-14T00:00:00.000000000",
          "2019-05-15T00:00:00.000000000",
          "2019-05-16T00:00:00.000000000",
          "2019-05-17T00:00:00.000000000",
          "2019-05-19T00:00:00.000000000",
          "2019-05-20T00:00:00.000000000",
          "2019-05-21T00:00:00.000000000",
          "2019-05-22T00:00:00.000000000",
          "2019-05-23T00:00:00.000000000",
          "2019-05-24T00:00:00.000000000",
          "2019-05-25T00:00:00.000000000",
          "2019-05-28T00:00:00.000000000",
          "2019-05-29T00:00:00.000000000",
          "2019-05-30T00:00:00.000000000",
          "2019-05-31T00:00:00.000000000",
          "2019-06-02T00:00:00.000000000",
          "2019-06-03T00:00:00.000000000",
          "2019-06-04T00:00:00.000000000",
          "2019-06-05T00:00:00.000000000",
          "2019-06-06T00:00:00.000000000",
          "2019-06-07T00:00:00.000000000",
          "2019-06-11T00:00:00.000000000",
          "2019-06-12T00:00:00.000000000",
          "2019-06-13T00:00:00.000000000",
          "2019-06-14T00:00:00.000000000",
          "2019-06-15T00:00:00.000000000",
          "2019-06-17T00:00:00.000000000",
          "2019-06-18T00:00:00.000000000",
          "2019-06-19T00:00:00.000000000",
          "2019-06-20T00:00:00.000000000",
          "2019-06-21T00:00:00.000000000",
          "2019-06-23T00:00:00.000000000",
          "2019-06-25T00:00:00.000000000",
          "2019-06-26T00:00:00.000000000",
          "2019-06-27T00:00:00.000000000",
          "2019-06-28T00:00:00.000000000",
          "2019-06-29T00:00:00.000000000",
          "2019-07-01T00:00:00.000000000",
          "2019-07-02T00:00:00.000000000",
          "2019-07-03T00:00:00.000000000",
          "2019-07-04T00:00:00.000000000",
          "2019-07-05T00:00:00.000000000",
          "2019-07-08T00:00:00.000000000",
          "2019-07-09T00:00:00.000000000",
          "2019-07-10T00:00:00.000000000",
          "2019-07-11T00:00:00.000000000",
          "2019-07-12T00:00:00.000000000",
          "2019-07-15T00:00:00.000000000",
          "2019-07-16T00:00:00.000000000",
          "2019-07-17T00:00:00.000000000",
          "2019-07-18T00:00:00.000000000",
          "2019-07-19T00:00:00.000000000",
          "2019-07-20T00:00:00.000000000",
          "2019-07-22T00:00:00.000000000",
          "2019-07-23T00:00:00.000000000",
          "2019-07-24T00:00:00.000000000",
          "2019-07-25T00:00:00.000000000",
          "2019-07-26T00:00:00.000000000",
          "2019-07-27T00:00:00.000000000",
          "2019-07-28T00:00:00.000000000",
          "2019-07-29T00:00:00.000000000",
          "2019-07-30T00:00:00.000000000",
          "2019-07-31T00:00:00.000000000",
          "2019-08-01T00:00:00.000000000",
          "2019-08-02T00:00:00.000000000",
          "2019-08-05T00:00:00.000000000",
          "2019-08-06T00:00:00.000000000",
          "2019-08-07T00:00:00.000000000",
          "2019-08-08T00:00:00.000000000",
          "2019-08-09T00:00:00.000000000",
          "2019-08-11T00:00:00.000000000",
          "2019-08-12T00:00:00.000000000",
          "2019-08-13T00:00:00.000000000",
          "2019-08-14T00:00:00.000000000",
          "2019-08-15T00:00:00.000000000",
          "2019-08-16T00:00:00.000000000",
          "2019-08-17T00:00:00.000000000",
          "2019-08-19T00:00:00.000000000",
          "2019-08-20T00:00:00.000000000",
          "2019-08-21T00:00:00.000000000",
          "2019-08-22T00:00:00.000000000",
          "2019-08-23T00:00:00.000000000",
          "2019-08-24T00:00:00.000000000",
          "2019-08-25T00:00:00.000000000",
          "2019-08-26T00:00:00.000000000",
          "2019-08-27T00:00:00.000000000",
          "2019-08-28T00:00:00.000000000",
          "2019-08-29T00:00:00.000000000",
          "2019-09-03T00:00:00.000000000",
          "2019-09-04T00:00:00.000000000",
          "2019-09-05T00:00:00.000000000",
          "2019-09-06T00:00:00.000000000",
          "2019-09-07T00:00:00.000000000",
          "2019-09-09T00:00:00.000000000",
          "2019-09-10T00:00:00.000000000",
          "2019-09-11T00:00:00.000000000",
          "2019-09-12T00:00:00.000000000",
          "2019-09-13T00:00:00.000000000",
          "2019-09-14T00:00:00.000000000",
          "2019-09-16T00:00:00.000000000",
          "2019-09-17T00:00:00.000000000",
          "2019-09-18T00:00:00.000000000",
          "2019-09-19T00:00:00.000000000",
          "2019-09-20T00:00:00.000000000",
          "2019-09-21T00:00:00.000000000",
          "2019-09-23T00:00:00.000000000",
          "2019-09-24T00:00:00.000000000",
          "2019-09-25T00:00:00.000000000",
          "2019-09-26T00:00:00.000000000",
          "2019-09-27T00:00:00.000000000",
          "2019-09-30T00:00:00.000000000",
          "2019-10-01T00:00:00.000000000",
          "2019-10-02T00:00:00.000000000",
          "2019-10-03T00:00:00.000000000",
          "2019-10-04T00:00:00.000000000",
          "2019-10-07T00:00:00.000000000",
          "2019-10-08T00:00:00.000000000",
          "2019-10-09T00:00:00.000000000",
          "2019-10-10T00:00:00.000000000",
          "2019-10-11T00:00:00.000000000",
          "2019-10-12T00:00:00.000000000",
          "2019-10-14T00:00:00.000000000",
          "2019-10-15T00:00:00.000000000",
          "2019-10-16T00:00:00.000000000",
          "2019-10-17T00:00:00.000000000",
          "2019-10-18T00:00:00.000000000",
          "2019-10-21T00:00:00.000000000",
          "2019-10-22T00:00:00.000000000",
          "2019-10-23T00:00:00.000000000",
          "2019-10-24T00:00:00.000000000",
          "2019-10-25T00:00:00.000000000",
          "2019-10-26T00:00:00.000000000",
          "2019-10-29T00:00:00.000000000",
          "2019-10-30T00:00:00.000000000",
          "2019-10-31T00:00:00.000000000",
          "2019-11-01T00:00:00.000000000",
          "2019-11-04T00:00:00.000000000",
          "2019-11-05T00:00:00.000000000",
          "2019-11-07T00:00:00.000000000",
          "2019-11-08T00:00:00.000000000",
          "2019-11-09T00:00:00.000000000",
          "2019-11-10T00:00:00.000000000",
          "2019-11-11T00:00:00.000000000",
          "2019-11-12T00:00:00.000000000",
          "2019-11-14T00:00:00.000000000",
          "2019-11-15T00:00:00.000000000",
          "2019-11-16T00:00:00.000000000",
          "2019-11-17T00:00:00.000000000",
          "2019-11-18T00:00:00.000000000",
          "2019-11-19T00:00:00.000000000",
          "2019-11-20T00:00:00.000000000",
          "2019-11-21T00:00:00.000000000",
          "2019-11-22T00:00:00.000000000",
          "2019-11-23T00:00:00.000000000",
          "2019-11-25T00:00:00.000000000",
          "2019-11-26T00:00:00.000000000",
          "2019-11-27T00:00:00.000000000",
          "2019-11-28T00:00:00.000000000",
          "2019-11-29T00:00:00.000000000",
          "2019-12-02T00:00:00.000000000",
          "2019-12-03T00:00:00.000000000",
          "2019-12-04T00:00:00.000000000",
          "2019-12-05T00:00:00.000000000",
          "2019-12-06T00:00:00.000000000",
          "2019-12-08T00:00:00.000000000",
          "2019-12-10T00:00:00.000000000",
          "2019-12-11T00:00:00.000000000",
          "2019-12-12T00:00:00.000000000",
          "2019-12-13T00:00:00.000000000",
          "2019-12-16T00:00:00.000000000",
          "2019-12-17T00:00:00.000000000",
          "2019-12-18T00:00:00.000000000",
          "2019-12-19T00:00:00.000000000",
          "2019-12-20T00:00:00.000000000",
          "2019-12-21T00:00:00.000000000",
          "2019-12-22T00:00:00.000000000",
          "2019-12-23T00:00:00.000000000",
          "2019-12-24T00:00:00.000000000",
          "2019-12-25T00:00:00.000000000",
          "2019-12-26T00:00:00.000000000",
          "2019-12-30T00:00:00.000000000",
          "2019-12-31T00:00:00.000000000",
          "2020-01-01T00:00:00.000000000",
          "2020-01-02T00:00:00.000000000",
          "2020-01-03T00:00:00.000000000",
          "2020-01-07T00:00:00.000000000",
          "2020-01-08T00:00:00.000000000",
          "2020-01-09T00:00:00.000000000",
          "2020-01-10T00:00:00.000000000",
          "2020-01-13T00:00:00.000000000",
          "2020-01-14T00:00:00.000000000",
          "2020-01-15T00:00:00.000000000",
          "2020-01-16T00:00:00.000000000",
          "2020-01-17T00:00:00.000000000",
          "2020-01-19T00:00:00.000000000",
          "2020-01-20T00:00:00.000000000",
          "2020-01-21T00:00:00.000000000",
          "2020-01-22T00:00:00.000000000",
          "2020-01-23T00:00:00.000000000",
          "2020-01-24T00:00:00.000000000",
          "2020-01-27T00:00:00.000000000",
          "2020-01-28T00:00:00.000000000",
          "2020-01-29T00:00:00.000000000",
          "2020-01-30T00:00:00.000000000",
          "2020-01-31T00:00:00.000000000",
          "2020-02-03T00:00:00.000000000",
          "2020-02-04T00:00:00.000000000",
          "2020-02-05T00:00:00.000000000",
          "2020-02-06T00:00:00.000000000",
          "2020-02-07T00:00:00.000000000",
          "2020-02-08T00:00:00.000000000",
          "2020-02-10T00:00:00.000000000",
          "2020-02-11T00:00:00.000000000",
          "2020-02-12T00:00:00.000000000",
          "2020-02-13T00:00:00.000000000",
          "2020-02-14T00:00:00.000000000",
          "2020-02-15T00:00:00.000000000",
          "2020-02-16T00:00:00.000000000",
          "2020-02-17T00:00:00.000000000",
          "2020-02-18T00:00:00.000000000",
          "2020-02-19T00:00:00.000000000",
          "2020-02-20T00:00:00.000000000",
          "2020-02-21T00:00:00.000000000",
          "2020-02-22T00:00:00.000000000",
          "2020-02-24T00:00:00.000000000",
          "2020-02-25T00:00:00.000000000",
          "2020-02-26T00:00:00.000000000",
          "2020-02-27T00:00:00.000000000",
          "2020-02-28T00:00:00.000000000",
          "2020-02-29T00:00:00.000000000",
          "2020-03-01T00:00:00.000000000",
          "2020-03-02T00:00:00.000000000",
          "2020-03-03T00:00:00.000000000",
          "2020-03-04T00:00:00.000000000",
          "2020-03-05T00:00:00.000000000",
          "2020-03-06T00:00:00.000000000",
          "2020-03-08T00:00:00.000000000",
          "2020-03-09T00:00:00.000000000",
          "2020-03-11T00:00:00.000000000",
          "2020-03-12T00:00:00.000000000",
          "2020-03-13T00:00:00.000000000",
          "2020-03-14T00:00:00.000000000",
          "2020-03-16T00:00:00.000000000",
          "2020-03-17T00:00:00.000000000",
          "2020-03-18T00:00:00.000000000",
          "2020-03-19T00:00:00.000000000",
          "2020-03-20T00:00:00.000000000",
          "2020-03-21T00:00:00.000000000",
          "2020-03-22T00:00:00.000000000",
          "2020-03-23T00:00:00.000000000",
          "2020-03-24T00:00:00.000000000",
          "2020-03-25T00:00:00.000000000",
          "2020-03-26T00:00:00.000000000",
          "2020-03-27T00:00:00.000000000",
          "2020-03-28T00:00:00.000000000",
          "2020-03-29T00:00:00.000000000",
          "2020-03-30T00:00:00.000000000",
          "2020-03-31T00:00:00.000000000",
          "2020-04-01T00:00:00.000000000",
          "2020-04-02T00:00:00.000000000",
          "2020-04-03T00:00:00.000000000",
          "2020-04-06T00:00:00.000000000",
          "2020-04-08T00:00:00.000000000",
          "2020-04-09T00:00:00.000000000",
          "2020-04-10T00:00:00.000000000",
          "2020-04-11T00:00:00.000000000",
          "2020-04-13T00:00:00.000000000",
          "2020-04-14T00:00:00.000000000",
          "2020-04-15T00:00:00.000000000",
          "2020-04-16T00:00:00.000000000",
          "2020-04-17T00:00:00.000000000",
          "2020-04-19T00:00:00.000000000",
          "2020-04-20T00:00:00.000000000",
          "2020-04-21T00:00:00.000000000",
          "2020-04-22T00:00:00.000000000",
          "2020-04-23T00:00:00.000000000",
          "2020-04-24T00:00:00.000000000",
          "2020-04-25T00:00:00.000000000",
          "2020-04-26T00:00:00.000000000",
          "2020-04-27T00:00:00.000000000",
          "2020-04-28T00:00:00.000000000",
          "2020-04-29T00:00:00.000000000",
          "2020-04-30T00:00:00.000000000",
          "2020-05-01T00:00:00.000000000",
          "2020-05-04T00:00:00.000000000",
          "2020-05-05T00:00:00.000000000",
          "2020-05-06T00:00:00.000000000",
          "2020-05-08T00:00:00.000000000",
          "2020-05-09T00:00:00.000000000",
          "2020-05-10T00:00:00.000000000",
          "2020-05-11T00:00:00.000000000",
          "2020-05-12T00:00:00.000000000",
          "2020-05-13T00:00:00.000000000",
          "2020-05-14T00:00:00.000000000",
          "2020-05-15T00:00:00.000000000",
          "2020-05-16T00:00:00.000000000",
          "2020-05-17T00:00:00.000000000",
          "2020-05-18T00:00:00.000000000",
          "2020-05-19T00:00:00.000000000",
          "2020-05-20T00:00:00.000000000",
          "2020-05-21T00:00:00.000000000",
          "2020-05-22T00:00:00.000000000",
          "2020-05-23T00:00:00.000000000",
          "2020-05-24T00:00:00.000000000",
          "2020-05-25T00:00:00.000000000",
          "2020-05-26T00:00:00.000000000",
          "2020-05-27T00:00:00.000000000",
          "2020-05-28T00:00:00.000000000",
          "2020-05-29T00:00:00.000000000",
          "2020-05-30T00:00:00.000000000",
          "2020-05-31T00:00:00.000000000",
          "2020-06-01T00:00:00.000000000",
          "2020-06-02T00:00:00.000000000",
          "2020-06-03T00:00:00.000000000",
          "2020-06-04T00:00:00.000000000",
          "2020-06-05T00:00:00.000000000",
          "2020-06-06T00:00:00.000000000",
          "2020-06-07T00:00:00.000000000",
          "2020-06-08T00:00:00.000000000",
          "2020-06-09T00:00:00.000000000",
          "2020-06-10T00:00:00.000000000",
          "2020-06-11T00:00:00.000000000",
          "2020-06-12T00:00:00.000000000",
          "2020-06-13T00:00:00.000000000",
          "2020-06-14T00:00:00.000000000",
          "2020-06-15T00:00:00.000000000",
          "2020-06-16T00:00:00.000000000",
          "2020-06-17T00:00:00.000000000",
          "2020-06-18T00:00:00.000000000",
          "2020-06-19T00:00:00.000000000",
          "2020-06-20T00:00:00.000000000",
          "2020-06-22T00:00:00.000000000",
          "2020-06-23T00:00:00.000000000",
          "2020-06-24T00:00:00.000000000",
          "2020-06-25T00:00:00.000000000",
          "2020-06-26T00:00:00.000000000",
          "2020-06-27T00:00:00.000000000",
          "2020-06-29T00:00:00.000000000",
          "2020-06-30T00:00:00.000000000",
          "2020-07-01T00:00:00.000000000",
          "2020-07-02T00:00:00.000000000",
          "2020-07-04T00:00:00.000000000",
          "2020-07-05T00:00:00.000000000",
          "2020-07-06T00:00:00.000000000",
          "2020-07-07T00:00:00.000000000",
          "2020-07-08T00:00:00.000000000",
          "2020-07-09T00:00:00.000000000",
          "2020-07-10T00:00:00.000000000",
          "2020-07-11T00:00:00.000000000",
          "2020-07-12T00:00:00.000000000",
          "2020-07-13T00:00:00.000000000",
          "2020-07-14T00:00:00.000000000",
          "2020-07-15T00:00:00.000000000",
          "2020-07-16T00:00:00.000000000",
          "2020-07-17T00:00:00.000000000",
          "2020-07-18T00:00:00.000000000",
          "2020-07-20T00:00:00.000000000",
          "2020-07-21T00:00:00.000000000",
          "2020-07-22T00:00:00.000000000",
          "2020-07-23T00:00:00.000000000",
          "2020-07-24T00:00:00.000000000",
          "2020-07-25T00:00:00.000000000",
          "2020-07-26T00:00:00.000000000",
          "2020-07-27T00:00:00.000000000",
          "2020-07-28T00:00:00.000000000",
          "2020-07-29T00:00:00.000000000",
          "2020-07-30T00:00:00.000000000",
          "2020-07-31T00:00:00.000000000",
          "2020-08-02T00:00:00.000000000",
          "2020-08-03T00:00:00.000000000",
          "2020-08-04T00:00:00.000000000",
          "2020-08-05T00:00:00.000000000",
          "2020-08-06T00:00:00.000000000",
          "2020-08-07T00:00:00.000000000",
          "2020-08-08T00:00:00.000000000",
          "2020-08-09T00:00:00.000000000",
          "2020-08-10T00:00:00.000000000",
          "2020-08-11T00:00:00.000000000",
          "2020-08-12T00:00:00.000000000",
          "2020-08-13T00:00:00.000000000",
          "2020-08-14T00:00:00.000000000",
          "2020-08-15T00:00:00.000000000",
          "2020-08-16T00:00:00.000000000",
          "2020-08-17T00:00:00.000000000",
          "2020-08-18T00:00:00.000000000",
          "2020-08-19T00:00:00.000000000",
          "2020-08-20T00:00:00.000000000",
          "2020-08-21T00:00:00.000000000",
          "2020-08-22T00:00:00.000000000",
          "2020-08-23T00:00:00.000000000",
          "2020-08-24T00:00:00.000000000",
          "2020-08-25T00:00:00.000000000",
          "2020-08-26T00:00:00.000000000",
          "2020-08-27T00:00:00.000000000",
          "2020-08-28T00:00:00.000000000",
          "2020-08-29T00:00:00.000000000",
          "2020-08-30T00:00:00.000000000",
          "2020-08-31T00:00:00.000000000",
          "2020-09-01T00:00:00.000000000",
          "2020-09-02T00:00:00.000000000",
          "2020-09-03T00:00:00.000000000",
          "2020-09-04T00:00:00.000000000",
          "2020-09-05T00:00:00.000000000",
          "2020-09-06T00:00:00.000000000",
          "2020-09-07T00:00:00.000000000",
          "2020-09-08T00:00:00.000000000",
          "2020-09-09T00:00:00.000000000",
          "2020-09-10T00:00:00.000000000",
          "2020-09-11T00:00:00.000000000",
          "2020-09-12T00:00:00.000000000",
          "2020-09-13T00:00:00.000000000",
          "2020-09-14T00:00:00.000000000",
          "2020-09-15T00:00:00.000000000",
          "2020-09-16T00:00:00.000000000",
          "2020-09-17T00:00:00.000000000",
          "2020-09-18T00:00:00.000000000",
          "2020-09-19T00:00:00.000000000",
          "2020-09-20T00:00:00.000000000",
          "2020-09-21T00:00:00.000000000",
          "2020-09-22T00:00:00.000000000",
          "2020-09-23T00:00:00.000000000",
          "2020-09-24T00:00:00.000000000",
          "2020-09-25T00:00:00.000000000",
          "2020-09-26T00:00:00.000000000",
          "2020-09-27T00:00:00.000000000",
          "2020-09-28T00:00:00.000000000",
          "2020-09-29T00:00:00.000000000",
          "2020-09-30T00:00:00.000000000",
          "2020-10-01T00:00:00.000000000",
          "2020-10-02T00:00:00.000000000",
          "2020-10-03T00:00:00.000000000",
          "2020-10-04T00:00:00.000000000",
          "2020-10-05T00:00:00.000000000",
          "2020-10-06T00:00:00.000000000",
          "2020-10-07T00:00:00.000000000",
          "2020-10-08T00:00:00.000000000",
          "2020-10-09T00:00:00.000000000",
          "2020-10-10T00:00:00.000000000",
          "2020-10-11T00:00:00.000000000",
          "2020-10-12T00:00:00.000000000",
          "2020-10-13T00:00:00.000000000",
          "2020-10-14T00:00:00.000000000",
          "2020-10-15T00:00:00.000000000",
          "2020-10-16T00:00:00.000000000",
          "2020-10-17T00:00:00.000000000",
          "2020-10-19T00:00:00.000000000",
          "2020-10-20T00:00:00.000000000",
          "2020-10-21T00:00:00.000000000",
          "2020-10-22T00:00:00.000000000",
          "2020-10-23T00:00:00.000000000",
          "2020-10-24T00:00:00.000000000",
          "2020-10-25T00:00:00.000000000",
          "2020-10-26T00:00:00.000000000",
          "2020-10-27T00:00:00.000000000",
          "2020-10-28T00:00:00.000000000",
          "2020-10-29T00:00:00.000000000",
          "2020-10-30T00:00:00.000000000",
          "2020-11-01T00:00:00.000000000",
          "2020-11-02T00:00:00.000000000",
          "2020-11-03T00:00:00.000000000",
          "2020-11-04T00:00:00.000000000",
          "2020-11-05T00:00:00.000000000",
          "2020-11-06T00:00:00.000000000",
          "2020-11-08T00:00:00.000000000",
          "2020-11-09T00:00:00.000000000",
          "2020-11-10T00:00:00.000000000",
          "2020-11-11T00:00:00.000000000",
          "2020-11-12T00:00:00.000000000",
          "2020-11-13T00:00:00.000000000",
          "2020-11-14T00:00:00.000000000",
          "2020-11-15T00:00:00.000000000",
          "2020-11-16T00:00:00.000000000",
          "2020-11-17T00:00:00.000000000",
          "2020-11-18T00:00:00.000000000",
          "2020-11-19T00:00:00.000000000",
          "2020-11-20T00:00:00.000000000",
          "2020-11-22T00:00:00.000000000",
          "2020-11-23T00:00:00.000000000",
          "2020-11-24T00:00:00.000000000",
          "2020-11-25T00:00:00.000000000",
          "2020-11-26T00:00:00.000000000",
          "2020-11-27T00:00:00.000000000",
          "2020-11-29T00:00:00.000000000",
          "2020-11-30T00:00:00.000000000",
          "2020-12-01T00:00:00.000000000",
          "2020-12-02T00:00:00.000000000",
          "2020-12-03T00:00:00.000000000",
          "2020-12-04T00:00:00.000000000",
          "2020-12-05T00:00:00.000000000",
          "2020-12-06T00:00:00.000000000",
          "2020-12-07T00:00:00.000000000",
          "2020-12-08T00:00:00.000000000",
          "2020-12-09T00:00:00.000000000",
          "2020-12-10T00:00:00.000000000",
          "2020-12-11T00:00:00.000000000",
          "2020-12-12T00:00:00.000000000",
          "2020-12-13T00:00:00.000000000",
          "2020-12-14T00:00:00.000000000",
          "2020-12-15T00:00:00.000000000",
          "2020-12-16T00:00:00.000000000",
          "2020-12-17T00:00:00.000000000",
          "2020-12-18T00:00:00.000000000",
          "2020-12-19T00:00:00.000000000",
          "2020-12-20T00:00:00.000000000",
          "2020-12-21T00:00:00.000000000",
          "2020-12-22T00:00:00.000000000",
          "2020-12-23T00:00:00.000000000",
          "2020-12-24T00:00:00.000000000",
          "2020-12-25T00:00:00.000000000",
          "2020-12-28T00:00:00.000000000",
          "2020-12-29T00:00:00.000000000",
          "2020-12-30T00:00:00.000000000",
          "2020-12-31T00:00:00.000000000",
          "2021-01-04T00:00:00.000000000",
          "2021-01-05T00:00:00.000000000",
          "2021-01-06T00:00:00.000000000",
          "2021-01-07T00:00:00.000000000",
          "2021-01-08T00:00:00.000000000",
          "2021-01-09T00:00:00.000000000",
          "2021-01-10T00:00:00.000000000",
          "2021-01-11T00:00:00.000000000",
          "2021-01-12T00:00:00.000000000",
          "2021-01-13T00:00:00.000000000",
          "2021-01-14T00:00:00.000000000",
          "2021-01-15T00:00:00.000000000",
          "2021-01-16T00:00:00.000000000",
          "2021-01-17T00:00:00.000000000",
          "2021-01-19T00:00:00.000000000",
          "2021-01-20T00:00:00.000000000",
          "2021-01-21T00:00:00.000000000",
          "2021-01-22T00:00:00.000000000",
          "2021-01-24T00:00:00.000000000",
          "2021-01-25T00:00:00.000000000",
          "2021-01-26T00:00:00.000000000",
          "2021-01-27T00:00:00.000000000",
          "2021-01-28T00:00:00.000000000",
          "2021-01-29T00:00:00.000000000",
          "2021-01-30T00:00:00.000000000",
          "2021-01-31T00:00:00.000000000",
          "2021-02-01T00:00:00.000000000",
          "2021-02-02T00:00:00.000000000",
          "2021-02-03T00:00:00.000000000",
          "2021-02-04T00:00:00.000000000",
          "2021-02-05T00:00:00.000000000",
          "2021-02-06T00:00:00.000000000",
          "2021-02-07T00:00:00.000000000",
          "2021-02-08T00:00:00.000000000",
          "2021-02-09T00:00:00.000000000",
          "2021-02-10T00:00:00.000000000",
          "2021-02-11T00:00:00.000000000",
          "2021-02-12T00:00:00.000000000",
          "2021-02-13T00:00:00.000000000",
          "2021-02-14T00:00:00.000000000",
          "2021-02-15T00:00:00.000000000",
          "2021-02-16T00:00:00.000000000",
          "2021-02-17T00:00:00.000000000",
          "2021-02-18T00:00:00.000000000",
          "2021-02-19T00:00:00.000000000",
          "2021-02-20T00:00:00.000000000",
          "2021-02-21T00:00:00.000000000",
          "2021-02-22T00:00:00.000000000",
          "2021-02-23T00:00:00.000000000",
          "2021-02-24T00:00:00.000000000",
          "2021-02-25T00:00:00.000000000",
          "2021-02-26T00:00:00.000000000",
          "2021-02-27T00:00:00.000000000",
          "2021-02-28T00:00:00.000000000",
          "2021-03-01T00:00:00.000000000",
          "2021-03-02T00:00:00.000000000",
          "2021-03-03T00:00:00.000000000",
          "2021-03-04T00:00:00.000000000",
          "2021-03-05T00:00:00.000000000",
          "2021-03-06T00:00:00.000000000",
          "2021-03-08T00:00:00.000000000",
          "2021-03-09T00:00:00.000000000",
          "2021-03-10T00:00:00.000000000",
          "2021-03-11T00:00:00.000000000",
          "2021-03-12T00:00:00.000000000",
          "2021-03-13T00:00:00.000000000",
          "2021-03-14T00:00:00.000000000",
          "2021-03-15T00:00:00.000000000",
          "2021-03-16T00:00:00.000000000",
          "2021-03-17T00:00:00.000000000",
          "2021-03-18T00:00:00.000000000",
          "2021-03-19T00:00:00.000000000",
          "2021-03-22T00:00:00.000000000",
          "2021-03-23T00:00:00.000000000",
          "2021-03-24T00:00:00.000000000",
          "2021-03-25T00:00:00.000000000",
          "2021-03-26T00:00:00.000000000",
          "2021-03-27T00:00:00.000000000",
          "2021-03-28T00:00:00.000000000",
          "2021-03-29T00:00:00.000000000",
          "2021-03-30T00:00:00.000000000",
          "2021-03-31T00:00:00.000000000",
          "2021-04-01T00:00:00.000000000",
          "2021-04-02T00:00:00.000000000",
          "2021-04-03T00:00:00.000000000",
          "2021-04-05T00:00:00.000000000",
          "2021-04-06T00:00:00.000000000",
          "2021-04-07T00:00:00.000000000",
          "2021-04-08T00:00:00.000000000",
          "2021-04-09T00:00:00.000000000",
          "2021-04-12T00:00:00.000000000",
          "2021-04-13T00:00:00.000000000",
          "2021-04-14T00:00:00.000000000",
          "2021-04-15T00:00:00.000000000",
          "2021-04-16T00:00:00.000000000",
          "2021-04-17T00:00:00.000000000",
          "2021-04-18T00:00:00.000000000",
          "2021-04-19T00:00:00.000000000",
          "2021-04-20T00:00:00.000000000",
          "2021-04-21T00:00:00.000000000",
          "2021-04-22T00:00:00.000000000",
          "2021-04-23T00:00:00.000000000",
          "2021-04-25T00:00:00.000000000",
          "2021-04-26T00:00:00.000000000",
          "2021-04-27T00:00:00.000000000",
          "2021-04-28T00:00:00.000000000",
          "2021-04-29T00:00:00.000000000",
          "2021-04-30T00:00:00.000000000",
          "2021-05-01T00:00:00.000000000",
          "2021-05-03T00:00:00.000000000",
          "2021-05-04T00:00:00.000000000",
          "2021-05-05T00:00:00.000000000",
          "2021-05-06T00:00:00.000000000",
          "2021-05-07T00:00:00.000000000",
          "2021-05-08T00:00:00.000000000",
          "2021-05-10T00:00:00.000000000",
          "2021-05-11T00:00:00.000000000",
          "2021-05-12T00:00:00.000000000",
          "2021-05-13T00:00:00.000000000",
          "2021-05-14T00:00:00.000000000",
          "2021-05-15T00:00:00.000000000",
          "2021-05-17T00:00:00.000000000",
          "2021-05-18T00:00:00.000000000",
          "2021-05-19T00:00:00.000000000",
          "2021-05-20T00:00:00.000000000",
          "2021-05-21T00:00:00.000000000",
          "2021-05-22T00:00:00.000000000",
          "2021-05-23T00:00:00.000000000",
          "2021-05-24T00:00:00.000000000",
          "2021-05-25T00:00:00.000000000",
          "2021-05-26T00:00:00.000000000",
          "2021-05-27T00:00:00.000000000",
          "2021-05-28T00:00:00.000000000",
          "2021-05-29T00:00:00.000000000",
          "2021-05-30T00:00:00.000000000",
          "2021-05-31T00:00:00.000000000",
          "2021-06-01T00:00:00.000000000",
          "2021-06-02T00:00:00.000000000",
          "2021-06-03T00:00:00.000000000",
          "2021-06-04T00:00:00.000000000",
          "2021-06-05T00:00:00.000000000",
          "2021-06-06T00:00:00.000000000",
          "2021-06-07T00:00:00.000000000",
          "2021-06-08T00:00:00.000000000",
          "2021-06-09T00:00:00.000000000",
          "2021-06-10T00:00:00.000000000",
          "2021-06-11T00:00:00.000000000",
          "2021-06-12T00:00:00.000000000",
          "2021-06-13T00:00:00.000000000",
          "2021-06-14T00:00:00.000000000",
          "2021-06-15T00:00:00.000000000",
          "2021-06-16T00:00:00.000000000",
          "2021-06-17T00:00:00.000000000",
          "2021-06-18T00:00:00.000000000",
          "2021-06-19T00:00:00.000000000",
          "2021-06-20T00:00:00.000000000",
          "2021-06-21T00:00:00.000000000",
          "2021-06-22T00:00:00.000000000",
          "2021-06-23T00:00:00.000000000",
          "2021-06-24T00:00:00.000000000",
          "2021-06-25T00:00:00.000000000",
          "2021-06-27T00:00:00.000000000",
          "2021-06-28T00:00:00.000000000",
          "2021-06-29T00:00:00.000000000",
          "2021-06-30T00:00:00.000000000",
          "2021-07-01T00:00:00.000000000",
          "2021-07-02T00:00:00.000000000",
          "2021-07-03T00:00:00.000000000",
          "2021-07-04T00:00:00.000000000",
          "2021-07-05T00:00:00.000000000",
          "2021-07-06T00:00:00.000000000",
          "2021-07-07T00:00:00.000000000",
          "2021-07-08T00:00:00.000000000",
          "2021-07-09T00:00:00.000000000",
          "2021-07-10T00:00:00.000000000",
          "2021-07-11T00:00:00.000000000",
          "2021-07-12T00:00:00.000000000",
          "2021-07-13T00:00:00.000000000",
          "2021-07-14T00:00:00.000000000",
          "2021-07-15T00:00:00.000000000",
          "2021-07-16T00:00:00.000000000",
          "2021-07-17T00:00:00.000000000",
          "2021-07-18T00:00:00.000000000",
          "2021-07-19T00:00:00.000000000",
          "2021-07-20T00:00:00.000000000",
          "2021-07-21T00:00:00.000000000",
          "2021-07-22T00:00:00.000000000",
          "2021-07-23T00:00:00.000000000",
          "2021-07-26T00:00:00.000000000",
          "2021-07-27T00:00:00.000000000",
          "2021-07-28T00:00:00.000000000",
          "2021-07-29T00:00:00.000000000",
          "2021-07-30T00:00:00.000000000",
          "2021-07-31T00:00:00.000000000",
          "2021-08-01T00:00:00.000000000",
          "2021-08-02T00:00:00.000000000",
          "2021-08-03T00:00:00.000000000",
          "2021-08-04T00:00:00.000000000",
          "2021-08-05T00:00:00.000000000",
          "2021-08-06T00:00:00.000000000",
          "2021-08-07T00:00:00.000000000",
          "2021-08-08T00:00:00.000000000",
          "2021-08-09T00:00:00.000000000",
          "2021-08-10T00:00:00.000000000",
          "2021-08-11T00:00:00.000000000",
          "2021-08-12T00:00:00.000000000",
          "2021-08-13T00:00:00.000000000",
          "2021-08-14T00:00:00.000000000",
          "2021-08-15T00:00:00.000000000",
          "2021-08-16T00:00:00.000000000",
          "2021-08-17T00:00:00.000000000",
          "2021-08-18T00:00:00.000000000",
          "2021-08-19T00:00:00.000000000",
          "2021-08-20T00:00:00.000000000",
          "2021-08-21T00:00:00.000000000",
          "2021-08-22T00:00:00.000000000",
          "2021-08-23T00:00:00.000000000",
          "2021-08-24T00:00:00.000000000",
          "2021-08-25T00:00:00.000000000",
          "2021-08-26T00:00:00.000000000",
          "2021-08-27T00:00:00.000000000",
          "2021-08-28T00:00:00.000000000",
          "2021-08-29T00:00:00.000000000",
          "2021-08-30T00:00:00.000000000",
          "2021-08-31T00:00:00.000000000",
          "2021-09-01T00:00:00.000000000",
          "2021-09-02T00:00:00.000000000",
          "2021-09-03T00:00:00.000000000",
          "2021-09-04T00:00:00.000000000",
          "2021-09-05T00:00:00.000000000",
          "2021-09-06T00:00:00.000000000",
          "2021-09-07T00:00:00.000000000",
          "2021-09-08T00:00:00.000000000",
          "2021-09-09T00:00:00.000000000",
          "2021-09-10T00:00:00.000000000",
          "2021-09-11T00:00:00.000000000",
          "2021-09-12T00:00:00.000000000",
          "2021-09-13T00:00:00.000000000",
          "2021-09-14T00:00:00.000000000",
          "2021-09-15T00:00:00.000000000",
          "2021-09-16T00:00:00.000000000",
          "2021-09-17T00:00:00.000000000",
          "2021-09-18T00:00:00.000000000",
          "2021-09-20T00:00:00.000000000",
          "2021-09-21T00:00:00.000000000",
          "2021-09-22T00:00:00.000000000",
          "2021-09-23T00:00:00.000000000",
          "2021-09-24T00:00:00.000000000",
          "2021-09-25T00:00:00.000000000",
          "2021-09-26T00:00:00.000000000",
          "2021-09-27T00:00:00.000000000",
          "2021-09-28T00:00:00.000000000",
          "2021-09-29T00:00:00.000000000",
          "2021-09-30T00:00:00.000000000",
          "2021-10-01T00:00:00.000000000",
          "2021-10-02T00:00:00.000000000",
          "2021-10-03T00:00:00.000000000",
          "2021-10-04T00:00:00.000000000",
          "2021-10-05T00:00:00.000000000",
          "2021-10-06T00:00:00.000000000",
          "2021-10-07T00:00:00.000000000",
          "2021-10-08T00:00:00.000000000",
          "2021-10-09T00:00:00.000000000",
          "2021-10-11T00:00:00.000000000",
          "2021-10-12T00:00:00.000000000",
          "2021-10-13T00:00:00.000000000",
          "2021-10-14T00:00:00.000000000",
          "2021-10-15T00:00:00.000000000",
          "2021-10-18T00:00:00.000000000",
          "2021-10-19T00:00:00.000000000",
          "2021-10-20T00:00:00.000000000",
          "2021-10-21T00:00:00.000000000",
          "2021-10-22T00:00:00.000000000",
          "2021-10-25T00:00:00.000000000",
          "2021-10-26T00:00:00.000000000",
          "2021-10-27T00:00:00.000000000",
          "2021-10-28T00:00:00.000000000",
          "2021-10-29T00:00:00.000000000",
          "2021-10-30T00:00:00.000000000",
          "2021-10-31T00:00:00.000000000",
          "2021-11-01T00:00:00.000000000",
          "2021-11-02T00:00:00.000000000",
          "2021-11-03T00:00:00.000000000",
          "2021-11-04T00:00:00.000000000",
          "2021-11-05T00:00:00.000000000",
          "2021-11-06T00:00:00.000000000",
          "2021-11-07T00:00:00.000000000",
          "2021-11-08T00:00:00.000000000",
          "2021-11-09T00:00:00.000000000",
          "2021-11-10T00:00:00.000000000",
          "2021-11-11T00:00:00.000000000",
          "2021-11-12T00:00:00.000000000",
          "2021-11-13T00:00:00.000000000",
          "2021-11-14T00:00:00.000000000",
          "2021-11-15T00:00:00.000000000",
          "2021-11-16T00:00:00.000000000",
          "2021-11-17T00:00:00.000000000",
          "2021-11-18T00:00:00.000000000",
          "2021-11-19T00:00:00.000000000",
          "2021-11-20T00:00:00.000000000",
          "2021-11-21T00:00:00.000000000",
          "2021-11-22T00:00:00.000000000",
          "2021-11-23T00:00:00.000000000",
          "2021-11-24T00:00:00.000000000",
          "2021-11-25T00:00:00.000000000",
          "2021-11-26T00:00:00.000000000",
          "2021-11-27T00:00:00.000000000",
          "2021-11-28T00:00:00.000000000",
          "2021-11-29T00:00:00.000000000",
          "2021-11-30T00:00:00.000000000",
          "2021-12-01T00:00:00.000000000",
          "2021-12-02T00:00:00.000000000",
          "2021-12-03T00:00:00.000000000",
          "2021-12-04T00:00:00.000000000",
          "2021-12-05T00:00:00.000000000",
          "2021-12-06T00:00:00.000000000",
          "2021-12-07T00:00:00.000000000",
          "2021-12-08T00:00:00.000000000",
          "2021-12-09T00:00:00.000000000",
          "2021-12-10T00:00:00.000000000",
          "2021-12-11T00:00:00.000000000",
          "2021-12-12T00:00:00.000000000",
          "2021-12-13T00:00:00.000000000",
          "2021-12-14T00:00:00.000000000",
          "2021-12-15T00:00:00.000000000",
          "2021-12-16T00:00:00.000000000",
          "2021-12-17T00:00:00.000000000",
          "2021-12-18T00:00:00.000000000",
          "2021-12-19T00:00:00.000000000",
          "2021-12-20T00:00:00.000000000",
          "2021-12-21T00:00:00.000000000",
          "2021-12-22T00:00:00.000000000",
          "2021-12-23T00:00:00.000000000",
          "2021-12-24T00:00:00.000000000",
          "2021-12-25T00:00:00.000000000",
          "2021-12-26T00:00:00.000000000",
          "2021-12-27T00:00:00.000000000",
          "2021-12-28T00:00:00.000000000",
          "2021-12-29T00:00:00.000000000",
          "2021-12-30T00:00:00.000000000",
          "2021-12-31T00:00:00.000000000",
          "2022-01-01T00:00:00.000000000",
          "2022-01-02T00:00:00.000000000",
          "2022-01-03T00:00:00.000000000",
          "2022-01-04T00:00:00.000000000",
          "2022-01-05T00:00:00.000000000",
          "2022-01-06T00:00:00.000000000",
          "2022-01-07T00:00:00.000000000",
          "2022-01-08T00:00:00.000000000",
          "2022-01-09T00:00:00.000000000",
          "2022-01-10T00:00:00.000000000",
          "2022-01-11T00:00:00.000000000",
          "2022-01-12T00:00:00.000000000",
          "2022-01-13T00:00:00.000000000",
          "2022-01-14T00:00:00.000000000",
          "2022-01-15T00:00:00.000000000",
          "2022-01-16T00:00:00.000000000",
          "2022-01-18T00:00:00.000000000",
          "2022-01-19T00:00:00.000000000",
          "2022-01-20T00:00:00.000000000",
          "2022-01-21T00:00:00.000000000",
          "2022-01-22T00:00:00.000000000",
          "2022-01-23T00:00:00.000000000",
          "2022-01-24T00:00:00.000000000",
          "2022-01-25T00:00:00.000000000",
          "2022-01-26T00:00:00.000000000",
          "2022-01-27T00:00:00.000000000",
          "2022-01-28T00:00:00.000000000",
          "2022-01-29T00:00:00.000000000",
          "2022-01-30T00:00:00.000000000",
          "2022-01-31T00:00:00.000000000",
          "2022-02-01T00:00:00.000000000",
          "2022-02-02T00:00:00.000000000",
          "2022-02-03T00:00:00.000000000",
          "2022-02-04T00:00:00.000000000",
          "2022-02-05T00:00:00.000000000",
          "2022-02-06T00:00:00.000000000",
          "2022-02-07T00:00:00.000000000",
          "2022-02-08T00:00:00.000000000",
          "2022-02-09T00:00:00.000000000",
          "2022-02-10T00:00:00.000000000",
          "2022-02-11T00:00:00.000000000",
          "2022-02-12T00:00:00.000000000",
          "2022-02-13T00:00:00.000000000",
          "2022-02-14T00:00:00.000000000",
          "2022-02-15T00:00:00.000000000",
          "2022-02-16T00:00:00.000000000",
          "2022-02-17T00:00:00.000000000",
          "2022-02-18T00:00:00.000000000",
          "2022-02-19T00:00:00.000000000",
          "2022-02-20T00:00:00.000000000",
          "2022-02-21T00:00:00.000000000",
          "2022-02-22T00:00:00.000000000",
          "2022-02-23T00:00:00.000000000",
          "2022-02-24T00:00:00.000000000",
          "2022-02-25T00:00:00.000000000",
          "2022-02-27T00:00:00.000000000",
          "2022-02-28T00:00:00.000000000"
         ],
         "y": {
          "bdata": "BgAKAAMAAQABAAIADAAGAAwAAwAEAAEACgAFAAYABQAGAAsABgAWABgAAQABAEAALQALABEABQACAAoABgAQAAcACwABAAIAHAAJAAcAQwBCAAEAAgAGAAYABgAIAAIADQAHAAwACAACAAMABwAHAAUACAACAAEAEgAPAAUAAwAEAAEABAAKAA4ADwAHAAEABAAMAAIAAwAHAAIAAgABABAAAwADAAEACAAEAAYABwAKAAMABgAEAAQAAwADAAQACQALABEAAgABAAQABQADAAEAAwABAAMAAgACAAQAAwACAAkAAwAJAEEAJAACAAYABgAGAAwABQACAA4ABQAMAAYAAgAEAAEACQAGAAQAAgAFAAUABgABAAIABgACAAMAAgABAAMABwAMAAgAAQAIAAQABAACAAUACAABAAQAEwAMAAMAAgADAAMAAgABAAMABwAFAAEAAQABAAEAAgACAAIABgAIAAQAAwABAAIAAgABAAQABAAFAB4AFAACAA8ABAADAAIABwACAAEABwAEAAIAAgACAAIABAAGAAEAAwACAAIABQADAAIAAgACAAMAAgABAAEAAwAEAAQABwAEAAMABgABAAMABAAQAAUAAwABAAQAAQACABEABgAFAAMABAAHAAIAAQAEAAEAAwABAAEAAQADAAIAAwACAAIAAQAHAAIAHgA1AAIAAQALAAsADwAFAAMAAgASAAUABwABAAQABAAHAAEAAQACAAEABAAEAAgACQAEAAMABgAGAA4AAgADAAQAAwABAAMABwAIAAIABwACAAQAAgAEAAkABwABAAEABAACAAEAAgABAAQAAQAIAAEABgACAAQAAgABAAMAAQACAAcAAQAHAAwAAgApACYAAgABAAIACgAhAAsACwADAA4ADAAGAAsAEQACAAEABAAGAAkAAwAFAAEAAwAEAAMABAABAAMABgABAAMABwABAAIAAwAOAAMAAwACAAEAAgALAAcABQAKAAMABQAEAAQAAQABAAcABQAJAA0ADwABAAcAAwADAAEABQAEAAEABQAEAAEABAADAAcAAwAEAAYAAgACAAcACwAMAAsAIQAEAAIAEwANAA0AMgAyAAQAAgACABEADwAFAAYAAQABAAQAAwAHAAkABAAEAAIABAAFAAkADAAHAAIAAgAEAAcACAAIAAMABAAEAAQAAwAGAAMAAgABAAIABAAIAAIAAQADAA8ADQAVAAoAAgACAAwABQALAAQABgABAAIAAgAEAAcABwABAAEAAwACAAQACAAIAAEADAAFAAMAAwAEAAEAAQAGAAsADgAWAA8AAwACACkANQB4AEoALwAHAAcAFgAMAA0ACwAaAAEAAwATABwANgAgAB0AAwACAAQAGAAWAAYAAgACAAcALAAdABEADwALAAQAAgANAAsABQAKAAYAAQACAAIADAAGAAUABQACAAIACgATAAsAJQALAAEAAQAOAAEAAgAEAAUAAgABAAMAAQADAAEAAQABAAEABAAGAAcABQABAAYAAQAEAAQABQAEAAkACwAGAAIAAwAHAAIADAAFADsAMQAOAAQABwALAAkAAgAEAAIABgAGAAYABAAFAAMABAAEAAkACwACAAEAAQACAAcABQADAAMACgADAAIAAwAFAAQAAwABAAgACQAEAAQABwAFABEACgAGAAoAAgANABAACwAIAAcAAwAEAAYABwAFAAUAAgAHAAYABwAEAAYAAQABAAUABAAHAAQACAACAAEAEAAIAAsADwAYAAQAAgACAAcAAgAFAAQAAgAEABsARADEAGEARgADAAMAKgASACwAPwAgAAMASQAeABEACwAEAAIAAwAEAAgABwAFAAIADwACAAQACAAXAAIAAQATABAACAAqAAQAAgAoAFkALAAsAAcAIgAhAAYAFAAFAAEAAQAIAAQAAgAHAAMAAgABAAYABAAIAAMAAQABAAcACAAFAAUAAwADAAQABgAGAAQAAQADAAQABQAJAF0ADwADABQAFABCADoAJgACAAIAAQALABEAIAAwAAUAAgAfAB4AEgANABYAAgAEABIAEQALAEIAUgAJAAYAMgAbABcAGAAJAAEALQA5ABgALgAYAAYAAwAFACAAGQAgABMABAACABUAEAAPAB8AHgAHAAYAPABuASQAKQAYABAADAANABIAHAADAAEAEAAhABcAEwATAAIAAQAJAA8AHAAaAAUAAQAEAAYADQBBAFMANAAEAAYANAAbACMAFgAgAAEAAwAaAA0ADAAJABgABAAIAAMACAAJAAcACAABAAIACgALAAkABAACAAMACQAHAAgAEAAQAAEAAwAIABUAEwALAAkAAQABAB8ACwAEAAkACwACAAcACQAEABAABwARAAoABwAVAA0AFABBAAsADAAXAAMAAQAMABwAFgDFAFUADAAHADIATgAtACkATwAIAAIAHAArAEcBoABAAAYACABmACYAKgAKABsAAgABACkAGgAfACYAHgAEAAYAKAAmACEAIQAmAAQAAgA0ACMAIAArACcAAgABABkAIAAUABQABAADAAMAFgAgADwAGgANAAIAAwAOACUAIgAVABIAAQABAB4AFAAJAB8AEwADAAMAEwAVACQAJAAFAAMAHQAkACAAFQATAAQAAwANACoAGAAXABIAAwABABMAHAAjABYAFQACAAQAGQApAMoAkQAvAAUAAwADABYAEQAbAA8ABAAFAA==",
          "dtype": "i2"
         }
        },
        {
         "hoverinfo": "text",
         "hovertext": [
          "<b>Topic 1</b><br>Words: inter, allow, player, god, damn",
          "<b>Topic 1</b><br>Words: realli, round, arent, powel, go",
          "<b>Topic 1</b><br>Words: quotglitchesquot, dia, iwm, crazi, volatil",
          "<b>Topic 1</b><br>Words: snowflak, useless, ce, paper, tariff",
          "<b>Topic 1</b><br>Words: glori, sight, gut, perfectli, lean",
          "<b>Topic 1</b><br>Words: bbbi, fb, atvi, crm, fun",
          "<b>Topic 1</b><br>Words: alpha, wake, hey, pop, readi",
          "<b>Topic 1</b><br>Words: powerhous, engin, multipl, major, rang",
          "<b>Topic 1</b><br>Words: nonsens, robot, trade, nvda, stock",
          "<b>Topic 1</b><br>Words: excit, digit, doubl, increas, hope",
          "<b>Topic 1</b><br>Words: addict, bullshit, rich, singl, ok",
          "<b>Topic 1</b><br>Words: uaa, baba, ebay, sbux, ibm",
          "<b>Topic 1</b><br>Words: thought, lol, trade, nvda, stock",
          "<b>Topic 1</b><br>Words: cohort, xlnx, wdc, txn, take",
          "<b>Topic 1</b><br>Words: franchis, dhi, hmmm, unh, remov",
          "<b>Topic 1</b><br>Words: stocktrap, dimedaddi, smprotrad, davidmoadel, oldfngguy",
          "<b>Topic 1</b><br>Words: orrrrr, amen, dammit, plan, vale",
          "<b>Topic 1</b><br>Words: deal, whr, bitter, contact, reli",
          "<b>Topic 1</b><br>Words: jnpr, delusion, ibm, room, luck",
          "<b>Topic 1</b><br>Words: luck, plan, baba, guidanc, nflx",
          "<b>Topic 1</b><br>Words: bobo, omfg, lam, djia, hell",
          "<b>Topic 1</b><br>Words: najarian, thrill, fri, oi, truli",
          "<b>Topic 1</b><br>Words: grub, wb, wmt, qcom, mani",
          "<b>Topic 1</b><br>Words: wast, swk, recess, lrcx, question",
          "<b>Topic 1</b><br>Words: yasir, quotsemi, ohh, tradealik, deal",
          "<b>Topic 1</b><br>Words: chine, ibb, flexibl, deadlin, bloomberg",
          "<b>Topic 1</b><br>Words: growth, quotflat, michaelsantoli, flatdown, stori",
          "<b>Topic 1</b><br>Words: bow, sync, cf, finger, anet",
          "<b>Topic 1</b><br>Words: vwap, togeth, trade, higher, aapl",
          "<b>Topic 1</b><br>Words: jnug, territori, tlri, djia, hear",
          "<b>Topic 1</b><br>Words: ink, deadlin, process, extend, flat",
          "<b>Topic 1</b><br>Words: pmi, china, sensit, cat, tonight",
          "<b>Topic 1</b><br>Words: bother, eoy, crm, trade, nvda",
          "<b>Topic 1</b><br>Words: nvcr, anf, skill, chat, join",
          "<b>Topic 1</b><br>Words: traderequ, ohrp, gtxi, stockstow, propfirm",
          "<b>Topic 1</b><br>Words: quotexpect, dana, blankenhorn, journalist, bed",
          "<b>Topic 1</b><br>Words: accus, china, huawei, mellanox, war",
          "<b>Topic 1</b><br>Words: privat, expand, four, percent, year",
          "<b>Topic 1</b><br>Words: gbtc, edit, mainli, dia, atvi",
          "<b>Topic 1</b><br>Words: specif, anybodi, individu, exactli, maker",
          "<b>Topic 1</b><br>Words: aldx, ato, cron, srne, iq",
          "<b>Topic 1</b><br>Words: quotrug, pullquot, clarifi, sharpli, interpret",
          "<b>Topic 1</b><br>Words: meet, trump, within, dump, china",
          "<b>Topic 1</b><br>Words: establish, rang, new, trade, nvda",
          "<b>Topic 1</b><br>Words: concret, drain, eu, airlin, tariff",
          "<b>Topic 1</b><br>Words: denial, bullsey, sever, bad, trend",
          "<b>Topic 1</b><br>Words: qcom, sold, yesterday, buy, got",
          "<b>Topic 1</b><br>Words: pool, taken, accumul, crash, qcom",
          "<b>Topic 1</b><br>Words: easter, pg, older, fb, main",
          "<b>Topic 1</b><br>Words: fib, line, daili, current, trade",
          "<b>Topic 1</b><br>Words: fu, sympathi, po, compar, total",
          "<b>Topic 1</b><br>Words: perfectli, fib, pullback, level, think",
          "<b>Topic 1</b><br>Words: narrow, shortli, smh, rang, daili",
          "<b>Topic 1</b><br>Words: deadlin, toward, head, trade, nvda",
          "<b>Topic 1</b><br>Words: shin, shadow, cy, nxpi, nobodi",
          "<b>Topic 1</b><br>Words: keeper, impos, powder, dri, tariff",
          "<b>Topic 1</b><br>Words: chines, tariff, countri, us, goodsquot",
          "<b>Topic 1</b><br>Words: ecommerc, comparison, quotcyclicalquot, wkalunji, quotsecularquot",
          "<b>Topic 1</b><br>Words: myl, oxi, underli, crm, qcom",
          "<b>Topic 1</b><br>Words: opposit, tell, peopl, short, buy",
          "<b>Topic 1</b><br>Words: sector, nvda, china, outlook, selloff",
          "<b>Topic 1</b><br>Words: alway, javer, eskew, eamon, rashk",
          "<b>Topic 1</b><br>Words: tradewar, uptick, qrvo, percentag, avgo",
          "<b>Topic 1</b><br>Words: cult, realiti, wow, hard, cant",
          "<b>Topic 1</b><br>Words: hope, serious, cross, today, trade",
          "<b>Topic 1</b><br>Words: china, tank, slowdown, exposur, twlo",
          "<b>Topic 1</b><br>Words: farahtrad, micron, valuabl, go, deserv",
          "<b>Topic 1</b><br>Words: actiasluna, payoff, chest, diversif, giant",
          "<b>Topic 1</b><br>Words: zedfryd, quotstay, react, tweet, write",
          "<b>Topic 1</b><br>Words: micron, attract, declin, trap, sever",
          "<b>Topic 1</b><br>Words: trump, crawl, obama, china, knee",
          "<b>Topic 1</b><br>Words: talk, beat, hype, ran, ipo",
          "<b>Topic 1</b><br>Words: socialist, implement, dem, agenda, relief",
          "<b>Topic 1</b><br>Words: group, possibl, week, see, day",
          "<b>Topic 1</b><br>Words: xi, summit, end, djia, meet",
          "<b>Topic 1</b><br>Words: profit, architectur, amd, togeth, rate",
          "<b>Topic 1</b><br>Words: idek, bigstockmoney, commit, proven, bought",
          "<b>Topic 1</b><br>Words: expir, call, vertic, upon, worthless",
          "<b>Topic 1</b><br>Words: tariff, gentleman, certainti, mexico, ladi",
          "<b>Topic 1</b><br>Words: lunch, dinner, eat, improv, basic",
          "<b>Topic 1</b><br>Words: micron, mu, trail, pe, conceiv",
          "<b>Topic 1</b><br>Words: nvcr, grave, sq, savag, burst",
          "<b>Topic 1</b><br>Words: mfg, slack, china, dumbest, theyll",
          "<b>Topic 1</b><br>Words: compani, pl, bad, alway, awesom",
          "<b>Topic 1</b><br>Words: less, burger, dispos, wrap, slash",
          "<b>Topic 1</b><br>Words: bynd, scalp, theoret, trade, rest",
          "<b>Topic 1</b><br>Words: reelect, promis, dow, trump, cut",
          "<b>Topic 1</b><br>Words: semi, ath, china, overal, index",
          "<b>Topic 1</b><br>Words: justrad, youtub, mid, inform, video",
          "<b>Topic 1</b><br>Words: corrupt, practic, intc, court, investig",
          "<b>Topic 1</b><br>Words: tangopango, mrdtrade, mu, com, dot",
          "<b>Topic 1</b><br>Words: rosi, xi, timelin, everybodi, overbought",
          "<b>Topic 1</b><br>Words: collis, tariff, cut, bubbl, avgo",
          "<b>Topic 1</b><br>Words: bb, teen, get, someway, secursmart",
          "<b>Topic 1</b><br>Words: tariff, chinaquot, instabl, suggest, alli",
          "<b>Topic 1</b><br>Words: sketch, etch, draw, ceil, style",
          "<b>Topic 1</b><br>Words: stocksformoney, sacrif, kpti, followup, doodl",
          "<b>Topic 1</b><br>Words: morn, bynd, glta, wonder, roku",
          "<b>Topic 1</b><br>Words: suggest, opportun, bell, supercomput, amd",
          "<b>Topic 1</b><br>Words: gpu, cpu, apu, fabric, intc",
          "<b>Topic 1</b><br>Words: wild, direct, surfer, cowboy, uncontrol",
          "<b>Topic 1</b><br>Words: larrabe, intc, project, fake, quieyli",
          "<b>Topic 1</b><br>Words: educ, vein, remzero, mob, denismiamib",
          "<b>Topic 1</b><br>Words: hpc, demand, asml, strong, notabl",
          "<b>Topic 1</b><br>Words: stomach, day, stockindex, magicallydelici, bearchart",
          "<b>Topic 1</b><br>Words: soon, trade, nvda, stock, share",
          "<b>Topic 1</b><br>Words: midaugust, kn, reliabl, accordingli, cent",
          "<b>Topic 1</b><br>Words: guy, nice, trade, nvda, stock",
          "<b>Topic 1</b><br>Words: apart, ugli, tariff, occur, septemb",
          "<b>Topic 1</b><br>Words: suggest, sell, bell, justrad, click",
          "<b>Topic 1</b><br>Words: midday, rippl, suggest, nke, exposur",
          "<b>Topic 1</b><br>Words: bomb, yuan, megaphon, repric, treasuri",
          "<b>Topic 1</b><br>Words: frost, de, flake, qqq, spi",
          "<b>Topic 1</b><br>Words: intens, point, round, djia, use",
          "<b>Topic 1</b><br>Words: friendli, educ, highli, profil, chat",
          "<b>Topic 1</b><br>Words: cross, turn, ago, soon, also",
          "<b>Topic 1</b><br>Words: recess, due, invert, variabl, primari",
          "<b>Topic 1</b><br>Words: nvda, er, trade, stock, bad",
          "<b>Topic 1</b><br>Words: upgradesr, fundi, midday, meager, suggest",
          "<b>Topic 1</b><br>Words: rkda, midday, wm, suggest, jump",
          "<b>Topic 1</b><br>Words: cardson, xlf, spi, chop, select",
          "<b>Topic 1</b><br>Words: econom, duk, bell, sell, suggest",
          "<b>Topic 1</b><br>Words: algorithm, nfg, algotrad, instruct, frequenc",
          "<b>Topic 1</b><br>Words: china, tariff, us, nonev, fb",
          "<b>Topic 1</b><br>Words: gtgtgt, avoid, cramer, nuff, sfix",
          "<b>Topic 1</b><br>Words: bout, jan, contract, put, think",
          "<b>Topic 1</b><br>Words: ryan, shop, fraud, attack, kept",
          "<b>Topic 1</b><br>Words: dma, lb, fyi, fang, lower",
          "<b>Topic 1</b><br>Words: plz, bell, uschina, suggest, world",
          "<b>Topic 1</b><br>Words: bell, suggest, nee, cmcsa, top",
          "<b>Topic 1</b><br>Words: holiday, gambl, seriou, habitu, say",
          "<b>Topic 1</b><br>Words: chatroom, profession, limit, your, join",
          "<b>Topic 1</b><br>Words: reactionari, emot, preced, wynn, propel",
          "<b>Topic 1</b><br>Words: one, prevest, innat, oddli, testament",
          "<b>Topic 1</b><br>Words: chatroom, mdlz, bell, join, suggest",
          "<b>Topic 1</b><br>Words: sellllllllllllllllll, idra, noendresult, pstv, microcap",
          "<b>Topic 1</b><br>Words: cheeto, el, bar, much, stronger",
          "<b>Topic 1</b><br>Words: spi, melt, resist, risk, qqq",
          "<b>Topic 1</b><br>Words: hiccup, il, taco, burrito, food",
          "<b>Topic 1</b><br>Words: bb, groupi, blowback, resurrect, mimic",
          "<b>Topic 1</b><br>Words: korean, string, art, agenda, temporari",
          "<b>Topic 1</b><br>Words: give, analyz, report, custom, reward",
          "<b>Topic 1</b><br>Words: softwar, fuck, daytradi, payback, someon",
          "<b>Topic 1</b><br>Words: bell, suggest, khc, vz, justrad",
          "<b>Topic 1</b><br>Words: per, micron, imag, billion, technolog",
          "<b>Topic 1</b><br>Words: china, delist, bot, media, sizzler",
          "<b>Topic 1</b><br>Words: insid, today, day, trade, nvda",
          "<b>Topic 1</b><br>Words: geeeeez, midday, suggest, el, nee",
          "<b>Topic 1</b><br>Words: sensit, bidu, war, baba, talk",
          "<b>Topic 1</b><br>Words: rsone, deeb, xdeeb, rn, even",
          "<b>Topic 1</b><br>Words: stand, wan, intraday, fun, power",
          "<b>Topic 1</b><br>Words: skill, profession, chat, improv, your",
          "<b>Topic 1</b><br>Words: wwr, skill, profession, chat, improv",
          "<b>Topic 1</b><br>Words: tndm, media, listen, anyth, tell",
          "<b>Topic 1</b><br>Words: buff, meati, whey, protein, ryzen",
          "<b>Topic 1</b><br>Words: watch, catalyst, put, overnight, settl",
          "<b>Topic 1</b><br>Words: almost, regain, around, stabil, ground",
          "<b>Topic 1</b><br>Words: sloppi, roku, call, day, trade",
          "<b>Topic 1</b><br>Words: chart, denial, semi, ultim, surpass",
          "<b>Topic 1</b><br>Words: toler, ozon, quit, opinion, comment",
          "<b>Topic 1</b><br>Words: temporari, news, depend, spi, angel",
          "<b>Topic 1</b><br>Words: coverdel, marketsasian, movement, seng, botz",
          "<b>Topic 1</b><br>Words: lost, japan, yr, didnt, googl",
          "<b>Topic 1</b><br>Words: ah, semi, lite, race, trade",
          "<b>Topic 1</b><br>Words: angl, fibonacci, csco, fib, retrac",
          "<b>Topic 1</b><br>Words: anshmania, dout, perma, circl, gild",
          "<b>Topic 1</b><br>Words: equiti, tmm, inher, pharma, amrn",
          "<b>Topic 1</b><br>Words: quottankingquot, cult, got, couldnt, laugh",
          "<b>Topic 1</b><br>Words: im, exercis, say, strait, clubm",
          "<b>Topic 1</b><br>Words: dive, teeter, parabola, piggi, rat",
          "<b>Topic 1</b><br>Words: bb, phone, android, launch, app",
          "<b>Topic 1</b><br>Words: wknd, mood, lk, nyorka, optionen",
          "<b>Topic 1</b><br>Words: violent, red, banker, wouldv, piec",
          "<b>Topic 1</b><br>Words: constitu, particip, slightli, high, flat",
          "<b>Topic 1</b><br>Words: overbought, ism, spi, melt, sharp",
          "<b>Topic 1</b><br>Words: aig, bell, apd, suggest, orang",
          "<b>Topic 1</b><br>Words: psx, suggest, gd, bell, justrad",
          "<b>Topic 1</b><br>Words: gtgtgt, suggest, bell, tmu, justrad",
          "<b>Topic 1</b><br>Words: gtgtgt, shhaider, convey, downplay, forward",
          "<b>Topic 1</b><br>Words: suggest, bell, tmu, justrad, click",
          "<b>Topic 1</b><br>Words: suggest, shw, thank, bell, justrad",
          "<b>Topic 1</b><br>Words: suggest, bell, justrad, click, youtub",
          "<b>Topic 1</b><br>Words: suggest, bell, tmu, justrad, click",
          "<b>Topic 1</b><br>Words: dose, fresh, perhap, gs, trigger",
          "<b>Topic 1</b><br>Words: processor, zen, channel, hedt, munemak",
          "<b>Topic 1</b><br>Words: room, amp, live, mentor, realtim",
          "<b>Topic 1</b><br>Words: op, stack, trial, messag, job",
          "<b>Topic 1</b><br>Words: join, room, amp, live, mentor",
          "<b>Topic 1</b><br>Words: alibaba, tie, bitch, fairli, ps",
          "<b>Topic 1</b><br>Words: jd, holiday, full, day, today",
          "<b>Topic 1</b><br>Words: fret, notch, overextend, asid, bargain",
          "<b>Topic 1</b><br>Words: one, bell, weeklymonthli, snapdragon, suggest",
          "<b>Topic 1</b><br>Words: cont, bell, amat, suggest, check",
          "<b>Topic 1</b><br>Words: suggest, bell, gm, justrad, click",
          "<b>Topic 1</b><br>Words: suggest, bell, gm, justrad, click",
          "<b>Topic 1</b><br>Words: tradingn, bell, suggest, mrk, abbv",
          "<b>Topic 1</b><br>Words: im, right, wtf, listen, tell",
          "<b>Topic 1</b><br>Words: zero, fowlstea, easili, helm, ep",
          "<b>Topic 1</b><br>Words: legit, chat, activ, join, includ",
          "<b>Topic 1</b><br>Words: rn, trust, caus, today, that",
          "<b>Topic 1</b><br>Words: cgc, doubl, portfolio, aapl, today",
          "<b>Topic 1</b><br>Words: midday, suggest, eog, justrad, bac",
          "<b>Topic 1</b><br>Words: sell, suggest, usb, bell, biib",
          "<b>Topic 1</b><br>Words: quotinvestmentquot, machinegun, cfc, utl, scratch",
          "<b>Topic 1</b><br>Words: coronaviru, msm, learn, enough, proport",
          "<b>Topic 1</b><br>Words: tsm, underestim, ta, qcom, never",
          "<b>Topic 1</b><br>Words: univers, sbux, ytd, perform, qcom",
          "<b>Topic 1</b><br>Words: visit, bajeesu, viru, trump, ohhhh",
          "<b>Topic 1</b><br>Words: spce, dillard, prof, tjx, meat",
          "<b>Topic 1</b><br>Words: either, er, right, buybuild, pokemontrad",
          "<b>Topic 1</b><br>Words: nvda, stock, sequenti, year, er",
          "<b>Topic 1</b><br>Words: barri, diller, exp, nvda, stock",
          "<b>Topic 1</b><br>Words: resulti, momentum, beat, made, follow",
          "<b>Topic 1</b><br>Words: fcking, china, depend, disclos, store",
          "<b>Topic 1</b><br>Words: rig, amd, cuz, steam, nvda",
          "<b>Topic 1</b><br>Words: etc, money, myov, financerock, compx",
          "<b>Topic 1</b><br>Words: vg, could, month, outlook, confid",
          "<b>Topic 1</b><br>Words: condit, simpl, qqq, sizabl, breadth",
          "<b>Topic 1</b><br>Words: midday, man, pessim, suggest, check",
          "<b>Topic 1</b><br>Words: bell, emr, suggest, bmi, justrad",
          "<b>Topic 1</b><br>Words: nevermind, creation, muscl, event, factori",
          "<b>Topic 1</b><br>Words: vxrt, site, spce, what, insan",
          "<b>Topic 1</b><br>Words: pattern, distanc, spit, mu, low",
          "<b>Topic 1</b><br>Words: death, intraday, sd, ash, day",
          "<b>Topic 1</b><br>Words: quotbulk, bac, morn, bs, pecansquot",
          "<b>Topic 1</b><br>Words: scalp, contract, nvda, stock, share",
          "<b>Topic 1</b><br>Words: human, bot, support, huge, break",
          "<b>Topic 1</b><br>Words: span, fear, proactiv, tum, look",
          "<b>Topic 1</b><br>Words: media, sensation, nevertheless, hysteria, exagger",
          "<b>Topic 1</b><br>Words: bat, perma, us, tell, spi",
          "<b>Topic 1</b><br>Words: avoid, crash, mgr, spring, got",
          "<b>Topic 1</b><br>Words: intrigu, baba, announc, billion, may",
          "<b>Topic 1</b><br>Words: forev, spi, shortcov, aapl, taught",
          "<b>Topic 1</b><br>Words: ta, love, got, day, trade",
          "<b>Topic 1</b><br>Words: becuz, quotbtfdquot, nvda, price, quot",
          "<b>Topic 1</b><br>Words: spend, reduc, stimulu, overal, crisi",
          "<b>Topic 1</b><br>Words: global, gdp, onprem, spanish, flu",
          "<b>Topic 1</b><br>Words: bloat, instantli, slaughter, pig, report",
          "<b>Topic 1</b><br>Words: prefect, bottom, make, dalio, say",
          "<b>Topic 1</b><br>Words: dotcom, recoveri, valuat, chines, absolut",
          "<b>Topic 1</b><br>Words: cs, oi, april, vs, doesnt",
          "<b>Topic 1</b><br>Words: impli, vol, int, prev, april",
          "<b>Topic 1</b><br>Words: declin, capsiz, tact, economist, impos",
          "<b>Topic 1</b><br>Words: state, gapper, shutdown, bear, punish",
          "<b>Topic 1</b><br>Words: trader, influenc, permarket, un, day",
          "<b>Topic 1</b><br>Words: choppi, machin, trade, nvda, stock",
          "<b>Topic 1</b><br>Words: permabul, pandem, spoilt, quotmoney, brrrrrrrrrrrrrrquot",
          "<b>Topic 1</b><br>Words: basket, situat, lilcapman, bell, suggest",
          "<b>Topic 1</b><br>Words: sick, million, senat, close, januari",
          "<b>Topic 1</b><br>Words: mu, chip, keep, spi, short",
          "<b>Topic 1</b><br>Words: retouch, chanc, low, think, week",
          "<b>Topic 1</b><br>Words: paralyz, unjustifi, disconnect, accordingli, aal",
          "<b>Topic 1</b><br>Words: ihav, icucweallcbd, control, wich, solvenc",
          "<b>Topic 1</b><br>Words: lose, fulli, giant, ya, spce",
          "<b>Topic 1</b><br>Words: etc, suppli, part, auction, demand",
          "<b>Topic 1</b><br>Words: snapchat, tomorrow, phone, environ, stock",
          "<b>Topic 1</b><br>Words: intel, heaven, optimist, trendlin, stabl",
          "<b>Topic 1</b><br>Words: store, last, debt, anoth, pantri",
          "<b>Topic 1</b><br>Words: pretend, punish, desper, typic, messag",
          "<b>Topic 1</b><br>Words: yeeeeaassss, trade, nvda, stock, share",
          "<b>Topic 1</b><br>Words: dram, juggernaut, commod, access, trendfollow",
          "<b>Topic 1</b><br>Words: monkeyi, reviv, revert, china, nope",
          "<b>Topic 1</b><br>Words: selfish, tone, impos, corner, blame",
          "<b>Topic 1</b><br>Words: suggest, eog, mmm, gd, patreon",
          "<b>Topic 1</b><br>Words: sector, inform, health, technolog, outdistanc",
          "<b>Topic 1</b><br>Words: detach, outlandish, stagnant, billion, revenu",
          "<b>Topic 1</b><br>Words: spent, sittingquot, dimwit, pokemon, moreorless",
          "<b>Topic 1</b><br>Words: samsung, suppli, tsm, china, quotgo",
          "<b>Topic 1</b><br>Words: tdv, aristocrat, julysept, ttm, lyft",
          "<b>Topic 1</b><br>Words: cashflow, amd, comparison, woudl, proc",
          "<b>Topic 1</b><br>Words: crazi, xbi, deploy, uvxi, hedg",
          "<b>Topic 1</b><br>Words: amat, mdb, coup, desktop, instant",
          "<b>Topic 1</b><br>Words: qqq, tech, spi, next, sell",
          "<b>Topic 1</b><br>Words: srne, quotth, chat, equiti, strategi",
          "<b>Topic 1</b><br>Words: bell, er, friday, book, epsrevenu",
          "<b>Topic 1</b><br>Words: srne, acb, quotth, chat, equiti",
          "<b>Topic 1</b><br>Words: tom, star, easi, er, high",
          "<b>Topic 1</b><br>Words: chines, stain, franctic, rocket, delist",
          "<b>Topic 1</b><br>Words: nvda, growth, stock, callsel, cray",
          "<b>Topic 1</b><br>Words: diversif, famous, nvda, deepen, streethigh",
          "<b>Topic 1</b><br>Words: cmg, dxcm, spx, true, macroeconom",
          "<b>Topic 1</b><br>Words: marketpriv, govern, problem, true, creat",
          "<b>Topic 1</b><br>Words: virgin, galact, week, space, astronaut",
          "<b>Topic 1</b><br>Words: hardli, prospect, fresh, fairli, mobil",
          "<b>Topic 1</b><br>Words: dozen, dkng, toolbox, biotechi, mgmtcapitalb",
          "<b>Topic 1</b><br>Words: tariff, flir, rnwk, china, tension",
          "<b>Topic 1</b><br>Words: blindli, isrg, tension, taiwan, invest",
          "<b>Topic 1</b><br>Words: shutdownquot, citi, destroy, economi, bring",
          "<b>Topic 1</b><br>Words: plnt, callsput, overreact, strongli, stack",
          "<b>Topic 1</b><br>Words: imux, star, add, sdc, magnet",
          "<b>Topic 1</b><br>Words: fcking, soccer, teacher, crimin, wors",
          "<b>Topic 1</b><br>Words: wfc, mo, materi, youll, want",
          "<b>Topic 1</b><br>Words: rebound, influenc, lulu, leverag, play",
          "<b>Topic 1</b><br>Words: curiou, trade, nvda, stock, share",
          "<b>Topic 1</b><br>Words: evrev, intel, steadyst, twigg, growthdividend",
          "<b>Topic 1</b><br>Words: buyout, resist, good, weakhand, week",
          "<b>Topic 1</b><br>Words: buyerd, investmentbuzz, acquisit, lesser, sale",
          "<b>Topic 1</b><br>Words: gt, star, insg, candid, dip",
          "<b>Topic 1</b><br>Words: countri, war, prompt, china, powerhous",
          "<b>Topic 1</b><br>Words: hightech, appl, sold, bought, biotech",
          "<b>Topic 1</b><br>Words: vision, respons, invest, dip, nvda",
          "<b>Topic 1</b><br>Words: job, think, busi, peopl, consum",
          "<b>Topic 1</b><br>Words: chatroom, excel, learn, swing, us",
          "<b>Topic 1</b><br>Words: bell, suggest, patreon, ko, collabor",
          "<b>Topic 1</b><br>Words: ck, clusterf, ginorm, hardest, intern",
          "<b>Topic 1</b><br>Words: ero, bell, break, apd, gt",
          "<b>Topic 1</b><br>Words: he, winningorlearn, fuckload, sicken, scrap",
          "<b>Topic 1</b><br>Words: custom, prism, uk, artifici, intellig",
          "<b>Topic 1</b><br>Words: tom, test, eow, peopleth, absolut",
          "<b>Topic 1</b><br>Words: diy, stock, display, three, lead",
          "<b>Topic 1</b><br>Words: tom, watch, juli, room, star",
          "<b>Topic 1</b><br>Words: iwc, three, twilio, microcap, russel",
          "<b>Topic 1</b><br>Words: comp, level, imo, wave, drown",
          "<b>Topic 1</b><br>Words: comp, commun, trendytrendi, uptrend, adamalpha",
          "<b>Topic 1</b><br>Words: trophi, reshort, rainbow, nq, qqq",
          "<b>Topic 1</b><br>Words: loser, httrader, rotat, an, conspiraci",
          "<b>Topic 1</b><br>Words: mrbossftw, breadth, woman, name, immun",
          "<b>Topic 1</b><br>Words: aagavhgmahk, lca, check, twit, twtr",
          "<b>Topic 1</b><br>Words: overrun, run, sale, retract, eoy",
          "<b>Topic 1</b><br>Words: quotsellquot, put, price, reenter, msft",
          "<b>Topic 1</b><br>Words: softbank, billion, arm, forecast, index",
          "<b>Topic 1</b><br>Words: intel, fred, meter, amd, center",
          "<b>Topic 1</b><br>Words: quotsoldquot, love, ta, aug, contract",
          "<b>Topic 1</b><br>Words: hang, full, quotsellingquot, held, fledg",
          "<b>Topic 1</b><br>Words: amd, stockhold, intel, cpu, deep",
          "<b>Topic 1</b><br>Words: sexiest, quothunchesquot, dreami, number, appl",
          "<b>Topic 1</b><br>Words: playbook, report, softbank, public, account",
          "<b>Topic 1</b><br>Words: forecast, discern, tshirt, incept, accuraci",
          "<b>Topic 1</b><br>Words: forecast, accuraci, playbook, tshirt, incept",
          "<b>Topic 1</b><br>Words: prosper, other, certain, commun, regardless",
          "<b>Topic 1</b><br>Words: onlin, month, home, onlineretail, esti",
          "<b>Topic 1</b><br>Words: even, cpu, invari, bell, bubbl",
          "<b>Topic 1</b><br>Words: microdisplay, softbank, ole, arm, stori",
          "<b>Topic 1</b><br>Words: eman, num, net, intc, amd",
          "<b>Topic 1</b><br>Words: everyday, reason, boa, soon, exercis",
          "<b>Topic 1</b><br>Words: bell, pld, wow, suggest, unfair",
          "<b>Topic 1</b><br>Words: tom, revers, star, nice, ddog",
          "<b>Topic 1</b><br>Words: week, itquot, haol, effortcapit, nausea",
          "<b>Topic 1</b><br>Words: er, rusk, bell, usual, star",
          "<b>Topic 1</b><br>Words: abl, taht, downn, account, lvgo",
          "<b>Topic 1</b><br>Words: stock, nvda, split, share, get",
          "<b>Topic 1</b><br>Words: newparttim, etb, datacenterfast, companiesatleast, blocksquot",
          "<b>Topic 1</b><br>Words: intel, ecosystem, nvda, workload, ahem",
          "<b>Topic 1</b><br>Words: scare, work, tactic, pdd, crappi",
          "<b>Topic 1</b><br>Words: scammer, trainer, knee, instant, practic",
          "<b>Topic 1</b><br>Words: eow, cashapp, bankinginvest, star, eom",
          "<b>Topic 1</b><br>Words: alert, josh, interest, dbag, follow",
          "<b>Topic 1</b><br>Words: pow, keep, uninterrupt, nobrain, interest",
          "<b>Topic 1</b><br>Words: consol, gamer, daygreat, dilllzz, alien",
          "<b>Topic 1</b><br>Words: contract, premium, ad, excel, certainli",
          "<b>Topic 1</b><br>Words: atl, xlk, liquid, plu, ath",
          "<b>Topic 1</b><br>Words: spare, web, page, tom, significantli",
          "<b>Topic 1</b><br>Words: lci, room, ah, nvda, tom",
          "<b>Topic 1</b><br>Words: appl, quothealthiestquot, chuckl, davi, investor",
          "<b>Topic 1</b><br>Words: tom, close, eow, monster, comapr",
          "<b>Topic 1</b><br>Words: nvda, stock, share, buy, sell",
          "<b>Topic 1</b><br>Words: surreal, bubbl, croook, looooong, ipoc",
          "<b>Topic 1</b><br>Words: spice, doin, unclear, junior, dig",
          "<b>Topic 1</b><br>Words: daili, page, chart, sub, youtub",
          "<b>Topic 1</b><br>Words: revers, uptrend, crowd, cash, appl",
          "<b>Topic 1</b><br>Words: centuri, watch, nvda, stock, justrad",
          "<b>Topic 1</b><br>Words: appl, youtub, unapp, nasdq, video",
          "<b>Topic 1</b><br>Words: xebec, greenlan, growth, stock, two",
          "<b>Topic 1</b><br>Words: arm, architect, pay, money, star",
          "<b>Topic 1</b><br>Words: ibio, nvda, cash, compani, softbank",
          "<b>Topic 1</b><br>Words: appl, orcl, countri, conduct, pleas",
          "<b>Topic 1</b><br>Words: descend, deal, triangl, orcl, involv",
          "<b>Topic 1</b><br>Words: bestbuy, fe, hail, mari, quotsellquot",
          "<b>Topic 1</b><br>Words: arm, xl, stock, nvda, share",
          "<b>Topic 1</b><br>Words: rule, quick, cut, loss, first",
          "<b>Topic 1</b><br>Words: premium, receiv, duo, especi, rest",
          "<b>Topic 1</b><br>Words: hesh, eow, nvda, friend, stock",
          "<b>Topic 1</b><br>Words: newbi, invest, certainli, word, whobodi",
          "<b>Topic 1</b><br>Words: mvi, attempt, april, current, antibacteri",
          "<b>Topic 1</b><br>Words: iwm, swirl, aapl, unfil, oblig",
          "<b>Topic 1</b><br>Words: monster, eow, approv, star, high",
          "<b>Topic 1</b><br>Words: notrandymarsh, research, jblu, wh, admin",
          "<b>Topic 1</b><br>Words: approv, husa, geometr, apm, msimm",
          "<b>Topic 1</b><br>Words: micron, mu, next, eow, stronggg",
          "<b>Topic 1</b><br>Words: pep, watch, sbux, gap, pin",
          "<b>Topic 1</b><br>Words: tom, room, star, con, nice",
          "<b>Topic 1</b><br>Words: lithium, eow, vaccin, nvda, xtnt",
          "<b>Topic 1</b><br>Words: nasa, im, jwn, star, shi",
          "<b>Topic 1</b><br>Words: mu, micron, nvda, downgrad, star",
          "<b>Topic 1</b><br>Words: announc, affect, angrytwitt, close, downgrad",
          "<b>Topic 1</b><br>Words: star, textbook, friday, chwi, await",
          "<b>Topic 1</b><br>Words: call, fairli, til, wrote, bill",
          "<b>Topic 1</b><br>Words: sidelin, money, eow, oleeddi, star",
          "<b>Topic 1</b><br>Words: mu, star, fvrr, chwi, jd",
          "<b>Topic 1</b><br>Words: palmer, luckey, anduril, fb, tom",
          "<b>Topic 1</b><br>Words: well, star, chwi, await, continu",
          "<b>Topic 1</b><br>Words: xom, multi, runner, regulatori, jd",
          "<b>Topic 1</b><br>Words: test, room, today, weak, star",
          "<b>Topic 1</b><br>Words: luair, produc, nut, slightli, hurt",
          "<b>Topic 1</b><br>Words: spent, quottrophiesquot, quotshould, michaelluh, havequot",
          "<b>Topic 1</b><br>Words: leather, jacket, theyr, hot, someon",
          "<b>Topic 1</b><br>Words: exorft, watch, week, amzn, star",
          "<b>Topic 1</b><br>Words: eow, thur, xilinx, quarter, shintel",
          "<b>Topic 1</b><br>Words: tsm, intel, chines, fadin, old",
          "<b>Topic 1</b><br>Words: strong, star, fyi, ostk, watch",
          "<b>Topic 1</b><br>Words: downdraft, presidenti, friday, mcd, us",
          "<b>Topic 1</b><br>Words: pitfal, etsi, outlook, upsid, amp",
          "<b>Topic 1</b><br>Words: wu, mr, arm, control, china",
          "<b>Topic 1</b><br>Words: bind, extrem, promin, breakup, fraud",
          "<b>Topic 1</b><br>Words: watch, star, iphi, move, ostk",
          "<b>Topic 1</b><br>Words: watch, test, ath, star, close",
          "<b>Topic 1</b><br>Words: onlin, lockdown, crsr, biden, massiv",
          "<b>Topic 1</b><br>Words: slingshot, slam, retrac, pypl, definit",
          "<b>Topic 1</b><br>Words: qcom, lifelin, growth, move, money",
          "<b>Topic 1</b><br>Words: eow, nich, superior, appl, close",
          "<b>Topic 1</b><br>Words: strong, reveenu, misvalu, week, tpx",
          "<b>Topic 1</b><br>Words: eventu, breakout, qcom, mayb, tsm",
          "<b>Topic 1</b><br>Words: eow, close, watch, er, wed",
          "<b>Topic 1</b><br>Words: watch, wed, eow, bell, er",
          "<b>Topic 1</b><br>Words: insid, trade, rth, call, ah",
          "<b>Topic 1</b><br>Words: peopl, cri, moron, act, dd",
          "<b>Topic 1</b><br>Words: solo, nakd, trial, outstand, great",
          "<b>Topic 1</b><br>Words: dumb, quotupgradesquot, teh, hurdl, china",
          "<b>Topic 1</b><br>Words: destini, stalk, latino, fuckeri, ceas",
          "<b>Topic 1</b><br>Words: forev, bag, holder, idiot, cant",
          "<b>Topic 1</b><br>Words: rotat, sep, underway, rapid, near",
          "<b>Topic 1</b><br>Words: friday, dreami, vti, voo, thanksgiv",
          "<b>Topic 1</b><br>Words: lolz, collaps, tsla, csco, nvda",
          "<b>Topic 1</b><br>Words: cabinet, ftek, cell, sold, learningfast",
          "<b>Topic 1</b><br>Words: collis, instead, cbat, idea, scroll",
          "<b>Topic 1</b><br>Words: tha, alittl, til, christma, panic",
          "<b>Topic 1</b><br>Words: pe, qcom, patent, btw, clearli",
          "<b>Topic 1</b><br>Words: undiscov, brq, micro, partnership, industri",
          "<b>Topic 1</b><br>Words: product, unannounc, amd, compet, shanewort",
          "<b>Topic 1</b><br>Words: aosl, step, rut, stumbl, watcher",
          "<b>Topic 1</b><br>Words: today, trend, touch, fatmann, broke",
          "<b>Topic 1</b><br>Words: araylak, dud, china, reinvest, baghold",
          "<b>Topic 1</b><br>Words: sake, bore, whatev, gambl, anymor",
          "<b>Topic 1</b><br>Words: backit, emin, invest, id, crm",
          "<b>Topic 1</b><br>Words: watch, eod, eow, star, ipob",
          "<b>Topic 1</b><br>Words: sideway, high, time, trade, nvda",
          "<b>Topic 1</b><br>Words: select, tonight, cramer, avgo, qcom",
          "<b>Topic 1</b><br>Words: dannotech, oxoxo, goatballsog, scienc, realli",
          "<b>Topic 1</b><br>Words: appl, info, christma, stimulu, ev",
          "<b>Topic 1</b><br>Words: ftc, ream, anticompetit, fullblown, document",
          "<b>Topic 1</b><br>Words: backup, defens, overpr, etf, forget",
          "<b>Topic 1</b><br>Words: gorgeou, rvr, command, wack, intel",
          "<b>Topic 1</b><br>Words: recoveri, close, dannnnngggggg, strong, watch",
          "<b>Topic 1</b><br>Words: nio, deliveri, fubo, could, telemedicin",
          "<b>Topic 1</b><br>Words: gop, promot, vs, manag, stock",
          "<b>Topic 1</b><br>Words: longawait, upturn, micron, belief, watch",
          "<b>Topic 1</b><br>Words: fiscal, reffer, procesor, petabytegrad, opencl",
          "<b>Topic 1</b><br>Words: micron, cherri, mu, fiscal, pear",
          "<b>Topic 1</b><br>Words: lb, topperform, somedaytrad, worstperform, yearendreview",
          "<b>Topic 1</b><br>Words: lisa, care, year, retard, ruffl",
          "<b>Topic 1</b><br>Words: nio, discord, meso, belittl, psac",
          "<b>Topic 1</b><br>Words: micron, pm, cherri, boss, bz",
          "<b>Topic 1</b><br>Words: mst, bullshit, satellit, micron, invit",
          "<b>Topic 1</b><br>Words: regist, ultra, surveil, sensor, nyxel",
          "<b>Topic 1</b><br>Words: leagu, achiev, bb, global, workfromhom",
          "<b>Topic 1</b><br>Words: fab, intc, innov, deepvaluetrad, interim",
          "<b>Topic 1</b><br>Words: coupon, app, agre, saw, must",
          "<b>Topic 1</b><br>Words: survey, micron, increas, said, respond",
          "<b>Topic 1</b><br>Words: cs, oi, vs, bought, trade",
          "<b>Topic 1</b><br>Words: intc, er, sec, workabl, thtji",
          "<b>Topic 1</b><br>Words: bz, intel, reel, seagat, smh",
          "<b>Topic 1</b><br>Words: disapprov, unsettl, monkey, shoulder, decis",
          "<b>Topic 1</b><br>Words: lament, tonyav, jess, away, repeatedli",
          "<b>Topic 1</b><br>Words: ampt, ultra, qcom, aapl, bullish",
          "<b>Topic 1</b><br>Words: outstrip, intel, explos, earn, steadi",
          "<b>Topic 1</b><br>Words: stockmarket, ut, check, grate, immens",
          "<b>Topic 1</b><br>Words: ego, ldskyzl, lavishpeach, caus, easi",
          "<b>Topic 1</b><br>Words: feed, corner, tsxcanadian, ripquot, quotreadi",
          "<b>Topic 1</b><br>Words: hcmc, trip, proud, weve, highli",
          "<b>Topic 1</b><br>Words: phase, drug, icu, canada, sub",
          "<b>Topic 1</b><br>Words: ark, run, earn, hardwar, feb",
          "<b>Topic 1</b><br>Words: hiccup, buy, ark, got, cojon",
          "<b>Topic 1</b><br>Words: spill, preach, inject, gloom, everytim",
          "<b>Topic 1</b><br>Words: canada, phase, health, drug, fda",
          "<b>Topic 1</b><br>Words: xilinx, amd, merger, ep, infact",
          "<b>Topic 1</b><br>Words: experi, character, snoopi, shulz, charact",
          "<b>Topic 1</b><br>Words: elit, older, screenshot, scanner, feed",
          "<b>Topic 1</b><br>Words: amat, equip, autopilot, whose, made",
          "<b>Topic 1</b><br>Words: er, run, efe, trait, ad",
          "<b>Topic 1</b><br>Words: group, ive, know, mentor, dilig",
          "<b>Topic 1</b><br>Words: chip, anyway, arm, sell, izettl",
          "<b>Topic 1</b><br>Words: ftc, effort, billion, softbank, merger",
          "<b>Topic 1</b><br>Words: cfd, revers, monopoli, oppos, arm",
          "<b>Topic 1</b><br>Words: johnson, vulner, qcom, appl, seller",
          "<b>Topic 1</b><br>Words: continu, look, heaven, fabric, nice",
          "<b>Topic 1</b><br>Words: wix, turbin, thingquot, earn, mp",
          "<b>Topic 1</b><br>Words: er, bell, ghvi, rmo, watch",
          "<b>Topic 1</b><br>Words: watch, er, hour, feb, ptt",
          "<b>Topic 1</b><br>Words: nvda, station, stock, charg, may",
          "<b>Topic 1</b><br>Words: radar, watch, quotovervaluedquot, ah, eng",
          "<b>Topic 1</b><br>Words: oshkosh, great, nvda, credit, premium",
          "<b>Topic 1</b><br>Words: thought, qcom, mean, intc, buy",
          "<b>Topic 1</b><br>Words: week, last, keep, much, scherfcom",
          "<b>Topic 1</b><br>Words: phlx, brief, wsb, teamwork, factor",
          "<b>Topic 1</b><br>Words: wsb, teamwork, went, notif, screw",
          "<b>Topic 1</b><br>Words: floor, basic, pe, red, continu",
          "<b>Topic 1</b><br>Words: nvda, compani, market, stock, sell",
          "<b>Topic 1</b><br>Words: sidelin, know, gift, year, final",
          "<b>Topic 1</b><br>Words: revisit, wamu, spine, scottybatx, refi",
          "<b>Topic 1</b><br>Words: mover, wsb, enph, teamwork, notabl",
          "<b>Topic 1</b><br>Words: nice, plu, tsnpd, buylowsellston, stimmi",
          "<b>Topic 1</b><br>Words: bb, chen, steal, ass, throat",
          "<b>Topic 1</b><br>Words: stockmarkettrad, chuiwaucr, bullmarket, greenday, bmix",
          "<b>Topic 1</b><br>Words: stockmem, notif, financ, wallstreet, unitedtrad",
          "<b>Topic 1</b><br>Words: idea, notif, unitedtrad, daytrad, gme",
          "<b>Topic 1</b><br>Words: motiv, notif, unitedtrad, glta, stockmarket",
          "<b>Topic 1</b><br>Words: traderecap, pricewar, marijuanamov, howto, gnln",
          "<b>Topic 1</b><br>Words: speedup, cellojo, mqschwanda, chark, perman",
          "<b>Topic 1</b><br>Words: nue, tm, checkout, steel, commod",
          "<b>Topic 1</b><br>Words: hamp, breakdown, ship, soxx, jump",
          "<b>Topic 1</b><br>Words: tech, yield, swath, subway, capit",
          "<b>Topic 1</b><br>Words: contract, quotsellquot, oscil, creep, fibonacci",
          "<b>Topic 1</b><br>Words: qcom, portend, belliger, destruct, increasingli",
          "<b>Topic 1</b><br>Words: held, time, later, day, return",
          "<b>Topic 1</b><br>Words: antimarket, nowaday, polici, usa, snow",
          "<b>Topic 1</b><br>Words: corp, goingdown, glibal, minimum, tax",
          "<b>Topic 1</b><br>Words: maintain, boost, aspl, rate, watch",
          "<b>Topic 1</b><br>Words: sanp, chain, bloch, potentail, il",
          "<b>Topic 1</b><br>Words: ensam, emer, bayri, snack, nah",
          "<b>Topic 1</b><br>Words: activ, loudspeak, sole, seven, so",
          "<b>Topic 1</b><br>Words: igamblestock, bore, ralli, sure, nasdaq",
          "<b>Topic 1</b><br>Words: gt, ath, watchlistsummari, augsep, continu",
          "<b>Topic 1</b><br>Words: watch, nice, nvda, arcadia, stock",
          "<b>Topic 1</b><br>Words: denial, docu, zm, wont, seen",
          "<b>Topic 1</b><br>Words: nvax, manyfold, stradi, look, stock",
          "<b>Topic 1</b><br>Words: nvax, partnership, skillz, look, irtc",
          "<b>Topic 1</b><br>Words: futu, stick, fixx, chose, increment",
          "<b>Topic 1</b><br>Words: strategi, order, grow, posit, work",
          "<b>Topic 1</b><br>Words: alert, one, analyst, follow, gain",
          "<b>Topic 1</b><br>Words: gme, sage, gamestop, contribut, diamond",
          "<b>Topic 1</b><br>Words: break, need, watch, flag, zone",
          "<b>Topic 1</b><br>Words: er, quik, spite, continu, cautiou",
          "<b>Topic 1</b><br>Words: er, lithium, crox, alb, good",
          "<b>Topic 1</b><br>Words: indicesetf, enough, sector, quik, summari",
          "<b>Topic 1</b><br>Words: preciousmet, cp, pip, forex, op",
          "<b>Topic 1</b><br>Words: mjwl, dscr, could, massiv, thr",
          "<b>Topic 1</b><br>Words: shortag, embed, hightech, product, semiconductor",
          "<b>Topic 1</b><br>Words: billion, wallstreet, revenu, let, profit",
          "<b>Topic 1</b><br>Words: gtgtgt, underway, stochast, crossov, tremend",
          "<b>Topic 1</b><br>Words: statement, impact, overreact, busi, adfund",
          "<b>Topic 1</b><br>Words: learn, miss, move, hug, introduct",
          "<b>Topic 1</b><br>Words: alert, ran, analyst, weekli, free",
          "<b>Topic 1</b><br>Words: gtgtgt, tradeway, shortag, ecoethcon, adamalpha",
          "<b>Topic 1</b><br>Words: savagemik, meltup, evshazam, ter, brief",
          "<b>Topic 1</b><br>Words: theme, servic, viddya, basementdwel, quintil",
          "<b>Topic 1</b><br>Words: llit, tend, event, iffi, newegg",
          "<b>Topic 1</b><br>Words: gtgtgt, holdl, dystrophi, duchenn, openlabel",
          "<b>Topic 1</b><br>Words: manufactur, equip, nvda, stock, nand",
          "<b>Topic 1</b><br>Words: strawberri, techniqu, teach, profit, trade",
          "<b>Topic 1</b><br>Words: top, pt, overweight, initi, poshmark",
          "<b>Topic 1</b><br>Words: plu, bounc, resist, bottom, vode",
          "<b>Topic 1</b><br>Words: znga, stock, gtgtgt, nvda, continu",
          "<b>Topic 1</b><br>Words: stock, bounc, nvda, watchlist, close",
          "<b>Topic 1</b><br>Words: yr, stock, zone, nooki, nvda",
          "<b>Topic 1</b><br>Words: alaska, stock, vote, good, watchlist",
          "<b>Topic 1</b><br>Words: appl, spactori, maddogtrad, noninvas, mtor",
          "<b>Topic 1</b><br>Words: case, vtnr, stock, bear, avail",
          "<b>Topic 1</b><br>Words: alert, watchlist, follow, nvda, stock",
          "<b>Topic 1</b><br>Words: vote, watchlist, atom, agreement, compani",
          "<b>Topic 1</b><br>Words: znga, watchlist, stock, senat, nvda",
          "<b>Topic 1</b><br>Words: ive, bct, countri, guy, roll",
          "<b>Topic 1</b><br>Words: researchbas, congrat, alert, follow, stock",
          "<b>Topic 1</b><br>Words: znga, watchlist, stock, notif, abnb",
          "<b>Topic 1</b><br>Words: xyz, assign, collect, listen, stock",
          "<b>Topic 1</b><br>Words: box, year, neolib, mdna, grammymoon",
          "<b>Topic 1</b><br>Words: mine, op, declar, btc, qqq",
          "<b>Topic 1</b><br>Words: fan, thoughnot, acount, ftw, smallest",
          "<b>Topic 1</b><br>Words: alert, analyst, orph, massiv, weekli",
          "<b>Topic 1</b><br>Words: quotpair, quotbargain, ideaquot, eleven, setup",
          "<b>Topic 1</b><br>Words: streetfinanci, veloc, hyperinfl, output, talk",
          "<b>Topic 1</b><br>Words: compq, otli, flirt, caution, coin",
          "<b>Topic 1</b><br>Words: st, innovatinvehav, disrespectedminipul, btch, adamalpha",
          "<b>Topic 1</b><br>Words: amc, clne, candid, nvda, stock",
          "<b>Topic 1</b><br>Words: huddl, polit, bs, issu, without",
          "<b>Topic 1</b><br>Words: highli, enter, roe, technic, flame",
          "<b>Topic 1</b><br>Words: alert, educ, free, mornimg, betray",
          "<b>Topic 1</b><br>Words: rho, burninh, tulip, implod, gamma",
          "<b>Topic 1</b><br>Words: flat, overbought, uptrend, index, comp",
          "<b>Topic 1</b><br>Words: intellia, regeneron, doesnt, claim, share",
          "<b>Topic 1</b><br>Words: xlnx, deal, antitrust, spread, nvda",
          "<b>Topic 1</b><br>Words: undervalu, reemf, lknci, till, amblin",
          "<b>Topic 1</b><br>Words: nvda, stock, vacat, good, share",
          "<b>Topic 1</b><br>Words: big, sell, wulfezumwotan, rotat, panic",
          "<b>Topic 1</b><br>Words: mil, hensoldt, mkt, compon, cap",
          "<b>Topic 1</b><br>Words: tradingthetrendnet, nvda, stock, share, split",
          "<b>Topic 1</b><br>Words: quotgam, weekquot, firm, stock, blog",
          "<b>Topic 1</b><br>Words: nvda, share, stock, look, amd",
          "<b>Topic 1</b><br>Words: level, break, resist, indic, pool",
          "<b>Topic 1</b><br>Words: razer, chines, market, nvda, deflat",
          "<b>Topic 1</b><br>Words: highlight, week, next, support, simufilam",
          "<b>Topic 1</b><br>Words: email, blog, commentari, site, send",
          "<b>Topic 1</b><br>Words: happen, nasdaq, eas, week, damag",
          "<b>Topic 1</b><br>Words: micron, left, posit, regular, split",
          "<b>Topic 1</b><br>Words: left, split, regular, choic, shortag",
          "<b>Topic 1</b><br>Words: nvda, stock, capabl, like, closer",
          "<b>Topic 1</b><br>Words: option, nvda, stock, money, play",
          "<b>Topic 1</b><br>Words: stock, repair, option, could, reason",
          "<b>Topic 1</b><br>Words: subscrib, lovatt, longshort, mkt, gteh",
          "<b>Topic 1</b><br>Words: psfe, mentor, wealthi, bounc, ig",
          "<b>Topic 1</b><br>Words: nvda, million, email, stock, dilut",
          "<b>Topic 1</b><br>Words: nvda, trade, stock, alert, mrna",
          "<b>Topic 1</b><br>Words: trade, look, nvda, rang, trader",
          "<b>Topic 1</b><br>Words: stock, nvda, fish, support, eras",
          "<b>Topic 1</b><br>Words: china, arm, nvda, chines, faith",
          "<b>Topic 1</b><br>Words: weekquot, unchang, look, week, tsla",
          "<b>Topic 1</b><br>Words: yinn, chao, bother, dust, focus",
          "<b>Topic 1</b><br>Words: intc, compet, huge, ssme, ptjasburypark",
          "<b>Topic 1</b><br>Words: iot, bb, tone, asia, secur",
          "<b>Topic 1</b><br>Words: week, split, stocktwitti, baladur, mm",
          "<b>Topic 1</b><br>Words: april, august, xlnk, domowaka, intc",
          "<b>Topic 1</b><br>Words: arm, deal, approv, much, would",
          "<b>Topic 1</b><br>Words: tdd, miti, dumper, ugh, dd",
          "<b>Topic 1</b><br>Words: report, break, nvda, level, cockblock",
          "<b>Topic 1</b><br>Words: scalp, quick, break, contract, instagram",
          "<b>Topic 1</b><br>Words: clf, paybright, impetu, sit, purchas",
          "<b>Topic 1</b><br>Words: xlnx, plan, reaccess, gyoc, charliemar",
          "<b>Topic 1</b><br>Words: teamwork, notif, financ, unitedtrad, aug",
          "<b>Topic 1</b><br>Words: amc, michaelpop, crlbf, boxl, theater",
          "<b>Topic 1</b><br>Words: alert, analyst, per, went, jz",
          "<b>Topic 1</b><br>Words: alert, qualiti, usesnot, saveinvestwealth, goatsif",
          "<b>Topic 1</b><br>Words: teamwork, notif, recap, financ, unitedtrad",
          "<b>Topic 1</b><br>Words: qcom, pick, mu, chip, amd",
          "<b>Topic 1</b><br>Words: option, run, er, hundr, co",
          "<b>Topic 1</b><br>Words: arm, license, regul, acquisit, nvda",
          "<b>Topic 1</b><br>Words: booster, nvda, care, tomorrow, profession",
          "<b>Topic 1</b><br>Words: alert, jz, per, teamwork, follow",
          "<b>Topic 1</b><br>Words: xxii, hmm, insid, work, trade",
          "<b>Topic 1</b><br>Words: wk, basi, august, kazmi, enterexit",
          "<b>Topic 1</b><br>Words: pfe, jz, teamwork, notif, recap",
          "<b>Topic 1</b><br>Words: break, revers, resist, bntx, fda",
          "<b>Topic 1</b><br>Words: afghan, wednesday, refuge, airbnb, chwi",
          "<b>Topic 1</b><br>Words: refus, nvda, got, flag, end",
          "<b>Topic 1</b><br>Words: break, uptrend, astr, channel, bet",
          "<b>Topic 1</b><br>Words: mfh, wk, wrong, terribl, stock",
          "<b>Topic 1</b><br>Words: break, digit, shitton, jaydilk, iterr",
          "<b>Topic 1</b><br>Words: taeu, ultrasound, bitf, ndra, mri",
          "<b>Topic 1</b><br>Words: episod, emot, ridicul, pltr, noth",
          "<b>Topic 1</b><br>Words: tic, quarterback, float, jeffrey, mtrt",
          "<b>Topic 1</b><br>Words: million, compani, mtrt, entiti, one",
          "<b>Topic 1</b><br>Words: win, properli, afraid, loss, manag",
          "<b>Topic 1</b><br>Words: call, fill, submiss, gap, booster",
          "<b>Topic 1</b><br>Words: sql, custom, commiss, rival, european",
          "<b>Topic 1</b><br>Words: remot, quotjust, alert, work, autom",
          "<b>Topic 1</b><br>Words: intel, econom, harrysown, chipshortag, brphf",
          "<b>Topic 1</b><br>Words: alert, analyst, break, watch, mtch",
          "<b>Topic 1</b><br>Words: comp, level, rumor, indic, imo",
          "<b>Topic 1</b><br>Words: broken, ema, mkt, dipsquot, quottransitoryquot",
          "<b>Topic 1</b><br>Words: trend, fairli, imo, valu, short",
          "<b>Topic 1</b><br>Words: hose, ugh, window, season, septemb",
          "<b>Topic 1</b><br>Words: bbig, wilson, spir, nodiscrimin, man",
          "<b>Topic 1</b><br>Words: unitedtrad, stockmarket, research, seagat, stx",
          "<b>Topic 1</b><br>Words: jpm, avg, subdu, amp, lowhi",
          "<b>Topic 1</b><br>Words: align, algn, iv, avg, sparkl",
          "<b>Topic 1</b><br>Words: stock, pull, correct, one, yourselfi",
          "<b>Topic 1</b><br>Words: brief, mover, notabl, unitedtrad, adb",
          "<b>Topic 1</b><br>Words: compani, hardwar, softwar, manuvir, webcast",
          "<b>Topic 1</b><br>Words: effect, blender, bmw, adob, line",
          "<b>Topic 1</b><br>Words: tre, important, downhil, gain, eras",
          "<b>Topic 1</b><br>Words: indic, rang, see, lot, margin",
          "<b>Topic 1</b><br>Words: unattract, prerot, rotat, recov, end",
          "<b>Topic 1</b><br>Words: unfil, correct, gap, goe, us",
          "<b>Topic 1</b><br>Words: bradi, nfl, goe, goat, qqq",
          "<b>Topic 1</b><br>Words: hyre, provok, war, certif, biocloud",
          "<b>Topic 1</b><br>Words: otc, extend, ltd, eu, tsm",
          "<b>Topic 1</b><br>Words: otc, extend, ltd, eu, nvda",
          "<b>Topic 1</b><br>Words: alert, avalanch, analyst, went, brace",
          "<b>Topic 1</b><br>Words: float, set, clear, amp, earn",
          "<b>Topic 1</b><br>Words: tsm, mktstk, chess, outspoken, mkt",
          "<b>Topic 1</b><br>Words: max, pain, compon, indic, tsm",
          "<b>Topic 1</b><br>Words: drug, keytruda, ckpt, sofi, merck",
          "<b>Topic 1</b><br>Words: occasion, pop, find, dd, good",
          "<b>Topic 1</b><br>Words: xlnx, sb, look, tmc, coast",
          "<b>Topic 1</b><br>Words: resist, uberlyft, amp, chart, support",
          "<b>Topic 1</b><br>Words: jpm, target, trend, next, madstrad",
          "<b>Topic 1</b><br>Words: inferior, busi, earn, dust, disrupt",
          "<b>Topic 1</b><br>Words: snap, advertis, vhat, entranc, miss",
          "<b>Topic 1</b><br>Words: firm, aftpf, crox, ventur, cvna",
          "<b>Topic 1</b><br>Words: pulp, disspropotion, tsm, two, node",
          "<b>Topic 1</b><br>Words: call, yesterday, trade, gilf, momentum",
          "<b>Topic 1</b><br>Words: abnorm, log, lotsquot, quotround, direct",
          "<b>Topic 1</b><br>Words: im, alert, smart, bought, live",
          "<b>Topic 1</b><br>Words: met, commentari, never, assum, nvda",
          "<b>Topic 1</b><br>Words: co, break, bare, call, id",
          "<b>Topic 1</b><br>Words: co, alert, nvda, meantim, analyst",
          "<b>Topic 1</b><br>Words: level, qqq, current, trade, see",
          "<b>Topic 1</b><br>Words: qcom, gtgt, nvda, stock, trade",
          "<b>Topic 1</b><br>Words: visa, qcom, nvda, paypal, stock",
          "<b>Topic 1</b><br>Words: atari, nvda, goe, sold, quotrecharg",
          "<b>Topic 1</b><br>Words: drug, ckpt, bb, stock, nvda",
          "<b>Topic 1</b><br>Words: drug, ckpt, keytruda, thi, nvda",
          "<b>Topic 1</b><br>Words: life, cbale, leozida, nvda, glu",
          "<b>Topic 1</b><br>Words: duck, haha, kid, deal, today",
          "<b>Topic 1</b><br>Words: unitedtrad, quotepycquot, nvda, blnk, ff",
          "<b>Topic 1</b><br>Words: bkkt, that, twitter, impress, keep",
          "<b>Topic 1</b><br>Words: chang, atom, bro, periodquot, quotfcftocbt",
          "<b>Topic 1</b><br>Words: twitter, himx, similar, trend, lmk",
          "<b>Topic 1</b><br>Words: qcom, stock, rivian, nvda, alpha",
          "<b>Topic 1</b><br>Words: nvda, stock, big, im, drop",
          "<b>Topic 1</b><br>Words: nvda, impress, stock, trend, twitter",
          "<b>Topic 1</b><br>Words: twitter, impress, nvda, stock, trend",
          "<b>Topic 1</b><br>Words: trend, twitter, impress, lmk, dashboard",
          "<b>Topic 1</b><br>Words: twitter, trend, imposs, dashboard, practic",
          "<b>Topic 1</b><br>Words: impress, tweet, twitter, nvda, stock",
          "<b>Topic 1</b><br>Words: twitter, impress, zm, dashboard, reddit",
          "<b>Topic 1</b><br>Words: twitter, crash, trend, impress, disney",
          "<b>Topic 1</b><br>Words: opendoor, nextdoor, home, neighbor, covid",
          "<b>Topic 1</b><br>Words: marketvwa, faiqiau, backnto, syesterday, mindaybw",
          "<b>Topic 1</b><br>Words: mkt, percept, trader, variant, week",
          "<b>Topic 1</b><br>Words: fed, bird, earli, market, world",
          "<b>Topic 1</b><br>Words: call, vaccin, skyguo, et, momentum",
          "<b>Topic 1</b><br>Words: crm, shinzo, abe, japanu, tsla",
          "<b>Topic 1</b><br>Words: aerc, clean, establish, ipo, slow",
          "<b>Topic 1</b><br>Words: arm, ip, nvidia, short, nake",
          "<b>Topic 1</b><br>Words: omicron, focus, powel, accustom, slant",
          "<b>Topic 1</b><br>Words: cbdl, exig, penn, bagger, pois",
          "<b>Topic 1</b><br>Words: money, smart, dumb, trade, firm",
          "<b>Topic 1</b><br>Words: appear, nvda, report, trend, time",
          "<b>Topic 1</b><br>Words: pull, review, rumor, nvda, ahat",
          "<b>Topic 1</b><br>Words: pkay, delet, hibern, chop, yr",
          "<b>Topic 1</b><br>Words: ab, bound, leap, singl, ran",
          "<b>Topic 1</b><br>Words: quantum, theyr, compani, guard, breakthrough",
          "<b>Topic 1</b><br>Words: breadth, narrow, stock, trigger, drawdown",
          "<b>Topic 1</b><br>Words: amp, balanc, nvda, stock, indic",
          "<b>Topic 1</b><br>Words: nvda, stock, wrong, aapl, time",
          "<b>Topic 1</b><br>Words: gtgt, stock, nvda, look, trade",
          "<b>Topic 1</b><br>Words: nvda, vpc, avwap, bjdx, play",
          "<b>Topic 1</b><br>Words: load, short, week, trade, nvda",
          "<b>Topic 1</b><br>Words: slay, aint, trash, glad, loser",
          "<b>Topic 1</b><br>Words: anyth, skevaboy, ordinari, perform, terrordom",
          "<b>Topic 1</b><br>Words: pattern, trader, system, person, track",
          "<b>Topic 1</b><br>Words: sp, preclosur, footwear, faul, rxbennett",
          "<b>Topic 1</b><br>Words: techniqu, trader, anoth, influenti, bookspost",
          "<b>Topic 1</b><br>Words: sad, today, trade, nvda, stock",
          "<b>Topic 1</b><br>Words: add, rebal, biotech, keep, holiday",
          "<b>Topic 1</b><br>Words: ran, anotha, ath, nio, sarcasm",
          "<b>Topic 1</b><br>Words: digit, year, mkt, mara, store",
          "<b>Topic 1</b><br>Words: day, shitti, nvda, ie, last",
          "<b>Topic 1</b><br>Words: headquart, china, clara, california, santa",
          "<b>Topic 1</b><br>Words: signal, profit, recap, day, tnere",
          "<b>Topic 1</b><br>Words: disciplin, tsm, trade, loos, greedi",
          "<b>Topic 1</b><br>Words: trend, trade, nvda, level, market",
          "<b>Topic 1</b><br>Words: nvda, exit, trade, himx, stock",
          "<b>Topic 1</b><br>Words: tech, asset, manag, yield, rotat",
          "<b>Topic 1</b><br>Words: asih, lose, bannedgecko, money, see",
          "<b>Topic 1</b><br>Words: quotgreatquot, tighten, growth, condit, liter",
          "<b>Topic 1</b><br>Words: headlin, montgomeri, period, direct, usual",
          "<b>Topic 1</b><br>Words: nvda, stock, growth, exit, nvidia",
          "<b>Topic 1</b><br>Words: zinsner, intel, pizza, smaller, dane",
          "<b>Topic 1</b><br>Words: success, request, featur, display, button",
          "<b>Topic 1</b><br>Words: gecko, hundr, nvda, amp, stock",
          "<b>Topic 1</b><br>Words: entri, break, ensur, put, exit",
          "<b>Topic 1</b><br>Words: rate, ep, mlk, lisasu, dcf",
          "<b>Topic 1</b><br>Words: exit, entri, option, interact, break",
          "<b>Topic 1</b><br>Words: affect, product, benefit, increas, inflat",
          "<b>Topic 1</b><br>Words: market, nvda, flat, stock, trade",
          "<b>Topic 1</b><br>Words: nvda, level, market, stock, trade",
          "<b>Topic 1</b><br>Words: support, basement, level, current, bottom",
          "<b>Topic 1</b><br>Words: shortterm, truth, swallow, monument, pill",
          "<b>Topic 1</b><br>Words: basement, level, support, index, major",
          "<b>Topic 1</b><br>Words: share, nvda, prepar, stock, opportun",
          "<b>Topic 1</b><br>Words: nvda, mttr, law, nyse, tsmc",
          "<b>Topic 1</b><br>Words: entri, break, intel, nvda, put",
          "<b>Topic 1</b><br>Words: smart, know, moron, knew, rebound",
          "<b>Topic 1</b><br>Words: znga, frank, sketchyznga, picturealway, giboau",
          "<b>Topic 1</b><br>Words: oi, volum, nvda, reflect, rebound",
          "<b>Topic 1</b><br>Words: amd, stock, nvda, classic, basket",
          "<b>Topic 1</b><br>Words: knew, weteam, stockswatchlist, fb, hardcor",
          "<b>Topic 1</b><br>Words: step, tempacc, plan, qcom, hsonhson",
          "<b>Topic 1</b><br>Words: factset, cent, spread, put, consensu",
          "<b>Topic 1</b><br>Words: softbank, arm, nvidia, nvda, stock",
          "<b>Topic 1</b><br>Words: bagger, xlnx, trade, lostbearresurrect, hart",
          "<b>Topic 1</b><br>Words: februari, znga, ppl, nvda, share",
          "<b>Topic 1</b><br>Words: invas, blame, russia, neckreject, fox",
          "<b>Topic 1</b><br>Words: across, repurchas, vanontherun, quotsolutionquot, quotplatformquot",
          "<b>Topic 1</b><br>Words: advanc, metavers, stage, semiconductor, nvda",
          "<b>Topic 1</b><br>Words: gtgt, feb, earn, co, tue",
          "<b>Topic 1</b><br>Words: ukrain, russia, troop, border, begun",
          "<b>Topic 1</b><br>Words: nvda, stock, trade, gtgt, amd",
          "<b>Topic 1</b><br>Words: nvda, stock, russia, gtgt, market",
          "<b>Topic 1</b><br>Words: nvda, stock, zinsner, brandon, russia",
          "<b>Topic 1</b><br>Words: mkt, russia, ukrain, nato, border",
          "<b>Topic 1</b><br>Words: russia, zakharova, billion, russian, reuter",
          "<b>Topic 1</b><br>Words: putin, mkt, nvda, week, ukrain",
          "<b>Topic 1</b><br>Words: putin, market, warfar, shatter, magnific",
          "<b>Topic 1</b><br>Words: nato, putin, troop, mexico, expans",
          "<b>Topic 1</b><br>Words: russia, putin, stock, ukrain, nvda",
          "<b>Topic 1</b><br>Words: war, invas, fundstrat, missil, lee",
          "<b>Topic 1</b><br>Words: teach, appreci, alert, discuss, see",
          "<b>Topic 1</b><br>Words: quotgrowthquot, gdp, hear, decad, neg",
          "<b>Topic 1</b><br>Words: ignor, premarket, today, go, trade"
         ],
         "marker": {
          "color": "#56B4E9"
         },
         "mode": "lines",
         "name": "1_trade_stock_market_nvda",
         "type": "scatter",
         "x": [
          "2019-01-03T00:00:00.000000000",
          "2019-01-04T00:00:00.000000000",
          "2019-01-06T00:00:00.000000000",
          "2019-01-08T00:00:00.000000000",
          "2019-01-10T00:00:00.000000000",
          "2019-01-11T00:00:00.000000000",
          "2019-01-13T00:00:00.000000000",
          "2019-01-14T00:00:00.000000000",
          "2019-01-16T00:00:00.000000000",
          "2019-01-18T00:00:00.000000000",
          "2019-01-21T00:00:00.000000000",
          "2019-01-22T00:00:00.000000000",
          "2019-01-23T00:00:00.000000000",
          "2019-01-24T00:00:00.000000000",
          "2019-01-25T00:00:00.000000000",
          "2019-01-27T00:00:00.000000000",
          "2019-01-28T00:00:00.000000000",
          "2019-01-29T00:00:00.000000000",
          "2019-01-30T00:00:00.000000000",
          "2019-01-31T00:00:00.000000000",
          "2019-02-05T00:00:00.000000000",
          "2019-02-06T00:00:00.000000000",
          "2019-02-07T00:00:00.000000000",
          "2019-02-11T00:00:00.000000000",
          "2019-02-12T00:00:00.000000000",
          "2019-02-13T00:00:00.000000000",
          "2019-02-14T00:00:00.000000000",
          "2019-02-15T00:00:00.000000000",
          "2019-02-20T00:00:00.000000000",
          "2019-02-21T00:00:00.000000000",
          "2019-02-22T00:00:00.000000000",
          "2019-02-27T00:00:00.000000000",
          "2019-03-04T00:00:00.000000000",
          "2019-03-06T00:00:00.000000000",
          "2019-03-07T00:00:00.000000000",
          "2019-03-11T00:00:00.000000000",
          "2019-03-14T00:00:00.000000000",
          "2019-03-16T00:00:00.000000000",
          "2019-03-19T00:00:00.000000000",
          "2019-03-20T00:00:00.000000000",
          "2019-03-26T00:00:00.000000000",
          "2019-04-01T00:00:00.000000000",
          "2019-04-04T00:00:00.000000000",
          "2019-04-05T00:00:00.000000000",
          "2019-04-09T00:00:00.000000000",
          "2019-04-15T00:00:00.000000000",
          "2019-04-17T00:00:00.000000000",
          "2019-04-18T00:00:00.000000000",
          "2019-04-19T00:00:00.000000000",
          "2019-04-22T00:00:00.000000000",
          "2019-04-25T00:00:00.000000000",
          "2019-04-26T00:00:00.000000000",
          "2019-04-28T00:00:00.000000000",
          "2019-04-29T00:00:00.000000000",
          "2019-05-02T00:00:00.000000000",
          "2019-05-09T00:00:00.000000000",
          "2019-05-10T00:00:00.000000000",
          "2019-05-12T00:00:00.000000000",
          "2019-05-13T00:00:00.000000000",
          "2019-05-14T00:00:00.000000000",
          "2019-05-16T00:00:00.000000000",
          "2019-05-17T00:00:00.000000000",
          "2019-05-19T00:00:00.000000000",
          "2019-05-20T00:00:00.000000000",
          "2019-05-22T00:00:00.000000000",
          "2019-05-23T00:00:00.000000000",
          "2019-05-24T00:00:00.000000000",
          "2019-05-25T00:00:00.000000000",
          "2019-05-27T00:00:00.000000000",
          "2019-05-28T00:00:00.000000000",
          "2019-05-29T00:00:00.000000000",
          "2019-05-30T00:00:00.000000000",
          "2019-05-31T00:00:00.000000000",
          "2019-06-01T00:00:00.000000000",
          "2019-06-02T00:00:00.000000000",
          "2019-06-03T00:00:00.000000000",
          "2019-06-05T00:00:00.000000000",
          "2019-06-06T00:00:00.000000000",
          "2019-06-07T00:00:00.000000000",
          "2019-06-10T00:00:00.000000000",
          "2019-06-12T00:00:00.000000000",
          "2019-06-13T00:00:00.000000000",
          "2019-06-14T00:00:00.000000000",
          "2019-06-16T00:00:00.000000000",
          "2019-06-17T00:00:00.000000000",
          "2019-06-18T00:00:00.000000000",
          "2019-06-20T00:00:00.000000000",
          "2019-06-21T00:00:00.000000000",
          "2019-06-24T00:00:00.000000000",
          "2019-06-26T00:00:00.000000000",
          "2019-06-27T00:00:00.000000000",
          "2019-06-28T00:00:00.000000000",
          "2019-06-29T00:00:00.000000000",
          "2019-07-01T00:00:00.000000000",
          "2019-07-02T00:00:00.000000000",
          "2019-07-03T00:00:00.000000000",
          "2019-07-05T00:00:00.000000000",
          "2019-07-08T00:00:00.000000000",
          "2019-07-09T00:00:00.000000000",
          "2019-07-10T00:00:00.000000000",
          "2019-07-11T00:00:00.000000000",
          "2019-07-12T00:00:00.000000000",
          "2019-07-17T00:00:00.000000000",
          "2019-07-18T00:00:00.000000000",
          "2019-07-19T00:00:00.000000000",
          "2019-07-22T00:00:00.000000000",
          "2019-07-23T00:00:00.000000000",
          "2019-07-25T00:00:00.000000000",
          "2019-07-31T00:00:00.000000000",
          "2019-08-01T00:00:00.000000000",
          "2019-08-02T00:00:00.000000000",
          "2019-08-05T00:00:00.000000000",
          "2019-08-06T00:00:00.000000000",
          "2019-08-07T00:00:00.000000000",
          "2019-08-08T00:00:00.000000000",
          "2019-08-09T00:00:00.000000000",
          "2019-08-14T00:00:00.000000000",
          "2019-08-15T00:00:00.000000000",
          "2019-08-16T00:00:00.000000000",
          "2019-08-19T00:00:00.000000000",
          "2019-08-20T00:00:00.000000000",
          "2019-08-21T00:00:00.000000000",
          "2019-08-22T00:00:00.000000000",
          "2019-08-23T00:00:00.000000000",
          "2019-08-24T00:00:00.000000000",
          "2019-08-25T00:00:00.000000000",
          "2019-08-26T00:00:00.000000000",
          "2019-08-27T00:00:00.000000000",
          "2019-08-28T00:00:00.000000000",
          "2019-08-29T00:00:00.000000000",
          "2019-08-30T00:00:00.000000000",
          "2019-08-31T00:00:00.000000000",
          "2019-09-02T00:00:00.000000000",
          "2019-09-03T00:00:00.000000000",
          "2019-09-04T00:00:00.000000000",
          "2019-09-05T00:00:00.000000000",
          "2019-09-06T00:00:00.000000000",
          "2019-09-07T00:00:00.000000000",
          "2019-09-10T00:00:00.000000000",
          "2019-09-11T00:00:00.000000000",
          "2019-09-12T00:00:00.000000000",
          "2019-09-13T00:00:00.000000000",
          "2019-09-15T00:00:00.000000000",
          "2019-09-16T00:00:00.000000000",
          "2019-09-26T00:00:00.000000000",
          "2019-09-27T00:00:00.000000000",
          "2019-09-30T00:00:00.000000000",
          "2019-10-01T00:00:00.000000000",
          "2019-10-03T00:00:00.000000000",
          "2019-10-08T00:00:00.000000000",
          "2019-10-10T00:00:00.000000000",
          "2019-10-11T00:00:00.000000000",
          "2019-10-15T00:00:00.000000000",
          "2019-10-16T00:00:00.000000000",
          "2019-10-21T00:00:00.000000000",
          "2019-10-22T00:00:00.000000000",
          "2019-10-25T00:00:00.000000000",
          "2019-10-29T00:00:00.000000000",
          "2019-10-31T00:00:00.000000000",
          "2019-11-01T00:00:00.000000000",
          "2019-11-07T00:00:00.000000000",
          "2019-11-12T00:00:00.000000000",
          "2019-11-14T00:00:00.000000000",
          "2019-11-15T00:00:00.000000000",
          "2019-11-16T00:00:00.000000000",
          "2019-11-18T00:00:00.000000000",
          "2019-11-19T00:00:00.000000000",
          "2019-11-20T00:00:00.000000000",
          "2019-11-21T00:00:00.000000000",
          "2019-11-22T00:00:00.000000000",
          "2019-11-24T00:00:00.000000000",
          "2019-11-25T00:00:00.000000000",
          "2019-11-26T00:00:00.000000000",
          "2019-11-27T00:00:00.000000000",
          "2019-12-02T00:00:00.000000000",
          "2019-12-03T00:00:00.000000000",
          "2019-12-05T00:00:00.000000000",
          "2019-12-06T00:00:00.000000000",
          "2019-12-07T00:00:00.000000000",
          "2019-12-09T00:00:00.000000000",
          "2019-12-10T00:00:00.000000000",
          "2019-12-11T00:00:00.000000000",
          "2019-12-12T00:00:00.000000000",
          "2019-12-13T00:00:00.000000000",
          "2019-12-20T00:00:00.000000000",
          "2019-12-21T00:00:00.000000000",
          "2019-12-22T00:00:00.000000000",
          "2019-12-23T00:00:00.000000000",
          "2019-12-24T00:00:00.000000000",
          "2019-12-31T00:00:00.000000000",
          "2020-01-03T00:00:00.000000000",
          "2020-01-06T00:00:00.000000000",
          "2020-01-07T00:00:00.000000000",
          "2020-01-08T00:00:00.000000000",
          "2020-01-09T00:00:00.000000000",
          "2020-01-10T00:00:00.000000000",
          "2020-01-11T00:00:00.000000000",
          "2020-01-13T00:00:00.000000000",
          "2020-01-20T00:00:00.000000000",
          "2020-01-23T00:00:00.000000000",
          "2020-01-24T00:00:00.000000000",
          "2020-01-27T00:00:00.000000000",
          "2020-01-28T00:00:00.000000000",
          "2020-01-30T00:00:00.000000000",
          "2020-02-04T00:00:00.000000000",
          "2020-02-05T00:00:00.000000000",
          "2020-02-08T00:00:00.000000000",
          "2020-02-10T00:00:00.000000000",
          "2020-02-11T00:00:00.000000000",
          "2020-02-12T00:00:00.000000000",
          "2020-02-13T00:00:00.000000000",
          "2020-02-14T00:00:00.000000000",
          "2020-02-15T00:00:00.000000000",
          "2020-02-18T00:00:00.000000000",
          "2020-02-19T00:00:00.000000000",
          "2020-02-20T00:00:00.000000000",
          "2020-02-21T00:00:00.000000000",
          "2020-02-24T00:00:00.000000000",
          "2020-02-25T00:00:00.000000000",
          "2020-02-26T00:00:00.000000000",
          "2020-02-27T00:00:00.000000000",
          "2020-02-28T00:00:00.000000000",
          "2020-02-29T00:00:00.000000000",
          "2020-03-01T00:00:00.000000000",
          "2020-03-02T00:00:00.000000000",
          "2020-03-03T00:00:00.000000000",
          "2020-03-05T00:00:00.000000000",
          "2020-03-06T00:00:00.000000000",
          "2020-03-07T00:00:00.000000000",
          "2020-03-09T00:00:00.000000000",
          "2020-03-10T00:00:00.000000000",
          "2020-03-11T00:00:00.000000000",
          "2020-03-12T00:00:00.000000000",
          "2020-03-13T00:00:00.000000000",
          "2020-03-16T00:00:00.000000000",
          "2020-03-17T00:00:00.000000000",
          "2020-03-18T00:00:00.000000000",
          "2020-03-19T00:00:00.000000000",
          "2020-03-20T00:00:00.000000000",
          "2020-03-22T00:00:00.000000000",
          "2020-03-24T00:00:00.000000000",
          "2020-03-25T00:00:00.000000000",
          "2020-03-26T00:00:00.000000000",
          "2020-03-27T00:00:00.000000000",
          "2020-03-28T00:00:00.000000000",
          "2020-03-30T00:00:00.000000000",
          "2020-04-01T00:00:00.000000000",
          "2020-04-02T00:00:00.000000000",
          "2020-04-04T00:00:00.000000000",
          "2020-04-06T00:00:00.000000000",
          "2020-04-07T00:00:00.000000000",
          "2020-04-09T00:00:00.000000000",
          "2020-04-10T00:00:00.000000000",
          "2020-04-14T00:00:00.000000000",
          "2020-04-15T00:00:00.000000000",
          "2020-04-17T00:00:00.000000000",
          "2020-04-20T00:00:00.000000000",
          "2020-04-21T00:00:00.000000000",
          "2020-04-22T00:00:00.000000000",
          "2020-04-23T00:00:00.000000000",
          "2020-04-28T00:00:00.000000000",
          "2020-04-30T00:00:00.000000000",
          "2020-05-02T00:00:00.000000000",
          "2020-05-04T00:00:00.000000000",
          "2020-05-05T00:00:00.000000000",
          "2020-05-06T00:00:00.000000000",
          "2020-05-07T00:00:00.000000000",
          "2020-05-08T00:00:00.000000000",
          "2020-05-10T00:00:00.000000000",
          "2020-05-11T00:00:00.000000000",
          "2020-05-12T00:00:00.000000000",
          "2020-05-14T00:00:00.000000000",
          "2020-05-15T00:00:00.000000000",
          "2020-05-16T00:00:00.000000000",
          "2020-05-17T00:00:00.000000000",
          "2020-05-18T00:00:00.000000000",
          "2020-05-19T00:00:00.000000000",
          "2020-05-20T00:00:00.000000000",
          "2020-05-21T00:00:00.000000000",
          "2020-05-22T00:00:00.000000000",
          "2020-05-23T00:00:00.000000000",
          "2020-05-24T00:00:00.000000000",
          "2020-05-26T00:00:00.000000000",
          "2020-05-27T00:00:00.000000000",
          "2020-05-28T00:00:00.000000000",
          "2020-05-29T00:00:00.000000000",
          "2020-05-30T00:00:00.000000000",
          "2020-06-01T00:00:00.000000000",
          "2020-06-05T00:00:00.000000000",
          "2020-06-09T00:00:00.000000000",
          "2020-06-11T00:00:00.000000000",
          "2020-06-13T00:00:00.000000000",
          "2020-06-14T00:00:00.000000000",
          "2020-06-15T00:00:00.000000000",
          "2020-06-16T00:00:00.000000000",
          "2020-06-17T00:00:00.000000000",
          "2020-06-19T00:00:00.000000000",
          "2020-06-21T00:00:00.000000000",
          "2020-06-23T00:00:00.000000000",
          "2020-06-24T00:00:00.000000000",
          "2020-06-25T00:00:00.000000000",
          "2020-06-26T00:00:00.000000000",
          "2020-06-27T00:00:00.000000000",
          "2020-06-28T00:00:00.000000000",
          "2020-06-29T00:00:00.000000000",
          "2020-06-30T00:00:00.000000000",
          "2020-07-01T00:00:00.000000000",
          "2020-07-02T00:00:00.000000000",
          "2020-07-08T00:00:00.000000000",
          "2020-07-09T00:00:00.000000000",
          "2020-07-10T00:00:00.000000000",
          "2020-07-11T00:00:00.000000000",
          "2020-07-13T00:00:00.000000000",
          "2020-07-14T00:00:00.000000000",
          "2020-07-15T00:00:00.000000000",
          "2020-07-16T00:00:00.000000000",
          "2020-07-19T00:00:00.000000000",
          "2020-07-20T00:00:00.000000000",
          "2020-07-22T00:00:00.000000000",
          "2020-07-23T00:00:00.000000000",
          "2020-07-24T00:00:00.000000000",
          "2020-07-26T00:00:00.000000000",
          "2020-07-27T00:00:00.000000000",
          "2020-07-28T00:00:00.000000000",
          "2020-07-29T00:00:00.000000000",
          "2020-07-30T00:00:00.000000000",
          "2020-07-31T00:00:00.000000000",
          "2020-08-01T00:00:00.000000000",
          "2020-08-02T00:00:00.000000000",
          "2020-08-03T00:00:00.000000000",
          "2020-08-04T00:00:00.000000000",
          "2020-08-05T00:00:00.000000000",
          "2020-08-06T00:00:00.000000000",
          "2020-08-07T00:00:00.000000000",
          "2020-08-11T00:00:00.000000000",
          "2020-08-12T00:00:00.000000000",
          "2020-08-13T00:00:00.000000000",
          "2020-08-14T00:00:00.000000000",
          "2020-08-16T00:00:00.000000000",
          "2020-08-17T00:00:00.000000000",
          "2020-08-18T00:00:00.000000000",
          "2020-08-19T00:00:00.000000000",
          "2020-08-20T00:00:00.000000000",
          "2020-08-21T00:00:00.000000000",
          "2020-08-22T00:00:00.000000000",
          "2020-08-23T00:00:00.000000000",
          "2020-08-25T00:00:00.000000000",
          "2020-08-26T00:00:00.000000000",
          "2020-08-27T00:00:00.000000000",
          "2020-08-28T00:00:00.000000000",
          "2020-08-29T00:00:00.000000000",
          "2020-08-31T00:00:00.000000000",
          "2020-09-01T00:00:00.000000000",
          "2020-09-02T00:00:00.000000000",
          "2020-09-03T00:00:00.000000000",
          "2020-09-04T00:00:00.000000000",
          "2020-09-05T00:00:00.000000000",
          "2020-09-06T00:00:00.000000000",
          "2020-09-07T00:00:00.000000000",
          "2020-09-08T00:00:00.000000000",
          "2020-09-09T00:00:00.000000000",
          "2020-09-10T00:00:00.000000000",
          "2020-09-11T00:00:00.000000000",
          "2020-09-13T00:00:00.000000000",
          "2020-09-14T00:00:00.000000000",
          "2020-09-15T00:00:00.000000000",
          "2020-09-16T00:00:00.000000000",
          "2020-09-17T00:00:00.000000000",
          "2020-09-18T00:00:00.000000000",
          "2020-09-20T00:00:00.000000000",
          "2020-09-21T00:00:00.000000000",
          "2020-09-22T00:00:00.000000000",
          "2020-09-23T00:00:00.000000000",
          "2020-09-24T00:00:00.000000000",
          "2020-09-25T00:00:00.000000000",
          "2020-09-27T00:00:00.000000000",
          "2020-09-28T00:00:00.000000000",
          "2020-09-29T00:00:00.000000000",
          "2020-09-30T00:00:00.000000000",
          "2020-10-01T00:00:00.000000000",
          "2020-10-02T00:00:00.000000000",
          "2020-10-06T00:00:00.000000000",
          "2020-10-07T00:00:00.000000000",
          "2020-10-08T00:00:00.000000000",
          "2020-10-09T00:00:00.000000000",
          "2020-10-11T00:00:00.000000000",
          "2020-10-12T00:00:00.000000000",
          "2020-10-13T00:00:00.000000000",
          "2020-10-14T00:00:00.000000000",
          "2020-10-16T00:00:00.000000000",
          "2020-10-18T00:00:00.000000000",
          "2020-10-19T00:00:00.000000000",
          "2020-10-20T00:00:00.000000000",
          "2020-10-23T00:00:00.000000000",
          "2020-10-24T00:00:00.000000000",
          "2020-10-25T00:00:00.000000000",
          "2020-10-26T00:00:00.000000000",
          "2020-10-27T00:00:00.000000000",
          "2020-10-28T00:00:00.000000000",
          "2020-10-29T00:00:00.000000000",
          "2020-10-30T00:00:00.000000000",
          "2020-11-02T00:00:00.000000000",
          "2020-11-03T00:00:00.000000000",
          "2020-11-04T00:00:00.000000000",
          "2020-11-05T00:00:00.000000000",
          "2020-11-06T00:00:00.000000000",
          "2020-11-07T00:00:00.000000000",
          "2020-11-09T00:00:00.000000000",
          "2020-11-10T00:00:00.000000000",
          "2020-11-12T00:00:00.000000000",
          "2020-11-13T00:00:00.000000000",
          "2020-11-15T00:00:00.000000000",
          "2020-11-16T00:00:00.000000000",
          "2020-11-17T00:00:00.000000000",
          "2020-11-18T00:00:00.000000000",
          "2020-11-19T00:00:00.000000000",
          "2020-11-20T00:00:00.000000000",
          "2020-11-21T00:00:00.000000000",
          "2020-11-22T00:00:00.000000000",
          "2020-11-23T00:00:00.000000000",
          "2020-11-24T00:00:00.000000000",
          "2020-11-25T00:00:00.000000000",
          "2020-11-30T00:00:00.000000000",
          "2020-12-02T00:00:00.000000000",
          "2020-12-03T00:00:00.000000000",
          "2020-12-04T00:00:00.000000000",
          "2020-12-05T00:00:00.000000000",
          "2020-12-06T00:00:00.000000000",
          "2020-12-07T00:00:00.000000000",
          "2020-12-08T00:00:00.000000000",
          "2020-12-09T00:00:00.000000000",
          "2020-12-10T00:00:00.000000000",
          "2020-12-11T00:00:00.000000000",
          "2020-12-12T00:00:00.000000000",
          "2020-12-15T00:00:00.000000000",
          "2020-12-16T00:00:00.000000000",
          "2020-12-17T00:00:00.000000000",
          "2020-12-20T00:00:00.000000000",
          "2020-12-22T00:00:00.000000000",
          "2020-12-23T00:00:00.000000000",
          "2020-12-24T00:00:00.000000000",
          "2020-12-30T00:00:00.000000000",
          "2020-12-31T00:00:00.000000000",
          "2021-01-04T00:00:00.000000000",
          "2021-01-05T00:00:00.000000000",
          "2021-01-06T00:00:00.000000000",
          "2021-01-07T00:00:00.000000000",
          "2021-01-08T00:00:00.000000000",
          "2021-01-09T00:00:00.000000000",
          "2021-01-10T00:00:00.000000000",
          "2021-01-11T00:00:00.000000000",
          "2021-01-12T00:00:00.000000000",
          "2021-01-13T00:00:00.000000000",
          "2021-01-14T00:00:00.000000000",
          "2021-01-15T00:00:00.000000000",
          "2021-01-16T00:00:00.000000000",
          "2021-01-17T00:00:00.000000000",
          "2021-01-19T00:00:00.000000000",
          "2021-01-20T00:00:00.000000000",
          "2021-01-21T00:00:00.000000000",
          "2021-01-22T00:00:00.000000000",
          "2021-01-23T00:00:00.000000000",
          "2021-01-24T00:00:00.000000000",
          "2021-01-25T00:00:00.000000000",
          "2021-01-26T00:00:00.000000000",
          "2021-01-27T00:00:00.000000000",
          "2021-01-28T00:00:00.000000000",
          "2021-01-29T00:00:00.000000000",
          "2021-01-30T00:00:00.000000000",
          "2021-02-01T00:00:00.000000000",
          "2021-02-02T00:00:00.000000000",
          "2021-02-03T00:00:00.000000000",
          "2021-02-04T00:00:00.000000000",
          "2021-02-05T00:00:00.000000000",
          "2021-02-06T00:00:00.000000000",
          "2021-02-07T00:00:00.000000000",
          "2021-02-08T00:00:00.000000000",
          "2021-02-09T00:00:00.000000000",
          "2021-02-10T00:00:00.000000000",
          "2021-02-11T00:00:00.000000000",
          "2021-02-12T00:00:00.000000000",
          "2021-02-13T00:00:00.000000000",
          "2021-02-16T00:00:00.000000000",
          "2021-02-17T00:00:00.000000000",
          "2021-02-18T00:00:00.000000000",
          "2021-02-19T00:00:00.000000000",
          "2021-02-22T00:00:00.000000000",
          "2021-02-23T00:00:00.000000000",
          "2021-02-24T00:00:00.000000000",
          "2021-02-25T00:00:00.000000000",
          "2021-02-26T00:00:00.000000000",
          "2021-02-27T00:00:00.000000000",
          "2021-03-01T00:00:00.000000000",
          "2021-03-02T00:00:00.000000000",
          "2021-03-03T00:00:00.000000000",
          "2021-03-04T00:00:00.000000000",
          "2021-03-05T00:00:00.000000000",
          "2021-03-07T00:00:00.000000000",
          "2021-03-08T00:00:00.000000000",
          "2021-03-09T00:00:00.000000000",
          "2021-03-10T00:00:00.000000000",
          "2021-03-13T00:00:00.000000000",
          "2021-03-15T00:00:00.000000000",
          "2021-03-16T00:00:00.000000000",
          "2021-03-17T00:00:00.000000000",
          "2021-03-18T00:00:00.000000000",
          "2021-03-19T00:00:00.000000000",
          "2021-03-21T00:00:00.000000000",
          "2021-03-22T00:00:00.000000000",
          "2021-03-23T00:00:00.000000000",
          "2021-03-24T00:00:00.000000000",
          "2021-03-25T00:00:00.000000000",
          "2021-03-26T00:00:00.000000000",
          "2021-03-27T00:00:00.000000000",
          "2021-03-30T00:00:00.000000000",
          "2021-03-31T00:00:00.000000000",
          "2021-04-01T00:00:00.000000000",
          "2021-04-05T00:00:00.000000000",
          "2021-04-06T00:00:00.000000000",
          "2021-04-07T00:00:00.000000000",
          "2021-04-09T00:00:00.000000000",
          "2021-04-12T00:00:00.000000000",
          "2021-04-13T00:00:00.000000000",
          "2021-04-14T00:00:00.000000000",
          "2021-04-15T00:00:00.000000000",
          "2021-04-16T00:00:00.000000000",
          "2021-04-19T00:00:00.000000000",
          "2021-04-20T00:00:00.000000000",
          "2021-04-21T00:00:00.000000000",
          "2021-04-22T00:00:00.000000000",
          "2021-04-26T00:00:00.000000000",
          "2021-04-27T00:00:00.000000000",
          "2021-04-28T00:00:00.000000000",
          "2021-05-02T00:00:00.000000000",
          "2021-05-03T00:00:00.000000000",
          "2021-05-05T00:00:00.000000000",
          "2021-05-06T00:00:00.000000000",
          "2021-05-07T00:00:00.000000000",
          "2021-05-08T00:00:00.000000000",
          "2021-05-10T00:00:00.000000000",
          "2021-05-12T00:00:00.000000000",
          "2021-05-13T00:00:00.000000000",
          "2021-05-14T00:00:00.000000000",
          "2021-05-17T00:00:00.000000000",
          "2021-05-18T00:00:00.000000000",
          "2021-05-19T00:00:00.000000000",
          "2021-05-20T00:00:00.000000000",
          "2021-05-21T00:00:00.000000000",
          "2021-05-22T00:00:00.000000000",
          "2021-05-23T00:00:00.000000000",
          "2021-05-24T00:00:00.000000000",
          "2021-05-25T00:00:00.000000000",
          "2021-05-26T00:00:00.000000000",
          "2021-05-27T00:00:00.000000000",
          "2021-05-28T00:00:00.000000000",
          "2021-05-29T00:00:00.000000000",
          "2021-06-01T00:00:00.000000000",
          "2021-06-02T00:00:00.000000000",
          "2021-06-03T00:00:00.000000000",
          "2021-06-04T00:00:00.000000000",
          "2021-06-05T00:00:00.000000000",
          "2021-06-06T00:00:00.000000000",
          "2021-06-07T00:00:00.000000000",
          "2021-06-08T00:00:00.000000000",
          "2021-06-09T00:00:00.000000000",
          "2021-06-10T00:00:00.000000000",
          "2021-06-11T00:00:00.000000000",
          "2021-06-12T00:00:00.000000000",
          "2021-06-13T00:00:00.000000000",
          "2021-06-14T00:00:00.000000000",
          "2021-06-16T00:00:00.000000000",
          "2021-06-17T00:00:00.000000000",
          "2021-06-18T00:00:00.000000000",
          "2021-06-19T00:00:00.000000000",
          "2021-06-21T00:00:00.000000000",
          "2021-06-23T00:00:00.000000000",
          "2021-06-24T00:00:00.000000000",
          "2021-06-25T00:00:00.000000000",
          "2021-06-28T00:00:00.000000000",
          "2021-06-29T00:00:00.000000000",
          "2021-06-30T00:00:00.000000000",
          "2021-07-01T00:00:00.000000000",
          "2021-07-02T00:00:00.000000000",
          "2021-07-03T00:00:00.000000000",
          "2021-07-04T00:00:00.000000000",
          "2021-07-05T00:00:00.000000000",
          "2021-07-06T00:00:00.000000000",
          "2021-07-07T00:00:00.000000000",
          "2021-07-08T00:00:00.000000000",
          "2021-07-09T00:00:00.000000000",
          "2021-07-10T00:00:00.000000000",
          "2021-07-11T00:00:00.000000000",
          "2021-07-12T00:00:00.000000000",
          "2021-07-13T00:00:00.000000000",
          "2021-07-14T00:00:00.000000000",
          "2021-07-15T00:00:00.000000000",
          "2021-07-16T00:00:00.000000000",
          "2021-07-17T00:00:00.000000000",
          "2021-07-18T00:00:00.000000000",
          "2021-07-19T00:00:00.000000000",
          "2021-07-20T00:00:00.000000000",
          "2021-07-21T00:00:00.000000000",
          "2021-07-22T00:00:00.000000000",
          "2021-07-23T00:00:00.000000000",
          "2021-07-25T00:00:00.000000000",
          "2021-07-26T00:00:00.000000000",
          "2021-07-27T00:00:00.000000000",
          "2021-07-28T00:00:00.000000000",
          "2021-07-29T00:00:00.000000000",
          "2021-07-30T00:00:00.000000000",
          "2021-08-01T00:00:00.000000000",
          "2021-08-02T00:00:00.000000000",
          "2021-08-03T00:00:00.000000000",
          "2021-08-04T00:00:00.000000000",
          "2021-08-05T00:00:00.000000000",
          "2021-08-06T00:00:00.000000000",
          "2021-08-09T00:00:00.000000000",
          "2021-08-10T00:00:00.000000000",
          "2021-08-11T00:00:00.000000000",
          "2021-08-12T00:00:00.000000000",
          "2021-08-13T00:00:00.000000000",
          "2021-08-15T00:00:00.000000000",
          "2021-08-17T00:00:00.000000000",
          "2021-08-18T00:00:00.000000000",
          "2021-08-19T00:00:00.000000000",
          "2021-08-20T00:00:00.000000000",
          "2021-08-21T00:00:00.000000000",
          "2021-08-22T00:00:00.000000000",
          "2021-08-23T00:00:00.000000000",
          "2021-08-24T00:00:00.000000000",
          "2021-08-25T00:00:00.000000000",
          "2021-08-26T00:00:00.000000000",
          "2021-08-27T00:00:00.000000000",
          "2021-08-29T00:00:00.000000000",
          "2021-08-30T00:00:00.000000000",
          "2021-09-01T00:00:00.000000000",
          "2021-09-03T00:00:00.000000000",
          "2021-09-04T00:00:00.000000000",
          "2021-09-05T00:00:00.000000000",
          "2021-09-06T00:00:00.000000000",
          "2021-09-07T00:00:00.000000000",
          "2021-09-08T00:00:00.000000000",
          "2021-09-09T00:00:00.000000000",
          "2021-09-10T00:00:00.000000000",
          "2021-09-13T00:00:00.000000000",
          "2021-09-14T00:00:00.000000000",
          "2021-09-15T00:00:00.000000000",
          "2021-09-16T00:00:00.000000000",
          "2021-09-17T00:00:00.000000000",
          "2021-09-18T00:00:00.000000000",
          "2021-09-20T00:00:00.000000000",
          "2021-09-21T00:00:00.000000000",
          "2021-09-22T00:00:00.000000000",
          "2021-09-23T00:00:00.000000000",
          "2021-09-24T00:00:00.000000000",
          "2021-09-25T00:00:00.000000000",
          "2021-09-27T00:00:00.000000000",
          "2021-09-28T00:00:00.000000000",
          "2021-09-29T00:00:00.000000000",
          "2021-09-30T00:00:00.000000000",
          "2021-10-02T00:00:00.000000000",
          "2021-10-04T00:00:00.000000000",
          "2021-10-05T00:00:00.000000000",
          "2021-10-06T00:00:00.000000000",
          "2021-10-07T00:00:00.000000000",
          "2021-10-08T00:00:00.000000000",
          "2021-10-12T00:00:00.000000000",
          "2021-10-13T00:00:00.000000000",
          "2021-10-14T00:00:00.000000000",
          "2021-10-15T00:00:00.000000000",
          "2021-10-16T00:00:00.000000000",
          "2021-10-18T00:00:00.000000000",
          "2021-10-19T00:00:00.000000000",
          "2021-10-20T00:00:00.000000000",
          "2021-10-21T00:00:00.000000000",
          "2021-10-22T00:00:00.000000000",
          "2021-10-23T00:00:00.000000000",
          "2021-10-25T00:00:00.000000000",
          "2021-10-26T00:00:00.000000000",
          "2021-10-27T00:00:00.000000000",
          "2021-10-29T00:00:00.000000000",
          "2021-10-31T00:00:00.000000000",
          "2021-11-01T00:00:00.000000000",
          "2021-11-02T00:00:00.000000000",
          "2021-11-03T00:00:00.000000000",
          "2021-11-04T00:00:00.000000000",
          "2021-11-05T00:00:00.000000000",
          "2021-11-06T00:00:00.000000000",
          "2021-11-08T00:00:00.000000000",
          "2021-11-09T00:00:00.000000000",
          "2021-11-10T00:00:00.000000000",
          "2021-11-11T00:00:00.000000000",
          "2021-11-12T00:00:00.000000000",
          "2021-11-13T00:00:00.000000000",
          "2021-11-14T00:00:00.000000000",
          "2021-11-15T00:00:00.000000000",
          "2021-11-16T00:00:00.000000000",
          "2021-11-17T00:00:00.000000000",
          "2021-11-18T00:00:00.000000000",
          "2021-11-19T00:00:00.000000000",
          "2021-11-20T00:00:00.000000000",
          "2021-11-21T00:00:00.000000000",
          "2021-11-22T00:00:00.000000000",
          "2021-11-23T00:00:00.000000000",
          "2021-11-24T00:00:00.000000000",
          "2021-11-26T00:00:00.000000000",
          "2021-11-27T00:00:00.000000000",
          "2021-11-28T00:00:00.000000000",
          "2021-11-29T00:00:00.000000000",
          "2021-11-30T00:00:00.000000000",
          "2021-12-01T00:00:00.000000000",
          "2021-12-02T00:00:00.000000000",
          "2021-12-03T00:00:00.000000000",
          "2021-12-04T00:00:00.000000000",
          "2021-12-06T00:00:00.000000000",
          "2021-12-07T00:00:00.000000000",
          "2021-12-08T00:00:00.000000000",
          "2021-12-09T00:00:00.000000000",
          "2021-12-10T00:00:00.000000000",
          "2021-12-11T00:00:00.000000000",
          "2021-12-12T00:00:00.000000000",
          "2021-12-13T00:00:00.000000000",
          "2021-12-14T00:00:00.000000000",
          "2021-12-15T00:00:00.000000000",
          "2021-12-16T00:00:00.000000000",
          "2021-12-17T00:00:00.000000000",
          "2021-12-18T00:00:00.000000000",
          "2021-12-19T00:00:00.000000000",
          "2021-12-20T00:00:00.000000000",
          "2021-12-21T00:00:00.000000000",
          "2021-12-22T00:00:00.000000000",
          "2021-12-23T00:00:00.000000000",
          "2021-12-24T00:00:00.000000000",
          "2021-12-26T00:00:00.000000000",
          "2021-12-27T00:00:00.000000000",
          "2021-12-28T00:00:00.000000000",
          "2021-12-29T00:00:00.000000000",
          "2021-12-30T00:00:00.000000000",
          "2021-12-31T00:00:00.000000000",
          "2022-01-03T00:00:00.000000000",
          "2022-01-04T00:00:00.000000000",
          "2022-01-05T00:00:00.000000000",
          "2022-01-06T00:00:00.000000000",
          "2022-01-07T00:00:00.000000000",
          "2022-01-08T00:00:00.000000000",
          "2022-01-09T00:00:00.000000000",
          "2022-01-10T00:00:00.000000000",
          "2022-01-11T00:00:00.000000000",
          "2022-01-12T00:00:00.000000000",
          "2022-01-13T00:00:00.000000000",
          "2022-01-14T00:00:00.000000000",
          "2022-01-16T00:00:00.000000000",
          "2022-01-17T00:00:00.000000000",
          "2022-01-18T00:00:00.000000000",
          "2022-01-19T00:00:00.000000000",
          "2022-01-20T00:00:00.000000000",
          "2022-01-21T00:00:00.000000000",
          "2022-01-23T00:00:00.000000000",
          "2022-01-24T00:00:00.000000000",
          "2022-01-25T00:00:00.000000000",
          "2022-01-26T00:00:00.000000000",
          "2022-01-27T00:00:00.000000000",
          "2022-01-28T00:00:00.000000000",
          "2022-01-31T00:00:00.000000000",
          "2022-02-01T00:00:00.000000000",
          "2022-02-02T00:00:00.000000000",
          "2022-02-03T00:00:00.000000000",
          "2022-02-04T00:00:00.000000000",
          "2022-02-07T00:00:00.000000000",
          "2022-02-08T00:00:00.000000000",
          "2022-02-09T00:00:00.000000000",
          "2022-02-10T00:00:00.000000000",
          "2022-02-11T00:00:00.000000000",
          "2022-02-12T00:00:00.000000000",
          "2022-02-13T00:00:00.000000000",
          "2022-02-14T00:00:00.000000000",
          "2022-02-15T00:00:00.000000000",
          "2022-02-16T00:00:00.000000000",
          "2022-02-17T00:00:00.000000000",
          "2022-02-18T00:00:00.000000000",
          "2022-02-19T00:00:00.000000000",
          "2022-02-20T00:00:00.000000000",
          "2022-02-21T00:00:00.000000000",
          "2022-02-22T00:00:00.000000000",
          "2022-02-23T00:00:00.000000000",
          "2022-02-24T00:00:00.000000000",
          "2022-02-25T00:00:00.000000000",
          "2022-02-26T00:00:00.000000000",
          "2022-02-27T00:00:00.000000000",
          "2022-02-28T00:00:00.000000000"
         ],
         "y": {
          "bdata": "AgQBBAMCAQEBAQECAQIEAQYEAgICAgECBAEJBgIBAQIBAQEDAQECAQEBAQEDAQEBAgEBAQIBAgIBAQIBCQQBAQECAgEBAQIEAwEBAgMBAgECAgQBAwUBAQEBAgICBAQCAwEEAgIBAgECAQIBAQQDBQkEAQEBCgIGAwICBAEBAQIDAwIBAQECAgEBAgEBAQEBAQQBAgECAgEBAQEDAQEBAQQDAQMBAQICAgICAgMBBAIDBQECAwICAgEBAQIBAQEDAwMCAgECAQEBAQQBAwEBAgEECQYBAQQDAgUFAgICBAECAQECAQUBAgQBBQMEAQIDAgMDAwMBAQIBAQECAQIBBQEDAQEEAwEBAgECBAICAQMBAQICBwQOCAMBAgMEBQICAQEDAQEBAgEBAQIDAwEBAQEDAgEDBQIBAgQDAQECAQIDAgEDAgIFBwwEBAMDBQEEAQECBAgDBwMCAQQDBQIBAwcCBRMDAQQHBgMFBAwIAwIFAQIEAwQDAgIFBAICAwMGAgEBAgICAQIBAQEBBAMDAgMBAQEDBAICBAMDAQMCCAMCAgIBAgMDAgIBAQEBAgICAgEDAQEBAwEBBQMDAwYEAwEDBQICAgMBAQIBAgMBAQEBAQECAQQCAwEBAQICAQUBBgICBQIBBAMLBAgBAggGAggBBAgFAQIGAgECAQEBAgIFAQEBAgECAQIDCAEGAwIEAgECAgEBAQIBAgEBAgECAwMCAgcDAQEGCgcFAQMHBwkCAQUGAwQDAQEBAgQGAQQFAgQDBwMIBQIBBAgDBQMCAgcMBwkFAgIICwcGCgICAwQCBAECCgEDBAMDAwQCAQMNCgkBAgkCAgYDAgICAgICAgQFAwMCAgEBAgIKAQIECAEBAwUCAQMCBAcCBgIGBAECBQMCBAECCAICAwIFCRgOBQsJBAERAwEFBQ8ZDQEDDwcFBAIDAwMDAQkCAwcGBgIBAQcJDAsJAQEEBgUDAQMFBAcFAgULDAYEAQMGBgMFBAIBAwsMBwIOBwUJAwIFCQQDBAsIBgYCBQUKGhwOBAQIBgcIAwIBAQ==",
          "dtype": "i1"
         }
        },
        {
         "hoverinfo": "text",
         "hovertext": [
          "<b>Topic 2</b><br>Words: hod, bidu, engulf, soxx, soxl",
          "<b>Topic 2</b><br>Words: mildli, defi, climb, jan, mkt",
          "<b>Topic 2</b><br>Words: heavi, wow, bullish, close, aapl",
          "<b>Topic 2</b><br>Words: ob, asf, season, stream, partner",
          "<b>Topic 2</b><br>Words: green, ultra, pop, earli, red",
          "<b>Topic 2</b><br>Words: asian, green, indic, nflx, futur",
          "<b>Topic 2</b><br>Words: candl, exuber, green, irrat, respons",
          "<b>Topic 2</b><br>Words: nio, button, self, partner, bullish",
          "<b>Topic 2</b><br>Words: getrichslow, safe, till, clear, channel",
          "<b>Topic 2</b><br>Words: bearish, look, nvda, trade, stock",
          "<b>Topic 2</b><br>Words: engulf, green, mrkt, bullish, pierc",
          "<b>Topic 2</b><br>Words: hr, doji, chart, bearish, bullish",
          "<b>Topic 2</b><br>Words: hamp, form, thing, way, bullish",
          "<b>Topic 2</b><br>Words: cve, cop, khc, wfc, flolw",
          "<b>Topic 2</b><br>Words: mute, curiou, slightli, af, act",
          "<b>Topic 2</b><br>Words: suuuuuper, sesn, vstm, kr, vktx",
          "<b>Topic 2</b><br>Words: lunch, green, hella, averag, bullish",
          "<b>Topic 2</b><br>Words: degen, im, wallstreet, welcom, bought",
          "<b>Topic 2</b><br>Words: valuetraderr, cron, acb, tho, fool",
          "<b>Topic 2</b><br>Words: engulf, bullish, soxx, antibiot, soxl",
          "<b>Topic 2</b><br>Words: preannouncemnt, handedli, support, suit, law",
          "<b>Topic 2</b><br>Words: invert, hamp, daili, invers, shoulder",
          "<b>Topic 2</b><br>Words: summon, boi, dupe, mcd, tough",
          "<b>Topic 2</b><br>Words: hamph, green, lrcx, soxx, damn",
          "<b>Topic 2</b><br>Words: bmi, amat, flow, fb, top",
          "<b>Topic 2</b><br>Words: naj, lgnd, ea, cat, cnbc",
          "<b>Topic 2</b><br>Words: xiaci, hdb, tcehi, bidu, baba",
          "<b>Topic 2</b><br>Words: next, week, bullish, nvda, trade",
          "<b>Topic 2</b><br>Words: dhi, xop, ea, uvxi, spx",
          "<b>Topic 2</b><br>Words: contrarian, prob, commentari, articl, other",
          "<b>Topic 2</b><br>Words: bullish, iq, disappoint, damn, xlnx",
          "<b>Topic 2</b><br>Words: cl, poor, twtr, di, unusu",
          "<b>Topic 2</b><br>Words: bullish, bearish, pbr, ambiti, ummm",
          "<b>Topic 2</b><br>Words: qure, elli, de, bash, unfortun",
          "<b>Topic 2</b><br>Words: stay, green, traded, thread, thin",
          "<b>Topic 2</b><br>Words: vz, flow, msft, top, tsla",
          "<b>Topic 2</b><br>Words: tli, bhc, eem, tgt, ea",
          "<b>Topic 2</b><br>Words: ea, ftch, baba, flow, lean",
          "<b>Topic 2</b><br>Words: longer, advantag, confid, manag, technolog",
          "<b>Topic 2</b><br>Words: febuari, bearish, rest, peak, noth",
          "<b>Topic 2</b><br>Words: rvansomeren, funbucket, tannerb, adi, af",
          "<b>Topic 2</b><br>Words: af, bullish, nvda, trade, stock",
          "<b>Topic 2</b><br>Words: paper, though, yet, turn, time",
          "<b>Topic 2</b><br>Words: pierc, green, hod, downtrend, close",
          "<b>Topic 2</b><br>Words: harami, bullish, nvda, trade, stock",
          "<b>Topic 2</b><br>Words: optionchalleng, chartmil, sour, elan, crossov",
          "<b>Topic 2</b><br>Words: green, freak, favorit, minut, indic",
          "<b>Topic 2</b><br>Words: ichimoku, chosen, argu, setup, sever",
          "<b>Topic 2</b><br>Words: clean, follow, chart, bullish, nvda",
          "<b>Topic 2</b><br>Words: invers, frame, sorri, soxx, broke",
          "<b>Topic 2</b><br>Words: lrcx, amat, avgo, breakout, smh",
          "<b>Topic 2</b><br>Words: hamph, nice, slice, bo, bullish",
          "<b>Topic 2</b><br>Words: bullish, nvda, trade, stock, market",
          "<b>Topic 2</b><br>Words: contract, yesterday, sold, bullish, nvda",
          "<b>Topic 2</b><br>Words: hamph, bo, soxx, soxl, chart",
          "<b>Topic 2</b><br>Words: xsd, bot, soxx, entri, soxl",
          "<b>Topic 2</b><br>Words: itll, howev, near, pull, futur",
          "<b>Topic 2</b><br>Words: pursu, cag, xlk, iwm, bac",
          "<b>Topic 2</b><br>Words: panw, spgi, cup, everywher, jd",
          "<b>Topic 2</b><br>Words: sustain, opinion, rsi, look, momentum",
          "<b>Topic 2</b><br>Words: baba, stay, flow, bullish, sinc",
          "<b>Topic 2</b><br>Words: bidu, engulf, snap, soxx, soxl",
          "<b>Topic 2</b><br>Words: redi, pzza, huya, tape, hod",
          "<b>Topic 2</b><br>Words: wtw, czr, wfc, ba, flow",
          "<b>Topic 2</b><br>Words: ggal, bac, jpm, flow, top",
          "<b>Topic 2</b><br>Words: rmi, rvi, bto, nikkei, champ",
          "<b>Topic 2</b><br>Words: cup, handl, five, form, minut",
          "<b>Topic 2</b><br>Words: knx, flow, intc, top, aapl",
          "<b>Topic 2</b><br>Words: defend, sweep, quit, definit, level",
          "<b>Topic 2</b><br>Words: candl, daili, bullish, chart, time",
          "<b>Topic 2</b><br>Words: whoever, macd, engulf, entri, held",
          "<b>Topic 2</b><br>Words: bullish, nvda, trade, stock, market",
          "<b>Topic 2</b><br>Words: slower, grind, bearish, favorit, thought",
          "<b>Topic 2</b><br>Words: red, green, di, dow, except",
          "<b>Topic 2</b><br>Words: hammer, abandon, harami, pivot, oversold",
          "<b>Topic 2</b><br>Words: reenter, engulf, glad, soxx, soxl",
          "<b>Topic 2</b><br>Words: tgt, ba, flow, nflx, top",
          "<b>Topic 2</b><br>Words: job, weekli, flow, nflx, green",
          "<b>Topic 2</b><br>Words: gbtc, friday, leak, jd, upper",
          "<b>Topic 2</b><br>Words: tem, dblund, permabul, condor, regardless",
          "<b>Topic 2</b><br>Words: flow, apc, da, bkng, call",
          "<b>Topic 2</b><br>Words: breach, bkng, jd, flow, daili",
          "<b>Topic 2</b><br>Words: pierc, hod, soxx, soxl, green",
          "<b>Topic 2</b><br>Words: crm, baba, flow, fb, top",
          "<b>Topic 2</b><br>Words: prematur, ual, rh, ttwo, anyth",
          "<b>Topic 2</b><br>Words: shop, flow, msft, intc, top",
          "<b>Topic 2</b><br>Words: updatea, love, approach, would, bullish",
          "<b>Topic 2</b><br>Words: bullish, tdg, edit, rug, lean",
          "<b>Topic 2</b><br>Words: stori, angst, bruceda, comprehend, use",
          "<b>Topic 2</b><br>Words: hodlnysenasdaqtradingoptionshedginghodltechaviatonoptionstradingstocksstocktradinghedgeittradewarsdowpharmachinausaindustri, glng, eem, baba, flow",
          "<b>Topic 2</b><br>Words: swk, wrong, baba, flow, mean",
          "<b>Topic 2</b><br>Words: anyth, line, even, would, bearish",
          "<b>Topic 2</b><br>Words: czc, downtick, slightest, beat, flush",
          "<b>Topic 2</b><br>Words: allerg, color, green, stock, nvda",
          "<b>Topic 2</b><br>Words: scalp, key, provid, find, near",
          "<b>Topic 2</b><br>Words: downtrend, arounf, line, quadrupl, minimum",
          "<b>Topic 2</b><br>Words: lean, card, show, time, bullish",
          "<b>Topic 2</b><br>Words: radeon, score, sorri, cant, deal",
          "<b>Topic 2</b><br>Words: engulf, week, bullish, nvda, trade",
          "<b>Topic 2</b><br>Words: bill, impact, meet, fed, tomorrow",
          "<b>Topic 2</b><br>Words: trigger, ba, revers, two, trend",
          "<b>Topic 2</b><br>Words: smcay, abb, botz, yday, bullish",
          "<b>Topic 2</b><br>Words: oxi, adb, roku, flow, top",
          "<b>Topic 2</b><br>Words: pierc, form, soxx, avgo, soxl",
          "<b>Topic 2</b><br>Words: green, deep, red, portfolio, still",
          "<b>Topic 2</b><br>Words: pampf, setup, pt, bullish, nvda",
          "<b>Topic 2</b><br>Words: line, trend, correctli, bit, smh",
          "<b>Topic 2</b><br>Words: nke, pbr, pcg, detail, uber",
          "<b>Topic 2</b><br>Words: right, bullish, midpointpivot, rangebound, timefram",
          "<b>Topic 2</b><br>Words: steadili, gift, declin, channel, seen",
          "<b>Topic 2</b><br>Words: shot, real, line, worth, might",
          "<b>Topic 2</b><br>Words: qcom, dump, pb, green, panic",
          "<b>Topic 2</b><br>Words: necklin, trend, bolling, band, around",
          "<b>Topic 2</b><br>Words: chartist, bullish, pierc, frustrat, path",
          "<b>Topic 2</b><br>Words: hamph, macd, zone, soxx, next",
          "<b>Topic 2</b><br>Words: pink, babi, rsi, xover, creativ",
          "<b>Topic 2</b><br>Words: jpm, fit, north, test, super",
          "<b>Topic 2</b><br>Words: hamph, soxx, soxl, weekli, post",
          "<b>Topic 2</b><br>Words: lol, sinc, bullish, nvda, trade",
          "<b>Topic 2</b><br>Words: doji, sma, fib, touch, revers",
          "<b>Topic 2</b><br>Words: attn, sexi, bullish, immin, ya",
          "<b>Topic 2</b><br>Words: watchlist, bullish, nvda, trade, stock",
          "<b>Topic 2</b><br>Words: clay, rekr, bigger, remain, guess",
          "<b>Topic 2</b><br>Words: begun, revers, call, bullish, buy",
          "<b>Topic 2</b><br>Words: otwswatchlist, hit, lt, mrvl, ok",
          "<b>Topic 2</b><br>Words: pivot, macd, bearish, fed, talk",
          "<b>Topic 2</b><br>Words: mistook, oop, green, close, mind",
          "<b>Topic 2</b><br>Words: board, even, bearish, good, nvda",
          "<b>Topic 2</b><br>Words: lbtyk, stx, ea, flow, top",
          "<b>Topic 2</b><br>Words: gape, paa, ual, hamph, bullish",
          "<b>Topic 2</b><br>Words: bullish, amd, nvda, trade, stock",
          "<b>Topic 2</b><br>Words: posn, esix, abc, pattern, yet",
          "<b>Topic 2</b><br>Words: argument, give, one, bullish, stock",
          "<b>Topic 2</b><br>Words: twou, xlnx, better, chart, bearish",
          "<b>Topic 2</b><br>Words: esix, abc, pattern, bullish, updat",
          "<b>Topic 2</b><br>Words: mpc, semi, tommorow, temporarili, gut",
          "<b>Topic 2</b><br>Words: declin, slippag, greater, yoy, sox",
          "<b>Topic 2</b><br>Words: candl, chart, bullish, red, hella",
          "<b>Topic 2</b><br>Words: macd, zone, soxx, rsi, xover",
          "<b>Topic 2</b><br>Words: xbox, patient, ai, msft, bullish",
          "<b>Topic 2</b><br>Words: planet, funni, peopl, bearish, think",
          "<b>Topic 2</b><br>Words: theyr, datacentr, stx, centr, green",
          "<b>Topic 2</b><br>Words: repeat, flag, histori, xlnx, avgo",
          "<b>Topic 2</b><br>Words: comfort, noth, green, open, watch",
          "<b>Topic 2</b><br>Words: green, lunchtim, smh, highest, adb",
          "<b>Topic 2</b><br>Words: broken, xover, peac, triangl, chip",
          "<b>Topic 2</b><br>Words: green, still, one, stock, nvda",
          "<b>Topic 2</b><br>Words: pennant, quickli, toward, pretti, weekli",
          "<b>Topic 2</b><br>Words: maci, immin, low, flag, monster",
          "<b>Topic 2</b><br>Words: mrtx, zs, flow, mu, top",
          "<b>Topic 2</b><br>Words: utx, ba, flow, nflx, top",
          "<b>Topic 2</b><br>Words: bet, tough, lost, avgo, almost",
          "<b>Topic 2</b><br>Words: abc, pattern, updat, bullish, nvda",
          "<b>Topic 2</b><br>Words: unusu, snap, done, baba, flow",
          "<b>Topic 2</b><br>Words: sept, monthli, engulf, let, end",
          "<b>Topic 2</b><br>Words: pennant, weekli, set, chart, bearish",
          "<b>Topic 2</b><br>Words: techstock, speech, engulf, bearish, daili",
          "<b>Topic 2</b><br>Words: engulf, igv, candl, bullish, bearish",
          "<b>Topic 2</b><br>Words: wfc, baba, flow, mu, top",
          "<b>Topic 2</b><br>Words: ma, nem, bo, atvi, wedg",
          "<b>Topic 2</b><br>Words: green, rins, ndx, row, rank",
          "<b>Topic 2</b><br>Words: bullish, nvda, trade, stock, market",
          "<b>Topic 2</b><br>Words: bullish, nvda, trade, stock, market",
          "<b>Topic 2</b><br>Words: pt, area, bearish, nvda, trade",
          "<b>Topic 2</b><br>Words: plung, januari, unless, weekli, hour",
          "<b>Topic 2</b><br>Words: invert, hamp, macd, cross, zero",
          "<b>Topic 2</b><br>Words: tail, black, diverg, candl, top",
          "<b>Topic 2</b><br>Words: esix, abc, pattern, bullish, nvda",
          "<b>Topic 2</b><br>Words: roku, stay, green, spi, aapl",
          "<b>Topic 2</b><br>Words: bullish, nvda, trade, stock, market",
          "<b>Topic 2</b><br>Words: pricetim, abc, pattern, anoth, target",
          "<b>Topic 2</b><br>Words: txn, mu, bearish, spi, amd",
          "<b>Topic 2</b><br>Words: still, though, weekli, wait, chart",
          "<b>Topic 2</b><br>Words: pag, flow, intc, top, amzn",
          "<b>Topic 2</b><br>Words: optionen, nyorka, ambar, dilsam, jimlewi",
          "<b>Topic 2</b><br>Words: yard, hm, stuck, recov, turn",
          "<b>Topic 2</b><br>Words: yeahhh, turn, green, portfolio, amzn",
          "<b>Topic 2</b><br>Words: retrac, unless, imo, first, open",
          "<b>Topic 2</b><br>Words: lt, soxx, nice, posit, one",
          "<b>Topic 2</b><br>Words: soxx, qcom, area, expect, move",
          "<b>Topic 2</b><br>Words: porktamal, happen, april, movement, soxx",
          "<b>Topic 2</b><br>Words: ya, bearish, come, earn, bullish",
          "<b>Topic 2</b><br>Words: detect, unusu, soxx, flow, bearish",
          "<b>Topic 2</b><br>Words: yday, bullish, bodi, klac, wmt",
          "<b>Topic 2</b><br>Words: lolololol, bullish, hh, bearish, sub",
          "<b>Topic 2</b><br>Words: kss, esix, abc, jd, finish",
          "<b>Topic 2</b><br>Words: entri, ride, weekli, chart, month",
          "<b>Topic 2</b><br>Words: gpn, tim, nice, paint, color",
          "<b>Topic 2</b><br>Words: gosh, hamph, prop, klac, pig",
          "<b>Topic 2</b><br>Words: bto, scenario, crap, though, resist",
          "<b>Topic 2</b><br>Words: cy, sbux, hd, roku, stay",
          "<b>Topic 2</b><br>Words: move, bullish, nvda, trade, stock",
          "<b>Topic 2</b><br>Words: temporarili, scalp, trust, bearish, bought",
          "<b>Topic 2</b><br>Words: cru, hammer, ema, af, soxx",
          "<b>Topic 2</b><br>Words: bearish, next, aapl, week, nvda",
          "<b>Topic 2</b><br>Words: small, pull, still, come, back",
          "<b>Topic 2</b><br>Words: flowsnapshot, xbi, iwm, flow, qqq",
          "<b>Topic 2</b><br>Words: cag, pcg, anet, esix, abc",
          "<b>Topic 2</b><br>Words: vr, longer, super, need, bearish",
          "<b>Topic 2</b><br>Words: relev, leader, weekli, monday, bullish",
          "<b>Topic 2</b><br>Words: cat, flow, top, tsla, aapl",
          "<b>Topic 2</b><br>Words: buyer, pull, rocket, may, wait",
          "<b>Topic 2</b><br>Words: mrk, bac, flow, mu, top",
          "<b>Topic 2</b><br>Words: green, pierc, hod, candl, et",
          "<b>Topic 2</b><br>Words: week, regret, set, ad, green",
          "<b>Topic 2</b><br>Words: super, close, bullish, nvda, trade",
          "<b>Topic 2</b><br>Words: esix, abc, zone, pattern, near",
          "<b>Topic 2</b><br>Words: style, depress, sox, exactli, crash",
          "<b>Topic 2</b><br>Words: slam, selloff, robot, pop, complet",
          "<b>Topic 2</b><br>Words: anybodi, block, order, purchas, seen",
          "<b>Topic 2</b><br>Words: ruin, parti, txn, tonight, lt",
          "<b>Topic 2</b><br>Words: hammer, engulf, sap, cru, qrvo",
          "<b>Topic 2</b><br>Words: soxx, war, world, semi, intc",
          "<b>Topic 2</b><br>Words: sma, use, support, run, great",
          "<b>Topic 2</b><br>Words: sweeper, detect, activ, bullish, nvda",
          "<b>Topic 2</b><br>Words: jensonlaw, becom, msft, bearish, aapl",
          "<b>Topic 2</b><br>Words: coronaviru, hammer, discuss, term, impact",
          "<b>Topic 2</b><br>Words: though, movi, bullish, shortli, overnight",
          "<b>Topic 2</b><br>Words: mxef, czr, flow, bullish, top",
          "<b>Topic 2</b><br>Words: bullish, stanc, ration, sp, coronaviru",
          "<b>Topic 2</b><br>Words: bullish, sweeper, anybodi, answer, top",
          "<b>Topic 2</b><br>Words: dontflashyourcash, pton, bullish, nvda, trade",
          "<b>Topic 2</b><br>Words: bullish, nvda, trade, stock, market",
          "<b>Topic 2</b><br>Words: esix, abc, bolling, fang, band",
          "<b>Topic 2</b><br>Words: effort, bring, let, huge, bearish",
          "<b>Topic 2</b><br>Words: shirt, pant, wear, green, peopl",
          "<b>Topic 2</b><br>Words: minim, correctli, week, sunday, play",
          "<b>Topic 2</b><br>Words: okay, bullish, sorri, yeah, control",
          "<b>Topic 2</b><br>Words: understat, term, would, oversold, clear",
          "<b>Topic 2</b><br>Words: peopl, bearish, see, nvda, trade",
          "<b>Topic 2</b><br>Words: longer, msft, intc, bullish, amd",
          "<b>Topic 2</b><br>Words: engulf, klac, bullish, lrcx, soxx",
          "<b>Topic 2</b><br>Words: allin, vwap, close, put, session",
          "<b>Topic 2</b><br>Words: im, whole, weekend, bearish, one",
          "<b>Topic 2</b><br>Words: pampf, hamph, klac, engulf, lrcx",
          "<b>Topic 2</b><br>Words: europ, reenter, bunch, bullish, rise",
          "<b>Topic 2</b><br>Words: smash, hope, bearish, bullish, nvda",
          "<b>Topic 2</b><br>Words: klac, engulf, pain, lrcx, soxx",
          "<b>Topic 2</b><br>Words: capitul, downturn, flat, panic, bullish",
          "<b>Topic 2</b><br>Words: dia, super, spi, aapl, bullish",
          "<b>Topic 2</b><br>Words: dri, green, bearish, volum, nvda",
          "<b>Topic 2</b><br>Words: bullish, nvda, trade, stock, market",
          "<b>Topic 2</b><br>Words: bearish, bullish, nvda, trade, stock",
          "<b>Topic 2</b><br>Words: bullish, nvda, trade, stock, market",
          "<b>Topic 2</b><br>Words: directon, bearish, soxx, clear, usual",
          "<b>Topic 2</b><br>Words: bearish, nvda, trade, stock, market",
          "<b>Topic 2</b><br>Words: buyer, gain, bearish, make, one",
          "<b>Topic 2</b><br>Words: trillion, red, packag, anticip, stimulu",
          "<b>Topic 2</b><br>Words: blind, sbux, everywher, retard, engulf",
          "<b>Topic 2</b><br>Words: daili, chart, bearish, look, bullish",
          "<b>Topic 2</b><br>Words: grown, normal, fast, super, much",
          "<b>Topic 2</b><br>Words: bearish, bullish, nvda, trade, stock",
          "<b>Topic 2</b><br>Words: reason, right, bullish, nvda, trade",
          "<b>Topic 2</b><br>Words: bearish, nvda, trade, stock, market",
          "<b>Topic 2</b><br>Words: rio, couldnt, reject, pass, ba",
          "<b>Topic 2</b><br>Words: bound, statement, fed, rang, weekend",
          "<b>Topic 2</b><br>Words: aapl, bullish, nvda, trade, stock",
          "<b>Topic 2</b><br>Words: darva, ideal, trendlin, light, beauti",
          "<b>Topic 2</b><br>Words: big, bullish, nvda, trade, stock",
          "<b>Topic 2</b><br>Words: tank, want, look, like, bullish",
          "<b>Topic 2</b><br>Words: diverg, doubl, top, bearish, nvda",
          "<b>Topic 2</b><br>Words: show, us, lower, run, posit",
          "<b>Topic 2</b><br>Words: slightli, limit, rip, minut, real",
          "<b>Topic 2</b><br>Words: ooooohh, root, sox, frame, bullish",
          "<b>Topic 2</b><br>Words: durat, riskreward, imho, chart, rare",
          "<b>Topic 2</b><br>Words: nat, lv, familiar, sweeper, lean",
          "<b>Topic 2</b><br>Words: engulf, weekli, bearish, next, nvda",
          "<b>Topic 2</b><br>Words: breakdown, bearish, weak, yet, watch",
          "<b>Topic 2</b><br>Words: rethink, side, could, week, bullish",
          "<b>Topic 2</b><br>Words: overhead, vwap, amd, target, bullish",
          "<b>Topic 2</b><br>Words: sideway, overal, might, red, swing",
          "<b>Topic 2</b><br>Words: steam, bet, pick, bullish, end",
          "<b>Topic 2</b><br>Words: hourli, bar, diverg, engulf, bearish",
          "<b>Topic 2</b><br>Words: diverg, would, bearish, one, short",
          "<b>Topic 2</b><br>Words: bearish, next, week, bullish, nvda",
          "<b>Topic 2</b><br>Words: que, cramer, earn, that, lol",
          "<b>Topic 2</b><br>Words: storm, bullish, perfect, solid, extrem",
          "<b>Topic 2</b><br>Words: green, bullish, red, headless, ah",
          "<b>Topic 2</b><br>Words: cute, spoiler, perfectli, theyr, act",
          "<b>Topic 2</b><br>Words: prevent, engulf, candl, reach, possibl",
          "<b>Topic 2</b><br>Words: place, baba, bottom, bullish, msft",
          "<b>Topic 2</b><br>Words: setup, sooooo, marshmallow, converg, neither",
          "<b>Topic 2</b><br>Words: bullish, chart, look, long, nvda",
          "<b>Topic 2</b><br>Words: ccl, flow, top, amzn, aapl",
          "<b>Topic 2</b><br>Words: mood, night, baba, swing, close",
          "<b>Topic 2</b><br>Words: fidel, websit, bullish, nvda, trade",
          "<b>Topic 2</b><br>Words: cri, later, upsid, imo, thank",
          "<b>Topic 2</b><br>Words: bullish, nvda, trade, stock, market",
          "<b>Topic 2</b><br>Words: ifwhen, puls, reach, dip, bullish",
          "<b>Topic 2</b><br>Words: bullish, nvda, trade, stock, market",
          "<b>Topic 2</b><br>Words: diverg, althou, gsx, decreas, dkng",
          "<b>Topic 2</b><br>Words: candl, rut, hourli, engulf, becom",
          "<b>Topic 2</b><br>Words: channel, rut, otwswatchlist, head, daili",
          "<b>Topic 2</b><br>Words: lighten, select, goog, flow, work",
          "<b>Topic 2</b><br>Words: fl, abc, outsid, bar, engulf",
          "<b>Topic 2</b><br>Words: flow, nflx, msft, top, amzn",
          "<b>Topic 2</b><br>Words: unlimit, safest, forese, sight, meaning",
          "<b>Topic 2</b><br>Words: still, bullish, nvda, trade, stock",
          "<b>Topic 2</b><br>Words: bro, green, rock, discount, technic",
          "<b>Topic 2</b><br>Words: foppish, readi, otwswatchlist, prime, drop",
          "<b>Topic 2</b><br>Words: wkh, itll, tuesday, predict, technic",
          "<b>Topic 2</b><br>Words: obsv, ba, monday, green, trade",
          "<b>Topic 2</b><br>Words: omg, thing, bullish, nvda, trade",
          "<b>Topic 2</b><br>Words: barley, uptrend, where, riskreward, green",
          "<b>Topic 2</b><br>Words: bac, sq, flow, fb, top",
          "<b>Topic 2</b><br>Words: cheddar, bullish, squeez, stay, lot",
          "<b>Topic 2</b><br>Words: xom, uber, sq, flow, top",
          "<b>Topic 2</b><br>Words: underway, dell, jpm, revers, googl",
          "<b>Topic 2</b><br>Words: diverg, flow, daili, bullish, nvda",
          "<b>Topic 2</b><br>Words: fking, mu, opposit, other, red",
          "<b>Topic 2</b><br>Words: curiou, green, expect, today, trade",
          "<b>Topic 2</b><br>Words: engin, sound, soxx, lead, fire",
          "<b>Topic 2</b><br>Words: pin, anyth, later, sure, still",
          "<b>Topic 2</b><br>Words: riskreward, realtim, tight, flag, monster",
          "<b>Topic 2</b><br>Words: engulf, daili, chart, bearish, nvda",
          "<b>Topic 2</b><br>Words: today, bullish, nvda, trade, stock",
          "<b>Topic 2</b><br>Words: microsoft, crossov, macd, broke, other",
          "<b>Topic 2</b><br>Words: hahahahah, tank, bought, call, bullish",
          "<b>Topic 2</b><br>Words: ah, afraid, vision, small, feel",
          "<b>Topic 2</b><br>Words: diverg, bearish, nvda, trade, stock",
          "<b>Topic 2</b><br>Words: wharton, tina, seigel, jeremi, professor",
          "<b>Topic 2</b><br>Words: bullish, rgen, bll, hahah, fam",
          "<b>Topic 2</b><br>Words: bullish, armh, flow, optionsflow, rush",
          "<b>Topic 2</b><br>Words: condor, bia, bullish, bearish, green",
          "<b>Topic 2</b><br>Words: enact, intrins, code, unemploy, sooner",
          "<b>Topic 2</b><br>Words: abcd, super, bullish, caution, reenter",
          "<b>Topic 2</b><br>Words: bullish, nvda, trade, stock, market",
          "<b>Topic 2</b><br>Words: oxi, bidu, pin, simpli, super",
          "<b>Topic 2</b><br>Words: nio, baba, flow, bullish, fb",
          "<b>Topic 2</b><br>Words: attitud, differ, bad, stay, day",
          "<b>Topic 2</b><br>Words: wildli, yup, intact, highli, uptrend",
          "<b>Topic 2</b><br>Words: reveal, leak, card, got, term",
          "<b>Topic 2</b><br>Words: fantast, wmt, pin, aapl, momentum",
          "<b>Topic 2</b><br>Words: soldier, flow, lmt, optionsflow, scoop",
          "<b>Topic 2</b><br>Words: insid, widow, three, bullish, she",
          "<b>Topic 2</b><br>Words: mild, hk, shanghai, japanes, red",
          "<b>Topic 2</b><br>Words: think, second, thursday, cut, loss",
          "<b>Topic 2</b><br>Words: tho, crash, probabl, monday, hope",
          "<b>Topic 2</b><br>Words: vs, 𝐖ednesday, 𝐓uesday, 𝐌onday, 𝐅riday",
          "<b>Topic 2</b><br>Words: vs, 𝐖ednesday, 𝐅riday, 𝐌onday, 𝐓uesday",
          "<b>Topic 2</b><br>Words: dilut, term, super, due, bullish",
          "<b>Topic 2</b><br>Words: slv, optionsflow, dkng, caught, spot",
          "<b>Topic 2</b><br>Words: instagram, check, free, play, bullish",
          "<b>Topic 2</b><br>Words: dal, bullish, longterm, bottom, set",
          "<b>Topic 2</b><br>Words: macdrsi, stochast, hr, mu, diverg",
          "<b>Topic 2</b><br>Words: pierc, candl, pattern, patter, twoday",
          "<b>Topic 2</b><br>Words: paa, idex, havent, heard, welcom",
          "<b>Topic 2</b><br>Words: pdd, crsr, pton, zm, ba",
          "<b>Topic 2</b><br>Words: still, bullish, nvda, trade, stock",
          "<b>Topic 2</b><br>Words: tt, scorp, mtm, account, method",
          "<b>Topic 2</b><br>Words: anyon, bullish, tomorrow, nvda, trade",
          "<b>Topic 2</b><br>Words: midweek, ipostsign, sail, laggard, boss",
          "<b>Topic 2</b><br>Words: dayvid, joealert, subject, rkt, well",
          "<b>Topic 2</b><br>Words: that, let, bullish, nvda, trade",
          "<b>Topic 2</b><br>Words: leaderboard, trophi, biggest, session, full",
          "<b>Topic 2</b><br>Words: dish, scanner, sweeper, shouldv, bullish",
          "<b>Topic 2</b><br>Words: wow, super, cant, pt, bullish",
          "<b>Topic 2</b><br>Words: strike, pissant, outfit, somebodi, runup",
          "<b>Topic 2</b><br>Words: flow, nflx, green, msft, top",
          "<b>Topic 2</b><br>Words: anyon, feel, bearish, nvda, trade",
          "<b>Topic 2</b><br>Words: fsli, jd, lrcx, flow, top",
          "<b>Topic 2</b><br>Words: alien, instagram, discord, live, green",
          "<b>Topic 2</b><br>Words: tannerb, bullish, nvda, trade, stock",
          "<b>Topic 2</b><br>Words: coup, xom, flow, top, aapl",
          "<b>Topic 2</b><br>Words: eog, snap, zm, baba, flow",
          "<b>Topic 2</b><br>Words: hyenacorp, greenweekend, underwat, exagger, breakeven",
          "<b>Topic 2</b><br>Words: fck, aal, taiwan, twtr, denseanddumb",
          "<b>Topic 2</b><br>Words: pattern, realtim, refer, higher, setup",
          "<b>Topic 2</b><br>Words: nio, flow, top, amzn, tsla",
          "<b>Topic 2</b><br>Words: alien, discord, live, bullish, nvda",
          "<b>Topic 2</b><br>Words: crossov, macd, rsi, breakout, also",
          "<b>Topic 2</b><br>Words: blither, hurri, twat, dust, clueless",
          "<b>Topic 2</b><br>Words: revers, incom, amd, start, expect",
          "<b>Topic 2</b><br>Words: deal, worh, chatter, navi, week",
          "<b>Topic 2</b><br>Words: robinhoodtrad, fuell, herb, stockpick, product",
          "<b>Topic 2</b><br>Words: that, flow, close, like, bullish",
          "<b>Topic 2</b><br>Words: brew, tqqq, dog, denseanddumb, grifmast",
          "<b>Topic 2</b><br>Words: million, epd, bearish, flow, optionspastor",
          "<b>Topic 2</b><br>Words: sweep, call, bullish, bearish, ping",
          "<b>Topic 2</b><br>Words: engulf, candl, bearish, nvda, trade",
          "<b>Topic 2</b><br>Words: tue, mon, declin, littl, friday",
          "<b>Topic 2</b><br>Words: draper, hors, discov, associ, mf",
          "<b>Topic 2</b><br>Words: garbag, except, green, tech, stock",
          "<b>Topic 2</b><br>Words: public, servic, min, chart, bearish",
          "<b>Topic 2</b><br>Words: machin, leader, learn, feel, bullish",
          "<b>Topic 2</b><br>Words: block, bounc, support, bullish, nvda",
          "<b>Topic 2</b><br>Words: protect, still, bullish, nvda, trade",
          "<b>Topic 2</b><br>Words: gone, daytrad, premarket, monday, mean",
          "<b>Topic 2</b><br>Words: serious, shop, bullish, stock, nvda",
          "<b>Topic 2</b><br>Words: ane, babe, ag, iwm, ahead",
          "<b>Topic 2</b><br>Words: uoa, bullish, nvda, trade, stock",
          "<b>Topic 2</b><br>Words: pfe, uber, flow, fb, top",
          "<b>Topic 2</b><br>Words: peripheralhardwar, goodwil, cmon, equip, atvi",
          "<b>Topic 2</b><br>Words: quotdinosaursquot, shant, economyquot, trex, quotnew",
          "<b>Topic 2</b><br>Words: detect, bet, dark, pool, fire",
          "<b>Topic 2</b><br>Words: bet, come, bullish, nvda, trade",
          "<b>Topic 2</b><br>Words: red, green, come, day, stock",
          "<b>Topic 2</b><br>Words: next, week, bullish, nvda, trade",
          "<b>Topic 2</b><br>Words: christma, boom, flag, consolid, bullish",
          "<b>Topic 2</b><br>Words: longterm, solid, fundament, consolid, add",
          "<b>Topic 2</b><br>Words: coupl, next, week, bullish, nvda",
          "<b>Topic 2</b><br>Words: xlnx, mayb, intc, bearish, bullish",
          "<b>Topic 2</b><br>Words: sweeper, bullish, bsx, slv, flow",
          "<b>Topic 2</b><br>Words: sweeper, bet, morn, bullish, see",
          "<b>Topic 2</b><br>Words: georgia, dem, wors, win, gon",
          "<b>Topic 2</b><br>Words: nio, blow, think, massiv, get",
          "<b>Topic 2</b><br>Words: cla, lidar, power, tommorrow, cheapest",
          "<b>Topic 2</b><br>Words: good, test, long, probabl, close",
          "<b>Topic 2</b><br>Words: tf, signalweek, daili, wedg, pattern",
          "<b>Topic 2</b><br>Words: fkn, realtim, particip, exactli, tomorrow",
          "<b>Topic 2</b><br>Words: gross, bullish, nvda, trade, stock",
          "<b>Topic 2</b><br>Words: afterbefor, extrem, fb, earn, bullish",
          "<b>Topic 2</b><br>Words: stoch, narrow, coil, brainer, immin",
          "<b>Topic 2</b><br>Words: suba, quotboomerquot, wash, harami, break",
          "<b>Topic 2</b><br>Words: worm, heart, tough, turn, red",
          "<b>Topic 2</b><br>Words: bolling, band, movement, consolid, wait",
          "<b>Topic 2</b><br>Words: vix, shaken, red, peac, green",
          "<b>Topic 2</b><br>Words: ark, matter, ever, bullish, buy",
          "<b>Topic 2</b><br>Words: pika, sweeper, tip, bullish, dd",
          "<b>Topic 2</b><br>Words: bullish, nvda, trade, stock, market",
          "<b>Topic 2</b><br>Words: format, pattern, weekli, bullish, nvda",
          "<b>Topic 2</b><br>Words: bullish, detect, npa, daywel, flow",
          "<b>Topic 2</b><br>Words: tread, harami, nervou, im, technic",
          "<b>Topic 2</b><br>Words: green, ih, bet, darva, bullish",
          "<b>Topic 2</b><br>Words: close, bullish, nvda, trade, stock",
          "<b>Topic 2</b><br>Words: slavetotheneedl, pretti, um, spit, portion",
          "<b>Topic 2</b><br>Words: ba, two, green, portfolio, today",
          "<b>Topic 2</b><br>Words: bounci, cciv, lean, pivot, bullish",
          "<b>Topic 2</b><br>Words: lt, absolut, action, reason, friday",
          "<b>Topic 2</b><br>Words: nkla, bynd, star, guy, qqq",
          "<b>Topic 2</b><br>Words: he, individu, talk, green, still",
          "<b>Topic 2</b><br>Words: bullish, nvda, trade, stock, market",
          "<b>Topic 2</b><br>Words: bullish, tepid, win, sa, nclh",
          "<b>Topic 2</b><br>Words: worthi, uber, fade, bullish, pltr",
          "<b>Topic 2</b><br>Words: draw, random, somebodi, clear, sign",
          "<b>Topic 2</b><br>Words: baffl, deep, except, entir, watchlist",
          "<b>Topic 2</b><br>Words: meltup, semi, suffer, shortli, charg",
          "<b>Topic 2</b><br>Words: cretin, green, giant, day, patienc",
          "<b>Topic 2</b><br>Words: someth, ya, part, msft, amzn",
          "<b>Topic 2</b><br>Words: walgo, btw, mess, april, ok",
          "<b>Topic 2</b><br>Words: diverg, sign, show, bullish, nvda",
          "<b>Topic 2</b><br>Words: bare, neutral, bullish, rsi, fall",
          "<b>Topic 2</b><br>Words: detect, bet, bullish, nvda, trade",
          "<b>Topic 2</b><br>Words: detect, key, toward, lead, bet",
          "<b>Topic 2</b><br>Words: bullish, sweeper, beauti, ticker, pattern",
          "<b>Topic 2</b><br>Words: signal, tow, aroon, mcclellan, linear",
          "<b>Topic 2</b><br>Words: green, wit, earth, everywher, part",
          "<b>Topic 2</b><br>Words: blame, presid, babi, new, still",
          "<b>Topic 2</b><br>Words: detect, bet, call, bullish, nvda",
          "<b>Topic 2</b><br>Words: eoq, rebalanc, friend, luck, hope",
          "<b>Topic 2</b><br>Words: caution, setup, weekli, daili, nice",
          "<b>Topic 2</b><br>Words: sweep, beauti, bullish, nvda, trade",
          "<b>Topic 2</b><br>Words: sweeper, finish, beauti, bullish, bearish",
          "<b>Topic 2</b><br>Words: bac, crm, sq, flow, msft",
          "<b>Topic 2</b><br>Words: old, setup, test, upsid, love",
          "<b>Topic 2</b><br>Words: slack, spiral, qs, abc, nut",
          "<b>Topic 2</b><br>Words: xpev, goog, flow, box, top",
          "<b>Topic 2</b><br>Words: drill, jet, crsp, propel, green",
          "<b>Topic 2</b><br>Words: twix, bullish, detect, bet, breakout",
          "<b>Topic 2</b><br>Words: esix, abc, pattern, bullish, post",
          "<b>Topic 2</b><br>Words: esixrev, gawd, spiral, abc, pattern",
          "<b>Topic 2</b><br>Words: quotbig, vari, stocksquot, shorter, shown",
          "<b>Topic 2</b><br>Words: hpq, flow, msft, top, amzn",
          "<b>Topic 2</b><br>Words: america, bank, tsm, intc, bearish",
          "<b>Topic 2</b><br>Words: convict, sweep, strike, apr, eow",
          "<b>Topic 2</b><br>Words: uptick, bet, see, bullish, nvda",
          "<b>Topic 2</b><br>Words: engulf, develop, test, support, min",
          "<b>Topic 2</b><br>Words: consolid, line, imo, stay, day",
          "<b>Topic 2</b><br>Words: perceiv, overpr, exampl, favorit, bubbl",
          "<b>Topic 2</b><br>Words: bullish, nvda, trade, stock, market",
          "<b>Topic 2</b><br>Words: bloodbath, grind, reject, ball, thru",
          "<b>Topic 2</b><br>Words: notic, ratio, roku, sq, turn",
          "<b>Topic 2</b><br>Words: green, bntx, lol, struggl, anybodi",
          "<b>Topic 2</b><br>Words: head, look, week, earn, bullish",
          "<b>Topic 2</b><br>Words: knowital, hella, light, oh, flow",
          "<b>Topic 2</b><br>Words: curl, cajuli, juici, fairli, chart",
          "<b>Topic 2</b><br>Words: bullish, esix, spiral, abc, rev",
          "<b>Topic 2</b><br>Words: wednesday, bearish, think, earn, bullish",
          "<b>Topic 2</b><br>Words: managerofrisk, somewher, wednesday, sit, pop",
          "<b>Topic 2</b><br>Words: bullish, spce, btx, rethink, tad",
          "<b>Topic 2</b><br>Words: stocksplit, bearish, flow, bullish, zs",
          "<b>Topic 2</b><br>Words: green, convert, optim, got, strang",
          "<b>Topic 2</b><br>Words: detect, pattern, bullish, mat, sweeper",
          "<b>Topic 2</b><br>Words: hmbl, hcmc, amc, ath, bullish",
          "<b>Topic 2</b><br>Words: earningsreact, stat, darva, box, stuff",
          "<b>Topic 2</b><br>Words: slb, cvna, esix, spiral, fubo",
          "<b>Topic 2</b><br>Words: anymor, bullish, gld, esix, spiral",
          "<b>Topic 2</b><br>Words: bullish, pattern, bp, flow, megaphon",
          "<b>Topic 2</b><br>Words: esix, spiral, abc, rev, pattern",
          "<b>Topic 2</b><br>Words: esix, spiral, abc, structur, rev",
          "<b>Topic 2</b><br>Words: quash, investingtrad, final, affirm, fabul",
          "<b>Topic 2</b><br>Words: pm, hang, joke, bearish, panic",
          "<b>Topic 2</b><br>Words: pship, wisdom, hr, need, bb",
          "<b>Topic 2</b><br>Words: amp, harami, bearish, pointer, chart",
          "<b>Topic 2</b><br>Words: roc, cmlf, altria, hard, esix",
          "<b>Topic 2</b><br>Words: nut, big, june, head, gain",
          "<b>Topic 2</b><br>Words: sunw, detect, af, bet, bullish",
          "<b>Topic 2</b><br>Words: foh, dt, may, iwm, cent",
          "<b>Topic 2</b><br>Words: esix, spiral, abc, rev, channel",
          "<b>Topic 2</b><br>Words: shortsight, bullish, massiv, ima, gorilla",
          "<b>Topic 2</b><br>Words: lfg, shoot, left, usual, super",
          "<b>Topic 2</b><br>Words: bearish, flat, sinc, elliot, pattern",
          "<b>Topic 2</b><br>Words: niu, ayro, bullish, arkq, weekli",
          "<b>Topic 2</b><br>Words: greener, ravich, heheh, newsflash, go",
          "<b>Topic 2</b><br>Words: af, doubl, pull, bullish, continu",
          "<b>Topic 2</b><br>Words: chark, crack, bearish, post, hold",
          "<b>Topic 2</b><br>Words: plain, powerhous, simpl, bearish, enjoy",
          "<b>Topic 2</b><br>Words: bearish, nq, green, tmrw, horizon",
          "<b>Topic 2</b><br>Words: bullish, amp, green, tdsequenti, forsur",
          "<b>Topic 2</b><br>Words: thankin, bullish, detect, yall, split",
          "<b>Topic 2</b><br>Words: bobpopbob, pattern, bullish, esix, spiral",
          "<b>Topic 2</b><br>Words: crbtf, rr, bullish, invalid, green",
          "<b>Topic 2</b><br>Words: candl, engulf, bearish, bullish, flame",
          "<b>Topic 2</b><br>Words: patterncandlestick, candl, bullish, abandon, green",
          "<b>Topic 2</b><br>Words: limp, may, cmon, tqqq, hammer",
          "<b>Topic 2</b><br>Words: detect, bet, bullish, nvda, trade",
          "<b>Topic 2</b><br>Words: exp, flow, bullish, msft, top",
          "<b>Topic 2</b><br>Words: bullish, jerom, mega, speak, powel",
          "<b>Topic 2</b><br>Words: overstay, fallen, vldr, esix, spiral",
          "<b>Topic 2</b><br>Words: green, wouldnt, bullish, af, excit",
          "<b>Topic 2</b><br>Words: crow, wash, black, roll, downsid",
          "<b>Topic 2</b><br>Words: bullish, stock, nvda, trade, market",
          "<b>Topic 2</b><br>Words: green, denseanddumb, grifmast, alljackedup, oliwood",
          "<b>Topic 2</b><br>Words: red, nistock, mmmmmega, masher, xd",
          "<b>Topic 2</b><br>Words: detect, bullish, aapl, amzn, nuff",
          "<b>Topic 2</b><br>Words: wari, bullish, evid, hammer, decid",
          "<b>Topic 2</b><br>Words: netcloudflar, fk, bullish, green, ultra",
          "<b>Topic 2</b><br>Words: dcrdanielr, af, pass, along, also",
          "<b>Topic 2</b><br>Words: beke, tal, drift, gift, surpris",
          "<b>Topic 2</b><br>Words: oppti, pink, invalid, bia, exist",
          "<b>Topic 2</b><br>Words: ultra, bullish, close, think, make",
          "<b>Topic 2</b><br>Words: tent, mmat, ultra, conductor, wild",
          "<b>Topic 2</b><br>Words: forver, bullish, amd, nvda, trade",
          "<b>Topic 2</b><br>Words: territori, er, destroy, highli, denseanddumb",
          "<b>Topic 2</b><br>Words: warn, chargeeeeeeeeeee, lxrx, woof, teaser",
          "<b>Topic 2</b><br>Words: decay, hit, tune, grifmast, denseanddumb",
          "<b>Topic 2</b><br>Words: finish, uber, neutral, els, break",
          "<b>Topic 2</b><br>Words: buyingvolum, bntx, coin, flow, increas",
          "<b>Topic 2</b><br>Words: pag, bullish, green, ultim, twlo",
          "<b>Topic 2</b><br>Words: period, bullish, chart, time, nvda",
          "<b>Topic 2</b><br>Words: jitter, diverg, bearish, earn, bullish",
          "<b>Topic 2</b><br>Words: open, accdi, imo, green, weigh",
          "<b>Topic 2</b><br>Words: bullish, green, earn, af, nvdaamdnasdaq",
          "<b>Topic 2</b><br>Words: bullish, super, bearish, green, frln",
          "<b>Topic 2</b><br>Words: investorsbusinessdailyy, ibdinvestor, swingtrad, ibdpartn, sweeper",
          "<b>Topic 2</b><br>Words: immin, aggress, seem, yesterday, continu",
          "<b>Topic 2</b><br>Words: kiss, ibdpartn, marketsmith, cup, handl",
          "<b>Topic 2</b><br>Words: bullish, adimxim, jacksonhol, heheh, trad",
          "<b>Topic 2</b><br>Words: bullish, slingshot, hottest, spiral, anoth",
          "<b>Topic 2</b><br>Words: vibe, breather, bullish, tire, scream",
          "<b>Topic 2</b><br>Words: chartfart, undoubtedli, sprt, downturn, crack",
          "<b>Topic 2</b><br>Words: denseanddumb, grifmast, alljackedup, oliwood, traderleibniz",
          "<b>Topic 2</b><br>Words: bearish, bullish, amd, nvda, trade",
          "<b>Topic 2</b><br>Words: hidden, diverg, bearish, sign, daili",
          "<b>Topic 2</b><br>Words: wooo, tell, bullish, option, money",
          "<b>Topic 2</b><br>Words: bearish, nvda, trade, stock, market",
          "<b>Topic 2</b><br>Words: inflowoutflow, burger, noth, sprt, green",
          "<b>Topic 2</b><br>Words: btbt, doe, supercomput, jd, engulf",
          "<b>Topic 2</b><br>Words: bullish, nvda, trade, stock, market",
          "<b>Topic 2</b><br>Words: bullish, nvda, trade, stock, market",
          "<b>Topic 2</b><br>Words: store, pocket, pivot, action, swing",
          "<b>Topic 2</b><br>Words: bearish, hella, doji, food, btw",
          "<b>Topic 2</b><br>Words: bullish, yeti, fl, nvda, super",
          "<b>Topic 2</b><br>Words: react, bearish, worri, imo, friday",
          "<b>Topic 2</b><br>Words: intact, structur, stronger, rel, channel",
          "<b>Topic 2</b><br>Words: aggress, cover, reflect, ruko, accumul",
          "<b>Topic 2</b><br>Words: bullish, nvda, trade, stock, market",
          "<b>Topic 2</b><br>Words: green, good, wind, abil, digest",
          "<b>Topic 2</b><br>Words: green, oversel, breakup, lite, witch",
          "<b>Topic 2</b><br>Words: bearish, nvda, trade, stock, market",
          "<b>Topic 2</b><br>Words: candlestick, abandon, babi, monster, confirm",
          "<b>Topic 2</b><br>Words: spxl, aal, snap, what, flow",
          "<b>Topic 2</b><br>Words: srpt, qs, flow, bullish, qqq",
          "<b>Topic 2</b><br>Words: pattern, flag, pole, parallel, sharp",
          "<b>Topic 2</b><br>Words: bullish, green, emmm, suspend, supplier",
          "<b>Topic 2</b><br>Words: eod, channel, bullish, tomorrow, close",
          "<b>Topic 2</b><br>Words: ass, your, sad, loos, welcom",
          "<b>Topic 2</b><br>Words: annoy, symbol, opinion, shit, stop",
          "<b>Topic 2</b><br>Words: sava, pypl, bot, profession, lunch",
          "<b>Topic 2</b><br>Words: super, bullish, nvda, trade, stock",
          "<b>Topic 2</b><br>Words: bearish, bullish, nvda, trade, stock",
          "<b>Topic 2</b><br>Words: color, site, suck, favorit, pretti",
          "<b>Topic 2</b><br>Words: xom, gm, sq, flow, top",
          "<b>Topic 2</b><br>Words: atvi, amp, soni, bullish, xlk",
          "<b>Topic 2</b><br>Words: bullish, nvda, trade, stock, market",
          "<b>Topic 2</b><br>Words: aaa, unchang, bullish, sweeper, detect",
          "<b>Topic 2</b><br>Words: curl, coti, macd, bullish, rsi",
          "<b>Topic 2</b><br>Words: macd, cross, rsi, bullish, strong",
          "<b>Topic 2</b><br>Words: swing, dip, watch, run, back",
          "<b>Topic 2</b><br>Words: engulf, print, larg, bearish, nvda",
          "<b>Topic 2</b><br>Words: ts, bed, sh, drag, intc",
          "<b>Topic 2</b><br>Words: engulf, turn, bullish, around, go",
          "<b>Topic 2</b><br>Words: shenanigan, sweat, flow, bullish, dont",
          "<b>Topic 2</b><br>Words: predictpric, bksi, king, grifmast, denseanddumb",
          "<b>Topic 2</b><br>Words: darva, breakout, box, averag, green",
          "<b>Topic 2</b><br>Words: fightingboy, bullish, oh, almost, least",
          "<b>Topic 2</b><br>Words: ponysoldi, earn, go, bullish, nvda",
          "<b>Topic 2</b><br>Words: darva, breakout, box, green, big",
          "<b>Topic 2</b><br>Words: bullish, tippi, top, revers, linear",
          "<b>Topic 2</b><br>Words: bkkt, bullish, af, scare, away",
          "<b>Topic 2</b><br>Words: bkkt, delusion, bullish, cup, handl",
          "<b>Topic 2</b><br>Words: bullish, grifmast, denseanddumb, alljackedup, oliwood",
          "<b>Topic 2</b><br>Words: whooop, graveston, quotoverboughtquot, trait, revers",
          "<b>Topic 2</b><br>Words: event, bullish, cours, news, sell",
          "<b>Topic 2</b><br>Words: bullish, btig, easiest, ox, abnb",
          "<b>Topic 2</b><br>Words: bullish, open, fall, mcclellan, linear",
          "<b>Topic 2</b><br>Words: bullish, bearish, end, smart, term",
          "<b>Topic 2</b><br>Words: super, everyth, bullish, nvda, trade",
          "<b>Topic 2</b><br>Words: your, northland, fk, dumbass, steal",
          "<b>Topic 2</b><br>Words: your, soxl, major, correct, chip",
          "<b>Topic 2</b><br>Words: bullish, er, even, bearish, still",
          "<b>Topic 2</b><br>Words: bullish, binari, dare, blindli, traderleibniz",
          "<b>Topic 2</b><br>Words: bullish, bearish, earn, nvda, grifmast",
          "<b>Topic 2</b><br>Words: bullish, bearish, overbought, amp, top",
          "<b>Topic 2</b><br>Words: flow, graph, degre, begun, path",
          "<b>Topic 2</b><br>Words: bullish, head, flow, invert, fb",
          "<b>Topic 2</b><br>Words: bullish, zone, vld, dnn, jpow",
          "<b>Topic 2</b><br>Words: bullish, di, rippin, green, entertain",
          "<b>Topic 2</b><br>Words: bullish, nvda, trade, stock, market",
          "<b>Topic 2</b><br>Words: patern, limb, bullish, crack, engulf",
          "<b>Topic 2</b><br>Words: bullish, yesssss, uptick, putcal, sweeper",
          "<b>Topic 2</b><br>Words: bullish, pampf, resolv, first, theori",
          "<b>Topic 2</b><br>Words: hoff, cowboy, far, rob, suppos",
          "<b>Topic 2</b><br>Words: bullish, green, sacrific, righteous, mash",
          "<b>Topic 2</b><br>Words: bullish, su, stockwit, carnag, lotteri",
          "<b>Topic 2</b><br>Words: bullish, nvda, marker, ipostsign, baba",
          "<b>Topic 2</b><br>Words: bullish, pinbar, stealth, recaptur, retak",
          "<b>Topic 2</b><br>Words: bullish, disappoint, super, though, still",
          "<b>Topic 2</b><br>Words: bearish, marketbal, bullish, til, sheet",
          "<b>Topic 2</b><br>Words: alllll, soak, grifmast, denseanddumb, alljackedup",
          "<b>Topic 2</b><br>Words: bullish, goddamit, sunsbitch, ape, retard",
          "<b>Topic 2</b><br>Words: supportingbuy, shrug, bullish, green, usd",
          "<b>Topic 2</b><br>Words: green, indi, simpl, whole, read",
          "<b>Topic 2</b><br>Words: semicondutor, std, befel, weekl, undo",
          "<b>Topic 2</b><br>Words: fud, cent, bearish, must, guy",
          "<b>Topic 2</b><br>Words: bullish, weeksstil, aap, where, ripe",
          "<b>Topic 2</b><br>Words: triangl, santa, expand, bearish, recent",
          "<b>Topic 2</b><br>Words: fibo, bullish, jenson, ce, tute",
          "<b>Topic 2</b><br>Words: foooooook, jenson, ce, bullish, cramer",
          "<b>Topic 2</b><br>Words: bullish, ichimoku, brake, flow, mp",
          "<b>Topic 2</b><br>Words: bullish, overdu, af, anoth, nvda",
          "<b>Topic 2</b><br>Words: bullish, rskd, fkg, wynn, nvda",
          "<b>Topic 2</b><br>Words: bullish, flag, day, launchpad, alllll",
          "<b>Topic 2</b><br>Words: macd, cross, look, far, set",
          "<b>Topic 2</b><br>Words: wedg, pole, flag, readi, ath",
          "<b>Topic 2</b><br>Words: pt, bearish, look, nvda, trade",
          "<b>Topic 2</b><br>Words: bullish, gree, bulltrap, ladder, carri",
          "<b>Topic 2</b><br>Words: bullish, sweep, green, heikinashi, over",
          "<b>Topic 2</b><br>Words: bullish, tkptrader, vti, darkpool, buddi",
          "<b>Topic 2</b><br>Words: bullish, madman, csnt, harami, tbh",
          "<b>Topic 2</b><br>Words: bullish, bearish, daili, rug, gift",
          "<b>Topic 2</b><br>Words: stonecoldstevepep, serv, calm, im, wtf",
          "<b>Topic 2</b><br>Words: bearish, nvda, trade, stock, market",
          "<b>Topic 2</b><br>Words: gap, bullish, green, red, today",
          "<b>Topic 2</b><br>Words: bearish, mrk, delusion, pant, tmr",
          "<b>Topic 2</b><br>Words: bbyyyy, asf, crap, bullish, deep",
          "<b>Topic 2</b><br>Words: gap, bullish, nov, hmmmmmmmmmm, soxxsmh",
          "<b>Topic 2</b><br>Words: strong, tomorrow, go, bullish, nvda",
          "<b>Topic 2</b><br>Words: stuck, bearish, bullish, hype, easi",
          "<b>Topic 2</b><br>Words: denseanddumb, grifmast, alljackedup, oliwood, traderleibniz",
          "<b>Topic 2</b><br>Words: drawdown, soxl, vwap, grifmast, alljackedup",
          "<b>Topic 2</b><br>Words: bearish, hmmmmmmmm, bullish, term, swan",
          "<b>Topic 2</b><br>Words: went, bullish, amd, nvda, trade",
          "<b>Topic 2</b><br>Words: flow, engulf, bearish, bullish, ichimoku",
          "<b>Topic 2</b><br>Words: bullish, aloooot, hodler, today, ot",
          "<b>Topic 2</b><br>Words: bullish, nvda, slap, ask, revers",
          "<b>Topic 2</b><br>Words: bullish, nuetral, invers, shoulder, nvda",
          "<b>Topic 2</b><br>Words: smh, flow, friday, msft, top",
          "<b>Topic 2</b><br>Words: bntx, flow, top, amzn, tsla",
          "<b>Topic 2</b><br>Words: aaplgoogmsft, retak, cop, yabadababoom, bullish",
          "<b>Topic 2</b><br>Words: bag, pleas, pick, green, portfolio",
          "<b>Topic 2</b><br>Words: sex, reposit, shall, highli, partner",
          "<b>Topic 2</b><br>Words: super, bullish, nvda, trade, stock",
          "<b>Topic 2</b><br>Words: bearish, bullish, thedipkeepsondip, fb, news",
          "<b>Topic 2</b><br>Words: af, bullish, nvda, mute, close",
          "<b>Topic 2</b><br>Words: daaaaang, daniel, bullish, onward, xle",
          "<b>Topic 2</b><br>Words: bullish, test, tm, youd, see",
          "<b>Topic 2</b><br>Words: rubi, zen, ual, pr, wed",
          "<b>Topic 2</b><br>Words: wed, spici, lotta, yabadababoom, opex",
          "<b>Topic 2</b><br>Words: yabadababoom, denseanddumb, grifmast, alljackedup, oliwood",
          "<b>Topic 2</b><br>Words: stochast, sourhour, clockwork, pointless, daili",
          "<b>Topic 2</b><br>Words: bullish, bearish, af, robot, top",
          "<b>Topic 2</b><br>Words: bullish, nvda, earn, wipsaw, green",
          "<b>Topic 2</b><br>Words: green, bullish, go, tomorrow, nvda",
          "<b>Topic 2</b><br>Words: green, spi, bullish, puke, flirt",
          "<b>Topic 2</b><br>Words: muh, shortag, thought, chip, bullish",
          "<b>Topic 2</b><br>Words: sark, ibbxbi, hdlow, cwebkweb, crvn",
          "<b>Topic 2</b><br>Words: indic, rang, support, strong, level",
          "<b>Topic 2</b><br>Words: bullish, spi, green, hyg, whose",
          "<b>Topic 2</b><br>Words: arqq, hood, bleed, scream, bullish",
          "<b>Topic 2</b><br>Words: goog, green, bullish, dvn, xle",
          "<b>Topic 2</b><br>Words: cyber, bullish, attack, nvda, ual",
          "<b>Topic 2</b><br>Words: afff, bullish, nvda, trade, stock",
          "<b>Topic 2</b><br>Words: indic, strong, tomorrow, look, day",
          "<b>Topic 2</b><br>Words: aff, bullish, strong, af, uptrend"
         ],
         "marker": {
          "color": "#009E73"
         },
         "mode": "lines",
         "name": "2_bullish_green_nvda_bearish",
         "type": "scatter",
         "x": [
          "2019-01-02T00:00:00.000000000",
          "2019-01-03T00:00:00.000000000",
          "2019-01-04T00:00:00.000000000",
          "2019-01-07T00:00:00.000000000",
          "2019-01-08T00:00:00.000000000",
          "2019-01-09T00:00:00.000000000",
          "2019-01-10T00:00:00.000000000",
          "2019-01-11T00:00:00.000000000",
          "2019-01-15T00:00:00.000000000",
          "2019-01-16T00:00:00.000000000",
          "2019-01-17T00:00:00.000000000",
          "2019-01-18T00:00:00.000000000",
          "2019-01-20T00:00:00.000000000",
          "2019-01-22T00:00:00.000000000",
          "2019-01-23T00:00:00.000000000",
          "2019-01-24T00:00:00.000000000",
          "2019-01-25T00:00:00.000000000",
          "2019-01-26T00:00:00.000000000",
          "2019-01-27T00:00:00.000000000",
          "2019-01-28T00:00:00.000000000",
          "2019-01-29T00:00:00.000000000",
          "2019-01-30T00:00:00.000000000",
          "2019-01-31T00:00:00.000000000",
          "2019-02-01T00:00:00.000000000",
          "2019-02-05T00:00:00.000000000",
          "2019-02-06T00:00:00.000000000",
          "2019-02-07T00:00:00.000000000",
          "2019-02-08T00:00:00.000000000",
          "2019-02-10T00:00:00.000000000",
          "2019-02-11T00:00:00.000000000",
          "2019-02-12T00:00:00.000000000",
          "2019-02-13T00:00:00.000000000",
          "2019-02-14T00:00:00.000000000",
          "2019-02-15T00:00:00.000000000",
          "2019-02-19T00:00:00.000000000",
          "2019-02-21T00:00:00.000000000",
          "2019-02-24T00:00:00.000000000",
          "2019-02-25T00:00:00.000000000",
          "2019-02-26T00:00:00.000000000",
          "2019-02-28T00:00:00.000000000",
          "2019-03-01T00:00:00.000000000",
          "2019-03-04T00:00:00.000000000",
          "2019-03-07T00:00:00.000000000",
          "2019-03-08T00:00:00.000000000",
          "2019-03-09T00:00:00.000000000",
          "2019-03-11T00:00:00.000000000",
          "2019-03-12T00:00:00.000000000",
          "2019-03-13T00:00:00.000000000",
          "2019-03-14T00:00:00.000000000",
          "2019-03-15T00:00:00.000000000",
          "2019-03-16T00:00:00.000000000",
          "2019-03-18T00:00:00.000000000",
          "2019-03-19T00:00:00.000000000",
          "2019-03-20T00:00:00.000000000",
          "2019-03-21T00:00:00.000000000",
          "2019-03-22T00:00:00.000000000",
          "2019-03-23T00:00:00.000000000",
          "2019-03-25T00:00:00.000000000",
          "2019-03-29T00:00:00.000000000",
          "2019-04-01T00:00:00.000000000",
          "2019-04-03T00:00:00.000000000",
          "2019-04-08T00:00:00.000000000",
          "2019-04-10T00:00:00.000000000",
          "2019-04-11T00:00:00.000000000",
          "2019-04-12T00:00:00.000000000",
          "2019-04-15T00:00:00.000000000",
          "2019-04-16T00:00:00.000000000",
          "2019-04-17T00:00:00.000000000",
          "2019-04-18T00:00:00.000000000",
          "2019-04-22T00:00:00.000000000",
          "2019-04-23T00:00:00.000000000",
          "2019-04-24T00:00:00.000000000",
          "2019-04-25T00:00:00.000000000",
          "2019-04-26T00:00:00.000000000",
          "2019-04-29T00:00:00.000000000",
          "2019-04-30T00:00:00.000000000",
          "2019-05-01T00:00:00.000000000",
          "2019-05-02T00:00:00.000000000",
          "2019-05-03T00:00:00.000000000",
          "2019-05-05T00:00:00.000000000",
          "2019-05-06T00:00:00.000000000",
          "2019-05-07T00:00:00.000000000",
          "2019-05-08T00:00:00.000000000",
          "2019-05-09T00:00:00.000000000",
          "2019-05-10T00:00:00.000000000",
          "2019-05-14T00:00:00.000000000",
          "2019-05-15T00:00:00.000000000",
          "2019-05-16T00:00:00.000000000",
          "2019-05-17T00:00:00.000000000",
          "2019-05-23T00:00:00.000000000",
          "2019-05-24T00:00:00.000000000",
          "2019-05-29T00:00:00.000000000",
          "2019-05-30T00:00:00.000000000",
          "2019-05-31T00:00:00.000000000",
          "2019-06-03T00:00:00.000000000",
          "2019-06-04T00:00:00.000000000",
          "2019-06-05T00:00:00.000000000",
          "2019-06-06T00:00:00.000000000",
          "2019-06-07T00:00:00.000000000",
          "2019-06-17T00:00:00.000000000",
          "2019-06-18T00:00:00.000000000",
          "2019-06-19T00:00:00.000000000",
          "2019-06-20T00:00:00.000000000",
          "2019-06-21T00:00:00.000000000",
          "2019-06-25T00:00:00.000000000",
          "2019-06-26T00:00:00.000000000",
          "2019-06-27T00:00:00.000000000",
          "2019-06-28T00:00:00.000000000",
          "2019-07-01T00:00:00.000000000",
          "2019-07-02T00:00:00.000000000",
          "2019-07-03T00:00:00.000000000",
          "2019-07-05T00:00:00.000000000",
          "2019-07-08T00:00:00.000000000",
          "2019-07-09T00:00:00.000000000",
          "2019-07-11T00:00:00.000000000",
          "2019-07-12T00:00:00.000000000",
          "2019-07-13T00:00:00.000000000",
          "2019-07-15T00:00:00.000000000",
          "2019-07-18T00:00:00.000000000",
          "2019-07-19T00:00:00.000000000",
          "2019-07-23T00:00:00.000000000",
          "2019-07-24T00:00:00.000000000",
          "2019-07-26T00:00:00.000000000",
          "2019-07-28T00:00:00.000000000",
          "2019-07-29T00:00:00.000000000",
          "2019-07-30T00:00:00.000000000",
          "2019-08-02T00:00:00.000000000",
          "2019-08-05T00:00:00.000000000",
          "2019-08-06T00:00:00.000000000",
          "2019-08-07T00:00:00.000000000",
          "2019-08-08T00:00:00.000000000",
          "2019-08-09T00:00:00.000000000",
          "2019-08-11T00:00:00.000000000",
          "2019-08-12T00:00:00.000000000",
          "2019-08-13T00:00:00.000000000",
          "2019-08-14T00:00:00.000000000",
          "2019-08-15T00:00:00.000000000",
          "2019-08-16T00:00:00.000000000",
          "2019-08-19T00:00:00.000000000",
          "2019-08-20T00:00:00.000000000",
          "2019-08-21T00:00:00.000000000",
          "2019-08-22T00:00:00.000000000",
          "2019-08-25T00:00:00.000000000",
          "2019-08-27T00:00:00.000000000",
          "2019-08-28T00:00:00.000000000",
          "2019-08-29T00:00:00.000000000",
          "2019-08-30T00:00:00.000000000",
          "2019-08-31T00:00:00.000000000",
          "2019-09-06T00:00:00.000000000",
          "2019-09-10T00:00:00.000000000",
          "2019-09-11T00:00:00.000000000",
          "2019-09-12T00:00:00.000000000",
          "2019-09-16T00:00:00.000000000",
          "2019-09-19T00:00:00.000000000",
          "2019-09-20T00:00:00.000000000",
          "2019-09-23T00:00:00.000000000",
          "2019-09-24T00:00:00.000000000",
          "2019-09-25T00:00:00.000000000",
          "2019-09-27T00:00:00.000000000",
          "2019-10-01T00:00:00.000000000",
          "2019-10-04T00:00:00.000000000",
          "2019-10-05T00:00:00.000000000",
          "2019-10-07T00:00:00.000000000",
          "2019-10-08T00:00:00.000000000",
          "2019-10-10T00:00:00.000000000",
          "2019-10-12T00:00:00.000000000",
          "2019-10-13T00:00:00.000000000",
          "2019-10-16T00:00:00.000000000",
          "2019-10-17T00:00:00.000000000",
          "2019-10-18T00:00:00.000000000",
          "2019-10-21T00:00:00.000000000",
          "2019-10-22T00:00:00.000000000",
          "2019-10-24T00:00:00.000000000",
          "2019-10-25T00:00:00.000000000",
          "2019-10-28T00:00:00.000000000",
          "2019-10-29T00:00:00.000000000",
          "2019-10-30T00:00:00.000000000",
          "2019-10-31T00:00:00.000000000",
          "2019-11-04T00:00:00.000000000",
          "2019-11-05T00:00:00.000000000",
          "2019-11-07T00:00:00.000000000",
          "2019-11-11T00:00:00.000000000",
          "2019-11-12T00:00:00.000000000",
          "2019-11-13T00:00:00.000000000",
          "2019-11-14T00:00:00.000000000",
          "2019-11-15T00:00:00.000000000",
          "2019-11-17T00:00:00.000000000",
          "2019-11-18T00:00:00.000000000",
          "2019-11-20T00:00:00.000000000",
          "2019-11-21T00:00:00.000000000",
          "2019-11-22T00:00:00.000000000",
          "2019-11-25T00:00:00.000000000",
          "2019-12-03T00:00:00.000000000",
          "2019-12-04T00:00:00.000000000",
          "2019-12-06T00:00:00.000000000",
          "2019-12-17T00:00:00.000000000",
          "2019-12-18T00:00:00.000000000",
          "2019-12-19T00:00:00.000000000",
          "2019-12-20T00:00:00.000000000",
          "2019-12-21T00:00:00.000000000",
          "2019-12-23T00:00:00.000000000",
          "2019-12-24T00:00:00.000000000",
          "2019-12-27T00:00:00.000000000",
          "2019-12-31T00:00:00.000000000",
          "2020-01-03T00:00:00.000000000",
          "2020-01-04T00:00:00.000000000",
          "2020-01-10T00:00:00.000000000",
          "2020-01-14T00:00:00.000000000",
          "2020-01-15T00:00:00.000000000",
          "2020-01-16T00:00:00.000000000",
          "2020-01-22T00:00:00.000000000",
          "2020-01-23T00:00:00.000000000",
          "2020-01-24T00:00:00.000000000",
          "2020-01-28T00:00:00.000000000",
          "2020-01-30T00:00:00.000000000",
          "2020-02-07T00:00:00.000000000",
          "2020-02-10T00:00:00.000000000",
          "2020-02-11T00:00:00.000000000",
          "2020-02-12T00:00:00.000000000",
          "2020-02-13T00:00:00.000000000",
          "2020-02-14T00:00:00.000000000",
          "2020-02-15T00:00:00.000000000",
          "2020-02-16T00:00:00.000000000",
          "2020-02-19T00:00:00.000000000",
          "2020-02-20T00:00:00.000000000",
          "2020-02-21T00:00:00.000000000",
          "2020-02-22T00:00:00.000000000",
          "2020-02-24T00:00:00.000000000",
          "2020-02-25T00:00:00.000000000",
          "2020-02-26T00:00:00.000000000",
          "2020-02-27T00:00:00.000000000",
          "2020-02-28T00:00:00.000000000",
          "2020-03-02T00:00:00.000000000",
          "2020-03-04T00:00:00.000000000",
          "2020-03-05T00:00:00.000000000",
          "2020-03-06T00:00:00.000000000",
          "2020-03-09T00:00:00.000000000",
          "2020-03-11T00:00:00.000000000",
          "2020-03-12T00:00:00.000000000",
          "2020-03-13T00:00:00.000000000",
          "2020-03-16T00:00:00.000000000",
          "2020-03-17T00:00:00.000000000",
          "2020-03-18T00:00:00.000000000",
          "2020-03-19T00:00:00.000000000",
          "2020-03-20T00:00:00.000000000",
          "2020-03-23T00:00:00.000000000",
          "2020-03-24T00:00:00.000000000",
          "2020-03-25T00:00:00.000000000",
          "2020-03-27T00:00:00.000000000",
          "2020-03-30T00:00:00.000000000",
          "2020-03-31T00:00:00.000000000",
          "2020-04-01T00:00:00.000000000",
          "2020-04-03T00:00:00.000000000",
          "2020-04-06T00:00:00.000000000",
          "2020-04-07T00:00:00.000000000",
          "2020-04-08T00:00:00.000000000",
          "2020-04-09T00:00:00.000000000",
          "2020-04-14T00:00:00.000000000",
          "2020-04-15T00:00:00.000000000",
          "2020-04-17T00:00:00.000000000",
          "2020-04-19T00:00:00.000000000",
          "2020-04-20T00:00:00.000000000",
          "2020-04-21T00:00:00.000000000",
          "2020-04-23T00:00:00.000000000",
          "2020-04-24T00:00:00.000000000",
          "2020-04-27T00:00:00.000000000",
          "2020-05-01T00:00:00.000000000",
          "2020-05-02T00:00:00.000000000",
          "2020-05-03T00:00:00.000000000",
          "2020-05-04T00:00:00.000000000",
          "2020-05-05T00:00:00.000000000",
          "2020-05-12T00:00:00.000000000",
          "2020-05-13T00:00:00.000000000",
          "2020-05-14T00:00:00.000000000",
          "2020-05-15T00:00:00.000000000",
          "2020-05-18T00:00:00.000000000",
          "2020-05-19T00:00:00.000000000",
          "2020-05-21T00:00:00.000000000",
          "2020-05-22T00:00:00.000000000",
          "2020-05-26T00:00:00.000000000",
          "2020-05-27T00:00:00.000000000",
          "2020-05-28T00:00:00.000000000",
          "2020-05-29T00:00:00.000000000",
          "2020-06-01T00:00:00.000000000",
          "2020-06-02T00:00:00.000000000",
          "2020-06-03T00:00:00.000000000",
          "2020-06-04T00:00:00.000000000",
          "2020-06-05T00:00:00.000000000",
          "2020-06-10T00:00:00.000000000",
          "2020-06-12T00:00:00.000000000",
          "2020-06-15T00:00:00.000000000",
          "2020-06-16T00:00:00.000000000",
          "2020-06-18T00:00:00.000000000",
          "2020-06-19T00:00:00.000000000",
          "2020-06-20T00:00:00.000000000",
          "2020-06-22T00:00:00.000000000",
          "2020-06-23T00:00:00.000000000",
          "2020-06-24T00:00:00.000000000",
          "2020-06-25T00:00:00.000000000",
          "2020-06-26T00:00:00.000000000",
          "2020-06-28T00:00:00.000000000",
          "2020-06-29T00:00:00.000000000",
          "2020-06-30T00:00:00.000000000",
          "2020-07-01T00:00:00.000000000",
          "2020-07-07T00:00:00.000000000",
          "2020-07-09T00:00:00.000000000",
          "2020-07-14T00:00:00.000000000",
          "2020-07-16T00:00:00.000000000",
          "2020-07-21T00:00:00.000000000",
          "2020-07-22T00:00:00.000000000",
          "2020-07-24T00:00:00.000000000",
          "2020-07-27T00:00:00.000000000",
          "2020-07-28T00:00:00.000000000",
          "2020-07-29T00:00:00.000000000",
          "2020-07-30T00:00:00.000000000",
          "2020-07-31T00:00:00.000000000",
          "2020-08-04T00:00:00.000000000",
          "2020-08-05T00:00:00.000000000",
          "2020-08-11T00:00:00.000000000",
          "2020-08-14T00:00:00.000000000",
          "2020-08-16T00:00:00.000000000",
          "2020-08-17T00:00:00.000000000",
          "2020-08-18T00:00:00.000000000",
          "2020-08-19T00:00:00.000000000",
          "2020-08-20T00:00:00.000000000",
          "2020-08-21T00:00:00.000000000",
          "2020-08-23T00:00:00.000000000",
          "2020-08-24T00:00:00.000000000",
          "2020-08-25T00:00:00.000000000",
          "2020-08-27T00:00:00.000000000",
          "2020-08-30T00:00:00.000000000",
          "2020-08-31T00:00:00.000000000",
          "2020-09-01T00:00:00.000000000",
          "2020-09-02T00:00:00.000000000",
          "2020-09-03T00:00:00.000000000",
          "2020-09-08T00:00:00.000000000",
          "2020-09-09T00:00:00.000000000",
          "2020-09-10T00:00:00.000000000",
          "2020-09-11T00:00:00.000000000",
          "2020-09-12T00:00:00.000000000",
          "2020-09-13T00:00:00.000000000",
          "2020-09-14T00:00:00.000000000",
          "2020-09-15T00:00:00.000000000",
          "2020-09-16T00:00:00.000000000",
          "2020-09-17T00:00:00.000000000",
          "2020-09-21T00:00:00.000000000",
          "2020-09-22T00:00:00.000000000",
          "2020-09-24T00:00:00.000000000",
          "2020-09-25T00:00:00.000000000",
          "2020-09-28T00:00:00.000000000",
          "2020-09-29T00:00:00.000000000",
          "2020-09-30T00:00:00.000000000",
          "2020-10-01T00:00:00.000000000",
          "2020-10-04T00:00:00.000000000",
          "2020-10-05T00:00:00.000000000",
          "2020-10-06T00:00:00.000000000",
          "2020-10-07T00:00:00.000000000",
          "2020-10-08T00:00:00.000000000",
          "2020-10-09T00:00:00.000000000",
          "2020-10-12T00:00:00.000000000",
          "2020-10-15T00:00:00.000000000",
          "2020-10-16T00:00:00.000000000",
          "2020-10-19T00:00:00.000000000",
          "2020-10-20T00:00:00.000000000",
          "2020-10-22T00:00:00.000000000",
          "2020-10-23T00:00:00.000000000",
          "2020-10-27T00:00:00.000000000",
          "2020-10-30T00:00:00.000000000",
          "2020-11-03T00:00:00.000000000",
          "2020-11-06T00:00:00.000000000",
          "2020-11-07T00:00:00.000000000",
          "2020-11-09T00:00:00.000000000",
          "2020-11-10T00:00:00.000000000",
          "2020-11-13T00:00:00.000000000",
          "2020-11-15T00:00:00.000000000",
          "2020-11-17T00:00:00.000000000",
          "2020-11-18T00:00:00.000000000",
          "2020-11-19T00:00:00.000000000",
          "2020-11-20T00:00:00.000000000",
          "2020-11-21T00:00:00.000000000",
          "2020-11-22T00:00:00.000000000",
          "2020-11-23T00:00:00.000000000",
          "2020-11-24T00:00:00.000000000",
          "2020-11-25T00:00:00.000000000",
          "2020-12-01T00:00:00.000000000",
          "2020-12-02T00:00:00.000000000",
          "2020-12-03T00:00:00.000000000",
          "2020-12-04T00:00:00.000000000",
          "2020-12-06T00:00:00.000000000",
          "2020-12-07T00:00:00.000000000",
          "2020-12-08T00:00:00.000000000",
          "2020-12-09T00:00:00.000000000",
          "2020-12-10T00:00:00.000000000",
          "2020-12-11T00:00:00.000000000",
          "2020-12-14T00:00:00.000000000",
          "2020-12-16T00:00:00.000000000",
          "2020-12-17T00:00:00.000000000",
          "2020-12-19T00:00:00.000000000",
          "2020-12-23T00:00:00.000000000",
          "2020-12-30T00:00:00.000000000",
          "2021-01-02T00:00:00.000000000",
          "2021-01-03T00:00:00.000000000",
          "2021-01-04T00:00:00.000000000",
          "2021-01-05T00:00:00.000000000",
          "2021-01-06T00:00:00.000000000",
          "2021-01-09T00:00:00.000000000",
          "2021-01-11T00:00:00.000000000",
          "2021-01-12T00:00:00.000000000",
          "2021-01-13T00:00:00.000000000",
          "2021-01-14T00:00:00.000000000",
          "2021-01-15T00:00:00.000000000",
          "2021-01-19T00:00:00.000000000",
          "2021-01-20T00:00:00.000000000",
          "2021-01-22T00:00:00.000000000",
          "2021-01-26T00:00:00.000000000",
          "2021-01-28T00:00:00.000000000",
          "2021-01-31T00:00:00.000000000",
          "2021-02-02T00:00:00.000000000",
          "2021-02-03T00:00:00.000000000",
          "2021-02-06T00:00:00.000000000",
          "2021-02-07T00:00:00.000000000",
          "2021-02-08T00:00:00.000000000",
          "2021-02-09T00:00:00.000000000",
          "2021-02-10T00:00:00.000000000",
          "2021-02-11T00:00:00.000000000",
          "2021-02-12T00:00:00.000000000",
          "2021-02-16T00:00:00.000000000",
          "2021-02-18T00:00:00.000000000",
          "2021-02-19T00:00:00.000000000",
          "2021-02-21T00:00:00.000000000",
          "2021-02-22T00:00:00.000000000",
          "2021-02-23T00:00:00.000000000",
          "2021-02-24T00:00:00.000000000",
          "2021-02-25T00:00:00.000000000",
          "2021-02-26T00:00:00.000000000",
          "2021-03-01T00:00:00.000000000",
          "2021-03-02T00:00:00.000000000",
          "2021-03-05T00:00:00.000000000",
          "2021-03-06T00:00:00.000000000",
          "2021-03-07T00:00:00.000000000",
          "2021-03-08T00:00:00.000000000",
          "2021-03-09T00:00:00.000000000",
          "2021-03-10T00:00:00.000000000",
          "2021-03-11T00:00:00.000000000",
          "2021-03-12T00:00:00.000000000",
          "2021-03-21T00:00:00.000000000",
          "2021-03-22T00:00:00.000000000",
          "2021-03-24T00:00:00.000000000",
          "2021-03-25T00:00:00.000000000",
          "2021-03-26T00:00:00.000000000",
          "2021-03-27T00:00:00.000000000",
          "2021-03-29T00:00:00.000000000",
          "2021-03-31T00:00:00.000000000",
          "2021-04-01T00:00:00.000000000",
          "2021-04-03T00:00:00.000000000",
          "2021-04-07T00:00:00.000000000",
          "2021-04-08T00:00:00.000000000",
          "2021-04-09T00:00:00.000000000",
          "2021-04-12T00:00:00.000000000",
          "2021-04-13T00:00:00.000000000",
          "2021-04-15T00:00:00.000000000",
          "2021-04-16T00:00:00.000000000",
          "2021-04-20T00:00:00.000000000",
          "2021-04-23T00:00:00.000000000",
          "2021-04-27T00:00:00.000000000",
          "2021-04-28T00:00:00.000000000",
          "2021-04-29T00:00:00.000000000",
          "2021-05-01T00:00:00.000000000",
          "2021-05-03T00:00:00.000000000",
          "2021-05-04T00:00:00.000000000",
          "2021-05-05T00:00:00.000000000",
          "2021-05-11T00:00:00.000000000",
          "2021-05-13T00:00:00.000000000",
          "2021-05-16T00:00:00.000000000",
          "2021-05-19T00:00:00.000000000",
          "2021-05-20T00:00:00.000000000",
          "2021-05-21T00:00:00.000000000",
          "2021-05-23T00:00:00.000000000",
          "2021-05-24T00:00:00.000000000",
          "2021-05-25T00:00:00.000000000",
          "2021-05-26T00:00:00.000000000",
          "2021-05-27T00:00:00.000000000",
          "2021-05-28T00:00:00.000000000",
          "2021-05-29T00:00:00.000000000",
          "2021-05-30T00:00:00.000000000",
          "2021-06-02T00:00:00.000000000",
          "2021-06-03T00:00:00.000000000",
          "2021-06-04T00:00:00.000000000",
          "2021-06-05T00:00:00.000000000",
          "2021-06-06T00:00:00.000000000",
          "2021-06-07T00:00:00.000000000",
          "2021-06-08T00:00:00.000000000",
          "2021-06-09T00:00:00.000000000",
          "2021-06-10T00:00:00.000000000",
          "2021-06-11T00:00:00.000000000",
          "2021-06-12T00:00:00.000000000",
          "2021-06-14T00:00:00.000000000",
          "2021-06-15T00:00:00.000000000",
          "2021-06-17T00:00:00.000000000",
          "2021-06-18T00:00:00.000000000",
          "2021-06-19T00:00:00.000000000",
          "2021-06-21T00:00:00.000000000",
          "2021-06-22T00:00:00.000000000",
          "2021-06-23T00:00:00.000000000",
          "2021-06-24T00:00:00.000000000",
          "2021-06-25T00:00:00.000000000",
          "2021-06-28T00:00:00.000000000",
          "2021-06-29T00:00:00.000000000",
          "2021-06-30T00:00:00.000000000",
          "2021-07-01T00:00:00.000000000",
          "2021-07-02T00:00:00.000000000",
          "2021-07-06T00:00:00.000000000",
          "2021-07-07T00:00:00.000000000",
          "2021-07-08T00:00:00.000000000",
          "2021-07-09T00:00:00.000000000",
          "2021-07-12T00:00:00.000000000",
          "2021-07-13T00:00:00.000000000",
          "2021-07-14T00:00:00.000000000",
          "2021-07-15T00:00:00.000000000",
          "2021-07-16T00:00:00.000000000",
          "2021-07-17T00:00:00.000000000",
          "2021-07-18T00:00:00.000000000",
          "2021-07-19T00:00:00.000000000",
          "2021-07-20T00:00:00.000000000",
          "2021-07-21T00:00:00.000000000",
          "2021-07-22T00:00:00.000000000",
          "2021-07-23T00:00:00.000000000",
          "2021-07-25T00:00:00.000000000",
          "2021-07-26T00:00:00.000000000",
          "2021-07-27T00:00:00.000000000",
          "2021-07-28T00:00:00.000000000",
          "2021-07-29T00:00:00.000000000",
          "2021-07-30T00:00:00.000000000",
          "2021-08-02T00:00:00.000000000",
          "2021-08-03T00:00:00.000000000",
          "2021-08-04T00:00:00.000000000",
          "2021-08-06T00:00:00.000000000",
          "2021-08-11T00:00:00.000000000",
          "2021-08-13T00:00:00.000000000",
          "2021-08-15T00:00:00.000000000",
          "2021-08-16T00:00:00.000000000",
          "2021-08-17T00:00:00.000000000",
          "2021-08-18T00:00:00.000000000",
          "2021-08-19T00:00:00.000000000",
          "2021-08-20T00:00:00.000000000",
          "2021-08-21T00:00:00.000000000",
          "2021-08-22T00:00:00.000000000",
          "2021-08-23T00:00:00.000000000",
          "2021-08-24T00:00:00.000000000",
          "2021-08-25T00:00:00.000000000",
          "2021-08-26T00:00:00.000000000",
          "2021-08-27T00:00:00.000000000",
          "2021-08-29T00:00:00.000000000",
          "2021-08-30T00:00:00.000000000",
          "2021-08-31T00:00:00.000000000",
          "2021-09-01T00:00:00.000000000",
          "2021-09-02T00:00:00.000000000",
          "2021-09-03T00:00:00.000000000",
          "2021-09-04T00:00:00.000000000",
          "2021-09-05T00:00:00.000000000",
          "2021-09-06T00:00:00.000000000",
          "2021-09-07T00:00:00.000000000",
          "2021-09-08T00:00:00.000000000",
          "2021-09-09T00:00:00.000000000",
          "2021-09-12T00:00:00.000000000",
          "2021-09-13T00:00:00.000000000",
          "2021-09-14T00:00:00.000000000",
          "2021-09-15T00:00:00.000000000",
          "2021-09-16T00:00:00.000000000",
          "2021-09-19T00:00:00.000000000",
          "2021-09-21T00:00:00.000000000",
          "2021-09-22T00:00:00.000000000",
          "2021-09-23T00:00:00.000000000",
          "2021-09-24T00:00:00.000000000",
          "2021-09-27T00:00:00.000000000",
          "2021-09-28T00:00:00.000000000",
          "2021-09-29T00:00:00.000000000",
          "2021-09-30T00:00:00.000000000",
          "2021-10-01T00:00:00.000000000",
          "2021-10-02T00:00:00.000000000",
          "2021-10-04T00:00:00.000000000",
          "2021-10-05T00:00:00.000000000",
          "2021-10-07T00:00:00.000000000",
          "2021-10-08T00:00:00.000000000",
          "2021-10-11T00:00:00.000000000",
          "2021-10-12T00:00:00.000000000",
          "2021-10-14T00:00:00.000000000",
          "2021-10-15T00:00:00.000000000",
          "2021-10-18T00:00:00.000000000",
          "2021-10-19T00:00:00.000000000",
          "2021-10-21T00:00:00.000000000",
          "2021-10-22T00:00:00.000000000",
          "2021-10-25T00:00:00.000000000",
          "2021-10-26T00:00:00.000000000",
          "2021-10-27T00:00:00.000000000",
          "2021-10-28T00:00:00.000000000",
          "2021-10-29T00:00:00.000000000",
          "2021-10-30T00:00:00.000000000",
          "2021-11-01T00:00:00.000000000",
          "2021-11-02T00:00:00.000000000",
          "2021-11-03T00:00:00.000000000",
          "2021-11-04T00:00:00.000000000",
          "2021-11-05T00:00:00.000000000",
          "2021-11-06T00:00:00.000000000",
          "2021-11-08T00:00:00.000000000",
          "2021-11-09T00:00:00.000000000",
          "2021-11-10T00:00:00.000000000",
          "2021-11-11T00:00:00.000000000",
          "2021-11-12T00:00:00.000000000",
          "2021-11-13T00:00:00.000000000",
          "2021-11-15T00:00:00.000000000",
          "2021-11-16T00:00:00.000000000",
          "2021-11-17T00:00:00.000000000",
          "2021-11-18T00:00:00.000000000",
          "2021-11-19T00:00:00.000000000",
          "2021-11-22T00:00:00.000000000",
          "2021-11-23T00:00:00.000000000",
          "2021-11-24T00:00:00.000000000",
          "2021-11-25T00:00:00.000000000",
          "2021-11-26T00:00:00.000000000",
          "2021-11-29T00:00:00.000000000",
          "2021-11-30T00:00:00.000000000",
          "2021-12-01T00:00:00.000000000",
          "2021-12-02T00:00:00.000000000",
          "2021-12-03T00:00:00.000000000",
          "2021-12-06T00:00:00.000000000",
          "2021-12-07T00:00:00.000000000",
          "2021-12-08T00:00:00.000000000",
          "2021-12-09T00:00:00.000000000",
          "2021-12-10T00:00:00.000000000",
          "2021-12-13T00:00:00.000000000",
          "2021-12-14T00:00:00.000000000",
          "2021-12-15T00:00:00.000000000",
          "2021-12-16T00:00:00.000000000",
          "2021-12-17T00:00:00.000000000",
          "2021-12-20T00:00:00.000000000",
          "2021-12-21T00:00:00.000000000",
          "2021-12-22T00:00:00.000000000",
          "2021-12-23T00:00:00.000000000",
          "2021-12-27T00:00:00.000000000",
          "2021-12-28T00:00:00.000000000",
          "2021-12-29T00:00:00.000000000",
          "2021-12-30T00:00:00.000000000",
          "2021-12-31T00:00:00.000000000",
          "2022-01-01T00:00:00.000000000",
          "2022-01-02T00:00:00.000000000",
          "2022-01-03T00:00:00.000000000",
          "2022-01-04T00:00:00.000000000",
          "2022-01-05T00:00:00.000000000",
          "2022-01-06T00:00:00.000000000",
          "2022-01-07T00:00:00.000000000",
          "2022-01-08T00:00:00.000000000",
          "2022-01-09T00:00:00.000000000",
          "2022-01-10T00:00:00.000000000",
          "2022-01-12T00:00:00.000000000",
          "2022-01-13T00:00:00.000000000",
          "2022-01-14T00:00:00.000000000",
          "2022-01-17T00:00:00.000000000",
          "2022-01-18T00:00:00.000000000",
          "2022-01-19T00:00:00.000000000",
          "2022-01-20T00:00:00.000000000",
          "2022-01-21T00:00:00.000000000",
          "2022-01-22T00:00:00.000000000",
          "2022-01-24T00:00:00.000000000",
          "2022-01-25T00:00:00.000000000",
          "2022-01-26T00:00:00.000000000",
          "2022-01-27T00:00:00.000000000",
          "2022-01-30T00:00:00.000000000",
          "2022-01-31T00:00:00.000000000",
          "2022-02-01T00:00:00.000000000",
          "2022-02-02T00:00:00.000000000",
          "2022-02-03T00:00:00.000000000",
          "2022-02-04T00:00:00.000000000",
          "2022-02-07T00:00:00.000000000",
          "2022-02-08T00:00:00.000000000",
          "2022-02-09T00:00:00.000000000",
          "2022-02-10T00:00:00.000000000",
          "2022-02-11T00:00:00.000000000",
          "2022-02-12T00:00:00.000000000",
          "2022-02-13T00:00:00.000000000",
          "2022-02-14T00:00:00.000000000",
          "2022-02-15T00:00:00.000000000",
          "2022-02-16T00:00:00.000000000",
          "2022-02-17T00:00:00.000000000",
          "2022-02-18T00:00:00.000000000",
          "2022-02-19T00:00:00.000000000",
          "2022-02-20T00:00:00.000000000",
          "2022-02-21T00:00:00.000000000",
          "2022-02-22T00:00:00.000000000",
          "2022-02-23T00:00:00.000000000",
          "2022-02-24T00:00:00.000000000",
          "2022-02-25T00:00:00.000000000",
          "2022-02-26T00:00:00.000000000",
          "2022-02-27T00:00:00.000000000",
          "2022-02-28T00:00:00.000000000"
         ],
         "y": {
          "bdata": "AgICAwMBAwMCAQQCAQMEBgYBAQcDAwQCAQIBAQEEBAILBAIBAQICAgQBAQQBAwICAQEBBAEBAQIBAwICAgIDAQEEAQEBAgEBAwQDAgEBAwICAgEBAgECCgcBAgEDAQEDAQEBAQEFAQECAQICBwMBAgEFAgEBAQEBBAEBAQIBAQEBAgEBAQICAwIFBQEBAwEBBAEBAQEBAQEBAgEBAgUBAgIBAQEBAQEBAQEBAQEBAQEBAQEBAgECAwoEAQMEAQMBAgIBAQICAQIBAQECAQEBAgEBAQMBAQEBAQQCBwUBAQMBAwEEAQEBCQICAwMCAgIBAgECAQIBAgMCAgICAQECAwEDAQEBAgEDAgEBAQEBAQIDAQICAw0CAwIDAgEBAQIBAQECAgMCAQEBAQMDAQEBAgEDAQICAQEBAQEBAQIBAQEBBgYRBAYBAQIBAQEDBgQDAgEBAgICAQMEBQMCAQICAgEBAQMCBAIBAQIBAQECAgEBAgECAQICAQMHBAEBBAEBAgEBAgECAQEBAQIBAQEBAgECBwIBAgIBAQIBAQIDAgEBAgMBAQgCBgEEAQMCAQEBBwQBAgIBAQEBAwECBAIBAQEBAQECAQECAQIKAgQCAQECAQIBAQEBAQIBAwMIAQIGBwQFAgEDBwkBAQQDBAcDAQIDAgcCCQUEAgIFBggGBQcJBwMBAgUEBAIBCwcGAgUBAwQDAgEDBwMBAgQCAgQMEAQBAQwLBAMGAgMDAQMFAQEBBQwDAQUBAgQBAgICBAwCBQEDAQICAQYBBAQCAQEBAgIDAQUBAQYFBRIHAwYIDAEEAQMKIQ8ECAgPAQYOBwQOCRIIBgkGCAcFBQMLBAUDCAcQDQIBAQgOCQcIAgEMBQQJAQUEBgkBCAwmDQEBBgIDAQsTBgoDAQMEDjkYDAECAQ0ECBEBAQQ=",
          "dtype": "i1"
         }
        },
        {
         "hoverinfo": "text",
         "hovertext": [
          "<b>Topic 3</b><br>Words: unlimit, soar, limit, downsid, upsid",
          "<b>Topic 3</b><br>Words: djia, lost, week, nflx, gain",
          "<b>Topic 3</b><br>Words: impuls, structur, low, elliottwav, decemb",
          "<b>Topic 3</b><br>Words: nli, abbv, jd, retrac, recent",
          "<b>Topic 3</b><br>Words: bolling, band, whether, upper, extend",
          "<b>Topic 3</b><br>Words: intact, count, wave, remain, support",
          "<b>Topic 3</b><br>Words: jnj, instrument, scalp, explain, extrem",
          "<b>Topic 3</b><br>Words: multicycl, iii, wave, technic, might",
          "<b>Topic 3</b><br>Words: elliottwav, sequenc, strongli, bullish, aim",
          "<b>Topic 3</b><br>Words: low, elliottwav, bullish, sequenc, strongli",
          "<b>Topic 3</b><br>Words: pullback, wave, elliottwav, area, bullish",
          "<b>Topic 3</b><br>Words: sequenc, frame, remain, find, bullish",
          "<b>Topic 3</b><br>Words: wave, elliottwav, cycl, advanc, reach",
          "<b>Topic 3</b><br>Words: ralli, manag, swing, box, blue",
          "<b>Topic 3</b><br>Words: area, elliottwav, found, wave, took",
          "<b>Topic 3</b><br>Words: remain, extens, equal, step, robinhood",
          "<b>Topic 3</b><br>Words: area, elliottwav, extend, found, wave",
          "<b>Topic 3</b><br>Words: area, wave, elliottwav, buyer, box",
          "<b>Topic 3</b><br>Words: box, blue, bounc, area, elliottwav",
          "<b>Topic 3</b><br>Words: highfrequ, box, blue, area, elliottwav",
          "<b>Topic 3</b><br>Words: found, area, elliottwav, reaction, buyer",
          "<b>Topic 3</b><br>Words: elliottwav, higher, area, found, within",
          "<b>Topic 3</b><br>Words: found, reaction, buyer, box, blue",
          "<b>Topic 3</b><br>Words: bullish, box, blue, elliottwav, may",
          "<b>Topic 3</b><br>Words: box, blue, updat, elliottwav, found",
          "<b>Topic 3</b><br>Words: elliottwav, bullish, buyer, box, blue",
          "<b>Topic 3</b><br>Words: reaction, box, blue, place, area",
          "<b>Topic 3</b><br>Words: reaction, box, blue, place, hour",
          "<b>Topic 3</b><br>Words: bounc, elliottwav, extend, found, form",
          "<b>Topic 3</b><br>Words: area, incomplet, elliottwav, reaction, bullish",
          "<b>Topic 3</b><br>Words: updat, elliottwav, reaction, box, blue",
          "<b>Topic 3</b><br>Words: reaction, box, blue, place, hour",
          "<b>Topic 3</b><br>Words: higher, area, elliottwav, reaction, take",
          "<b>Topic 3</b><br>Words: elliottwav, place, take, higher, area",
          "<b>Topic 3</b><br>Words: box, blue, bullish, wave, june",
          "<b>Topic 3</b><br>Words: box, blue, updat, elliottwav, bullish",
          "<b>Topic 3</b><br>Words: area, box, blue, elliottwav, chart",
          "<b>Topic 3</b><br>Words: box, blue, updat, elliottwav, took",
          "<b>Topic 3</b><br>Words: box, blue, elliottwav, chart, updat",
          "<b>Topic 3</b><br>Words: box, blue, area, updat, chart",
          "<b>Topic 3</b><br>Words: box, blue, area, updat, chart",
          "<b>Topic 3</b><br>Words: box, blue, area, reaction, updat",
          "<b>Topic 3</b><br>Words: box, blue, area, updat, chart",
          "<b>Topic 3</b><br>Words: box, blue, chart, updat, elliottwav",
          "<b>Topic 3</b><br>Words: box, blue, elliottwav, bullish, chart",
          "<b>Topic 3</b><br>Words: box, blue, reaction, elliottwav, area",
          "<b>Topic 3</b><br>Words: elliottwav, box, blue, area, reaction",
          "<b>Topic 3</b><br>Words: box, blue, chart, elliottwav, updat",
          "<b>Topic 3</b><br>Words: elliottwav, area, chart, updat, bullish",
          "<b>Topic 3</b><br>Words: elliottwav, box, blue, chart, area",
          "<b>Topic 3</b><br>Words: box, blue, area, updat, chart",
          "<b>Topic 3</b><br>Words: elliottwav, bullish, higher, upsid, favour",
          "<b>Topic 3</b><br>Words: area, elliottwav, upsid, higher, box",
          "<b>Topic 3</b><br>Words: area, elliottwav, upsid, higher, box",
          "<b>Topic 3</b><br>Words: appear, toward, push, buyer, wait",
          "<b>Topic 3</b><br>Words: pullback, extens, bullish, avoid, favor",
          "<b>Topic 3</b><br>Words: pullback, extens, bullish, avoid, favor",
          "<b>Topic 3</b><br>Words: peak, pullback, break, extens, avoid",
          "<b>Topic 3</b><br>Words: pullback, sequenc, bullish, extens, avoid",
          "<b>Topic 3</b><br>Words: pullback, extens, avoid, elliottwav, bullish",
          "<b>Topic 3</b><br>Words: symbol, extend, elliottwav, view, hour",
          "<b>Topic 3</b><br>Words: ca, area, seen, reach, least",
          "<b>Topic 3</b><br>Words: fuel, discuss, extend, session, group",
          "<b>Topic 3</b><br>Words: elliottwav, box, blue, august, updat",
          "<b>Topic 3</b><br>Words: elliottwav, box, view, blue, place",
          "<b>Topic 3</b><br>Words: reach, manag, box, blue, place",
          "<b>Topic 3</b><br>Words: box, blue, august, elliottwav, bullish",
          "<b>Topic 3</b><br>Words: box, blue, place, bounc, elliottwav",
          "<b>Topic 3</b><br>Words: reach, manag, box, blue, place",
          "<b>Topic 3</b><br>Words: august, updat, elliottwav, box, blue",
          "<b>Topic 3</b><br>Words: box, view, blue, aug, elliottwav",
          "<b>Topic 3</b><br>Words: postmarket, reach, manag, box, view",
          "<b>Topic 3</b><br>Words: batteri, bullish, box, blue, inclus",
          "<b>Topic 3</b><br>Words: batteri, bullish, changer, inclus, mile",
          "<b>Topic 3</b><br>Words: postmarket, elliottwav, view, bullish, box",
          "<b>Topic 3</b><br>Words: aug, favour, bullish, elliottwav, bounc",
          "<b>Topic 3</b><br>Words: aug, view, elliottwav, bullish, box",
          "<b>Topic 3</b><br>Words: favour, swing, resum, bullish, downsid",
          "<b>Topic 3</b><br>Words: elliottwav, bullish, truncat, ext, turn",
          "<b>Topic 3</b><br>Words: view, bounc, elliottwav, bullish, box",
          "<b>Topic 3</b><br>Words: postmarket, reach, manag, box, view",
          "<b>Topic 3</b><br>Words: aug, view, favour, elliottwav, bullish",
          "<b>Topic 3</b><br>Words: favour, bullish, underway, bounc, postmarket",
          "<b>Topic 3</b><br>Words: postmarket, reach, manag, box, view",
          "<b>Topic 3</b><br>Words: postmarket, reach, manag, box, view",
          "<b>Topic 3</b><br>Words: postmarket, ellliottwav, reach, bullish, view",
          "<b>Topic 3</b><br>Words: postmarket, area, elliottwav, extend, higher",
          "<b>Topic 3</b><br>Words: aug, view, elliottwav, sep, bullish",
          "<b>Topic 3</b><br>Words: stockpick, sep, downsid, complet, view",
          "<b>Topic 3</b><br>Words: postmarket, area, elliottwav, extend, higher",
          "<b>Topic 3</b><br>Words: postmarket, area, elliottwav, extend, higher",
          "<b>Topic 3</b><br>Words: aug, view, elliottwav, bullish, box",
          "<b>Topic 3</b><br>Words: aug, view, elliottwav, bullish, box",
          "<b>Topic 3</b><br>Words: postmarket, reach, manag, box, view",
          "<b>Topic 3</b><br>Words: aug, view, favour, elliottwav, bullish",
          "<b>Topic 3</b><br>Words: upsid, display, place, sep, favour",
          "<b>Topic 3</b><br>Words: aug, view, extrem, elliottwav, box",
          "<b>Topic 3</b><br>Words: aug, view, elliottwav, extrem, bullish",
          "<b>Topic 3</b><br>Words: aug, view, extrem, elliottwav, box",
          "<b>Topic 3</b><br>Words: view, oct, favour, member, present",
          "<b>Topic 3</b><br>Words: view, aug, elliottwav, bullish, member",
          "<b>Topic 3</b><br>Words: view, aug, elliottwav, bullish, member",
          "<b>Topic 3</b><br>Words: aug, view, extrem, elliottwav, box",
          "<b>Topic 3</b><br>Words: aug, view, extrem, elliottwav, box",
          "<b>Topic 3</b><br>Words: sequenc, symbol, creat, peak, bullish",
          "<b>Topic 3</b><br>Words: choppi, sidway, setup, right, trade",
          "<b>Topic 3</b><br>Words: favour, sideway, instrument, frustrat, extens",
          "<b>Topic 3</b><br>Words: wave, complex, symbol, iv, enter",
          "<b>Topic 3</b><br>Words: instrument, quotturn, middlesideway, incomplet, bullish",
          "<b>Topic 3</b><br>Words: impuls, extens, low, react, novemb",
          "<b>Topic 3</b><br>Words: mediumlong, shorter, bounc, term, remain",
          "<b>Topic 3</b><br>Words: area, minimum, symbol, wave, three",
          "<b>Topic 3</b><br>Words: xlk, session, group, analysi, live",
          "<b>Topic 3</b><br>Words: bounc, area, materi, cycl, enter",
          "<b>Topic 3</b><br>Words: extens, middl, remain, extrem, place",
          "<b>Topic 3</b><br>Words: area, shorter, instrument, resum, cycl",
          "<b>Topic 3</b><br>Words: minimum, symbol, wave, three, within",
          "<b>Topic 3</b><br>Words: traderleibniz, opex, brain, grifmast, denseanddumb",
          "<b>Topic 3</b><br>Words: medium, prefer, frame, bullish, chase",
          "<b>Topic 3</b><br>Words: low, symbol, five, advanc, chanc",
          "<b>Topic 3</b><br>Words: extens, member, bullish, shown, still",
          "<b>Topic 3</b><br>Words: shorter, may, area, prefer, larger",
          "<b>Topic 3</b><br>Words: set, rang, conserv, exceed, assum",
          "<b>Topic 3</b><br>Words: instrument, extens, favour, enter, remain",
          "<b>Topic 3</b><br>Words: wave, peak, juli, extrem, least",
          "<b>Topic 3</b><br>Words: senior, uniqu, signific, spread, roku",
          "<b>Topic 3</b><br>Words: overcom, poster, couldnt, involv, figur",
          "<b>Topic 3</b><br>Words: sep, saw, weekend, place, updat",
          "<b>Topic 3</b><br>Words: elliottwav, member, present, view, updat",
          "<b>Topic 3</b><br>Words: elliottwav, midday, downsid, appear, wave",
          "<b>Topic 3</b><br>Words: elliottwav, member, present, view, lower",
          "<b>Topic 3</b><br>Words: member, present, elliottwav, view, midday",
          "<b>Topic 3</b><br>Words: elliottwav, member, present, view, midday",
          "<b>Topic 3</b><br>Words: member, present, view, midday, updat",
          "<b>Topic 3</b><br>Words: latest, night, reaction, box, view",
          "<b>Topic 3</b><br>Words: view, updat, elliottwav, member, present",
          "<b>Topic 3</b><br>Words: updat, view, elliottwav, box, blue",
          "<b>Topic 3</b><br>Words: updat, elliottwav, member, present, view",
          "<b>Topic 3</b><br>Words: updat, elliottwav, box, blue, view",
          "<b>Topic 3</b><br>Words: updat, elliottwav, box, blue, view",
          "<b>Topic 3</b><br>Words: updat, view, elliottwav, member, present",
          "<b>Topic 3</b><br>Words: updat, view, elliottwav, member, present",
          "<b>Topic 3</b><br>Words: box, blue, updat, elliottwav, higher",
          "<b>Topic 3</b><br>Words: box, blue, elliottwav, updat, bullish",
          "<b>Topic 3</b><br>Words: elliottwav, box, blue, buyer, updat",
          "<b>Topic 3</b><br>Words: elliottwav, updat, member, present, view",
          "<b>Topic 3</b><br>Words: updat, view, elliottwav, weekend, reaction",
          "<b>Topic 3</b><br>Words: reaction, weekend, box, view, blue",
          "<b>Topic 3</b><br>Words: reaction, weekend, box, view, blue",
          "<b>Topic 3</b><br>Words: box, blue, updat, elliottwav, higher",
          "<b>Topic 3</b><br>Words: elliottwav, updat, view, member, present",
          "<b>Topic 3</b><br>Words: octob, turn, box, blue, hour",
          "<b>Topic 3</b><br>Words: reaction, weekend, box, view, blue",
          "<b>Topic 3</b><br>Words: reaction, weekend, box, view, blue",
          "<b>Topic 3</b><br>Words: weekend, updat, view, elliottwav, place",
          "<b>Topic 3</b><br>Words: weekend, updat, member, present, elliottwav",
          "<b>Topic 3</b><br>Words: weekend, updat, member, present, elliottwav",
          "<b>Topic 3</b><br>Words: weekend, updat, member, present, elliottwav",
          "<b>Topic 3</b><br>Words: reaction, weekend, box, view, blue",
          "<b>Topic 3</b><br>Words: reaction, weekend, box, view, blue",
          "<b>Topic 3</b><br>Words: reaction, weekend, box, view, blue",
          "<b>Topic 3</b><br>Words: member, present, weekend, updat, elliottwav",
          "<b>Topic 3</b><br>Words: weekend, updat, member, present, elliottwav",
          "<b>Topic 3</b><br>Words: member, present, weekend, updat, elliottwav",
          "<b>Topic 3</b><br>Words: weekend, updat, member, present, elliottwav",
          "<b>Topic 3</b><br>Words: stage, elliottwav, octob, wave, bullish",
          "<b>Topic 3</b><br>Words: stage, octob, wave, care, made",
          "<b>Topic 3</b><br>Words: elliottwav, member, present, weekend, updat",
          "<b>Topic 3</b><br>Words: elliottwav, member, present, weekend, updat",
          "<b>Topic 3</b><br>Words: member, present, weekend, updat, elliottwav",
          "<b>Topic 3</b><br>Words: elliottwav, member, present, weekend, updat",
          "<b>Topic 3</b><br>Words: member, present, weekend, updat, elliottwav",
          "<b>Topic 3</b><br>Words: wave, elliottwav, appear, octob, buyer",
          "<b>Topic 3</b><br>Words: octob, wave, pullback, swing, made",
          "<b>Topic 3</b><br>Words: octob, wave, pullback, swing, made",
          "<b>Topic 3</b><br>Words: member, present, weekend, updat, elliottwav",
          "<b>Topic 3</b><br>Words: elliottwav, octob, wave, member, present",
          "<b>Topic 3</b><br>Words: octob, wave, elliottwav, pullback, swing",
          "<b>Topic 3</b><br>Words: octob, wave, pullback, swing, made",
          "<b>Topic 3</b><br>Words: made, octob, wave, pullback, end",
          "<b>Topic 3</b><br>Words: elliottwav, member, present, weekend, updat",
          "<b>Topic 3</b><br>Words: made, octob, wave, pullback, end",
          "<b>Topic 3</b><br>Words: pullback, swing, either, lower, elliottwav",
          "<b>Topic 3</b><br>Words: pullback, swing, elliottwav, lower, bullish",
          "<b>Topic 3</b><br>Words: elliottwav, updat, bullish, member, present",
          "<b>Topic 3</b><br>Words: bounc, minimum, elliottwav, extend, wave",
          "<b>Topic 3</b><br>Words: elliottwav, lower, bullish, updat, pullback",
          "<b>Topic 3</b><br>Words: lower, elliottwav, pullback, view, updat",
          "<b>Topic 3</b><br>Words: elliottwav, lower, updat, bullish, pullback",
          "<b>Topic 3</b><br>Words: lower, elliottwav, pullback, view, bullish",
          "<b>Topic 3</b><br>Words: tradingview, connector, fail, complet, view",
          "<b>Topic 3</b><br>Words: elliottwav, updat, bullish, member, present",
          "<b>Topic 3</b><br>Words: lower, elliottwav, pullback, view, bullish",
          "<b>Topic 3</b><br>Words: lower, elliottwav, pullback, view, bullish",
          "<b>Topic 3</b><br>Words: lower, elliottwav, expect, downfal, bullish",
          "<b>Topic 3</b><br>Words: lower, elliottwav, pullback, view, updat",
          "<b>Topic 3</b><br>Words: lower, elliottwav, pullback, view, updat",
          "<b>Topic 3</b><br>Words: lower, elliottwav, pullback, view, updat",
          "<b>Topic 3</b><br>Words: pullback, lower, elliottwav, octob, wave",
          "<b>Topic 3</b><br>Words: lower, elliottwav, pullback, view, updat",
          "<b>Topic 3</b><br>Words: elliottwav, updat, pullback, weekend, bullish",
          "<b>Topic 3</b><br>Words: elliottwav, bullish, lower, updat, pullback",
          "<b>Topic 3</b><br>Words: elliottwav, updat, bullish, member, present",
          "<b>Topic 3</b><br>Words: elliottwav, updat, bullish, lower, weekend",
          "<b>Topic 3</b><br>Words: elliottwav, lower, bullish, peak, complet",
          "<b>Topic 3</b><br>Words: lower, elliottwav, downsid, appear, toward",
          "<b>Topic 3</b><br>Words: lower, elliottwav, pullback, peak, complet",
          "<b>Topic 3</b><br>Words: lower, elliottwav, bullish, pullback, peak",
          "<b>Topic 3</b><br>Words: lower, elliottwav, pullback, peak, amp",
          "<b>Topic 3</b><br>Words: elliottwav, lower, view, updat, peak",
          "<b>Topic 3</b><br>Words: lower, elliottwav, peak, complet, pullback",
          "<b>Topic 3</b><br>Words: eeesh, touch, roll, downsid, sampp",
          "<b>Topic 3</b><br>Words: lower, elliottwav, peak, complet, pullback",
          "<b>Topic 3</b><br>Words: lower, peak, complet, elliottwav, pullback",
          "<b>Topic 3</b><br>Words: peak, complet, pullback, swing, elliottwav",
          "<b>Topic 3</b><br>Words: elliottwav, bullish, lower, peak, complet",
          "<b>Topic 3</b><br>Words: elliottwav, lower, ondaselliott, peak, complet",
          "<b>Topic 3</b><br>Words: peak, complet, lower, connector, amp",
          "<b>Topic 3</b><br>Words: degre, resum, larger, wave, within",
          "<b>Topic 3</b><br>Words: lower, peak, complet, elliottwav, pullback",
          "<b>Topic 3</b><br>Words: lower, peak, complet, elliottwav, pullback",
          "<b>Topic 3</b><br>Words: view, elliottwav, updat, lower, bullish",
          "<b>Topic 3</b><br>Words: view, elliottwav, updat, lower, bullish",
          "<b>Topic 3</b><br>Words: elliottwav, view, updat, lower, bullish",
          "<b>Topic 3</b><br>Words: view, elliottwav, updat, lower, peak",
          "<b>Topic 3</b><br>Words: view, elliottwav, updat, lower, peak",
          "<b>Topic 3</b><br>Words: view, elliottwav, updat, lower, peak",
          "<b>Topic 3</b><br>Words: view, elliottwav, updat, lower, peak",
          "<b>Topic 3</b><br>Words: view, elliottwav, updat, lower, box",
          "<b>Topic 3</b><br>Words: view, updat, elliottwav, box, blue",
          "<b>Topic 3</b><br>Words: view, elliottwav, updat, lower, box",
          "<b>Topic 3</b><br>Words: view, elliottwav, updat, lower, bullish",
          "<b>Topic 3</b><br>Words: view, elliottwav, updat, lower, bullish",
          "<b>Topic 3</b><br>Words: elliottwav, peak, complet, pullback, swing",
          "<b>Topic 3</b><br>Words: elliottwav, bluebox, ondaselliott, bullish, view",
          "<b>Topic 3</b><br>Words: view, elliottwav, updat, lower, peak",
          "<b>Topic 3</b><br>Words: view, elliottwav, updat, lower, bullish",
          "<b>Topic 3</b><br>Words: lower, peak, complet, elliottwav, pullback"
         ],
         "marker": {
          "color": "#F0E442"
         },
         "mode": "lines",
         "name": "3_elliottwav_updat_box_blue",
         "type": "scatter",
         "x": [
          "2019-03-13T00:00:00.000000000",
          "2019-03-28T00:00:00.000000000",
          "2019-11-13T00:00:00.000000000",
          "2019-12-31T00:00:00.000000000",
          "2020-02-17T00:00:00.000000000",
          "2020-02-20T00:00:00.000000000",
          "2020-03-05T00:00:00.000000000",
          "2020-03-25T00:00:00.000000000",
          "2020-04-19T00:00:00.000000000",
          "2020-05-17T00:00:00.000000000",
          "2020-05-18T00:00:00.000000000",
          "2020-05-19T00:00:00.000000000",
          "2020-05-21T00:00:00.000000000",
          "2020-05-22T00:00:00.000000000",
          "2020-05-24T00:00:00.000000000",
          "2020-05-25T00:00:00.000000000",
          "2020-05-26T00:00:00.000000000",
          "2020-05-27T00:00:00.000000000",
          "2020-05-29T00:00:00.000000000",
          "2020-05-31T00:00:00.000000000",
          "2020-06-01T00:00:00.000000000",
          "2020-06-02T00:00:00.000000000",
          "2020-06-03T00:00:00.000000000",
          "2020-06-04T00:00:00.000000000",
          "2020-06-08T00:00:00.000000000",
          "2020-06-09T00:00:00.000000000",
          "2020-06-10T00:00:00.000000000",
          "2020-06-11T00:00:00.000000000",
          "2020-06-14T00:00:00.000000000",
          "2020-06-15T00:00:00.000000000",
          "2020-06-17T00:00:00.000000000",
          "2020-06-18T00:00:00.000000000",
          "2020-06-19T00:00:00.000000000",
          "2020-06-22T00:00:00.000000000",
          "2020-06-30T00:00:00.000000000",
          "2020-07-01T00:00:00.000000000",
          "2020-07-02T00:00:00.000000000",
          "2020-07-03T00:00:00.000000000",
          "2020-07-05T00:00:00.000000000",
          "2020-07-06T00:00:00.000000000",
          "2020-07-07T00:00:00.000000000",
          "2020-07-08T00:00:00.000000000",
          "2020-07-09T00:00:00.000000000",
          "2020-07-10T00:00:00.000000000",
          "2020-07-12T00:00:00.000000000",
          "2020-07-13T00:00:00.000000000",
          "2020-07-14T00:00:00.000000000",
          "2020-07-15T00:00:00.000000000",
          "2020-07-16T00:00:00.000000000",
          "2020-07-17T00:00:00.000000000",
          "2020-07-20T00:00:00.000000000",
          "2020-07-21T00:00:00.000000000",
          "2020-07-22T00:00:00.000000000",
          "2020-07-23T00:00:00.000000000",
          "2020-07-24T00:00:00.000000000",
          "2020-07-27T00:00:00.000000000",
          "2020-07-28T00:00:00.000000000",
          "2020-07-29T00:00:00.000000000",
          "2020-07-30T00:00:00.000000000",
          "2020-07-31T00:00:00.000000000",
          "2020-08-03T00:00:00.000000000",
          "2020-08-04T00:00:00.000000000",
          "2020-08-18T00:00:00.000000000",
          "2020-08-23T00:00:00.000000000",
          "2020-08-24T00:00:00.000000000",
          "2020-08-25T00:00:00.000000000",
          "2020-08-26T00:00:00.000000000",
          "2020-08-27T00:00:00.000000000",
          "2020-08-28T00:00:00.000000000",
          "2020-08-30T00:00:00.000000000",
          "2020-08-31T00:00:00.000000000",
          "2020-09-01T00:00:00.000000000",
          "2020-09-02T00:00:00.000000000",
          "2020-09-03T00:00:00.000000000",
          "2020-09-04T00:00:00.000000000",
          "2020-09-05T00:00:00.000000000",
          "2020-09-07T00:00:00.000000000",
          "2020-09-08T00:00:00.000000000",
          "2020-09-09T00:00:00.000000000",
          "2020-09-10T00:00:00.000000000",
          "2020-09-11T00:00:00.000000000",
          "2020-09-12T00:00:00.000000000",
          "2020-09-14T00:00:00.000000000",
          "2020-09-15T00:00:00.000000000",
          "2020-09-16T00:00:00.000000000",
          "2020-09-17T00:00:00.000000000",
          "2020-09-18T00:00:00.000000000",
          "2020-09-19T00:00:00.000000000",
          "2020-09-20T00:00:00.000000000",
          "2020-09-21T00:00:00.000000000",
          "2020-09-22T00:00:00.000000000",
          "2020-09-23T00:00:00.000000000",
          "2020-09-24T00:00:00.000000000",
          "2020-09-25T00:00:00.000000000",
          "2020-09-26T00:00:00.000000000",
          "2020-09-28T00:00:00.000000000",
          "2020-09-29T00:00:00.000000000",
          "2020-10-01T00:00:00.000000000",
          "2020-10-02T00:00:00.000000000",
          "2020-10-05T00:00:00.000000000",
          "2020-10-07T00:00:00.000000000",
          "2020-10-10T00:00:00.000000000",
          "2020-10-14T00:00:00.000000000",
          "2020-10-25T00:00:00.000000000",
          "2020-11-07T00:00:00.000000000",
          "2020-12-15T00:00:00.000000000",
          "2021-01-04T00:00:00.000000000",
          "2021-01-12T00:00:00.000000000",
          "2021-02-02T00:00:00.000000000",
          "2021-02-09T00:00:00.000000000",
          "2021-03-24T00:00:00.000000000",
          "2021-03-25T00:00:00.000000000",
          "2021-04-21T00:00:00.000000000",
          "2021-04-22T00:00:00.000000000",
          "2021-04-26T00:00:00.000000000",
          "2021-05-03T00:00:00.000000000",
          "2021-05-04T00:00:00.000000000",
          "2021-05-26T00:00:00.000000000",
          "2021-06-09T00:00:00.000000000",
          "2021-06-12T00:00:00.000000000",
          "2021-06-28T00:00:00.000000000",
          "2021-07-05T00:00:00.000000000",
          "2021-07-06T00:00:00.000000000",
          "2021-07-08T00:00:00.000000000",
          "2021-07-16T00:00:00.000000000",
          "2021-07-21T00:00:00.000000000",
          "2021-08-03T00:00:00.000000000",
          "2021-09-21T00:00:00.000000000",
          "2021-10-01T00:00:00.000000000",
          "2021-10-03T00:00:00.000000000",
          "2021-10-04T00:00:00.000000000",
          "2021-10-05T00:00:00.000000000",
          "2021-10-06T00:00:00.000000000",
          "2021-10-08T00:00:00.000000000",
          "2021-10-15T00:00:00.000000000",
          "2021-10-17T00:00:00.000000000",
          "2021-10-18T00:00:00.000000000",
          "2021-10-19T00:00:00.000000000",
          "2021-10-20T00:00:00.000000000",
          "2021-10-21T00:00:00.000000000",
          "2021-10-22T00:00:00.000000000",
          "2021-10-23T00:00:00.000000000",
          "2021-10-24T00:00:00.000000000",
          "2021-10-25T00:00:00.000000000",
          "2021-10-26T00:00:00.000000000",
          "2021-10-27T00:00:00.000000000",
          "2021-10-28T00:00:00.000000000",
          "2021-10-29T00:00:00.000000000",
          "2021-10-31T00:00:00.000000000",
          "2021-11-01T00:00:00.000000000",
          "2021-11-02T00:00:00.000000000",
          "2021-11-03T00:00:00.000000000",
          "2021-11-04T00:00:00.000000000",
          "2021-11-05T00:00:00.000000000",
          "2021-11-08T00:00:00.000000000",
          "2021-11-09T00:00:00.000000000",
          "2021-11-10T00:00:00.000000000",
          "2021-11-11T00:00:00.000000000",
          "2021-11-12T00:00:00.000000000",
          "2021-11-14T00:00:00.000000000",
          "2021-11-15T00:00:00.000000000",
          "2021-11-16T00:00:00.000000000",
          "2021-11-17T00:00:00.000000000",
          "2021-11-18T00:00:00.000000000",
          "2021-11-19T00:00:00.000000000",
          "2021-11-21T00:00:00.000000000",
          "2021-11-22T00:00:00.000000000",
          "2021-11-23T00:00:00.000000000",
          "2021-11-24T00:00:00.000000000",
          "2021-11-25T00:00:00.000000000",
          "2021-11-26T00:00:00.000000000",
          "2021-11-27T00:00:00.000000000",
          "2021-11-28T00:00:00.000000000",
          "2021-11-29T00:00:00.000000000",
          "2021-11-30T00:00:00.000000000",
          "2021-12-01T00:00:00.000000000",
          "2021-12-02T00:00:00.000000000",
          "2021-12-03T00:00:00.000000000",
          "2021-12-05T00:00:00.000000000",
          "2021-12-07T00:00:00.000000000",
          "2021-12-08T00:00:00.000000000",
          "2021-12-09T00:00:00.000000000",
          "2021-12-13T00:00:00.000000000",
          "2021-12-14T00:00:00.000000000",
          "2021-12-15T00:00:00.000000000",
          "2021-12-16T00:00:00.000000000",
          "2021-12-20T00:00:00.000000000",
          "2021-12-21T00:00:00.000000000",
          "2021-12-22T00:00:00.000000000",
          "2021-12-23T00:00:00.000000000",
          "2021-12-24T00:00:00.000000000",
          "2021-12-25T00:00:00.000000000",
          "2021-12-26T00:00:00.000000000",
          "2021-12-27T00:00:00.000000000",
          "2021-12-28T00:00:00.000000000",
          "2021-12-29T00:00:00.000000000",
          "2021-12-30T00:00:00.000000000",
          "2021-12-31T00:00:00.000000000",
          "2022-01-02T00:00:00.000000000",
          "2022-01-03T00:00:00.000000000",
          "2022-01-04T00:00:00.000000000",
          "2022-01-05T00:00:00.000000000",
          "2022-01-06T00:00:00.000000000",
          "2022-01-07T00:00:00.000000000",
          "2022-01-10T00:00:00.000000000",
          "2022-01-11T00:00:00.000000000",
          "2022-01-12T00:00:00.000000000",
          "2022-01-13T00:00:00.000000000",
          "2022-01-14T00:00:00.000000000",
          "2022-01-16T00:00:00.000000000",
          "2022-01-18T00:00:00.000000000",
          "2022-01-20T00:00:00.000000000",
          "2022-01-23T00:00:00.000000000",
          "2022-01-24T00:00:00.000000000",
          "2022-01-25T00:00:00.000000000",
          "2022-01-26T00:00:00.000000000",
          "2022-01-27T00:00:00.000000000",
          "2022-01-28T00:00:00.000000000",
          "2022-01-30T00:00:00.000000000",
          "2022-01-31T00:00:00.000000000",
          "2022-02-01T00:00:00.000000000",
          "2022-02-02T00:00:00.000000000",
          "2022-02-03T00:00:00.000000000",
          "2022-02-04T00:00:00.000000000",
          "2022-02-06T00:00:00.000000000",
          "2022-02-07T00:00:00.000000000",
          "2022-02-08T00:00:00.000000000",
          "2022-02-09T00:00:00.000000000",
          "2022-02-10T00:00:00.000000000",
          "2022-02-11T00:00:00.000000000",
          "2022-02-13T00:00:00.000000000",
          "2022-02-14T00:00:00.000000000",
          "2022-02-15T00:00:00.000000000",
          "2022-02-16T00:00:00.000000000",
          "2022-02-17T00:00:00.000000000",
          "2022-02-18T00:00:00.000000000",
          "2022-02-22T00:00:00.000000000",
          "2022-02-23T00:00:00.000000000"
         ],
         "y": {
          "bdata": "AQECAQEBAQEDAwMBAgECCQIDAgIDBAEGAgUDAgIDAwIDBAMRBQMGEhIREBMXBQcGBAwCBQMDAQICAgICAwEBBAQBBQIBAwMBBgcEBQUFBQMBBAIBAQMCBQECAgUFAQQBAw0DAgUFAwMBAQEBAQEBAQECBAEKAgEBAgEBAQEBAQEDAg0EDAwBBgo2ESAHBgINDRkQAQECBgEBAQUEEAgBAQECBQIFBAEDAwMDAgIBAQkEDgEBAwQDBgcCDAQLBAEHBAQFBAQEAgQJDQcgBQgICQQFBAEEAwYEBAIBAwMGBQ0FBQUFBgoGBgYJBwUFAw==",
          "dtype": "i1"
         }
        },
        {
         "hoverinfo": "text",
         "hovertext": [
          "<b>Topic 4</b><br>Words: vs, bare, mkt, activ, note",
          "<b>Topic 4</b><br>Words: suggest, technic, revers, possibl, sentiment",
          "<b>Topic 4</b><br>Words: thursday, sentiment, lot, er, bearish",
          "<b>Topic 4</b><br>Words: contra, ton, indic, sentiment, bearish",
          "<b>Topic 4</b><br>Words: stanc, ill, sentiment, lot, take",
          "<b>Topic 4</b><br>Words: frankli, skeptic, feed, wish, less",
          "<b>Topic 4</b><br>Words: sentiment, hardli, hate, left, indic",
          "<b>Topic 4</b><br>Words: tight, mostli, recov, result, sentiment",
          "<b>Topic 4</b><br>Words: fact, extrem, sentiment, bearish, make",
          "<b>Topic 4</b><br>Words: doubt, pleas, sentiment, love, keep",
          "<b>Topic 4</b><br>Words: sentiment, bullish, nvda, elliottwav, updat",
          "<b>Topic 4</b><br>Words: bot, swing, strike, higher, may",
          "<b>Topic 4</b><br>Words: upcom, area, pop, though, fall",
          "<b>Topic 4</b><br>Words: activ, contract, flow, strike, sentiment",
          "<b>Topic 4</b><br>Words: flow, sentiment, bullish, elliottwav, nvda",
          "<b>Topic 4</b><br>Words: contract, flow, strike, sentiment, interest",
          "<b>Topic 4</b><br>Words: sentiment, deviat, acb, shown, news",
          "<b>Topic 4</b><br>Words: sentiment, nte, deviat, shown, news",
          "<b>Topic 4</b><br>Words: quotwallstreet, paintquot, sbux, agre, elliottwav",
          "<b>Topic 4</b><br>Words: schlong, sentiment, mean, bearish, elliottwav",
          "<b>Topic 4</b><br>Words: ticker, srne, wallstreetbet, wmt, di",
          "<b>Topic 4</b><br>Words: paid, strike, sentiment, premium, call",
          "<b>Topic 4</b><br>Words: paid, strike, sentiment, premium, call",
          "<b>Topic 4</b><br>Words: paid, strike, sentiment, premium, call",
          "<b>Topic 4</b><br>Words: paid, strike, sentiment, premium, price",
          "<b>Topic 4</b><br>Words: engag, focu, june, list, pattern",
          "<b>Topic 4</b><br>Words: paid, strike, sentiment, premium, call",
          "<b>Topic 4</b><br>Words: paid, strike, sentiment, premium, call",
          "<b>Topic 4</b><br>Words: paid, strike, sentiment, premium, call",
          "<b>Topic 4</b><br>Words: paid, strike, sentiment, premium, call",
          "<b>Topic 4</b><br>Words: paid, strike, sentiment, premium, call",
          "<b>Topic 4</b><br>Words: paid, strike, sentiment, premium, call",
          "<b>Topic 4</b><br>Words: paid, strike, sentiment, premium, call",
          "<b>Topic 4</b><br>Words: sentiment, ndaq, deviat, jnj, biib",
          "<b>Topic 4</b><br>Words: sentiment, itll, suck, neg, institut",
          "<b>Topic 4</b><br>Words: sentiment, tool, score, news, scale",
          "<b>Topic 4</b><br>Words: sentiment, news, posit, elliottwav, deviat",
          "<b>Topic 4</b><br>Words: remain, nake, despit, quit, expens",
          "<b>Topic 4</b><br>Words: sentiment, deviat, shown, news, loser",
          "<b>Topic 4</b><br>Words: sentiment, deviat, shown, news, loser",
          "<b>Topic 4</b><br>Words: mvda, shambl, nasti, brutal, elliottwav",
          "<b>Topic 4</b><br>Words: kill, sentiment, point, anoth, drop",
          "<b>Topic 4</b><br>Words: thr, yall, kill, read, sentiment",
          "<b>Topic 4</b><br>Words: entrench, doubter, trvn, elliottwav, acknowledg",
          "<b>Topic 4</b><br>Words: comment, rwallstreetbet, wallstreetbet, hour, sentiment",
          "<b>Topic 4</b><br>Words: comment, rwallstreetbet, wallstreetbet, hour, sentiment",
          "<b>Topic 4</b><br>Words: comment, rwallstreetbet, wallstreetbet, hour, sentiment",
          "<b>Topic 4</b><br>Words: comment, rwallstreetbet, wallstreetbet, hour, sentiment",
          "<b>Topic 4</b><br>Words: comment, rwallstreetbet, wallstreetbet, hour, sentiment",
          "<b>Topic 4</b><br>Words: comment, rwallstreetbet, wallstreetbet, hour, sentiment",
          "<b>Topic 4</b><br>Words: comment, rwallstreetbet, wallstreetbet, sentiment, volum",
          "<b>Topic 4</b><br>Words: comment, rwallstreetbet, wallstreetbet, hour, sentiment",
          "<b>Topic 4</b><br>Words: across, board, happi, expir, flow",
          "<b>Topic 4</b><br>Words: gif, speechless, sentiment, guy, report",
          "<b>Topic 4</b><br>Words: ox, across, board, expir, action",
          "<b>Topic 4</b><br>Words: speech, sentiment, bullish, elliottwav, updat",
          "<b>Topic 4</b><br>Words: sentiment, bto, deviat, shown, lowest",
          "<b>Topic 4</b><br>Words: singlehandedli, lift, messag, board, sentiment",
          "<b>Topic 4</b><br>Words: yieldsquot, stockswal, quotu, tumbl, reuter",
          "<b>Topic 4</b><br>Words: downsid, everyth, upsid, tell, sentiment",
          "<b>Topic 4</b><br>Words: sentiment, turn, toilet, slowli, bearish",
          "<b>Topic 4</b><br>Words: activ, sentiment, sure, option, call",
          "<b>Topic 4</b><br>Words: dust, healthi, pullback, rise, sentiment",
          "<b>Topic 4</b><br>Words: amaz, wrong, someth, sentiment, earn",
          "<b>Topic 4</b><br>Words: equival, otm, purchas, massiv, million",
          "<b>Topic 4</b><br>Words: otherwis, opinion, matter, paid, say",
          "<b>Topic 4</b><br>Words: brief, sentiment, point, tomorrow, bearish",
          "<b>Topic 4</b><br>Words: jan, amaz, busi, sentiment, sinc",
          "<b>Topic 4</b><br>Words: onesid, pundit, heard, came, holder",
          "<b>Topic 4</b><br>Words: mess, area, sentiment, use, bullish",
          "<b>Topic 4</b><br>Words: delta, doubl, bet, strike, bullish",
          "<b>Topic 4</b><br>Words: protest, deutsch, canada, hurt, bank",
          "<b>Topic 4</b><br>Words: alarm, sentiment, bullish, elliottwav, updat",
          "<b>Topic 4</b><br>Words: destin, downtrend, retest, sens, begin"
         ],
         "marker": {
          "color": "#D55E00"
         },
         "mode": "lines",
         "name": "4_sentiment_paid_strike_premium",
         "type": "scatter",
         "x": [
          "2019-01-18T00:00:00.000000000",
          "2019-02-02T00:00:00.000000000",
          "2019-02-12T00:00:00.000000000",
          "2019-02-15T00:00:00.000000000",
          "2019-02-16T00:00:00.000000000",
          "2019-02-20T00:00:00.000000000",
          "2019-02-25T00:00:00.000000000",
          "2019-02-28T00:00:00.000000000",
          "2019-03-18T00:00:00.000000000",
          "2019-04-03T00:00:00.000000000",
          "2019-04-05T00:00:00.000000000",
          "2019-04-25T00:00:00.000000000",
          "2019-05-16T00:00:00.000000000",
          "2019-09-19T00:00:00.000000000",
          "2019-09-23T00:00:00.000000000",
          "2019-09-24T00:00:00.000000000",
          "2019-11-15T00:00:00.000000000",
          "2019-11-21T00:00:00.000000000",
          "2020-03-30T00:00:00.000000000",
          "2020-04-06T00:00:00.000000000",
          "2020-05-18T00:00:00.000000000",
          "2020-06-09T00:00:00.000000000",
          "2020-06-10T00:00:00.000000000",
          "2020-06-11T00:00:00.000000000",
          "2020-06-12T00:00:00.000000000",
          "2020-06-14T00:00:00.000000000",
          "2020-06-15T00:00:00.000000000",
          "2020-06-16T00:00:00.000000000",
          "2020-06-17T00:00:00.000000000",
          "2020-06-19T00:00:00.000000000",
          "2020-06-22T00:00:00.000000000",
          "2020-06-23T00:00:00.000000000",
          "2020-06-24T00:00:00.000000000",
          "2020-07-09T00:00:00.000000000",
          "2020-08-19T00:00:00.000000000",
          "2020-08-20T00:00:00.000000000",
          "2020-08-21T00:00:00.000000000",
          "2020-09-08T00:00:00.000000000",
          "2020-09-16T00:00:00.000000000",
          "2020-09-22T00:00:00.000000000",
          "2020-10-03T00:00:00.000000000",
          "2021-01-13T00:00:00.000000000",
          "2021-01-14T00:00:00.000000000",
          "2021-02-17T00:00:00.000000000",
          "2021-03-03T00:00:00.000000000",
          "2021-03-04T00:00:00.000000000",
          "2021-03-05T00:00:00.000000000",
          "2021-03-08T00:00:00.000000000",
          "2021-03-09T00:00:00.000000000",
          "2021-03-10T00:00:00.000000000",
          "2021-03-15T00:00:00.000000000",
          "2021-03-23T00:00:00.000000000",
          "2021-04-13T00:00:00.000000000",
          "2021-05-13T00:00:00.000000000",
          "2021-05-28T00:00:00.000000000",
          "2021-06-16T00:00:00.000000000",
          "2021-06-23T00:00:00.000000000",
          "2021-08-06T00:00:00.000000000",
          "2021-09-28T00:00:00.000000000",
          "2021-10-11T00:00:00.000000000",
          "2021-10-12T00:00:00.000000000",
          "2021-11-08T00:00:00.000000000",
          "2021-11-09T00:00:00.000000000",
          "2021-11-17T00:00:00.000000000",
          "2021-11-19T00:00:00.000000000",
          "2021-11-30T00:00:00.000000000",
          "2021-12-02T00:00:00.000000000",
          "2021-12-14T00:00:00.000000000",
          "2021-12-17T00:00:00.000000000",
          "2022-01-10T00:00:00.000000000",
          "2022-01-14T00:00:00.000000000",
          "2022-01-30T00:00:00.000000000",
          "2022-02-16T00:00:00.000000000",
          "2022-02-17T00:00:00.000000000"
         ],
         "y": {
          "bdata": "AQABAAEAAQABAAEAAgABAAEAAQABAAEAAQABAAEAAQABAAEAAQABAAEAJACQAAkAEgABAAQAAQAQABoACQAEAAQAAQACAAEAAgABAAEAAQABAAEAAQABAAEAAQABAAEAAQABAAEAAQABAAEAAQABAAIAAQABAAEAAgABAAEAAQABAAEAAQABAAEAAQABAAEAAQABAA==",
          "dtype": "i2"
         }
        },
        {
         "hoverinfo": "text",
         "hovertext": [
          "<b>Topic 5</b><br>Words: movement, sentiment, paid, strike, fade",
          "<b>Topic 5</b><br>Words: central, broker, im, dumb, sentiment",
          "<b>Topic 5</b><br>Words: noon, hr, left, sentiment, paid",
          "<b>Topic 5</b><br>Words: easili, war, sentiment, massiv, paid",
          "<b>Topic 5</b><br>Words: sentiment, paid, strike, premium, sh",
          "<b>Topic 5</b><br>Words: rose, sentiment, buck, paid, consolid",
          "<b>Topic 5</b><br>Words: sentiment, paid, strike, coil, premium",
          "<b>Topic 5</b><br>Words: time, later, trade, day, sentiment",
          "<b>Topic 5</b><br>Words: time, trade, close, sentiment, higher",
          "<b>Topic 5</b><br>Words: time, later, trade, day, sentiment",
          "<b>Topic 5</b><br>Words: time, later, trade, day, sentiment",
          "<b>Topic 5</b><br>Words: time, later, trade, day, sentiment",
          "<b>Topic 5</b><br>Words: time, later, trade, day, sentiment",
          "<b>Topic 5</b><br>Words: time, later, trade, day, sentiment",
          "<b>Topic 5</b><br>Words: time, later, trade, day, sentiment",
          "<b>Topic 5</b><br>Words: time, sentiment, trade, close, higher",
          "<b>Topic 5</b><br>Words: time, later, trade, day, sentiment",
          "<b>Topic 5</b><br>Words: time, later, trade, day, sentiment",
          "<b>Topic 5</b><br>Words: time, trade, close, sentiment, higher",
          "<b>Topic 5</b><br>Words: time, later, trade, day, sentiment",
          "<b>Topic 5</b><br>Words: time, later, trade, day, sentiment",
          "<b>Topic 5</b><br>Words: time, later, trade, day, sentiment",
          "<b>Topic 5</b><br>Words: time, later, trade, day, sentiment",
          "<b>Topic 5</b><br>Words: time, later, trade, day, sentiment",
          "<b>Topic 5</b><br>Words: coinflip, time, sentiment, paid, strike",
          "<b>Topic 5</b><br>Words: time, sentiment, coinflip, paid, trade",
          "<b>Topic 5</b><br>Words: coinflip, time, sentiment, paid, strike",
          "<b>Topic 5</b><br>Words: coinflip, time, sentiment, paid, strike",
          "<b>Topic 5</b><br>Words: coinflip, time, sentiment, paid, strike",
          "<b>Topic 5</b><br>Words: coinflip, time, sentiment, paid, strike",
          "<b>Topic 5</b><br>Words: coinflip, time, sentiment, paid, strike",
          "<b>Topic 5</b><br>Words: coinflip, time, sentiment, paid, strike",
          "<b>Topic 5</b><br>Words: coinflip, time, sentiment, paid, strike",
          "<b>Topic 5</b><br>Words: coinflip, time, sentiment, paid, strike",
          "<b>Topic 5</b><br>Words: time, sentiment, trade, paid, coinflip",
          "<b>Topic 5</b><br>Words: time, later, trade, day, sentiment",
          "<b>Topic 5</b><br>Words: coinflip, time, sentiment, paid, strike",
          "<b>Topic 5</b><br>Words: coinflip, time, sentiment, paid, strike",
          "<b>Topic 5</b><br>Words: time, later, trade, day, sentiment",
          "<b>Topic 5</b><br>Words: time, later, trade, day, sentiment",
          "<b>Topic 5</b><br>Words: time, trade, sentiment, day, paid",
          "<b>Topic 5</b><br>Words: time, sentiment, trade, close, higher",
          "<b>Topic 5</b><br>Words: time, sentiment, trade, close, higher",
          "<b>Topic 5</b><br>Words: time, trade, sentiment, day, paid",
          "<b>Topic 5</b><br>Words: coinflip, time, sentiment, paid, strike",
          "<b>Topic 5</b><br>Words: coinflip, time, sentiment, paid, strike",
          "<b>Topic 5</b><br>Words: time, later, trade, day, sentiment",
          "<b>Topic 5</b><br>Words: time, sentiment, trade, paid, coinflip",
          "<b>Topic 5</b><br>Words: coinflip, time, sentiment, paid, strike",
          "<b>Topic 5</b><br>Words: coinflip, time, sentiment, paid, strike",
          "<b>Topic 5</b><br>Words: coinflip, time, sentiment, paid, strike",
          "<b>Topic 5</b><br>Words: coinflip, time, sentiment, paid, strike",
          "<b>Topic 5</b><br>Words: time, sentiment, trade, paid, coinflip",
          "<b>Topic 5</b><br>Words: coinflip, time, sentiment, paid, strike",
          "<b>Topic 5</b><br>Words: coinflip, time, sentiment, paid, strike",
          "<b>Topic 5</b><br>Words: dayth, sentiment, ive, paid, strike",
          "<b>Topic 5</b><br>Words: sentiment, scrambl, close, paid, strike",
          "<b>Topic 5</b><br>Words: sentiment, edit, paid, strike, premium",
          "<b>Topic 5</b><br>Words: time, later, trade, day, sentiment",
          "<b>Topic 5</b><br>Words: coinflip, time, sentiment, paid, strike",
          "<b>Topic 5</b><br>Words: coinflip, time, sentiment, paid, strike",
          "<b>Topic 5</b><br>Words: sentiment, paid, strike, wallstreetodd, time",
          "<b>Topic 5</b><br>Words: sentiment, paid, strike, wallstreetodd, time",
          "<b>Topic 5</b><br>Words: coinflip, sentiment, paid, strike, wallstreetodd",
          "<b>Topic 5</b><br>Words: coinflip, sentiment, paid, strike, wallstreetodd",
          "<b>Topic 5</b><br>Words: sentiment, paid, strike, wallstreetodd, time",
          "<b>Topic 5</b><br>Words: consecut, sentiment, close, higher, paid",
          "<b>Topic 5</b><br>Words: sentiment, paid, strike, wallstreetodd, time",
          "<b>Topic 5</b><br>Words: sentiment, paid, strike, wallstreetodd, time",
          "<b>Topic 5</b><br>Words: account, sentiment, money, close, make",
          "<b>Topic 5</b><br>Words: sentiment, paid, strike, premium, bond",
          "<b>Topic 5</b><br>Words: coinflip, sentiment, paid, strike, premium",
          "<b>Topic 5</b><br>Words: coinflip, sentiment, paid, strike, wallstreetodd",
          "<b>Topic 5</b><br>Words: sentiment, paid, strike, wallstreetodd, time",
          "<b>Topic 5</b><br>Words: sentiment, paid, strike, wallstreetodd, time",
          "<b>Topic 5</b><br>Words: sentiment, wallstreetodd, time, paid, bio",
          "<b>Topic 5</b><br>Words: sentiment, wallstreetodd, time, paid, bio",
          "<b>Topic 5</b><br>Words: sentiment, wallstreetodd, time, paid, strike",
          "<b>Topic 5</b><br>Words: coinflip, sentiment, paid, strike, wallstreetodd",
          "<b>Topic 5</b><br>Words: coinflip, sentiment, paid, strike, wallstreetodd",
          "<b>Topic 5</b><br>Words: sentiment, wallstreetodd, time, paid, bio",
          "<b>Topic 5</b><br>Words: coinflip, sentiment, paid, strike, wallstreetodd",
          "<b>Topic 5</b><br>Words: sentiment, uaa, paid, strike, afrm",
          "<b>Topic 5</b><br>Words: sentiment, wallstreetodd, time, paid, bio",
          "<b>Topic 5</b><br>Words: sentiment, wallstreetodd, time, paid, bio",
          "<b>Topic 5</b><br>Words: sentiment, wallstreetodd, time, paid, bio",
          "<b>Topic 5</b><br>Words: coinflip, sentiment, paid, strike, wallstreetodd"
         ],
         "marker": {
          "color": "#0072B2"
         },
         "mode": "lines",
         "name": "5_time_trade_close_day",
         "type": "scatter",
         "x": [
          "2019-02-20T00:00:00.000000000",
          "2019-05-16T00:00:00.000000000",
          "2019-07-03T00:00:00.000000000",
          "2019-08-15T00:00:00.000000000",
          "2020-02-14T00:00:00.000000000",
          "2020-11-26T00:00:00.000000000",
          "2020-12-17T00:00:00.000000000",
          "2021-04-08T00:00:00.000000000",
          "2021-04-12T00:00:00.000000000",
          "2021-04-17T00:00:00.000000000",
          "2021-04-18T00:00:00.000000000",
          "2021-04-21T00:00:00.000000000",
          "2021-04-24T00:00:00.000000000",
          "2021-05-05T00:00:00.000000000",
          "2021-05-09T00:00:00.000000000",
          "2021-05-10T00:00:00.000000000",
          "2021-05-13T00:00:00.000000000",
          "2021-05-17T00:00:00.000000000",
          "2021-05-20T00:00:00.000000000",
          "2021-05-22T00:00:00.000000000",
          "2021-05-23T00:00:00.000000000",
          "2021-05-24T00:00:00.000000000",
          "2021-05-25T00:00:00.000000000",
          "2021-05-28T00:00:00.000000000",
          "2021-06-03T00:00:00.000000000",
          "2021-06-04T00:00:00.000000000",
          "2021-06-06T00:00:00.000000000",
          "2021-06-11T00:00:00.000000000",
          "2021-06-15T00:00:00.000000000",
          "2021-06-16T00:00:00.000000000",
          "2021-06-18T00:00:00.000000000",
          "2021-06-22T00:00:00.000000000",
          "2021-06-23T00:00:00.000000000",
          "2021-07-02T00:00:00.000000000",
          "2021-07-03T00:00:00.000000000",
          "2021-07-05T00:00:00.000000000",
          "2021-07-08T00:00:00.000000000",
          "2021-07-09T00:00:00.000000000",
          "2021-07-13T00:00:00.000000000",
          "2021-07-14T00:00:00.000000000",
          "2021-07-15T00:00:00.000000000",
          "2021-07-16T00:00:00.000000000",
          "2021-07-17T00:00:00.000000000",
          "2021-07-18T00:00:00.000000000",
          "2021-07-21T00:00:00.000000000",
          "2021-07-26T00:00:00.000000000",
          "2021-07-31T00:00:00.000000000",
          "2021-08-01T00:00:00.000000000",
          "2021-08-03T00:00:00.000000000",
          "2021-08-05T00:00:00.000000000",
          "2021-08-06T00:00:00.000000000",
          "2021-08-07T00:00:00.000000000",
          "2021-08-08T00:00:00.000000000",
          "2021-08-09T00:00:00.000000000",
          "2021-08-11T00:00:00.000000000",
          "2021-08-20T00:00:00.000000000",
          "2021-08-23T00:00:00.000000000",
          "2021-08-25T00:00:00.000000000",
          "2021-09-18T00:00:00.000000000",
          "2021-09-19T00:00:00.000000000",
          "2021-09-20T00:00:00.000000000",
          "2021-09-25T00:00:00.000000000",
          "2021-09-26T00:00:00.000000000",
          "2021-09-27T00:00:00.000000000",
          "2021-10-09T00:00:00.000000000",
          "2021-10-10T00:00:00.000000000",
          "2021-10-26T00:00:00.000000000",
          "2021-10-30T00:00:00.000000000",
          "2021-10-31T00:00:00.000000000",
          "2021-11-04T00:00:00.000000000",
          "2021-11-11T00:00:00.000000000",
          "2021-11-21T00:00:00.000000000",
          "2021-11-22T00:00:00.000000000",
          "2021-11-27T00:00:00.000000000",
          "2021-11-28T00:00:00.000000000",
          "2021-11-29T00:00:00.000000000",
          "2021-12-04T00:00:00.000000000",
          "2021-12-05T00:00:00.000000000",
          "2021-12-11T00:00:00.000000000",
          "2021-12-18T00:00:00.000000000",
          "2022-01-23T00:00:00.000000000",
          "2022-01-29T00:00:00.000000000",
          "2022-02-11T00:00:00.000000000",
          "2022-02-12T00:00:00.000000000",
          "2022-02-13T00:00:00.000000000",
          "2022-02-20T00:00:00.000000000",
          "2022-02-26T00:00:00.000000000"
         ],
         "y": {
          "bdata": "AQEBAQEBAQEBAQEBAQEEAQEBAQQBAQEBAgICAQEBAQEBAQIBAQEBAQIBAQIBAQECAQEBBAIBAQEBAQEBAQIBAQECAQECAQICAQEBAQECAQEBAQEBAQEB",
          "dtype": "i1"
         }
        },
        {
         "hoverinfo": "text",
         "hovertext": [
          "<b>Topic 6</b><br>Words: roku, time, trade, ox, vehicl",
          "<b>Topic 6</b><br>Words: bid, cloud, time, lost, extrem",
          "<b>Topic 6</b><br>Words: sunris, star, gld, time, atvi",
          "<b>Topic 6</b><br>Words: roku, guess, manipul, time, everi",
          "<b>Topic 6</b><br>Words: roku, heaven, time, omg, match",
          "<b>Topic 6</b><br>Words: time, kurodasenpai, hillhick, trade, calendar",
          "<b>Topic 6</b><br>Words: runup, feb, time, largest, roku",
          "<b>Topic 6</b><br>Words: roku, time, trade, day, close",
          "<b>Topic 6</b><br>Words: troubl, playbook, time, higher, trade",
          "<b>Topic 6</b><br>Words: roku, ever, work, mu, need",
          "<b>Topic 6</b><br>Words: flsi, star, fvrr, time, freedom",
          "<b>Topic 6</b><br>Words: star, time, freedom, amat, trade",
          "<b>Topic 6</b><br>Words: roku, time, stick, trade, shield",
          "<b>Topic 6</b><br>Words: snap, goog, msft, time, trade",
          "<b>Topic 6</b><br>Words: snap, goog, time, trade, close",
          "<b>Topic 6</b><br>Words: twtr, snap, goog, time, trade",
          "<b>Topic 6</b><br>Words: time, roku, trade, day, bynd",
          "<b>Topic 6</b><br>Words: twtr, snap, roku, time, trade",
          "<b>Topic 6</b><br>Words: twtr, snap, goog, roku, time",
          "<b>Topic 6</b><br>Words: riot, rotat, roku, time, correct",
          "<b>Topic 6</b><br>Words: shouldv, twlo, gone, roku, time",
          "<b>Topic 6</b><br>Words: star, codx, ino, time, ostk",
          "<b>Topic 6</b><br>Words: rokuthegreat, time, popular, gl, trade",
          "<b>Topic 6</b><br>Words: starstruck, time, reward, cross, trade",
          "<b>Topic 6</b><br>Words: ttcf, star, expr, ostk, time",
          "<b>Topic 6</b><br>Words: time, star, day, trade, zs",
          "<b>Topic 6</b><br>Words: star, mvi, freedom, gme, time",
          "<b>Topic 6</b><br>Words: stockwit, user, what, googl, time",
          "<b>Topic 6</b><br>Words: star, abnb, freedom, time, snap",
          "<b>Topic 6</b><br>Words: star, clsk, time, freedom, snap",
          "<b>Topic 6</b><br>Words: star, abnb, time, freedom, pltr",
          "<b>Topic 6</b><br>Words: star, sava, abnb, time, freedom",
          "<b>Topic 6</b><br>Words: star, fubo, nndm, freedom, time",
          "<b>Topic 6</b><br>Words: star, abnb, freedom, time, snap",
          "<b>Topic 6</b><br>Words: star, freedom, snap, time, wish",
          "<b>Topic 6</b><br>Words: star, dash, nvax, time, freedom",
          "<b>Topic 6</b><br>Words: star, abnb, freedom, snap, time",
          "<b>Topic 6</b><br>Words: ast, astr, star, time, abnb",
          "<b>Topic 6</b><br>Words: star, freedom, snap, goog, time",
          "<b>Topic 6</b><br>Words: star, freedom, goog, time, watchlist",
          "<b>Topic 6</b><br>Words: star, freedom, snap, time, goog",
          "<b>Topic 6</b><br>Words: star, freedom, snap, time, goog",
          "<b>Topic 6</b><br>Words: star, abnb, freedom, time, snap",
          "<b>Topic 6</b><br>Words: star, fvrr, etsi, time, di",
          "<b>Topic 6</b><br>Words: star, sava, abnb, time, freedom",
          "<b>Topic 6</b><br>Words: star, fubo, time, freedom, snap",
          "<b>Topic 6</b><br>Words: star, fubo, sava, time, freedom",
          "<b>Topic 6</b><br>Words: roku, best, market, time, trade",
          "<b>Topic 6</b><br>Words: star, abnb, freedom, time, snap",
          "<b>Topic 6</b><br>Words: ftch, pavm, star, gdrx, time",
          "<b>Topic 6</b><br>Words: star, hd, abnb, wmt, time",
          "<b>Topic 6</b><br>Words: star, abbv, nndm, pfe, time",
          "<b>Topic 6</b><br>Words: star, fl, kss, time, freedom",
          "<b>Topic 6</b><br>Words: star, abbv, riot, mara, time",
          "<b>Topic 6</b><br>Words: star, abbv, bntx, pfe, time",
          "<b>Topic 6</b><br>Words: star, dltr, ulta, snow, time",
          "<b>Topic 6</b><br>Words: roku, trade, time, crm, longterm",
          "<b>Topic 6</b><br>Words: star, fubo, abnb, freedom, time",
          "<b>Topic 6</b><br>Words: time, trade, close, day, coinflip",
          "<b>Topic 6</b><br>Words: star, abnb, freedom, snap, time",
          "<b>Topic 6</b><br>Words: star, fubo, fsli, freedom, time",
          "<b>Topic 6</b><br>Words: maxr, star, fsli, freedom, time",
          "<b>Topic 6</b><br>Words: time, trade, roku, close, day",
          "<b>Topic 6</b><br>Words: three, time, qcom, watchlist, trade",
          "<b>Topic 6</b><br>Words: star, fubo, sofi, freedom, time",
          "<b>Topic 6</b><br>Words: reportal, star, gtc, time, plenti",
          "<b>Topic 6</b><br>Words: tjx, star, tgt, time, freedom",
          "<b>Topic 6</b><br>Words: time, trade, close, day, coinflip",
          "<b>Topic 6</b><br>Words: star, intu, panw, time, freedom",
          "<b>Topic 6</b><br>Words: star, dltr, bbi, time, freedom",
          "<b>Topic 6</b><br>Words: hiti, dk, star, ddog, time",
          "<b>Topic 6</b><br>Words: roku, baba, fb, time, buy",
          "<b>Topic 6</b><br>Words: star, freedom, goog, time, watchlist",
          "<b>Topic 6</b><br>Words: star, freedom, time, qcom, watchlist",
          "<b>Topic 6</b><br>Words: star, freedom, goog, time, qcom",
          "<b>Topic 6</b><br>Words: star, freedom, goog, time, watchlist",
          "<b>Topic 6</b><br>Words: star, adb, freedom, time, avgo",
          "<b>Topic 6</b><br>Words: star, freedom, goog, time, watchlist",
          "<b>Topic 6</b><br>Words: star, freedom, pypl, time, avgo",
          "<b>Topic 6</b><br>Words: wba, star, nke, crwd, time",
          "<b>Topic 6</b><br>Words: star, freedom, amat, time, sq",
          "<b>Topic 6</b><br>Words: star, axp, algn, time, freedom",
          "<b>Topic 6</b><br>Words: pltr, away, trade, roku, plan",
          "<b>Topic 6</b><br>Words: star, lcid, freedom, time, nio",
          "<b>Topic 6</b><br>Words: star, freedom, goog, time, watchlist",
          "<b>Topic 6</b><br>Words: gfl, cvx, star, time, cat",
          "<b>Topic 6</b><br>Words: star, sbux, freedom, time, pypl",
          "<b>Topic 6</b><br>Words: star, freedom, amat, time, qcom",
          "<b>Topic 6</b><br>Words: star, freedom, amat, time, qcom",
          "<b>Topic 6</b><br>Words: star, freedom, time, amat, goog",
          "<b>Topic 6</b><br>Words: hub, star, time, freedom, amat",
          "<b>Topic 6</b><br>Words: star, exp, abnb, time, freedom",
          "<b>Topic 6</b><br>Words: star, crox, dash, time, uber",
          "<b>Topic 6</b><br>Words: star, freedom, time, amat, roku",
          "<b>Topic 6</b><br>Words: hook, roku, open, time, report",
          "<b>Topic 6</b><br>Words: stockspastor, playbook, uber, roku, sq"
         ],
         "marker": {
          "color": "#CC79A7"
         },
         "mode": "lines",
         "name": "6_star_freedom_watchlist_roku",
         "type": "scatter",
         "x": [
          "2019-03-17T00:00:00.000000000",
          "2019-03-20T00:00:00.000000000",
          "2019-08-28T00:00:00.000000000",
          "2019-10-16T00:00:00.000000000",
          "2019-10-21T00:00:00.000000000",
          "2020-02-10T00:00:00.000000000",
          "2020-02-12T00:00:00.000000000",
          "2020-02-13T00:00:00.000000000",
          "2020-02-14T00:00:00.000000000",
          "2020-02-24T00:00:00.000000000",
          "2020-03-05T00:00:00.000000000",
          "2020-03-12T00:00:00.000000000",
          "2020-04-16T00:00:00.000000000",
          "2020-05-03T00:00:00.000000000",
          "2020-05-06T00:00:00.000000000",
          "2020-05-08T00:00:00.000000000",
          "2020-05-10T00:00:00.000000000",
          "2020-05-11T00:00:00.000000000",
          "2020-05-12T00:00:00.000000000",
          "2020-05-13T00:00:00.000000000",
          "2020-05-15T00:00:00.000000000",
          "2020-07-05T00:00:00.000000000",
          "2020-07-13T00:00:00.000000000",
          "2021-02-24T00:00:00.000000000",
          "2021-06-03T00:00:00.000000000",
          "2021-06-04T00:00:00.000000000",
          "2021-06-07T00:00:00.000000000",
          "2021-06-09T00:00:00.000000000",
          "2021-06-13T00:00:00.000000000",
          "2021-06-15T00:00:00.000000000",
          "2021-06-21T00:00:00.000000000",
          "2021-06-22T00:00:00.000000000",
          "2021-06-23T00:00:00.000000000",
          "2021-06-24T00:00:00.000000000",
          "2021-06-25T00:00:00.000000000",
          "2021-06-30T00:00:00.000000000",
          "2021-07-01T00:00:00.000000000",
          "2021-07-02T00:00:00.000000000",
          "2021-07-05T00:00:00.000000000",
          "2021-07-07T00:00:00.000000000",
          "2021-07-08T00:00:00.000000000",
          "2021-07-09T00:00:00.000000000",
          "2021-07-11T00:00:00.000000000",
          "2021-07-12T00:00:00.000000000",
          "2021-07-14T00:00:00.000000000",
          "2021-07-15T00:00:00.000000000",
          "2021-07-20T00:00:00.000000000",
          "2021-07-29T00:00:00.000000000",
          "2021-08-05T00:00:00.000000000",
          "2021-08-13T00:00:00.000000000",
          "2021-08-15T00:00:00.000000000",
          "2021-08-19T00:00:00.000000000",
          "2021-08-20T00:00:00.000000000",
          "2021-08-22T00:00:00.000000000",
          "2021-08-23T00:00:00.000000000",
          "2021-08-25T00:00:00.000000000",
          "2021-08-27T00:00:00.000000000",
          "2021-10-03T00:00:00.000000000",
          "2021-10-05T00:00:00.000000000",
          "2021-10-22T00:00:00.000000000",
          "2021-11-03T00:00:00.000000000",
          "2021-11-04T00:00:00.000000000",
          "2021-11-05T00:00:00.000000000",
          "2021-11-08T00:00:00.000000000",
          "2021-11-11T00:00:00.000000000",
          "2021-11-12T00:00:00.000000000",
          "2021-11-17T00:00:00.000000000",
          "2021-11-18T00:00:00.000000000",
          "2021-11-19T00:00:00.000000000",
          "2021-11-22T00:00:00.000000000",
          "2021-11-23T00:00:00.000000000",
          "2021-11-29T00:00:00.000000000",
          "2021-12-01T00:00:00.000000000",
          "2021-12-06T00:00:00.000000000",
          "2021-12-08T00:00:00.000000000",
          "2021-12-10T00:00:00.000000000",
          "2021-12-13T00:00:00.000000000",
          "2021-12-15T00:00:00.000000000",
          "2021-12-16T00:00:00.000000000",
          "2021-12-27T00:00:00.000000000",
          "2021-12-28T00:00:00.000000000",
          "2022-01-03T00:00:00.000000000",
          "2022-01-09T00:00:00.000000000",
          "2022-01-12T00:00:00.000000000",
          "2022-01-26T00:00:00.000000000",
          "2022-01-27T00:00:00.000000000",
          "2022-01-28T00:00:00.000000000",
          "2022-02-01T00:00:00.000000000",
          "2022-02-02T00:00:00.000000000",
          "2022-02-04T00:00:00.000000000",
          "2022-02-10T00:00:00.000000000",
          "2022-02-14T00:00:00.000000000",
          "2022-02-15T00:00:00.000000000",
          "2022-02-16T00:00:00.000000000",
          "2022-02-21T00:00:00.000000000",
          "2022-02-27T00:00:00.000000000"
         ],
         "y": {
          "bdata": "AQEBAQEBAQYBAQEBAQEBAQEBAQEBAQEBAQIBAQEBAQEBAQEBAQEBAQEBAQEBAQEBAQEBAQEBAQEBAQEBAQEBAQEBAQIBAQEBAQEBAQEBAQEBAQEBAQEBAQEBAQEBAQEB",
          "dtype": "i1"
         }
        },
        {
         "hoverinfo": "text",
         "hovertext": [
          "<b>Topic 7</b><br>Words: pin, put, rest, star, opportun",
          "<b>Topic 7</b><br>Words: star, tmro, wwe, dnt, call",
          "<b>Topic 7</b><br>Words: lucketrad, fluffstravel, star, attach, aal",
          "<b>Topic 7</b><br>Words: dunno, star, everywher, till, freedom",
          "<b>Topic 7</b><br>Words: fix, star, put, save, issu",
          "<b>Topic 7</b><br>Words: star, iova, freedom, tril, watchlist",
          "<b>Topic 7</b><br>Words: star, iova, freedom, tril, watchlist",
          "<b>Topic 7</b><br>Words: put, sq, call, star, level",
          "<b>Topic 7</b><br>Words: star, click, alon, profil, pypl",
          "<b>Topic 7</b><br>Words: put, lcid, nio, monday, star",
          "<b>Topic 7</b><br>Words: put, pfe, star, friday, option",
          "<b>Topic 7</b><br>Words: put, part, friday, star, amzn",
          "<b>Topic 7</b><br>Words: put, prog, pypl, star, rivn",
          "<b>Topic 7</b><br>Words: put, lcid, star, option, thursday",
          "<b>Topic 7</b><br>Words: put, star, mostli, lcid, gone",
          "<b>Topic 7</b><br>Words: put, star, option, aapl, tsla",
          "<b>Topic 7</b><br>Words: put, wednesday, star, option, aapl",
          "<b>Topic 7</b><br>Words: put, aal, ccl, star, friday",
          "<b>Topic 7</b><br>Words: put, star, option, volum, pfe",
          "<b>Topic 7</b><br>Words: put, tuesday, star, option, aapl",
          "<b>Topic 7</b><br>Words: put, baba, friday, star, option",
          "<b>Topic 7</b><br>Words: put, roku, snap, amc, wednesday",
          "<b>Topic 7</b><br>Words: put, lcid, thursday, star, option",
          "<b>Topic 7</b><br>Words: courag, select, star, act, build",
          "<b>Topic 7</b><br>Words: put, intraday, amc, star, option",
          "<b>Topic 7</b><br>Words: put, pfe, star, option, freedom",
          "<b>Topic 7</b><br>Words: put, star, option, intraday, thursday",
          "<b>Topic 7</b><br>Words: put, call, star, option, freedom",
          "<b>Topic 7</b><br>Words: put, star, option, intraday, tuesday",
          "<b>Topic 7</b><br>Words: put, amc, star, sofi, lcid",
          "<b>Topic 7</b><br>Words: put, mix, star, lcid, gl",
          "<b>Topic 7</b><br>Words: put, monday, star, option, aapl",
          "<b>Topic 7</b><br>Words: put, bayo, lynk, star, option",
          "<b>Topic 7</b><br>Words: put, bayo, lynk, star, option",
          "<b>Topic 7</b><br>Words: put, lynk, bayo, star, channl",
          "<b>Topic 7</b><br>Words: put, lynk, bayo, option, star",
          "<b>Topic 7</b><br>Words: put, bayo, lynk, star, option",
          "<b>Topic 7</b><br>Words: put, star, bayo, lynk, option",
          "<b>Topic 7</b><br>Words: put, star, lynk, bayo, lcid",
          "<b>Topic 7</b><br>Words: put, lynk, bayo, star, option",
          "<b>Topic 7</b><br>Words: put, bayo, lynk, star, option",
          "<b>Topic 7</b><br>Words: put, star, lynk, bayo, option",
          "<b>Topic 7</b><br>Words: put, bayo, lynk, star, option",
          "<b>Topic 7</b><br>Words: put, bayo, lynk, star, option",
          "<b>Topic 7</b><br>Words: put, intraday, option, star, volum",
          "<b>Topic 7</b><br>Words: chck, put, lynk, bayo, star",
          "<b>Topic 7</b><br>Words: put, monday, option, star, tsla",
          "<b>Topic 7</b><br>Words: put, uber, snap, intraday, star",
          "<b>Topic 7</b><br>Words: put, pfe, snap, intraday, star",
          "<b>Topic 7</b><br>Words: put, lynk, bayo, star, di",
          "<b>Topic 7</b><br>Words: put, amc, friday, fb, star",
          "<b>Topic 7</b><br>Words: slv, put, star, option, fb",
          "<b>Topic 7</b><br>Words: put, star, bayo, lynk, uber",
          "<b>Topic 7</b><br>Words: put, star, marketrebel, freedom, intraday",
          "<b>Topic 7</b><br>Words: put, intraday, pltr, star, option",
          "<b>Topic 7</b><br>Words: put, intraday, pltr, star, fb",
          "<b>Topic 7</b><br>Words: put, star, option, bayo, lynk",
          "<b>Topic 7</b><br>Words: put, star, option, fb, bayo",
          "<b>Topic 7</b><br>Words: put, lynk, bayo, star, option"
         ],
         "marker": {
          "color": "#E69F00"
         },
         "mode": "lines",
         "name": "7_put_option_lynk_bayo",
         "type": "scatter",
         "x": [
          "2019-04-30T00:00:00.000000000",
          "2019-05-03T00:00:00.000000000",
          "2019-05-23T00:00:00.000000000",
          "2020-09-25T00:00:00.000000000",
          "2021-03-08T00:00:00.000000000",
          "2021-05-04T00:00:00.000000000",
          "2021-05-05T00:00:00.000000000",
          "2021-06-08T00:00:00.000000000",
          "2021-10-16T00:00:00.000000000",
          "2021-10-25T00:00:00.000000000",
          "2021-11-05T00:00:00.000000000",
          "2021-11-12T00:00:00.000000000",
          "2021-11-17T00:00:00.000000000",
          "2021-11-19T00:00:00.000000000",
          "2021-11-22T00:00:00.000000000",
          "2021-11-23T00:00:00.000000000",
          "2021-11-24T00:00:00.000000000",
          "2021-11-27T00:00:00.000000000",
          "2021-11-29T00:00:00.000000000",
          "2021-11-30T00:00:00.000000000",
          "2021-12-04T00:00:00.000000000",
          "2021-12-08T00:00:00.000000000",
          "2021-12-09T00:00:00.000000000",
          "2021-12-17T00:00:00.000000000",
          "2021-12-21T00:00:00.000000000",
          "2021-12-22T00:00:00.000000000",
          "2021-12-23T00:00:00.000000000",
          "2021-12-27T00:00:00.000000000",
          "2021-12-29T00:00:00.000000000",
          "2021-12-30T00:00:00.000000000",
          "2022-01-07T00:00:00.000000000",
          "2022-01-10T00:00:00.000000000",
          "2022-01-12T00:00:00.000000000",
          "2022-01-13T00:00:00.000000000",
          "2022-01-14T00:00:00.000000000",
          "2022-01-16T00:00:00.000000000",
          "2022-01-18T00:00:00.000000000",
          "2022-01-19T00:00:00.000000000",
          "2022-01-20T00:00:00.000000000",
          "2022-01-21T00:00:00.000000000",
          "2022-01-24T00:00:00.000000000",
          "2022-01-25T00:00:00.000000000",
          "2022-01-26T00:00:00.000000000",
          "2022-01-27T00:00:00.000000000",
          "2022-01-28T00:00:00.000000000",
          "2022-01-29T00:00:00.000000000",
          "2022-01-31T00:00:00.000000000",
          "2022-02-07T00:00:00.000000000",
          "2022-02-08T00:00:00.000000000",
          "2022-02-10T00:00:00.000000000",
          "2022-02-11T00:00:00.000000000",
          "2022-02-14T00:00:00.000000000",
          "2022-02-15T00:00:00.000000000",
          "2022-02-16T00:00:00.000000000",
          "2022-02-17T00:00:00.000000000",
          "2022-02-22T00:00:00.000000000",
          "2022-02-23T00:00:00.000000000",
          "2022-02-24T00:00:00.000000000",
          "2022-02-25T00:00:00.000000000"
         ],
         "y": {
          "bdata": "AQEBAQEBAQEBAQEBAgIBAwEBAgEBAQEBAQICAgICAQEDAgIBAgICAgICAgIBAQEBAQEBAgIDAQECAgE=",
          "dtype": "i1"
         }
        },
        {
         "hoverinfo": "text",
         "hovertext": [
          "<b>Topic 8</b><br>Words: put, uvxi, txn, scan, gave",
          "<b>Topic 8</b><br>Words: put, jnpr, bkng, txn, adb",
          "<b>Topic 8</b><br>Words: put, txn, adb, scan, option",
          "<b>Topic 8</b><br>Words: put, nflox, wynn, bkng, scan",
          "<b>Topic 8</b><br>Words: put, jnpr, fslr, option, txn",
          "<b>Topic 8</b><br>Words: put, synn, flsr, jnpr, option",
          "<b>Topic 8</b><br>Words: put, vxxb, fslr, uvxi, wdc",
          "<b>Topic 8</b><br>Words: put, mildli, fslr, scan, direct",
          "<b>Topic 8</b><br>Words: put, jnpr, somewhat, option, wdc",
          "<b>Topic 8</b><br>Words: put, vz, amazingli, lyft, ko",
          "<b>Topic 8</b><br>Words: put, fslr, wynn, klac, iwm",
          "<b>Topic 8</b><br>Words: coup, put, bynd, shop, premarket",
          "<b>Topic 8</b><br>Words: adp, veev, put, premarket, googl",
          "<b>Topic 8</b><br>Words: put, avgo, shop, premarket, googl",
          "<b>Topic 8</b><br>Words: anet, put, shop, premarket, googl",
          "<b>Topic 8</b><br>Words: vfc, unh, put, premarket, googl",
          "<b>Topic 8</b><br>Words: put, bg, gainer, biib, adb",
          "<b>Topic 8</b><br>Words: put, gainer, biib, scan, track",
          "<b>Topic 8</b><br>Words: put, gainer, bkng, dxcm, exp",
          "<b>Topic 8</b><br>Words: put, lamr, gainer, dxcm, scan",
          "<b>Topic 8</b><br>Words: put, gainer, scan, track, et",
          "<b>Topic 8</b><br>Words: put, loser, scan, track, et",
          "<b>Topic 8</b><br>Words: put, loser, scan, lrcx, track",
          "<b>Topic 8</b><br>Words: put, gainer, adb, scan, track",
          "<b>Topic 8</b><br>Words: put, giii, acn, gainer, nvax",
          "<b>Topic 8</b><br>Words: put, ppg, gainer, nvax, scan",
          "<b>Topic 8</b><br>Words: put, gainer, docu, scan, track",
          "<b>Topic 8</b><br>Words: put, loser, docu, scan, track",
          "<b>Topic 8</b><br>Words: put, loser, scan, track, et",
          "<b>Topic 8</b><br>Words: put, immu, gainer, adb, scan",
          "<b>Topic 8</b><br>Words: put, gainer, nee, scan, track",
          "<b>Topic 8</b><br>Words: put, loser, scan, track, et",
          "<b>Topic 8</b><br>Words: put, loser, ilmn, scan, track",
          "<b>Topic 8</b><br>Words: put, gainer, scan, track, et",
          "<b>Topic 8</b><br>Words: put, loser, yum, gsx, scan",
          "<b>Topic 8</b><br>Words: put, gainer, scan, track, et",
          "<b>Topic 8</b><br>Words: put, loser, scan, track, et",
          "<b>Topic 8</b><br>Words: put, qdel, gainer, scan, zm",
          "<b>Topic 8</b><br>Words: put, gainer, sedg, cvna, bntx",
          "<b>Topic 8</b><br>Words: put, wday, gainer, scan, track",
          "<b>Topic 8</b><br>Words: put, loser, knx, amgn, scan",
          "<b>Topic 8</b><br>Words: put, loser, adb, scan, track",
          "<b>Topic 8</b><br>Words: put, loser, twtr, scan, team",
          "<b>Topic 8</b><br>Words: put, loser, beke, scan, zm",
          "<b>Topic 8</b><br>Words: put, gainer, crsp, bidu, scan",
          "<b>Topic 8</b><br>Words: put, scan, loser, track, et",
          "<b>Topic 8</b><br>Words: put, srpt, gainer, lli, bidu",
          "<b>Topic 8</b><br>Words: put, loser, ppg, ibm, scan",
          "<b>Topic 8</b><br>Words: put, loser, scan, track, et",
          "<b>Topic 8</b><br>Words: put, sono, gainer, pin, scan",
          "<b>Topic 8</b><br>Words: put, loser, mstr, nvax, scan",
          "<b>Topic 8</b><br>Words: put, mstr, gainer, futu, nvax",
          "<b>Topic 8</b><br>Words: put, loser, tdoc, scan, track",
          "<b>Topic 8</b><br>Words: put, gainer, etsi, scan, track",
          "<b>Topic 8</b><br>Words: put, gainer, se, twlo, scan",
          "<b>Topic 8</b><br>Words: put, loser, scan, zm, track",
          "<b>Topic 8</b><br>Words: put, loser, dg, scan, track",
          "<b>Topic 8</b><br>Words: put, loser, scan, track, et",
          "<b>Topic 8</b><br>Words: put, loser, lin, om, bbbi",
          "<b>Topic 8</b><br>Words: put, tmo, gainer, scan, track",
          "<b>Topic 8</b><br>Words: put, loser, pton, scan, track",
          "<b>Topic 8</b><br>Words: put, mtch, gainer, czr, scan",
          "<b>Topic 8</b><br>Words: put, loser, coin, scan, track",
          "<b>Topic 8</b><br>Words: put, spgi, gainer, scan, track",
          "<b>Topic 8</b><br>Words: put, gainer, ttd, scan, track",
          "<b>Topic 8</b><br>Words: put, iff, gainer, ttd, scan",
          "<b>Topic 8</b><br>Words: put, loser, plbi, biib, upst",
          "<b>Topic 8</b><br>Words: put, wsm, gainer, biib, scan",
          "<b>Topic 8</b><br>Words: put, loser, nvax, dkng, scan",
          "<b>Topic 8</b><br>Words: put, loser, amt, scan, track",
          "<b>Topic 8</b><br>Words: put, asan, gainer, len, biib",
          "<b>Topic 8</b><br>Words: put, gainer, biib, scan, track",
          "<b>Topic 8</b><br>Words: put, avxl, ntla, gainer, scan",
          "<b>Topic 8</b><br>Words: put, loser, spgi, cvna, scan",
          "<b>Topic 8</b><br>Words: put, ntra, pxd, gainer, nvax",
          "<b>Topic 8</b><br>Words: put, den, gainer, scan, spce",
          "<b>Topic 8</b><br>Words: put, blin, gainer, axp, mrin",
          "<b>Topic 8</b><br>Words: put, loser, negg, coin, scan",
          "<b>Topic 8</b><br>Words: put, loser, scan, track, avgo",
          "<b>Topic 8</b><br>Words: put, gainer, scan, mrna, track",
          "<b>Topic 8</b><br>Words: put, loser, gs, scan, track",
          "<b>Topic 8</b><br>Words: put, qt, tal, edu, xela"
         ],
         "marker": {
          "color": "#56B4E9"
         },
         "mode": "lines",
         "name": "8_scan_track_gainer_loser",
         "type": "scatter",
         "x": [
          "2019-01-22T00:00:00.000000000",
          "2019-01-28T00:00:00.000000000",
          "2019-01-29T00:00:00.000000000",
          "2019-02-05T00:00:00.000000000",
          "2019-02-19T00:00:00.000000000",
          "2019-03-07T00:00:00.000000000",
          "2019-03-28T00:00:00.000000000",
          "2019-03-29T00:00:00.000000000",
          "2019-04-04T00:00:00.000000000",
          "2019-04-22T00:00:00.000000000",
          "2019-05-01T00:00:00.000000000",
          "2019-06-26T00:00:00.000000000",
          "2019-06-27T00:00:00.000000000",
          "2019-07-01T00:00:00.000000000",
          "2019-08-16T00:00:00.000000000",
          "2019-10-15T00:00:00.000000000",
          "2019-12-13T00:00:00.000000000",
          "2019-12-20T00:00:00.000000000",
          "2020-02-14T00:00:00.000000000",
          "2020-05-18T00:00:00.000000000",
          "2020-05-20T00:00:00.000000000",
          "2020-05-28T00:00:00.000000000",
          "2020-06-01T00:00:00.000000000",
          "2020-06-12T00:00:00.000000000",
          "2020-06-25T00:00:00.000000000",
          "2020-07-17T00:00:00.000000000",
          "2020-09-02T00:00:00.000000000",
          "2020-09-04T00:00:00.000000000",
          "2020-09-08T00:00:00.000000000",
          "2020-09-14T00:00:00.000000000",
          "2020-09-15T00:00:00.000000000",
          "2020-09-17T00:00:00.000000000",
          "2020-09-21T00:00:00.000000000",
          "2020-09-28T00:00:00.000000000",
          "2020-09-29T00:00:00.000000000",
          "2020-10-01T00:00:00.000000000",
          "2020-10-02T00:00:00.000000000",
          "2020-10-05T00:00:00.000000000",
          "2020-10-06T00:00:00.000000000",
          "2020-10-07T00:00:00.000000000",
          "2020-10-09T00:00:00.000000000",
          "2020-10-26T00:00:00.000000000",
          "2020-10-30T00:00:00.000000000",
          "2020-11-19T00:00:00.000000000",
          "2020-12-15T00:00:00.000000000",
          "2021-01-07T00:00:00.000000000",
          "2021-01-11T00:00:00.000000000",
          "2021-01-22T00:00:00.000000000",
          "2021-02-09T00:00:00.000000000",
          "2021-02-11T00:00:00.000000000",
          "2021-02-17T00:00:00.000000000",
          "2021-02-19T00:00:00.000000000",
          "2021-02-25T00:00:00.000000000",
          "2021-02-26T00:00:00.000000000",
          "2021-03-11T00:00:00.000000000",
          "2021-03-12T00:00:00.000000000",
          "2021-03-18T00:00:00.000000000",
          "2021-04-09T00:00:00.000000000",
          "2021-04-14T00:00:00.000000000",
          "2021-04-15T00:00:00.000000000",
          "2021-04-19T00:00:00.000000000",
          "2021-05-05T00:00:00.000000000",
          "2021-05-19T00:00:00.000000000",
          "2021-05-20T00:00:00.000000000",
          "2021-05-21T00:00:00.000000000",
          "2021-05-24T00:00:00.000000000",
          "2021-06-08T00:00:00.000000000",
          "2021-06-11T00:00:00.000000000",
          "2021-06-15T00:00:00.000000000",
          "2021-06-17T00:00:00.000000000",
          "2021-06-18T00:00:00.000000000",
          "2021-06-23T00:00:00.000000000",
          "2021-06-28T00:00:00.000000000",
          "2021-06-29T00:00:00.000000000",
          "2021-07-01T00:00:00.000000000",
          "2021-07-02T00:00:00.000000000",
          "2021-07-06T00:00:00.000000000",
          "2021-07-08T00:00:00.000000000",
          "2021-07-13T00:00:00.000000000",
          "2021-07-16T00:00:00.000000000",
          "2021-07-19T00:00:00.000000000",
          "2021-07-20T00:00:00.000000000"
         ],
         "y": {
          "bdata": "AQEBAQEBAQEBAQEBAQEBAQEBAQEBAQEBAQEBAQEBAQEBAQEBAQEBAQEBAQEBAgEBAQEBAQEBAQEBAQEBAQEBAQEBAQEBAQEBAQEBAQEBAQEBAQ==",
          "dtype": "i1"
         }
        },
        {
         "hoverinfo": "text",
         "hovertext": [
          "<b>Topic 9</b><br>Words: bll, cnc, disca, return, scan",
          "<b>Topic 9</b><br>Words: tiffani, tif, capri, incyt, scan",
          "<b>Topic 9</b><br>Words: scan, loew, mckesson, ipg, ipgp",
          "<b>Topic 9</b><br>Words: scan, expedia, track, gainer, loser",
          "<b>Topic 9</b><br>Words: scan, garmin, diamondback, concho, ipg",
          "<b>Topic 9</b><br>Words: scan, return, track, gainer, loser",
          "<b>Topic 9</b><br>Words: scan, track, msci, return, gainer",
          "<b>Topic 9</b><br>Words: scan, total, return, track, gainer",
          "<b>Topic 9</b><br>Words: msci, scan, inc, track, lifeboat",
          "<b>Topic 9</b><br>Words: msci, scan, inc, vengeanc, paycom",
          "<b>Topic 9</b><br>Words: scan, inc, total, msci, return",
          "<b>Topic 9</b><br>Words: scan, staygold, marketaxess, track, mktx",
          "<b>Topic 9</b><br>Words: scan, track, gainer, loser, premarket",
          "<b>Topic 9</b><br>Words: scan, total, return, track, gainer",
          "<b>Topic 9</b><br>Words: scan, dominion, odfl, track, nlok",
          "<b>Topic 9</b><br>Words: scan, fortinet, total, ftnt, return",
          "<b>Topic 9</b><br>Words: aptiv, aptv, scan, idexx, laboratori",
          "<b>Topic 9</b><br>Words: pharmaceut, scan, wst, total, return",
          "<b>Topic 9</b><br>Words: pharmaceut, scan, wst, total, return",
          "<b>Topic 9</b><br>Words: pharmaceut, scan, track, wst, total",
          "<b>Topic 9</b><br>Words: scan, total, return, track, dexcom",
          "<b>Topic 9</b><br>Words: silvergold, sonicmerlin, stabl, scan, rather",
          "<b>Topic 9</b><br>Words: scan, conocophillip, cop, return, skywork",
          "<b>Topic 9</b><br>Words: scan, total, return, track, dexcom",
          "<b>Topic 9</b><br>Words: davita, dva, scan, newmont, return",
          "<b>Topic 9</b><br>Words: scan, return, ulta, track, gainer",
          "<b>Topic 9</b><br>Words: scan, total, return, track, dexcom",
          "<b>Topic 9</b><br>Words: scan, zebra, zbra, qorvo, fortinet",
          "<b>Topic 9</b><br>Words: scan, total, return, track, dexcom",
          "<b>Topic 9</b><br>Words: biorad, scan, laboratori, qorvo, track",
          "<b>Topic 9</b><br>Words: scan, total, return, track, dexcom",
          "<b>Topic 9</b><br>Words: pharmaceut, scan, track, wst, total",
          "<b>Topic 9</b><br>Words: scan, total, return, track, dexcom",
          "<b>Topic 9</b><br>Words: scan, wst, total, return, track",
          "<b>Topic 9</b><br>Words: etsi, scan, wst, total, track",
          "<b>Topic 9</b><br>Words: etsi, scan, servicenow, total, return",
          "<b>Topic 9</b><br>Words: etsi, scan, servicenow, total, return",
          "<b>Topic 9</b><br>Words: etsi, scan, servicenow, total, return",
          "<b>Topic 9</b><br>Words: scan, track, paycom, norwegian, gainer",
          "<b>Topic 9</b><br>Words: etsi, scan, track, return, gainer",
          "<b>Topic 9</b><br>Words: etsi, scan, rol, rollin, total",
          "<b>Topic 9</b><br>Words: etsi, scan, rollin, rol, albemarl",
          "<b>Topic 9</b><br>Words: etsi, scan, rol, freeportmcmoran, rollin",
          "<b>Topic 9</b><br>Words: etsi, scan, albemarl, alb, total",
          "<b>Topic 9</b><br>Words: etsi, scan, total, return, paypal",
          "<b>Topic 9</b><br>Words: etsi, total, return, scan, paypal",
          "<b>Topic 9</b><br>Words: etsi, total, return, scan, paypal",
          "<b>Topic 9</b><br>Words: etsi, scan, indexb, momentumvsvalu, yearendreview",
          "<b>Topic 9</b><br>Words: etsi, alexandria, scan, efx, equifax",
          "<b>Topic 9</b><br>Words: etsi, freeportmcmoran, enphas, scan, total",
          "<b>Topic 9</b><br>Words: scan, apa, apach, diamondback, occident",
          "<b>Topic 9</b><br>Words: scan, anss, netapp, ansi, ntap",
          "<b>Topic 9</b><br>Words: unum, unm, fortiv, scan, conagra",
          "<b>Topic 9</b><br>Words: danah, scan, dhr, wst, newmont",
          "<b>Topic 9</b><br>Words: freeportmcmoran, scan, newmont, return, dailybest",
          "<b>Topic 9</b><br>Words: ppg, scan, weeklybest, freeportmcmoran, return",
          "<b>Topic 9</b><br>Words: ulta, scan, lw, weston, lamb",
          "<b>Topic 9</b><br>Words: dxc, scan, kansa, ksu, nucor",
          "<b>Topic 9</b><br>Words: dxc, scan, kansa, ksu, nucor",
          "<b>Topic 9</b><br>Words: scan, nucor, equifax, efx, fortinet",
          "<b>Topic 9</b><br>Words: scan, biogen, enphas, dailyworst, biib",
          "<b>Topic 9</b><br>Words: dxc, pool, scan, equifax, efx",
          "<b>Topic 9</b><br>Words: nrg, etsi, energi, viacomcb, scan",
          "<b>Topic 9</b><br>Words: scan, nrg, return, track, gainer",
          "<b>Topic 9</b><br>Words: scan, idexx, gartner, laboratori, idxx",
          "<b>Topic 9</b><br>Words: teleflex, scan, tfx, biogen, dailyworst",
          "<b>Topic 9</b><br>Words: etsi, scan, kroger, tyl, conagra",
          "<b>Topic 9</b><br>Words: scan, track, return, gainer, loser",
          "<b>Topic 9</b><br>Words: scan, monolith, paycom, mpwr, fortinet"
         ],
         "marker": {
          "color": "#009E73"
         },
         "mode": "lines",
         "name": "9_return_sampp_total_index",
         "type": "scatter",
         "x": [
          "2019-11-19T00:00:00.000000000",
          "2019-11-26T00:00:00.000000000",
          "2020-02-11T00:00:00.000000000",
          "2020-02-15T00:00:00.000000000",
          "2020-02-20T00:00:00.000000000",
          "2020-02-22T00:00:00.000000000",
          "2020-02-29T00:00:00.000000000",
          "2020-03-07T00:00:00.000000000",
          "2020-03-28T00:00:00.000000000",
          "2020-04-18T00:00:00.000000000",
          "2020-05-02T00:00:00.000000000",
          "2020-05-09T00:00:00.000000000",
          "2020-05-16T00:00:00.000000000",
          "2020-05-23T00:00:00.000000000",
          "2020-05-31T00:00:00.000000000",
          "2020-06-06T00:00:00.000000000",
          "2020-06-11T00:00:00.000000000",
          "2020-06-27T00:00:00.000000000",
          "2020-07-20T00:00:00.000000000",
          "2020-07-26T00:00:00.000000000",
          "2020-08-08T00:00:00.000000000",
          "2020-08-12T00:00:00.000000000",
          "2020-08-13T00:00:00.000000000",
          "2020-08-16T00:00:00.000000000",
          "2020-08-18T00:00:00.000000000",
          "2020-08-22T00:00:00.000000000",
          "2020-08-23T00:00:00.000000000",
          "2020-09-04T00:00:00.000000000",
          "2020-09-05T00:00:00.000000000",
          "2020-09-10T00:00:00.000000000",
          "2020-09-12T00:00:00.000000000",
          "2020-09-20T00:00:00.000000000",
          "2020-09-28T00:00:00.000000000",
          "2020-10-11T00:00:00.000000000",
          "2020-10-17T00:00:00.000000000",
          "2020-10-24T00:00:00.000000000",
          "2020-10-31T00:00:00.000000000",
          "2020-11-08T00:00:00.000000000",
          "2020-11-11T00:00:00.000000000",
          "2020-11-14T00:00:00.000000000",
          "2020-11-22T00:00:00.000000000",
          "2020-11-30T00:00:00.000000000",
          "2020-12-06T00:00:00.000000000",
          "2020-12-14T00:00:00.000000000",
          "2020-12-20T00:00:00.000000000",
          "2020-12-27T00:00:00.000000000",
          "2021-01-02T00:00:00.000000000",
          "2021-01-04T00:00:00.000000000",
          "2021-01-07T00:00:00.000000000",
          "2021-01-30T00:00:00.000000000",
          "2021-02-09T00:00:00.000000000",
          "2021-02-26T00:00:00.000000000",
          "2021-04-13T00:00:00.000000000",
          "2021-04-14T00:00:00.000000000",
          "2021-04-16T00:00:00.000000000",
          "2021-04-18T00:00:00.000000000",
          "2021-06-01T00:00:00.000000000",
          "2021-06-07T00:00:00.000000000",
          "2021-06-14T00:00:00.000000000",
          "2021-06-21T00:00:00.000000000",
          "2021-06-22T00:00:00.000000000",
          "2021-06-28T00:00:00.000000000",
          "2021-06-29T00:00:00.000000000",
          "2021-07-04T00:00:00.000000000",
          "2021-07-12T00:00:00.000000000",
          "2021-07-16T00:00:00.000000000",
          "2021-07-20T00:00:00.000000000",
          "2021-08-23T00:00:00.000000000",
          "2021-08-30T00:00:00.000000000"
         ],
         "y": {
          "bdata": "AQEBAgEDAgIBAQIBAwIBAQEBAQEBAQEBAQIBAQEBAQEBAQEBAQEBAgEBAQEBAQEBAQEBAQEBAQEBAQEBAQEBAgEBAQIB",
          "dtype": "i1"
         }
        },
        {
         "hoverinfo": "text",
         "hovertext": [
          "<b>Topic 10</b><br>Words: consistentprofit, al, lock, et, ba",
          "<b>Topic 10</b><br>Words: consistentprofit, al, et, ba, googl",
          "<b>Topic 10</b><br>Words: quit, algo, possibl, happen, could",
          "<b>Topic 10</b><br>Words: bkng, consistentprofit, al, et, ba",
          "<b>Topic 10</b><br>Words: snort, cocain, algo, even, return",
          "<b>Topic 10</b><br>Words: bkng, consistentprofit, ba, perform, best",
          "<b>Topic 10</b><br>Words: consistentprofit, strangl, al, et, ba",
          "<b>Topic 10</b><br>Words: tradewis, mariagascon, txn, lrcx, return",
          "<b>Topic 10</b><br>Words: consistentprofit, strangl, al, direct, et",
          "<b>Topic 10</b><br>Words: consistentprofit, strangl, al, et, ba",
          "<b>Topic 10</b><br>Words: enforc, mechan, mnuchin, agreement, includ",
          "<b>Topic 10</b><br>Words: consistentprofit, strangl, al, et, ba",
          "<b>Topic 10</b><br>Words: completequot, tsi, uschina, mnuchin, fdx",
          "<b>Topic 10</b><br>Words: bkng, consistentprofit, strangl, al, et",
          "<b>Topic 10</b><br>Words: consistentprofit, strangl, al, et, ba",
          "<b>Topic 10</b><br>Words: consistentprofit, strangl, al, et, googl",
          "<b>Topic 10</b><br>Words: bkng, consistentprofit, strangl, al, et",
          "<b>Topic 10</b><br>Words: consistentprofit, strangl, al, et, ba",
          "<b>Topic 10</b><br>Words: consistentprofit, strangl, al, et, ba",
          "<b>Topic 10</b><br>Words: consistentprofit, strangl, bidu, al, et",
          "<b>Topic 10</b><br>Words: spot, problem, algo, nio, cant",
          "<b>Topic 10</b><br>Words: cat, consistentprofit, strangl, al, avgo",
          "<b>Topic 10</b><br>Words: consistentprofit, strangl, al, et, ba",
          "<b>Topic 10</b><br>Words: cat, consistentprofit, strangl, al, et",
          "<b>Topic 10</b><br>Words: bkng, consistentprofit, strangl, bidu, al",
          "<b>Topic 10</b><br>Words: algo, matter, guidanc, everyon, know",
          "<b>Topic 10</b><br>Words: advdec, compass, breadth, south, ba",
          "<b>Topic 10</b><br>Words: bkng, cat, consistentprofit, strangl, al",
          "<b>Topic 10</b><br>Words: consistentprofit, strangl, bidu, al, avgo",
          "<b>Topic 10</b><br>Words: consistentprofit, strangl, al, avgo, et",
          "<b>Topic 10</b><br>Words: bkng, consistentprofit, strangl, al, et",
          "<b>Topic 10</b><br>Words: bkng, cat, consistentprofit, strangl, al",
          "<b>Topic 10</b><br>Words: bkng, consistentprofit, strangl, al, et",
          "<b>Topic 10</b><br>Words: bkng, consistentprofit, strangl, al, avgo",
          "<b>Topic 10</b><br>Words: overreact, algo, complet, that, happen",
          "<b>Topic 10</b><br>Words: consistentprofit, strangl, bidu, al, avgo",
          "<b>Topic 10</b><br>Words: algo, comput, shit, point, would",
          "<b>Topic 10</b><br>Words: finest, algo, trade, return, sampp",
          "<b>Topic 10</b><br>Words: bkng, consistentprofit, strangl, al, avgo",
          "<b>Topic 10</b><br>Words: consistentprofit, strangl, al, et, ba",
          "<b>Topic 10</b><br>Words: grossli, punish, greedi, return, retrac",
          "<b>Topic 10</b><br>Words: bkng, cat, consistentprofit, strangl, al",
          "<b>Topic 10</b><br>Words: eow, algo, cover, soon, start",
          "<b>Topic 10</b><br>Words: consistentprofit, strangl, al, avgo, et",
          "<b>Topic 10</b><br>Words: consistentprofit, strangl, bidu, al, et",
          "<b>Topic 10</b><br>Words: consistentprofit, strangl, bidu, al, avgo",
          "<b>Topic 10</b><br>Words: bluevillecapit, consistentprofit, strangl, bidu, al",
          "<b>Topic 10</b><br>Words: bluevillecapit, bkng, cat, consistentprofit, strangl",
          "<b>Topic 10</b><br>Words: bluevillecapit, bkng, consistentprofit, strangl, al",
          "<b>Topic 10</b><br>Words: bluevillecapit, consistentprofit, strangl, al, avgo",
          "<b>Topic 10</b><br>Words: basket, algo, differ, return, indiscrimin",
          "<b>Topic 10</b><br>Words: bluevillecapit, cat, consistentprofit, strangl, bidu",
          "<b>Topic 10</b><br>Words: bluevillecapit, bkng, consistentprofit, strangl, al",
          "<b>Topic 10</b><br>Words: algo, love, trade, return, nvda",
          "<b>Topic 10</b><br>Words: bluevillecapit, cat, consistentprofit, strangl, bidu",
          "<b>Topic 10</b><br>Words: bluevillecapit, consistentprofit, strangl, bidu, al",
          "<b>Topic 10</b><br>Words: garbag, algo, also, like, trade",
          "<b>Topic 10</b><br>Words: bluevillecapit, consistentprofit, strangl, al, et",
          "<b>Topic 10</b><br>Words: bluevillecapit, cat, consistentprofit, strangl, bidu",
          "<b>Topic 10</b><br>Words: bluevillecapit, consistentprofit, strangl, al, avgo",
          "<b>Topic 10</b><br>Words: bluevillecapit, cat, consistentprofit, strangl, al",
          "<b>Topic 10</b><br>Words: bluevillecapit, bkng, consistentprofit, strangl, al",
          "<b>Topic 10</b><br>Words: bluevillecapit, bkng, consistentprofit, strangl, al",
          "<b>Topic 10</b><br>Words: bluevillecapit, cat, consistentprofit, strangl, al",
          "<b>Topic 10</b><br>Words: bluevillecapit, bkng, consistentprofit, strangl, al",
          "<b>Topic 10</b><br>Words: bluevillecapit, bkng, consistentprofit, strangl, al",
          "<b>Topic 10</b><br>Words: bluevillecapit, cat, consistentprofit, strangl, al",
          "<b>Topic 10</b><br>Words: bluevillecapit, cat, consistentprofit, strangl, al",
          "<b>Topic 10</b><br>Words: bluevillecapit, bkng, cat, consistentprofit, strangl",
          "<b>Topic 10</b><br>Words: bluevillecapit, consistentprofit, strangl, al, avgo",
          "<b>Topic 10</b><br>Words: bluevillecapit, consistentprofit, strangl, bidu, al",
          "<b>Topic 10</b><br>Words: bluevillecapit, cat, consistentprofit, strangl, al",
          "<b>Topic 10</b><br>Words: bluevillecapit, consistentprofit, strangl, bidu, al",
          "<b>Topic 10</b><br>Words: scam, iv, whatev, crush, algo",
          "<b>Topic 10</b><br>Words: bluevillecapit, consistentprofit, strangl, al, avgo",
          "<b>Topic 10</b><br>Words: travel, bkng, sever, overvalu, googl",
          "<b>Topic 10</b><br>Words: bluevillecapit, bkng, consistentprofit, strangl, al",
          "<b>Topic 10</b><br>Words: bluevillecapit, consistentprofit, strangl, bidu, al",
          "<b>Topic 10</b><br>Words: bluevillecapit, consistentprofit, strangl, al, avgo",
          "<b>Topic 10</b><br>Words: bluevillecapit, bkng, consistentprofit, strangl, al",
          "<b>Topic 10</b><br>Words: ep, baba, liar, pe, comparison"
         ],
         "marker": {
          "color": "#F0E442"
         },
         "mode": "lines",
         "name": "10_consistentprofit_al_strangl_et",
         "type": "scatter",
         "x": [
          "2019-01-11T00:00:00.000000000",
          "2019-01-25T00:00:00.000000000",
          "2019-01-29T00:00:00.000000000",
          "2019-02-08T00:00:00.000000000",
          "2019-02-14T00:00:00.000000000",
          "2019-02-15T00:00:00.000000000",
          "2019-02-22T00:00:00.000000000",
          "2019-03-07T00:00:00.000000000",
          "2019-03-15T00:00:00.000000000",
          "2019-03-22T00:00:00.000000000",
          "2019-04-10T00:00:00.000000000",
          "2019-04-18T00:00:00.000000000",
          "2019-06-26T00:00:00.000000000",
          "2019-07-14T00:00:00.000000000",
          "2019-07-21T00:00:00.000000000",
          "2019-07-26T00:00:00.000000000",
          "2019-08-02T00:00:00.000000000",
          "2019-08-23T00:00:00.000000000",
          "2019-09-07T00:00:00.000000000",
          "2019-09-21T00:00:00.000000000",
          "2019-10-03T00:00:00.000000000",
          "2019-10-12T00:00:00.000000000",
          "2019-10-19T00:00:00.000000000",
          "2019-10-26T00:00:00.000000000",
          "2019-11-09T00:00:00.000000000",
          "2019-11-14T00:00:00.000000000",
          "2019-11-29T00:00:00.000000000",
          "2019-12-14T00:00:00.000000000",
          "2019-12-21T00:00:00.000000000",
          "2020-01-18T00:00:00.000000000",
          "2020-02-01T00:00:00.000000000",
          "2020-02-08T00:00:00.000000000",
          "2020-02-16T00:00:00.000000000",
          "2020-02-22T00:00:00.000000000",
          "2020-02-25T00:00:00.000000000",
          "2020-03-28T00:00:00.000000000",
          "2020-04-02T00:00:00.000000000",
          "2020-04-17T00:00:00.000000000",
          "2020-04-25T00:00:00.000000000",
          "2020-05-09T00:00:00.000000000",
          "2020-05-13T00:00:00.000000000",
          "2020-05-30T00:00:00.000000000",
          "2020-06-10T00:00:00.000000000",
          "2020-08-08T00:00:00.000000000",
          "2020-08-22T00:00:00.000000000",
          "2020-09-05T00:00:00.000000000",
          "2020-09-19T00:00:00.000000000",
          "2020-10-10T00:00:00.000000000",
          "2020-10-24T00:00:00.000000000",
          "2020-11-07T00:00:00.000000000",
          "2020-11-13T00:00:00.000000000",
          "2021-01-09T00:00:00.000000000",
          "2021-01-16T00:00:00.000000000",
          "2021-02-10T00:00:00.000000000",
          "2021-02-13T00:00:00.000000000",
          "2021-03-06T00:00:00.000000000",
          "2021-03-08T00:00:00.000000000",
          "2021-04-10T00:00:00.000000000",
          "2021-04-17T00:00:00.000000000",
          "2021-05-15T00:00:00.000000000",
          "2021-05-22T00:00:00.000000000",
          "2021-05-29T00:00:00.000000000",
          "2021-06-05T00:00:00.000000000",
          "2021-06-19T00:00:00.000000000",
          "2021-07-03T00:00:00.000000000",
          "2021-08-07T00:00:00.000000000",
          "2021-08-14T00:00:00.000000000",
          "2021-09-18T00:00:00.000000000",
          "2021-09-25T00:00:00.000000000",
          "2021-10-02T00:00:00.000000000",
          "2021-10-09T00:00:00.000000000",
          "2021-10-16T00:00:00.000000000",
          "2021-10-30T00:00:00.000000000",
          "2021-11-05T00:00:00.000000000",
          "2021-11-06T00:00:00.000000000",
          "2021-12-20T00:00:00.000000000",
          "2022-01-15T00:00:00.000000000",
          "2022-01-29T00:00:00.000000000",
          "2022-02-05T00:00:00.000000000",
          "2022-02-12T00:00:00.000000000",
          "2022-02-22T00:00:00.000000000"
         ],
         "y": {
          "bdata": "AQEBAQEBAQEBAQEBAQEBAQEBAQEBAQEBAQEBAQEBAQEBAQEBAQEBAQEBAQEBAQEBAQEBAQEBAQEBAQEBAQEBAQEBAQEBAQEBAQEBAQEBAQEB",
          "dtype": "i1"
         }
        },
        {
         "hoverinfo": "text",
         "hovertext": [
          "<b>Topic 11</b><br>Words: visit, ox, beta, sweep, consistentprofit",
          "<b>Topic 11</b><br>Words: visit, ox, beta, sweep, consistentprofit",
          "<b>Topic 11</b><br>Words: visit, ox, beta, sweep, consistentprofit",
          "<b>Topic 11</b><br>Words: visit, ox, beta, sweep, consistentprofit",
          "<b>Topic 11</b><br>Words: visit, optionstrad, ox, consistentprofit, beta",
          "<b>Topic 11</b><br>Words: visit, optionstrad, beta, consistentprofit, sweep",
          "<b>Topic 11</b><br>Words: visit, optionstrad, ox, consistentprofit, beta",
          "<b>Topic 11</b><br>Words: visit, optionstrad, ox, consistentprofit, beta",
          "<b>Topic 11</b><br>Words: consistentprofit, visit, al, optionstrad, strangl",
          "<b>Topic 11</b><br>Words: infohow, consistentprofit, spg, al, strangl",
          "<b>Topic 11</b><br>Words: nasdaq, consistentprofit, al, visit, strangl",
          "<b>Topic 11</b><br>Words: nasdaq, consistentprofit, al, visit, strangl",
          "<b>Topic 11</b><br>Words: nasdaq, consistentprofit, al, visit, strangl",
          "<b>Topic 11</b><br>Words: consistentprofit, al, strangl, nasdaq, qqq",
          "<b>Topic 11</b><br>Words: consistentprofit, al, strangl, nasdaq, qqq",
          "<b>Topic 11</b><br>Words: consistentprofit, al, strangl, broom, et",
          "<b>Topic 11</b><br>Words: consistentprofit, al, strangl, broom, et",
          "<b>Topic 11</b><br>Words: consistentprofit, al, strangl, broom, et",
          "<b>Topic 11</b><br>Words: consistentprofit, al, strangl, broom, et",
          "<b>Topic 11</b><br>Words: consistentprofit, al, strangl, broom, et",
          "<b>Topic 11</b><br>Words: consistentprofit, al, strangl, broom, et",
          "<b>Topic 11</b><br>Words: consistentprofit, al, strangl, broom, et",
          "<b>Topic 11</b><br>Words: consistentprofit, al, strangl, broom, et",
          "<b>Topic 11</b><br>Words: ox, sweep, largest, sever, worth",
          "<b>Topic 11</b><br>Words: hizenberg, sling, day, divi, consistentprofit",
          "<b>Topic 11</b><br>Words: consistentprofit, optionstrad, al, ox, strangl",
          "<b>Topic 11</b><br>Words: optionstrad, ox, sweep, consistentprofit, al",
          "<b>Topic 11</b><br>Words: daytrad, consistentprofit, al, optionstrad, strangl",
          "<b>Topic 11</b><br>Words: consistentprofit, al, strangl, feedback, seat",
          "<b>Topic 11</b><br>Words: consistentprofit, al, strangl, feedback, seat",
          "<b>Topic 11</b><br>Words: bullsey, consistentprofit, al, strangl, sweepcast",
          "<b>Topic 11</b><br>Words: bullsey, consistentprofit, al, strangl, sweepcast",
          "<b>Topic 11</b><br>Words: bullsey, consistentprofit, al, strangl, sweepcast",
          "<b>Topic 11</b><br>Words: bullsey, consistentprofit, al, strangl, sweepcast",
          "<b>Topic 11</b><br>Words: bullsey, consistentprofit, al, strangl, sweepcast",
          "<b>Topic 11</b><br>Words: stocksplit, printer, unusu, activ, consistentprofit",
          "<b>Topic 11</b><br>Words: stockstowatch, exp, sweep, june, pt",
          "<b>Topic 11</b><br>Words: sweep, closeout, consistentprofit, al, strangl",
          "<b>Topic 11</b><br>Words: sweepcast, stockstowatch, unusu, mention, activ",
          "<b>Topic 11</b><br>Words: trigger, cheddarflowalert, consistentprofit, al, steadili",
          "<b>Topic 11</b><br>Words: golden, sweep, expir, alert, premium",
          "<b>Topic 11</b><br>Words: golden, sweep, expir, alert, premium",
          "<b>Topic 11</b><br>Words: golden, sweep, expir, alert, premium",
          "<b>Topic 11</b><br>Words: golden, sweep, expir, alert, premium",
          "<b>Topic 11</b><br>Words: golden, detail, sweep, expir, alert",
          "<b>Topic 11</b><br>Words: consistentprofit, al, strangl, et, heat",
          "<b>Topic 11</b><br>Words: alert, sweepcast, consistentprofit, ox, al",
          "<b>Topic 11</b><br>Words: previous, sweepcast, optionstrad, discuss, previou",
          "<b>Topic 11</b><br>Words: viciou, heart, attack, consistentprofit, al",
          "<b>Topic 11</b><br>Words: alert, sweepcast, consistentprofit, al, strangl",
          "<b>Topic 11</b><br>Words: alert, sweepcast, ox, unusu, consistentprofit",
          "<b>Topic 11</b><br>Words: alert, cheddarflowalert, consistentprofit, al, strangl",
          "<b>Topic 11</b><br>Words: activ, cheddarflowalert, alert, tape, consistentprofit",
          "<b>Topic 11</b><br>Words: stockstotrad, consistentprofit, alert, al, strangl",
          "<b>Topic 11</b><br>Words: daytradingtip, alert, sweepcast, consistentprofit, al",
          "<b>Topic 11</b><br>Words: daytradingtip, alert, sweepcast, consistentprofit, al",
          "<b>Topic 11</b><br>Words: stockstotrad, alert, sweepcast, ox, consistentprofit",
          "<b>Topic 11</b><br>Words: daytradingtip, alert, sweepcast, consistentprofit, al",
          "<b>Topic 11</b><br>Words: daytradingtip, alert, sweepcast, consistentprofit, al",
          "<b>Topic 11</b><br>Words: sweepcast, stockstowatch, unusu, mention, activ"
         ],
         "marker": {
          "color": "#D55E00"
         },
         "mode": "lines",
         "name": "11_alert_sweep_ox_daytrad",
         "type": "scatter",
         "x": [
          "2020-05-15T00:00:00.000000000",
          "2020-05-16T00:00:00.000000000",
          "2020-05-18T00:00:00.000000000",
          "2020-05-19T00:00:00.000000000",
          "2020-05-20T00:00:00.000000000",
          "2020-05-26T00:00:00.000000000",
          "2020-05-28T00:00:00.000000000",
          "2020-05-29T00:00:00.000000000",
          "2020-06-02T00:00:00.000000000",
          "2020-06-09T00:00:00.000000000",
          "2020-06-17T00:00:00.000000000",
          "2020-06-18T00:00:00.000000000",
          "2020-06-22T00:00:00.000000000",
          "2020-07-07T00:00:00.000000000",
          "2020-07-08T00:00:00.000000000",
          "2020-08-03T00:00:00.000000000",
          "2020-08-17T00:00:00.000000000",
          "2020-08-19T00:00:00.000000000",
          "2020-08-20T00:00:00.000000000",
          "2020-08-21T00:00:00.000000000",
          "2020-08-24T00:00:00.000000000",
          "2020-08-28T00:00:00.000000000",
          "2020-08-31T00:00:00.000000000",
          "2020-10-28T00:00:00.000000000",
          "2020-12-03T00:00:00.000000000",
          "2020-12-22T00:00:00.000000000",
          "2020-12-29T00:00:00.000000000",
          "2021-01-06T00:00:00.000000000",
          "2021-01-21T00:00:00.000000000",
          "2021-01-23T00:00:00.000000000",
          "2021-03-23T00:00:00.000000000",
          "2021-03-24T00:00:00.000000000",
          "2021-03-25T00:00:00.000000000",
          "2021-03-26T00:00:00.000000000",
          "2021-03-30T00:00:00.000000000",
          "2021-05-21T00:00:00.000000000",
          "2021-06-05T00:00:00.000000000",
          "2021-07-08T00:00:00.000000000",
          "2021-08-19T00:00:00.000000000",
          "2021-08-23T00:00:00.000000000",
          "2021-10-01T00:00:00.000000000",
          "2021-10-13T00:00:00.000000000",
          "2021-11-04T00:00:00.000000000",
          "2021-11-05T00:00:00.000000000",
          "2021-11-10T00:00:00.000000000",
          "2021-11-13T00:00:00.000000000",
          "2021-11-22T00:00:00.000000000",
          "2021-11-25T00:00:00.000000000",
          "2021-12-01T00:00:00.000000000",
          "2021-12-08T00:00:00.000000000",
          "2021-12-10T00:00:00.000000000",
          "2021-12-27T00:00:00.000000000",
          "2021-12-29T00:00:00.000000000",
          "2022-01-07T00:00:00.000000000",
          "2022-01-09T00:00:00.000000000",
          "2022-01-10T00:00:00.000000000",
          "2022-01-13T00:00:00.000000000",
          "2022-01-15T00:00:00.000000000",
          "2022-01-23T00:00:00.000000000",
          "2022-02-01T00:00:00.000000000"
         ],
         "y": {
          "bdata": "AQEEBAEBAQEBAQEBAQEBAQQEBAEBAQEBAQEBAQIBAQEFAQEBAQEBAQEBAQEBAQEBAQEBAQEBAQEBAQEB",
          "dtype": "i1"
         }
        },
        {
         "hoverinfo": "text",
         "hovertext": [
          "<b>Topic 12</b><br>Words: appear, toward, wave, peak, extrem",
          "<b>Topic 12</b><br>Words: ret, therefor, fib, leg, reach",
          "<b>Topic 12</b><br>Words: ret, therefor, fib, leg, reach",
          "<b>Topic 12</b><br>Words: ret, therefor, fib, leg, reach",
          "<b>Topic 12</b><br>Words: ret, therefor, fib, leg, reach",
          "<b>Topic 12</b><br>Words: ret, therefor, fib, leg, reach",
          "<b>Topic 12</b><br>Words: ret, therefor, fib, leg, reach",
          "<b>Topic 12</b><br>Words: ret, therefor, fib, leg, reach",
          "<b>Topic 12</b><br>Words: ret, therefor, fib, leg, reach",
          "<b>Topic 12</b><br>Words: ret, therefor, fib, leg, reach",
          "<b>Topic 12</b><br>Words: ret, therefor, fib, leg, reach",
          "<b>Topic 12</b><br>Words: ret, therefor, fib, risk, free",
          "<b>Topic 12</b><br>Words: ret, therefor, fib, leg, reach",
          "<b>Topic 12</b><br>Words: ret, therefor, fib, leg, reach",
          "<b>Topic 12</b><br>Words: ret, therefor, fib, leg, reach",
          "<b>Topic 12</b><br>Words: ret, therefor, fib, leg, reach",
          "<b>Topic 12</b><br>Words: ret, therefor, fib, leg, reach",
          "<b>Topic 12</b><br>Words: ret, therefor, fib, leg, reach",
          "<b>Topic 12</b><br>Words: ret, therefor, fib, leg, reach",
          "<b>Topic 12</b><br>Words: peak, extrem, reach, reaction, manag",
          "<b>Topic 12</b><br>Words: appear, toward, peak, extrem, reach",
          "<b>Topic 12</b><br>Words: appear, toward, peak, extrem, reach",
          "<b>Topic 12</b><br>Words: appear, toward, peak, extrem, reach",
          "<b>Topic 12</b><br>Words: appear, toward, peak, extrem, reach",
          "<b>Topic 12</b><br>Words: appear, toward, peak, extrem, reach",
          "<b>Topic 12</b><br>Words: appear, toward, peak, extrem, reach",
          "<b>Topic 12</b><br>Words: control, toward, peak, extrem, reach",
          "<b>Topic 12</b><br>Words: control, toward, peak, extrem, reach",
          "<b>Topic 12</b><br>Words: control, toward, peak, extrem, reach",
          "<b>Topic 12</b><br>Words: control, toward, peak, extrem, reach",
          "<b>Topic 12</b><br>Words: control, toward, peak, extrem, reach",
          "<b>Topic 12</b><br>Words: control, toward, peak, extrem, reach",
          "<b>Topic 12</b><br>Words: control, toward, peak, extrem, reach"
         ],
         "marker": {
          "color": "#0072B2"
         },
         "mode": "lines",
         "name": "12_ret_therefor_fib_reach",
         "type": "scatter",
         "x": [
          "2021-10-05T00:00:00.000000000",
          "2021-10-08T00:00:00.000000000",
          "2021-10-10T00:00:00.000000000",
          "2021-10-11T00:00:00.000000000",
          "2021-10-12T00:00:00.000000000",
          "2021-10-13T00:00:00.000000000",
          "2021-10-15T00:00:00.000000000",
          "2021-10-17T00:00:00.000000000",
          "2021-10-18T00:00:00.000000000",
          "2021-10-19T00:00:00.000000000",
          "2021-10-20T00:00:00.000000000",
          "2021-10-21T00:00:00.000000000",
          "2021-10-22T00:00:00.000000000",
          "2021-10-23T00:00:00.000000000",
          "2021-10-25T00:00:00.000000000",
          "2021-10-26T00:00:00.000000000",
          "2021-10-27T00:00:00.000000000",
          "2021-10-28T00:00:00.000000000",
          "2021-11-02T00:00:00.000000000",
          "2021-12-09T00:00:00.000000000",
          "2022-01-24T00:00:00.000000000",
          "2022-01-25T00:00:00.000000000",
          "2022-01-26T00:00:00.000000000",
          "2022-01-27T00:00:00.000000000",
          "2022-01-28T00:00:00.000000000",
          "2022-01-31T00:00:00.000000000",
          "2022-02-01T00:00:00.000000000",
          "2022-02-02T00:00:00.000000000",
          "2022-02-03T00:00:00.000000000",
          "2022-02-04T00:00:00.000000000",
          "2022-02-06T00:00:00.000000000",
          "2022-02-07T00:00:00.000000000",
          "2022-02-08T00:00:00.000000000"
         ],
         "y": {
          "bdata": "AQUBAQEBAQQEEAQFAQEBBAIBAQEBAQEBAQEBAQEBAQEB",
          "dtype": "i1"
         }
        },
        {
         "hoverinfo": "text",
         "hovertext": [
          "<b>Topic 13</b><br>Words: gamingcard, ai, brain, much, applic",
          "<b>Topic 13</b><br>Words: ret, therefor, fib, mask, reach",
          "<b>Topic 13</b><br>Words: gamingesport, visionari, ml, medicin, ret",
          "<b>Topic 13</b><br>Words: israel, ret, therefor, fib, reach",
          "<b>Topic 13</b><br>Words: ai, po, lrcx, maker, ret",
          "<b>Topic 13</b><br>Words: ai, inde, ret, therefor, fib",
          "<b>Topic 13</b><br>Words: ai, ret, therefor, fib, reach",
          "<b>Topic 13</b><br>Words: ai, shortli, ret, therefor, fib",
          "<b>Topic 13</b><br>Words: ai, ret, therefor, fib, pro",
          "<b>Topic 13</b><br>Words: ai, pro, robot, ret, dead",
          "<b>Topic 13</b><br>Words: ai, ret, therefor, fib, reach",
          "<b>Topic 13</b><br>Words: ai, ret, therefor, fib, spot",
          "<b>Topic 13</b><br>Words: ai, ret, therefor, fib, pro",
          "<b>Topic 13</b><br>Words: ai, ret, pro, robot, therefor",
          "<b>Topic 13</b><br>Words: ai, ret, therefor, fib, reach",
          "<b>Topic 13</b><br>Words: ai, awesom, ret, pro, robot",
          "<b>Topic 13</b><br>Words: ret, therefor, fib, reach, manag",
          "<b>Topic 13</b><br>Words: ai, ret, therefor, fib, reach",
          "<b>Topic 13</b><br>Words: ai, ret, therefor, fib, pro",
          "<b>Topic 13</b><br>Words: ai, ret, therefor, fib, reach",
          "<b>Topic 13</b><br>Words: ai, ret, therefor, fib, reach",
          "<b>Topic 13</b><br>Words: ai, ret, therefor, fib, pro",
          "<b>Topic 13</b><br>Words: ai, ret, wild, therefor, fib",
          "<b>Topic 13</b><br>Words: ai, ret, therefor, fib, reach",
          "<b>Topic 13</b><br>Words: ai, ret, therefor, pro, robot",
          "<b>Topic 13</b><br>Words: ai, ret, therefor, fib, reach",
          "<b>Topic 13</b><br>Words: ai, ret, therefor, fib, reach",
          "<b>Topic 13</b><br>Words: ai, ret, therefor, fib, reach",
          "<b>Topic 13</b><br>Words: ai, ret, therefor, eod, fib",
          "<b>Topic 13</b><br>Words: norm, point, shark, docu, robot",
          "<b>Topic 13</b><br>Words: pick, ret, therefor, ai, fib",
          "<b>Topic 13</b><br>Words: pick, ret, ai, therefor, fib",
          "<b>Topic 13</b><br>Words: ret, pick, therefor, fib, reach",
          "<b>Topic 13</b><br>Words: ret, therefor, pick, fib, reach",
          "<b>Topic 13</b><br>Words: ret, ai, therefor, fib, reach",
          "<b>Topic 13</b><br>Words: ret, therefor, fib, ai, reach",
          "<b>Topic 13</b><br>Words: ai, sweet, shortli, ret, pro",
          "<b>Topic 13</b><br>Words: ai, shortli, ret, therefor, fib"
         ],
         "marker": {
          "color": "#CC79A7"
         },
         "mode": "lines",
         "name": "13_ai_robot_pro_dead",
         "type": "scatter",
         "x": [
          "2019-03-25T00:00:00.000000000",
          "2020-05-08T00:00:00.000000000",
          "2020-05-15T00:00:00.000000000",
          "2020-05-17T00:00:00.000000000",
          "2021-04-26T00:00:00.000000000",
          "2021-07-15T00:00:00.000000000",
          "2021-07-16T00:00:00.000000000",
          "2021-10-05T00:00:00.000000000",
          "2021-10-07T00:00:00.000000000",
          "2021-10-08T00:00:00.000000000",
          "2021-10-14T00:00:00.000000000",
          "2021-10-17T00:00:00.000000000",
          "2021-10-22T00:00:00.000000000",
          "2021-10-25T00:00:00.000000000",
          "2021-10-26T00:00:00.000000000",
          "2021-10-29T00:00:00.000000000",
          "2021-11-02T00:00:00.000000000",
          "2021-11-04T00:00:00.000000000",
          "2021-11-05T00:00:00.000000000",
          "2021-11-06T00:00:00.000000000",
          "2021-11-07T00:00:00.000000000",
          "2021-11-09T00:00:00.000000000",
          "2021-11-10T00:00:00.000000000",
          "2021-11-15T00:00:00.000000000",
          "2021-11-18T00:00:00.000000000",
          "2021-11-20T00:00:00.000000000",
          "2021-11-29T00:00:00.000000000",
          "2021-11-30T00:00:00.000000000",
          "2021-12-08T00:00:00.000000000",
          "2021-12-16T00:00:00.000000000",
          "2021-12-18T00:00:00.000000000",
          "2021-12-23T00:00:00.000000000",
          "2021-12-24T00:00:00.000000000",
          "2021-12-26T00:00:00.000000000",
          "2021-12-27T00:00:00.000000000",
          "2021-12-28T00:00:00.000000000",
          "2022-02-15T00:00:00.000000000",
          "2022-02-16T00:00:00.000000000"
         ],
         "y": {
          "bdata": "AQEBAQEBAQEEAQIBAgIDAQIEBQEBAQEBAgEBAQEBAQEBAQIBAQI=",
          "dtype": "i1"
         }
        },
        {
         "hoverinfo": "text",
         "hovertext": [
          "<b>Topic 14</b><br>Words: smile, laugh, train, jump, head",
          "<b>Topic 14</b><br>Words: clown, gon, na, ai, robot",
          "<b>Topic 14</b><br>Words: duck, hopeless, haha, clown, bull",
          "<b>Topic 14</b><br>Words: roller, coaster, react, enjoy, fun",
          "<b>Topic 14</b><br>Words: orang, clown, drive, ralli, semi",
          "<b>Topic 14</b><br>Words: handsom, roller, coaster, ai, bynd",
          "<b>Topic 14</b><br>Words: ai, welp, coaster, roller, wheel",
          "<b>Topic 14</b><br>Words: concret, roller, coaster, fix, wors",
          "<b>Topic 14</b><br>Words: bunch, fun, ride, way, make",
          "<b>Topic 14</b><br>Words: ai, buffalobrav, robot, pro, roller",
          "<b>Topic 14</b><br>Words: squat, headfak, fade, clown, target",
          "<b>Topic 14</b><br>Words: robin, polici, hood, clown, ai",
          "<b>Topic 14</b><br>Words: rule, clown, remind, fomo, stupid",
          "<b>Topic 14</b><br>Words: lmao, unfair, swingeveryday, cri, ai",
          "<b>Topic 14</b><br>Words: impli, ai, clown, quit, direct",
          "<b>Topic 14</b><br>Words: clown, real, bearish, compani, ai",
          "<b>Topic 14</b><br>Words: clown, expect, ai, stock, robot",
          "<b>Topic 14</b><br>Words: mode, favor, clown, block, idiot",
          "<b>Topic 14</b><br>Words: figur, disord, theater, ai, movi",
          "<b>Topic 14</b><br>Words: clown, lol, split, sell, ai",
          "<b>Topic 14</b><br>Words: clown, fuck, gon, ai, na",
          "<b>Topic 14</b><br>Words: roller, coaster, till, anoth, lol",
          "<b>Topic 14</b><br>Words: clown, watch, bearish, ai, robot",
          "<b>Topic 14</b><br>Words: clown, delet, lmfao, ai, collaps",
          "<b>Topic 14</b><br>Words: interweb, ai, titl, shill, motley",
          "<b>Topic 14</b><br>Words: junki, clown, comment, talk, post",
          "<b>Topic 14</b><br>Words: yesterday, clown, mm, head, hope",
          "<b>Topic 14</b><br>Words: coaster, roller, clown, meme, manipul",
          "<b>Topic 14</b><br>Words: bowl, smoke, vision, clown, ai",
          "<b>Topic 14</b><br>Words: worthless, clown, left, expir, probabl",
          "<b>Topic 14</b><br>Words: coaster, roller, ai, robot, pro",
          "<b>Topic 14</b><br>Words: salesearn, clown, real, place, show",
          "<b>Topic 14</b><br>Words: overplay, roller, coaster, daytrad, appear",
          "<b>Topic 14</b><br>Words: clown, exagger, overli, blown, ai",
          "<b>Topic 14</b><br>Words: rollercoast, market, ai, stock, robot",
          "<b>Topic 14</b><br>Words: fuggetaboutit, trailer, scale, ai, amat",
          "<b>Topic 14</b><br>Words: drag, enjoy, short, ride, jump",
          "<b>Topic 14</b><br>Words: clown, booooooooom, grade, commerci, ai",
          "<b>Topic 14</b><br>Words: clown, letsgo, fcking, bash, ai",
          "<b>Topic 14</b><br>Words: mouth, emot, clown, trader, ta",
          "<b>Topic 14</b><br>Words: wood, clown, selloff, maker, ai",
          "<b>Topic 14</b><br>Words: proof, youtub, clown, inflat, said",
          "<b>Topic 14</b><br>Words: proof, clown, smart, remain, idea",
          "<b>Topic 14</b><br>Words: buyingquot, pud, ai, quotnvda, hahaha",
          "<b>Topic 14</b><br>Words: mott, nvdia, clown, nobodi, listen",
          "<b>Topic 14</b><br>Words: clown, sell, earn, ai, stock",
          "<b>Topic 14</b><br>Words: clown, burn, ran, dollar, ai"
         ],
         "marker": {
          "color": "#E69F00"
         },
         "mode": "lines",
         "name": "14_clown_roller_coaster_ride",
         "type": "scatter",
         "x": [
          "2019-01-24T00:00:00.000000000",
          "2019-02-15T00:00:00.000000000",
          "2019-02-25T00:00:00.000000000",
          "2019-03-11T00:00:00.000000000",
          "2019-05-30T00:00:00.000000000",
          "2019-06-11T00:00:00.000000000",
          "2019-08-26T00:00:00.000000000",
          "2019-11-20T00:00:00.000000000",
          "2020-02-21T00:00:00.000000000",
          "2020-08-19T00:00:00.000000000",
          "2020-08-20T00:00:00.000000000",
          "2020-09-30T00:00:00.000000000",
          "2020-10-08T00:00:00.000000000",
          "2020-11-18T00:00:00.000000000",
          "2020-11-23T00:00:00.000000000",
          "2021-02-24T00:00:00.000000000",
          "2021-03-26T00:00:00.000000000",
          "2021-04-03T00:00:00.000000000",
          "2021-06-02T00:00:00.000000000",
          "2021-06-21T00:00:00.000000000",
          "2021-06-25T00:00:00.000000000",
          "2021-07-02T00:00:00.000000000",
          "2021-07-06T00:00:00.000000000",
          "2021-07-07T00:00:00.000000000",
          "2021-07-15T00:00:00.000000000",
          "2021-07-21T00:00:00.000000000",
          "2021-07-22T00:00:00.000000000",
          "2021-08-03T00:00:00.000000000",
          "2021-08-26T00:00:00.000000000",
          "2021-08-27T00:00:00.000000000",
          "2021-09-03T00:00:00.000000000",
          "2021-09-17T00:00:00.000000000",
          "2021-09-24T00:00:00.000000000",
          "2021-09-29T00:00:00.000000000",
          "2021-10-27T00:00:00.000000000",
          "2021-11-04T00:00:00.000000000",
          "2021-11-05T00:00:00.000000000",
          "2021-11-12T00:00:00.000000000",
          "2021-11-18T00:00:00.000000000",
          "2021-12-13T00:00:00.000000000",
          "2022-01-14T00:00:00.000000000",
          "2022-01-19T00:00:00.000000000",
          "2022-01-27T00:00:00.000000000",
          "2022-01-28T00:00:00.000000000",
          "2022-02-15T00:00:00.000000000",
          "2022-02-16T00:00:00.000000000",
          "2022-02-17T00:00:00.000000000"
         ],
         "y": {
          "bdata": "AQEBAQEBAQEBAgEBAQEBAQEBAQEBAQEBAQEBAgEBAQEBAQEBAQMCAQEBAQEBAQE=",
          "dtype": "i1"
         }
        },
        {
         "hoverinfo": "text",
         "hovertext": [
          "<b>Topic 15</b><br>Words: clown, alicejacob, teresa, alic, termsofus",
          "<b>Topic 15</b><br>Words: clown, column, googl, spender, slow",
          "<b>Topic 15</b><br>Words: clown, tech, driver, main, favour",
          "<b>Topic 15</b><br>Words: clown, discuss, rsi, session, group",
          "<b>Topic 15</b><br>Words: clown, fuel, discuss, leader, session",
          "<b>Topic 15</b><br>Words: clown, fuel, discuss, addit, leader",
          "<b>Topic 15</b><br>Words: clown, fuel, discuss, leader, session",
          "<b>Topic 15</b><br>Words: clown, name, session, group, analysi",
          "<b>Topic 15</b><br>Words: clown, fuel, discuss, leader, session",
          "<b>Topic 15</b><br>Words: clown, fuel, discuss, leader, session",
          "<b>Topic 15</b><br>Words: clown, fuel, discuss, leader, session",
          "<b>Topic 15</b><br>Words: clown, fuel, discuss, leader, session",
          "<b>Topic 15</b><br>Words: clown, strength, session, group, momentum",
          "<b>Topic 15</b><br>Words: clown, fuel, discuss, leader, session",
          "<b>Topic 15</b><br>Words: name, correct, clown, favour, discuss",
          "<b>Topic 15</b><br>Words: clown, favour, equal, discuss, patient",
          "<b>Topic 15</b><br>Words: clown, extens, favour, discuss, downsid",
          "<b>Topic 15</b><br>Words: weaker, clown, session, group, analysi",
          "<b>Topic 15</b><br>Words: clown, access, main, trial, favour",
          "<b>Topic 15</b><br>Words: clown, zone, msft, attempt, chat",
          "<b>Topic 15</b><br>Words: instrument, clown, session, group, lead",
          "<b>Topic 15</b><br>Words: clown, discuss, chase, session, group",
          "<b>Topic 15</b><br>Words: clown, equal, quit, chase, session",
          "<b>Topic 15</b><br>Words: clown, area, fight, discuss, seller",
          "<b>Topic 15</b><br>Words: clown, session, enter, group, analysi",
          "<b>Topic 15</b><br>Words: clown, session, enter, group, analysi",
          "<b>Topic 15</b><br>Words: clown, session, enter, group, analysi",
          "<b>Topic 15</b><br>Words: clown, session, group, analysi, googl",
          "<b>Topic 15</b><br>Words: clown, session, group, analysi, extrem",
          "<b>Topic 15</b><br>Words: clown, session, enter, group, analysi",
          "<b>Topic 15</b><br>Words: clown, session, enter, group, analysi",
          "<b>Topic 15</b><br>Words: clown, session, enter, group, analysi",
          "<b>Topic 15</b><br>Words: clown, like, chase, session, enter",
          "<b>Topic 15</b><br>Words: areasin, clown, instrument, session, group",
          "<b>Topic 15</b><br>Words: clown, extrem, area, tech, session",
          "<b>Topic 15</b><br>Words: clown, session, group, analysi, extrem",
          "<b>Topic 15</b><br>Words: clown, session, group, analysi, extrem",
          "<b>Topic 15</b><br>Words: clown, like, session, group, analysi",
          "<b>Topic 15</b><br>Words: clown, session, group, analysi, extrem",
          "<b>Topic 15</b><br>Words: clown, chase, session, group, analysi",
          "<b>Topic 15</b><br>Words: clown, chase, session, group, analysi",
          "<b>Topic 15</b><br>Words: clown, pullback, minor, nke, extens",
          "<b>Topic 15</b><br>Words: clown, sequenc, dip, nke, favour",
          "<b>Topic 15</b><br>Words: middl, clown, area, nke, chase",
          "<b>Topic 15</b><br>Words: middl, clown, area, nke, chase",
          "<b>Topic 15</b><br>Words: clown, instrument, exampl, higher, session",
          "<b>Topic 15</b><br>Words: clown, extens, middl, favour, session"
         ],
         "marker": {
          "color": "#56B4E9"
         },
         "mode": "lines",
         "name": "15_session_group_analysi_live",
         "type": "scatter",
         "x": [
          "2020-02-21T00:00:00.000000000",
          "2020-04-17T00:00:00.000000000",
          "2020-07-06T00:00:00.000000000",
          "2020-07-29T00:00:00.000000000",
          "2020-08-14T00:00:00.000000000",
          "2020-08-19T00:00:00.000000000",
          "2020-08-20T00:00:00.000000000",
          "2020-08-21T00:00:00.000000000",
          "2020-08-25T00:00:00.000000000",
          "2020-08-27T00:00:00.000000000",
          "2020-08-31T00:00:00.000000000",
          "2020-09-01T00:00:00.000000000",
          "2020-09-02T00:00:00.000000000",
          "2020-09-03T00:00:00.000000000",
          "2020-09-04T00:00:00.000000000",
          "2020-09-07T00:00:00.000000000",
          "2020-09-08T00:00:00.000000000",
          "2020-09-09T00:00:00.000000000",
          "2020-11-17T00:00:00.000000000",
          "2020-12-19T00:00:00.000000000",
          "2021-02-16T00:00:00.000000000",
          "2021-04-01T00:00:00.000000000",
          "2021-04-09T00:00:00.000000000",
          "2021-04-12T00:00:00.000000000",
          "2021-04-13T00:00:00.000000000",
          "2021-04-14T00:00:00.000000000",
          "2021-04-15T00:00:00.000000000",
          "2021-04-16T00:00:00.000000000",
          "2021-04-19T00:00:00.000000000",
          "2021-04-20T00:00:00.000000000",
          "2021-04-21T00:00:00.000000000",
          "2021-04-23T00:00:00.000000000",
          "2021-04-26T00:00:00.000000000",
          "2021-05-03T00:00:00.000000000",
          "2021-05-05T00:00:00.000000000",
          "2021-05-06T00:00:00.000000000",
          "2021-05-07T00:00:00.000000000",
          "2021-05-11T00:00:00.000000000",
          "2021-05-12T00:00:00.000000000",
          "2021-06-18T00:00:00.000000000",
          "2021-06-21T00:00:00.000000000",
          "2021-07-07T00:00:00.000000000",
          "2021-07-08T00:00:00.000000000",
          "2021-07-21T00:00:00.000000000",
          "2021-07-22T00:00:00.000000000",
          "2021-10-22T00:00:00.000000000",
          "2021-11-16T00:00:00.000000000"
         ],
         "y": {
          "bdata": "AQEBAQEBAQIBAQEBAQEBAQEBAQEBAQEBAQEBAgIBAQEBAQEBAQEBAQEBAQEBAQE=",
          "dtype": "i1"
         }
        },
        {
         "hoverinfo": "text",
         "hovertext": [
          "<b>Topic 16</b><br>Words: tquash, train, chat, congrat, room",
          "<b>Topic 16</b><br>Words: astc, real, chatroom, nke, pro",
          "<b>Topic 16</b><br>Words: nspr, lf, mate, gnu, lk",
          "<b>Topic 16</b><br>Words: tradersmak, visit, jd, hey, join",
          "<b>Topic 16</b><br>Words: lf, aytu, profit, ba, check",
          "<b>Topic 16</b><br>Words: lf, vslr, lvgo, chatroom, nvax",
          "<b>Topic 16</b><br>Words: lca, grnq, tdoc, rkt, profession",
          "<b>Topic 16</b><br>Words: profession, choos, chat, realli, made",
          "<b>Topic 16</b><br>Words: ddog, profession, crwd, choos, chat",
          "<b>Topic 16</b><br>Words: mtp, fldm, profession, choos, chat",
          "<b>Topic 16</b><br>Words: aal, ive, baba, hour, made",
          "<b>Topic 16</b><br>Words: group, finom, feed, vertic, uvxi",
          "<b>Topic 16</b><br>Words: check, realli, qqq, start, huge",
          "<b>Topic 16</b><br>Words: fubo, nvax, plug, chat, join",
          "<b>Topic 16</b><br>Words: moneygtgt, join, mara, chat, highli",
          "<b>Topic 16</b><br>Words: brpm, phun, ino, profession, choos",
          "<b>Topic 16</b><br>Words: chek, nakd, uvxi, chat, join",
          "<b>Topic 16</b><br>Words: uvxi, bngo, chat, join, fb",
          "<b>Topic 16</b><br>Words: bigc, transfer, shop, qcom, growth",
          "<b>Topic 16</b><br>Words: znga, chat, lcid, realli, huge",
          "<b>Topic 16</b><br>Words: fami, uvxi, chat, join, win",
          "<b>Topic 16</b><br>Words: fami, profession, choos, chat, lcid",
          "<b>Topic 16</b><br>Words: chat, metx, fami, nakd, realli",
          "<b>Topic 16</b><br>Words: qlgn, gtec, chat, realli, huge",
          "<b>Topic 16</b><br>Words: bngo, bac, chat, join, win",
          "<b>Topic 16</b><br>Words: chat, join, alert, session, group",
          "<b>Topic 16</b><br>Words: pyr, knsa, mbot, profession, choos",
          "<b>Topic 16</b><br>Words: xela, nkla, plug, dkng, chat",
          "<b>Topic 16</b><br>Words: quot, uvxi, real, soon, realli",
          "<b>Topic 16</b><br>Words: chat, check, realli, huge, want"
         ],
         "marker": {
          "color": "#009E73"
         },
         "mode": "lines",
         "name": "16_chat_profit_realli_huge",
         "type": "scatter",
         "x": [
          "2019-01-23T00:00:00.000000000",
          "2020-03-25T00:00:00.000000000",
          "2020-06-03T00:00:00.000000000",
          "2020-06-08T00:00:00.000000000",
          "2020-06-11T00:00:00.000000000",
          "2020-07-07T00:00:00.000000000",
          "2020-08-18T00:00:00.000000000",
          "2020-10-10T00:00:00.000000000",
          "2020-10-15T00:00:00.000000000",
          "2020-10-19T00:00:00.000000000",
          "2020-11-20T00:00:00.000000000",
          "2020-12-29T00:00:00.000000000",
          "2021-03-16T00:00:00.000000000",
          "2021-05-14T00:00:00.000000000",
          "2021-10-09T00:00:00.000000000",
          "2021-10-26T00:00:00.000000000",
          "2021-11-02T00:00:00.000000000",
          "2021-11-03T00:00:00.000000000",
          "2021-11-05T00:00:00.000000000",
          "2021-11-10T00:00:00.000000000",
          "2021-11-12T00:00:00.000000000",
          "2021-11-15T00:00:00.000000000",
          "2021-11-16T00:00:00.000000000",
          "2021-11-23T00:00:00.000000000",
          "2021-11-30T00:00:00.000000000",
          "2021-12-22T00:00:00.000000000",
          "2021-12-29T00:00:00.000000000",
          "2022-01-27T00:00:00.000000000",
          "2022-02-18T00:00:00.000000000",
          "2022-02-22T00:00:00.000000000"
         ],
         "y": {
          "bdata": "AQEBAQEBAQEBAQEBAQEBBAEFAQIBAQICAQIBAQEB",
          "dtype": "i1"
         }
        },
        {
         "hoverinfo": "text",
         "hovertext": [
          "<b>Topic 17</b><br>Words: jan, gain, open, posit, close",
          "<b>Topic 17</b><br>Words: gain, open, posit, jan, close",
          "<b>Topic 17</b><br>Words: gain, open, posit, close, today",
          "<b>Topic 17</b><br>Words: gain, open, posit, close, today",
          "<b>Topic 17</b><br>Words: feb, gain, open, posit, close",
          "<b>Topic 17</b><br>Words: gain, open, posit, close, today",
          "<b>Topic 17</b><br>Words: pm, gain, open, posit, close",
          "<b>Topic 17</b><br>Words: autom, exit, pm, juli, loss",
          "<b>Topic 17</b><br>Words: manual, exit, gain, open, posit",
          "<b>Topic 17</b><br>Words: novemb, octob, eye, open, sinc",
          "<b>Topic 17</b><br>Words: manual, exit, gain, open, posit",
          "<b>Topic 17</b><br>Words: manual, nov, exit, gain, open",
          "<b>Topic 17</b><br>Words: manual, exit, pm, gain, open",
          "<b>Topic 17</b><br>Words: manual, exit, pm, gain, open",
          "<b>Topic 17</b><br>Words: feedback, chat, surfac, tvix, sox",
          "<b>Topic 17</b><br>Words: manual, exit, pm, gain, open",
          "<b>Topic 17</b><br>Words: manual, exit, gain, open, posit",
          "<b>Topic 17</b><br>Words: manual, exit, pm, gain, open",
          "<b>Topic 17</b><br>Words: manual, exit, gain, open, posit",
          "<b>Topic 17</b><br>Words: rebuy, exit, everi, end, posit",
          "<b>Topic 17</b><br>Words: maxr, manual, exit, pm, gain",
          "<b>Topic 17</b><br>Words: er, thru, tomorrow, open, close",
          "<b>Topic 17</b><br>Words: minr, manual, exit, pm, gain",
          "<b>Topic 17</b><br>Words: nice, vapor, close, put, asid",
          "<b>Topic 17</b><br>Words: minr, apr, autom, exit, pm",
          "<b>Topic 17</b><br>Words: ib, manual, exit, pm, gain",
          "<b>Topic 17</b><br>Words: let, open, posit, see, share"
         ],
         "marker": {
          "color": "#F0E442"
         },
         "mode": "lines",
         "name": "17_open_manual_posit_gain",
         "type": "scatter",
         "x": [
          "2019-01-04T00:00:00.000000000",
          "2019-01-09T00:00:00.000000000",
          "2019-01-14T00:00:00.000000000",
          "2019-02-15T00:00:00.000000000",
          "2019-02-20T00:00:00.000000000",
          "2019-04-26T00:00:00.000000000",
          "2019-05-09T00:00:00.000000000",
          "2019-07-09T00:00:00.000000000",
          "2019-07-24T00:00:00.000000000",
          "2019-10-15T00:00:00.000000000",
          "2019-11-06T00:00:00.000000000",
          "2019-11-18T00:00:00.000000000",
          "2019-11-19T00:00:00.000000000",
          "2020-04-21T00:00:00.000000000",
          "2020-05-22T00:00:00.000000000",
          "2020-05-27T00:00:00.000000000",
          "2020-06-29T00:00:00.000000000",
          "2020-07-13T00:00:00.000000000",
          "2020-07-14T00:00:00.000000000",
          "2020-08-06T00:00:00.000000000",
          "2020-10-01T00:00:00.000000000",
          "2020-11-17T00:00:00.000000000",
          "2020-11-25T00:00:00.000000000",
          "2021-02-16T00:00:00.000000000",
          "2021-04-21T00:00:00.000000000",
          "2021-06-17T00:00:00.000000000",
          "2021-12-13T00:00:00.000000000"
         ],
         "y": {
          "bdata": "AQIBBAEBAQEBAQEBAQEBAQEBAQEBAQECAQEB",
          "dtype": "i1"
         }
        },
        {
         "hoverinfo": "text",
         "hovertext": [
          "<b>Topic 18</b><br>Words: moon, indec, tomorrowquot, illeg, open",
          "<b>Topic 18</b><br>Words: moon, trillion, cap, sell, market",
          "<b>Topic 18</b><br>Words: moon, ethereum, gpu, open, manual",
          "<b>Topic 18</b><br>Words: info, moon, quick, share, look",
          "<b>Topic 18</b><br>Words: open, manual, posit, gain, close",
          "<b>Topic 18</b><br>Words: open, weight, manual, posit, moon",
          "<b>Topic 18</b><br>Words: moon, costco, open, tgt, manual",
          "<b>Topic 18</b><br>Words: tmrw, moon, let, anoth, upgrad",
          "<b>Topic 18</b><br>Words: letsss, gooooo, moon, open, anoth",
          "<b>Topic 18</b><br>Words: moon, could, think, target, go",
          "<b>Topic 18</b><br>Words: moon, guess, close, stop, report",
          "<b>Topic 18</b><br>Words: moon, open, manual, posit, gain",
          "<b>Topic 18</b><br>Words: piec, swav, shampt, motherf, fampk",
          "<b>Topic 18</b><br>Words: moon, fuck, downgrad, let, open",
          "<b>Topic 18</b><br>Words: moon, alreadi, tabl, open, manual",
          "<b>Topic 18</b><br>Words: moon, jupit, intraday, open, manual",
          "<b>Topic 18</b><br>Words: overstretch, open, manual, posit, gain",
          "<b>Topic 18</b><br>Words: hhe, cohort, apocalyps, asteroid, doomsday",
          "<b>Topic 18</b><br>Words: sheet, ytd, open, feb, manual",
          "<b>Topic 18</b><br>Words: alreadi, moon, number, rocket, open",
          "<b>Topic 18</b><br>Words: ukrain, develop, moon, alreadi, open",
          "<b>Topic 18</b><br>Words: soo, moon, open, gon, red"
         ],
         "marker": {
          "color": "#D55E00"
         },
         "mode": "lines",
         "name": "18_moon_alreadi_piec_weight",
         "type": "scatter",
         "x": [
          "2019-02-12T00:00:00.000000000",
          "2020-01-28T00:00:00.000000000",
          "2020-02-12T00:00:00.000000000",
          "2020-02-14T00:00:00.000000000",
          "2020-09-17T00:00:00.000000000",
          "2020-11-21T00:00:00.000000000",
          "2021-03-03T00:00:00.000000000",
          "2021-07-01T00:00:00.000000000",
          "2021-07-06T00:00:00.000000000",
          "2021-07-10T00:00:00.000000000",
          "2021-08-05T00:00:00.000000000",
          "2021-08-18T00:00:00.000000000",
          "2021-09-29T00:00:00.000000000",
          "2021-11-12T00:00:00.000000000",
          "2021-11-17T00:00:00.000000000",
          "2021-11-18T00:00:00.000000000",
          "2021-11-22T00:00:00.000000000",
          "2021-12-16T00:00:00.000000000",
          "2022-01-14T00:00:00.000000000",
          "2022-02-16T00:00:00.000000000",
          "2022-02-19T00:00:00.000000000",
          "2022-02-23T00:00:00.000000000"
         ],
         "y": {
          "bdata": "AQEBAQEBAgEBAQECAQECAgEBAQEBAQ==",
          "dtype": "i1"
         }
        },
        {
         "hoverinfo": "text",
         "hovertext": [
          "<b>Topic 19</b><br>Words: moon, shark, unemploy, mu, claim",
          "<b>Topic 19</b><br>Words: shark, ah, manipul, moon, big",
          "<b>Topic 19</b><br>Words: moon, duke, hand, big, democrat",
          "<b>Topic 19</b><br>Words: sbe, shark, whale, moon, found",
          "<b>Topic 19</b><br>Words: moon, whale, softbank, dogsareawesom, mention",
          "<b>Topic 19</b><br>Words: whale, trust, effect, doesnt, retail",
          "<b>Topic 19</b><br>Words: moon, maxin, corrupt, buddi, somebodi",
          "<b>Topic 19</b><br>Words: mistakenli, moon, xd, hedgi, whale",
          "<b>Topic 19</b><br>Words: shark, elontheshark, cointig, bullsharkish, babysharktoken",
          "<b>Topic 19</b><br>Words: whale, jan, premium, bearish, put",
          "<b>Topic 19</b><br>Words: whale, aug, premium, moon, call",
          "<b>Topic 19</b><br>Words: whale, jan, premium, moon, call",
          "<b>Topic 19</b><br>Words: gobbl, whale, screw, fear, mm",
          "<b>Topic 19</b><br>Words: moon, montana, expansion, toni, bend",
          "<b>Topic 19</b><br>Words: whale, pick, volum, moon, nvda",
          "<b>Topic 19</b><br>Words: whale, moon, stole, go, trap",
          "<b>Topic 19</b><br>Words: whale, hour, tomorrow, last, moon",
          "<b>Topic 19</b><br>Words: whale, moon, big, direct, confirm",
          "<b>Topic 19</b><br>Words: bullshit, whale, cent, crap, moon",
          "<b>Topic 19</b><br>Words: moon, vwap, fight, whale, eod",
          "<b>Topic 19</b><br>Words: whale, pypl, activ, moon, bullish",
          "<b>Topic 19</b><br>Words: whale, fact, moon, er, dont",
          "<b>Topic 19</b><br>Words: bomb, whale, moon, joke, institut"
         ],
         "marker": {
          "color": "#0072B2"
         },
         "mode": "lines",
         "name": "19_whale_shark_big_softbank",
         "type": "scatter",
         "x": [
          "2020-03-25T00:00:00.000000000",
          "2020-09-08T00:00:00.000000000",
          "2020-09-14T00:00:00.000000000",
          "2020-09-28T00:00:00.000000000",
          "2020-10-02T00:00:00.000000000",
          "2021-02-25T00:00:00.000000000",
          "2021-03-04T00:00:00.000000000",
          "2021-05-26T00:00:00.000000000",
          "2021-06-04T00:00:00.000000000",
          "2021-06-28T00:00:00.000000000",
          "2021-07-08T00:00:00.000000000",
          "2021-08-11T00:00:00.000000000",
          "2021-10-07T00:00:00.000000000",
          "2021-11-02T00:00:00.000000000",
          "2021-11-12T00:00:00.000000000",
          "2021-11-17T00:00:00.000000000",
          "2021-11-18T00:00:00.000000000",
          "2021-11-22T00:00:00.000000000",
          "2021-12-16T00:00:00.000000000",
          "2022-01-06T00:00:00.000000000",
          "2022-02-15T00:00:00.000000000",
          "2022-02-17T00:00:00.000000000",
          "2022-02-22T00:00:00.000000000"
         ],
         "y": {
          "bdata": "AQEBAQIBAQEBAQEBAQEBAgEBAQEBAQE=",
          "dtype": "i1"
         }
        },
        {
         "hoverinfo": "text",
         "hovertext": [
          "<b>Topic 20</b><br>Words: plenti, fade, left, friday, watch",
          "<b>Topic 20</b><br>Words: break, late, setup, rang, whale",
          "<b>Topic 20</b><br>Words: breakdown, chat, room, plan, whale",
          "<b>Topic 20</b><br>Words: whale, beauti, sideway, longer, case",
          "<b>Topic 20</b><br>Words: breakdown, sideway, channel, break, play",
          "<b>Topic 20</b><br>Words: dri, whale, month, tight, sideway",
          "<b>Topic 20</b><br>Words: sideway, break, come, trade, whale",
          "<b>Topic 20</b><br>Words: whale, uptrend, breakout, mini, amp",
          "<b>Topic 20</b><br>Words: shrink, leg, channel, breakout, whale",
          "<b>Topic 20</b><br>Words: uptrend, whale, breakout, mini, amp",
          "<b>Topic 20</b><br>Words: whale, uptrend, breakout, version, mini",
          "<b>Topic 20</b><br>Words: whale, uptrend, breakout, version, mini",
          "<b>Topic 20</b><br>Words: whale, wick, earlier, session, broke",
          "<b>Topic 20</b><br>Words: whale, uptrend, breakout, version, mini",
          "<b>Topic 20</b><br>Words: uptrend, whale, breakout, mini, parabol"
         ],
         "marker": {
          "color": "#CC79A7"
         },
         "mode": "lines",
         "name": "20_uptrend_breakout_mini_break",
         "type": "scatter",
         "x": [
          "2019-06-07T00:00:00.000000000",
          "2019-06-19T00:00:00.000000000",
          "2019-11-17T00:00:00.000000000",
          "2020-08-26T00:00:00.000000000",
          "2020-11-19T00:00:00.000000000",
          "2020-12-03T00:00:00.000000000",
          "2020-12-28T00:00:00.000000000",
          "2021-07-19T00:00:00.000000000",
          "2021-08-02T00:00:00.000000000",
          "2021-08-23T00:00:00.000000000",
          "2021-11-04T00:00:00.000000000",
          "2021-11-29T00:00:00.000000000",
          "2021-12-29T00:00:00.000000000",
          "2022-01-03T00:00:00.000000000",
          "2022-02-15T00:00:00.000000000"
         ],
         "y": {
          "bdata": "AQEBAQQBAQUBAQQBAQEB",
          "dtype": "i1"
         }
        },
        {
         "hoverinfo": "text",
         "hovertext": [
          "<b>Topic 21</b><br>Words: xbi, exp, machin, nov, signal",
          "<b>Topic 21</b><br>Words: masi, anomali, docu, occur, mrna",
          "<b>Topic 21</b><br>Words: green, mrna, keep, amzn, tsla",
          "<b>Topic 21</b><br>Words: mrna, full, revers, shit, know",
          "<b>Topic 21</b><br>Words: nok, mrna, flow, top, amzn",
          "<b>Topic 21</b><br>Words: urbn, pton, mrna, flow, top",
          "<b>Topic 21</b><br>Words: drio, plan, furiou, inmd, hurri",
          "<b>Topic 21</b><br>Words: mrna, staydowngetdown, iguana, rcl, uptrend",
          "<b>Topic 21</b><br>Words: xela, nvax, docu, mrna, revers",
          "<b>Topic 21</b><br>Words: mrna, indic, experi, healthi, uptrend",
          "<b>Topic 21</b><br>Words: hack, ftw, journal, optionstrad, mrna",
          "<b>Topic 21</b><br>Words: mrna, flow, fb, top, tsla",
          "<b>Topic 21</b><br>Words: nvax, mrna, flow, fb, top",
          "<b>Topic 21</b><br>Words: mrna, ba, flow, nflx, top",
          "<b>Topic 21</b><br>Words: tmo, choos, except, mrna, fundament",
          "<b>Topic 21</b><br>Words: pfe, lcid, mrna, unusu, option",
          "<b>Topic 21</b><br>Words: mrna, break, doesnt, help, though",
          "<b>Topic 21</b><br>Words: mrna, nio, flow, fb, top",
          "<b>Topic 21</b><br>Words: zlab, snow, pin, messag, dd",
          "<b>Topic 21</b><br>Words: inmd, ccl, mrna, flow, top",
          "<b>Topic 21</b><br>Words: mrna, tsm, flow, top, tsla"
         ],
         "marker": {
          "color": "#E69F00"
         },
         "mode": "lines",
         "name": "21_mrna_flow_top_inmd",
         "type": "scatter",
         "x": [
          "2019-11-04T00:00:00.000000000",
          "2020-06-10T00:00:00.000000000",
          "2020-07-22T00:00:00.000000000",
          "2020-11-16T00:00:00.000000000",
          "2021-01-27T00:00:00.000000000",
          "2021-04-16T00:00:00.000000000",
          "2021-06-28T00:00:00.000000000",
          "2021-07-19T00:00:00.000000000",
          "2021-07-20T00:00:00.000000000",
          "2021-07-21T00:00:00.000000000",
          "2021-08-01T00:00:00.000000000",
          "2021-08-04T00:00:00.000000000",
          "2021-08-06T00:00:00.000000000",
          "2021-09-22T00:00:00.000000000",
          "2021-10-06T00:00:00.000000000",
          "2021-11-05T00:00:00.000000000",
          "2021-11-18T00:00:00.000000000",
          "2021-11-22T00:00:00.000000000",
          "2021-12-01T00:00:00.000000000",
          "2021-12-20T00:00:00.000000000",
          "2021-12-22T00:00:00.000000000"
         ],
         "y": {
          "bdata": "AQEBAQEBAQIBAQEBAQEBAQEBAQEB",
          "dtype": "i1"
         }
        },
        {
         "hoverinfo": "text",
         "hovertext": [
          "<b>Topic 22</b><br>Words: mrna, account, challeng, start, pdt",
          "<b>Topic 22</b><br>Words: mrna, balanc, glass, rivn, start",
          "<b>Topic 22</b><br>Words: mrna, balanc, glass, start, nov",
          "<b>Topic 22</b><br>Words: mrna, balanc, glass, start, nov",
          "<b>Topic 22</b><br>Words: mrna, balanc, glass, start, challeng",
          "<b>Topic 22</b><br>Words: mrna, balanc, glass, start, challeng",
          "<b>Topic 22</b><br>Words: mrna, balanc, glass, start, challeng",
          "<b>Topic 22</b><br>Words: mrna, balanc, glass, start, challeng",
          "<b>Topic 22</b><br>Words: mrna, balanc, start, challeng, goal",
          "<b>Topic 22</b><br>Words: mrna, balanc, start, challeng, goal",
          "<b>Topic 22</b><br>Words: mrna, balanc, start, challeng, goal"
         ],
         "marker": {
          "color": "#56B4E9"
         },
         "mode": "lines",
         "name": "22_balanc_start_challeng_goal",
         "type": "scatter",
         "x": [
          "2019-08-01T00:00:00.000000000",
          "2021-12-17T00:00:00.000000000",
          "2022-01-04T00:00:00.000000000",
          "2022-01-05T00:00:00.000000000",
          "2022-02-11T00:00:00.000000000",
          "2022-02-15T00:00:00.000000000",
          "2022-02-16T00:00:00.000000000",
          "2022-02-18T00:00:00.000000000",
          "2022-02-22T00:00:00.000000000",
          "2022-02-23T00:00:00.000000000",
          "2022-02-24T00:00:00.000000000"
         ],
         "y": {
          "bdata": "AQEBAQEFAgICAQQ=",
          "dtype": "i1"
         }
        },
        {
         "hoverinfo": "text",
         "hovertext": [
          "<b>Topic 23</b><br>Words: schaper, incwi, mkl, balanc, lin",
          "<b>Topic 23</b><br>Words: tel, llp, docu, balanc, file",
          "<b>Topic 23</b><br>Words: kallen, hayek, pg, balanc, cat",
          "<b>Topic 23</b><br>Words: vnq, bigelow, emb, rol, advisor",
          "<b>Topic 23</b><br>Words: nsc, indiana, gww, balanc, co",
          "<b>Topic 23</b><br>Words: ocfc, hudson, aht, adv, balanc",
          "<b>Topic 23</b><br>Words: qual, becn, advisori, wfc, balanc",
          "<b>Topic 23</b><br>Words: dora, mount, len, balanc, gld",
          "<b>Topic 23</b><br>Words: vmeo, martin, llc, asml, file",
          "<b>Topic 23</b><br>Words: cutler, bnd, counsel, llc, balanc",
          "<b>Topic 23</b><br>Words: vrig, flrn, orca, abb, poww",
          "<b>Topic 23</b><br>Words: hamilton, lli, advisor, llc, file",
          "<b>Topic 23</b><br>Words: sdi, hoffman, alan, file, balanc",
          "<b>Topic 23</b><br>Words: pachira, file, form, balanc, posit",
          "<b>Topic 23</b><br>Words: sterl, dvi, adv, advisor, llc",
          "<b>Topic 23</b><br>Words: llc, balanc, file, vpu, safeguard",
          "<b>Topic 23</b><br>Words: bax, mcginn, file, form, balanc"
         ],
         "marker": {
          "color": "#009E73"
         },
         "mode": "lines",
         "name": "23_file_form_llc_posit",
         "type": "scatter",
         "x": [
          "2019-02-13T00:00:00.000000000",
          "2019-02-14T00:00:00.000000000",
          "2019-05-09T00:00:00.000000000",
          "2019-10-22T00:00:00.000000000",
          "2020-01-13T00:00:00.000000000",
          "2020-04-29T00:00:00.000000000",
          "2020-04-30T00:00:00.000000000",
          "2020-07-08T00:00:00.000000000",
          "2021-07-30T00:00:00.000000000",
          "2021-10-15T00:00:00.000000000",
          "2021-10-25T00:00:00.000000000",
          "2021-10-26T00:00:00.000000000",
          "2022-01-12T00:00:00.000000000",
          "2022-01-19T00:00:00.000000000",
          "2022-01-25T00:00:00.000000000",
          "2022-02-03T00:00:00.000000000",
          "2022-02-07T00:00:00.000000000"
         ],
         "y": {
          "bdata": "AQEBAQEBAQEBAQEBAQEBAgE=",
          "dtype": "i1"
         }
        },
        {
         "hoverinfo": "text",
         "hovertext": [
          "<b>Topic 24</b><br>Words: meet, file, globe, clara, form",
          "<b>Topic 24</b><br>Words: fourforon, pend, stockhold, annual, file",
          "<b>Topic 24</b><br>Words: shr, coinbas, file, fourforon, form"
         ],
         "marker": {
          "color": "#F0E442"
         },
         "mode": "lines",
         "name": "24_fourforon_stockhold_pend_annual",
         "type": "scatter",
         "x": [
          "2019-05-21T00:00:00.000000000",
          "2021-05-21T00:00:00.000000000",
          "2021-07-16T00:00:00.000000000"
         ],
         "y": {
          "bdata": "AQ8B",
          "dtype": "i1"
         }
        },
        {
         "hoverinfo": "text",
         "hovertext": [
          "<b>Topic 25</b><br>Words: robinhood, chang, fourforon, stockhold, pend",
          "<b>Topic 25</b><br>Words: fourforon, stockhold, pend, annual, meet",
          "<b>Topic 25</b><br>Words: robinhood, fourforon, stockhold, pend, cprx",
          "<b>Topic 25</b><br>Words: robinhood, fourforon, vsrl, stockhold, pend",
          "<b>Topic 25</b><br>Words: robinhood, fourforon, stockhold, pend, annual",
          "<b>Topic 25</b><br>Words: robinhood, fourforon, stockhold, pend, annual",
          "<b>Topic 25</b><br>Words: robinhood, fourforon, stockhold, pend, znca",
          "<b>Topic 25</b><br>Words: fourforon, stockhold, robinhood, pend, annual",
          "<b>Topic 25</b><br>Words: robinhood, fourforon, stockhold, pend, annual",
          "<b>Topic 25</b><br>Words: robinhood, fourforon, stockhold, pend, annual",
          "<b>Topic 25</b><br>Words: robinhood, fourforon, stockhold, pend, worst",
          "<b>Topic 25</b><br>Words: robinhood, fourforon, stockhold, pend, worst",
          "<b>Topic 25</b><br>Words: robinhood, fourforon, stockhold, pend, annual",
          "<b>Topic 25</b><br>Words: fourforon, stockhold, pend, robinhood, annual",
          "<b>Topic 25</b><br>Words: fourforon, stockhold, pend, retail, annual",
          "<b>Topic 25</b><br>Words: fourforon, etc, tend, stockhold, pend"
         ],
         "marker": {
          "color": "#D55E00"
         },
         "mode": "lines",
         "name": "25_robinhood_relationship_chang_popular",
         "type": "scatter",
         "x": [
          "2019-10-14T00:00:00.000000000",
          "2020-06-15T00:00:00.000000000",
          "2020-08-18T00:00:00.000000000",
          "2020-08-21T00:00:00.000000000",
          "2020-09-02T00:00:00.000000000",
          "2020-09-10T00:00:00.000000000",
          "2020-09-24T00:00:00.000000000",
          "2020-10-31T00:00:00.000000000",
          "2020-11-12T00:00:00.000000000",
          "2020-12-09T00:00:00.000000000",
          "2021-01-07T00:00:00.000000000",
          "2021-01-15T00:00:00.000000000",
          "2021-01-16T00:00:00.000000000",
          "2021-01-22T00:00:00.000000000",
          "2021-10-04T00:00:00.000000000",
          "2021-12-14T00:00:00.000000000"
         ],
         "y": {
          "bdata": "AQEBAQEBAQEBAQEBAQEBAQ==",
          "dtype": "i1"
         }
        },
        {
         "hoverinfo": "text",
         "hovertext": [
          "<b>Topic 26</b><br>Words: obes, manga, starstruck, robinhood, goog",
          "<b>Topic 26</b><br>Words: robinhood, ftr, appoint, blk, blackrock",
          "<b>Topic 26</b><br>Words: megacap, ibdpartn, underperform, coil, marketsmith",
          "<b>Topic 26</b><br>Words: robinhood, blackrock, nio, chang, fourth",
          "<b>Topic 26</b><br>Words: growthstock, megacap, gg, unh, robinhood",
          "<b>Topic 26</b><br>Words: growthstock, megacap, gg, unh, robinhood",
          "<b>Topic 26</b><br>Words: growthstock, megacap, gg, unh, robinhood",
          "<b>Topic 26</b><br>Words: growthstock, megacap, gg, robinhood, hd",
          "<b>Topic 26</b><br>Words: growthstock, megacap, gg, unh, robinhood",
          "<b>Topic 26</b><br>Words: roblox, corp, robinhood, million, ulc",
          "<b>Topic 26</b><br>Words: growthstock, megacap, gg, unh, robinhood",
          "<b>Topic 26</b><br>Words: growthstock, megacap, robinhood, gg, unh",
          "<b>Topic 26</b><br>Words: amp, robinhood, retail, probabl, qcom",
          "<b>Topic 26</b><br>Words: growthstock, megacap, gg, unh, robinhood",
          "<b>Topic 26</b><br>Words: popcorn, matur, fintech, faang, robinhood"
         ],
         "marker": {
          "color": "#0072B2"
         },
         "mode": "lines",
         "name": "26_megacap_growthstock_gg_unh",
         "type": "scatter",
         "x": [
          "2019-03-13T00:00:00.000000000",
          "2020-11-12T00:00:00.000000000",
          "2020-12-04T00:00:00.000000000",
          "2021-02-07T00:00:00.000000000",
          "2021-10-03T00:00:00.000000000",
          "2021-10-10T00:00:00.000000000",
          "2021-10-17T00:00:00.000000000",
          "2021-10-24T00:00:00.000000000",
          "2021-11-07T00:00:00.000000000",
          "2021-11-15T00:00:00.000000000",
          "2021-12-05T00:00:00.000000000",
          "2021-12-12T00:00:00.000000000",
          "2021-12-16T00:00:00.000000000",
          "2021-12-19T00:00:00.000000000",
          "2022-02-01T00:00:00.000000000"
         ],
         "y": {
          "bdata": "AQEBAQEBAQEBAQEBAQEB",
          "dtype": "i1"
         }
        },
        {
         "hoverinfo": "text",
         "hovertext": [
          "<b>Topic 27</b><br>Words: tgt, tdoc, hot, hotter, hottest",
          "<b>Topic 27</b><br>Words: heatmap, ndx, asml, mega, perform",
          "<b>Topic 27</b><br>Words: heatmap, mega, csco, spx, perform",
          "<b>Topic 27</b><br>Words: heatmap, mega, goog, msft, nasdaq",
          "<b>Topic 27</b><br>Words: heatmap, mega, goog, msft, nasdaq",
          "<b>Topic 27</b><br>Words: heatmap, goog, msft, nasdaq, amzn",
          "<b>Topic 27</b><br>Words: heatmap, tmu, msft, nasdaq, amzn",
          "<b>Topic 27</b><br>Words: heatmap, tmu, msft, nasdaq, amzn",
          "<b>Topic 27</b><br>Words: heatmap, tmu, msft, nasdaq, amzn",
          "<b>Topic 27</b><br>Words: heatmap, tmu, msft, nasdaq, amzn",
          "<b>Topic 27</b><br>Words: heatmap, tmu, msft, nasdaq, amzn",
          "<b>Topic 27</b><br>Words: heatmap, tmu, msft, nasdaq, amzn"
         ],
         "marker": {
          "color": "#CC79A7"
         },
         "mode": "lines",
         "name": "27_heatmap_tmu_msft_nasdaq",
         "type": "scatter",
         "x": [
          "2020-08-21T00:00:00.000000000",
          "2021-04-22T00:00:00.000000000",
          "2021-06-28T00:00:00.000000000",
          "2021-07-21T00:00:00.000000000",
          "2021-07-22T00:00:00.000000000",
          "2021-07-26T00:00:00.000000000",
          "2021-07-28T00:00:00.000000000",
          "2021-07-29T00:00:00.000000000",
          "2021-08-02T00:00:00.000000000",
          "2021-08-04T00:00:00.000000000",
          "2021-08-09T00:00:00.000000000",
          "2021-08-11T00:00:00.000000000"
         ],
         "y": {
          "bdata": "AgEBAQEBAQEBAQEB",
          "dtype": "i1"
         }
        },
        {
         "hoverinfo": "text",
         "hovertext": [
          "<b>Topic 28</b><br>Words: insidecloud, enteredsqueez, squeezedsetup, heatmap, finviz",
          "<b>Topic 28</b><br>Words: heatmap, supersetup, finviz, courtesi, tmu",
          "<b>Topic 28</b><br>Words: heatmap, activesequ, atrcrossedup, abovecloud, supersetup",
          "<b>Topic 28</b><br>Words: heatmap, squeezedsetup, atrcrossedup, activesequ, abovecloud",
          "<b>Topic 28</b><br>Words: supersetup, heatmap, atrcrossedup, activesequ, abovecloud",
          "<b>Topic 28</b><br>Words: supersetup, heatmap, atrcrossedup, activesequ, abovecloud",
          "<b>Topic 28</b><br>Words: ichimokusign, ichimokutrigg, heatmap, abovecloud, finviz",
          "<b>Topic 28</b><br>Words: ichimokusign, ichimokutrigg, heatmap, abovecloud, finviz",
          "<b>Topic 28</b><br>Words: heatmap, gtgt, squeez, sndl, page"
         ],
         "marker": {
          "color": "#E69F00"
         },
         "mode": "lines",
         "name": "28_finviz_courtesi_abovecloud_supersetup",
         "type": "scatter",
         "x": [
          "2021-08-18T00:00:00.000000000",
          "2021-08-19T00:00:00.000000000",
          "2021-08-20T00:00:00.000000000",
          "2021-08-23T00:00:00.000000000",
          "2021-09-22T00:00:00.000000000",
          "2021-09-23T00:00:00.000000000",
          "2021-10-07T00:00:00.000000000",
          "2021-10-08T00:00:00.000000000",
          "2021-10-26T00:00:00.000000000"
         ],
         "y": {
          "bdata": "AQICAQEBAQEB",
          "dtype": "i1"
         }
        }
       ],
       "layout": {
        "height": 450,
        "hoverlabel": {
         "bgcolor": "white",
         "font": {
          "family": "Rockwell",
          "size": 16
         }
        },
        "legend": {
         "title": {
          "text": "<b>Global Topic Representation"
         }
        },
        "template": {
         "data": {
          "bar": [
           {
            "error_x": {
             "color": "rgb(36,36,36)"
            },
            "error_y": {
             "color": "rgb(36,36,36)"
            },
            "marker": {
             "line": {
              "color": "white",
              "width": 0.5
             },
             "pattern": {
              "fillmode": "overlay",
              "size": 10,
              "solidity": 0.2
             }
            },
            "type": "bar"
           }
          ],
          "barpolar": [
           {
            "marker": {
             "line": {
              "color": "white",
              "width": 0.5
             },
             "pattern": {
              "fillmode": "overlay",
              "size": 10,
              "solidity": 0.2
             }
            },
            "type": "barpolar"
           }
          ],
          "carpet": [
           {
            "aaxis": {
             "endlinecolor": "rgb(36,36,36)",
             "gridcolor": "white",
             "linecolor": "white",
             "minorgridcolor": "white",
             "startlinecolor": "rgb(36,36,36)"
            },
            "baxis": {
             "endlinecolor": "rgb(36,36,36)",
             "gridcolor": "white",
             "linecolor": "white",
             "minorgridcolor": "white",
             "startlinecolor": "rgb(36,36,36)"
            },
            "type": "carpet"
           }
          ],
          "choropleth": [
           {
            "colorbar": {
             "outlinewidth": 1,
             "tickcolor": "rgb(36,36,36)",
             "ticks": "outside"
            },
            "type": "choropleth"
           }
          ],
          "contour": [
           {
            "colorbar": {
             "outlinewidth": 1,
             "tickcolor": "rgb(36,36,36)",
             "ticks": "outside"
            },
            "colorscale": [
             [
              0,
              "#440154"
             ],
             [
              0.1111111111111111,
              "#482878"
             ],
             [
              0.2222222222222222,
              "#3e4989"
             ],
             [
              0.3333333333333333,
              "#31688e"
             ],
             [
              0.4444444444444444,
              "#26828e"
             ],
             [
              0.5555555555555556,
              "#1f9e89"
             ],
             [
              0.6666666666666666,
              "#35b779"
             ],
             [
              0.7777777777777778,
              "#6ece58"
             ],
             [
              0.8888888888888888,
              "#b5de2b"
             ],
             [
              1,
              "#fde725"
             ]
            ],
            "type": "contour"
           }
          ],
          "contourcarpet": [
           {
            "colorbar": {
             "outlinewidth": 1,
             "tickcolor": "rgb(36,36,36)",
             "ticks": "outside"
            },
            "type": "contourcarpet"
           }
          ],
          "heatmap": [
           {
            "colorbar": {
             "outlinewidth": 1,
             "tickcolor": "rgb(36,36,36)",
             "ticks": "outside"
            },
            "colorscale": [
             [
              0,
              "#440154"
             ],
             [
              0.1111111111111111,
              "#482878"
             ],
             [
              0.2222222222222222,
              "#3e4989"
             ],
             [
              0.3333333333333333,
              "#31688e"
             ],
             [
              0.4444444444444444,
              "#26828e"
             ],
             [
              0.5555555555555556,
              "#1f9e89"
             ],
             [
              0.6666666666666666,
              "#35b779"
             ],
             [
              0.7777777777777778,
              "#6ece58"
             ],
             [
              0.8888888888888888,
              "#b5de2b"
             ],
             [
              1,
              "#fde725"
             ]
            ],
            "type": "heatmap"
           }
          ],
          "histogram": [
           {
            "marker": {
             "line": {
              "color": "white",
              "width": 0.6
             }
            },
            "type": "histogram"
           }
          ],
          "histogram2d": [
           {
            "colorbar": {
             "outlinewidth": 1,
             "tickcolor": "rgb(36,36,36)",
             "ticks": "outside"
            },
            "colorscale": [
             [
              0,
              "#440154"
             ],
             [
              0.1111111111111111,
              "#482878"
             ],
             [
              0.2222222222222222,
              "#3e4989"
             ],
             [
              0.3333333333333333,
              "#31688e"
             ],
             [
              0.4444444444444444,
              "#26828e"
             ],
             [
              0.5555555555555556,
              "#1f9e89"
             ],
             [
              0.6666666666666666,
              "#35b779"
             ],
             [
              0.7777777777777778,
              "#6ece58"
             ],
             [
              0.8888888888888888,
              "#b5de2b"
             ],
             [
              1,
              "#fde725"
             ]
            ],
            "type": "histogram2d"
           }
          ],
          "histogram2dcontour": [
           {
            "colorbar": {
             "outlinewidth": 1,
             "tickcolor": "rgb(36,36,36)",
             "ticks": "outside"
            },
            "colorscale": [
             [
              0,
              "#440154"
             ],
             [
              0.1111111111111111,
              "#482878"
             ],
             [
              0.2222222222222222,
              "#3e4989"
             ],
             [
              0.3333333333333333,
              "#31688e"
             ],
             [
              0.4444444444444444,
              "#26828e"
             ],
             [
              0.5555555555555556,
              "#1f9e89"
             ],
             [
              0.6666666666666666,
              "#35b779"
             ],
             [
              0.7777777777777778,
              "#6ece58"
             ],
             [
              0.8888888888888888,
              "#b5de2b"
             ],
             [
              1,
              "#fde725"
             ]
            ],
            "type": "histogram2dcontour"
           }
          ],
          "mesh3d": [
           {
            "colorbar": {
             "outlinewidth": 1,
             "tickcolor": "rgb(36,36,36)",
             "ticks": "outside"
            },
            "type": "mesh3d"
           }
          ],
          "parcoords": [
           {
            "line": {
             "colorbar": {
              "outlinewidth": 1,
              "tickcolor": "rgb(36,36,36)",
              "ticks": "outside"
             }
            },
            "type": "parcoords"
           }
          ],
          "pie": [
           {
            "automargin": true,
            "type": "pie"
           }
          ],
          "scatter": [
           {
            "fillpattern": {
             "fillmode": "overlay",
             "size": 10,
             "solidity": 0.2
            },
            "type": "scatter"
           }
          ],
          "scatter3d": [
           {
            "line": {
             "colorbar": {
              "outlinewidth": 1,
              "tickcolor": "rgb(36,36,36)",
              "ticks": "outside"
             }
            },
            "marker": {
             "colorbar": {
              "outlinewidth": 1,
              "tickcolor": "rgb(36,36,36)",
              "ticks": "outside"
             }
            },
            "type": "scatter3d"
           }
          ],
          "scattercarpet": [
           {
            "marker": {
             "colorbar": {
              "outlinewidth": 1,
              "tickcolor": "rgb(36,36,36)",
              "ticks": "outside"
             }
            },
            "type": "scattercarpet"
           }
          ],
          "scattergeo": [
           {
            "marker": {
             "colorbar": {
              "outlinewidth": 1,
              "tickcolor": "rgb(36,36,36)",
              "ticks": "outside"
             }
            },
            "type": "scattergeo"
           }
          ],
          "scattergl": [
           {
            "marker": {
             "colorbar": {
              "outlinewidth": 1,
              "tickcolor": "rgb(36,36,36)",
              "ticks": "outside"
             }
            },
            "type": "scattergl"
           }
          ],
          "scattermap": [
           {
            "marker": {
             "colorbar": {
              "outlinewidth": 1,
              "tickcolor": "rgb(36,36,36)",
              "ticks": "outside"
             }
            },
            "type": "scattermap"
           }
          ],
          "scattermapbox": [
           {
            "marker": {
             "colorbar": {
              "outlinewidth": 1,
              "tickcolor": "rgb(36,36,36)",
              "ticks": "outside"
             }
            },
            "type": "scattermapbox"
           }
          ],
          "scatterpolar": [
           {
            "marker": {
             "colorbar": {
              "outlinewidth": 1,
              "tickcolor": "rgb(36,36,36)",
              "ticks": "outside"
             }
            },
            "type": "scatterpolar"
           }
          ],
          "scatterpolargl": [
           {
            "marker": {
             "colorbar": {
              "outlinewidth": 1,
              "tickcolor": "rgb(36,36,36)",
              "ticks": "outside"
             }
            },
            "type": "scatterpolargl"
           }
          ],
          "scatterternary": [
           {
            "marker": {
             "colorbar": {
              "outlinewidth": 1,
              "tickcolor": "rgb(36,36,36)",
              "ticks": "outside"
             }
            },
            "type": "scatterternary"
           }
          ],
          "surface": [
           {
            "colorbar": {
             "outlinewidth": 1,
             "tickcolor": "rgb(36,36,36)",
             "ticks": "outside"
            },
            "colorscale": [
             [
              0,
              "#440154"
             ],
             [
              0.1111111111111111,
              "#482878"
             ],
             [
              0.2222222222222222,
              "#3e4989"
             ],
             [
              0.3333333333333333,
              "#31688e"
             ],
             [
              0.4444444444444444,
              "#26828e"
             ],
             [
              0.5555555555555556,
              "#1f9e89"
             ],
             [
              0.6666666666666666,
              "#35b779"
             ],
             [
              0.7777777777777778,
              "#6ece58"
             ],
             [
              0.8888888888888888,
              "#b5de2b"
             ],
             [
              1,
              "#fde725"
             ]
            ],
            "type": "surface"
           }
          ],
          "table": [
           {
            "cells": {
             "fill": {
              "color": "rgb(237,237,237)"
             },
             "line": {
              "color": "white"
             }
            },
            "header": {
             "fill": {
              "color": "rgb(217,217,217)"
             },
             "line": {
              "color": "white"
             }
            },
            "type": "table"
           }
          ]
         },
         "layout": {
          "annotationdefaults": {
           "arrowhead": 0,
           "arrowwidth": 1
          },
          "autotypenumbers": "strict",
          "coloraxis": {
           "colorbar": {
            "outlinewidth": 1,
            "tickcolor": "rgb(36,36,36)",
            "ticks": "outside"
           }
          },
          "colorscale": {
           "diverging": [
            [
             0,
             "rgb(103,0,31)"
            ],
            [
             0.1,
             "rgb(178,24,43)"
            ],
            [
             0.2,
             "rgb(214,96,77)"
            ],
            [
             0.3,
             "rgb(244,165,130)"
            ],
            [
             0.4,
             "rgb(253,219,199)"
            ],
            [
             0.5,
             "rgb(247,247,247)"
            ],
            [
             0.6,
             "rgb(209,229,240)"
            ],
            [
             0.7,
             "rgb(146,197,222)"
            ],
            [
             0.8,
             "rgb(67,147,195)"
            ],
            [
             0.9,
             "rgb(33,102,172)"
            ],
            [
             1,
             "rgb(5,48,97)"
            ]
           ],
           "sequential": [
            [
             0,
             "#440154"
            ],
            [
             0.1111111111111111,
             "#482878"
            ],
            [
             0.2222222222222222,
             "#3e4989"
            ],
            [
             0.3333333333333333,
             "#31688e"
            ],
            [
             0.4444444444444444,
             "#26828e"
            ],
            [
             0.5555555555555556,
             "#1f9e89"
            ],
            [
             0.6666666666666666,
             "#35b779"
            ],
            [
             0.7777777777777778,
             "#6ece58"
            ],
            [
             0.8888888888888888,
             "#b5de2b"
            ],
            [
             1,
             "#fde725"
            ]
           ],
           "sequentialminus": [
            [
             0,
             "#440154"
            ],
            [
             0.1111111111111111,
             "#482878"
            ],
            [
             0.2222222222222222,
             "#3e4989"
            ],
            [
             0.3333333333333333,
             "#31688e"
            ],
            [
             0.4444444444444444,
             "#26828e"
            ],
            [
             0.5555555555555556,
             "#1f9e89"
            ],
            [
             0.6666666666666666,
             "#35b779"
            ],
            [
             0.7777777777777778,
             "#6ece58"
            ],
            [
             0.8888888888888888,
             "#b5de2b"
            ],
            [
             1,
             "#fde725"
            ]
           ]
          },
          "colorway": [
           "#1F77B4",
           "#FF7F0E",
           "#2CA02C",
           "#D62728",
           "#9467BD",
           "#8C564B",
           "#E377C2",
           "#7F7F7F",
           "#BCBD22",
           "#17BECF"
          ],
          "font": {
           "color": "rgb(36,36,36)"
          },
          "geo": {
           "bgcolor": "white",
           "lakecolor": "white",
           "landcolor": "white",
           "showlakes": true,
           "showland": true,
           "subunitcolor": "white"
          },
          "hoverlabel": {
           "align": "left"
          },
          "hovermode": "closest",
          "mapbox": {
           "style": "light"
          },
          "paper_bgcolor": "white",
          "plot_bgcolor": "white",
          "polar": {
           "angularaxis": {
            "gridcolor": "rgb(232,232,232)",
            "linecolor": "rgb(36,36,36)",
            "showgrid": false,
            "showline": true,
            "ticks": "outside"
           },
           "bgcolor": "white",
           "radialaxis": {
            "gridcolor": "rgb(232,232,232)",
            "linecolor": "rgb(36,36,36)",
            "showgrid": false,
            "showline": true,
            "ticks": "outside"
           }
          },
          "scene": {
           "xaxis": {
            "backgroundcolor": "white",
            "gridcolor": "rgb(232,232,232)",
            "gridwidth": 2,
            "linecolor": "rgb(36,36,36)",
            "showbackground": true,
            "showgrid": false,
            "showline": true,
            "ticks": "outside",
            "zeroline": false,
            "zerolinecolor": "rgb(36,36,36)"
           },
           "yaxis": {
            "backgroundcolor": "white",
            "gridcolor": "rgb(232,232,232)",
            "gridwidth": 2,
            "linecolor": "rgb(36,36,36)",
            "showbackground": true,
            "showgrid": false,
            "showline": true,
            "ticks": "outside",
            "zeroline": false,
            "zerolinecolor": "rgb(36,36,36)"
           },
           "zaxis": {
            "backgroundcolor": "white",
            "gridcolor": "rgb(232,232,232)",
            "gridwidth": 2,
            "linecolor": "rgb(36,36,36)",
            "showbackground": true,
            "showgrid": false,
            "showline": true,
            "ticks": "outside",
            "zeroline": false,
            "zerolinecolor": "rgb(36,36,36)"
           }
          },
          "shapedefaults": {
           "fillcolor": "black",
           "line": {
            "width": 0
           },
           "opacity": 0.3
          },
          "ternary": {
           "aaxis": {
            "gridcolor": "rgb(232,232,232)",
            "linecolor": "rgb(36,36,36)",
            "showgrid": false,
            "showline": true,
            "ticks": "outside"
           },
           "baxis": {
            "gridcolor": "rgb(232,232,232)",
            "linecolor": "rgb(36,36,36)",
            "showgrid": false,
            "showline": true,
            "ticks": "outside"
           },
           "bgcolor": "white",
           "caxis": {
            "gridcolor": "rgb(232,232,232)",
            "linecolor": "rgb(36,36,36)",
            "showgrid": false,
            "showline": true,
            "ticks": "outside"
           }
          },
          "title": {
           "x": 0.05
          },
          "xaxis": {
           "automargin": true,
           "gridcolor": "rgb(232,232,232)",
           "linecolor": "rgb(36,36,36)",
           "showgrid": false,
           "showline": true,
           "ticks": "outside",
           "title": {
            "standoff": 15
           },
           "zeroline": false,
           "zerolinecolor": "rgb(36,36,36)"
          },
          "yaxis": {
           "automargin": true,
           "gridcolor": "rgb(232,232,232)",
           "linecolor": "rgb(36,36,36)",
           "showgrid": false,
           "showline": true,
           "ticks": "outside",
           "title": {
            "standoff": 15
           },
           "zeroline": false,
           "zerolinecolor": "rgb(36,36,36)"
          }
         }
        },
        "title": {
         "font": {
          "color": "Black",
          "size": 22
         },
         "text": "<b>Topics over Time</b>",
         "x": 0.4,
         "xanchor": "center",
         "y": 0.95,
         "yanchor": "top"
        },
        "width": 1250,
        "xaxis": {
         "showgrid": true
        },
        "yaxis": {
         "showgrid": true,
         "title": {
          "text": "Frequency"
         }
        }
       }
      }
     },
     "metadata": {},
     "output_type": "display_data"
    },
    {
     "name": "stdout",
     "output_type": "stream",
     "text": [
      "\n",
      "Top 5 Topics:\n",
      "\n",
      "Topic 0:\n",
      "[('nvda', np.float64(0.04064991725869733)), ('stock', np.float64(0.032447948736335)), ('share', np.float64(0.029741519480513866)), ('split', np.float64(0.02264642584892377)), ('min', np.float64(0.020712839021477688)), ('last', np.float64(0.01999081402372119)), ('price', np.float64(0.017578811761796095)), ('nvidia', np.float64(0.01626775465130065)), ('move', np.float64(0.01618730982623291)), ('target', np.float64(0.016145526675843364))]\n",
      "\n",
      "Topic 1:\n",
      "[('trade', np.float64(0.01949056741031948)), ('stock', np.float64(0.01607299336312297)), ('market', np.float64(0.01578219480332602)), ('nvda', np.float64(0.013546797820766787)), ('day', np.float64(0.013202241831364848)), ('like', np.float64(0.012148146643196437)), ('amd', np.float64(0.012123324977872017)), ('spi', np.float64(0.01183670559488808)), ('watch', np.float64(0.01147663356078633)), ('break', np.float64(0.011220339759126029))]\n",
      "\n",
      "Topic 2:\n",
      "[('bullish', np.float64(0.15735486920016473)), ('green', np.float64(0.060152519486740906)), ('nvda', np.float64(0.052509931191873145)), ('bearish', np.float64(0.05158880373724781)), ('flow', np.float64(0.040155624446198475)), ('top', np.float64(0.02965114835367037)), ('chart', np.float64(0.021779892773944473)), ('today', np.float64(0.021397630141266277)), ('amd', np.float64(0.01967519839197188)), ('engulf', np.float64(0.01745842218102746))]\n",
      "\n",
      "Topic 3:\n",
      "[('elliottwav', np.float64(0.1952685167843253)), ('updat', np.float64(0.13637922047179626)), ('box', np.float64(0.11744654702355302)), ('blue', np.float64(0.11585457699220149)), ('view', np.float64(0.1126541743128589)), ('area', np.float64(0.09906982069157395)), ('place', np.float64(0.09333686487474539)), ('trade', np.float64(0.0922212296122902)), ('higher', np.float64(0.08543712224590427)), ('weekend', np.float64(0.07120642465906116))]\n",
      "\n",
      "Topic 4:\n",
      "[('sentiment', np.float64(0.4468170167770892)), ('paid', np.float64(0.36967337992187693)), ('strike', np.float64(0.3611479498512309)), ('premium', np.float64(0.33618511457177264)), ('call', np.float64(0.18696931707212658)), ('bullish', np.float64(0.17077138009551285)), ('price', np.float64(0.15122882901434817)), ('nvda', np.float64(0.048052296850219306)), ('comment', np.float64(0.026798331783117725)), ('bearish', np.float64(0.024838022514497515))]\n",
      "🐂 Bullish Topics: [np.int64(16), np.int64(18)]\n",
      "🐻 Bearish Topics: []\n"
     ]
    }
   ],
   "source": [
    "# Step 6: Results Evaluation\n",
    "import matplotlib.pyplot as plt\n",
    "\n",
    "\n",
    "# 1. check the topic overview\n",
    "print(topic_model.get_topic_info().head(10))     # top 10 topic \n",
    "print(topic_model.get_topic(0))                  # check topic 0\n",
    "# 2. check the topic distribution\n",
    "fig_hierarchy = topic_model.visualize_hierarchy()\n",
    "fig_hierarchy.show()\n",
    "\n",
    "# 3. Visualize topic distribution \n",
    "fig_barchart = topic_model.visualize_barchart(top_n_topics=10)\n",
    "fig_barchart.show()\n",
    "\n",
    "fig_topics = topic_model.visualize_topics()\n",
    "fig_topics.show()\n",
    "\n",
    "\n",
    "topic_counts = df[\"topic\"].value_counts()\n",
    "print(topic_counts.head(10))\n",
    "\n",
    "# 4. Visualize topics over time\n",
    "df[\"Date\"] = pd.to_datetime(df[\"Date\"], errors='coerce')\n",
    "df_clean = df.dropna(subset=[\"Date\", \"Processed_Tweet\", \"topic\"])\n",
    "docs = df_clean[\"Processed_Tweet\"].tolist()\n",
    "timestamps = df_clean[\"Date\"].tolist()\n",
    "topics = df_clean[\"topic\"].tolist()\n",
    "topics_over_time = topic_model.topics_over_time(docs, timestamps, topics=topics)\n",
    "fig = topic_model.visualize_topics_over_time(topics_over_time)\n",
    "fig.show()\n",
    "\n",
    "# 5. print top 5 topics\n",
    "print(\"\\nTop 5 Topics:\")\n",
    "for topic_num in range(5):\n",
    "    print(f\"\\nTopic {topic_num}:\")\n",
    "    print(topic_model.get_topic(topic_num))\n",
    "\n",
    "\n",
    "# 6. print top 5 topics with their keywords\n",
    "topic_keywords = {}\n",
    "for topic_num in df[\"topic\"].unique():\n",
    "    words = topic_model.get_topic(topic_num)\n",
    "    keywords = [word for word, _ in words[:10]]\n",
    "    topic_keywords[topic_num] = keywords\n",
    "\n",
    "# 7. Manual setup of bullish / bearish keyword library (extensible)\n",
    "bullish_words = {\"growth\", \"beat\", \"record\", \"strong\", \"buy\", \"profit\", \"boom\", \"innovation\", \"optimism\"}\n",
    "bearish_words = {\"loss\", \"fear\", \"fall\", \"crash\", \"bad\", \"bear\", \"cut\", \"warning\", \"down\", \"panic\"}\n",
    "\n",
    "# Determine the number of positive/negative sentiment words in each topic keyword\n",
    "bullish_topics = []\n",
    "bearish_topics = []\n",
    "\n",
    "for topic_num, keywords in topic_keywords.items():\n",
    "    score = sum(kw in bullish_words for kw in keywords) - sum(kw in bearish_words for kw in keywords)\n",
    "    if score >= 1:\n",
    "        bullish_topics.append(topic_num)\n",
    "    elif score <= -1:\n",
    "        bearish_topics.append(topic_num)\n",
    "\n",
    "print(\"🐂 Bullish Topics:\", bullish_topics)\n",
    "print(\"🐻 Bearish Topics:\", bearish_topics)\n",
    "\n",
    "\n"
   ]
  },
  {
   "cell_type": "markdown",
   "metadata": {},
   "source": [
    "# Trading Strategy"
   ]
  },
  {
   "cell_type": "code",
   "execution_count": null,
   "metadata": {},
   "outputs": [
    {
     "name": "stdout",
     "output_type": "stream",
     "text": [
      "Topic 0: Best thresholds => positive: 0.01, negative: -0.09 ; Cumulative Return: 98.48%\n",
      "Topic 1: Best thresholds => positive: 0.10, negative: -0.10 ; Cumulative Return: 42.82%\n",
      "Topic 2: Best thresholds => positive: 0.01, negative: -0.10 ; Cumulative Return: 54.84%\n",
      "Topic 3: Best thresholds => positive: 0.06, negative: -0.09 ; Cumulative Return: 60.95%\n",
      "Topic 4: Best thresholds => positive: 0.01, negative: -0.01 ; Cumulative Return: -7.31%\n",
      "Topic 5: Best thresholds => positive: 0.01, negative: -0.01 ; Cumulative Return: 17.82%\n",
      "Topic 6: Best thresholds => positive: 0.01, negative: -0.01 ; Cumulative Return: -6.87%\n",
      "Topic 7: Best thresholds => positive: 0.01, negative: -0.01 ; Cumulative Return: -1.42%\n",
      "Topic 8: Best thresholds => positive: 0.01, negative: -0.01 ; Cumulative Return: -24.57%\n",
      "Topic 9: Best thresholds => positive: 0.01, negative: -0.01 ; Cumulative Return: 13.40%\n",
      "Topic 10: Best thresholds => positive: 0.01, negative: -0.01 ; Cumulative Return: 0.44%\n",
      "Topic 11: Best thresholds => positive: 0.01, negative: -0.01 ; Cumulative Return: -0.00%\n",
      "Topic 12: Best thresholds => positive: 0.01, negative: -0.01 ; Cumulative Return: 0.00%\n",
      "Topic 13: Best thresholds => positive: 0.01, negative: -0.01 ; Cumulative Return: 18.19%\n",
      "Topic 14: Best thresholds => positive: 0.01, negative: -0.01 ; Cumulative Return: -9.33%\n",
      "Topic 15: Best thresholds => positive: 0.01, negative: -0.01 ; Cumulative Return: 1.84%\n",
      "Topic 16: Best thresholds => positive: 0.01, negative: -0.01 ; Cumulative Return: 11.24%\n",
      "Topic 17: Best thresholds => positive: 0.01, negative: -0.01 ; Cumulative Return: 0.69%\n",
      "Topic 18: Best thresholds => positive: 0.01, negative: -0.01 ; Cumulative Return: 3.22%\n",
      "Topic 19: Best thresholds => positive: 0.01, negative: -0.01 ; Cumulative Return: 13.38%\n",
      "Topic 20: Best thresholds => positive: 0.01, negative: -0.01 ; Cumulative Return: 4.71%\n",
      "Topic 21: Best thresholds => positive: 0.01, negative: -0.01 ; Cumulative Return: 2.77%\n",
      "Topic 22: Best thresholds => positive: 0.01, negative: -0.01 ; Cumulative Return: 0.00%\n",
      "Topic 23: Best thresholds => positive: 0.01, negative: -0.01 ; Cumulative Return: 0.00%\n",
      "Topic 24: Best thresholds => positive: 0.01, negative: -0.01 ; Cumulative Return: 4.14%\n",
      "Topic 25: Best thresholds => positive: 0.01, negative: -0.01 ; Cumulative Return: 0.00%\n",
      "Topic 26: Best thresholds => positive: 0.01, negative: -0.01 ; Cumulative Return: 29.07%\n",
      "Topic 27: Best thresholds => positive: 0.01, negative: -0.01 ; Cumulative Return: 0.00%\n",
      "Topic 28: Best thresholds => positive: 0.01, negative: -0.01 ; Cumulative Return: 3.44%\n",
      "\n",
      "Cumulative Returns for Optimized Strategies:\n"
     ]
    },
    {
     "data": {
      "image/png": "[encoded data removed]",
      "text/plain": [
       "<Figure size 1500x800 with 1 Axes>"
      ]
     },
     "metadata": {},
     "output_type": "display_data"
    },
    {
     "name": "stdout",
     "output_type": "stream",
     "text": [
      "\n",
      "Final Returns by Optimized Thematic Strategy:\n",
      "Topic 0 (Optimized): 98.48%\n",
      "Topic 1 (Optimized): 42.82%\n",
      "Topic 2 (Optimized): 54.84%\n",
      "Topic 3 (Optimized): 60.95%\n",
      "Topic 4 (Optimized): -7.31%\n",
      "Topic 5 (Optimized): 17.82%\n",
      "Topic 6 (Optimized): -6.87%\n",
      "Topic 7 (Optimized): -1.42%\n",
      "Topic 8 (Optimized): -24.57%\n",
      "Topic 9 (Optimized): 13.40%\n",
      "Topic 10 (Optimized): 0.44%\n",
      "Topic 11 (Optimized): -0.00%\n",
      "Topic 12 (Optimized): 0.00%\n",
      "Topic 13 (Optimized): 18.19%\n",
      "Topic 14 (Optimized): -9.33%\n",
      "Topic 15 (Optimized): 1.84%\n",
      "Topic 16 (Optimized): 11.24%\n",
      "Topic 17 (Optimized): 0.69%\n",
      "Topic 18 (Optimized): 3.22%\n",
      "Topic 19 (Optimized): 13.38%\n",
      "Topic 20 (Optimized): 4.71%\n",
      "Topic 21 (Optimized): 2.77%\n",
      "Topic 22 (Optimized): 0.00%\n",
      "Topic 23 (Optimized): 0.00%\n",
      "Topic 24 (Optimized): 4.14%\n",
      "Topic 25 (Optimized): 0.00%\n",
      "Topic 26 (Optimized): 29.07%\n",
      "Topic 27 (Optimized): 0.00%\n",
      "Topic 28 (Optimized): 3.44%\n",
      "Buy & Hold: 763.63%\n"
     ]
    },
    {
     "name": "stderr",
     "output_type": "stream",
     "text": [
      "Exception ignored in: <function ResourceTracker.__del__ at 0x1042e11c0>\n",
      "Traceback (most recent call last):\n",
      "  File \"/Library/Frameworks/Python.framework/Versions/3.13/lib/python3.13/multiprocessing/resource_tracker.py\", line 82, in __del__\n",
      "  File \"/Library/Frameworks/Python.framework/Versions/3.13/lib/python3.13/multiprocessing/resource_tracker.py\", line 91, in _stop\n",
      "  File \"/Library/Frameworks/Python.framework/Versions/3.13/lib/python3.13/multiprocessing/resource_tracker.py\", line 116, in _stop_locked\n",
      "ChildProcessError: [Errno 10] No child processes\n",
      "Exception ignored in: <function ResourceTracker.__del__ at 0x107a011c0>\n",
      "Traceback (most recent call last):\n",
      "  File \"/Library/Frameworks/Python.framework/Versions/3.13/lib/python3.13/multiprocessing/resource_tracker.py\", line 82, in __del__\n",
      "  File \"/Library/Frameworks/Python.framework/Versions/3.13/lib/python3.13/multiprocessing/resource_tracker.py\", line 91, in _stop\n",
      "  File \"/Library/Frameworks/Python.framework/Versions/3.13/lib/python3.13/multiprocessing/resource_tracker.py\", line 116, in _stop_locked\n",
      "ChildProcessError: [Errno 10] No child processes\n",
      "Exception ignored in: <function ResourceTracker.__del__ at 0x1026711c0>\n",
      "Traceback (most recent call last):\n",
      "  File \"/Library/Frameworks/Python.framework/Versions/3.13/lib/python3.13/multiprocessing/resource_tracker.py\", line 82, in __del__\n",
      "  File \"/Library/Frameworks/Python.framework/Versions/3.13/lib/python3.13/multiprocessing/resource_tracker.py\", line 91, in _stop\n",
      "  File \"/Library/Frameworks/Python.framework/Versions/3.13/lib/python3.13/multiprocessing/resource_tracker.py\", line 116, in _stop_locked\n",
      "ChildProcessError: [Errno 10] No child processes\n",
      "Exception ignored in: <function ResourceTracker.__del__ at 0x1076991c0>\n",
      "Traceback (most recent call last):\n",
      "  File \"/Library/Frameworks/Python.framework/Versions/3.13/lib/python3.13/multiprocessing/resource_tracker.py\", line 82, in __del__\n",
      "  File \"/Library/Frameworks/Python.framework/Versions/3.13/lib/python3.13/multiprocessing/resource_tracker.py\", line 91, in _stop\n",
      "  File \"/Library/Frameworks/Python.framework/Versions/3.13/lib/python3.13/multiprocessing/resource_tracker.py\", line 116, in _stop_locked\n",
      "ChildProcessError: [Errno 10] No child processes\n"
     ]
    }
   ],
   "source": [
    "import pandas as pd\n",
    "import numpy as np\n",
    "\n",
    "# read the sentiment and price data\n",
    "price_df = pd.read_csv('../2_data/sentiment_price_vix_inner_aligned.csv')\n",
    "price_df['Date'] = pd.to_datetime(price_df['index'])\n",
    "price_df = price_df.set_index('Date')\n",
    "\n",
    "# read the sentiment data with topics\n",
    "df['Date'] = pd.to_datetime(df['Date'])\n",
    "daily_theme_sentiment = df.groupby(['Date', 'topic'])['sentiment_score'].mean().unstack()\n",
    "\n",
    "\n",
    "# 2. Grid Search for Optimal Thresholds\n",
    "positive_thresholds = np.arange(0.01, 0.11, 0.01)\n",
    "negative_thresholds = -np.arange(0.01, 0.11, 0.01)\n",
    "\n",
    "# store the best thresholds and returns for each topic\n",
    "best_thresholds_by_topic = {}\n",
    "\n",
    "# for each topic, perform grid search to find the best positive and negative thresholds\n",
    "for topic in daily_theme_sentiment.columns:\n",
    "    best_return = -np.inf\n",
    "    best_thresh = (None, None)\n",
    "    \n",
    "    # use grid search to find the best combination of positive and negative thresholds\n",
    "    for pos_thresh in positive_thresholds:\n",
    "        for neg_thresh in negative_thresholds:\n",
    "            # calculate the rolling mean sentiment signal for the topic\n",
    "            signal = daily_theme_sentiment[topic].rolling(3, min_periods=1).mean()\n",
    "            # generate the position based on the thresholds\n",
    "            position = (signal > pos_thresh).astype(int) - (signal < neg_thresh).astype(int)\n",
    "            \n",
    "            # Construct strategy data and align price data\n",
    "            strategy_data = pd.DataFrame({'position': position})\n",
    "            strategy_data = strategy_data.merge(price_df[['nvda_close']], left_index=True, right_index=True, how='inner')\n",
    "            \n",
    "            # Calculating Daily Returns on Stocks\n",
    "            returns = price_df['nvda_close'].pct_change().fillna(0)\n",
    "            # calculate cumulative returns for the strategy\n",
    "            strategy_returns = strategy_data['position'].shift(1) * returns.loc[strategy_data.index]\n",
    "            cum_return = (1 + strategy_returns).prod() - 1\n",
    "            \n",
    "            # Update the optimal threshold combination for this topic\n",
    "            if cum_return > best_return:\n",
    "                best_return = cum_return\n",
    "                best_thresh = (pos_thresh, neg_thresh)\n",
    "    \n",
    "    best_thresholds_by_topic[topic] = (best_thresh, best_return)\n",
    "    print(f\"Topic {topic}: Best thresholds => positive: {best_thresh[0]:.2f}, negative: {best_thresh[1]:.2f} ; Cumulative Return: {best_return:.2%}\")\n",
    "\n",
    "\n",
    "# 3. calculate cumulative returns for each strategy and plot them\n",
    "returns = price_df['nvda_close'].pct_change().fillna(0)\n",
    "\n",
    "plt.figure(figsize=(15, 8))\n",
    "\n",
    "# Start by plotting the payoff curve of the “buy and hold” strategy\n",
    "cum_returns_buy_and_hold = (1 + returns).cumprod()\n",
    "plt.plot(cum_returns_buy_and_hold.index, cum_returns_buy_and_hold, label='Buy & Hold', color='black', linewidth=2)\n",
    "\n",
    "# Plot the strategy payoff curve for each theme using the optimal threshold portfolio\n",
    "print(\"\\nCumulative Returns for Optimized Strategies:\")\n",
    "for topic, (best_thresh, best_return) in best_thresholds_by_topic.items():\n",
    "    pos_thresh, neg_thresh = best_thresh\n",
    "\n",
    "    # Re-generate the signal using the optimal threshold\n",
    "    signal = daily_theme_sentiment[topic].rolling(3, min_periods=1).mean()\n",
    "    position = (signal > pos_thresh).astype(int) - (signal < neg_thresh).astype(int)\n",
    "\n",
    "    # data alignment\n",
    "    strategy_data = pd.DataFrame({'position': position})\n",
    "    strategy_data = pd.merge(\n",
    "        strategy_data,\n",
    "        price_df[['nvda_close']],\n",
    "        left_index=True,\n",
    "        right_index=True,\n",
    "        how='inner'\n",
    "    )\n",
    "\n",
    "    # calculate cumulative returns for the strategy\n",
    "    # make sure to shift the position to avoid lookahead bias\n",
    "    strategy_returns = strategy_data['position'].shift(1) * returns.loc[strategy_data.index]\n",
    "    cum_strategy_returns = (1 + strategy_returns).cumprod()\n",
    "\n",
    "    # plot\n",
    "    plt.plot(cum_strategy_returns.index, cum_strategy_returns, label=f'Topic {topic} (Optimized)', alpha=0.7)\n",
    "\n",
    "plt.title('Cumulative Returns: Optimized Theme Strategies vs Buy & Hold')\n",
    "plt.xlabel('Date')\n",
    "plt.ylabel('Cumulative Return')\n",
    "plt.legend(bbox_to_anchor=(1.05, 1), loc='upper left')\n",
    "plt.grid(True)\n",
    "plt.tight_layout()\n",
    "plt.show()\n",
    "\n",
    "# Print the final payoff for each optimal strategy\n",
    "print(\"\\nFinal Returns by Optimized Thematic Strategy:\")\n",
    "for topic, (best_thresh, best_return) in best_thresholds_by_topic.items():\n",
    "\n",
    "    print(f\"Topic {topic} (Optimized): {best_return:.2%}\")\n",
    "\n",
    "print(f\"Buy & Hold: {cum_returns_buy_and_hold.iloc[-1]-1:.2%}\")"
   ]
  }
 ],
 "metadata": {
  "kernelspec": {
   "display_name": "Python 3",
   "language": "python",
   "name": "python3"
  },
  "language_info": {
   "codemirror_mode": {
    "name": "ipython",
    "version": 3
   },
   "file_extension": ".py",
   "mimetype": "text/x-python",
   "name": "python",
   "nbconvert_exporter": "python",
   "pygments_lexer": "ipython3",
   "version": "3.13.3"
  }
 },
 "nbformat": 4,
 "nbformat_minor": 4
}
