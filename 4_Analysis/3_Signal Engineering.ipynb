{
 "cells": [
  {
   "cell_type": "markdown",
   "id": "edf10c89",
   "metadata": {},
   "source": [
    "# Rule-based Signal Generation Based on Sentiment Score\n",
    "- We use daily_finbert (a sentiment score derived from financial news) as the base indicator to generate discrete trading signals (Buy / Hold / Sell), based on its distribution (mean ± standard deviation)."
   ]
  },
  {
   "cell_type": "code",
   "execution_count": null,
   "id": "c6c18893",
   "metadata": {},
   "outputs": [],
   "source": [
    "import pandas as pd\n",
    "\n",
    "merged = pd.read_csv(\"../2_data/sentiment_price_vix_aligned.csv\", parse_dates=[\"created_at\"])\n",
    "\n",
    "# check col\n",
    "print(merged.columns)\n",
    "print(merged[[\"created_at\", \"daily_finbert\"]].head())"
   ]
  },
  {
   "cell_type": "code",
   "execution_count": null,
   "id": "67e12359",
   "metadata": {},
   "outputs": [],
   "source": [
    "# threshold\n",
    "mu = merged[\"daily_finbert\"].mean()\n",
    "sigma = merged[\"daily_finbert\"].std()\n",
    "\n",
    "upper = mu + 0.5*sigma     # sentiment score is higher than threshold -> buy\n",
    "lower = mu - 0.5*sigma     # sentiment score is lower than threshold -> sold\n",
    "\n",
    "print(f\"avg: {mu:.4f}, sd: {sigma:.4f}\")\n",
    "print(f\"Buy if > {upper:.4f}, Sell if < {lower:.4f}\")\n",
    "\n",
    "# transaction signal\n",
    "def generate_signal(score):\n",
    "    if score > upper:\n",
    "        return 1    # Buy\n",
    "    elif score < lower:\n",
    "        return -1   # Sell\n",
    "    else:\n",
    "        return 0    # Hold\n",
    "\n",
    "merged[\"signal\"] = merged[\"daily_finbert\"].apply(generate_signal)\n",
    "\n",
    "print(merged[[\"created_at\", \"daily_finbert\", \"signal\"]].head(10))\n",
    "\n",
    "# csv\n",
    "merged.to_csv(\"sentiment_signal_full.csv\", index=False)"
   ]
  }
 ],
 "metadata": {
  "kernelspec": {
   "display_name": "venv",
   "language": "python",
   "name": "python3"
  },
  "language_info": {
   "codemirror_mode": {
    "name": "ipython",
    "version": 3
   },
   "file_extension": ".py",
   "mimetype": "text/x-python",
   "name": "python",
   "nbconvert_exporter": "python",
   "pygments_lexer": "ipython3",
   "version": "3.13.3"
  }
 },
 "nbformat": 4,
 "nbformat_minor": 5
}
