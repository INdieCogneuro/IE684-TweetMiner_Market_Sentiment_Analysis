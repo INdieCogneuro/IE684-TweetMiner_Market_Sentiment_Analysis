{
    "cells": [
     {
      "cell_type": "markdown",
      "metadata": {},
      "source": [
       "# 用户参与度与情感传播分析\n",
       "\n",
       "本notebook主要完成以下任务：\n",
       "1. 基于点赞数的用户分层分析\n",
       "2. 高人气推文与普通推文的情感质量对比\n",
       "3. 核心用户与外围用户的情感传播分析"
      ]
     },
     {
      "cell_type": "code",
      "execution_count": null,
      "metadata": {},
      "outputs": [],
      "source": [
       "# 导入必要的库\n",
       "import pandas as pd\n",
       "import numpy as np\n",
       "import matplotlib.pyplot as plt\n",
       "import seaborn as sns\n",
       "import networkx as nx\n",
       "from datetime import datetime, timedelta\n",
       "import warnings\n",
       "warnings.filterwarnings('ignore')\n",
       "\n",
       "# 设置中文字体\n",
       "plt.rcParams['font.sans-serif'] = ['Arial Unicode MS']\n",
       "plt.rcParams['axes.unicode_minus'] = False\n",
       "\n",
       "# 设置图形风格\n",
       "plt.style.use('seaborn')"
      ]
     },
     {
      "cell_type": "markdown",
      "metadata": {},
      "source": [
       "## 1. 数据加载与预处理"
      ]
     },
     {
      "cell_type": "code",
      "execution_count": null,
      "metadata": {},
      "outputs": [],
      "source": [
       "# 加载数据\n",
       "df = pd.read_csv(\"../2_data/finbert_scored_tweets.csv\", parse_dates=[\"created_at\"])\n",
       "\n",
       "# 处理点赞数\n",
       "def extract_likes(likes_dict):\n",
       "    if pd.isna(likes_dict):\n",
       "        return 0\n",
       "    try:\n",
       "        if isinstance(likes_dict, str):\n",
       "            import ast\n",
       "            likes_dict = ast.literal_eval(likes_dict)\n",
       "        return likes_dict.get('total', 0)\n",
       "    except:\n",
       "        return 0\n",
       "\n",
       "df['likes'] = df['likes'].apply(extract_likes)\n",
       "\n",
       "# 处理用户信息\n",
       "def extract_username(user_dict):\n",
       "    if pd.isna(user_dict):\n",
       "        return 'unknown'\n",
       "    try:\n",
       "        if isinstance(user_dict, str):\n",
       "            import ast\n",
       "            user_dict = ast.literal_eval(user_dict)\n",
       "        return user_dict.get('username', 'unknown')\n",
       "    except:\n",
       "        return 'unknown'\n",
       "\n",
       "df['username'] = df['user'].apply(extract_username)\n",
       "\n",
       "print(f\"总推文数: {len(df)}\")\n",
       "print(f\"总用户数: {df['username'].nunique()}\")\n",
       "print(f\"总点赞数: {df['likes'].sum()}\")"
      ]
     },
     {
      "cell_type": "markdown",
      "metadata": {},
      "source": [
       "## 2. 基于点赞数的用户分层分析"
      ]
     },
     {
      "cell_type": "code",
      "execution_count": null,
      "metadata": {},
      "outputs": [],
      "source": [
       "# 计算用户总点赞数\n",
       "user_engagement = df.groupby('username').agg({\n",
       "    'likes': 'sum',\n",
       "    'finbert_score': ['mean', 'std', 'count']\n",
       "}).reset_index()\n",
       "\n",
       "user_engagement.columns = ['username', 'total_likes', 'avg_sentiment', 'sentiment_std', 'tweet_count']\n",
       "\n",
       "# 定义用户分层标准\n",
       "like_threshold = user_engagement['total_likes'].quantile(0.95)  # 前5%的用户\n",
       "user_engagement['user_type'] = np.where(user_engagement['total_likes'] >= like_threshold, '高人气用户', '普通用户')\n",
       "\n",
       "# 展示用户分层统计\n",
       "print(\"用户分层统计:\")\n",
       "print(user_engagement.groupby('user_type').agg({\n",
       "    'username': 'count',\n",
       "    'total_likes': 'mean',\n",
       "    'avg_sentiment': 'mean',\n",
       "    'tweet_count': 'mean'\n",
       "}).round(2))\n",
       "\n",
       "# 可视化用户分层\n",
       "plt.figure(figsize=(12, 6))\n",
       "sns.boxplot(x='user_type', y='avg_sentiment', data=user_engagement)\n",
       "plt.title('不同用户类型的情感分布')\n",
       "plt.xlabel('用户类型')\n",
       "plt.ylabel('平均情感分数')\n",
       "plt.show()"
      ]
     },
     {
      "cell_type": "markdown",
      "metadata": {},
      "source": [
       "## 3. 高人气推文与普通推文的情感质量对比"
      ]
     },
     {
      "cell_type": "code",
      "execution_count": null,
      "metadata": {},
      "outputs": [],
      "source": [
       "# 定义高人气推文标准\n",
       "tweet_like_threshold = df['likes'].quantile(0.95)  # 前5%的推文\n",
       "df['tweet_type'] = np.where(df['likes'] >= tweet_like_threshold, '高人气推文', '普通推文')\n",
       "\n",
       "# 计算情感统计\n",
       "tweet_sentiment_stats = df.groupby('tweet_type').agg({\n",
       "    'finbert_score': ['count', 'mean', 'std', 'min', 'max'],\n",
       "    'likes': 'mean'\n",
       "}).round(4)\n",
       "\n",
       "print(\"推文情感统计:\")\n",
       "print(tweet_sentiment_stats)\n",
       "\n",
       "# 可视化情感分布\n",
       "plt.figure(figsize=(12, 6))\n",
       "sns.violinplot(x='tweet_type', y='finbert_score', data=df)\n",
       "plt.title('高人气推文与普通推文的情感分布')\n",
       "plt.xlabel('推文类型')\n",
       "plt.ylabel('情感分数')\n",
       "plt.show()"
      ]
     },
     {
      "cell_type": "markdown",
      "metadata": {},
      "source": [
       "## 4. 情感传播网络分析"
      ]
     },
     {
      "cell_type": "code",
      "execution_count": null,
      "metadata": {},
      "outputs": [],
      "source": [
       "# 创建用户交互网络\n",
       "def create_interaction_network(df, time_window=timedelta(hours=24)):\n",
       "    G = nx.DiGraph()\n",
       "    \n",
       "    # 按时间排序\n",
       "    df = df.sort_values('created_at')\n",
       "    \n",
       "    # 创建用户节点\n",
       "    for username in df['username'].unique():\n",
       "        user_sentiment = df[df['username'] == username]['finbert_score'].mean()\n",
       "        G.add_node(username, sentiment=user_sentiment)\n",
       "    \n",
       "    # 创建边（用户交互）\n",
       "    for i, row in df.iterrows():\n",
       "        current_time = row['created_at']\n",
       "        window_start = current_time - time_window\n",
       "        \n",
       "        # 查找时间窗口内的其他推文\n",
       "        window_tweets = df[(df['created_at'] >= window_start) & \n",
       "                          (df['created_at'] <= current_time)]\n",
       "        \n",
       "        # 添加边\n",
       "        for _, other_row in window_tweets.iterrows():\n",
       "            if row['username'] != other_row['username']:\n",
       "                G.add_edge(other_row['username'], row['username'])\n",
       "    \n",
       "    return G\n",
       "\n",
       "# 创建网络\n",
       "G = create_interaction_network(df)\n",
       "\n",
       "# 计算网络指标\n",
       "print(\"网络统计:\")\n",
       "print(f\"节点数: {G.number_of_nodes()}\")\n",
       "print(f\"边数: {G.number_of_edges()}\")\n",
       "\n",
       "# 识别核心用户（使用PageRank算法）\n",
       "pagerank = nx.pagerank(G)\n",
       "core_users = sorted(pagerank.items(), key=lambda x: x[1], reverse=True)[:10]\n",
       "\n",
       "print(\"\\n核心用户 (PageRank排名前10):\")\n",
       "for user, score in core_users:\n",
       "    print(f\"{user}: {score:.4f}\")\n",
       "\n",
       "# 可视化网络\n",
       "plt.figure(figsize=(15, 15))\n",
       "pos = nx.spring_layout(G, k=1, iterations=50)\n",
       "\n",
       "# 绘制节点\n",
       "node_colors = [G.nodes[node]['sentiment'] for node in G.nodes()]\n",
       "node_sizes = [pagerank[node] * 10000 for node in G.nodes()]\n",
       "\n",
       "nx.draw_networkx_nodes(G, pos, \n",
       "                      node_color=node_colors,\n",
       "                      node_size=node_sizes,\n",
       "                      cmap='RdYlBu',\n",
       "                      alpha=0.6)\n",
       "\n",
       "# 绘制边\n",
       "nx.draw_networkx_edges(G, pos, alpha=0.2)\n",
       "\n",
       "# 添加核心用户标签\n",
       "core_user_labels = {user: user for user, _ in core_users}\n",
       "nx.draw_networkx_labels(G, pos, labels=core_user_labels)\n",
       "\n",
       "plt.title('用户情感传播网络\\n(节点大小表示影响力，颜色表示情感倾向)')\n",
       "plt.colorbar(plt.cm.ScalarMappable(cmap='RdYlBu'), label='情感分数')\n",
       "plt.axis('off')\n",
       "plt.show()"
      ]
     },
     {
      "cell_type": "markdown",
      "metadata": {},
      "source": [
       "## 5. 保存分析结果"
      ]
     },
     {
      "cell_type": "code",
      "execution_count": null,
      "metadata": {},
      "outputs": [],
      "source": [
       "# 保存用户分层结果\n",
       "user_engagement.to_csv(\"../2_data/user_engagement_analysis.csv\", index=False)\n",
       "\n",
       "# 保存推文分类结果\n",
       "df[['username', 'created_at', 'likes', 'finbert_score', 'tweet_type']].to_csv(\"../2_data/tweet_engagement_analysis.csv\", index=False)\n",
       "\n",
       "print(\"分析结果已保存到文件\")"
      ]
     }
    ],
    "metadata": {
     "kernelspec": {
      "display_name": "Python 3",
      "language": "python",
      "name": "python3"
     },
     "language_info": {
      "codemirror_mode": {
       "name": "ipython",
       "version": 3
      },
      "file_extension": ".py",
      "mimetype": "text/x-python",
      "name": "python",
      "nbconvert_exporter": "python",
      "pygments_lexer": "ipython3",
      "version": "3.8.0"
     }
    },
    "nbformat": 4,
    "nbformat_minor": 4
   }