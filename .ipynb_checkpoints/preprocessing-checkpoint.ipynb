{
 "cells": [
  {
   "cell_type": "markdown",
   "id": "e521ecfb",
   "metadata": {},
   "source": [
    "- Just run second block of code..."
   ]
  },
  {
   "cell_type": "code",
   "execution_count": 1,
   "id": "ba28410f",
   "metadata": {},
   "outputs": [
    {
     "name": "stderr",
     "output_type": "stream",
     "text": [
      "[nltk_data] Downloading package punkt to\n",
      "[nltk_data]     C:\\Users\\81065\\AppData\\Roaming\\nltk_data...\n",
      "[nltk_data]   Package punkt is already up-to-date!\n",
      "[nltk_data] Downloading package stopwords to\n",
      "[nltk_data]     C:\\Users\\81065\\AppData\\Roaming\\nltk_data...\n",
      "[nltk_data]   Package stopwords is already up-to-date!\n"
     ]
    }
   ],
   "source": [
    "import pandas as pd\n",
    "import re\n",
    "import nltk\n",
    "from nltk.corpus import stopwords\n",
    "from nltk.stem import PorterStemmer\n",
    "from nltk.tokenize import word_tokenize\n",
    "\n",
    "nltk.download('punkt')\n",
    "nltk.download('stopwords')\n",
    "\n",
    "stop_words = set(stopwords.words('english'))\n",
    "stemmer = PorterStemmer()\n",
    "\n",
    "def clean_tweet(text):\n",
    "    text = str(text).lower()\n",
    "    text = re.sub(r\"http[s]?://\\S+\", \"\", text)  # drop http (they are just ad)\n",
    "    text = re.sub(r\"www\\.\\S+\", \"\", text)\n",
    "    text = re.sub(r\"@\\w+\", \"\", text)  # drop @\n",
    "    text = re.sub(r\"#\", \"\", text)  # keep hashtag\n",
    "    text = re.sub(r\"[^\\w\\s]\", \"\", text)  # drop punctuation\n",
    "    text = re.sub(r\"\\s+\", \" \", text).strip()  # drop unnecessary blank\n",
    "    return text\n",
    "\n",
    "df = pd.read_csv(\"Nvidia-tweets.csv\")\n",
    "df[\"clean_tweet\"] = df[\"Text\"].apply(clean_tweet)\n",
    "df[\"Datetime\"] = df[\"Datetime\"].astype(str).str.slice(0, 10)\n",
    "\n",
    "df.to_csv(\"nvidia_tweets_cleaned.csv\", index=False)"
   ]
  },
  {
   "cell_type": "markdown",
   "id": "734390d4",
   "metadata": {},
   "source": [
    "- Most tweets are just spam, ads...so build a simple filter to get rid of them"
   ]
  },
  {
   "cell_type": "code",
   "execution_count": 2,
   "id": "f60fca69",
   "metadata": {},
   "outputs": [
    {
     "name": "stderr",
     "output_type": "stream",
     "text": [
      "[nltk_data] Downloading package punkt to\n",
      "[nltk_data]     C:\\Users\\81065\\AppData\\Roaming\\nltk_data...\n",
      "[nltk_data]   Package punkt is already up-to-date!\n",
      "[nltk_data] Downloading package stopwords to\n",
      "[nltk_data]     C:\\Users\\81065\\AppData\\Roaming\\nltk_data...\n",
      "[nltk_data]   Package stopwords is already up-to-date!\n"
     ]
    },
    {
     "name": "stdout",
     "output_type": "stream",
     "text": [
      "total：100847，after filtering：18739，drop：82108\n",
      "save：nvidia_tweets_filtered_cleaned.csv\n"
     ]
    }
   ],
   "source": [
    "import pandas as pd\n",
    "import re\n",
    "import nltk\n",
    "from nltk.corpus import stopwords\n",
    "from nltk.stem import PorterStemmer\n",
    "from nltk.tokenize import word_tokenize\n",
    "\n",
    "nltk.download('punkt')\n",
    "nltk.download('stopwords')\n",
    "\n",
    "# stemmer\n",
    "stop_words = set(stopwords.words('english'))\n",
    "stemmer = PorterStemmer()\n",
    "\n",
    "# keyword filter\n",
    "advertising_keywords = [\n",
    "    \"learn trading\", \"get alerts\", \"get ideas\", \"get updates\", \"get analysis\",\n",
    "    \"welcome to discord\", \"welcome to the discord group\", \"bitcoin\", \"crypto\",\n",
    "    \"top analyst price target\", \"top analyst target price\", \"top analyst target for next week\",\n",
    "    \"🎯\", \"📈\", \"📉\", \"🚀\"\n",
    "]\n",
    "\n",
    "def is_advertising(text: str) -> bool:\n",
    "    \"\"\"if contains https or any keywords in filter，take it as ad\"\"\"\n",
    "    if not isinstance(text, str):\n",
    "        return False\n",
    "    txt = text.lower()\n",
    "    if 'https' in txt:\n",
    "        return True\n",
    "    return any(keyword in txt for keyword in advertising_keywords)\n",
    "\n",
    "def clean_tweet(text: str) -> str:\n",
    "    text = str(text).lower()\n",
    "    text = re.sub(r\"http[s]?://\\S+\", \"\", text)  # drop links\n",
    "    text = re.sub(r\"www\\.\\S+\", \"\", text)        # drop links\n",
    "    text = re.sub(r\"@\\w+\", \"\", text)            # drop @mention\n",
    "    text = re.sub(r\"#\", \"\", text)               # drop # but keep hashtag text\n",
    "    text = re.sub(r\"[^\\w\\s]\", \"\", text)         # drop punctuation and Emoji\n",
    "    text = re.sub(r\"\\s+\", \" \", text).strip()    # drop unnecessary blank\n",
    "\n",
    "    tokens = word_tokenize(text)\n",
    "    cleaned = [stemmer.stem(w) for w in tokens if w not in stop_words]\n",
    "    return \" \".join(cleaned)\n",
    "\n",
    "df = pd.read_csv(\"Nvidia-Tweets.csv\")\n",
    "\n",
    "# filter\n",
    "before_count = len(df)\n",
    "df = df[~df[\"Text\"].apply(is_advertising)].copy()\n",
    "after_count = len(df)\n",
    "print(f\"total：{before_count}，after filtering：{after_count}，drop：{before_count - after_count}\")\n",
    "\n",
    "# datetime\n",
    "df[\"clean_tweet\"] = df[\"Text\"].apply(clean_tweet)\n",
    "df[\"Datetime\"] = pd.to_datetime(df[\"Datetime\"], errors=\"coerce\").dt.date\n",
    "\n",
    "df.to_csv(\"nvidia_tweets_filtered_cleaned.csv\", index=False)\n",
    "print(\"save：nvidia_tweets_filtered_cleaned.csv\")"
   ]
  },
  {
   "cell_type": "code",
   "execution_count": null,
   "id": "cd4272ce",
   "metadata": {},
   "outputs": [],
   "source": []
  }
 ],
 "metadata": {
  "kernelspec": {
   "display_name": "Python 3 (ipykernel)",
   "language": "python",
   "name": "python3"
  },
  "language_info": {
   "codemirror_mode": {
    "name": "ipython",
    "version": 3
   },
   "file_extension": ".py",
   "mimetype": "text/x-python",
   "name": "python",
   "nbconvert_exporter": "python",
   "pygments_lexer": "ipython3",
   "version": "3.11.5"
  }
 },
 "nbformat": 4,
 "nbformat_minor": 5
}
